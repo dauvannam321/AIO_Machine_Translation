{
  "cells": [
    {
      "cell_type": "markdown",
      "metadata": {
        "id": "view-in-github",
        "colab_type": "text"
      },
      "source": [
        "<a href=\"https://colab.research.google.com/github/dauvannam321/AIO_Machine_Translation/blob/main/%5Bcolab_NMT%5DTransformer.ipynb\" target=\"_parent\"><img src=\"https://colab.research.google.com/assets/colab-badge.svg\" alt=\"Open In Colab\"/></a>"
      ]
    },
    {
      "cell_type": "markdown",
      "source": [
        "#VI-EN Machine Translation using BERT-to-GPT2 Model\n",
        "##AI VIETNAM\n",
        "**Dataset: IWSLT15-en-vi**\n",
        "\n",
        "**thai.nq07@gmail.com**"
      ],
      "metadata": {
        "id": "cnLHJ9PkahlQ"
      }
    },
    {
      "cell_type": "code",
      "execution_count": null,
      "metadata": {
        "colab": {
          "base_uri": "https://localhost:8080/"
        },
        "id": "F9fL_h5T8PhQ",
        "outputId": "6a15c79f-73d4-446e-932e-66b0c20f9126"
      },
      "outputs": [
        {
          "output_type": "stream",
          "name": "stdout",
          "text": [
            "Thu Jan 11 15:13:06 2024       \n",
            "+---------------------------------------------------------------------------------------+\n",
            "| NVIDIA-SMI 535.104.05             Driver Version: 535.104.05   CUDA Version: 12.2     |\n",
            "|-----------------------------------------+----------------------+----------------------+\n",
            "| GPU  Name                 Persistence-M | Bus-Id        Disp.A | Volatile Uncorr. ECC |\n",
            "| Fan  Temp   Perf          Pwr:Usage/Cap |         Memory-Usage | GPU-Util  Compute M. |\n",
            "|                                         |                      |               MIG M. |\n",
            "|=========================================+======================+======================|\n",
            "|   0  Tesla T4                       Off | 00000000:00:04.0 Off |                    0 |\n",
            "| N/A   52C    P8              10W /  70W |      0MiB / 15360MiB |      0%      Default |\n",
            "|                                         |                      |                  N/A |\n",
            "+-----------------------------------------+----------------------+----------------------+\n",
            "                                                                                         \n",
            "+---------------------------------------------------------------------------------------+\n",
            "| Processes:                                                                            |\n",
            "|  GPU   GI   CI        PID   Type   Process name                            GPU Memory |\n",
            "|        ID   ID                                                             Usage      |\n",
            "|=======================================================================================|\n",
            "|  No running processes found                                                           |\n",
            "+---------------------------------------------------------------------------------------+\n"
          ]
        }
      ],
      "source": [
        "!nvidia-smi"
      ]
    },
    {
      "cell_type": "code",
      "execution_count": null,
      "metadata": {
        "colab": {
          "base_uri": "https://localhost:8080/"
        },
        "id": "YcDsZmHz9tHh",
        "outputId": "31484d07-a9f0-462a-c0ee-7288e567ac9f"
      },
      "outputs": [
        {
          "output_type": "stream",
          "name": "stdout",
          "text": [
            "Mounted at /content/drive/\n"
          ]
        }
      ],
      "source": [
        "from google.colab import drive\n",
        "drive.mount('/content/drive/')"
      ]
    },
    {
      "cell_type": "code",
      "execution_count": null,
      "metadata": {
        "colab": {
          "base_uri": "https://localhost:8080/"
        },
        "id": "JO8lLBysFx4w",
        "outputId": "f2c9bfe3-4588-4551-a61c-f33e30afabc5"
      },
      "outputs": [
        {
          "output_type": "stream",
          "name": "stdout",
          "text": [
            "/content/drive/MyDrive/Colab Notebooks/Transformer\n"
          ]
        }
      ],
      "source": [
        "%cd \"/content/drive/MyDrive/Colab Notebooks/Transformer\""
      ]
    },
    {
      "cell_type": "markdown",
      "metadata": {
        "id": "xz6JwxbK0mo1"
      },
      "source": [
        "##1.Install library"
      ]
    },
    {
      "cell_type": "code",
      "execution_count": null,
      "metadata": {
        "colab": {
          "base_uri": "https://localhost:8080/"
        },
        "id": "nfXCevuj97q9",
        "outputId": "fdf77bfd-32a5-41c4-da89-0261738ed5ad"
      },
      "outputs": [
        {
          "output_type": "stream",
          "name": "stdout",
          "text": [
            "\u001b[2K     \u001b[90m━━━━━━━━━━━━━━━━━━━━━━━━━━━━━━━━━━━━━━━━\u001b[0m \u001b[32m462.8/462.8 kB\u001b[0m \u001b[31m5.0 MB/s\u001b[0m eta \u001b[36m0:00:00\u001b[0m\n",
            "\u001b[2K     \u001b[90m━━━━━━━━━━━━━━━━━━━━━━━━━━━━━━━━━━━━━━━━\u001b[0m \u001b[32m1.3/1.3 MB\u001b[0m \u001b[31m12.4 MB/s\u001b[0m eta \u001b[36m0:00:00\u001b[0m\n",
            "\u001b[2K     \u001b[90m━━━━━━━━━━━━━━━━━━━━━━━━━━━━━━━━━━━━━━━━\u001b[0m \u001b[32m118.9/118.9 kB\u001b[0m \u001b[31m10.8 MB/s\u001b[0m eta \u001b[36m0:00:00\u001b[0m\n",
            "\u001b[2K     \u001b[90m━━━━━━━━━━━━━━━━━━━━━━━━━━━━━━━━━━━━━━━━\u001b[0m \u001b[32m110.5/110.5 kB\u001b[0m \u001b[31m12.8 MB/s\u001b[0m eta \u001b[36m0:00:00\u001b[0m\n",
            "\u001b[2K     \u001b[90m━━━━━━━━━━━━━━━━━━━━━━━━━━━━━━━━━━━━━━━━\u001b[0m \u001b[32m134.8/134.8 kB\u001b[0m \u001b[31m13.5 MB/s\u001b[0m eta \u001b[36m0:00:00\u001b[0m\n",
            "\u001b[2K     \u001b[90m━━━━━━━━━━━━━━━━━━━━━━━━━━━━━━━━━━━━━━━━\u001b[0m \u001b[32m134.3/134.3 kB\u001b[0m \u001b[31m13.1 MB/s\u001b[0m eta \u001b[36m0:00:00\u001b[0m\n",
            "\u001b[?25h"
          ]
        }
      ],
      "source": [
        "!pip -q install 'datasets==2.9.0' 'sentencepiece==0.1.97' 'sacrebleu==2.3.1'"
      ]
    },
    {
      "cell_type": "code",
      "execution_count": null,
      "metadata": {
        "id": "iOoEexf43Vqk"
      },
      "outputs": [],
      "source": [
        "import os\n",
        "import sys\n",
        "import math\n",
        "import copy\n",
        "import heapq\n",
        "import datetime\n",
        "\n",
        "from tqdm import tqdm\n",
        "import numpy as np\n",
        "\n",
        "import sacrebleu\n",
        "\n",
        "import datasets\n",
        "\n",
        "import sentencepiece as spm\n",
        "\n",
        "import torch\n",
        "import torch.nn as nn\n",
        "from torch.utils.data import Dataset, DataLoader"
      ]
    },
    {
      "cell_type": "markdown",
      "metadata": {
        "id": "Q5dJZutw0rug"
      },
      "source": [
        "##2.Data Preparing\n",
        "**IWSLT2015-EN-VI**"
      ]
    },
    {
      "cell_type": "code",
      "execution_count": null,
      "metadata": {
        "id": "Moxz37xr-QgU"
      },
      "outputs": [],
      "source": [
        "class DataPreparing:\n",
        "    def __init__(self, save_data_dir, source_lang, target_lang):\n",
        "        self.save_data_dir = save_data_dir\n",
        "        self.source_lang = source_lang\n",
        "        self.target_lang = target_lang\n",
        "\n",
        "    def download_dataset(self):\n",
        "        if not(os.path.exists(self.save_data_dir)):\n",
        "            print('Create Foler')\n",
        "            os.mkdir(self.save_data_dir)\n",
        "        if len(os.listdir(self.save_data_dir)) ==0:\n",
        "            print('#1-Download Dataset')\n",
        "            corpus = datasets.load_dataset(\"mt_eng_vietnamese\", \"iwslt2015-en-vi\")\n",
        "\n",
        "            print('#2-Save Dataset')\n",
        "            for data in ['train', 'validation', 'test']:\n",
        "\n",
        "                source_data, target_data = self.get_data(corpus[data])\n",
        "\n",
        "                print('Source lang: {} - {}: {}'.format(self.source_lang, data, len(source_data)))\n",
        "                print('Target lang: {} - {}: {}'.format(self.target_lang, data, len(target_data)))\n",
        "\n",
        "                self.save_data(source_data, os.path.join(self.save_data_dir, data + '.' + self.source_lang))\n",
        "                self.save_data(target_data, os.path.join(self.save_data_dir, data + '.' + self.target_lang))\n",
        "\n",
        "        else:\n",
        "            print('Dataset exit!')\n",
        "\n",
        "    def get_data(self, corpus):\n",
        "        source_data = []\n",
        "        target_data = []\n",
        "        for data in corpus:\n",
        "            source_data.append(data['translation'][self.source_lang])\n",
        "            target_data.append(data['translation'][self.target_lang])\n",
        "        return source_data, target_data\n",
        "\n",
        "    def save_data(self, data, save_path):\n",
        "        print('=> Save data => Path: {}'.format(save_path))\n",
        "        with open(save_path, 'w', encoding='utf-8') as f:\n",
        "            f.write('\\n'.join(data))"
      ]
    },
    {
      "cell_type": "markdown",
      "metadata": {
        "id": "B9YpHW5Y04aB"
      },
      "source": [
        "##3.SentencePiece Tokenization"
      ]
    },
    {
      "cell_type": "code",
      "execution_count": null,
      "metadata": {
        "id": "x_fHQHeU_4Zp"
      },
      "outputs": [],
      "source": [
        "def train_sentencepiece(cfg, is_src=True):\n",
        "    template = \"--input={} \\\n",
        "                --pad_id={} \\\n",
        "                --bos_id={} \\\n",
        "                --eos_id={} \\\n",
        "                --unk_id={} \\\n",
        "                --model_prefix={} \\\n",
        "                --vocab_size={} \\\n",
        "                --character_coverage={} \\\n",
        "                --model_type={}\"\n",
        "\n",
        "    if is_src:\n",
        "        train_file = f\"{cfg.data_dir}/train.{cfg.src_lang}\"\n",
        "        model_prefix = f\"{cfg.sp_dir}/{cfg.src_model_prefix}\"\n",
        "    else:\n",
        "        train_file = f\"{cfg.data_dir}/train.{cfg.tgt_lang}\"\n",
        "        model_prefix = f\"{cfg.sp_dir}/{cfg.tgt_model_prefix}\"\n",
        "\n",
        "    print(f\"===> Processing file: {train_file}\")\n",
        "    if not os.path.isdir(cfg.sp_dir):\n",
        "        os.mkdir(cfg.sp_dir)\n",
        "\n",
        "    sp_cfg = template.format(\n",
        "        train_file,\n",
        "        cfg.pad_id,\n",
        "        cfg.sos_id,\n",
        "        cfg.eos_id,\n",
        "        cfg.unk_id,\n",
        "        model_prefix,\n",
        "        cfg.sp_vocab_size,\n",
        "        cfg.character_coverage,\n",
        "        cfg.model_type)\n",
        "\n",
        "    spm.SentencePieceTrainer.Train(sp_cfg)"
      ]
    },
    {
      "cell_type": "markdown",
      "metadata": {
        "id": "rM31YJgZ1K8U"
      },
      "source": [
        "##4.Dataloader"
      ]
    },
    {
      "cell_type": "code",
      "execution_count": null,
      "metadata": {
        "id": "ZnXQ_jD61pgl"
      },
      "outputs": [],
      "source": [
        "class NMTDataset(Dataset):\n",
        "    def __init__(self, cfg, data_type=\"train\"):\n",
        "        super().__init__()\n",
        "        self.cfg = cfg\n",
        "\n",
        "        self.sp_src, self.sp_tgt = self.load_sp_tokenizer()\n",
        "        self.src_texts, self.tgt_texts = self.read_data(data_type)\n",
        "\n",
        "        src_tokenized_sequences = self.texts_to_sequences(self.src_texts, True)\n",
        "        tgt_input_tokenized_sequences, tgt_output_tokenized_sequences = self.texts_to_sequences(self.tgt_texts, False)\n",
        "\n",
        "        self.src_data = torch.LongTensor(src_tokenized_sequences)\n",
        "        self.input_tgt_data = torch.LongTensor(tgt_input_tokenized_sequences)\n",
        "        self.output_tgt_data = torch.LongTensor(tgt_output_tokenized_sequences)\n",
        "\n",
        "    def read_data(self, data_type):\n",
        "        print(f\"===> Load data from: {self.cfg.data_dir}/{data_type}.{self.cfg.src_lang}\")\n",
        "        with open(f\"{self.cfg.data_dir}/{data_type}.{self.cfg.src_lang}\", 'r') as f:\n",
        "            src_texts = f.readlines()\n",
        "\n",
        "        print(f\"===> Load data from: {self.cfg.data_dir}/{data_type}.{self.cfg.tgt_lang}\")\n",
        "        with open(f\"{self.cfg.data_dir}/{data_type}.{self.cfg.tgt_lang}\", 'r') as f:\n",
        "            trg_texts = f.readlines()\n",
        "\n",
        "        return src_texts, trg_texts\n",
        "\n",
        "    def load_sp_tokenizer(self):\n",
        "        sp_src = spm.SentencePieceProcessor()\n",
        "        sp_src.Load(f\"{self.cfg.sp_dir}/{self.cfg.src_model_prefix}.model\")\n",
        "\n",
        "        sp_tgt = spm.SentencePieceProcessor()\n",
        "        sp_tgt.Load(f\"{self.cfg.sp_dir}/{self.cfg.tgt_model_prefix}.model\")\n",
        "\n",
        "        return sp_src, sp_tgt\n",
        "\n",
        "    def texts_to_sequences(self, texts, is_src=True):\n",
        "        if is_src:\n",
        "            src_tokenized_sequences = []\n",
        "            for text in tqdm(texts):\n",
        "                tokenized = self.sp_src.EncodeAsIds(text.strip())\n",
        "                src_tokenized_sequences.append(\n",
        "                    pad_or_truncate([self.cfg.sos_id] + tokenized + [self.cfg.eos_id], self.cfg.seq_len, self.cfg.pad_id)\n",
        "                )\n",
        "            return src_tokenized_sequences\n",
        "        else:\n",
        "            tgt_input_tokenized_sequences = []\n",
        "            tgt_output_tokenized_sequences = []\n",
        "            for text in tqdm(texts):\n",
        "                tokenized = self.sp_tgt.EncodeAsIds(text.strip())\n",
        "                tgt_input = [self.cfg.sos_id] + tokenized\n",
        "                tgt_output = tokenized + [self.cfg.eos_id]\n",
        "                tgt_input_tokenized_sequences.append(pad_or_truncate(tgt_input, self.cfg.seq_len, self.cfg.pad_id))\n",
        "                tgt_output_tokenized_sequences.append(pad_or_truncate(tgt_output, self.cfg.seq_len, self.cfg.pad_id))\n",
        "\n",
        "            return tgt_input_tokenized_sequences, tgt_output_tokenized_sequences\n",
        "\n",
        "    def __getitem__(self, idx):\n",
        "        return self.src_data[idx], self.input_tgt_data[idx], self.output_tgt_data[idx]\n",
        "\n",
        "    def __len__(self):\n",
        "        return np.shape(self.src_data)[0]\n",
        "\n",
        "def pad_or_truncate(tokenized_sequence, seq_len, pad_id):\n",
        "    if len(tokenized_sequence) < seq_len:\n",
        "        left = seq_len - len(tokenized_sequence)\n",
        "        padding = [pad_id] * left\n",
        "        tokenized_sequence += padding\n",
        "    else:\n",
        "        tokenized_sequence = tokenized_sequence[:seq_len]\n",
        "    return tokenized_sequence\n",
        "\n",
        "def get_data_loader(cfg, data_type='train'):\n",
        "    dataset = NMTDataset(cfg, data_type)\n",
        "\n",
        "    if data_type == 'train':\n",
        "        shuffle = True\n",
        "    else:\n",
        "        shuffle = False\n",
        "\n",
        "    dataloader = DataLoader(dataset, batch_size=cfg.batch_size, shuffle=shuffle)\n",
        "\n",
        "    return dataset, dataloader"
      ]
    },
    {
      "cell_type": "markdown",
      "metadata": {
        "id": "Cvx0Mu7CmIfg"
      },
      "source": [
        "##5.Transformer Model\n",
        "Ref: https://pytorch.org/tutorials/beginner/translation_transformer.html"
      ]
    },
    {
      "cell_type": "code",
      "execution_count": null,
      "metadata": {
        "id": "ol7eNRBWmMID"
      },
      "outputs": [],
      "source": [
        "class MultiheadAttention(nn.Module):\n",
        "    def __init__(self, d_model, num_heads, drop_out=0.1):\n",
        "        super().__init__()\n",
        "        self.inf = 1e9\n",
        "\n",
        "        self.d_model = d_model\n",
        "        self.num_heads = num_heads\n",
        "        self.d_k = d_model // num_heads\n",
        "\n",
        "        # W^Q, W^K, W^V in the paper\n",
        "        self.w_q = nn.Linear(d_model, d_model)\n",
        "        self.w_k = nn.Linear(d_model, d_model)\n",
        "        self.w_v = nn.Linear(d_model, d_model)\n",
        "\n",
        "        self.dropout = nn.Dropout(drop_out)\n",
        "        self.attn_softmax = nn.Softmax(dim=-1)\n",
        "\n",
        "        # Final output linear transformation\n",
        "        self.w_0 = nn.Linear(d_model, d_model)\n",
        "\n",
        "    def forward(self, q, k, v, mask=None):\n",
        "        input_shape = q.shape\n",
        "\n",
        "        # Linear calculation +  split into num_heads\n",
        "        q = self.w_q(q).view(input_shape[0], -1, self.num_heads, self.d_k) # (B, L, num_heads, d_k)\n",
        "        k = self.w_k(k).view(input_shape[0], -1, self.num_heads, self.d_k) # (B, L, num_heads, d_k)\n",
        "        v = self.w_v(v).view(input_shape[0], -1, self.num_heads, self.d_k) # (B, L, num_heads, d_k)\n",
        "\n",
        "        # For convenience, convert all tensors in size (B, num_heads, L, d_k)\n",
        "        q = q.transpose(1, 2)\n",
        "        k = k.transpose(1, 2)\n",
        "        v = v.transpose(1, 2)\n",
        "\n",
        "        # Conduct self-attention\n",
        "        attn_values = self.self_attention(q, k, v, mask=mask) # (B, num_heads, L, d_k)\n",
        "        concat_output = attn_values.transpose(1, 2)\\\n",
        "            .contiguous().view(input_shape[0], -1, self.d_model) # (B, L, d_model)\n",
        "\n",
        "        return self.w_0(concat_output)\n",
        "\n",
        "    def self_attention(self, q, k, v, mask=None):\n",
        "        # Calculate attention scores with scaled dot-product attention\n",
        "        attn_scores = torch.matmul(q, k.transpose(-2, -1)) # (B, num_heads, L, L)\n",
        "        attn_scores = attn_scores / math.sqrt(self.d_k)\n",
        "\n",
        "        # If there is a mask, make masked spots -INF\n",
        "        if mask is not None:\n",
        "            mask = mask.unsqueeze(1) # (B, 1, L) => (B, 1, 1, L) or (B, L, L) => (B, 1, L, L)\n",
        "            attn_scores = attn_scores.masked_fill_(mask == 0, -1 * self.inf)\n",
        "\n",
        "        # Softmax and multiplying K to calculate attention value\n",
        "        attn_distribs = self.attn_softmax(attn_scores)\n",
        "\n",
        "        attn_distribs = self.dropout(attn_distribs)\n",
        "        attn_values = torch.matmul(attn_distribs, v) # (B, num_heads, L, d_k)\n",
        "\n",
        "        return attn_values\n",
        "\n",
        "class FeedFowardLayer(nn.Module):\n",
        "    def __init__(self, d_model, d_ff, drop_out=0.1):\n",
        "        super().__init__()\n",
        "        self.linear_1 = nn.Linear(d_model, d_ff, bias=True)\n",
        "        self.relu = nn.ReLU()\n",
        "        self.linear_2 = nn.Linear(d_ff, d_model, bias=True)\n",
        "        self.dropout = nn.Dropout(drop_out)\n",
        "\n",
        "    def forward(self, x):\n",
        "        x = self.relu(self.linear_1(x)) # (B, L, d_ff)\n",
        "        x = self.dropout(x)\n",
        "        x = self.linear_2(x) # (B, L, d_model)\n",
        "\n",
        "        return x\n",
        "\n",
        "\n",
        "class LayerNormalization(nn.Module):\n",
        "    def __init__(self, d_model, eps=1e-6):\n",
        "        super().__init__()\n",
        "        self.eps = eps\n",
        "        self.layer = nn.LayerNorm([d_model], elementwise_affine=True, eps=self.eps)\n",
        "\n",
        "    def forward(self, x):\n",
        "        x = self.layer(x)\n",
        "\n",
        "        return x\n",
        "\n",
        "class PositionalEncoder(nn.Module):\n",
        "    def __init__(self, seq_len, d_model, device):\n",
        "        super().__init__()\n",
        "        self.seq_len = seq_len\n",
        "        self.d_model = d_model\n",
        "        # Make initial positional encoding matrix with 0\n",
        "        pe_matrix= torch.zeros(seq_len, d_model) # (L, d_model)\n",
        "\n",
        "        # Calculating position encoding values\n",
        "        for pos in range(seq_len):\n",
        "            for i in range(d_model):\n",
        "                if i % 2 == 0:\n",
        "                    pe_matrix[pos, i] = math.sin(pos / (10000 ** (2 * i / d_model)))\n",
        "                elif i % 2 == 1:\n",
        "                    pe_matrix[pos, i] = math.cos(pos / (10000 ** (2 * i / d_model)))\n",
        "\n",
        "        pe_matrix = pe_matrix.unsqueeze(0) # (1, L, d_model)\n",
        "        self.positional_encoding = pe_matrix.to(device=device).requires_grad_(False)\n",
        "\n",
        "    def forward(self, x):\n",
        "        x = x * math.sqrt(self.d_model) # (B, L, d_model)\n",
        "        x = x + self.positional_encoding # (B, L, d_model)\n",
        "\n",
        "        return x\n",
        "\n",
        "class EncoderLayer(nn.Module):\n",
        "    def __init__(self, d_model, num_heads, d_ff, drop_out=0.1):\n",
        "        super().__init__()\n",
        "        self.layer_norm_1 = LayerNormalization(d_model)\n",
        "        self.multihead_attention = MultiheadAttention(d_model, num_heads, drop_out)\n",
        "        self.drop_out_1 = nn.Dropout(drop_out)\n",
        "\n",
        "        self.layer_norm_2 = LayerNormalization(d_model)\n",
        "        self.feed_forward = FeedFowardLayer(d_model, d_ff, drop_out)\n",
        "        self.drop_out_2 = nn.Dropout(drop_out)\n",
        "\n",
        "    def forward(self, x, e_mask):\n",
        "        x_1 = self.layer_norm_1(x) # (B, L, d_model)\n",
        "        x = x + self.drop_out_1(\n",
        "            self.multihead_attention(x_1, x_1, x_1, mask=e_mask)\n",
        "        ) # (B, L, d_model)\n",
        "\n",
        "        x_2 = self.layer_norm_2(x) # (B, L, d_model)\n",
        "        x = x + self.drop_out_2(self.feed_forward(x_2)) # (B, L, d_model)\n",
        "\n",
        "        return x # (B, L, d_model)\n",
        "\n",
        "class DecoderLayer(nn.Module):\n",
        "    def __init__(self, d_model, num_heads, d_ff, drop_out=0.1):\n",
        "        super().__init__()\n",
        "        self.layer_norm_1 = LayerNormalization(d_model)\n",
        "        self.masked_multihead_attention = MultiheadAttention(d_model, num_heads, drop_out)\n",
        "        self.drop_out_1 = nn.Dropout(drop_out)\n",
        "\n",
        "        self.layer_norm_2 = LayerNormalization(d_model)\n",
        "        self.multihead_attention = MultiheadAttention(d_model, num_heads, drop_out)\n",
        "        self.drop_out_2 = nn.Dropout(drop_out)\n",
        "\n",
        "        self.layer_norm_3 = LayerNormalization(d_model)\n",
        "        self.feed_forward = FeedFowardLayer(d_model, d_ff, drop_out)\n",
        "        self.drop_out_3 = nn.Dropout(drop_out)\n",
        "\n",
        "    def forward(self, x, e_output, e_mask,  d_mask):\n",
        "        x_1 = self.layer_norm_1(x) # (B, L, d_model)\n",
        "        x = x + self.drop_out_1(\n",
        "            self.masked_multihead_attention(x_1, x_1, x_1, mask=d_mask)\n",
        "        ) # (B, L, d_model)\n",
        "        x_2 = self.layer_norm_2(x) # (B, L, d_model)\n",
        "        x = x + self.drop_out_2(\n",
        "            self.multihead_attention(x_2, e_output, e_output, mask=e_mask)\n",
        "        ) # (B, L, d_model)\n",
        "        x_3 = self.layer_norm_3(x) # (B, L, d_model)\n",
        "        x = x + self.drop_out_3(self.feed_forward(x_3)) # (B, L, d_model)\n",
        "\n",
        "        return x # (B, L, d_model)\n",
        "\n",
        "class Encoder(nn.Module):\n",
        "    def __init__(self, num_layers, d_model, num_heads, d_ff, drop_out=0.1):\n",
        "        super().__init__()\n",
        "        self.num_layers = num_layers\n",
        "        self.layers = nn.ModuleList(\n",
        "            [EncoderLayer(d_model, num_heads, d_ff, drop_out) for i in range(num_layers)]\n",
        "        )\n",
        "        self.layer_norm = LayerNormalization(d_model)\n",
        "\n",
        "    def forward(self, x, e_mask):\n",
        "        for i in range(self.num_layers):\n",
        "            x = self.layers[i](x, e_mask)\n",
        "\n",
        "        return self.layer_norm(x)\n",
        "\n",
        "class Decoder(nn.Module):\n",
        "    def __init__(self, num_layers, d_model, num_heads, d_ff, drop_out):\n",
        "        super().__init__()\n",
        "        self.num_layers = num_layers\n",
        "        self.layers = nn.ModuleList(\n",
        "            [DecoderLayer(d_model, num_heads, d_ff, drop_out) for i in range(num_layers)]\n",
        "        )\n",
        "        self.layer_norm = LayerNormalization(d_model)\n",
        "\n",
        "    def forward(self, x, e_output, e_mask, d_mask):\n",
        "        for i in range(self.num_layers):\n",
        "            x = self.layers[i](x, e_output, e_mask, d_mask)\n",
        "\n",
        "        return self.layer_norm(x)\n",
        "\n",
        "class Transformer(nn.Module):\n",
        "    def __init__(self, cfg):\n",
        "        super().__init__()\n",
        "        self.cfg = cfg\n",
        "\n",
        "        self.src_embedding = nn.Embedding(self.cfg.sp_vocab_size, self.cfg.d_model)\n",
        "        self.tgt_embedding = nn.Embedding(self.cfg.sp_vocab_size, self.cfg.d_model)\n",
        "        self.positional_encoder = PositionalEncoder(\n",
        "            self.cfg.seq_len,\n",
        "            self.cfg.d_model,\n",
        "            self.cfg.device\n",
        "        )\n",
        "        self.encoder = Encoder(\n",
        "            self.cfg.num_layers,\n",
        "            self.cfg.d_model,\n",
        "            self.cfg.num_heads,\n",
        "            self.cfg.d_ff,\n",
        "            self.cfg.drop_out\n",
        "        )\n",
        "        self.decoder = Decoder(\n",
        "            self.cfg.num_layers,\n",
        "            self.cfg.d_model,\n",
        "            self.cfg.num_heads,\n",
        "            self.cfg.d_ff,\n",
        "            self.cfg.drop_out\n",
        "        )\n",
        "        self.output_linear = nn.Linear(self.cfg.d_model, self.cfg.sp_vocab_size)\n",
        "        self.softmax = nn.LogSoftmax(dim=-1)\n",
        "\n",
        "    def forward(self, src_input, tgt_input, e_mask=None, d_mask=None):\n",
        "        src_input = self.src_embedding(src_input) # (B, L) => (B, L, d_model)\n",
        "        tgt_input = self.tgt_embedding(tgt_input) # (B, L) => (B, L, d_model)\n",
        "        src_input = self.positional_encoder(src_input) # (B, L, d_model) => (B, L, d_model)\n",
        "        tgt_input = self.positional_encoder(tgt_input) # (B, L, d_model) => (B, L, d_model)\n",
        "\n",
        "        e_output = self.encoder(src_input, e_mask) # (B, L, d_model)\n",
        "        d_output = self.decoder(tgt_input, e_output, e_mask, d_mask) # (B, L, d_model)\n",
        "\n",
        "        output = self.softmax(self.output_linear(d_output)) # (B, L, d_model) => # (B, L, trg_vocab_size)\n",
        "\n",
        "        return output"
      ]
    },
    {
      "cell_type": "markdown",
      "metadata": {
        "id": "dUUJaH8GovIj"
      },
      "source": [
        "##7.Trainer"
      ]
    },
    {
      "cell_type": "code",
      "execution_count": null,
      "metadata": {
        "id": "mcCFypjcowwr"
      },
      "outputs": [],
      "source": [
        "class Trainer():\n",
        "    def __init__(self, cfg, is_train=True, load_ckpt=True):\n",
        "        self.cfg = cfg\n",
        "\n",
        "        print(\"Loading Transformer model & Adam optimizer...\")\n",
        "        self.model = Transformer(self.cfg).to(self.cfg.device)\n",
        "\n",
        "        self.optim = torch.optim.Adam(self.model.parameters(), lr=self.cfg.learning_rate)\n",
        "\n",
        "        self.best_loss = 100.0\n",
        "        if load_ckpt:\n",
        "            print(\"Loading checkpoint...\")\n",
        "            checkpoint = torch.load(f\"{self.cfg.ckpt_dir}/{self.cfg.ckpt_name}\", map_location=self.cfg.device)\n",
        "            self.model.load_state_dict(checkpoint['model_state_dict'])\n",
        "            self.optim.load_state_dict(checkpoint['optim_state_dict'])\n",
        "            self.best_loss = checkpoint['loss']\n",
        "        else:\n",
        "            print(\"Initializing the model...\")\n",
        "            for p in self.model.parameters():\n",
        "                if p.dim() > 1:\n",
        "                    nn.init.xavier_uniform_(p)\n",
        "\n",
        "        # Prepare Tokenizer\n",
        "        self.prepare_tokenizer()\n",
        "\n",
        "        if is_train:\n",
        "            # Load loss function\n",
        "            print(\"Loading loss function...\")\n",
        "            self.criterion = nn.NLLLoss()\n",
        "\n",
        "            # Load dataloaders\n",
        "            print(\"Loading dataloaders...\")\n",
        "            self.train_dataset, self.train_loader = get_data_loader(self.cfg, 'train')\n",
        "            self.valid_dataset, self.valid_loader = get_data_loader(self.cfg, 'validation')\n",
        "\n",
        "        else:\n",
        "            if os.path.exists(f\"{self.cfg.ckpt_dir}/{self.cfg.ckpt_name}\"):\n",
        "                print(\"Loading sentencepiece tokenizer...\")\n",
        "                self.sp_src = spm.SentencePieceProcessor()\n",
        "                self.sp_tgt = spm.SentencePieceProcessor()\n",
        "                self.sp_src.Load(f\"{self.cfg.sp_dir}/{self.cfg.src_model_prefix}.model\")\n",
        "                self.sp_tgt.Load(f\"{self.cfg.sp_dir}/{self.cfg.tgt_model_prefix}.model\")\n",
        "            else:\n",
        "                print(\"Checkpoint path not exits...\")\n",
        "\n",
        "        print(\"Setting finished.\")\n",
        "\n",
        "    def prepare_tokenizer(self):\n",
        "        if not os.path.isdir(self.cfg.sp_dir):\n",
        "            print('Training sentencepiece tokenizer...')\n",
        "            train_sentencepiece(self.cfg, is_src=True)\n",
        "            train_sentencepiece(self.cfg, is_src=False)\n",
        "        else:\n",
        "            print('Tokenization already...')\n",
        "\n",
        "    def train(self):\n",
        "        print(\"Training...\")\n",
        "\n",
        "        for epoch in range(1, self.cfg.num_epochs+1):\n",
        "            print(f\"#################### Epoch: {epoch} ####################\")\n",
        "\n",
        "            self.model.train()\n",
        "            train_losses = []\n",
        "            start_time = datetime.datetime.now()\n",
        "\n",
        "            bar = tqdm(enumerate(self.train_loader), total=len(self.train_loader), desc='TRAINING')\n",
        "\n",
        "            for batch_idx, batch in bar:\n",
        "                src_input, tgt_input, tgt_output = batch\n",
        "                src_input, tgt_input, tgt_output = src_input.to(self.cfg.device), tgt_input.to(self.cfg.device), tgt_output.to(self.cfg.device)\n",
        "\n",
        "                e_mask, d_mask = self.create_mask(src_input, tgt_input)\n",
        "\n",
        "                logits = self.model(src_input, tgt_input, e_mask, d_mask)\n",
        "\n",
        "                self.optim.zero_grad()\n",
        "\n",
        "                loss = self.criterion(\n",
        "                    logits.view(-1, logits.shape[-1]),\n",
        "                    tgt_output.reshape(-1)\n",
        "                )\n",
        "\n",
        "                loss.backward()\n",
        "                self.optim.step()\n",
        "\n",
        "                train_losses.append(loss.item())\n",
        "\n",
        "                del src_input, tgt_input, tgt_output, e_mask, d_mask, logits\n",
        "                torch.cuda.empty_cache()\n",
        "\n",
        "                bar.set_postfix(TRAIN=\"Epoch {} - Batch_Loss {:.2f} - Train_Loss {:.2f} - Best_Valid_Loss {:.2f}\".format(\n",
        "                    epoch,\n",
        "                    loss.item(),\n",
        "                    np.mean(train_losses),\n",
        "                    self.best_loss\n",
        "                    )\n",
        "                )\n",
        "\n",
        "            end_time = datetime.datetime.now()\n",
        "            training_time = end_time - start_time\n",
        "\n",
        "            mean_train_loss = np.mean(train_losses)\n",
        "            print(f\"Train loss: {mean_train_loss} || Time: {training_time} secs\")\n",
        "\n",
        "            valid_loss, valid_time = self.validation()\n",
        "\n",
        "            if valid_loss < self.best_loss:\n",
        "                if not os.path.exists(self.cfg.ckpt_dir):\n",
        "                    os.mkdir(self.cfg.ckpt_dir)\n",
        "\n",
        "                self.best_loss = valid_loss\n",
        "                state_dict = {\n",
        "                    'model_state_dict': self.model.state_dict(),\n",
        "                    'optim_state_dict': self.optim.state_dict(),\n",
        "                    'loss': self.best_loss\n",
        "                }\n",
        "                torch.save(state_dict, f\"{self.cfg.ckpt_dir}/{self.cfg.ckpt_name}\")\n",
        "                print(f\"***** Current best checkpoint is saved. *****\")\n",
        "\n",
        "            print(f\"Best valid loss: {self.best_loss}\")\n",
        "            print(f\"Valid loss: {valid_loss} || One epoch training time: {valid_time}\")\n",
        "\n",
        "        print(f\"Training finished!\")\n",
        "\n",
        "    def validation(self):\n",
        "        self.model.eval()\n",
        "\n",
        "        valid_losses = []\n",
        "        start_time = datetime.datetime.now()\n",
        "\n",
        "        with torch.no_grad():\n",
        "            bar = tqdm(enumerate(self.valid_loader), total=len(self.valid_loader), desc='VALIDATIION')\n",
        "            for batch_idx, batch in bar:\n",
        "                src_input, tgt_input, tgt_output = batch\n",
        "                src_input, tgt_input, tgt_output = src_input.to(self.cfg.device), tgt_input.to(self.cfg.device), tgt_output.to(self.cfg.device)\n",
        "\n",
        "                e_mask, d_mask = self.create_mask(src_input, tgt_input)\n",
        "\n",
        "                logits = self.model(src_input, tgt_input, e_mask, d_mask)\n",
        "\n",
        "                loss = self.criterion(\n",
        "                    logits.view(-1, logits.shape[-1]),\n",
        "                    tgt_output.reshape(-1)\n",
        "                )\n",
        "\n",
        "                valid_losses.append(loss.item())\n",
        "\n",
        "                bar.set_postfix(TRAIN=\"Batch_Loss {:.2f} - Valid_Loss {:.2f}\".format(\n",
        "                    loss.item(),\n",
        "                    np.mean(valid_losses)\n",
        "                    )\n",
        "                )\n",
        "\n",
        "                del src_input, tgt_input, tgt_output, e_mask, d_mask, logits\n",
        "                torch.cuda.empty_cache()\n",
        "\n",
        "        end_time = datetime.datetime.now()\n",
        "        validation_time = end_time - start_time\n",
        "\n",
        "        mean_valid_loss = np.mean(valid_losses)\n",
        "\n",
        "        return mean_valid_loss, f\"{validation_time} secs\"\n",
        "\n",
        "    def inference(self, input_sentence):\n",
        "        self.model.eval()\n",
        "\n",
        "        print(\"Preprocessing input sentence...\")\n",
        "        tokenized = self.sp_src.EncodeAsIds(input_sentence)\n",
        "        src_data = torch.LongTensor(\n",
        "            pad_or_truncate([self.cfg.sos_id] + tokenized + [self.cfg.eos_id], self.cfg.seq_len, self.cfg.pad_id)\n",
        "        ).unsqueeze(0).to(self.cfg.device)\n",
        "\n",
        "        e_mask = (src_data != self.cfg.pad_id).unsqueeze(1).to(self.cfg.device) # (1, 1, L)\n",
        "\n",
        "        start_time = datetime.datetime.now()\n",
        "\n",
        "        print(\"Encoding input sentence...\")\n",
        "        src_data = self.model.src_embedding(src_data)\n",
        "        src_data = self.model.positional_encoder(src_data)\n",
        "        e_output = self.model.encoder(src_data, e_mask) # (1, L, d_model)\n",
        "\n",
        "        result = self.greedy_search(e_output, e_mask)\n",
        "\n",
        "        end_time = datetime.datetime.now()\n",
        "\n",
        "        total_inference_time = end_time - start_time\n",
        "\n",
        "        print(f\"Input: {input_sentence}\")\n",
        "        print(f\"Result: {result}\")\n",
        "        print(f\"Inference finished! || Total inference time: {total_inference_time}secs\")\n",
        "        return result\n",
        "\n",
        "    def greedy_search(self, e_output, e_mask):\n",
        "        last_words = torch.LongTensor([self.cfg.pad_id] * self.cfg.seq_len).to(self.cfg.device) # (L)\n",
        "        last_words[0] = self.cfg.sos_id # (L)\n",
        "        cur_len = 1\n",
        "\n",
        "        for i in range(self.cfg.seq_len):\n",
        "            d_mask = (last_words.unsqueeze(0) != self.cfg.pad_id).unsqueeze(1).to(self.cfg.device) # (1, 1, L)\n",
        "            nopeak_mask = torch.ones([1, self.cfg.seq_len, self.cfg.seq_len], dtype=torch.bool).to(self.cfg.device)  # (1, L, L)\n",
        "            nopeak_mask = torch.tril(nopeak_mask)  # (1, L, L) to triangular shape\n",
        "            d_mask = d_mask & nopeak_mask  # (1, L, L) padding false\n",
        "\n",
        "            tgt_embedded = self.model.tgt_embedding(last_words.unsqueeze(0))\n",
        "            tgt_positional_encoded = self.model.positional_encoder(tgt_embedded)\n",
        "            decoder_output = self.model.decoder(\n",
        "                tgt_positional_encoded,\n",
        "                e_output,\n",
        "                e_mask,\n",
        "                d_mask\n",
        "            ) # (1, L, d_model)\n",
        "\n",
        "            output = self.model.softmax(\n",
        "                self.model.output_linear(decoder_output)\n",
        "            ) # (1, L, trg_vocab_size)\n",
        "\n",
        "            output = torch.argmax(output, dim=-1) # (1, L)\n",
        "            last_word_id = output[0][i].item()\n",
        "\n",
        "            if i < self.cfg.seq_len-1:\n",
        "                last_words[i+1] = last_word_id\n",
        "                cur_len += 1\n",
        "\n",
        "            if last_word_id == self.cfg.eos_id:\n",
        "                break\n",
        "\n",
        "        if last_words[-1].item() == self.cfg.pad_id:\n",
        "            decoded_output = last_words[1:cur_len].tolist()\n",
        "        else:\n",
        "            decoded_output = last_words[1:].tolist()\n",
        "        decoded_output = self.sp_tgt.decode_ids(decoded_output)\n",
        "\n",
        "        return decoded_output\n",
        "\n",
        "    def create_mask(self, src_input, tgt_input):\n",
        "        e_mask = (src_input != self.cfg.pad_id).unsqueeze(1)  # (B, 1, L)\n",
        "        d_mask = (tgt_input != self.cfg.pad_id).unsqueeze(1)  # (B, 1, L)\n",
        "\n",
        "        nopeak_mask = torch.ones([1, self.cfg.seq_len, self.cfg.seq_len], dtype=torch.bool)  # (1, L, L)\n",
        "        nopeak_mask = torch.tril(nopeak_mask).to(self.cfg.device)  # (1, L, L) to triangular shape\n",
        "        d_mask = d_mask & nopeak_mask  # (B, L, L) padding false\n",
        "\n",
        "        return e_mask, d_mask"
      ]
    },
    {
      "cell_type": "markdown",
      "metadata": {
        "id": "8pqIEejha7tt"
      },
      "source": [
        "##8.Training"
      ]
    },
    {
      "cell_type": "code",
      "execution_count": null,
      "metadata": {
        "id": "CmX2WOFqrpQ-"
      },
      "outputs": [],
      "source": [
        "class BaseConfig:\n",
        "    \"\"\" base Encoder Decoder config \"\"\"\n",
        "\n",
        "    def __init__(self, **kwargs):\n",
        "        for k, v in kwargs.items():\n",
        "            setattr(self, k, v)\n",
        "\n",
        "class NMTConfig(BaseConfig):\n",
        "    # Dataset\n",
        "    data_dir = './transformer/data'\n",
        "    src_lang = 'vi'\n",
        "    tgt_lang = 'en'\n",
        "\n",
        "    # Tokenizer\n",
        "    sp_dir = data_dir + '/sp'\n",
        "    pad_id = 0\n",
        "    sos_id = 1\n",
        "    eos_id = 2\n",
        "    unk_id = 3\n",
        "    src_model_prefix = 'sp_' + src_lang\n",
        "    tgt_model_prefix = 'sp_' + tgt_lang\n",
        "    sp_vocab_size = 10000\n",
        "    character_coverage = 1.0\n",
        "    model_type = 'unigram'\n",
        "\n",
        "    # Model\n",
        "    num_heads = 8\n",
        "    num_layers = 6\n",
        "    d_model = 512\n",
        "    d_ff = 2048\n",
        "    drop_out = 0.1\n",
        "\n",
        "    # Training\n",
        "    device = torch.device('cuda') if torch.cuda.is_available() else torch.device('cpu')\n",
        "    learning_rate = 1e-4\n",
        "    batch_size = 64\n",
        "    seq_len = 150\n",
        "    num_epochs = 2\n",
        "    ckpt_dir = './transformer'\n",
        "    ckpt_name = 'best_ckpt.tar'"
      ]
    },
    {
      "cell_type": "code",
      "execution_count": null,
      "metadata": {
        "id": "wVmHNIxks6z-"
      },
      "outputs": [],
      "source": [
        "cfg = NMTConfig()"
      ]
    },
    {
      "cell_type": "code",
      "execution_count": null,
      "metadata": {
        "id": "JxLSAsdbtD7j",
        "colab": {
          "base_uri": "https://localhost:8080/"
        },
        "outputId": "a902c33c-2d9b-4bfd-9e82-70f826ed4fab"
      },
      "outputs": [
        {
          "output_type": "stream",
          "name": "stdout",
          "text": [
            "Dataset exit!\n"
          ]
        }
      ],
      "source": [
        "data_pre = DataPreparing(cfg.data_dir, cfg.src_lang, cfg.tgt_lang)\n",
        "data_pre.download_dataset()"
      ]
    },
    {
      "cell_type": "code",
      "execution_count": null,
      "metadata": {
        "colab": {
          "base_uri": "https://localhost:8080/"
        },
        "id": "6K7bBbwvimSU",
        "outputId": "ecdc3a78-f0d4-431b-ef3d-1c2a530c8acf"
      },
      "outputs": [
        {
          "output_type": "stream",
          "name": "stdout",
          "text": [
            "Loading Transformer model & Adam optimizer...\n",
            "Initializing the model...\n",
            "Tokenization already...\n",
            "Loading loss function...\n",
            "Loading dataloaders...\n",
            "===> Load data from: ./transformer/data/train.vi\n",
            "===> Load data from: ./transformer/data/train.en\n"
          ]
        },
        {
          "output_type": "stream",
          "name": "stderr",
          "text": [
            "100%|██████████| 133317/133317 [00:12<00:00, 10589.88it/s]\n",
            "100%|██████████| 133317/133317 [00:05<00:00, 24210.37it/s]\n"
          ]
        },
        {
          "output_type": "stream",
          "name": "stdout",
          "text": [
            "===> Load data from: ./transformer/data/validation.vi\n",
            "===> Load data from: ./transformer/data/validation.en\n"
          ]
        },
        {
          "output_type": "stream",
          "name": "stderr",
          "text": [
            "100%|██████████| 1268/1268 [00:00<00:00, 19379.86it/s]\n",
            "100%|██████████| 1268/1268 [00:00<00:00, 17988.40it/s]\n"
          ]
        },
        {
          "output_type": "stream",
          "name": "stdout",
          "text": [
            "Setting finished.\n",
            "Training...\n",
            "#################### Epoch: 1 ####################\n"
          ]
        },
        {
          "output_type": "stream",
          "name": "stderr",
          "text": [
            "TRAINING: 100%|██████████| 2084/2084 [42:10<00:00,  1.21s/it, TRAIN=Epoch 1 - Batch_Loss 0.55 - Train_Loss 0.90 - Best_Valid_Loss 100.00]\n"
          ]
        },
        {
          "output_type": "stream",
          "name": "stdout",
          "text": [
            "Train loss: 0.8955390559448619 || Time: 0:42:10.928321 secs\n"
          ]
        },
        {
          "output_type": "stream",
          "name": "stderr",
          "text": [
            "VALIDATIION: 100%|██████████| 20/20 [00:07<00:00,  2.73it/s, TRAIN=Batch_Loss 0.91 - Valid_Loss 0.71]\n"
          ]
        },
        {
          "output_type": "stream",
          "name": "stdout",
          "text": [
            "***** Current best checkpoint is saved. *****\n",
            "Best valid loss: 0.7118396580219268\n",
            "Valid loss: 0.7118396580219268 || One epoch training time: 0:00:07.340942 secs\n",
            "#################### Epoch: 2 ####################\n"
          ]
        },
        {
          "output_type": "stream",
          "name": "stderr",
          "text": [
            "TRAINING: 100%|██████████| 2084/2084 [42:14<00:00,  1.22s/it, TRAIN=Epoch 2 - Batch_Loss 0.58 - Train_Loss 0.61 - Best_Valid_Loss 0.71]\n"
          ]
        },
        {
          "output_type": "stream",
          "name": "stdout",
          "text": [
            "Train loss: 0.6100743991285277 || Time: 0:42:14.501095 secs\n"
          ]
        },
        {
          "output_type": "stream",
          "name": "stderr",
          "text": [
            "VALIDATIION: 100%|██████████| 20/20 [00:07<00:00,  2.73it/s, TRAIN=Batch_Loss 0.77 - Valid_Loss 0.56]\n"
          ]
        },
        {
          "output_type": "stream",
          "name": "stdout",
          "text": [
            "***** Current best checkpoint is saved. *****\n",
            "Best valid loss: 0.5600840255618096\n",
            "Valid loss: 0.5600840255618096 || One epoch training time: 0:00:07.344518 secs\n",
            "Training finished!\n"
          ]
        }
      ],
      "source": [
        "trainer = Trainer(cfg, is_train=True, load_ckpt=False)\n",
        "trainer.train()"
      ]
    },
    {
      "cell_type": "markdown",
      "source": [
        "##9.Evaluate"
      ],
      "metadata": {
        "id": "kYCzZKoHgg8l"
      }
    },
    {
      "cell_type": "code",
      "execution_count": null,
      "metadata": {
        "colab": {
          "base_uri": "https://localhost:8080/",
          "height": 218
        },
        "id": "YWU5ZRnOTPuG",
        "outputId": "6e627a05-80ad-4edd-90d6-3e3a1e6bbd33"
      },
      "outputs": [
        {
          "output_type": "stream",
          "name": "stdout",
          "text": [
            "Loading Transformer model & Adam optimizer...\n",
            "Loading checkpoint...\n",
            "Tokenization already...\n",
            "Loading sentencepiece tokenizer...\n",
            "Setting finished.\n",
            "Preprocessing input sentence...\n",
            "Encoding input sentence...\n",
            "Input: Tôi yêu bạn.\n",
            "Result: I love you .\n",
            "Inference finished! || Total inference time: 0:00:00.109333secs\n"
          ]
        },
        {
          "output_type": "execute_result",
          "data": {
            "text/plain": [
              "'I love you .'"
            ],
            "application/vnd.google.colaboratory.intrinsic+json": {
              "type": "string"
            }
          },
          "metadata": {},
          "execution_count": 15
        }
      ],
      "source": [
        "cfg = NMTConfig()\n",
        "trainer = Trainer(cfg, is_train=False, load_ckpt=True)\n",
        "trainer.inference('Tôi yêu bạn.')"
      ]
    },
    {
      "cell_type": "code",
      "source": [
        "def evaluate(cfg, trainer):\n",
        "    with open(cfg.data_dir + '/test.' + cfg.src_lang, 'r') as f:\n",
        "        src_texts = f.readlines()\n",
        "    src_texts = [s.strip() for s in src_texts]\n",
        "\n",
        "    with open(cfg.data_dir + '/test.' + cfg.tgt_lang, 'r') as f:\n",
        "        tgt_texts = f.readlines()\n",
        "    tgt_texts = [s.strip() for s in tgt_texts]\n",
        "\n",
        "    len(src_texts) == len(tgt_texts)\n",
        "\n",
        "    pred_texts = []\n",
        "    for sent in tqdm(src_texts):\n",
        "        pred_texts.append(trainer.inference(sent))\n",
        "\n",
        "    bleu_score = sacrebleu.corpus_bleu(pred_texts, [tgt_texts], force=True)\n",
        "\n",
        "    return pred_texts, bleu_score"
      ],
      "metadata": {
        "id": "Tffao98NnBGK"
      },
      "execution_count": null,
      "outputs": []
    },
    {
      "cell_type": "code",
      "source": [
        "pred_texts, bleu_score = evaluate(cfg, trainer)"
      ],
      "metadata": {
        "id": "qjLFYiSPn_8n",
        "colab": {
          "base_uri": "https://localhost:8080/"
        },
        "outputId": "15d6c0d0-085c-46d2-d4c5-e46863127dfb"
      },
      "execution_count": null,
      "outputs": [
        {
          "output_type": "stream",
          "name": "stderr",
          "text": [
            "\r  0%|          | 0/1268 [00:00<?, ?it/s]"
          ]
        },
        {
          "output_type": "stream",
          "name": "stdout",
          "text": [
            "Preprocessing input sentence...\n",
            "Encoding input sentence...\n"
          ]
        },
        {
          "output_type": "stream",
          "name": "stderr",
          "text": [
            "  0%|          | 2/1268 [00:00<06:37,  3.18it/s]"
          ]
        },
        {
          "output_type": "stream",
          "name": "stdout",
          "text": [
            "Input: Khi tôi còn nhỏ , Tôi nghĩ rằng BắcTriều Tiên là đất nước tốt nhất trên thế giới và tôi thường hát bài &quot; Chúng ta chẳng có gì phải ghen tị . &quot;\n",
            "Result: When I was a little little , I think that the United States is the best world in the world , and I was always listening to the &quot; We don &apos;t have to have anymore . &quot;\n",
            "Inference finished! || Total inference time: 0:00:00.576543secs\n",
            "Preprocessing input sentence...\n",
            "Encoding input sentence...\n",
            "Input: Tôi đã rất tự hào về đất nước tôi .\n",
            "Result: I was very excited about the country .\n",
            "Inference finished! || Total inference time: 0:00:00.121200secs\n",
            "Preprocessing input sentence...\n",
            "Encoding input sentence...\n"
          ]
        },
        {
          "output_type": "stream",
          "name": "stderr",
          "text": [
            "\r  0%|          | 3/1268 [00:01<09:18,  2.27it/s]"
          ]
        },
        {
          "output_type": "stream",
          "name": "stdout",
          "text": [
            "Input: Ở trường , chúng tôi dành rất nhiều thời gian để học về cuộc đời của chủ tịch Kim II- Sung , nhưng lại không học nhiều về thế giới bên ngoài , ngoại trừ việc Hoa Kỳ , Hàn Quốc và Nhật Bản là kẻ thù của chúng tôi .\n",
            "Result: In the school , we &apos;ve spent a lot of time to learn about the war of the war , but not many of the world , not many countries , in the United States , the U.S.\n",
            "Inference finished! || Total inference time: 0:00:00.584417secs\n",
            "Preprocessing input sentence...\n",
            "Encoding input sentence...\n"
          ]
        },
        {
          "output_type": "stream",
          "name": "stderr",
          "text": [
            "\r  0%|          | 4/1268 [00:01<10:30,  2.01it/s]"
          ]
        },
        {
          "output_type": "stream",
          "name": "stdout",
          "text": [
            "Input: Mặc dù tôi đã từng tự hỏi không biết thế giới bên ngoài kia như thế nào , nhưng tôi vẫn nghĩ rằng mình sẽ sống cả cuộc đời ở BắcTriều Tiên , cho tới khi tất cả mọi thứ đột nhiên thay đổi .\n",
            "Result: And even though I had asked the world , but I thought that I was going to think that my life would be living in the middle of the North Pole , until all of the time , for all of the change .\n",
            "Inference finished! || Total inference time: 0:00:00.579669secs\n",
            "Preprocessing input sentence...\n",
            "Encoding input sentence...\n"
          ]
        },
        {
          "output_type": "stream",
          "name": "stderr",
          "text": [
            "\r  0%|          | 5/1268 [00:02<10:19,  2.04it/s]"
          ]
        },
        {
          "output_type": "stream",
          "name": "stdout",
          "text": [
            "Input: Khi tôi lên 7 , tôi chứng kiến cảnh người ta xử bắn công khai lần đầu tiên trong đời , nhưng tôi vẫn nghĩ cuộc sống của mình ở đây là hoàn toàn bình thường .\n",
            "Result: When I was , I was , I was going to show the first person who was the first time in my first time , but I was still thinking , I was still in my life .\n",
            "Inference finished! || Total inference time: 0:00:00.467780secs\n",
            "Preprocessing input sentence...\n",
            "Encoding input sentence...\n"
          ]
        },
        {
          "output_type": "stream",
          "name": "stderr",
          "text": [
            "\r  0%|          | 6/1268 [00:02<08:21,  2.52it/s]"
          ]
        },
        {
          "output_type": "stream",
          "name": "stdout",
          "text": [
            "Input: Gia đình của tôi không nghèo , và bản thân tôi thì chưa từng phải chịu đói .\n",
            "Result: My family is not poor , and my father was not going to be there .\n",
            "Inference finished! || Total inference time: 0:00:00.210617secs\n",
            "Preprocessing input sentence...\n",
            "Encoding input sentence...\n"
          ]
        },
        {
          "output_type": "stream",
          "name": "stderr",
          "text": [
            "\r  1%|          | 7/1268 [00:02<07:34,  2.78it/s]"
          ]
        },
        {
          "output_type": "stream",
          "name": "stdout",
          "text": [
            "Input: Nhưng vào một ngày của năm 1995 , mẹ tôi mang về nhà một lá thư từ một người chị em cùng chỗ làm với mẹ .\n",
            "Result: But in a year of the last year , my mother had a paper from a girl with a mother with the mother .\n",
            "Inference finished! || Total inference time: 0:00:00.277765secs\n",
            "Preprocessing input sentence...\n",
            "Encoding input sentence...\n"
          ]
        },
        {
          "output_type": "stream",
          "name": "stderr",
          "text": [
            "\r  1%|          | 8/1268 [00:03<08:46,  2.40it/s]"
          ]
        },
        {
          "output_type": "stream",
          "name": "stdout",
          "text": [
            "Input: Trong đó có viết : Khi chị đọc được những dòng này thì cả gia đình 5 người của em đã không còn trên cõi đời này nữa , bởi vì cả nhà em đã không có gì để ăn trong hai tuần .\n",
            "Result: In that : When you read this , they read this , the family of the family hasn &apos;t have been this life , because they don &apos;t have two weeks .\n",
            "Inference finished! || Total inference time: 0:00:00.533192secs\n",
            "Preprocessing input sentence...\n",
            "Encoding input sentence...\n"
          ]
        },
        {
          "output_type": "stream",
          "name": "stderr",
          "text": [
            "\r  1%|          | 9/1268 [00:03<07:30,  2.79it/s]"
          ]
        },
        {
          "output_type": "stream",
          "name": "stdout",
          "text": [
            "Input: Tất cả cùng nằm trên sàn , và cơ thể chúng tôi yếu đến có thể cảm thấy như cái chết đang đến rất gần .\n",
            "Result: All right on the left , and the body is that we can feel like this .\n",
            "Inference finished! || Total inference time: 0:00:00.220943secs\n",
            "Preprocessing input sentence...\n",
            "Encoding input sentence...\n",
            "Input: Tôi đã bị sốc .\n",
            "Result: I was very excited .\n",
            "Inference finished! || Total inference time: 0:00:00.079825secs\n",
            "Preprocessing input sentence...\n",
            "Encoding input sentence...\n"
          ]
        },
        {
          "output_type": "stream",
          "name": "stderr",
          "text": [
            "\r  1%|          | 11/1268 [00:03<05:39,  3.70it/s]"
          ]
        },
        {
          "output_type": "stream",
          "name": "stdout",
          "text": [
            "Input: Vì đó là lần đầu tiên tôi biết rằng đồng bào của tôi đang phải chịu đựng như vậy .\n",
            "Result: Because that &apos;s the first time I know that my cell is being going to be like .\n",
            "Inference finished! || Total inference time: 0:00:00.252924secs\n",
            "Preprocessing input sentence...\n",
            "Encoding input sentence...\n"
          ]
        },
        {
          "output_type": "stream",
          "name": "stderr",
          "text": [
            "\r  1%|          | 12/1268 [00:04<06:47,  3.08it/s]"
          ]
        },
        {
          "output_type": "stream",
          "name": "stdout",
          "text": [
            "Input: Không lâu sau đó , khi tôi đi qua một nhà ga , tôi nhìn thấy một cảnh tượng kinh hoàng mà tôi không bao giờ có thể quên\n",
            "Result: And it wasn &apos;t long after I went through a house , I saw a very , I couldn &apos;t have any kind of series that I could never be sure .\n",
            "Inference finished! || Total inference time: 0:00:00.478850secs\n",
            "Preprocessing input sentence...\n",
            "Encoding input sentence...\n"
          ]
        },
        {
          "output_type": "stream",
          "name": "stderr",
          "text": [
            "\r  1%|          | 13/1268 [00:04<07:20,  2.85it/s]"
          ]
        },
        {
          "output_type": "stream",
          "name": "stdout",
          "text": [
            "Input: Trên nền nhà ga là xác chết của một người đàn bà hai tay vẫn đang ôm một đứa bé hốc hác và đứa bé chỉ biết nhìn chằm chằm vào khuôn mặt của mẹ nó .\n",
            "Result: They &apos;re going to be a man who was going to be a two of the two , and the children are still just a little bit of the mother .\n",
            "Inference finished! || Total inference time: 0:00:00.417649secs\n",
            "Preprocessing input sentence...\n",
            "Encoding input sentence...\n"
          ]
        },
        {
          "output_type": "stream",
          "name": "stderr",
          "text": [
            "\r  1%|          | 14/1268 [00:05<06:48,  3.07it/s]"
          ]
        },
        {
          "output_type": "stream",
          "name": "stdout",
          "text": [
            "Input: Nhưng không có ai giúp họ , bởi vì tất cả đều đang phải lo cho chính mình và cả gia đình .\n",
            "Result: But nobody helped them , because all they are not interested in their family and family .\n",
            "Inference finished! || Total inference time: 0:00:00.251265secs\n",
            "Preprocessing input sentence...\n",
            "Encoding input sentence...\n"
          ]
        },
        {
          "output_type": "stream",
          "name": "stderr",
          "text": [
            "\r  1%|          | 15/1268 [00:05<06:43,  3.11it/s]"
          ]
        },
        {
          "output_type": "stream",
          "name": "stdout",
          "text": [
            "Input: Vào giữa những năm 90 , Bắc Triều Tiên trải qua một nạn đói trầm trọng .\n",
            "Result: In the past the last year , the United States , they &apos;ve been through a very important .\n",
            "Inference finished! || Total inference time: 0:00:00.305635secs\n",
            "Preprocessing input sentence...\n",
            "Encoding input sentence...\n"
          ]
        },
        {
          "output_type": "stream",
          "name": "stderr",
          "text": [
            "\r  1%|▏         | 16/1268 [00:06<13:33,  1.54it/s]"
          ]
        },
        {
          "output_type": "stream",
          "name": "stdout",
          "text": [
            "Input: Nó khiến hơn một triệu người Triều Tiên chết trong nạn đói , và nhiều người chỉ sống sót phải ăn cỏ , sâu bọ và vỏ cây .\n",
            "Result: It &apos;s more than a million people in the war , and many people have to live the sty , they have to be rected , they &apos;re going to be , and they &apos;re going to be , and they &apos;re going to be , and they &apos;re going to get the sty .\n",
            "Inference finished! || Total inference time: 0:00:01.455090secs\n",
            "Preprocessing input sentence...\n",
            "Encoding input sentence...\n"
          ]
        },
        {
          "output_type": "stream",
          "name": "stderr",
          "text": [
            "\r  1%|▏         | 17/1268 [00:08<21:21,  1.02s/it]"
          ]
        },
        {
          "output_type": "stream",
          "name": "stdout",
          "text": [
            "Input: Việc cúp điện ngày càng xảy ra thường xuyên , vì thế mọi thứ xung quanh tôi đều chìm vào bóng tối khi đêm đến ngoại trừ ánh sáng đèn từ phía Trung Quốc chỉ cách nhà tôi một con sông .\n",
            "Result: They &apos;re going to be more , because everything I &apos;ve got around around me , and it &apos;s all over the night , even when I &apos;m just across the country .\n",
            "Inference finished! || Total inference time: 0:00:01.923431secs\n",
            "Preprocessing input sentence...\n",
            "Encoding input sentence...\n"
          ]
        },
        {
          "output_type": "stream",
          "name": "stderr",
          "text": [
            "\r  1%|▏         | 18/1268 [00:09<19:05,  1.09it/s]"
          ]
        },
        {
          "output_type": "stream",
          "name": "stdout",
          "text": [
            "Input: Tôi lúc nào cũng tự hỏi là tại sao họ lại có điện còn chúng tôi thì không .\n",
            "Result: I &apos;m at why they have they have they have .\n",
            "Inference finished! || Total inference time: 0:00:00.646715secs\n",
            "Preprocessing input sentence...\n",
            "Encoding input sentence...\n"
          ]
        },
        {
          "output_type": "stream",
          "name": "stderr",
          "text": [
            "\r  1%|▏         | 19/1268 [00:10<17:34,  1.18it/s]"
          ]
        },
        {
          "output_type": "stream",
          "name": "stdout",
          "text": [
            "Input: Đây là một bức ảnh từ vệ tinh chụp Bắc Triều Tiên vào ban đêm trong tương quan với các nước xung quanh .\n",
            "Result: This is a picture from the North Pole in the last night with the water with the water .\n",
            "Inference finished! || Total inference time: 0:00:00.658987secs\n",
            "Preprocessing input sentence...\n",
            "Encoding input sentence...\n"
          ]
        },
        {
          "output_type": "stream",
          "name": "stderr",
          "text": [
            "\r  2%|▏         | 20/1268 [00:11<17:53,  1.16it/s]"
          ]
        },
        {
          "output_type": "stream",
          "name": "stdout",
          "text": [
            "Input: Đây là sông Áp Lục nó là biên giới tự nhiên giữa Bắc Triều Tiên và Trung Quốc .\n",
            "Result: This is the river of the U.S. is the world of the Middle East and China .\n",
            "Inference finished! || Total inference time: 0:00:00.889046secs\n",
            "Preprocessing input sentence...\n",
            "Encoding input sentence...\n"
          ]
        },
        {
          "output_type": "stream",
          "name": "stderr",
          "text": [
            "\r  2%|▏         | 21/1268 [00:11<17:50,  1.16it/s]"
          ]
        },
        {
          "output_type": "stream",
          "name": "stdout",
          "text": [
            "Input: Có thể thấy là lòng sông có đoạn rất hẹp vì thế một số người Bắc Triều Tiên bí mật vượt sang Trung Quốc .\n",
            "Result: It can see that they &apos;re very very , because some of the Americans who are going to go to the U.S.\n",
            "Inference finished! || Total inference time: 0:00:00.839123secs\n",
            "Preprocessing input sentence...\n",
            "Encoding input sentence...\n"
          ]
        },
        {
          "output_type": "stream",
          "name": "stderr",
          "text": [
            "\r  2%|▏         | 22/1268 [00:12<14:06,  1.47it/s]"
          ]
        },
        {
          "output_type": "stream",
          "name": "stdout",
          "text": [
            "Input: Nhưng rất nhiều người đã chết .\n",
            "Result: But many people who are killed .\n",
            "Inference finished! || Total inference time: 0:00:00.249124secs\n",
            "Preprocessing input sentence...\n",
            "Encoding input sentence...\n"
          ]
        },
        {
          "output_type": "stream",
          "name": "stderr",
          "text": [
            "\r  2%|▏         | 23/1268 [00:12<12:02,  1.72it/s]"
          ]
        },
        {
          "output_type": "stream",
          "name": "stdout",
          "text": [
            "Input: Và tôi đã nhìn thấy xác họ nổi trên sông .\n",
            "Result: And I saw them on they were going on .\n",
            "Inference finished! || Total inference time: 0:00:00.334366secs\n",
            "Preprocessing input sentence...\n",
            "Encoding input sentence...\n"
          ]
        },
        {
          "output_type": "stream",
          "name": "stderr",
          "text": [
            "\r  2%|▏         | 24/1268 [00:13<15:02,  1.38it/s]"
          ]
        },
        {
          "output_type": "stream",
          "name": "stdout",
          "text": [
            "Input: Tôi không thể nói cụ thể về việc mình đã trốn khỏi Bắc Triều Tiên như thế nào chỉ có thể nói rằng trong những năm tháng khốn khó vì nạn đói ấy tôi được gửi sang Trung Quốc để sống với một người họ hàng xa .\n",
            "Result: I can &apos;t talk about what I &apos;ve been talking about how I can say that they &apos;re going to say that the year of the war is , because there was a lot of people who were going to live in themselves .\n",
            "Inference finished! || Total inference time: 0:00:01.057442secs\n",
            "Preprocessing input sentence...\n",
            "Encoding input sentence...\n"
          ]
        },
        {
          "output_type": "stream",
          "name": "stderr",
          "text": [
            "\r  2%|▏         | 25/1268 [00:13<12:32,  1.65it/s]"
          ]
        },
        {
          "output_type": "stream",
          "name": "stdout",
          "text": [
            "Input: Lúc đó , tôi chỉ nghĩ rằng mình sẽ phải xa gia đình một thời gian ngắn .\n",
            "Result: And I think that I &apos;m going to think I &apos;m going to have to be a long time .\n",
            "Inference finished! || Total inference time: 0:00:00.316647secs\n",
            "Preprocessing input sentence...\n",
            "Encoding input sentence...\n"
          ]
        },
        {
          "output_type": "stream",
          "name": "stderr",
          "text": [
            "\r  2%|▏         | 26/1268 [00:14<11:00,  1.88it/s]"
          ]
        },
        {
          "output_type": "stream",
          "name": "stdout",
          "text": [
            "Input: chứ không bao giờ tôi có thể tưởng tượng rằng tôi sẽ phải xa họ những 14 năm ròng .\n",
            "Result: I never imagine that I &apos;m going to imagine that they &apos;re going to have to be the last year .\n",
            "Inference finished! || Total inference time: 0:00:00.352800secs\n",
            "Preprocessing input sentence...\n",
            "Encoding input sentence...\n"
          ]
        },
        {
          "output_type": "stream",
          "name": "stderr",
          "text": [
            "\r  2%|▏         | 27/1268 [00:14<09:00,  2.30it/s]"
          ]
        },
        {
          "output_type": "stream",
          "name": "stdout",
          "text": [
            "Input: Ở Trung Quốc , cuộc sống của một cô bé bị cách ly khỏi gia đình như tôi rất khó khăn .\n",
            "Result: In China , her life was born from my family as well as well as well .\n",
            "Inference finished! || Total inference time: 0:00:00.204381secs\n",
            "Preprocessing input sentence...\n",
            "Encoding input sentence...\n"
          ]
        },
        {
          "output_type": "stream",
          "name": "stderr",
          "text": [
            "\r  2%|▏         | 28/1268 [00:15<11:29,  1.80it/s]"
          ]
        },
        {
          "output_type": "stream",
          "name": "stdout",
          "text": [
            "Input: Tôi đã không tưởng được những gì xảy đến với cuộc sống của một người tị nạn từ Bắc Triều Tiên thì sẽ như thế nào , nhưng tôi sớm nhận ra rằng nó không những rất khó khăn , mà còn vô cùng nguy hiểm , vì những người tị nạn từ Bắc Triều Tiên vào Trung Quốc đều bị coi là dân nhập cư trái phép .\n",
            "Result: I didn &apos;t have to imagine what was going to be a life of a war from the United States , but I was going to realize that it wasn &apos;t very difficult to be very difficult , because the Chinese , because the Chinese , they were in the United States .\n",
            "Inference finished! || Total inference time: 0:00:00.829940secs\n",
            "Preprocessing input sentence...\n",
            "Encoding input sentence...\n"
          ]
        },
        {
          "output_type": "stream",
          "name": "stderr",
          "text": [
            "\r  2%|▏         | 29/1268 [00:15<11:27,  1.80it/s]"
          ]
        },
        {
          "output_type": "stream",
          "name": "stdout",
          "text": [
            "Input: Tôi luôn sống trong một nỗi sợ thường trực rằng danh tính của tôi sẽ bị phát hiện , và tôi sẽ bị trả về với cuộc sống cũ ở Bắc Triều Tiên .\n",
            "Result: I always live in a very interest that my favorite , and I &apos;m going to be going to be going to be going to be going to be in the old age of the United States .\n",
            "Inference finished! || Total inference time: 0:00:00.546768secs\n",
            "Preprocessing input sentence...\n",
            "Encoding input sentence...\n"
          ]
        },
        {
          "output_type": "stream",
          "name": "stderr",
          "text": [
            "\r  2%|▏         | 30/1268 [00:16<11:03,  1.87it/s]"
          ]
        },
        {
          "output_type": "stream",
          "name": "stdout",
          "text": [
            "Input: Một ngày , cơn ác mộng đó đã thành sự thật , tôi đã bị cảnh sát Trung Quốc bắt và đưa đến đồn cảnh sát để chất vấn .\n",
            "Result: One day , the stindin was really , I was born and started to put the very , to go to the very , to the very problem .\n",
            "Inference finished! || Total inference time: 0:00:00.485022secs\n",
            "Preprocessing input sentence...\n",
            "Encoding input sentence...\n"
          ]
        },
        {
          "output_type": "stream",
          "name": "stderr",
          "text": [
            "  3%|▎         | 32/1268 [00:17<08:43,  2.36it/s]"
          ]
        },
        {
          "output_type": "stream",
          "name": "stdout",
          "text": [
            "Input: Có ai đó đã báo với họ rằng tôi là người Bắc Triều Tiên , vì thế họ đã kiểm tra khả năng tiếng Trung của tôi và hỏi tôi rất nhiều câu hỏi .\n",
            "Result: There &apos;s someone who was that they were the United States , so they were going to be able to learn my own , and asked me a lot of questions .\n",
            "Inference finished! || Total inference time: 0:00:00.483636secs\n",
            "Preprocessing input sentence...\n",
            "Encoding input sentence...\n",
            "Input: Tôi đã vô cùng sợ hãi , và có cảm giác như tim mình sắp nổ tung .\n",
            "Result: I was very excited , and there was a heart like my heart .\n",
            "Inference finished! || Total inference time: 0:00:00.187754secs\n",
            "Preprocessing input sentence...\n",
            "Encoding input sentence...\n"
          ]
        },
        {
          "output_type": "stream",
          "name": "stderr",
          "text": [
            "\r  3%|▎         | 33/1268 [00:17<11:01,  1.87it/s]"
          ]
        },
        {
          "output_type": "stream",
          "name": "stdout",
          "text": [
            "Input: Vì nếu như họ thấy có điều gì không tự nhiên , tôi sẽ bị tống vào tù và rồi bị trả về nước .\n",
            "Result: Because if they see what they &apos;re not going to be , I &apos;m going to be in the hospital and then they &apos;re going to be going to be going to be going to be going to be going to be going to be able to get the water .\n",
            "Inference finished! || Total inference time: 0:00:00.790034secs\n",
            "Preprocessing input sentence...\n",
            "Encoding input sentence...\n"
          ]
        },
        {
          "output_type": "stream",
          "name": "stderr",
          "text": [
            "\r  3%|▎         | 34/1268 [00:18<10:11,  2.02it/s]"
          ]
        },
        {
          "output_type": "stream",
          "name": "stdout",
          "text": [
            "Input: Tôi nghĩ cuộc đời mình đến đây là chấm dứt , nhưng tôi vẫn cố gắng điều khiển những cảm xúc của mình và trả lời những câu hỏi của họ .\n",
            "Result: I think my life is going to be the end of my own , but I still trying to try and try to make my answers and answer their questions .\n",
            "Inference finished! || Total inference time: 0:00:00.394571secs\n",
            "Preprocessing input sentence...\n",
            "Encoding input sentence...\n"
          ]
        },
        {
          "output_type": "stream",
          "name": "stderr",
          "text": [
            "  3%|▎         | 36/1268 [00:18<07:13,  2.84it/s]"
          ]
        },
        {
          "output_type": "stream",
          "name": "stdout",
          "text": [
            "Input: Sau khi hỏi xong , một trong hai cảnh sát nói với người kia , Đây là một vụ chỉ điểm sai .\n",
            "Result: After , when they were , one of the two people said , this is a really wrong .\n",
            "Inference finished! || Total inference time: 0:00:00.288781secs\n",
            "Preprocessing input sentence...\n",
            "Encoding input sentence...\n",
            "Input: Nó không phải là người Bắc Triều Tiên . &quot;\n",
            "Result: It &apos;s not the North Pole . &quot;\n",
            "Inference finished! || Total inference time: 0:00:00.150333secs\n",
            "Preprocessing input sentence...\n",
            "Encoding input sentence...\n"
          ]
        },
        {
          "output_type": "stream",
          "name": "stderr",
          "text": [
            "\r  3%|▎         | 37/1268 [00:18<06:06,  3.36it/s]"
          ]
        },
        {
          "output_type": "stream",
          "name": "stdout",
          "text": [
            "Input: Và họ thả tôi ra . Đó quả là một phép màu .\n",
            "Result: And they were going to go . It was a blue .\n",
            "Inference finished! || Total inference time: 0:00:00.164270secs\n",
            "Preprocessing input sentence...\n",
            "Encoding input sentence...\n"
          ]
        },
        {
          "output_type": "stream",
          "name": "stderr",
          "text": [
            "  3%|▎         | 39/1268 [00:19<06:36,  3.10it/s]"
          ]
        },
        {
          "output_type": "stream",
          "name": "stdout",
          "text": [
            "Input: Một số người Bắc Triều Tiên ở Trung Quốc đã đến những đại sứ quán của nước ngoài để xin tị nạn , nhưng rất nhiều trong số đó đã bị bắt bởi cảnh sát Trung Quốc và bị trả về nước .\n",
            "Result: Some of the United States in China , has to come to the waters of the water , but many of these many of the governments are started by the government and they were going to be , and they were going to be coming up .\n",
            "Inference finished! || Total inference time: 0:00:00.661119secs\n",
            "Preprocessing input sentence...\n",
            "Encoding input sentence...\n",
            "Input: những cô gái này đã rất may mắn .\n",
            "Result: And these girls are very lucky .\n",
            "Inference finished! || Total inference time: 0:00:00.115119secs\n",
            "Preprocessing input sentence...\n",
            "Encoding input sentence...\n"
          ]
        },
        {
          "output_type": "stream",
          "name": "stderr",
          "text": [
            "\r  3%|▎         | 40/1268 [00:20<06:45,  3.03it/s]"
          ]
        },
        {
          "output_type": "stream",
          "name": "stdout",
          "text": [
            "Input: vì mặc dù đã bị bắt , nhưng cuối cùng học cũng được thả ra nhờ vào sức ép từ cộng đồng quốc tế .\n",
            "Result: Because even though , the finally , the finally , the finally was made by the community of the United States .\n",
            "Inference finished! || Total inference time: 0:00:00.340202secs\n",
            "Preprocessing input sentence...\n",
            "Encoding input sentence...\n"
          ]
        },
        {
          "output_type": "stream",
          "name": "stderr",
          "text": [
            "\r  3%|▎         | 41/1268 [00:20<06:12,  3.29it/s]"
          ]
        },
        {
          "output_type": "stream",
          "name": "stdout",
          "text": [
            "Input: Nhưng những người Bắc Triều Tiên này thì không được may mắn như vậy .\n",
            "Result: But they &apos;re not lucky , it &apos;s not enough .\n",
            "Inference finished! || Total inference time: 0:00:00.234835secs\n",
            "Preprocessing input sentence...\n",
            "Encoding input sentence...\n"
          ]
        },
        {
          "output_type": "stream",
          "name": "stderr",
          "text": [
            "\r  3%|▎         | 42/1268 [00:20<08:41,  2.35it/s]"
          ]
        },
        {
          "output_type": "stream",
          "name": "stdout",
          "text": [
            "Input: Hàng năm , có vô số người Bắc Triều Tiên bị bắt ở Trung Quốc và bị trả về nước , nơi mà họ bị tra tấn , bị giam cầm hoặc bị xử tử công khai .\n",
            "Result: In the last year , there was a lot of the United States and they were going to be , where they were going to be , or they were sced by scing , or scing the sts of scing .\n",
            "Inference finished! || Total inference time: 0:00:00.701692secs\n",
            "Preprocessing input sentence...\n",
            "Encoding input sentence...\n"
          ]
        },
        {
          "output_type": "stream",
          "name": "stderr",
          "text": [
            "\r  3%|▎         | 43/1268 [00:21<08:36,  2.37it/s]"
          ]
        },
        {
          "output_type": "stream",
          "name": "stdout",
          "text": [
            "Input: Trong khi tôi rất may mắn vì đã được thả ra thì rất nhiều đồng bào của tôi lại không được như vậy .\n",
            "Result: In my father was lucky because I was very much of my cells , and so many of my own cells didn &apos;t have .\n",
            "Inference finished! || Total inference time: 0:00:00.404051secs\n",
            "Preprocessing input sentence...\n",
            "Encoding input sentence...\n"
          ]
        },
        {
          "output_type": "stream",
          "name": "stderr",
          "text": [
            "\r  3%|▎         | 44/1268 [00:22<13:12,  1.54it/s]"
          ]
        },
        {
          "output_type": "stream",
          "name": "stdout",
          "text": [
            "Input: Việc người Bắc Triều Tiên phải che dấu danh tính của mình và đấu tranh để tồn tại quả là một bi kịch .\n",
            "Result: The United States , they have to be the styted to get their own , and they were a very , a very very , a very very , a very , a very very , a very very , a very very , a very very , .\n",
            "Inference finished! || Total inference time: 0:00:01.167317secs\n",
            "Preprocessing input sentence...\n",
            "Encoding input sentence...\n"
          ]
        },
        {
          "output_type": "stream",
          "name": "stderr",
          "text": [
            "\r  4%|▎         | 45/1268 [00:23<13:19,  1.53it/s]"
          ]
        },
        {
          "output_type": "stream",
          "name": "stdout",
          "text": [
            "Input: Kể cả khi đã học tiếng Trung và tìm được một công việc , thì cuộc sống của họ cũng có thể bị đảo lộn hoàn toàn chỉ trong một khoảng khắc .\n",
            "Result: And even when they learned and find a job , they can be also been , they can be also been also , just also , just a moment of time .\n",
            "Inference finished! || Total inference time: 0:00:00.657743secs\n",
            "Preprocessing input sentence...\n",
            "Encoding input sentence...\n"
          ]
        },
        {
          "output_type": "stream",
          "name": "stderr",
          "text": [
            "\r  4%|▎         | 46/1268 [00:23<12:43,  1.60it/s]"
          ]
        },
        {
          "output_type": "stream",
          "name": "stdout",
          "text": [
            "Input: Đó là lý do tại sao sau 10 năm che dấu danh tính thật tôi quyết định liều mình đi đến Hàn Quốc , để bắt đầu một cuộc sống mới một lần nữa .\n",
            "Result: That &apos;s why 10 years ago , they decided to make me , to go to the U.S. , to start a new life .\n",
            "Inference finished! || Total inference time: 0:00:00.545316secs\n",
            "Preprocessing input sentence...\n",
            "Encoding input sentence...\n"
          ]
        },
        {
          "output_type": "stream",
          "name": "stderr",
          "text": [
            "\r  4%|▎         | 47/1268 [00:24<10:41,  1.90it/s]"
          ]
        },
        {
          "output_type": "stream",
          "name": "stdout",
          "text": [
            "Input: Việc ổn định cuộc sống ở đây khó khăn hơn nhiều so với tôi tưởng tượng .\n",
            "Result: The very , very difficult to live in a lot more than I think .\n",
            "Inference finished! || Total inference time: 0:00:00.285333secs\n",
            "Preprocessing input sentence...\n",
            "Encoding input sentence...\n"
          ]
        },
        {
          "output_type": "stream",
          "name": "stderr",
          "text": [
            "\r  4%|▍         | 48/1268 [00:24<10:17,  1.97it/s]"
          ]
        },
        {
          "output_type": "stream",
          "name": "stdout",
          "text": [
            "Input: Vì ở Hàn Quốc , tiếng Anh có vị trí vô cùng quan trọng , nên tôi đã bắt đầu học tiếng Anh , ngôn ngữ thứ ba của tôi .\n",
            "Result: Because in China , the English is important , so I started to learn the third of the language , the third of my language .\n",
            "Inference finished! || Total inference time: 0:00:00.451424secs\n",
            "Preprocessing input sentence...\n",
            "Encoding input sentence...\n"
          ]
        },
        {
          "output_type": "stream",
          "name": "stderr",
          "text": [
            "\r  4%|▍         | 49/1268 [00:24<09:43,  2.09it/s]"
          ]
        },
        {
          "output_type": "stream",
          "name": "stdout",
          "text": [
            "Input: Tôi cũng nhận ra một khoảng cách rất lớn giữa người Nam và Bắc Triều Tiên .\n",
            "Result: I also realized about a big , the largestest people between the North Pole and the United States .\n",
            "Inference finished! || Total inference time: 0:00:00.401963secs\n",
            "Preprocessing input sentence...\n",
            "Encoding input sentence...\n"
          ]
        },
        {
          "output_type": "stream",
          "name": "stderr",
          "text": [
            "\r  4%|▍         | 50/1268 [00:25<10:30,  1.93it/s]"
          ]
        },
        {
          "output_type": "stream",
          "name": "stdout",
          "text": [
            "Input: Chúng tôi đều là người Triều Tiên , nhưng đã trở nên rất khác nhau do hậu quả của 67 năm bị chia cắt .\n",
            "Result: We all are the people who , but it &apos;s very different , because they &apos;ve been very differently of the year of the year .\n",
            "Inference finished! || Total inference time: 0:00:00.595427secs\n",
            "Preprocessing input sentence...\n",
            "Encoding input sentence...\n"
          ]
        },
        {
          "output_type": "stream",
          "name": "stderr",
          "text": [
            "\r  4%|▍         | 51/1268 [00:25<09:04,  2.23it/s]"
          ]
        },
        {
          "output_type": "stream",
          "name": "stdout",
          "text": [
            "Input: Tôi đã trải qua một cuộc khủng hoảng về nguồn gốc của mình .\n",
            "Result: I was going to experience a very , in my own culture .\n",
            "Inference finished! || Total inference time: 0:00:00.276283secs\n",
            "Preprocessing input sentence...\n",
            "Encoding input sentence...\n"
          ]
        },
        {
          "output_type": "stream",
          "name": "stderr",
          "text": [
            "  4%|▍         | 53/1268 [00:26<06:35,  3.07it/s]"
          ]
        },
        {
          "output_type": "stream",
          "name": "stdout",
          "text": [
            "Input: Tôi là người Nam Triều Tiên hay Bắc Triều Tiên ?\n",
            "Result: I &apos;m the United States or North Pole ?\n",
            "Inference finished! || Total inference time: 0:00:00.230230secs\n",
            "Preprocessing input sentence...\n",
            "Encoding input sentence...\n",
            "Input: Tôi đến từ đâu ? và Tôi là ai ?\n",
            "Result: I went from ? I and Is ?\n",
            "Inference finished! || Total inference time: 0:00:00.173430secs\n",
            "Preprocessing input sentence...\n",
            "Encoding input sentence...\n"
          ]
        },
        {
          "output_type": "stream",
          "name": "stderr",
          "text": [
            "\r  4%|▍         | 54/1268 [00:26<06:25,  3.15it/s]"
          ]
        },
        {
          "output_type": "stream",
          "name": "stdout",
          "text": [
            "Input: Bỗng nhiên , tôi chẳng có một đất nước nào để có thể tự hào gọi là Tổ quốc .\n",
            "Result: Now , of course , I don &apos;t have a country to be able to call the U.S.\n",
            "Inference finished! || Total inference time: 0:00:00.290902secs\n",
            "Preprocessing input sentence...\n",
            "Encoding input sentence...\n"
          ]
        },
        {
          "output_type": "stream",
          "name": "stderr",
          "text": [
            "  4%|▍         | 56/1268 [00:27<06:19,  3.19it/s]"
          ]
        },
        {
          "output_type": "stream",
          "name": "stdout",
          "text": [
            "Input: Mặc dù để thích ứng với cuộc sống ở Hàn Quốc thì không dễ chút nào Nhưng tôi đã lập một kế hoạch .\n",
            "Result: And even if they like to live in the United States , it &apos;s not a little bit of a little bit of a very good , but I &apos;ve been a design .\n",
            "Inference finished! || Total inference time: 0:00:00.514564secs\n",
            "Preprocessing input sentence...\n",
            "Encoding input sentence...\n",
            "Input: và bắt đầu học để chuẩn bị cho kì thi đại học .\n",
            "Result: And starting to learn to learn to learn to learn the school .\n",
            "Inference finished! || Total inference time: 0:00:00.153913secs\n",
            "Preprocessing input sentence...\n",
            "Encoding input sentence...\n"
          ]
        },
        {
          "output_type": "stream",
          "name": "stderr",
          "text": [
            "\r  4%|▍         | 57/1268 [00:27<06:35,  3.06it/s]"
          ]
        },
        {
          "output_type": "stream",
          "name": "stdout",
          "text": [
            "Input: Tuy vậy , ngay khi tôi vừa mới làm quen với cuộc sống ở đây , thì tôi được báo một tin khủng khiếp .\n",
            "Result: However , when I was going to be doing this in life , I was also interested in a very bad thing .\n",
            "Inference finished! || Total inference time: 0:00:00.350202secs\n",
            "Preprocessing input sentence...\n",
            "Encoding input sentence...\n"
          ]
        },
        {
          "output_type": "stream",
          "name": "stderr",
          "text": [
            "\r  5%|▍         | 58/1268 [00:28<08:15,  2.44it/s]"
          ]
        },
        {
          "output_type": "stream",
          "name": "stdout",
          "text": [
            "Input: Chính quyền Bắc Triều Tiên đã phát hiện ra số tiền mà tôi gửi về cho gia đình , và , để trừng phạt , họ sẽ bắt gia đình tôi phải chuyển về một vùng bị cách ly ở nông thôn .\n",
            "Result: The U.S. , they &apos;ve got took the money that I &apos;ve got to give you the family , and they &apos;re going to be able to go to the house in the middle of the middle of the middle .\n",
            "Inference finished! || Total inference time: 0:00:00.598094secs\n",
            "Preprocessing input sentence...\n",
            "Encoding input sentence...\n"
          ]
        },
        {
          "output_type": "stream",
          "name": "stderr",
          "text": [
            "\r  5%|▍         | 59/1268 [00:28<07:14,  2.78it/s]"
          ]
        },
        {
          "output_type": "stream",
          "name": "stdout",
          "text": [
            "Input: Để họ có thể nhanh chóng thoát ra khỏi đó , tôi bắt đầu lập kế hoạch giúp gia đình mình trốn thoát .\n",
            "Result: And they can get very quickly , I started to try to make my family .\n",
            "Inference finished! || Total inference time: 0:00:00.234025secs\n",
            "Preprocessing input sentence...\n",
            "Encoding input sentence...\n"
          ]
        },
        {
          "output_type": "stream",
          "name": "stderr",
          "text": [
            "\r  5%|▍         | 60/1268 [00:28<06:39,  3.03it/s]"
          ]
        },
        {
          "output_type": "stream",
          "name": "stdout",
          "text": [
            "Input: Người Bắc Triều Tiên đã phải vượt qua những khoảng cách dường như không tưởng để đến với tự do .\n",
            "Result: The United States has to be taken through about the way to think about the reasons to do .\n",
            "Inference finished! || Total inference time: 0:00:00.256698secs\n",
            "Preprocessing input sentence...\n",
            "Encoding input sentence...\n"
          ]
        },
        {
          "output_type": "stream",
          "name": "stderr",
          "text": [
            "\r  5%|▍         | 61/1268 [00:29<07:59,  2.52it/s]"
          ]
        },
        {
          "output_type": "stream",
          "name": "stdout",
          "text": [
            "Input: Bời vì việc vượt biên từ Bắc sang Nam Triều Tiên gần như là không thể , vì thế , tôi phải bay sang Trung Quốc rồi lại đi ngược về phía biên giới Bắc Triều Tiên .\n",
            "Result: Because they &apos;re going to be , from the North Pole is not like the U.S. , so I have to go to the U.S. , so I have to go back to the U.S.\n",
            "Inference finished! || Total inference time: 0:00:00.546137secs\n",
            "Preprocessing input sentence...\n",
            "Encoding input sentence...\n"
          ]
        },
        {
          "output_type": "stream",
          "name": "stderr",
          "text": [
            "\r  5%|▍         | 62/1268 [00:29<08:07,  2.48it/s]"
          ]
        },
        {
          "output_type": "stream",
          "name": "stdout",
          "text": [
            "Input: Bởi vì gia đình tôi không biết tiếng Trung , nên tôi phải đi cùng mọi người qua 2000 dặm ở Trung Quốc rồi vào đến Đông Nam Á\n",
            "Result: Because my family didn &apos;t know , so I had to go through the United States in the United States in the United States .\n",
            "Inference finished! || Total inference time: 0:00:00.414335secs\n",
            "Preprocessing input sentence...\n",
            "Encoding input sentence...\n"
          ]
        },
        {
          "output_type": "stream",
          "name": "stderr",
          "text": [
            "\r  5%|▍         | 63/1268 [00:30<07:41,  2.61it/s]"
          ]
        },
        {
          "output_type": "stream",
          "name": "stdout",
          "text": [
            "Input: Cuộc hành trình bằng xe buýt kéo dài khoảng 1 tuần , và đã vài lần chúng tôi suýt bị bắt .\n",
            "Result: The process of a long-year-old , and we &apos;ve been going to be very few times .\n",
            "Inference finished! || Total inference time: 0:00:00.327616secs\n",
            "Preprocessing input sentence...\n",
            "Encoding input sentence...\n"
          ]
        },
        {
          "output_type": "stream",
          "name": "stderr",
          "text": [
            "\r  5%|▌         | 64/1268 [00:30<06:55,  2.90it/s]"
          ]
        },
        {
          "output_type": "stream",
          "name": "stdout",
          "text": [
            "Input: Một lần , xe của chúng tôi bị chặn lại và bị khám xét bởi một cảnh sát Trung quốc .\n",
            "Result: In a time , our car was going to be , and we were born by a country .\n",
            "Inference finished! || Total inference time: 0:00:00.249350secs\n",
            "Preprocessing input sentence...\n",
            "Encoding input sentence...\n"
          ]
        },
        {
          "output_type": "stream",
          "name": "stderr",
          "text": [
            "\r  5%|▌         | 65/1268 [00:30<06:19,  3.17it/s]"
          ]
        },
        {
          "output_type": "stream",
          "name": "stdout",
          "text": [
            "Input: Anh ta thu chứng minh thư của tất cả mọi người , và bắt đầu tra hỏi .\n",
            "Result: He &apos;s going to show all the people , and start starting to ask .\n",
            "Inference finished! || Total inference time: 0:00:00.239883secs\n",
            "Preprocessing input sentence...\n",
            "Encoding input sentence...\n"
          ]
        },
        {
          "output_type": "stream",
          "name": "stderr",
          "text": [
            "\r  5%|▌         | 66/1268 [00:30<06:16,  3.20it/s]"
          ]
        },
        {
          "output_type": "stream",
          "name": "stdout",
          "text": [
            "Input: Bởi vì gia đình tôi không hiểu tiếng Trung , nên tôi đã nghĩ rằng họ sẽ bị bắt .\n",
            "Result: Because my family didn &apos;t understand the Chinese , so I thought they were going to be .\n",
            "Inference finished! || Total inference time: 0:00:00.300812secs\n",
            "Preprocessing input sentence...\n",
            "Encoding input sentence...\n"
          ]
        },
        {
          "output_type": "stream",
          "name": "stderr",
          "text": [
            "  5%|▌         | 68/1268 [00:31<06:57,  2.88it/s]"
          ]
        },
        {
          "output_type": "stream",
          "name": "stdout",
          "text": [
            "Input: Khi người cảnh sát Trung Quốc đến gần họ , tôi đã ngay lập tức đứng dậy và nói với anh ta rằng đây là những người câm điếc mà tôi đang phải đi cùng .\n",
            "Result: When they &apos;re going to see they &apos;ve been , I &apos;ve got to go back to the right , and I &apos;m going to go to the sty who are going to go to the same .\n",
            "Inference finished! || Total inference time: 0:00:00.637369secs\n",
            "Preprocessing input sentence...\n",
            "Encoding input sentence...\n",
            "Input: Anh ta nhìn tôi đầy nghi ngờ , nhưng thật may mắn là anh ta tin lời tôi .\n",
            "Result: He looked at me , but it was lucky to believe him .\n",
            "Inference finished! || Total inference time: 0:00:00.190812secs\n",
            "Preprocessing input sentence...\n",
            "Encoding input sentence...\n"
          ]
        },
        {
          "output_type": "stream",
          "name": "stderr",
          "text": [
            "\r  5%|▌         | 69/1268 [00:32<07:08,  2.80it/s]"
          ]
        },
        {
          "output_type": "stream",
          "name": "stdout",
          "text": [
            "Input: Và chúng tôi tiếp tục đi cho tới biên giới Lào , nhung tôi đã phải sử dụng gần như toàn bộ số tiền mà mình có để hối lộ cho những người canh gác biên giới Lào .\n",
            "Result: And we go back to the world , the needed to use the whole world , which has to be across the money that we have to protect the world .\n",
            "Inference finished! || Total inference time: 0:00:00.372728secs\n",
            "Preprocessing input sentence...\n",
            "Encoding input sentence...\n"
          ]
        },
        {
          "output_type": "stream",
          "name": "stderr",
          "text": [
            "\r  6%|▌         | 70/1268 [00:32<07:31,  2.65it/s]"
          ]
        },
        {
          "output_type": "stream",
          "name": "stdout",
          "text": [
            "Input: Tuy nhiên , sau khi chúng tôi qua được biên giới , gia đình tôi lại bị bắt vào tù vì tội vượt biên trái phép .\n",
            "Result: However , after we &apos;ve been going to be , my family , my family was going to be coming up in the middle of the right .\n",
            "Inference finished! || Total inference time: 0:00:00.417899secs\n",
            "Preprocessing input sentence...\n",
            "Encoding input sentence...\n"
          ]
        },
        {
          "output_type": "stream",
          "name": "stderr",
          "text": [
            "  6%|▌         | 72/1268 [00:33<06:32,  3.05it/s]"
          ]
        },
        {
          "output_type": "stream",
          "name": "stdout",
          "text": [
            "Input: Sau khi tôi nộp tiền phạt và đưa hối lộ , gia đình tôi được thả ra trong một tháng , rồi lại bị bắt lần nữa ở thủ đô của Lào\n",
            "Result: After I went to the money and put my family , my family was born in a month , and then after a year of the series of the series of the stya .\n",
            "Inference finished! || Total inference time: 0:00:00.492133secs\n",
            "Preprocessing input sentence...\n",
            "Encoding input sentence...\n",
            "Input: Đó là thời điểm tuyệt vọng nhất trong cuộc đời tôi .\n",
            "Result: It was the most amazing time in my life .\n",
            "Inference finished! || Total inference time: 0:00:00.121359secs\n",
            "Preprocessing input sentence...\n",
            "Encoding input sentence...\n"
          ]
        },
        {
          "output_type": "stream",
          "name": "stderr",
          "text": [
            "\r  6%|▌         | 73/1268 [00:33<08:53,  2.24it/s]"
          ]
        },
        {
          "output_type": "stream",
          "name": "stdout",
          "text": [
            "Input: Tôi đã làm đủ mọi cách để đưa gia đình mình đến với tự do , và chũng tôi gần như đã thành công nhưng họ lại bị bắt trong khi chúng tôi chỉ còn cách đại sứ quán Hàn Quốc một khoảng cách rất ngắn nữa thôi .\n",
            "Result: I &apos;ve done all of the way to put my family with my family , and I &apos;ve been very close to the , but they &apos;ve been very much , and they &apos;re just very quickly , very quickly .\n",
            "Inference finished! || Total inference time: 0:00:00.716012secs\n",
            "Preprocessing input sentence...\n",
            "Encoding input sentence...\n"
          ]
        },
        {
          "output_type": "stream",
          "name": "stderr",
          "text": [
            "\r  6%|▌         | 74/1268 [00:34<09:24,  2.12it/s]"
          ]
        },
        {
          "output_type": "stream",
          "name": "stdout",
          "text": [
            "Input: Tôi đi đi về về giữa phòng xuất nhập cảnh và đồn cảnh sát , tuyệt vọng tìm cách để đưa gia đình mình thoát khỏi đó , nhưng tôi không còn đủ tiền để hối lộ hay trả tiền phạt nữa .\n",
            "Result: I go back to the room between the middle and they &apos;re going to find the , the greatest way to get my family , but I don &apos;t have enough money to get money or not .\n",
            "Inference finished! || Total inference time: 0:00:00.526769secs\n",
            "Preprocessing input sentence...\n",
            "Encoding input sentence...\n",
            "Input: Tôi hoàn toàn tuyệt vọng .\n",
            "Result: I was great .\n",
            "Inference finished! || Total inference time: 0:00:00.059566secs\n",
            "Preprocessing input sentence...\n",
            "Encoding input sentence...\n"
          ]
        },
        {
          "output_type": "stream",
          "name": "stderr",
          "text": [
            "\r  6%|▌         | 76/1268 [00:34<06:27,  3.08it/s]"
          ]
        },
        {
          "output_type": "stream",
          "name": "stdout",
          "text": [
            "Input: Đúng vào lúc đó , có một người đàn ông đã hỏi tôi , &quot; Có chuyện gì vậy ? &quot;\n",
            "Result: Right ? I had a man asked me , &quot; What do you do ? &quot;\n",
            "Inference finished! || Total inference time: 0:00:00.234352secs\n",
            "Preprocessing input sentence...\n",
            "Encoding input sentence...\n"
          ]
        },
        {
          "output_type": "stream",
          "name": "stderr",
          "text": [
            "\r  6%|▌         | 77/1268 [00:34<06:08,  3.23it/s]"
          ]
        },
        {
          "output_type": "stream",
          "name": "stdout",
          "text": [
            "Input: Tôi vô cùng ngạc nhiên khi một người hoàn toàn xa lạ lại quan tâm tới mức hỏi tôi như vậy .\n",
            "Result: I was very surprised when a very long-term people asked me to ask me .\n",
            "Inference finished! || Total inference time: 0:00:00.255751secs\n",
            "Preprocessing input sentence...\n",
            "Encoding input sentence...\n"
          ]
        },
        {
          "output_type": "stream",
          "name": "stderr",
          "text": [
            "\r  6%|▌         | 78/1268 [00:35<08:39,  2.29it/s]"
          ]
        },
        {
          "output_type": "stream",
          "name": "stdout",
          "text": [
            "Input: Bằng vốn tiếng Anh ít ỏi của mình và một quyển từ điển , tôi đã kể cho cho ông ta nghe hoàn cảnh của gia đình tôi . Không một chút do dự , người đàn ông đó đã đi tới máy ATM. trả tất cả số tiền còn thiếu cho cả gia đình tôi và hai người Bắc Triều Tiên khác để họ được ra tù\n",
            "Result: In the English , a few months , a word from me , I tell him to be also a little bit of my family , not also for the two , and they were also to go to the other people who were going to go to the United States and they were going to be they were born .\n",
            "Inference finished! || Total inference time: 0:00:00.789682secs\n",
            "Preprocessing input sentence...\n",
            "Encoding input sentence...\n"
          ]
        },
        {
          "output_type": "stream",
          "name": "stderr",
          "text": [
            "\r  6%|▌         | 79/1268 [00:36<08:26,  2.35it/s]"
          ]
        },
        {
          "output_type": "stream",
          "name": "stdout",
          "text": [
            "Input: Tôi đã cám ơn ông ta bằng cả trái tim mình , và tôi cũng hỏi , &quot; Tại sao ông lại giúp đỡ tôi ? &quot;\n",
            "Result: I &apos;m going to thank you with my heart , and I asked , &quot; Why did you help me ? &quot;\n",
            "Inference finished! || Total inference time: 0:00:00.391721secs\n",
            "Preprocessing input sentence...\n",
            "Encoding input sentence...\n"
          ]
        },
        {
          "output_type": "stream",
          "name": "stderr",
          "text": [
            "\r  6%|▋         | 80/1268 [00:36<08:06,  2.44it/s]"
          ]
        },
        {
          "output_type": "stream",
          "name": "stdout",
          "text": [
            "Input: &quot; Tôi không giúp đỡ cô , &quot; Ông ta trả lời .\n",
            "Result: &quot; I don &apos;t help her help , &quot; Hey &apos;s answer .\n",
            "Inference finished! || Total inference time: 0:00:00.360736secs\n",
            "Preprocessing input sentence...\n",
            "Encoding input sentence...\n"
          ]
        },
        {
          "output_type": "stream",
          "name": "stderr",
          "text": [
            "\r  6%|▋         | 81/1268 [00:36<07:40,  2.57it/s]"
          ]
        },
        {
          "output_type": "stream",
          "name": "stdout",
          "text": [
            "Input: &quot; &apos; Tôi đang giúp người Bắc Triều Tiên . &quot;\n",
            "Result: &quot; I &apos;m going to help the United States . &quot;\n",
            "Inference finished! || Total inference time: 0:00:00.322093secs\n",
            "Preprocessing input sentence...\n",
            "Encoding input sentence...\n"
          ]
        },
        {
          "output_type": "stream",
          "name": "stderr",
          "text": [
            "\r  6%|▋         | 82/1268 [00:37<07:21,  2.69it/s]"
          ]
        },
        {
          "output_type": "stream",
          "name": "stdout",
          "text": [
            "Input: Tôi nhận ra rằng đó là một khoảng khắc có ý nghĩa vô cùng to lớn trong cuộc đời tôi .\n",
            "Result: I realized that this is a great idea that means the big , in my life .\n",
            "Inference finished! || Total inference time: 0:00:00.319421secs\n",
            "Preprocessing input sentence...\n",
            "Encoding input sentence...\n"
          ]
        },
        {
          "output_type": "stream",
          "name": "stderr",
          "text": [
            "\r  7%|▋         | 83/1268 [00:38<11:13,  1.76it/s]"
          ]
        },
        {
          "output_type": "stream",
          "name": "stdout",
          "text": [
            "Input: Lòng tốt từ người đàn ông xa lạ trở thành biểu tượng hy vọng mới cho tôi và cả những người dân Bắc Triều Tiên khi mà chúng tôi đang rất cần nó , và ông ta đã cho tôi thấy lòng tốt từ những người xa lạ và sự hỗ trợ của cộng đồng quốc tế chính là những tia hy vọng mà người Bắc Triều Tiên chúng tôi đang tìm kiếm .\n",
            "Result: The good news from the men who are very powerful for me to hope for me and the people that we &apos;re very , and he &apos;d been very good for the very good people who are very good for the poor , and he &apos;s going to see the most of the world .\n",
            "Inference finished! || Total inference time: 0:00:01.033006secs\n",
            "Preprocessing input sentence...\n",
            "Encoding input sentence...\n"
          ]
        },
        {
          "output_type": "stream",
          "name": "stderr",
          "text": [
            "\r  7%|▋         | 84/1268 [00:38<10:45,  1.84it/s]"
          ]
        },
        {
          "output_type": "stream",
          "name": "stdout",
          "text": [
            "Input: Cuối cùng , sau một cuộc hành trình dài tôi và gia đình đã được đoàn tụ ở Hàn Quốc , nhưng đến được với tự do mới chỉ là một nửa của cuộc đấu tranh .\n",
            "Result: And finally , after a long time , I was a family and my family was born , but to be a new way of the war .\n",
            "Inference finished! || Total inference time: 0:00:00.483072secs\n",
            "Preprocessing input sentence...\n",
            "Encoding input sentence...\n"
          ]
        },
        {
          "output_type": "stream",
          "name": "stderr",
          "text": [
            "\r  7%|▋         | 85/1268 [00:39<12:27,  1.58it/s]"
          ]
        },
        {
          "output_type": "stream",
          "name": "stdout",
          "text": [
            "Input: Rất nhiều người Bắc Triều Tiên đang bị chia cắt với gia đình của họ , và khi họ đến được một đất nước khác , họ phải bắt đầu từ đầu với rất ít hoặc gần như không có tiền bạc .\n",
            "Result: Many of the Americans are going to be , and when they were going to be able to get a different country , they were starting to start from a few very long-year-old , or not like a very long-term money .\n",
            "Inference finished! || Total inference time: 0:00:00.827054secs\n",
            "Preprocessing input sentence...\n",
            "Encoding input sentence...\n"
          ]
        },
        {
          "output_type": "stream",
          "name": "stderr",
          "text": [
            "\r  7%|▋         | 86/1268 [00:40<12:09,  1.62it/s]"
          ]
        },
        {
          "output_type": "stream",
          "name": "stdout",
          "text": [
            "Input: Vì thế chúng tôi có thể nhận sự trợ giúp từ cộng đồng quốc tế cho giáo dục , đào tạo tiếng Anh , dạy nghề , và nhiều lĩnh vực khác .\n",
            "Result: So we can get the global society from the United States , they &apos;re going to make a lot of the other , and many different countries .\n",
            "Inference finished! || Total inference time: 0:00:00.573257secs\n",
            "Preprocessing input sentence...\n",
            "Encoding input sentence...\n"
          ]
        },
        {
          "output_type": "stream",
          "name": "stderr",
          "text": [
            "\r  7%|▋         | 87/1268 [00:41<14:03,  1.40it/s]"
          ]
        },
        {
          "output_type": "stream",
          "name": "stdout",
          "text": [
            "Input: Chúng tôi cũng có thể đóng vai trò như cầu nối giữa những người đang ở trong Bắc Triều Tiên với thế giới bên ngoài , bởi vì có rất nhiều người trong chúng tôi đang giữ liên lạc với những thành viên gia đình khác ở trong nước , và chúng tôi chia sẻ với họ thông tin và tiền bạc để có thể thay đổi Bắc Triều Tiên từ phía trong .\n",
            "Result: We also can also put the game between the worlds in the world , because there are many people in the world , because there are many people who are very much in the country , and we share with them in the country and to share with them from the healthy .\n",
            "Inference finished! || Total inference time: 0:00:00.935164secs\n",
            "Preprocessing input sentence...\n",
            "Encoding input sentence...\n"
          ]
        },
        {
          "output_type": "stream",
          "name": "stderr",
          "text": [
            "\r  7%|▋         | 88/1268 [00:41<12:33,  1.57it/s]"
          ]
        },
        {
          "output_type": "stream",
          "name": "stdout",
          "text": [
            "Input: Tôi đã vô cùng may mắn khi nhận được rất nhiều sự giúp đỡ và được truyền cảm hứng trong suốt cuộc đời mình , vì vậy tôi muốn mình cũng có thể chung sức để mang đến cho đất nước tôi một cơ hội để phát triển cùng với sự hỗ trợ của quốc tế .\n",
            "Result: I was lucky enough to realize that many of the helps help and helped me because I wanted to be able to make my own country to be also to build a global country .\n",
            "Inference finished! || Total inference time: 0:00:00.450460secs\n",
            "Preprocessing input sentence...\n",
            "Encoding input sentence...\n"
          ]
        },
        {
          "output_type": "stream",
          "name": "stderr",
          "text": [
            "  7%|▋         | 91/1268 [00:42<06:42,  2.92it/s]"
          ]
        },
        {
          "output_type": "stream",
          "name": "stdout",
          "text": [
            "Input: Tôi tin tưởng rằng các bạn sẽ nhìn thấy ngày càng nhiều người Bắc Triều Tiên thành công ở mọi nơi trên thế giới , kể cả trên sân khấu của TED\n",
            "Result: I believe that you &apos;re going to see more more than they &apos;re going to see the world in the world , they talk about TED .\n",
            "Inference finished! || Total inference time: 0:00:00.388043secs\n",
            "Preprocessing input sentence...\n",
            "Encoding input sentence...\n",
            "Input: Cám ơn các bạn .\n",
            "Result: Thank you .\n",
            "Inference finished! || Total inference time: 0:00:00.050045secs\n",
            "Preprocessing input sentence...\n",
            "Encoding input sentence...\n",
            "Input: Hôm nay tôi chỉ có một yêu cầu mà thôi .\n",
            "Result: Today I just have a question .\n",
            "Inference finished! || Total inference time: 0:00:00.100890secs\n",
            "Preprocessing input sentence...\n",
            "Encoding input sentence...\n"
          ]
        },
        {
          "output_type": "stream",
          "name": "stderr",
          "text": [
            "  7%|▋         | 93/1268 [00:42<05:07,  3.82it/s]"
          ]
        },
        {
          "output_type": "stream",
          "name": "stdout",
          "text": [
            "Input: Xin đừng nói với tôi rằng tôi bình thường .\n",
            "Result: You don &apos;t say I &apos;m sure I &apos;m sure .\n",
            "Inference finished! || Total inference time: 0:00:00.221956secs\n",
            "Preprocessing input sentence...\n",
            "Encoding input sentence...\n",
            "Input: Bây giờ tôi muốn giới thiệu các bạn với những người em trai của tôi\n",
            "Result: Now I want to show you my son .\n",
            "Inference finished! || Total inference time: 0:00:00.106025secs\n",
            "Preprocessing input sentence...\n",
            "Encoding input sentence...\n"
          ]
        },
        {
          "output_type": "stream",
          "name": "stderr",
          "text": [
            "\r  7%|▋         | 94/1268 [00:42<05:03,  3.87it/s]"
          ]
        },
        {
          "output_type": "stream",
          "name": "stdout",
          "text": [
            "Input: Remi 22 tuổi , cao ráo và rất đẹp trai ,\n",
            "Result: The average is a very old , very beautiful , very beautiful , very good .\n",
            "Inference finished! || Total inference time: 0:00:00.245278secs\n",
            "Preprocessing input sentence...\n",
            "Encoding input sentence...\n"
          ]
        },
        {
          "output_type": "stream",
          "name": "stderr",
          "text": [
            "  8%|▊         | 96/1268 [00:43<05:05,  3.84it/s]"
          ]
        },
        {
          "output_type": "stream",
          "name": "stdout",
          "text": [
            "Input: Em không nói được , nhưng em truyền đạt niềm vui theo cách mà ngay cả một số nhà hùng biện giỏi nhất cũng không thể làm được .\n",
            "Result: You don &apos;t say , but they &apos;re going to say , &quot; They &apos;re all the most good at the bestestestest .\n",
            "Inference finished! || Total inference time: 0:00:00.446188secs\n",
            "Preprocessing input sentence...\n",
            "Encoding input sentence...\n",
            "Input: Remi biết tình yêu là gì .\n",
            "Result: They know what &apos;s love .\n",
            "Inference finished! || Total inference time: 0:00:00.123605secs\n",
            "Preprocessing input sentence...\n",
            "Encoding input sentence...\n"
          ]
        },
        {
          "output_type": "stream",
          "name": "stderr",
          "text": [
            "\r  8%|▊         | 97/1268 [00:43<05:16,  3.70it/s]"
          ]
        },
        {
          "output_type": "stream",
          "name": "stdout",
          "text": [
            "Input: Em chia sẻ nó một cách vô điều kiện dù bất kể ra sao chăng nữa .\n",
            "Result: You share it , a way of this , even though , it &apos;s going to be wrong .\n",
            "Inference finished! || Total inference time: 0:00:00.286632secs\n",
            "Preprocessing input sentence...\n",
            "Encoding input sentence...\n"
          ]
        },
        {
          "output_type": "stream",
          "name": "stderr",
          "text": [
            "\r  8%|▊         | 98/1268 [00:43<05:42,  3.42it/s]"
          ]
        },
        {
          "output_type": "stream",
          "name": "stdout",
          "text": [
            "Input: Em ấy không tham lam . Em không phân biệt màu da .\n",
            "Result: He didn &apos;t have to been this , I didn &apos;t have this series of colors .\n",
            "Inference finished! || Total inference time: 0:00:00.339817secs\n",
            "Preprocessing input sentence...\n",
            "Encoding input sentence...\n"
          ]
        },
        {
          "output_type": "stream",
          "name": "stderr",
          "text": [
            "\r  8%|▊         | 99/1268 [00:44<06:17,  3.10it/s]"
          ]
        },
        {
          "output_type": "stream",
          "name": "stdout",
          "text": [
            "Input: Em không quan tâm về sự khác biệt tôn giáo , và hãy hiểu rằng : Em ấy chưa từng nói dối .\n",
            "Result: You don &apos;t have to be able to understand the difference , and let &apos;s understand : I &apos;ve never been saying .\n",
            "Inference finished! || Total inference time: 0:00:00.387739secs\n",
            "Preprocessing input sentence...\n",
            "Encoding input sentence...\n"
          ]
        },
        {
          "output_type": "stream",
          "name": "stderr",
          "text": [
            "\r  8%|▊         | 100/1268 [00:44<08:28,  2.30it/s]"
          ]
        },
        {
          "output_type": "stream",
          "name": "stdout",
          "text": [
            "Input: Khi em hát những bài hát từ thời thơ ấu của chúng tôi , cố gắng nhớ những từ mà đến tôi cũng không thể , em ấy gợi nhớ cho tôi một điều rằng : chúng ta biết ít về bộ não đến như thế nào , và cái ta chưa biết phải tuyệt vời đến thế nào .\n",
            "Result: When they &apos;re going to play our book from our writing , trying to remember from the things that I can &apos;t remember , and I know that we know about how to know how to know how we know , and how we don &apos;t know how to know how .\n",
            "Inference finished! || Total inference time: 0:00:00.696448secs\n",
            "Preprocessing input sentence...\n",
            "Encoding input sentence...\n"
          ]
        },
        {
          "output_type": "stream",
          "name": "stderr",
          "text": [
            "  8%|▊         | 102/1268 [00:45<06:06,  3.19it/s]"
          ]
        },
        {
          "output_type": "stream",
          "name": "stdout",
          "text": [
            "Input: Samuel 16 tuổi . Em cao ráo . Em cũng rất đẹp trai .\n",
            "Result: J2 : I was 18-year-old . He was a very beautiful .\n",
            "Inference finished! || Total inference time: 0:00:00.218380secs\n",
            "Preprocessing input sentence...\n",
            "Encoding input sentence...\n",
            "Input: Em có một trí nhớ cực hoàn hảo .\n",
            "Result: I &apos;ve got a very hard , very hard .\n",
            "Inference finished! || Total inference time: 0:00:00.167976secs\n",
            "Preprocessing input sentence...\n",
            "Encoding input sentence...\n"
          ]
        },
        {
          "output_type": "stream",
          "name": "stderr",
          "text": [
            "\r  8%|▊         | 103/1268 [00:45<05:10,  3.76it/s]"
          ]
        },
        {
          "output_type": "stream",
          "name": "stdout",
          "text": [
            "Input: Nhưng cũng là có chọn lọc .\n",
            "Result: But there are also a scres .\n",
            "Inference finished! || Total inference time: 0:00:00.148230secs\n",
            "Preprocessing input sentence...\n",
            "Encoding input sentence...\n"
          ]
        },
        {
          "output_type": "stream",
          "name": "stderr",
          "text": [
            "\r  8%|▊         | 104/1268 [00:46<08:22,  2.32it/s]"
          ]
        },
        {
          "output_type": "stream",
          "name": "stdout",
          "text": [
            "Input: Em không nhớ liệu em có xoáy thanh kẹo sô-cô-la của tôi không , nhưng em lại nhớ năm phát hành của từng bài hát trên iPod của tôi , các cuộc nói chuyện giữa chúng tôi từ em mới bốn tuổi , tè lên tay của tôi vào ngày Teletubbies lên sóng tập đầu tiên , và sinh nhật của Lady Gaga .\n",
            "Result: I don &apos;t remember , you know , my sty , but my father didn &apos;t remember my year , but I remember , my last year , my four-year-old , my first day , my first day , my first day , my first series of the first time .\n",
            "Inference finished! || Total inference time: 0:00:00.812239secs\n",
            "Preprocessing input sentence...\n",
            "Encoding input sentence...\n",
            "Input: Những chuyện này nghe thật tuyệt vời phải không ?\n",
            "Result: These are really amazing ?\n",
            "Inference finished! || Total inference time: 0:00:00.082014secs\n",
            "Preprocessing input sentence...\n",
            "Encoding input sentence...\n"
          ]
        },
        {
          "output_type": "stream",
          "name": "stderr",
          "text": [
            "\r  8%|▊         | 106/1268 [00:46<05:28,  3.53it/s]"
          ]
        },
        {
          "output_type": "stream",
          "name": "stdout",
          "text": [
            "Input: Nhưng hầu hết mọi người không đồng ý .\n",
            "Result: But most people don &apos;t have .\n",
            "Inference finished! || Total inference time: 0:00:00.124518secs\n",
            "Preprocessing input sentence...\n",
            "Encoding input sentence...\n"
          ]
        },
        {
          "output_type": "stream",
          "name": "stderr",
          "text": [
            "\r  8%|▊         | 107/1268 [00:46<06:03,  3.19it/s]"
          ]
        },
        {
          "output_type": "stream",
          "name": "stdout",
          "text": [
            "Input: Và thực tế là vì tâm trí của các em tôi không phù hợp với phiên bản xã hội bình thường , các em thường bị cho qua và hiểu lầm .\n",
            "Result: And the fact is that my own mind is not going to be a social society with the society , they are often going to understand and understand and understand .\n",
            "Inference finished! || Total inference time: 0:00:00.398775secs\n",
            "Preprocessing input sentence...\n",
            "Encoding input sentence...\n"
          ]
        },
        {
          "output_type": "stream",
          "name": "stderr",
          "text": [
            "\r  9%|▊         | 108/1268 [00:47<07:56,  2.44it/s]"
          ]
        },
        {
          "output_type": "stream",
          "name": "stdout",
          "text": [
            "Input: Nhưng điều khiến trái tim tôi nhẹ nhõm hơn và tâm hồn tôi mạnh mẽ hơn là rằng , mặc dù điều này là đúng , dù các em không được coi là bình thường , điều này chỉ có thể có nghĩa rằng : các em thật phi thường -- người tự kỉ và người phi thường .\n",
            "Result: But what happens to my heart heart , my heart and my love is more important , even though , even though , they don &apos;t have this , they can &apos;t have this : the people who are , they are going to be wrong .\n",
            "Inference finished! || Total inference time: 0:00:00.676684secs\n",
            "Preprocessing input sentence...\n",
            "Encoding input sentence...\n"
          ]
        },
        {
          "output_type": "stream",
          "name": "stderr",
          "text": [
            "\r  9%|▊         | 109/1268 [00:48<09:18,  2.08it/s]"
          ]
        },
        {
          "output_type": "stream",
          "name": "stdout",
          "text": [
            "Input: Với các bạn không quen lắm với cụm từ &apos; tự kỉ &apos; , nó là một rối loạn tổ hợp não bộ mà ảnh hưởng đến khả năng giao tiếp xã hội , học tập và đôi khi những kỷ năng về thể chất .\n",
            "Result: For you &apos;re not very , with the &quot; The &quot; is a very , which is a very , the brain that the brain is also the , and when they are going to be able to be in the very economics .\n",
            "Inference finished! || Total inference time: 0:00:00.666204secs\n",
            "Preprocessing input sentence...\n",
            "Encoding input sentence...\n"
          ]
        },
        {
          "output_type": "stream",
          "name": "stderr",
          "text": [
            "\r  9%|▊         | 110/1268 [00:48<07:57,  2.43it/s]"
          ]
        },
        {
          "output_type": "stream",
          "name": "stdout",
          "text": [
            "Input: Triệu chứng bệnh ở mỗi cá nhân một khác , đó là lý do tại sao Remi là rất khác Sam .\n",
            "Result: The patients in each other , is why they &apos;re a very different .\n",
            "Inference finished! || Total inference time: 0:00:00.225127secs\n",
            "Preprocessing input sentence...\n",
            "Encoding input sentence...\n"
          ]
        },
        {
          "output_type": "stream",
          "name": "stderr",
          "text": [
            "\r  9%|▉         | 111/1268 [00:49<09:00,  2.14it/s]"
          ]
        },
        {
          "output_type": "stream",
          "name": "stdout",
          "text": [
            "Input: Và trên toàn thế giới , cứ 20 phút lại có thêm một người được chẩn đoán mắc chứng tự kỷ , và mặc dù nó là một trong những chứng rối loạn phát triển với tốc độ nhanh nhất trên thế giới , ta không rõ nguyên nhân hoặc cách chữa trị .\n",
            "Result: And in the world , 20 minutes , 20 minutes , there are a very simple , and even though it &apos;s a very large , and it &apos;s not a very large , or not the most important way .\n",
            "Inference finished! || Total inference time: 0:00:00.598880secs\n",
            "Preprocessing input sentence...\n",
            "Encoding input sentence...\n"
          ]
        },
        {
          "output_type": "stream",
          "name": "stderr",
          "text": [
            "\r  9%|▉         | 112/1268 [00:49<08:33,  2.25it/s]"
          ]
        },
        {
          "output_type": "stream",
          "name": "stdout",
          "text": [
            "Input: Và tôi không thể nhớ thời điểm đầu tiên tôi tiếp cận với chứng tự kỷ , nhưng tôi không thể nhớ một ngày mà không có nó .\n",
            "Result: And I can &apos;t remember the first time I &apos;m going to get the first time , but I can &apos;t remember it .\n",
            "Inference finished! || Total inference time: 0:00:00.380482secs\n",
            "Preprocessing input sentence...\n",
            "Encoding input sentence...\n"
          ]
        },
        {
          "output_type": "stream",
          "name": "stderr",
          "text": [
            "  9%|▉         | 114/1268 [00:50<06:29,  2.97it/s]"
          ]
        },
        {
          "output_type": "stream",
          "name": "stdout",
          "text": [
            "Input: Tôi mới ba tuổi khi em tôi ra đời và tôi đã vô cùng phấn khích rằng có thêm một người mới trong đời .\n",
            "Result: I was three years ago , and I was born that I was very excited that there was a new person in the life .\n",
            "Inference finished! || Total inference time: 0:00:00.289493secs\n",
            "Preprocessing input sentence...\n",
            "Encoding input sentence...\n",
            "Input: Và sau một vài tháng , tôi nhận ra rằng em khác biệt .\n",
            "Result: And then a few months , I realized that she was different .\n",
            "Inference finished! || Total inference time: 0:00:00.180274secs\n",
            "Preprocessing input sentence...\n",
            "Encoding input sentence...\n"
          ]
        },
        {
          "output_type": "stream",
          "name": "stderr",
          "text": [
            "\r  9%|▉         | 115/1268 [00:50<05:18,  3.62it/s]"
          ]
        },
        {
          "output_type": "stream",
          "name": "stdout",
          "text": [
            "Input: Em la hét nhiều .\n",
            "Result: You &apos;ve got lots of .\n",
            "Inference finished! || Total inference time: 0:00:00.124846secs\n",
            "Preprocessing input sentence...\n",
            "Encoding input sentence...\n"
          ]
        },
        {
          "output_type": "stream",
          "name": "stderr",
          "text": [
            "\r  9%|▉         | 116/1268 [00:50<05:56,  3.23it/s]"
          ]
        },
        {
          "output_type": "stream",
          "name": "stdout",
          "text": [
            "Input: Em không muốn chơi đùa như các em bé khác , và trong thực tế , em có vẻ chẳng thích thú gì đến tôi hay điều gì khác hết .\n",
            "Result: You don &apos;t want to play the children like , and in fact , they have no idea what I want to do with something .\n",
            "Inference finished! || Total inference time: 0:00:00.379067secs\n",
            "Preprocessing input sentence...\n",
            "Encoding input sentence...\n"
          ]
        },
        {
          "output_type": "stream",
          "name": "stderr",
          "text": [
            "\r  9%|▉         | 117/1268 [00:51<07:51,  2.44it/s]"
          ]
        },
        {
          "output_type": "stream",
          "name": "stdout",
          "text": [
            "Input: Remi sống và ngự trị trong thế giới của riêng mình , với quy tắc riêng của mình , và em thấy niềm vui trong những điều nhỏ nhặt nhất , như là xếp ô tô quanh phòng và nhìn chằm chằm vào cái máy giặt và ăn bất cứ thứ gì trong tầm tay .\n",
            "Result: They lived and the world in their own own own , with their own own , and they see the most of the most little bits of the most , like the recing around the room and look at the same time .\n",
            "Inference finished! || Total inference time: 0:00:00.639980secs\n",
            "Preprocessing input sentence...\n",
            "Encoding input sentence...\n"
          ]
        },
        {
          "output_type": "stream",
          "name": "stderr",
          "text": [
            "\r  9%|▉         | 118/1268 [00:51<07:37,  2.52it/s]"
          ]
        },
        {
          "output_type": "stream",
          "name": "stdout",
          "text": [
            "Input: Khi lớn lên , em trở nên càng khác biệt , và sự khác biệt trở nên rõ ràng hơn .\n",
            "Result: When I was , they were going to be more different , and the difference is more important .\n",
            "Inference finished! || Total inference time: 0:00:00.360437secs\n",
            "Preprocessing input sentence...\n",
            "Encoding input sentence...\n"
          ]
        },
        {
          "output_type": "stream",
          "name": "stderr",
          "text": [
            "\r  9%|▉         | 119/1268 [00:52<11:40,  1.64it/s]"
          ]
        },
        {
          "output_type": "stream",
          "name": "stdout",
          "text": [
            "Input: Nhưng ngoài cơn phẫn nộ và bực dọc và việc hiếu động thái quá không ngơi nghỉ là một điều gì đó thực sự độc đáo : một bản năng thuần khiết và ngây thơ , một cậu bé nhìn cuộc đời không chút định kiến , một con người không bao giờ nói dối .\n",
            "Result: But they &apos;re going to be the sty and the ststs and the ststs of the stys , something that &apos;s a very simple : a little bit of a little bit of life , and a little bit of a little bit of life , not just .\n",
            "Inference finished! || Total inference time: 0:00:01.099764secs\n",
            "Preprocessing input sentence...\n",
            "Encoding input sentence...\n",
            "Input: Phi thường .\n",
            "Result: Africa .\n",
            "Inference finished! || Total inference time: 0:00:00.044807secs\n",
            "Preprocessing input sentence...\n",
            "Encoding input sentence...\n"
          ]
        },
        {
          "output_type": "stream",
          "name": "stderr",
          "text": [
            "\r 10%|▉         | 121/1268 [00:53<09:24,  2.03it/s]"
          ]
        },
        {
          "output_type": "stream",
          "name": "stdout",
          "text": [
            "Input: Chà , tôi không thể phủ nhận rằng đã có một vài khoảnh khắc khó khăn trong gia đình tôi , những khoảnh khắc tôi ước ao các em cũng giống như mình .\n",
            "Result: Well , I can &apos;t realize that the government has a few amazing , I &apos;m going to be my family , and I &apos;m like to my dreams .\n",
            "Inference finished! || Total inference time: 0:00:00.649230secs\n",
            "Preprocessing input sentence...\n",
            "Encoding input sentence...\n"
          ]
        },
        {
          "output_type": "stream",
          "name": "stderr",
          "text": [
            "\r 10%|▉         | 122/1268 [00:54<11:09,  1.71it/s]"
          ]
        },
        {
          "output_type": "stream",
          "name": "stdout",
          "text": [
            "Input: Nhưng tôi đưa kí ức mình quay trở lại những điều các em đã dạy tôi về tính cách , lối giao tiếp và tình yêu và tôi nhận ra rằng đây là những điều mà tôi sẽ chẳng đánh đổi để lấy sự bình thường .\n",
            "Result: But I put my own , I took my father told me about how to learn about how to be the , and I realize that I &apos;m not going to get this , and I &apos;m not going to make the very good .\n",
            "Inference finished! || Total inference time: 0:00:00.852790secs\n",
            "Preprocessing input sentence...\n",
            "Encoding input sentence...\n"
          ]
        },
        {
          "output_type": "stream",
          "name": "stderr",
          "text": [
            "\r 10%|▉         | 123/1268 [00:54<10:21,  1.84it/s]"
          ]
        },
        {
          "output_type": "stream",
          "name": "stdout",
          "text": [
            "Input: Sự bình thường bỏ lỡ vẻ đẹp mà sự khác biệt ban cho chúng ta và việc chúng ta khác nhau không có nghĩa là một trong ta có điều gì không ổn\n",
            "Result: The beauty is , the differences that we do and we have differently not , something that we have no matter .\n",
            "Inference finished! || Total inference time: 0:00:00.413145secs\n",
            "Preprocessing input sentence...\n",
            "Encoding input sentence...\n"
          ]
        },
        {
          "output_type": "stream",
          "name": "stderr",
          "text": [
            "\r 10%|▉         | 124/1268 [00:55<09:24,  2.03it/s]"
          ]
        },
        {
          "output_type": "stream",
          "name": "stdout",
          "text": [
            "Input: Nó chỉ có nghĩa là có một loại &apos; đúng &apos; khác mà thôi .\n",
            "Result: It &apos;s just like , it &apos;s just a different thing that &apos;s .\n",
            "Inference finished! || Total inference time: 0:00:00.353628secs\n",
            "Preprocessing input sentence...\n",
            "Encoding input sentence...\n"
          ]
        },
        {
          "output_type": "stream",
          "name": "stderr",
          "text": [
            "\r 10%|▉         | 125/1268 [00:55<09:36,  1.98it/s]"
          ]
        },
        {
          "output_type": "stream",
          "name": "stdout",
          "text": [
            "Input: Và nếu tôi chỉ có thể truyền đạt một điều cho Remi và cho Sam và cho các bạn , điều đó là bạn không bắt buộc phải bình thường .\n",
            "Result: And if I &apos;m just just a very , for the Ady , for you , that &apos;s not the very bad .\n",
            "Inference finished! || Total inference time: 0:00:00.523325secs\n",
            "Preprocessing input sentence...\n",
            "Encoding input sentence...\n"
          ]
        },
        {
          "output_type": "stream",
          "name": "stderr",
          "text": [
            "\r 10%|▉         | 126/1268 [00:55<08:00,  2.38it/s]"
          ]
        },
        {
          "output_type": "stream",
          "name": "stdout",
          "text": [
            "Input: Bạn có thể phi thường .\n",
            "Result: You can &apos;t have any kind of .\n",
            "Inference finished! || Total inference time: 0:00:00.202944secs\n",
            "Preprocessing input sentence...\n",
            "Encoding input sentence...\n"
          ]
        },
        {
          "output_type": "stream",
          "name": "stderr",
          "text": [
            "\r 10%|█         | 127/1268 [00:56<09:12,  2.06it/s]"
          ]
        },
        {
          "output_type": "stream",
          "name": "stdout",
          "text": [
            "Input: Vì có mắc chứng tự kỷ hay không , sự khác biệt giữa chúng ta -- Chúng ta có một món quà ! Ai cũng mang trong mình một món quà , và thật lòng mà nói , theo đuổi cái bình thường chính là hi sinh tiềm năng lớn nhất .\n",
            "Result: Because there &apos;s no , no differences , we have a ! We have a ! We &apos;re also a very good , and they say , the most importantest , the most importantest .\n",
            "Inference finished! || Total inference time: 0:00:00.633005secs\n",
            "Preprocessing input sentence...\n",
            "Encoding input sentence...\n"
          ]
        },
        {
          "output_type": "stream",
          "name": "stderr",
          "text": [
            "\r 10%|█         | 128/1268 [00:56<08:36,  2.21it/s]"
          ]
        },
        {
          "output_type": "stream",
          "name": "stdout",
          "text": [
            "Input: Cơ hội cho sự vĩ đại , tiến bộ và cho sự thay đổi bị dập tắt khi ta cố gắng trở nên giống như một người khác .\n",
            "Result: The great story , the sts and the changes of the sts of the way we try to try to go as a different person .\n",
            "Inference finished! || Total inference time: 0:00:00.369376secs\n",
            "Preprocessing input sentence...\n",
            "Encoding input sentence...\n"
          ]
        },
        {
          "output_type": "stream",
          "name": "stderr",
          "text": [
            "\r 10%|█         | 129/1268 [00:57<07:14,  2.62it/s]"
          ]
        },
        {
          "output_type": "stream",
          "name": "stdout",
          "text": [
            "Input: Xin -- đừng nói rằng tôi bình thường .\n",
            "Result: So , don &apos;t say I &apos;m sure .\n",
            "Inference finished! || Total inference time: 0:00:00.203190secs\n",
            "Preprocessing input sentence...\n",
            "Encoding input sentence...\n",
            "Input: Cảm ơn bạn .\n",
            "Result: Thank you .\n",
            "Inference finished! || Total inference time: 0:00:00.055228secs\n",
            "Preprocessing input sentence...\n",
            "Encoding input sentence...\n"
          ]
        },
        {
          "output_type": "stream",
          "name": "stderr",
          "text": [
            "\r 10%|█         | 131/1268 [00:57<04:56,  3.83it/s]"
          ]
        },
        {
          "output_type": "stream",
          "name": "stdout",
          "text": [
            "Input: Có lẽ các bạn đều đồng ý với tôi đây là một con đường rất đẹp .\n",
            "Result: You can all know this is a very beautiful place .\n",
            "Inference finished! || Total inference time: 0:00:00.169657secs\n",
            "Preprocessing input sentence...\n",
            "Encoding input sentence...\n"
          ]
        },
        {
          "output_type": "stream",
          "name": "stderr",
          "text": [
            " 10%|█         | 133/1268 [00:58<06:20,  2.98it/s]"
          ]
        },
        {
          "output_type": "stream",
          "name": "stdout",
          "text": [
            "Input: Nó được xây dựng từ nhựa đường , và nhựa đường là loại vật liệu xe mà chạy trên nó thì rất êm. nhưng không phải lúc nào cũng được vậy , đặc biệt không phải vào những ngày này như hôm nay khi trời đang mưa nhiều .\n",
            "Result: It &apos;s built from the , and they &apos;re going to go on the , and they &apos;re very , but it &apos;s not very , but there &apos;s no day , they &apos;re not going to be very much more likely today .\n",
            "Inference finished! || Total inference time: 0:00:00.824749secs\n",
            "Preprocessing input sentence...\n",
            "Encoding input sentence...\n",
            "Input: Rồi bạn có thể bị nước trên đường văng tung toé .\n",
            "Result: And then you can be stuck on the Earth .\n",
            "Inference finished! || Total inference time: 0:00:00.140578secs\n",
            "Preprocessing input sentence...\n",
            "Encoding input sentence...\n"
          ]
        },
        {
          "output_type": "stream",
          "name": "stderr",
          "text": [
            "\r 11%|█         | 134/1268 [00:58<06:22,  2.97it/s]"
          ]
        },
        {
          "output_type": "stream",
          "name": "stdout",
          "text": [
            "Input: Và đặc biệt nếu như bạn đạp xe đạp , và vượt qua những chiếc xe hơi này thì thật không hay .\n",
            "Result: And this is very important if you go , and they go through this , it &apos;s not very good .\n",
            "Inference finished! || Total inference time: 0:00:00.336391secs\n",
            "Preprocessing input sentence...\n",
            "Encoding input sentence...\n"
          ]
        },
        {
          "output_type": "stream",
          "name": "stderr",
          "text": [
            "\r 11%|█         | 135/1268 [00:58<06:12,  3.04it/s]"
          ]
        },
        {
          "output_type": "stream",
          "name": "stdout",
          "text": [
            "Input: Ngoài ra , nhựa đường cũng gây ra nhiều tiếng ồn .\n",
            "Result: They were , they were also , they were also very much more than a lot of them .\n",
            "Inference finished! || Total inference time: 0:00:00.300075secs\n",
            "Preprocessing input sentence...\n",
            "Encoding input sentence...\n"
          ]
        },
        {
          "output_type": "stream",
          "name": "stderr",
          "text": [
            " 11%|█         | 137/1268 [00:59<06:24,  2.94it/s]"
          ]
        },
        {
          "output_type": "stream",
          "name": "stdout",
          "text": [
            "Input: Nó là vật liệu gây ồn , Nếu chúng ta làm những con đường như của Hà Lan , rất gần với các đô thị , chúng ta muốn một con đường yên tĩnh .\n",
            "Result: It &apos;s a very , if we do these animals like the U.S. , very , very close to the very high-scing , we want to be a very , a very very cold .\n",
            "Inference finished! || Total inference time: 0:00:00.577570secs\n",
            "Preprocessing input sentence...\n",
            "Encoding input sentence...\n",
            "Input: Giải pháp cho vấn đề là làm những con đường từ nhựa đường xốp .\n",
            "Result: The problem is that they do is they do from the trees .\n",
            "Inference finished! || Total inference time: 0:00:00.179569secs\n",
            "Preprocessing input sentence...\n",
            "Encoding input sentence...\n"
          ]
        },
        {
          "output_type": "stream",
          "name": "stderr",
          "text": [
            "\r 11%|█         | 138/1268 [01:00<09:47,  1.92it/s]"
          ]
        },
        {
          "output_type": "stream",
          "name": "stdout",
          "text": [
            "Input: Nhựa đường xốp là vật liệu chúng tôi hiện đang dùng để xây dựng hầu hết các quốc lộ ở Hà Lan , Nó có lỗ thấm và nước chỉ thấm xuyên qua lỗ. vì vậy tất cả nước mưa sẽ thoát ra mọi phía , và bạn sẽ có một con đường thuận tiện để lái xe . Vì vậy không còn lõm bõm nước nữa .\n",
            "Result: They are the same , they &apos;re using the same , we &apos;re using most of the countries , it &apos;s just also , and it &apos;s just going to go through the water , and you &apos;re going to go back to the water , and you &apos;re not going to go back to the water .\n",
            "Inference finished! || Total inference time: 0:00:00.949773secs\n",
            "Preprocessing input sentence...\n",
            "Encoding input sentence...\n"
          ]
        },
        {
          "output_type": "stream",
          "name": "stderr",
          "text": [
            "\r 11%|█         | 139/1268 [01:00<08:08,  2.31it/s]"
          ]
        },
        {
          "output_type": "stream",
          "name": "stdout",
          "text": [
            "Input: và tiếng ồn cũng biến mất qua lỗ thấm .\n",
            "Result: And they &apos;re going to be very close to the same .\n",
            "Inference finished! || Total inference time: 0:00:00.216110secs\n",
            "Preprocessing input sentence...\n",
            "Encoding input sentence...\n"
          ]
        },
        {
          "output_type": "stream",
          "name": "stderr",
          "text": [
            "\r 11%|█         | 140/1268 [01:01<12:02,  1.56it/s]"
          ]
        },
        {
          "output_type": "stream",
          "name": "stdout",
          "text": [
            "Input: Bởi vì nó rất rỗng , tất cả tiếng ồn sẽ biến mất , vì thế mà con đường rất yên tĩnh .\n",
            "Result: Because it &apos;s very , all of the very , because they &apos;re very very , very very very very very very very , very very very very very very very very very very very very very very very very very very very very very very very very very very very , because .\n",
            "Inference finished! || Total inference time: 0:00:01.128229secs\n",
            "Preprocessing input sentence...\n",
            "Encoding input sentence...\n"
          ]
        },
        {
          "output_type": "stream",
          "name": "stderr",
          "text": [
            "\r 11%|█         | 141/1268 [01:02<11:09,  1.68it/s]"
          ]
        },
        {
          "output_type": "stream",
          "name": "stdout",
          "text": [
            "Input: Đương nhiên vẫn còn nhiều bất tiện , và điều bất tiện của loại đường này là tình trạng nứt nẻ , bong tróc có thể xảy ra .\n",
            "Result: Of course , there are many , and this is the same thing that &apos;s the styst , the stse , the sty can happen .\n",
            "Inference finished! || Total inference time: 0:00:00.478578secs\n",
            "Preprocessing input sentence...\n",
            "Encoding input sentence...\n"
          ]
        },
        {
          "output_type": "stream",
          "name": "stderr",
          "text": [
            "\r 11%|█         | 142/1268 [01:02<09:26,  1.99it/s]"
          ]
        },
        {
          "output_type": "stream",
          "name": "stdout",
          "text": [
            "Input: Bong nứt là gì ? Bạn thấy đó trên con đường này đá lớp mặt bị bong tróc .\n",
            "Result: What is the sty ? You see that this room is the same line of the middle of the left .\n",
            "Inference finished! || Total inference time: 0:00:00.283462secs\n",
            "Preprocessing input sentence...\n",
            "Encoding input sentence...\n"
          ]
        },
        {
          "output_type": "stream",
          "name": "stderr",
          "text": [
            "\r 11%|█▏        | 143/1268 [01:03<10:01,  1.87it/s]"
          ]
        },
        {
          "output_type": "stream",
          "name": "stdout",
          "text": [
            "Input: Trước tiên bạn được một hòn đá , rồi nhiều hơn , rồi ngày càng nhiều , nhiều , nhiều , nhiều hơn nữa , và rồi chúng - - kìa , tôi sẽ không làm như vậy đâu .\n",
            "Result: First of the left , they &apos;re more than more , more than more , more than more , and then , we &apos;re not going to do , and I &apos;m not going to do that .\n",
            "Inference finished! || Total inference time: 0:00:00.602641secs\n",
            "Preprocessing input sentence...\n",
            "Encoding input sentence...\n"
          ]
        },
        {
          "output_type": "stream",
          "name": "stderr",
          "text": [
            "\r 11%|█▏        | 144/1268 [01:03<08:22,  2.24it/s]"
          ]
        },
        {
          "output_type": "stream",
          "name": "stdout",
          "text": [
            "Input: Nhưng chúng có thể làm hư cửa kính xe hơi của bạn . Vì vậy bạn không vui với điều đó .\n",
            "Result: But they can make your car , so you don &apos;t have to do that .\n",
            "Inference finished! || Total inference time: 0:00:00.234719secs\n",
            "Preprocessing input sentence...\n",
            "Encoding input sentence...\n"
          ]
        },
        {
          "output_type": "stream",
          "name": "stderr",
          "text": [
            " 12%|█▏        | 146/1268 [01:04<07:06,  2.63it/s]"
          ]
        },
        {
          "output_type": "stream",
          "name": "stdout",
          "text": [
            "Input: Và sau cùng , tình trạng bong nứt này sẽ gây hư hỏng ngày càng nhiều .\n",
            "Result: And then , the sty , the sty &apos;ll be going to be going to be more , more going to be more , more than they &apos;re going to be more .\n",
            "Inference finished! || Total inference time: 0:00:00.569321secs\n",
            "Preprocessing input sentence...\n",
            "Encoding input sentence...\n",
            "Input: Đôi khi chúng tạo nên các ổ gà .\n",
            "Result: Sometimes they create the sts .\n",
            "Inference finished! || Total inference time: 0:00:00.124781secs\n",
            "Preprocessing input sentence...\n",
            "Encoding input sentence...\n"
          ]
        },
        {
          "output_type": "stream",
          "name": "stderr",
          "text": [
            "\r 12%|█▏        | 147/1268 [01:04<05:43,  3.26it/s]"
          ]
        },
        {
          "output_type": "stream",
          "name": "stdout",
          "text": [
            "Input: À . Anh ta đang sẵn sàng .\n",
            "Result: Okay . He &apos;s ready .\n",
            "Inference finished! || Total inference time: 0:00:00.129213secs\n",
            "Preprocessing input sentence...\n",
            "Encoding input sentence...\n"
          ]
        },
        {
          "output_type": "stream",
          "name": "stderr",
          "text": [
            "\r 12%|█▏        | 148/1268 [01:04<05:27,  3.42it/s]"
          ]
        },
        {
          "output_type": "stream",
          "name": "stdout",
          "text": [
            "Input: Ổ gà , đương nhiên , có thể trở thành một vấn đề , Nhưng chúng tôi có giải pháp .\n",
            "Result: Then , of course , of course , maybe a problem , but we have a problem .\n",
            "Inference finished! || Total inference time: 0:00:00.252512secs\n",
            "Preprocessing input sentence...\n",
            "Encoding input sentence...\n"
          ]
        },
        {
          "output_type": "stream",
          "name": "stderr",
          "text": [
            "\r 12%|█▏        | 149/1268 [01:05<05:57,  3.13it/s]"
          ]
        },
        {
          "output_type": "stream",
          "name": "stdout",
          "text": [
            "Input: Thật sự như bạn thấy ở đây vật liệu này có dấu hiệu bị hư hại ra sao .\n",
            "Result: It &apos;s like this here , you see this , this is a very , this is a very dangerous thing .\n",
            "Inference finished! || Total inference time: 0:00:00.372582secs\n",
            "Preprocessing input sentence...\n",
            "Encoding input sentence...\n"
          ]
        },
        {
          "output_type": "stream",
          "name": "stderr",
          "text": [
            "\r 12%|█▏        | 150/1268 [01:05<06:45,  2.76it/s]"
          ]
        },
        {
          "output_type": "stream",
          "name": "stdout",
          "text": [
            "Input: Nó là nhựa xốp , như tôi đã nói , bạn chỉ có một lượng nhỏ keo dính bám giữa các viên đá .\n",
            "Result: It &apos;s a very , like , like , you &apos;ve got a little bit of a little bit of a little bit of the stys in the table .\n",
            "Inference finished! || Total inference time: 0:00:00.456646secs\n",
            "Preprocessing input sentence...\n",
            "Encoding input sentence...\n"
          ]
        },
        {
          "output_type": "stream",
          "name": "stderr",
          "text": [
            "\r 12%|█▏        | 151/1268 [01:06<11:44,  1.59it/s]"
          ]
        },
        {
          "output_type": "stream",
          "name": "stdout",
          "text": [
            "Input: Dưới tác động của thời tiết , bức xạ mặt trời , tình trạng oxy hoá chất nhựa này , nhựa bitum này chất keo dính giữa các khối kết tập này sẽ co lại , và nếu co lại , nó sẽ có những khe nứt cực nhỏ. rồi tróc ra khỏi các khối kết tập .\n",
            "Result: The sts of the sts , the sty , the stys , the stse , the sts , the sts , the ststs the ststs the sts , and if it &apos;s going to be going to go out of the ststs .\n",
            "Inference finished! || Total inference time: 0:00:01.248450secs\n",
            "Preprocessing input sentence...\n",
            "Encoding input sentence...\n"
          ]
        },
        {
          "output_type": "stream",
          "name": "stderr",
          "text": [
            "\r 12%|█▏        | 152/1268 [01:07<11:03,  1.68it/s]"
          ]
        },
        {
          "output_type": "stream",
          "name": "stdout",
          "text": [
            "Input: Rồi nếu lái xe lên chỗ đường đó , bạn sẽ phá huỷ những khối kết tập này -- như chúng ta vừa thấy ở đây .\n",
            "Result: And then if you go to the street , you &apos;ll get these kinds of this , like we &apos;ve just seen here .\n",
            "Inference finished! || Total inference time: 0:00:00.499211secs\n",
            "Preprocessing input sentence...\n",
            "Encoding input sentence...\n"
          ]
        },
        {
          "output_type": "stream",
          "name": "stderr",
          "text": [
            "\r 12%|█▏        | 153/1268 [01:07<10:02,  1.85it/s]"
          ]
        },
        {
          "output_type": "stream",
          "name": "stdout",
          "text": [
            "Input: Để giải quyết vấn đề này , chúng tôi đã chế tạo ra những vật liệu tự hàn gắn .\n",
            "Result: And to solve this problem , we create the kind of kind of kinds of kinds of screcing .\n",
            "Inference finished! || Total inference time: 0:00:00.404005secs\n",
            "Preprocessing input sentence...\n",
            "Encoding input sentence...\n"
          ]
        },
        {
          "output_type": "stream",
          "name": "stderr",
          "text": [
            "\r 12%|█▏        | 154/1268 [01:08<08:49,  2.10it/s]"
          ]
        },
        {
          "output_type": "stream",
          "name": "stdout",
          "text": [
            "Input: Nếu chúng tôi tạo ra được vật liệu tự hàn gắn này , thì chúng tôi có thể tìm ra giải pháp .\n",
            "Result: If we created this kind of this , we can find the solution .\n",
            "Inference finished! || Total inference time: 0:00:00.311199secs\n",
            "Preprocessing input sentence...\n",
            "Encoding input sentence...\n"
          ]
        },
        {
          "output_type": "stream",
          "name": "stderr",
          "text": [
            "\r 12%|█▏        | 155/1268 [01:09<15:28,  1.20it/s]"
          ]
        },
        {
          "output_type": "stream",
          "name": "stdout",
          "text": [
            "Input: Những gì chúng tôi có thể làm là dùng miếng bùi nhùi bằng thép dành để chùi rửa xoong . Và chúng tôi cắt vụn miếng bùi nhùi thép ra thật nhỏ , và chúng tôi trộn các mảnh vụn nhỏ này với nhựa bitum .\n",
            "Result: What we can do is we use is a sty-scing , we &apos;re going to get the stse , and we &apos;re very small , and we &apos;re very small , very small , and we &apos;re very small , and we &apos;re going to this very small , very small , very small , this very small , stststy .\n",
            "Inference finished! || Total inference time: 0:00:01.660168secs\n",
            "Preprocessing input sentence...\n",
            "Encoding input sentence...\n"
          ]
        },
        {
          "output_type": "stream",
          "name": "stderr",
          "text": [
            "\r 12%|█▏        | 156/1268 [01:10<12:49,  1.44it/s]"
          ]
        },
        {
          "output_type": "stream",
          "name": "stdout",
          "text": [
            "Input: Vậy là chúng ta có nhựa đường trộn với những vụn thép rất nhỏ .\n",
            "Result: So we have a very , very small , very small , very small .\n",
            "Inference finished! || Total inference time: 0:00:00.352742secs\n",
            "Preprocessing input sentence...\n",
            "Encoding input sentence...\n"
          ]
        },
        {
          "output_type": "stream",
          "name": "stderr",
          "text": [
            "\r 12%|█▏        | 157/1268 [01:10<11:19,  1.63it/s]"
          ]
        },
        {
          "output_type": "stream",
          "name": "stdout",
          "text": [
            "Input: Rồi bạn cần một cái máy , như bạn thấy ở đây , là máy dùng để nấu ăn -- một máy cảm ứng từ .\n",
            "Result: And then you need a computer , like this , the computer is to use a computer -- a computer .\n",
            "Inference finished! || Total inference time: 0:00:00.410732secs\n",
            "Preprocessing input sentence...\n",
            "Encoding input sentence...\n"
          ]
        },
        {
          "output_type": "stream",
          "name": "stderr",
          "text": [
            "\r 12%|█▏        | 158/1268 [01:10<10:17,  1.80it/s]"
          ]
        },
        {
          "output_type": "stream",
          "name": "stdout",
          "text": [
            "Input: Cảm ứng từ có thể tạo nhiệt , đặc biệt thép lại dẫn nhiệt rất tốt .\n",
            "Result: They can create , very , very , very very good , very good , very good .\n",
            "Inference finished! || Total inference time: 0:00:00.419528secs\n",
            "Preprocessing input sentence...\n",
            "Encoding input sentence...\n"
          ]
        },
        {
          "output_type": "stream",
          "name": "stderr",
          "text": [
            "\r 13%|█▎        | 159/1268 [01:11<11:30,  1.61it/s]"
          ]
        },
        {
          "output_type": "stream",
          "name": "stdout",
          "text": [
            "Input: Những việc các bạn làm là đun nóng thép , bạn làm chảy nhựa bitum , và nhựa bitum sẽ chảy vào các kẽ nứt siêu nhỏ này , và các viên đá sẽ kết dính lên lớp mặt trở lại .\n",
            "Result: They &apos;re doing the stys , you &apos;re going to make the stst , and the sts , the sts , and they &apos;re going to go back to the back of the back .\n",
            "Inference finished! || Total inference time: 0:00:00.770175secs\n",
            "Preprocessing input sentence...\n",
            "Encoding input sentence...\n"
          ]
        },
        {
          "output_type": "stream",
          "name": "stderr",
          "text": [
            "\r 13%|█▎        | 160/1268 [01:12<10:02,  1.84it/s]"
          ]
        },
        {
          "output_type": "stream",
          "name": "stdout",
          "text": [
            "Input: Hôm nay tôi dùng một lò vi sóng vì tôi không thể đem cái máy cảm ứng từ cồng kềnh lên sân khấu được .\n",
            "Result: Today I &apos;m using a very , because I can &apos;t make a computer from the front of the stage .\n",
            "Inference finished! || Total inference time: 0:00:00.353699secs\n",
            "Preprocessing input sentence...\n",
            "Encoding input sentence...\n"
          ]
        },
        {
          "output_type": "stream",
          "name": "stderr",
          "text": [
            "\r 13%|█▎        | 161/1268 [01:12<08:57,  2.06it/s]"
          ]
        },
        {
          "output_type": "stream",
          "name": "stdout",
          "text": [
            "Input: Lò vi sóng cũng có hệ thống hoạt động tương tự .\n",
            "Result: They &apos;re also also also , they &apos;re also going to be the same .\n",
            "Inference finished! || Total inference time: 0:00:00.342554secs\n",
            "Preprocessing input sentence...\n",
            "Encoding input sentence...\n"
          ]
        },
        {
          "output_type": "stream",
          "name": "stderr",
          "text": [
            " 13%|█▎        | 163/1268 [01:13<07:00,  2.63it/s]"
          ]
        },
        {
          "output_type": "stream",
          "name": "stdout",
          "text": [
            "Input: Tôi đã để vật mẫu vào lò , giờ tôi sẽ lấy nó ra. để kiểm tra xem nó ra sao .\n",
            "Result: I &apos;ve got to put the model , now I &apos;m going to take it , I &apos;m going to take it , to see how it is .\n",
            "Inference finished! || Total inference time: 0:00:00.457989secs\n",
            "Preprocessing input sentence...\n",
            "Encoding input sentence...\n",
            "Input: Đây là vật mẫu được lấy ra .\n",
            "Result: This is a model that is going to be .\n",
            "Inference finished! || Total inference time: 0:00:00.142650secs\n",
            "Preprocessing input sentence...\n",
            "Encoding input sentence...\n"
          ]
        },
        {
          "output_type": "stream",
          "name": "stderr",
          "text": [
            "\r 13%|█▎        | 164/1268 [01:13<06:51,  2.68it/s]"
          ]
        },
        {
          "output_type": "stream",
          "name": "stdout",
          "text": [
            "Input: Tôi đã nói chúng tôi phát minh ra một cái máy công nghiệp như trên tại phòng thí nghiệm. để đun nóng các vật mẫu .\n",
            "Result: I said , we &apos;ve talked about a computer as a lab in the lab , to move the same patterns .\n",
            "Inference finished! || Total inference time: 0:00:00.349542secs\n",
            "Preprocessing input sentence...\n",
            "Encoding input sentence...\n"
          ]
        },
        {
          "output_type": "stream",
          "name": "stderr",
          "text": [
            "\r 13%|█▎        | 165/1268 [01:13<07:46,  2.36it/s]"
          ]
        },
        {
          "output_type": "stream",
          "name": "stdout",
          "text": [
            "Input: Tại phòng thí nghiệm chúng tôi đã thử qua nhiều mẫu , và rồi chính phủ , họ đã thực sự nhìn thấy kết quả. và họ cho rằng : &quot; À , cách đó hay lắm . Chúng ta phải thử xem sao . &quot;\n",
            "Result: In the lab we tried many , and the government , they &apos;ve actually looked at the same , and they &apos;ve got to look at , and we have to look at this .\n",
            "Inference finished! || Total inference time: 0:00:00.534260secs\n",
            "Preprocessing input sentence...\n",
            "Encoding input sentence...\n"
          ]
        },
        {
          "output_type": "stream",
          "name": "stderr",
          "text": [
            "\r 13%|█▎        | 166/1268 [01:14<07:45,  2.37it/s]"
          ]
        },
        {
          "output_type": "stream",
          "name": "stdout",
          "text": [
            "Input: Rồi họ giao cho chúng tôi một đoạn đường quốc lộ , dài 400 mét thuộc quốc lộ A58 , tại đây chúng tôi phải xây một đoạn đường thử nghiệm vật liệu mới này .\n",
            "Result: They give us across across the United States , a long-year-old , this is now we have to build a new model .\n",
            "Inference finished! || Total inference time: 0:00:00.413636secs\n",
            "Preprocessing input sentence...\n",
            "Encoding input sentence...\n"
          ]
        },
        {
          "output_type": "stream",
          "name": "stderr",
          "text": [
            "\r 13%|█▎        | 167/1268 [01:15<09:21,  1.96it/s]"
          ]
        },
        {
          "output_type": "stream",
          "name": "stdout",
          "text": [
            "Input: Vậy là đó là điều chúng tôi đã thực hiện tại đây . Bạn xem con đường thử nghiệm chúng tôi đã làm , và rồi đương nhiên con đường này sẽ tồn tại được trong nhiều năm mà không bị hư hại nào . Đó là những gì chúng tôi học từ thực nghiệm .\n",
            "Result: So that &apos;s what we &apos;ve done here . You &apos;ve done , and then we &apos;ve done this , and then this is not going to be in many years , and that &apos;s what we &apos;re going to do .\n",
            "Inference finished! || Total inference time: 0:00:00.705349secs\n",
            "Preprocessing input sentence...\n",
            "Encoding input sentence...\n"
          ]
        },
        {
          "output_type": "stream",
          "name": "stderr",
          "text": [
            "\r 13%|█▎        | 168/1268 [01:15<08:21,  2.19it/s]"
          ]
        },
        {
          "output_type": "stream",
          "name": "stdout",
          "text": [
            "Input: Chúng tôi đã lấy nhiều mẫu vật từ con đường này và chúng tôi thử chúng trong phòng thí nghiệm .\n",
            "Result: We &apos;ve got a lot of these kinds of lights from this room and we try to try in the lab .\n",
            "Inference finished! || Total inference time: 0:00:00.324485secs\n",
            "Preprocessing input sentence...\n",
            "Encoding input sentence...\n"
          ]
        },
        {
          "output_type": "stream",
          "name": "stderr",
          "text": [
            "\r 13%|█▎        | 169/1268 [01:16<09:23,  1.95it/s]"
          ]
        },
        {
          "output_type": "stream",
          "name": "stdout",
          "text": [
            "Input: Vậy là chúng tôi già hoá mẫu vật , đặt nhiều tải trọng lên nó , kết dính chúng lại bằng máy cảm ứng từ , hàn gắn chúng lại và rồi thử chúng lần nữa .\n",
            "Result: So we &apos;re going to be a lot of , put a lot of them , they &apos;re going to get them out of the computer , and then they &apos;re going to go back and go back and then again .\n",
            "Inference finished! || Total inference time: 0:00:00.638644secs\n",
            "Preprocessing input sentence...\n",
            "Encoding input sentence...\n",
            "Input: Chúng tôi có thể làm đi làm lại nhiều lần như vậy .\n",
            "Result: We can do it again .\n",
            "Inference finished! || Total inference time: 0:00:00.087792secs\n",
            "Preprocessing input sentence...\n",
            "Encoding input sentence...\n"
          ]
        },
        {
          "output_type": "stream",
          "name": "stderr",
          "text": [
            "\r 13%|█▎        | 171/1268 [01:17<10:11,  1.79it/s]"
          ]
        },
        {
          "output_type": "stream",
          "name": "stdout",
          "text": [
            "Input: Và thật sự , kết luận đưa ra từ nghiên cứu này là nếu chúng tôi bảo dưỡng con đường 4 năm một lần bằng máy hàn gắn -- đây là phiên bản kích thước lớn chúng tôi đã chế tạo nó để bảo dưỡng đường thật -- Nếu cứ 4 năm chúng tôi bảo dưỡng con đường một lần thì chúng tôi có thể làm tăng gấp đôi tuổi thọ lớp mặt của con đường. dĩ nhiên sẽ tiết kiệm được nhiều tiền .\n",
            "Result: And the fact , they &apos;re going to put this project if we &apos;re going to give the four years of a four-year-old , this is a big , if we created a big , if we &apos;re going to make a year-old , if we &apos;re going to get across the next to the next time , and we &apos;re going to save the next time .\n",
            "Inference finished! || Total inference time: 0:00:01.120410secs\n",
            "Preprocessing input sentence...\n",
            "Encoding input sentence...\n"
          ]
        },
        {
          "output_type": "stream",
          "name": "stderr",
          "text": [
            "\r 14%|█▎        | 172/1268 [01:18<13:30,  1.35it/s]"
          ]
        },
        {
          "output_type": "stream",
          "name": "stdout",
          "text": [
            "Input: À , để đúc kết lại , tôi có thể nói rằng chúng tôi đã tạo ra một loại vật liệu sử dụng sợi thép , thêm vào sợi thép , sử dụng nhiệt lượng từ , để thực sự giúp gia tăng tuổi thọ của mặt đường , Gấp đôi tuổi thọ mặt đường là việc mà ngay cả bạn cũng làm được , Tăng gấp đôi tuổi thọ mặt đường bằng những thủ thuật rất đơn giản.sẽ giúp tiết kiệm được nhiều tiền .\n",
            "Result: Well , to get the way , I can say , we can say that we create a kind of series , more , more , more , especially , to help the energy , the stin-stest , the very long-term , very much more than the , the very , very , very , very , very much , very much more than they &apos;re very , to helping the money .\n",
            "Inference finished! || Total inference time: 0:00:01.285128secs\n",
            "Preprocessing input sentence...\n",
            "Encoding input sentence...\n"
          ]
        },
        {
          "output_type": "stream",
          "name": "stderr",
          "text": [
            "\r 14%|█▎        | 173/1268 [01:18<11:18,  1.61it/s]"
          ]
        },
        {
          "output_type": "stream",
          "name": "stdout",
          "text": [
            "Input: Bây giờ chắc các bạn đang thắc mắc liệu nó có hiệu quả hay không .\n",
            "Result: Now , you &apos;re sure it &apos;s going to be able to do it or not .\n",
            "Inference finished! || Total inference time: 0:00:00.275933secs\n",
            "Preprocessing input sentence...\n",
            "Encoding input sentence...\n"
          ]
        },
        {
          "output_type": "stream",
          "name": "stderr",
          "text": [
            "\r 14%|█▎        | 174/1268 [01:19<10:00,  1.82it/s]"
          ]
        },
        {
          "output_type": "stream",
          "name": "stdout",
          "text": [
            "Input: Chúng tôi còn vật mẫu ở đây . Nó còn khá ấm .\n",
            "Result: We have a kind of this . It &apos;s also a very very , very very , very very .\n",
            "Inference finished! || Total inference time: 0:00:00.354252secs\n",
            "Preprocessing input sentence...\n",
            "Encoding input sentence...\n"
          ]
        },
        {
          "output_type": "stream",
          "name": "stderr",
          "text": [
            "\r 14%|█▍        | 175/1268 [01:19<09:42,  1.88it/s]"
          ]
        },
        {
          "output_type": "stream",
          "name": "stdout",
          "text": [
            "Input: Lẽ ra phải để cho nó nguội bớt trước rồi tôi mới cho bạn thấy hiệu quả của liệu pháp hàn gắn ,\n",
            "Result: It &apos;s going to take it to be , and then I show you how to make the very simple , they &apos;re going to be , in the way .\n",
            "Inference finished! || Total inference time: 0:00:00.486395secs\n",
            "Preprocessing input sentence...\n",
            "Encoding input sentence...\n",
            "Input: Nhưng để tôi thử xem .\n",
            "Result: But let me look at .\n",
            "Inference finished! || Total inference time: 0:00:00.080827secs\n",
            "Preprocessing input sentence...\n",
            "Encoding input sentence...\n"
          ]
        },
        {
          "output_type": "stream",
          "name": "stderr",
          "text": [
            "\r 14%|█▍        | 177/1268 [01:19<06:23,  2.84it/s]"
          ]
        },
        {
          "output_type": "stream",
          "name": "stdout",
          "text": [
            "Input: Xem nè . Vâng , nó dính .\n",
            "Result: It &apos;s going to be . Okay .\n",
            "Inference finished! || Total inference time: 0:00:00.157594secs\n",
            "Preprocessing input sentence...\n",
            "Encoding input sentence...\n",
            "Input: Xin cám ơn\n",
            "Result: Thank you .\n",
            "Inference finished! || Total inference time: 0:00:00.048636secs\n",
            "Preprocessing input sentence...\n",
            "Encoding input sentence...\n"
          ]
        },
        {
          "output_type": "stream",
          "name": "stderr",
          "text": [
            "\r 14%|█▍        | 179/1268 [01:20<05:35,  3.24it/s]"
          ]
        },
        {
          "output_type": "stream",
          "name": "stdout",
          "text": [
            "Input: Hôm nay tôi đến đây để nói về một câu hỏi bối rối mà câu trả lời cũng gấy bối rối không kém .\n",
            "Result: Now , today , today , to talk about a question that the answers they &apos;re not going to be also not very bad .\n",
            "Inference finished! || Total inference time: 0:00:00.418776secs\n",
            "Preprocessing input sentence...\n",
            "Encoding input sentence...\n"
          ]
        },
        {
          "output_type": "stream",
          "name": "stderr",
          "text": [
            "\r 14%|█▍        | 180/1268 [01:20<05:46,  3.14it/s]"
          ]
        },
        {
          "output_type": "stream",
          "name": "stdout",
          "text": [
            "Input: Chủ đề là bí mật của bạo lực gia đình , và câu hỏi tôi đặt ra là câu hỏi mà mọi người luôn thắc mắc : Tại sao cô ấy ở lại ?\n",
            "Result: They &apos;re the wrong of the family , and the question I asked , who always always say : Why ?\n",
            "Inference finished! || Total inference time: 0:00:00.348467secs\n",
            "Preprocessing input sentence...\n",
            "Encoding input sentence...\n"
          ]
        },
        {
          "output_type": "stream",
          "name": "stderr",
          "text": [
            "\r 14%|█▍        | 181/1268 [01:21<05:32,  3.26it/s]"
          ]
        },
        {
          "output_type": "stream",
          "name": "stdout",
          "text": [
            "Input: Tại sao người phụ nữ lại nên ở lại với người đã đánh họ ?\n",
            "Result: Why ? Why are the women who have going to be ?\n",
            "Inference finished! || Total inference time: 0:00:00.258107secs\n",
            "Preprocessing input sentence...\n",
            "Encoding input sentence...\n"
          ]
        },
        {
          "output_type": "stream",
          "name": "stderr",
          "text": [
            "\r 14%|█▍        | 182/1268 [01:21<06:14,  2.90it/s]"
          ]
        },
        {
          "output_type": "stream",
          "name": "stdout",
          "text": [
            "Input: Tôi không phải là một bác sĩ tâm thần , không phải một người làm công tác xã hội hay một chuyên gia về bạo lực gia đình .\n",
            "Result: I don &apos;t have to be a doctor , not a society , not a society or a community of family .\n",
            "Inference finished! || Total inference time: 0:00:00.444266secs\n",
            "Preprocessing input sentence...\n",
            "Encoding input sentence...\n"
          ]
        },
        {
          "output_type": "stream",
          "name": "stderr",
          "text": [
            "\r 14%|█▍        | 183/1268 [01:21<05:36,  3.22it/s]"
          ]
        },
        {
          "output_type": "stream",
          "name": "stdout",
          "text": [
            "Input: Tôi chỉ là một người phụ nữ muốn chia sẻ câu chuyện của mình\n",
            "Result: I just just just a woman wanted to share my story .\n",
            "Inference finished! || Total inference time: 0:00:00.205406secs\n",
            "Preprocessing input sentence...\n",
            "Encoding input sentence...\n"
          ]
        },
        {
          "output_type": "stream",
          "name": "stderr",
          "text": [
            "\r 15%|█▍        | 184/1268 [01:21<05:25,  3.33it/s]"
          ]
        },
        {
          "output_type": "stream",
          "name": "stdout",
          "text": [
            "Input: Khi đó tôi 22 tuổi , vừa tốt nghiệp trường Cao đẳng Harvard\n",
            "Result: When I was 18-year-old , I was a good school school .\n",
            "Inference finished! || Total inference time: 0:00:00.267408secs\n",
            "Preprocessing input sentence...\n",
            "Encoding input sentence...\n"
          ]
        },
        {
          "output_type": "stream",
          "name": "stderr",
          "text": [
            "\r 15%|█▍        | 185/1268 [01:22<06:12,  2.91it/s]"
          ]
        },
        {
          "output_type": "stream",
          "name": "stdout",
          "text": [
            "Input: Tôi chuyển đến thành phố New York khi làm công việc đầu tiên viết và biên tập cho tạp chí Seventeen .\n",
            "Result: I went to the New York City where I was working in the first school and write a very , to the Sindy .\n",
            "Inference finished! || Total inference time: 0:00:00.445881secs\n",
            "Preprocessing input sentence...\n",
            "Encoding input sentence...\n"
          ]
        },
        {
          "output_type": "stream",
          "name": "stderr",
          "text": [
            "\r 15%|█▍        | 186/1268 [01:23<08:17,  2.18it/s]"
          ]
        },
        {
          "output_type": "stream",
          "name": "stdout",
          "text": [
            "Input: Lần đầu tiên tôi có căn hộ , thẻ tín dụng American Express của riêng mình , và tôi đã có bí mật lớn .\n",
            "Result: The first time I had my own , they &apos;ve got my own own , and I had a big big , and I had a big big big , and I had a big big big sty .\n",
            "Inference finished! || Total inference time: 0:00:00.739778secs\n",
            "Preprocessing input sentence...\n",
            "Encoding input sentence...\n"
          ]
        },
        {
          "output_type": "stream",
          "name": "stderr",
          "text": [
            "\r 15%|█▍        | 187/1268 [01:24<11:34,  1.56it/s]"
          ]
        },
        {
          "output_type": "stream",
          "name": "stdout",
          "text": [
            "Input: Bí mật đó là , cây súng này được nạp sẵn đạn hollow-point chỉa thẳng vào đầu tôi bởi người đàn ông tôi đã nghĩ là người bạn đời , từ lần này qua lần khác .\n",
            "Result: They &apos;re going to be this , this , this , this , this , this stys , they &apos;re just going to be the first , because they think of this , and they think , from the time .\n",
            "Inference finished! || Total inference time: 0:00:01.079391secs\n",
            "Preprocessing input sentence...\n",
            "Encoding input sentence...\n"
          ]
        },
        {
          "output_type": "stream",
          "name": "stderr",
          "text": [
            "\r 15%|█▍        | 188/1268 [01:24<11:39,  1.54it/s]"
          ]
        },
        {
          "output_type": "stream",
          "name": "stdout",
          "text": [
            "Input: Người đàn ông tôi đã yêu hơn tất cả mọi người chỉa súng vào đầu và doạ giết chết tôi biết bao lần mà tôi không còn nhớ được hết .\n",
            "Result: My son who loved everyone in the first , and they were killed in the first , and they didn &apos;t know that I wasn &apos;t know .\n",
            "Inference finished! || Total inference time: 0:00:00.649822secs\n",
            "Preprocessing input sentence...\n",
            "Encoding input sentence...\n"
          ]
        },
        {
          "output_type": "stream",
          "name": "stderr",
          "text": [
            "\r 15%|█▍        | 189/1268 [01:25<11:54,  1.51it/s]"
          ]
        },
        {
          "output_type": "stream",
          "name": "stdout",
          "text": [
            "Input: Tôi đến đây để kể cho bạn về tình yêu điên rồ , một cái bẫy tâm lý được nguỵ trang dưới lớp vỏ tình yêu mà hàng triệu phụ nữ và thậm chí một số đàn ông gắp phải mỗi năm .\n",
            "Result: I &apos;m going to tell you about the greatest love , a very good idea of the stydetic , a millions of women and a lot of every year .\n",
            "Inference finished! || Total inference time: 0:00:00.686907secs\n",
            "Preprocessing input sentence...\n",
            "Encoding input sentence...\n",
            "Input: Đây có thể là câu chuyện của bạn .\n",
            "Result: This is your story .\n",
            "Inference finished! || Total inference time: 0:00:00.090381secs\n",
            "Preprocessing input sentence...\n",
            "Encoding input sentence...\n"
          ]
        },
        {
          "output_type": "stream",
          "name": "stderr",
          "text": [
            "\r 15%|█▌        | 191/1268 [01:25<07:27,  2.40it/s]"
          ]
        },
        {
          "output_type": "stream",
          "name": "stdout",
          "text": [
            "Input: Tôi không giống môt nhà tư vấn bạo lực gia đình .\n",
            "Result: I don &apos;t have a kind of a family .\n",
            "Inference finished! || Total inference time: 0:00:00.146681secs\n",
            "Preprocessing input sentence...\n",
            "Encoding input sentence...\n"
          ]
        },
        {
          "output_type": "stream",
          "name": "stderr",
          "text": [
            "\r 15%|█▌        | 192/1268 [01:26<07:07,  2.52it/s]"
          ]
        },
        {
          "output_type": "stream",
          "name": "stdout",
          "text": [
            "Input: Tôi có bằng cử nhân Tiếng Anh từ trường Cao đẳng Harvard , và Quản trị kinh doanh marketing từ trường kinh doanh Wharton .\n",
            "Result: I have the series of the U.S. , the business , the business of the business of the business from the U.S.\n",
            "Inference finished! || Total inference time: 0:00:00.333964secs\n",
            "Preprocessing input sentence...\n",
            "Encoding input sentence...\n"
          ]
        },
        {
          "output_type": "stream",
          "name": "stderr",
          "text": [
            "\r 15%|█▌        | 193/1268 [01:26<07:19,  2.44it/s]"
          ]
        },
        {
          "output_type": "stream",
          "name": "stdout",
          "text": [
            "Input: Tôi đã dàng hết sự nghiệp làm việc cho những công ty trong top 500 của Mỹ như Johnson &amp; amp ; Johnson , Leo Burnett và Thời báo Washington .\n",
            "Result: I was so easy to work in the United States of Americans like the United States ; John &apos;s ; the U.S. , the U.S.\n",
            "Inference finished! || Total inference time: 0:00:00.437770secs\n",
            "Preprocessing input sentence...\n",
            "Encoding input sentence...\n"
          ]
        },
        {
          "output_type": "stream",
          "name": "stderr",
          "text": [
            "\r 15%|█▌        | 194/1268 [01:26<06:31,  2.74it/s]"
          ]
        },
        {
          "output_type": "stream",
          "name": "stdout",
          "text": [
            "Input: Tôi kết hôn với người chồng thứ hai đã gần 20 năm và có với nhau ba đứa trẻ .\n",
            "Result: I was going to be with two seconds that were 20 years and there was three children .\n",
            "Inference finished! || Total inference time: 0:00:00.237425secs\n",
            "Preprocessing input sentence...\n",
            "Encoding input sentence...\n"
          ]
        },
        {
          "output_type": "stream",
          "name": "stderr",
          "text": [
            "\r 15%|█▌        | 195/1268 [01:27<06:52,  2.60it/s]"
          ]
        },
        {
          "output_type": "stream",
          "name": "stdout",
          "text": [
            "Input: Con chó của tôi là giống Black Lab , và tôi lái chiếc Honda Odyssey minivan .\n",
            "Result: My name was the music , and I went to the Sildy , and I went to the stya , and I styde .\n",
            "Inference finished! || Total inference time: 0:00:00.430940secs\n",
            "Preprocessing input sentence...\n",
            "Encoding input sentence...\n"
          ]
        },
        {
          "output_type": "stream",
          "name": "stderr",
          "text": [
            "\r 15%|█▌        | 196/1268 [01:27<06:49,  2.62it/s]"
          ]
        },
        {
          "output_type": "stream",
          "name": "stdout",
          "text": [
            "Input: Do vậy , điều đầu tiên tôi muốn nói với bạn là bạo lực gia đình xảy ra với tất cả mọi người mọi giới , mọi tôn giáo , mọi mức độ thu nhập và giáo dục .\n",
            "Result: So the first thing I want to say is that the family is going to happen with all the people , everybody , everybody in the health and education .\n",
            "Inference finished! || Total inference time: 0:00:00.367294secs\n",
            "Preprocessing input sentence...\n",
            "Encoding input sentence...\n",
            "Input: Nó xảy ra mọi nơi .\n",
            "Result: It happened .\n",
            "Inference finished! || Total inference time: 0:00:00.071782secs\n",
            "Preprocessing input sentence...\n",
            "Encoding input sentence...\n"
          ]
        },
        {
          "output_type": "stream",
          "name": "stderr",
          "text": [
            "\r 16%|█▌        | 198/1268 [01:28<05:22,  3.32it/s]"
          ]
        },
        {
          "output_type": "stream",
          "name": "stdout",
          "text": [
            "Input: Và điều thứ hai tôi muốn nói là mọi người nghĩ rằng bạo lực gia đình xảy ra với phụ nữ , đó là vấn đề của phụ nữ .\n",
            "Result: And the second thing I want to say is that people think that the family has happened to women , and that &apos;s the problem .\n",
            "Inference finished! || Total inference time: 0:00:00.324164secs\n",
            "Preprocessing input sentence...\n",
            "Encoding input sentence...\n",
            "Input: Không đúng .\n",
            "Result: No .\n",
            "Inference finished! || Total inference time: 0:00:00.039138secs\n",
            "Preprocessing input sentence...\n",
            "Encoding input sentence...\n"
          ]
        },
        {
          "output_type": "stream",
          "name": "stderr",
          "text": [
            "\r 16%|█▌        | 200/1268 [01:28<05:32,  3.21it/s]"
          ]
        },
        {
          "output_type": "stream",
          "name": "stdout",
          "text": [
            "Input: Hơn 85 phần trăm kẻ bạo hành là đàn ông , và bạo lực gia đình xảy ra chỉ trong những mối quan hệ thân thiết , ràng buộc , lâu dài , nói cách khác , là trong gia đình , nơi cuối cùng chúng ta mong muốn hoặc trông chờ tìn thấy bạo lực đó là một lí do khiến bạo hành gia đình là vấn đề gây bối rối .\n",
            "Result: More than six percent of the men , and the family has happened in the same relationship , and in the same time , in the last time , in the end of the end of the family or they want to see that is a very good for the problem .\n",
            "Inference finished! || Total inference time: 0:00:00.603881secs\n",
            "Preprocessing input sentence...\n",
            "Encoding input sentence...\n"
          ]
        },
        {
          "output_type": "stream",
          "name": "stderr",
          "text": [
            "\r 16%|█▌        | 201/1268 [01:29<06:36,  2.69it/s]"
          ]
        },
        {
          "output_type": "stream",
          "name": "stdout",
          "text": [
            "Input: Tôi đã tự nhủ bản thân mình , tôi là người còn lại trên trái đất chung sống với người đàn ông đã đánh mình , nhưng thật ra , tôi là một nạn nhân điển hình do độ tuổi của tôi .\n",
            "Result: I was asking myself , I was the people who were going to be on the Earth with the men who had been , but I was also a greatest , I was a greatest , I was a very oldest .\n",
            "Inference finished! || Total inference time: 0:00:00.579149secs\n",
            "Preprocessing input sentence...\n",
            "Encoding input sentence...\n"
          ]
        },
        {
          "output_type": "stream",
          "name": "stderr",
          "text": [
            "\r 16%|█▌        | 202/1268 [01:30<08:53,  2.00it/s]"
          ]
        },
        {
          "output_type": "stream",
          "name": "stdout",
          "text": [
            "Input: Tôi chỉ 22 tuổi , sống ở nước Mỹ , phụ nữ tuổi từ 16 đến 24 có nguy cơ gấp ba lần trở thành nạn nhân của bạo lực gia đình so với phụ nữ ở những độ tuổi khác , và trên 500 phụ nữ và các cô gái ở tuổi này bị giết mỗi năm bởi những kẻ tình nhân bạo hành , bạn trai , và chồng ở Mỹ\n",
            "Result: I was just about the United States , the United States , the United States , the American women from the old age of the average of the women who were born with women in the age of women and women in the United States , and the Americans , and they were in the United States , and in the United States .\n",
            "Inference finished! || Total inference time: 0:00:00.906068secs\n",
            "Preprocessing input sentence...\n",
            "Encoding input sentence...\n"
          ]
        },
        {
          "output_type": "stream",
          "name": "stderr",
          "text": [
            "\r 16%|█▌        | 203/1268 [01:30<08:34,  2.07it/s]"
          ]
        },
        {
          "output_type": "stream",
          "name": "stdout",
          "text": [
            "Input: Tôi cũng từng là một nạn nhân điển hình bởi tôi chẳng biết gì về bạo lực gia đình , những tín hiệu cảnh báo hay hình mẫu của nó\n",
            "Result: I also have a very , because I don &apos;t know what I don &apos;t know about the family , the stse of it .\n",
            "Inference finished! || Total inference time: 0:00:00.425101secs\n",
            "Preprocessing input sentence...\n",
            "Encoding input sentence...\n"
          ]
        },
        {
          "output_type": "stream",
          "name": "stderr",
          "text": [
            "\r 16%|█▌        | 204/1268 [01:30<07:21,  2.41it/s]"
          ]
        },
        {
          "output_type": "stream",
          "name": "stdout",
          "text": [
            "Input: Tôi đã gặp Conor trong một đêm tháng một , mưa và lạnh .\n",
            "Result: I met in a night , a very cold , a very cold .\n",
            "Inference finished! || Total inference time: 0:00:00.220085secs\n",
            "Preprocessing input sentence...\n",
            "Encoding input sentence...\n"
          ]
        },
        {
          "output_type": "stream",
          "name": "stderr",
          "text": [
            " 16%|█▌        | 206/1268 [01:31<05:14,  3.38it/s]"
          ]
        },
        {
          "output_type": "stream",
          "name": "stdout",
          "text": [
            "Input: Anh ta ngồi cạnh tôi trong đường hầm thành phố New york , và anh bắt chuyện với tôi .\n",
            "Result: He was sitting in my city in New York City , and he started with me .\n",
            "Inference finished! || Total inference time: 0:00:00.237128secs\n",
            "Preprocessing input sentence...\n",
            "Encoding input sentence...\n",
            "Input: Anh ta kể với tôi về hai thứ .\n",
            "Result: He tells me about two things .\n",
            "Inference finished! || Total inference time: 0:00:00.107025secs\n",
            "Preprocessing input sentence...\n",
            "Encoding input sentence...\n"
          ]
        },
        {
          "output_type": "stream",
          "name": "stderr",
          "text": [
            "\r 16%|█▋        | 207/1268 [01:32<07:35,  2.33it/s]"
          ]
        },
        {
          "output_type": "stream",
          "name": "stdout",
          "text": [
            "Input: Một là anh ta , cũng như tôi , vừa tốt nghiệp trường Ivy League và rằng anh ta làm việc tại một ngân hàng rất ấn tượng ở phố Wall\n",
            "Result: One is , as I was also , I was a good good job , and he was doing that he was doing a very very very very very very very very very very very very very very very very very very very in the city .\n",
            "Inference finished! || Total inference time: 0:00:00.752850secs\n",
            "Preprocessing input sentence...\n",
            "Encoding input sentence...\n"
          ]
        },
        {
          "output_type": "stream",
          "name": "stderr",
          "text": [
            "\r 16%|█▋        | 208/1268 [01:32<09:13,  1.91it/s]"
          ]
        },
        {
          "output_type": "stream",
          "name": "stdout",
          "text": [
            "Input: Nhưng điều gây ấn tương nhất với tôi ở cuộc gặp gỡ đầu tiên là anh ta thông minh là vui tính và trông anh ta có vẻ một cậu nhóc nông dân .\n",
            "Result: But the most important thing I was in the first time he was a very happy , and he was going to look at him as he was a very , he was also a very , he was a very very , very , very very , for the people .\n",
            "Inference finished! || Total inference time: 0:00:00.742443secs\n",
            "Preprocessing input sentence...\n",
            "Encoding input sentence...\n"
          ]
        },
        {
          "output_type": "stream",
          "name": "stderr",
          "text": [
            "\r 16%|█▋        | 209/1268 [01:33<12:20,  1.43it/s]"
          ]
        },
        {
          "output_type": "stream",
          "name": "stdout",
          "text": [
            "Input: Anh ta có đôi gò mà lớn thế này , đôi gò má hình trái táo lớn và mái tóc óng ả như cánh đồng lúa vàng và anh ta có vẻ rất ngọt ngào .\n",
            "Result: He was also this big , this , the greatest , the greater , the greatest , the greatest , and he was very very , and he was very very very very very very very very very very very very very very very very very very very very very very very very very very very very , .\n",
            "Inference finished! || Total inference time: 0:00:01.116465secs\n",
            "Preprocessing input sentence...\n",
            "Encoding input sentence...\n"
          ]
        },
        {
          "output_type": "stream",
          "name": "stderr",
          "text": [
            " 17%|█▋        | 211/1268 [01:34<08:39,  2.03it/s]"
          ]
        },
        {
          "output_type": "stream",
          "name": "stdout",
          "text": [
            "Input: Một trong số điều thông minh nhất Conor đã làm , từ lúc mới bắt đầu , là tạo ra một ảo giác rằng tôi là đối tác quan hệ đầy hứa hẹn\n",
            "Result: One of the most important thing that they were , from the beginning , is , which is a very important thing that I was going to be a very powerful system .\n",
            "Inference finished! || Total inference time: 0:00:00.425252secs\n",
            "Preprocessing input sentence...\n",
            "Encoding input sentence...\n",
            "Input: Anh ta đã làm điều đặt biệt này lúc ban đầu bằng cách tôn sùng tôi .\n",
            "Result: He was doing this , in the beginning of the way I was .\n",
            "Inference finished! || Total inference time: 0:00:00.179882secs\n",
            "Preprocessing input sentence...\n",
            "Encoding input sentence...\n"
          ]
        },
        {
          "output_type": "stream",
          "name": "stderr",
          "text": [
            "\r 17%|█▋        | 212/1268 [01:34<08:12,  2.14it/s]"
          ]
        },
        {
          "output_type": "stream",
          "name": "stdout",
          "text": [
            "Input: Chúng tôi bắt đầu hẹn hò , và anh ta yêu tôi về mọi mặt rằng tôi thông minh , rằng tôi chọn học Harvard , rằng tôi nồng nhiệt giúp đỡ những cô gái mới lớn và công việc\n",
            "Result: We started to go back , and he loved me told me that I had to learn that I learned that I had to help the greater and new jobs .\n",
            "Inference finished! || Total inference time: 0:00:00.399502secs\n",
            "Preprocessing input sentence...\n",
            "Encoding input sentence...\n"
          ]
        },
        {
          "output_type": "stream",
          "name": "stderr",
          "text": [
            " 17%|█▋        | 214/1268 [01:35<06:03,  2.90it/s]"
          ]
        },
        {
          "output_type": "stream",
          "name": "stdout",
          "text": [
            "Input: Anh ta muốn biết mọi thứ về gia đình tôi và về tuổi thơ của tôi , những hi vọng và mơ ước cảu tôi .\n",
            "Result: He wanted to know what I wanted to be my family and my family , and my dreams .\n",
            "Inference finished! || Total inference time: 0:00:00.260384secs\n",
            "Preprocessing input sentence...\n",
            "Encoding input sentence...\n",
            "Input: Conor tin tưởng tôi , như một nhà văn và một phụ nữ theo cách mà chưa ai từng có .\n",
            "Result: My believed , as a woman and a woman who has never ever ever .\n",
            "Inference finished! || Total inference time: 0:00:00.188355secs\n",
            "Preprocessing input sentence...\n",
            "Encoding input sentence...\n"
          ]
        },
        {
          "output_type": "stream",
          "name": "stderr",
          "text": [
            "\r 17%|█▋        | 215/1268 [01:37<14:52,  1.18it/s]"
          ]
        },
        {
          "output_type": "stream",
          "name": "stdout",
          "text": [
            "Input: Và anh ta cũng tạo ra bầu không khí huyền diệu của sự tin tưởng giữa chúng tôi bằng cách thú nhận những bí mật của anh ta , rằng , anh ta như là một đứa trẻ từ lúc bốn tuổi đã bị ngược đãi về thân thể một cách độc ác và liên tục bởi cha dượng của anh ta , và sự ngược đãi trở nên tồi tệ khiến anh ta rời bỏ trường lúc tám tuổi , mặc dù anh ta rất thông minh và anh ta mất gần 20 năm để xây dựng lại cuộc đời .\n",
            "Result: And he also creates the very amazing , the idea of the idea of our ideas that are , that he was a young child , as a young children were a long time , and he was a long time , and he was going to go back to the age of the age of the age of the age of the age of the age of the age of the age of the age of the age of the age of the last time , and he was very long time , and he was , and he was , and he was very long time , and he decided to goed in the last year , and he was , and he was , and\n",
            "Inference finished! || Total inference time: 0:00:02.018980secs\n",
            "Preprocessing input sentence...\n",
            "Encoding input sentence...\n"
          ]
        },
        {
          "output_type": "stream",
          "name": "stderr",
          "text": [
            "\r 17%|█▋        | 216/1268 [01:38<13:26,  1.30it/s]"
          ]
        },
        {
          "output_type": "stream",
          "name": "stdout",
          "text": [
            "Input: Điều đó giải thích tại sao bằng cấp tại Ivy Leage và công việc tại phố Wall và tương lai tươi sáng của anh ta có ý nghĩa to lớn với anh ta thế nào .\n",
            "Result: That explains why they explain in the U.S. and the future of the future of the future , they have a big big idea of what he means .\n",
            "Inference finished! || Total inference time: 0:00:00.565585secs\n",
            "Preprocessing input sentence...\n",
            "Encoding input sentence...\n"
          ]
        },
        {
          "output_type": "stream",
          "name": "stderr",
          "text": [
            "\r 17%|█▋        | 217/1268 [01:39<17:43,  1.01s/it]"
          ]
        },
        {
          "output_type": "stream",
          "name": "stdout",
          "text": [
            "Input: Nếu bạn nói với tôi rằng người đàn ông thông minh , vui tính , nhạy cảm này , người quý mến tôi một ngày ra lênh khi nào thì tôi được trang điểm hay không , váy của của tôi được ngắn bao nhiêu , tôi sống ở đâu , tôi làm công việc gì , ai là bạn của tôi và đâu là nơi tôi nghỉ lễ Giáng sinh , Tôi sẽ cười mặt vào bạn bởi vì không có mảy may môt dấu vết nào của bạo lực hay kiểm soát hay tức giận ở Conor từ lúc đầu .\n",
            "Result: If you talk to me that women , this , this , they &apos;re going to be a day when I was going to go back to the moment , and how I was going to live in my , or I &apos;m going to live in my own , or I &apos;m not going to be in my hands , or I &apos;m going to be in my eyes or in your eyes or in your eyes or in your eyes .\n",
            "Inference finished! || Total inference time: 0:00:01.575639secs\n",
            "Preprocessing input sentence...\n",
            "Encoding input sentence...\n"
          ]
        },
        {
          "output_type": "stream",
          "name": "stderr",
          "text": [
            "\r 17%|█▋        | 218/1268 [01:40<15:42,  1.11it/s]"
          ]
        },
        {
          "output_type": "stream",
          "name": "stdout",
          "text": [
            "Input: Tôi đã không biết rằng giai đoạn đầu tiên trong bất kì mối quan hệ bạo lực gia đình là cám dỗ và quyến rũ nạn nhân .\n",
            "Result: I didn &apos;t know that the first time in any relationship of the family , the family is the sty and they &apos;re sety .\n",
            "Inference finished! || Total inference time: 0:00:00.624293secs\n",
            "Preprocessing input sentence...\n",
            "Encoding input sentence...\n"
          ]
        },
        {
          "output_type": "stream",
          "name": "stderr",
          "text": [
            "\r 17%|█▋        | 219/1268 [01:40<12:06,  1.44it/s]"
          ]
        },
        {
          "output_type": "stream",
          "name": "stdout",
          "text": [
            "Input: Tôi cũng không biết rằng giai đoạn thứ hai là cô lập nạn nhân .\n",
            "Result: I &apos;m not know that the second thing was the war .\n",
            "Inference finished! || Total inference time: 0:00:00.206341secs\n",
            "Preprocessing input sentence...\n",
            "Encoding input sentence...\n"
          ]
        },
        {
          "output_type": "stream",
          "name": "stderr",
          "text": [
            "\r 17%|█▋        | 220/1268 [01:41<16:29,  1.06it/s]"
          ]
        },
        {
          "output_type": "stream",
          "name": "stdout",
          "text": [
            "Input: Bấy giờ , Conor không trở về nhà vào một ngày và thông báo rằng &quot; Này , Cô biết không , tất cả ngón nghề kiểu Romeo và juliet này thật tuyệt , nhưng tôi cần phải chuyển sang giai đoạn tiếp theo nơi mà tôi cô lập và hành hạ cô &quot; — — &quot; do vậy tôi cần phải đưa cô ra khỏi căn hộ này nơi mà những người hàng xóm có thể nghe tiếng cô la hét và ra khỏi thành phố này nơi cô có bạn bè và gia đình và những đồng nghiệp có thể nhìn thấy những vết thâm tím . &quot;\n",
            "Result: Now , they don &apos;t been back to a day and they said , &quot; You know , all the stys , but I need to go this , but I need to go to the sty &apos;re going to go to the city and I &apos;ve got to see this , and she can &apos;t have to see this , and she can &apos;t have to see this , &quot;t have to see , &quot; and see , &quot; and I &quot; and I &quot; and I &quot; and see this\n",
            "Inference finished! || Total inference time: 0:00:01.525197secs\n",
            "Preprocessing input sentence...\n",
            "Encoding input sentence...\n"
          ]
        },
        {
          "output_type": "stream",
          "name": "stderr",
          "text": [
            "\r 17%|█▋        | 221/1268 [01:43<19:43,  1.13s/it]"
          ]
        },
        {
          "output_type": "stream",
          "name": "stdout",
          "text": [
            "Input: Thay vì vậy , Conor đã về nhà vào một tối thứ sáu và anh ấy nói với tôi rằng anh ấy nghỉ việc ngày hôm nay công việc mơ ước của anh ta , và anh ta nói rằng , anh ta bỏ việc vì tôi , bởi vì tôi làm anh cảm thấy thật an toàn và được yêu thương rằng anh ta không cần chứng tỏ bản thân ở phố Wall thêm nửa và anh ta chỉ muốn đi khỏi thành phố này xa rời gia đình bất thường và đầy ngược đãi của anh ta , đi đến một thị trấn nhỏ ở New England nơi anh ta có thể bắt đầu lại cuộc sống của anh với tôi\n",
            "Result: Instead of course , they &apos;ve been on a night and he said he said , he said he said , and he said , &quot; and he said , because he &apos;s going to be a very old , because he &apos;d like to go to the city , and I &apos;m not going to have a , and I want to see him to go to go to be a , and he &apos;ve got his family in the city , and I &apos;m , and he wanted in the city in the city , and he wanted to\n",
            "Inference finished! || Total inference time: 0:00:01.556786secs\n",
            "Preprocessing input sentence...\n",
            "Encoding input sentence...\n"
          ]
        },
        {
          "output_type": "stream",
          "name": "stderr",
          "text": [
            "\r 18%|█▊        | 222/1268 [01:44<17:31,  1.01s/it]"
          ]
        },
        {
          "output_type": "stream",
          "name": "stdout",
          "text": [
            "Input: Bấy giờ , điều cuối cùng tôi muốn làm là rời bỏ New York và công việc mơ ước của tôi , nhưng tôi đã nghĩ rằng bạn phải hi sinh cho bạn đời của mình , vì vậy , tôi đồng ý và nghỉ việc , Conor và tôi cùng nhau rời bỏ Manhattan .\n",
            "Result: Now , the last thing I wanted to do is my New York and my dream , but I think you have to think you have to be able to get your life , so I &apos;m going to go and go back to the house and I &apos;m going to go back to the house .\n",
            "Inference finished! || Total inference time: 0:00:00.708138secs\n",
            "Preprocessing input sentence...\n",
            "Encoding input sentence...\n"
          ]
        },
        {
          "output_type": "stream",
          "name": "stderr",
          "text": [
            "\r 18%|█▊        | 223/1268 [01:45<20:28,  1.18s/it]"
          ]
        },
        {
          "output_type": "stream",
          "name": "stdout",
          "text": [
            "Input: Tôi không hề nghĩ rằng tôi đã lao vào một tình yêu điên rồ , rằng tôi đang bước những bước đầu tiên vào cái bẫy tâm lý , tiền bạc và thể xác đã được sắp đặt cẩn thận\n",
            "Result: I didn &apos;t think I was in a great love , that I was going to be the first time , they were going to be in the first time , and the money was going to be very , and they were going to be very , and very very , and very very , very very very , very very very , very , very , very very , very very , , , very , , very very very very very very , very very , , ,\n",
            "Inference finished! || Total inference time: 0:00:01.565846secs\n",
            "Preprocessing input sentence...\n",
            "Encoding input sentence...\n"
          ]
        },
        {
          "output_type": "stream",
          "name": "stderr",
          "text": [
            "\r 18%|█▊        | 224/1268 [01:46<16:44,  1.04it/s]"
          ]
        },
        {
          "output_type": "stream",
          "name": "stdout",
          "text": [
            "Input: Bước tiếp theo trong kịch bản bạo lực này là đưa vào sự đe doạ bạo lực và xem cô ta phản ứng ra sao .\n",
            "Result: The next next next in this , this is the sty of the stycing the power of the sty and look at how we can make it .\n",
            "Inference finished! || Total inference time: 0:00:00.457038secs\n",
            "Preprocessing input sentence...\n",
            "Encoding input sentence...\n"
          ]
        },
        {
          "output_type": "stream",
          "name": "stderr",
          "text": [
            "\r 18%|█▊        | 225/1268 [01:46<13:07,  1.32it/s]"
          ]
        },
        {
          "output_type": "stream",
          "name": "stdout",
          "text": [
            "Input: Từ đây , những cây súng bước vào\n",
            "Result: So , from they went to they &apos;re going to go into the door .\n",
            "Inference finished! || Total inference time: 0:00:00.265868secs\n",
            "Preprocessing input sentence...\n",
            "Encoding input sentence...\n"
          ]
        },
        {
          "output_type": "stream",
          "name": "stderr",
          "text": [
            " 18%|█▊        | 227/1268 [01:47<09:24,  1.84it/s]"
          ]
        },
        {
          "output_type": "stream",
          "name": "stdout",
          "text": [
            "Input: khi chúng tôi chuyển đến New England -- bạn biết đấy , nơi mà Conor dựa vào để cảm thấy an toàn -- anh ta mua ba cây súng\n",
            "Result: When we go to New York -- you know , where they &apos;re going to get into the very safety to get a three-sty , he &apos;s buying the sty .\n",
            "Inference finished! || Total inference time: 0:00:00.567827secs\n",
            "Preprocessing input sentence...\n",
            "Encoding input sentence...\n",
            "Input: Anh ta giữ một cây trong ngăn chứa đồ của chiếc xe của chúng tôi .\n",
            "Result: He &apos;s going to put a tree in our car .\n",
            "Inference finished! || Total inference time: 0:00:00.167545secs\n",
            "Preprocessing input sentence...\n",
            "Encoding input sentence...\n"
          ]
        },
        {
          "output_type": "stream",
          "name": "stderr",
          "text": [
            "\r 18%|█▊        | 228/1268 [01:47<08:43,  1.99it/s]"
          ]
        },
        {
          "output_type": "stream",
          "name": "stdout",
          "text": [
            "Input: một cây dưới gối chỗ giường ngủ của chúng tôi cây thứ ba anh luôn ta giữa trong ví\n",
            "Result: They &apos;re in a car that &apos;s going to be the styds of our stys in the case .\n",
            "Inference finished! || Total inference time: 0:00:00.406048secs\n",
            "Preprocessing input sentence...\n",
            "Encoding input sentence...\n"
          ]
        },
        {
          "output_type": "stream",
          "name": "stderr",
          "text": [
            " 18%|█▊        | 230/1268 [01:48<06:25,  2.69it/s]"
          ]
        },
        {
          "output_type": "stream",
          "name": "stdout",
          "text": [
            "Input: Và anh ta nói rằng anh ta cần những cây súng này bởi vì những tổn thương mà anh đã trải qua trong quá khứ khi là một đứa trẻ .\n",
            "Result: And he said he said , he needed these , because they needed , because he had been , when he was a child .\n",
            "Inference finished! || Total inference time: 0:00:00.389981secs\n",
            "Preprocessing input sentence...\n",
            "Encoding input sentence...\n",
            "Input: Anh ta cần chúng để cảm thấy được bảo vệ .\n",
            "Result: He needed them to feel like they needed .\n",
            "Inference finished! || Total inference time: 0:00:00.129626secs\n",
            "Preprocessing input sentence...\n",
            "Encoding input sentence...\n"
          ]
        },
        {
          "output_type": "stream",
          "name": "stderr",
          "text": [
            "\r 18%|█▊        | 231/1268 [01:48<06:56,  2.49it/s]"
          ]
        },
        {
          "output_type": "stream",
          "name": "stdout",
          "text": [
            "Input: Nhưng những cây súng này thật ra là một lời nhắn cho tôi , và mặc dù anh ta chưa đưa cánh tay về phía tôi , nhưng cuộc sống của tôi ở trong tình thế nguy hiểm từng phút mỗi ngày .\n",
            "Result: But these are actually also a very , and even though he didn &apos;t have the left my hand , but my life wasn &apos;t in the next day .\n",
            "Inference finished! || Total inference time: 0:00:00.463872secs\n",
            "Preprocessing input sentence...\n",
            "Encoding input sentence...\n"
          ]
        },
        {
          "output_type": "stream",
          "name": "stderr",
          "text": [
            "\r 18%|█▊        | 232/1268 [01:49<06:17,  2.74it/s]"
          ]
        },
        {
          "output_type": "stream",
          "name": "stdout",
          "text": [
            "Input: Conor đã tấn công vào tôi năm ngày trước đám cưới của chúng tôi .\n",
            "Result: They weren &apos;t going to be in the last year before our stya .\n",
            "Inference finished! || Total inference time: 0:00:00.271620secs\n",
            "Preprocessing input sentence...\n",
            "Encoding input sentence...\n"
          ]
        },
        {
          "output_type": "stream",
          "name": "stderr",
          "text": [
            "\r 18%|█▊        | 233/1268 [01:49<05:54,  2.92it/s]"
          ]
        },
        {
          "output_type": "stream",
          "name": "stdout",
          "text": [
            "Input: Đó là lúc 7 giờ sáng khi tôi còn đang mặc áo ngủ .\n",
            "Result: It &apos;s at the time when I was going to be a little bit of a stya .\n",
            "Inference finished! || Total inference time: 0:00:00.284206secs\n",
            "Preprocessing input sentence...\n",
            "Encoding input sentence...\n"
          ]
        },
        {
          "output_type": "stream",
          "name": "stderr",
          "text": [
            "\r 18%|█▊        | 234/1268 [01:50<11:39,  1.48it/s]"
          ]
        },
        {
          "output_type": "stream",
          "name": "stdout",
          "text": [
            "Input: Tôi đang lamg việc trên mái tính , cố hoang thành bài viết được giao và tôi thấy nản lòng , Conor dùng sự tức giận của tôi như lời bào chữa để lấy hai tay vòng quanh cổ tôi và xiết chặt đến nổi tôi không thể thở hay la hét , và anh ta dùng cùi chỏ đập đầu tôi vào tường liên tục .\n",
            "Result: I was in the series of sts , trying to write , and I saw my writing , my stse , my sted , and I couldn &apos;t go to the two , and I can &apos;t go to the sty &apos;re going to go back to the , and I &apos;m going to go to the back to the sty &apos;re going to go back to the , and go on the door .\n",
            "Inference finished! || Total inference time: 0:00:01.448236secs\n",
            "Preprocessing input sentence...\n",
            "Encoding input sentence...\n"
          ]
        },
        {
          "output_type": "stream",
          "name": "stderr",
          "text": [
            "\r 19%|█▊        | 235/1268 [01:51<11:28,  1.50it/s]"
          ]
        },
        {
          "output_type": "stream",
          "name": "stdout",
          "text": [
            "Input: Năm ngày sau , mười vết bầm trên cổ tôi đã hiện lên rõ , và tôi mặc chiếc váy cưới của mẹ tôi , và kết hôn với anh ta .\n",
            "Result: In the last year , the sts of the sty , I was very excited , and I was very excited to my mother , and my mother was with him .\n",
            "Inference finished! || Total inference time: 0:00:00.635032secs\n",
            "Preprocessing input sentence...\n",
            "Encoding input sentence...\n"
          ]
        },
        {
          "output_type": "stream",
          "name": "stderr",
          "text": [
            " 19%|█▊        | 237/1268 [01:52<08:41,  1.98it/s]"
          ]
        },
        {
          "output_type": "stream",
          "name": "stdout",
          "text": [
            "Input: Mặc cho những điều đã xảy ra , Tôi vẫn chắc rằng chúng tôi sẽ sống hạnh phúc mãi bởi vì tôi yêu anh ấy và anh ấy cũng yêu tôi rất nhiều .\n",
            "Result: They &apos;ve been , I &apos;m going to be sure that we &apos;re going to live in the life because I loved and I loved .\n",
            "Inference finished! || Total inference time: 0:00:00.646467secs\n",
            "Preprocessing input sentence...\n",
            "Encoding input sentence...\n",
            "Input: và anh ta đã vô cùng hối lỗi .\n",
            "Result: And he was very excited .\n",
            "Inference finished! || Total inference time: 0:00:00.127528secs\n",
            "Preprocessing input sentence...\n",
            "Encoding input sentence...\n"
          ]
        },
        {
          "output_type": "stream",
          "name": "stderr",
          "text": [
            "\r 19%|█▉        | 238/1268 [01:52<08:53,  1.93it/s]"
          ]
        },
        {
          "output_type": "stream",
          "name": "stdout",
          "text": [
            "Input: Anh ta đã thật sự rất căng thẳng vì đám cưới và việc lập gia đình với tôi .\n",
            "Result: He was really very , because they were very , because they were very , and the family was very family .\n",
            "Inference finished! || Total inference time: 0:00:00.532926secs\n",
            "Preprocessing input sentence...\n",
            "Encoding input sentence...\n"
          ]
        },
        {
          "output_type": "stream",
          "name": "stderr",
          "text": [
            "\r 19%|█▉        | 239/1268 [01:53<07:57,  2.15it/s]"
          ]
        },
        {
          "output_type": "stream",
          "name": "stdout",
          "text": [
            "Input: Đó là môt sự cố cá biệt , và anh ta sẽ không bao giờ làm đau tôi nữa .\n",
            "Result: It &apos;s a very , and he &apos;s going to never do me .\n",
            "Inference finished! || Total inference time: 0:00:00.330700secs\n",
            "Preprocessing input sentence...\n",
            "Encoding input sentence...\n"
          ]
        },
        {
          "output_type": "stream",
          "name": "stderr",
          "text": [
            "\r 19%|█▉        | 240/1268 [01:53<06:56,  2.47it/s]"
          ]
        },
        {
          "output_type": "stream",
          "name": "stdout",
          "text": [
            "Input: Nó đã xảy ra thêm hai lần trong tuần trăng mật .\n",
            "Result: It &apos;s happened to two weeks in the middle of the moon .\n",
            "Inference finished! || Total inference time: 0:00:00.260991secs\n",
            "Preprocessing input sentence...\n",
            "Encoding input sentence...\n"
          ]
        },
        {
          "output_type": "stream",
          "name": "stderr",
          "text": [
            "\r 19%|█▉        | 241/1268 [01:55<13:22,  1.28it/s]"
          ]
        },
        {
          "output_type": "stream",
          "name": "stdout",
          "text": [
            "Input: Lần đầu tiên , Tôi đang lái xe để tìm một bãi biển bí mật và tôi bị lạc , anh ta đánh vào một bên đầu tôi rất mạnh khiến đầu tôi liên tục đập vào cửa kính của xe\n",
            "Result: The first time , I was going to put a car , and I was going to find a very , and I was very , very very , very very , very very , very very , very very , very very , very very , very very , very very , very very , very , very , very very , to the door of the car .\n",
            "Inference finished! || Total inference time: 0:00:01.650175secs\n",
            "Preprocessing input sentence...\n",
            "Encoding input sentence...\n"
          ]
        },
        {
          "output_type": "stream",
          "name": "stderr",
          "text": [
            "\r 19%|█▉        | 242/1268 [01:55<13:35,  1.26it/s]"
          ]
        },
        {
          "output_type": "stream",
          "name": "stdout",
          "text": [
            "Input: Vài ngày sau đó , khi đang lái xe về nhà sau tuần trăng mật , anh ta mệt mỏi vì xe cộ , và anh ta ném cả túi thức ăn Big Mac vào mặt tôi .\n",
            "Result: And then after the day , when they &apos;re going to be going to be the next week , he &apos;s going to be the sty , and he &apos;s going to go into the sty &apos;re going to be in the sty .\n",
            "Inference finished! || Total inference time: 0:00:00.820545secs\n",
            "Preprocessing input sentence...\n",
            "Encoding input sentence...\n"
          ]
        },
        {
          "output_type": "stream",
          "name": "stderr",
          "text": [
            "\r 19%|█▉        | 243/1268 [01:56<11:13,  1.52it/s]"
          ]
        },
        {
          "output_type": "stream",
          "name": "stdout",
          "text": [
            "Input: Conor tiếp tuc đánh tôi một đến hai lần mỗi tuần trong suốt hai tháng sau và nửa năm từ khi kết hôn .\n",
            "Result: They were going to go to a two weeks in the last week , and the last year after the end of the time .\n",
            "Inference finished! || Total inference time: 0:00:00.323976secs\n",
            "Preprocessing input sentence...\n",
            "Encoding input sentence...\n"
          ]
        },
        {
          "output_type": "stream",
          "name": "stderr",
          "text": [
            "\r 19%|█▉        | 244/1268 [01:56<09:05,  1.88it/s]"
          ]
        },
        {
          "output_type": "stream",
          "name": "stdout",
          "text": [
            "Input: Tôi đã sai lầm khi nghĩ rằng tôi là trường hợp duy nhất và mình tôi đơn độc trong chuyện này .\n",
            "Result: I was wrong when I thought that I was the only school and I was also this story .\n",
            "Inference finished! || Total inference time: 0:00:00.236330secs\n",
            "Preprocessing input sentence...\n",
            "Encoding input sentence...\n"
          ]
        },
        {
          "output_type": "stream",
          "name": "stderr",
          "text": [
            " 19%|█▉        | 246/1268 [01:56<06:45,  2.52it/s]"
          ]
        },
        {
          "output_type": "stream",
          "name": "stdout",
          "text": [
            "Input: Một phần ba phụ nữ Mỹ trải qua bạo lực gia đình hoặc bị rình rập trong một số giai đoạn cuộc đời và báo cáo CDC cho thấy 15 triệu trẻ em bị ngược đãi mỗi năm , 15 triệu .\n",
            "Result: One of the Americans have been , the Americans , or the family of a few years of the war and they saw a million children who are born .\n",
            "Inference finished! || Total inference time: 0:00:00.412470secs\n",
            "Preprocessing input sentence...\n",
            "Encoding input sentence...\n",
            "Input: Vì vậy , tôi thật sự đã ở trong công ty rất tốt\n",
            "Result: So I really really was in the company .\n",
            "Inference finished! || Total inference time: 0:00:00.152438secs\n",
            "Preprocessing input sentence...\n",
            "Encoding input sentence...\n"
          ]
        },
        {
          "output_type": "stream",
          "name": "stderr",
          "text": [
            "\r 19%|█▉        | 247/1268 [01:57<05:32,  3.07it/s]"
          ]
        },
        {
          "output_type": "stream",
          "name": "stdout",
          "text": [
            "Input: Trở lại câu hỏi của tôi : Tại sao tôi ở lại ?\n",
            "Result: So , my question : Why do I ?\n",
            "Inference finished! || Total inference time: 0:00:00.152070secs\n",
            "Preprocessing input sentence...\n",
            "Encoding input sentence...\n",
            "Input: Câu trả lời rất dễ .\n",
            "Result: The answer is very easy .\n",
            "Inference finished! || Total inference time: 0:00:00.092758secs\n",
            "Preprocessing input sentence...\n",
            "Encoding input sentence...\n"
          ]
        },
        {
          "output_type": "stream",
          "name": "stderr",
          "text": [
            "\r 20%|█▉        | 249/1268 [01:57<04:05,  4.14it/s]"
          ]
        },
        {
          "output_type": "stream",
          "name": "stdout",
          "text": [
            "Input: Tôi không biết anh ta đang bạo hành tôi .\n",
            "Result: I don &apos;t know what he was going to be .\n",
            "Inference finished! || Total inference time: 0:00:00.182140secs\n",
            "Preprocessing input sentence...\n",
            "Encoding input sentence...\n"
          ]
        },
        {
          "output_type": "stream",
          "name": "stderr",
          "text": [
            "\r 20%|█▉        | 250/1268 [01:59<09:59,  1.70it/s]"
          ]
        },
        {
          "output_type": "stream",
          "name": "stdout",
          "text": [
            "Input: Thậm chí anh ta chĩa súng vào đầu tôi , đẩy tôi xuống sàn , đe doạ giết lũ chó của tôi , rút chìa khoá ra khỏi xe khi tôi đang lái xe vào đường cao tốc đổ grinds cafe lên đầu tôi khi tôi đang mặc đồ cho buổi phỏng vấn , Tôi chưa bao giờ một lần nghĩ bản thân như một người vợ bị hành hạ .\n",
            "Result: It &apos;s even going to go on the first door , I went to my head , they &apos;re going to be the sty &apos;re going to be the stying my house , and they &apos;re going to be a very , when I &apos;m not going to think about the house , I &apos;m going to think I &apos;m going to think , I &apos;m , I &apos;m going to think going to think , I &apos;m , I &apos;m , I &apos;\n",
            "Inference finished! || Total inference time: 0:00:01.637178secs\n",
            "Preprocessing input sentence...\n",
            "Encoding input sentence...\n"
          ]
        },
        {
          "output_type": "stream",
          "name": "stderr",
          "text": [
            "\r 20%|█▉        | 251/1268 [01:59<09:05,  1.86it/s]"
          ]
        },
        {
          "output_type": "stream",
          "name": "stdout",
          "text": [
            "Input: Thay vào đó , tôi là một phụ nữ mạnh mẽ trong tình yêu với một người đàn ông có vấn đề , và tôi là người duy nhất trên trái đất có thể giúp Conor đối mặt với cái xấu xa của anh ta .\n",
            "Result: Instead , I was a great woman in a man with a man who had a problem , and I was the only person who would help him help him .\n",
            "Inference finished! || Total inference time: 0:00:00.379540secs\n",
            "Preprocessing input sentence...\n",
            "Encoding input sentence...\n"
          ]
        },
        {
          "output_type": "stream",
          "name": "stderr",
          "text": [
            "\r 20%|█▉        | 252/1268 [01:59<07:37,  2.22it/s]"
          ]
        },
        {
          "output_type": "stream",
          "name": "stdout",
          "text": [
            "Input: Câu hỏi khác mà mọi người hay hỏi là , tại sao cô ấy lại không bỏ đi ?\n",
            "Result: The other question that people asked , why didn &apos;t it ?\n",
            "Inference finished! || Total inference time: 0:00:00.214778secs\n",
            "Preprocessing input sentence...\n",
            "Encoding input sentence...\n"
          ]
        },
        {
          "output_type": "stream",
          "name": "stderr",
          "text": [
            "\r 20%|█▉        | 253/1268 [01:59<06:48,  2.48it/s]"
          ]
        },
        {
          "output_type": "stream",
          "name": "stdout",
          "text": [
            "Input: tại sao tôi đã không bước đi ? Tôi có thể bỏ đi bất cứ lúc nào .\n",
            "Result: Why did In &apos;t I going to go ? I can go back any time .\n",
            "Inference finished! || Total inference time: 0:00:00.272814secs\n",
            "Preprocessing input sentence...\n",
            "Encoding input sentence...\n"
          ]
        },
        {
          "output_type": "stream",
          "name": "stderr",
          "text": [
            " 20%|██        | 255/1268 [02:00<06:37,  2.55it/s]"
          ]
        },
        {
          "output_type": "stream",
          "name": "stdout",
          "text": [
            "Input: Với tôi , đó là câu hỏi buồn và đau đớn nhất , bởi vì chúng tôi , những nạn nhân biết một số thứ mà bạn thường không biết : thật là một nguy hiểm kinh khủng để rời bỏ một kẻ bạo hành như thế .\n",
            "Result: For me , that &apos;s the most important question , because we know , they know what you know , is not also a very powerful : also a very powerful , like a very , like a very , like this .\n",
            "Inference finished! || Total inference time: 0:00:00.672291secs\n",
            "Preprocessing input sentence...\n",
            "Encoding input sentence...\n",
            "Input: Bởi vì bước cuối cùng trong kịch bản bạo hành gia đình là giết chết cô ta .\n",
            "Result: Because the last year in the family was killed her .\n",
            "Inference finished! || Total inference time: 0:00:00.162531secs\n",
            "Preprocessing input sentence...\n",
            "Encoding input sentence...\n"
          ]
        },
        {
          "output_type": "stream",
          "name": "stderr",
          "text": [
            "\r 20%|██        | 256/1268 [02:01<07:29,  2.25it/s]"
          ]
        },
        {
          "output_type": "stream",
          "name": "stdout",
          "text": [
            "Input: Hơn 70 phần trăm tội ác bạo hành gia đình xảy ra sau khi nạn nhân kết thúc mối quan hệ , sau khi cô ấy bỏ đi , bởi vì sau đó kẻ bạo hành đó không còn gì để mất .\n",
            "Result: Then &apos; 70 percent of the family has happened after the war , after the , after she went back , because after the , because they weren &apos;t going to go .\n",
            "Inference finished! || Total inference time: 0:00:00.560723secs\n",
            "Preprocessing input sentence...\n",
            "Encoding input sentence...\n"
          ]
        },
        {
          "output_type": "stream",
          "name": "stderr",
          "text": [
            "\r 20%|██        | 257/1268 [02:03<13:16,  1.27it/s]"
          ]
        },
        {
          "output_type": "stream",
          "name": "stdout",
          "text": [
            "Input: Nhưng hậu quả khác như bị theo dõi lâu dài , thậm chí sau kẻ lạm dụng kết hôn lại ; khước từ những nguồn tài chính ; và vận động của hệ thống toàn án gia đình để làm khiếp sợ nạn nhân và những đứa trẻ của cô ta , những đứa trẻ này thường bị ép buộc bởi phán quyết của toà dành thời gian không bị giám sát với người đàn ông đã đánh đập mẹ chúng .\n",
            "Result: But the other thing is that they were going to be , even though , even though they were going to be very , very , very , very , especially , the ststed by the children who were , and the children were going to be , and the children who were , they were going to be rected to the childrent , and the children &apos;d st , and the childrent , and they &apos;d &apos;d st st , and they &apos;d\n",
            "Inference finished! || Total inference time: 0:00:01.605218secs\n",
            "Preprocessing input sentence...\n",
            "Encoding input sentence...\n"
          ]
        },
        {
          "output_type": "stream",
          "name": "stderr",
          "text": [
            "\r 20%|██        | 258/1268 [02:03<10:27,  1.61it/s]"
          ]
        },
        {
          "output_type": "stream",
          "name": "stdout",
          "text": [
            "Input: Và chúng ta có tiếp tục hỏi , tại sao cô ấy không bỏ đi ?\n",
            "Result: And we have to ask , why didn &apos;t we go ?\n",
            "Inference finished! || Total inference time: 0:00:00.220330secs\n",
            "Preprocessing input sentence...\n",
            "Encoding input sentence...\n"
          ]
        },
        {
          "output_type": "stream",
          "name": "stderr",
          "text": [
            "\r 20%|██        | 259/1268 [02:03<09:47,  1.72it/s]"
          ]
        },
        {
          "output_type": "stream",
          "name": "stdout",
          "text": [
            "Input: Tôi đã có thể bỏ đi , bởi vì một đòn đánh thô bạo cuối cùng đã đập tan sự từ bỏ của tôi .\n",
            "Result: I could go back , because a finally , because the finally , the finally , the finally , the finally , the end of my own .\n",
            "Inference finished! || Total inference time: 0:00:00.481781secs\n",
            "Preprocessing input sentence...\n",
            "Encoding input sentence...\n"
          ]
        },
        {
          "output_type": "stream",
          "name": "stderr",
          "text": [
            " 21%|██        | 261/1268 [02:04<06:36,  2.54it/s]"
          ]
        },
        {
          "output_type": "stream",
          "name": "stdout",
          "text": [
            "Input: Tôi nhận ra rằng người đàn ông tôi rất yêu thương sẽ giết tôi nếu tôi bỏ rơi anh ta .\n",
            "Result: I realized that my father was very loved to kill me if I was going to get him .\n",
            "Inference finished! || Total inference time: 0:00:00.265245secs\n",
            "Preprocessing input sentence...\n",
            "Encoding input sentence...\n",
            "Input: Vì vậy tôi phát vỡ sự yên lặng .\n",
            "Result: So I went to the stse .\n",
            "Inference finished! || Total inference time: 0:00:00.158452secs\n",
            "Preprocessing input sentence...\n",
            "Encoding input sentence...\n"
          ]
        },
        {
          "output_type": "stream",
          "name": "stderr",
          "text": [
            "\r 21%|██        | 262/1268 [02:04<07:44,  2.16it/s]"
          ]
        },
        {
          "output_type": "stream",
          "name": "stdout",
          "text": [
            "Input: Tôi kể với mọi người : cánh sát , những người láng giềng , bạn bè và gia đình tôi , những người hoàn toàn xa lạ , và tôi đứng đây hôm nay bởi vì bạn đều đang giúp tôi .\n",
            "Result: I tell you : the people , the people who , the family and my family , the people who are very long , and I &apos;m going to be here for me because I &apos;m going to help me .\n",
            "Inference finished! || Total inference time: 0:00:00.614848secs\n",
            "Preprocessing input sentence...\n",
            "Encoding input sentence...\n"
          ]
        },
        {
          "output_type": "stream",
          "name": "stderr",
          "text": [
            "\r 21%|██        | 263/1268 [02:05<07:35,  2.21it/s]"
          ]
        },
        {
          "output_type": "stream",
          "name": "stdout",
          "text": [
            "Input: Chúng ta có quan niệm rập khuôn về nạn nhân như những tiêu đề đáng sợ , những phụ nữ tự huỷ hoại mình , những điều tốt bị làm tổn thương .\n",
            "Result: We have the very , as they &apos;re going to be the wrong , women , women , the good things that are good .\n",
            "Inference finished! || Total inference time: 0:00:00.427043secs\n",
            "Preprocessing input sentence...\n",
            "Encoding input sentence...\n"
          ]
        },
        {
          "output_type": "stream",
          "name": "stderr",
          "text": [
            "\r 21%|██        | 264/1268 [02:05<06:32,  2.56it/s]"
          ]
        },
        {
          "output_type": "stream",
          "name": "stdout",
          "text": [
            "Input: Câu hỏi , &quot; Tai sao cô ấy ở lại ? &quot;\n",
            "Result: The question , &quot; Why ? &quot;\n",
            "Inference finished! || Total inference time: 0:00:00.233802secs\n",
            "Preprocessing input sentence...\n",
            "Encoding input sentence...\n"
          ]
        },
        {
          "output_type": "stream",
          "name": "stderr",
          "text": [
            "\r 21%|██        | 265/1268 [02:06<08:03,  2.07it/s]"
          ]
        },
        {
          "output_type": "stream",
          "name": "stdout",
          "text": [
            "Input: là lí lẽ của một số người , &quot; Đấy là lỗi của cô ấy khi ở lại &quot; như thể nạn nhân đã lựa chọn yêu đàn ông với ý định phá huỷ chúng ta .\n",
            "Result: The reason is , &quot; What &apos;s herself is , &quot; when she &apos;s like , &quot; the women &quot; is the choice of the women .\n",
            "Inference finished! || Total inference time: 0:00:00.683140secs\n",
            "Preprocessing input sentence...\n",
            "Encoding input sentence...\n"
          ]
        },
        {
          "output_type": "stream",
          "name": "stderr",
          "text": [
            "\r 21%|██        | 266/1268 [02:08<16:47,  1.01s/it]"
          ]
        },
        {
          "output_type": "stream",
          "name": "stdout",
          "text": [
            "Input: Nhưng từ khi xuất bản &quot; Crazy Love &quot; Tôi đã nghe hàng trăm câu chuyện từ đàn ông và phụ nữ những người cũng đã bỏ đi , những người học được một bài học cuộc sống vô giá từ nhưng điều đã xảy ra , và những ai xây dựng lại cuộc sống -- hạnh phúc , vui vẻ-- như những nhân viên , những người vợ , người mẹ , sống cuộc sống hoàn toàn không có bạo lực , như tôi .\n",
            "Result: But after &quot; The &quot; Sense , &quot; I &apos;ve heard about hundreds of women and women who have been going to go from a very , but they were going to be a very happy , and they were , and they were not going to live in the life , and the children , like my mother , who are not like , and I was , and I was , and I &apos;m not going to lived like , and I &apos;m not , and I &apos;m not , and , and , like , and\n",
            "Inference finished! || Total inference time: 0:00:02.218876secs\n",
            "Preprocessing input sentence...\n",
            "Encoding input sentence...\n"
          ]
        },
        {
          "output_type": "stream",
          "name": "stderr",
          "text": [
            "\r 21%|██        | 267/1268 [02:08<14:07,  1.18it/s]"
          ]
        },
        {
          "output_type": "stream",
          "name": "stdout",
          "text": [
            "Input: Bởi sự thật tôi là một nạn nhân điển hình của bạo lực gia đình đã kết thúc tôi là người sống sót điển hình khỏi bạo lực gia đình .\n",
            "Result: Because I was a great , my family of family , they were the very powerful , they lived from the family .\n",
            "Inference finished! || Total inference time: 0:00:00.468310secs\n",
            "Preprocessing input sentence...\n",
            "Encoding input sentence...\n"
          ]
        },
        {
          "output_type": "stream",
          "name": "stderr",
          "text": [
            "\r 21%|██        | 268/1268 [02:09<11:48,  1.41it/s]"
          ]
        },
        {
          "output_type": "stream",
          "name": "stdout",
          "text": [
            "Input: Tôi kết hôn lại với một người đàn ông tử tế và tốt bụng , và chúng tôi có với nhau ba đứa con .\n",
            "Result: I was going to get a very good , and the good man , and we had three children .\n",
            "Inference finished! || Total inference time: 0:00:00.375827secs\n",
            "Preprocessing input sentence...\n",
            "Encoding input sentence...\n"
          ]
        },
        {
          "output_type": "stream",
          "name": "stderr",
          "text": [
            "\r 21%|██        | 269/1268 [02:09<09:53,  1.68it/s]"
          ]
        },
        {
          "output_type": "stream",
          "name": "stdout",
          "text": [
            "Input: Tôi có con chó Black Lab và tôi có chiếc Minivan .\n",
            "Result: I had a sty , and I had a sty .\n",
            "Inference finished! || Total inference time: 0:00:00.316289secs\n",
            "Preprocessing input sentence...\n",
            "Encoding input sentence...\n"
          ]
        },
        {
          "output_type": "stream",
          "name": "stderr",
          "text": [
            "\r 21%|██▏       | 270/1268 [02:10<10:32,  1.58it/s]"
          ]
        },
        {
          "output_type": "stream",
          "name": "stdout",
          "text": [
            "Input: Điều tôi không bao giờ lại có nửa , mãi mãi là một cây súng chĩa vào đầu tôi bởi ai đó nói rằng anh ta yêu tôi .\n",
            "Result: What I didn &apos;t have half , half of the , it was a very old , and it was a very first one of my head , because he said , he loved .\n",
            "Inference finished! || Total inference time: 0:00:00.717810secs\n",
            "Preprocessing input sentence...\n",
            "Encoding input sentence...\n"
          ]
        },
        {
          "output_type": "stream",
          "name": "stderr",
          "text": [
            "\r 21%|██▏       | 271/1268 [02:11<10:50,  1.53it/s]"
          ]
        },
        {
          "output_type": "stream",
          "name": "stdout",
          "text": [
            "Input: Ngay lúc này , có thể bạn đang nghĩ , &quot; Ồ , điều này thật tuyệt vời &quot; hay , &quot; Ồ , cô ấy mới ngốc làm sao &quot; nhưng tất cả thời gian này , tôi đã thật sự nói về bạn .\n",
            "Result: And at this time , you can think , &quot; Oh , this is great , or &quot; Oh , &quot; Oh , &quot; Oh , &quot; Oh , but she &apos;s really about this time .\n",
            "Inference finished! || Total inference time: 0:00:00.690531secs\n",
            "Preprocessing input sentence...\n",
            "Encoding input sentence...\n"
          ]
        },
        {
          "output_type": "stream",
          "name": "stderr",
          "text": [
            "\r 21%|██▏       | 272/1268 [02:11<11:22,  1.46it/s]"
          ]
        },
        {
          "output_type": "stream",
          "name": "stdout",
          "text": [
            "Input: Tôi chắc rằng bạn trong số những người đang nghe tôi nói lúc này là những người đang bị ngược đãi hoặc những người đã bị ngược đãi khi con nhỏ hoặc những người tự ngược đãi chính mình\n",
            "Result: I &apos;m sure you &apos;re listening to this , and the people are going to say , or the people who are going to be very small , or they were going to be very small , or they were going to be in the same time .\n",
            "Inference finished! || Total inference time: 0:00:00.752187secs\n",
            "Preprocessing input sentence...\n",
            "Encoding input sentence...\n"
          ]
        },
        {
          "output_type": "stream",
          "name": "stderr",
          "text": [
            "\r 22%|██▏       | 273/1268 [02:12<09:58,  1.66it/s]"
          ]
        },
        {
          "output_type": "stream",
          "name": "stdout",
          "text": [
            "Input: sự ngược đãi có thể ảnh hưởng đến con gái bạn , em gái của bạn , người bạn thân nhất của bạn ngay lúc này .\n",
            "Result: They &apos;ve got to get your children , your children , your friends , your friends , they &apos;re at the time .\n",
            "Inference finished! || Total inference time: 0:00:00.401610secs\n",
            "Preprocessing input sentence...\n",
            "Encoding input sentence...\n"
          ]
        },
        {
          "output_type": "stream",
          "name": "stderr",
          "text": [
            "\r 22%|██▏       | 274/1268 [02:12<08:56,  1.85it/s]"
          ]
        },
        {
          "output_type": "stream",
          "name": "stdout",
          "text": [
            "Input: Tôi có thể kết thúc câu chuyện tình yêu điên rồ của tôi bằng cách phá tan sự im lặng .\n",
            "Result: I can end my favorite story of how much , by the very amazing , they &apos;re going to be in the very cold .\n",
            "Inference finished! || Total inference time: 0:00:00.387121secs\n",
            "Preprocessing input sentence...\n",
            "Encoding input sentence...\n"
          ]
        },
        {
          "output_type": "stream",
          "name": "stderr",
          "text": [
            "\r 22%|██▏       | 275/1268 [02:13<10:03,  1.65it/s]"
          ]
        },
        {
          "output_type": "stream",
          "name": "stdout",
          "text": [
            "Input: Tôi đang đập tan sự im lặng hôm nay .\n",
            "Result: I &apos;m going to be very , very , very , very , very , I &apos;m going to be going to be very , I &apos;m going to be , I &apos;m going to be going to be .\n",
            "Inference finished! || Total inference time: 0:00:00.758317secs\n",
            "Preprocessing input sentence...\n",
            "Encoding input sentence...\n"
          ]
        },
        {
          "output_type": "stream",
          "name": "stderr",
          "text": [
            " 22%|██▏       | 277/1268 [02:13<06:18,  2.62it/s]"
          ]
        },
        {
          "output_type": "stream",
          "name": "stdout",
          "text": [
            "Input: Đây là cách tôi giúp những nạn nhân khác , và đây là yêu cầu cuối cùng của tôi\n",
            "Result: This is how I helped others , and this is my first question .\n",
            "Inference finished! || Total inference time: 0:00:00.223085secs\n",
            "Preprocessing input sentence...\n",
            "Encoding input sentence...\n",
            "Input: Hãy kể về những gì bạn được nghe ở đây .\n",
            "Result: Let &apos;s tell you here .\n",
            "Inference finished! || Total inference time: 0:00:00.115226secs\n",
            "Preprocessing input sentence...\n",
            "Encoding input sentence...\n"
          ]
        },
        {
          "output_type": "stream",
          "name": "stderr",
          "text": [
            "\r 22%|██▏       | 278/1268 [02:13<05:55,  2.79it/s]"
          ]
        },
        {
          "output_type": "stream",
          "name": "stdout",
          "text": [
            "Input: Sự ngược đãi chỉ đáng sợ trong im lặng .\n",
            "Result: They &apos;re just also , it &apos;s just also , in the wrong .\n",
            "Inference finished! || Total inference time: 0:00:00.299422secs\n",
            "Preprocessing input sentence...\n",
            "Encoding input sentence...\n"
          ]
        },
        {
          "output_type": "stream",
          "name": "stderr",
          "text": [
            " 22%|██▏       | 280/1268 [02:14<05:17,  3.11it/s]"
          ]
        },
        {
          "output_type": "stream",
          "name": "stdout",
          "text": [
            "Input: Bạn có sức mạnh để kết thúc bạo lực gia đình đơn giản bằng cách rọi vào đó một tia sáng .\n",
            "Result: You have the power to get the healthy family by this , and it &apos;s across a very , very , very , this very , very , either .\n",
            "Inference finished! || Total inference time: 0:00:00.522972secs\n",
            "Preprocessing input sentence...\n",
            "Encoding input sentence...\n",
            "Input: Chúng ta những nạn nhân cần đến tất cả mọi người .\n",
            "Result: We need to be all of people .\n",
            "Inference finished! || Total inference time: 0:00:00.107304secs\n",
            "Preprocessing input sentence...\n",
            "Encoding input sentence...\n"
          ]
        },
        {
          "output_type": "stream",
          "name": "stderr",
          "text": [
            "\r 22%|██▏       | 281/1268 [02:14<04:37,  3.56it/s]"
          ]
        },
        {
          "output_type": "stream",
          "name": "stdout",
          "text": [
            "Input: Chúng ta cần các bạn để thấu hiểu bí mật của bạo lực gia đình .\n",
            "Result: We need to understand the sty of the family of the family .\n",
            "Inference finished! || Total inference time: 0:00:00.180885secs\n",
            "Preprocessing input sentence...\n",
            "Encoding input sentence...\n"
          ]
        },
        {
          "output_type": "stream",
          "name": "stderr",
          "text": [
            "\r 22%|██▏       | 282/1268 [02:15<04:54,  3.35it/s]"
          ]
        },
        {
          "output_type": "stream",
          "name": "stdout",
          "text": [
            "Input: soi roi sự ngược đãi ánh sáng của ngày hôm nay bằng cách nói về nó với những đứa trẻ của bạn , những đồng nghiệp của bạn , bạn bè và gia đình bạn .\n",
            "Result: The very low-sted , the light of the day today talk about it with your children , your friends and your family .\n",
            "Inference finished! || Total inference time: 0:00:00.332499secs\n",
            "Preprocessing input sentence...\n",
            "Encoding input sentence...\n"
          ]
        },
        {
          "output_type": "stream",
          "name": "stderr",
          "text": [
            "\r 22%|██▏       | 283/1268 [02:15<05:12,  3.15it/s]"
          ]
        },
        {
          "output_type": "stream",
          "name": "stdout",
          "text": [
            "Input: Viết lại cuộc đời họ như nhưng người hạnh phúc , đáng yêu với tương lai rộng mở .\n",
            "Result: They &apos;re going to be like they &apos;re happy , but they &apos;re happy to be the future .\n",
            "Inference finished! || Total inference time: 0:00:00.354384secs\n",
            "Preprocessing input sentence...\n",
            "Encoding input sentence...\n"
          ]
        },
        {
          "output_type": "stream",
          "name": "stderr",
          "text": [
            "\r 22%|██▏       | 284/1268 [02:16<06:33,  2.50it/s]"
          ]
        },
        {
          "output_type": "stream",
          "name": "stdout",
          "text": [
            "Input: Nhận biết những tín hiệu sớm của bạo lực và những dối trá của lương tâm , giảm nó xuống , chỉ cho nạn nhân lối ra an toàn .\n",
            "Result: They know the same time of the stys of the sts of the stse , it &apos;s just going to be , just just just they &apos;re going to be safe .\n",
            "Inference finished! || Total inference time: 0:00:00.588025secs\n",
            "Preprocessing input sentence...\n",
            "Encoding input sentence...\n"
          ]
        },
        {
          "output_type": "stream",
          "name": "stderr",
          "text": [
            "\r 22%|██▏       | 285/1268 [02:16<06:21,  2.57it/s]"
          ]
        },
        {
          "output_type": "stream",
          "name": "stdout",
          "text": [
            "Input: Cùng nhau chúng ta có thể làm cho giường ngủ của chúng ta bàn ăn và gia đình của chúng ta trở nên những ốc đảo bình yên và an toàn\n",
            "Result: We can make our own sty , our family , our family and our family will become safe and safety and safety .\n",
            "Inference finished! || Total inference time: 0:00:00.354810secs\n",
            "Preprocessing input sentence...\n",
            "Encoding input sentence...\n",
            "Input: Cảm ơn\n",
            "Result: Thank you .\n",
            "Inference finished! || Total inference time: 0:00:00.046307secs\n",
            "Preprocessing input sentence...\n",
            "Encoding input sentence...\n"
          ]
        },
        {
          "output_type": "stream",
          "name": "stderr",
          "text": [
            " 23%|██▎       | 288/1268 [02:16<03:51,  4.23it/s]"
          ]
        },
        {
          "output_type": "stream",
          "name": "stdout",
          "text": [
            "Input: Tôi muốn nói chuyện với các bạn về một nhóm động vật rất đặc biệt\n",
            "Result: I want to talk to you about a group of group .\n",
            "Inference finished! || Total inference time: 0:00:00.146874secs\n",
            "Preprocessing input sentence...\n",
            "Encoding input sentence...\n",
            "Input: Hiện có khoảng 10,000 loài chim trên thế giới .\n",
            "Result: There are about the number of thousands of people in the world .\n",
            "Inference finished! || Total inference time: 0:00:00.166136secs\n",
            "Preprocessing input sentence...\n",
            "Encoding input sentence...\n"
          ]
        },
        {
          "output_type": "stream",
          "name": "stderr",
          "text": [
            "\r 23%|██▎       | 289/1268 [02:17<03:51,  4.23it/s]"
          ]
        },
        {
          "output_type": "stream",
          "name": "stdout",
          "text": [
            "Input: Kền kền là một trong những nhóm chim bị đe doạ nghiêm trọng nhất\n",
            "Result: The sts is one of the most of the most of the most important groups .\n",
            "Inference finished! || Total inference time: 0:00:00.230152secs\n",
            "Preprocessing input sentence...\n",
            "Encoding input sentence...\n"
          ]
        },
        {
          "output_type": "stream",
          "name": "stderr",
          "text": [
            "\r 23%|██▎       | 290/1268 [02:17<05:55,  2.75it/s]"
          ]
        },
        {
          "output_type": "stream",
          "name": "stdout",
          "text": [
            "Input: Khi bạn thấy một con kền lền như thế này , điều đầu tiên hiện ra trong đầu bạn đó là , đây là những sinh vật thật kinh tởm , xấu xí , tham ăn và chỉ nhắm đến thịt bạn , liên tưởng đến những chính trị gia nhỉ .\n",
            "Result: When you see a very , the first thing in the first thing that you &apos;re going to be , is the most of the things that are very bad , very bad , very bad , and you &apos;re just going to be very powerful .\n",
            "Inference finished! || Total inference time: 0:00:00.698887secs\n",
            "Preprocessing input sentence...\n",
            "Encoding input sentence...\n"
          ]
        },
        {
          "output_type": "stream",
          "name": "stderr",
          "text": [
            " 23%|██▎       | 292/1268 [02:18<05:01,  3.24it/s]"
          ]
        },
        {
          "output_type": "stream",
          "name": "stdout",
          "text": [
            "Input: Tôi muốn thay đổi sự nhận thức đó . Tôi muốn thay đổi những cảm giác mà bạn dành cho những chú chim này , vì chúng cần đến sự thương cảm của chúng ta . Chúng thật sự rất cần .\n",
            "Result: I want to change that . I want to change these things that you need to be able to take this , because they need to be really really really need .\n",
            "Inference finished! || Total inference time: 0:00:00.412068secs\n",
            "Preprocessing input sentence...\n",
            "Encoding input sentence...\n",
            "Input: Tôi sẽ nói cho bạn biết tại sao .\n",
            "Result: I &apos;m going to tell you why .\n",
            "Inference finished! || Total inference time: 0:00:00.129060secs\n",
            "Preprocessing input sentence...\n",
            "Encoding input sentence...\n"
          ]
        },
        {
          "output_type": "stream",
          "name": "stderr",
          "text": [
            "\r 23%|██▎       | 293/1268 [02:18<04:18,  3.77it/s]"
          ]
        },
        {
          "output_type": "stream",
          "name": "stdout",
          "text": [
            "Input: Trước tiên , tại sao chúng lại có ấn tượng xấu như vậy ?\n",
            "Result: First of all , why are they like this ?\n",
            "Inference finished! || Total inference time: 0:00:00.152826secs\n",
            "Preprocessing input sentence...\n",
            "Encoding input sentence...\n"
          ]
        },
        {
          "output_type": "stream",
          "name": "stderr",
          "text": [
            "\r 23%|██▎       | 294/1268 [02:19<08:15,  1.97it/s]"
          ]
        },
        {
          "output_type": "stream",
          "name": "stdout",
          "text": [
            "Input: Khi Charles Darwin vượt qua Thái Bình Dương năm 1832 từ tàu Beagle , ông thấy những con kền kền Thổ Nhĩ Kỳ , Ông nói , &quot; Những con chim này thật kinh tởm với cái đầu trọc đỏ chói được tạo ra để hoan hỉ trong hôi thối\n",
            "Result: When Chris was born , the U.S. In the U.S. , he saw the sty , he said , &quot; He said , &quot; The very , &quot; The very , this is actually very , very very , very , very very , very very , very very , to be very , to the styond .\n",
            "Inference finished! || Total inference time: 0:00:01.088699secs\n",
            "Preprocessing input sentence...\n",
            "Encoding input sentence...\n"
          ]
        },
        {
          "output_type": "stream",
          "name": "stderr",
          "text": [
            "\r 23%|██▎       | 295/1268 [02:19<07:14,  2.24it/s]"
          ]
        },
        {
          "output_type": "stream",
          "name": "stdout",
          "text": [
            "Input: Bạn không thể nào bị sỉ nhục tồi tệ hơn thế , và đó là những lời từ Charles Darwin .\n",
            "Result: You can &apos;t have any bad thing , and that &apos;s the reason from Charles Darwin .\n",
            "Inference finished! || Total inference time: 0:00:00.290828secs\n",
            "Preprocessing input sentence...\n",
            "Encoding input sentence...\n"
          ]
        },
        {
          "output_type": "stream",
          "name": "stderr",
          "text": [
            "\r 23%|██▎       | 296/1268 [02:20<06:54,  2.34it/s]"
          ]
        },
        {
          "output_type": "stream",
          "name": "stdout",
          "text": [
            "Input: Bạn biết đấy , Ông đã thay đổi ý kiến khi ông quay lại , Để tôi nói cho bạn biết tại sao .\n",
            "Result: You know , he &apos;d changed when he was going to go back to me , let me tell you why .\n",
            "Inference finished! || Total inference time: 0:00:00.373737secs\n",
            "Preprocessing input sentence...\n",
            "Encoding input sentence...\n"
          ]
        },
        {
          "output_type": "stream",
          "name": "stderr",
          "text": [
            "\r 23%|██▎       | 297/1268 [02:21<09:41,  1.67it/s]"
          ]
        },
        {
          "output_type": "stream",
          "name": "stdout",
          "text": [
            "Input: Chúng cũng đã bị liên kết với Disney-- bị nhân cách hoá thành những nhân vật đần độn , ngố , ngu ngốc .\n",
            "Result: They &apos;re also going to be with the sts -- they &apos;re going to be , they &apos;re going to be , very , especially , especially , especially , especially .\n",
            "Inference finished! || Total inference time: 0:00:00.997143secs\n",
            "Preprocessing input sentence...\n",
            "Encoding input sentence...\n"
          ]
        },
        {
          "output_type": "stream",
          "name": "stderr",
          "text": [
            "\r 24%|██▎       | 298/1268 [02:22<10:33,  1.53it/s]"
          ]
        },
        {
          "output_type": "stream",
          "name": "stdout",
          "text": [
            "Input: Gần đây hơn , nếu bạn đang theo dõi tin tức ở Kenya ---- đây là những thuộc tính đặc trưng mà gắn kết với những quân cảnh Keya . Nhưng tôi muốn phản kháng lại điều đó\n",
            "Result: And more than , if you &apos;re looking at the middle of the University -- this is the sts that they &apos;re going to be very , but I wanted to go back to that .\n",
            "Inference finished! || Total inference time: 0:00:00.771903secs\n",
            "Preprocessing input sentence...\n",
            "Encoding input sentence...\n"
          ]
        },
        {
          "output_type": "stream",
          "name": "stderr",
          "text": [
            "\r 24%|██▎       | 299/1268 [02:22<08:27,  1.91it/s]"
          ]
        },
        {
          "output_type": "stream",
          "name": "stdout",
          "text": [
            "Input: Tôi muốn phản kháng lại vì bạn biết sao không ?\n",
            "Result: I want to make it , because you know ?\n",
            "Inference finished! || Total inference time: 0:00:00.212380secs\n",
            "Preprocessing input sentence...\n",
            "Encoding input sentence...\n"
          ]
        },
        {
          "output_type": "stream",
          "name": "stderr",
          "text": [
            "\r 24%|██▎       | 300/1268 [02:22<07:10,  2.25it/s]"
          ]
        },
        {
          "output_type": "stream",
          "name": "stdout",
          "text": [
            "Input: vì quân cảnh không giữ cho môi trường trong sạch .\n",
            "Result: Because they don &apos;t eat the environment for the environment .\n",
            "Inference finished! || Total inference time: 0:00:00.250657secs\n",
            "Preprocessing input sentence...\n",
            "Encoding input sentence...\n"
          ]
        },
        {
          "output_type": "stream",
          "name": "stderr",
          "text": [
            "\r 24%|██▎       | 301/1268 [02:22<06:50,  2.35it/s]"
          ]
        },
        {
          "output_type": "stream",
          "name": "stdout",
          "text": [
            "Input: Quân cảnh không giúp ngăn chặn sự lây lan của bệnh tật .\n",
            "Result: They don &apos;t help the stys the stys of the disease .\n",
            "Inference finished! || Total inference time: 0:00:00.369276secs\n",
            "Preprocessing input sentence...\n",
            "Encoding input sentence...\n"
          ]
        },
        {
          "output_type": "stream",
          "name": "stderr",
          "text": [
            " 24%|██▍       | 303/1268 [02:23<05:15,  3.06it/s]"
          ]
        },
        {
          "output_type": "stream",
          "name": "stdout",
          "text": [
            "Input: Họ hầu như không thể chế độ một vợ-một chồng .\n",
            "Result: They were most of they can &apos;t have a wife-year-old .\n",
            "Inference finished! || Total inference time: 0:00:00.310921secs\n",
            "Preprocessing input sentence...\n",
            "Encoding input sentence...\n",
            "Input: Họ còn lâu mới bị tuyệt chủng .\n",
            "Result: They &apos;re a long time .\n",
            "Inference finished! || Total inference time: 0:00:00.156915secs\n",
            "Preprocessing input sentence...\n",
            "Encoding input sentence...\n"
          ]
        },
        {
          "output_type": "stream",
          "name": "stderr",
          "text": [
            "\r 24%|██▍       | 304/1268 [02:23<04:55,  3.26it/s]"
          ]
        },
        {
          "output_type": "stream",
          "name": "stdout",
          "text": [
            "Input: Và , điều mà tôi thích nhất là , những con kền kền trông được hơn nhiều\n",
            "Result: And , what I love is , the things that are more likely .\n",
            "Inference finished! || Total inference time: 0:00:00.249063secs\n",
            "Preprocessing input sentence...\n",
            "Encoding input sentence...\n"
          ]
        },
        {
          "output_type": "stream",
          "name": "stderr",
          "text": [
            "\r 24%|██▍       | 305/1268 [02:23<04:46,  3.37it/s]"
          ]
        },
        {
          "output_type": "stream",
          "name": "stdout",
          "text": [
            "Input: Có hai loại kền kền trên hành tinh này .\n",
            "Result: There are two kinds of this , this is going on .\n",
            "Inference finished! || Total inference time: 0:00:00.265934secs\n",
            "Preprocessing input sentence...\n",
            "Encoding input sentence...\n"
          ]
        },
        {
          "output_type": "stream",
          "name": "stderr",
          "text": [
            "\r 24%|██▍       | 306/1268 [02:25<09:03,  1.77it/s]"
          ]
        },
        {
          "output_type": "stream",
          "name": "stdout",
          "text": [
            "Input: Những loại Kền kền Tân Thế Giới được tìm thấy chủ yếu tại Mỹ , giống như loài condor và caracaras tiếp đó kền kền Cựu Thế Giới , nơi mà có khoảng 16 loài . Trong số 16 loài này thì có 11 loài đối mặt với nguy cơ tuyệt chủng cao .\n",
            "Result: They &apos;re going to find the United States in the United States , like the number of species , like the S.S. , where they have about the number of two , the number of this is a greatest , the number of the very big , in the middle of the middle of the middle .\n",
            "Inference finished! || Total inference time: 0:00:01.177858secs\n",
            "Preprocessing input sentence...\n",
            "Encoding input sentence...\n"
          ]
        },
        {
          "output_type": "stream",
          "name": "stderr",
          "text": [
            "\r 24%|██▍       | 307/1268 [02:26<10:45,  1.49it/s]"
          ]
        },
        {
          "output_type": "stream",
          "name": "stdout",
          "text": [
            "Input: Vậy , tại sao kền kền lại quan trọng ? Trước hết , chúng cung cấp những dịch vụ sinh thái thiết yếu . Chúng dọn dẹp .\n",
            "Result: So , why are they important ? Because they &apos;re going to be they &apos;re going to be also , they &apos;re going to be going to be , they &apos;re going to be , they &apos;re going to be , they &apos;re going to be .\n",
            "Inference finished! || Total inference time: 0:00:00.915089secs\n",
            "Preprocessing input sentence...\n",
            "Encoding input sentence...\n"
          ]
        },
        {
          "output_type": "stream",
          "name": "stderr",
          "text": [
            "\r 24%|██▍       | 308/1268 [02:26<09:04,  1.76it/s]"
          ]
        },
        {
          "output_type": "stream",
          "name": "stdout",
          "text": [
            "Input: Chúng thật sự là những gã gom rác tự nhiên .\n",
            "Result: They &apos;re really , they &apos;re going to get the stysty .\n",
            "Inference finished! || Total inference time: 0:00:00.315896secs\n",
            "Preprocessing input sentence...\n",
            "Encoding input sentence...\n"
          ]
        },
        {
          "output_type": "stream",
          "name": "stderr",
          "text": [
            "\r 24%|██▍       | 309/1268 [02:26<07:38,  2.09it/s]"
          ]
        },
        {
          "output_type": "stream",
          "name": "stdout",
          "text": [
            "Input: Chúng dọn sạch những xác chết đến tận xương .\n",
            "Result: They &apos;re going to get the sty &apos;re going to die .\n",
            "Inference finished! || Total inference time: 0:00:00.264830secs\n",
            "Preprocessing input sentence...\n",
            "Encoding input sentence...\n"
          ]
        },
        {
          "output_type": "stream",
          "name": "stderr",
          "text": [
            "\r 24%|██▍       | 310/1268 [02:27<08:08,  1.96it/s]"
          ]
        },
        {
          "output_type": "stream",
          "name": "stdout",
          "text": [
            "Input: Chúng giúp tiêu diệt vi khuẩn . Chúng giúp hấp thụ bệnh than mà đã có thể lan rộng và gây ra những mất mát to lớn cho ngành chăn nuôi gia súc và gây bệnh cho những loài vật khác\n",
            "Result: They help them protected them . They help they can make the power of the largest and the largest , they &apos;ve been going to be recing the other species and other species .\n",
            "Inference finished! || Total inference time: 0:00:00.578133secs\n",
            "Preprocessing input sentence...\n",
            "Encoding input sentence...\n"
          ]
        },
        {
          "output_type": "stream",
          "name": "stderr",
          "text": [
            " 25%|██▍       | 312/1268 [02:28<07:20,  2.17it/s]"
          ]
        },
        {
          "output_type": "stream",
          "name": "stdout",
          "text": [
            "Input: những nghiên cứu gần nhất đã cho thấy tại những khu vực mà không có kền kền xác chết cần khoảng thời gian gấp 3 đến 4 lần để phân huỷ , và hệ quả to lớn từ việc này là sự lây lan của bệnh tật .\n",
            "Result: The first study shows that the areas are not going to be going to be very , very long-dimensional , and they are the largest , and the big , and they are this very largely , this is the very largely , this is the very large .\n",
            "Inference finished! || Total inference time: 0:00:00.783125secs\n",
            "Preprocessing input sentence...\n",
            "Encoding input sentence...\n",
            "Input: Kền kền cũng có một lịch sử hoành tráng về tầm quan trọng của chúng .\n",
            "Result: They have a very important history of them .\n",
            "Inference finished! || Total inference time: 0:00:00.144538secs\n",
            "Preprocessing input sentence...\n",
            "Encoding input sentence...\n"
          ]
        },
        {
          "output_type": "stream",
          "name": "stderr",
          "text": [
            "\r 25%|██▍       | 313/1268 [02:28<05:53,  2.70it/s]"
          ]
        },
        {
          "output_type": "stream",
          "name": "stdout",
          "text": [
            "Input: Chúng đã được kết liên với nền văn hoá Ai Cập cổ đại\n",
            "Result: They were made with the culture of the U.S.\n",
            "Inference finished! || Total inference time: 0:00:00.154008secs\n",
            "Preprocessing input sentence...\n",
            "Encoding input sentence...\n"
          ]
        },
        {
          "output_type": "stream",
          "name": "stderr",
          "text": [
            "\r 25%|██▍       | 314/1268 [02:29<08:32,  1.86it/s]"
          ]
        },
        {
          "output_type": "stream",
          "name": "stdout",
          "text": [
            "Input: Nekhbet là biểu tượng của người bảo vệ và tình mẹ , và cùng với rắn hổ mang , chúng biểu tượng hoá cho sự hợp nhất giữa Miền Ngược &amp; amp ; Miền Xuôi của Ai cập .\n",
            "Result: They &apos;re the sty of the love of the mother and they &apos;re going to be , and with the most ststic , the most of the most of the most of the most of the most of the Chinese &apos;s &apos;s &apos;s &apos;s &apos;s &#93; &#91; &#93; &quot;\n",
            "Inference finished! || Total inference time: 0:00:00.920618secs\n",
            "Preprocessing input sentence...\n",
            "Encoding input sentence...\n"
          ]
        },
        {
          "output_type": "stream",
          "name": "stderr",
          "text": [
            "\r 25%|██▍       | 315/1268 [02:30<10:19,  1.54it/s]"
          ]
        },
        {
          "output_type": "stream",
          "name": "stdout",
          "text": [
            "Input: Trong thần thoại Hindu , Jatayu là thần kền kền , Ông đã mạo hiểm mạng sống để cứu nữ thần Sita từ tay quỷ 10 đầu Ravana .\n",
            "Result: In the &quot; Sind , the sty , the stst , the stse , the stse , the styd , the styse , the sty &apos;re going to live in the next 10 , the next 10 , the next 10 .\n",
            "Inference finished! || Total inference time: 0:00:00.904953secs\n",
            "Preprocessing input sentence...\n",
            "Encoding input sentence...\n"
          ]
        },
        {
          "output_type": "stream",
          "name": "stderr",
          "text": [
            " 25%|██▌       | 317/1268 [02:31<08:09,  1.94it/s]"
          ]
        },
        {
          "output_type": "stream",
          "name": "stdout",
          "text": [
            "Input: Trong nền văn hoá Tibet , họ thực hiện thiên táng rất quan trọng . Tại những nơi như ở Tibet , chẳng có chỗ để chôn người chết , hoặc chẳng có củi để thiêu họ , vậy nên những con kền kền cung cấp một hệ thống sử lí chất thải tự nhiên .\n",
            "Result: In the culture , they actually do this very important , they &apos;re important , they have nowhere in the United States , or not , or they &apos;re not going to be able to get a system of a system .\n",
            "Inference finished! || Total inference time: 0:00:00.695984secs\n",
            "Preprocessing input sentence...\n",
            "Encoding input sentence...\n",
            "Input: Vậy chú kền kền đang bị sao ?\n",
            "Result: So what &apos;s going to be going on ?\n",
            "Inference finished! || Total inference time: 0:00:00.156370secs\n",
            "Preprocessing input sentence...\n",
            "Encoding input sentence...\n"
          ]
        },
        {
          "output_type": "stream",
          "name": "stderr",
          "text": [
            "\r 25%|██▌       | 318/1268 [02:31<08:04,  1.96it/s]"
          ]
        },
        {
          "output_type": "stream",
          "name": "stdout",
          "text": [
            "Input: Chúng ta có 8 loài kền kền xuất hiện tại Kenya , trong đó có 6 loài bị đe doạ với nguy cơ tuyệt chủng cao .\n",
            "Result: We have six-sts , in Kenya , in there there are six of the greatest , which is the greatest , the greatest , the greatest stya .\n",
            "Inference finished! || Total inference time: 0:00:00.488522secs\n",
            "Preprocessing input sentence...\n",
            "Encoding input sentence...\n"
          ]
        },
        {
          "output_type": "stream",
          "name": "stderr",
          "text": [
            "\r 25%|██▌       | 319/1268 [02:32<10:15,  1.54it/s]"
          ]
        },
        {
          "output_type": "stream",
          "name": "stdout",
          "text": [
            "Input: Lí do là chúng đang bị đầu độc , chúng bị đầu độc vì có những sự tranh giành giữa con người-và thế giới hoang dã . Những cộng đồng mục đồng đang sử dụng chất độc này để nhằm vào các con vật săn mồi nhưng thay vì vậy , những con kền kền lại là nạn nhân cho này .\n",
            "Result: The reason is they are being being being being born , because they were born in the world and the worlds are using this , but they are using , but in the very , but in the very , for the very , but for the very , for the very , for the very , for the very , for they .\n",
            "Inference finished! || Total inference time: 0:00:00.965702secs\n",
            "Preprocessing input sentence...\n",
            "Encoding input sentence...\n"
          ]
        },
        {
          "output_type": "stream",
          "name": "stderr",
          "text": [
            "\r 25%|██▌       | 320/1268 [02:33<13:28,  1.17it/s]"
          ]
        },
        {
          "output_type": "stream",
          "name": "stdout",
          "text": [
            "Input: Tại Nam Á , những nước như Ấn Độ và Pakistan , 4 loài kền kền được ghi danh trong danh sách những có nguy cơ cực cao điều này có nghĩa là chúng chỉ còn ít hơn 10 hoặc 15 năm để chạm đến mức tuyệt chủng và lí do đó là bởi vì chúng bị biến thành con mồi vì ăn phải gia súc đã được chữa trị bằng thuốc giảm đau như Diclofenac .\n",
            "Result: In the South Africa , the waters like India and India , four-sts , they are going to be also more powerful than 10 years , or less than 10 years or less than they were going to because they were , because they were , because they were going to be , because they were sted by the sted by the sted by the sted by the sts of the , as they were stst .\n",
            "Inference finished! || Total inference time: 0:00:01.323523secs\n",
            "Preprocessing input sentence...\n",
            "Encoding input sentence...\n"
          ]
        },
        {
          "output_type": "stream",
          "name": "stderr",
          "text": [
            "\r 25%|██▌       | 321/1268 [02:34<10:48,  1.46it/s]"
          ]
        },
        {
          "output_type": "stream",
          "name": "stdout",
          "text": [
            "Input: Thuốc này đã bị cấm sử dụng trong ngành thú y tại Ấn Độ Chúng đã minh chứng rằng\n",
            "Result: This is this , this is , they &apos;re used in India in India .\n",
            "Inference finished! || Total inference time: 0:00:00.284627secs\n",
            "Preprocessing input sentence...\n",
            "Encoding input sentence...\n"
          ]
        },
        {
          "output_type": "stream",
          "name": "stderr",
          "text": [
            "\r 25%|██▌       | 322/1268 [02:34<11:15,  1.40it/s]"
          ]
        },
        {
          "output_type": "stream",
          "name": "stdout",
          "text": [
            "Input: Vì không có kền kền nên mới có sự tràn lan về số lượng chó hoang tại những khu vực chứa rác thải xác động vật Khi bạn có chó hoang , bạn có một quả bom hẹn giờ khổng lồ về bệnh dại . Số ca mắc bệnh dại đã tăng rất nhiều tại Ấn Độ .\n",
            "Result: Because there are no new , the new series of the series of the stys of the stys of the stys , when you have a very , you have a very high-old , very much very much very much in India .\n",
            "Inference finished! || Total inference time: 0:00:00.778214secs\n",
            "Preprocessing input sentence...\n",
            "Encoding input sentence...\n"
          ]
        },
        {
          "output_type": "stream",
          "name": "stderr",
          "text": [
            "\r 25%|██▌       | 323/1268 [02:35<12:36,  1.25it/s]"
          ]
        },
        {
          "output_type": "stream",
          "name": "stdout",
          "text": [
            "Input: Kenya sẽ có một cánh đồng quạt gió lớn nhất tại Châu Phi với 353 động cơ sẽ được lắp tại Lake Turkana\n",
            "Result: There &apos;s a large , there &apos;s a large , the most largesty in Africa , they &apos;re going to be going to be going to be going to be going to be going to be going to be across the U.S.\n",
            "Inference finished! || Total inference time: 0:00:00.993905secs\n",
            "Preprocessing input sentence...\n",
            "Encoding input sentence...\n"
          ]
        },
        {
          "output_type": "stream",
          "name": "stderr",
          "text": [
            "\r 26%|██▌       | 324/1268 [02:36<12:14,  1.29it/s]"
          ]
        },
        {
          "output_type": "stream",
          "name": "stdout",
          "text": [
            "Input: Tôi không phản đối năng lượng gió , nhưng chúng ta cần hợp tác với chính phủ , vì động cơ gió khiến những con chim thành thế này . Chúng cắt làm đôi .\n",
            "Result: I don &apos;t have the energy , but we need to make the government , because the governments are going to make these sts . They &apos;re going to do .\n",
            "Inference finished! || Total inference time: 0:00:00.716907secs\n",
            "Preprocessing input sentence...\n",
            "Encoding input sentence...\n"
          ]
        },
        {
          "output_type": "stream",
          "name": "stderr",
          "text": [
            "\r 26%|██▌       | 325/1268 [02:36<10:00,  1.57it/s]"
          ]
        },
        {
          "output_type": "stream",
          "name": "stdout",
          "text": [
            "Input: Chúng là máy nghiền những chú chim .\n",
            "Result: They are they of they &apos;re going to be they .\n",
            "Inference finished! || Total inference time: 0:00:00.295596secs\n",
            "Preprocessing input sentence...\n",
            "Encoding input sentence...\n"
          ]
        },
        {
          "output_type": "stream",
          "name": "stderr",
          "text": [
            "\r 26%|██▌       | 326/1268 [02:37<11:08,  1.41it/s]"
          ]
        },
        {
          "output_type": "stream",
          "name": "stdout",
          "text": [
            "Input: Tại Tây Phi có một ngành buôn bán kền kền chết thật kinh khủng để phục vụ cho thị trường ma thuật và bùa ngải .\n",
            "Result: In Africa , there &apos;s a very , a very very , very , very , very , very , very , very sty-sticest , for the market .\n",
            "Inference finished! || Total inference time: 0:00:00.873144secs\n",
            "Preprocessing input sentence...\n",
            "Encoding input sentence...\n"
          ]
        },
        {
          "output_type": "stream",
          "name": "stderr",
          "text": [
            "\r 26%|██▌       | 327/1268 [02:38<11:07,  1.41it/s]"
          ]
        },
        {
          "output_type": "stream",
          "name": "stdout",
          "text": [
            "Input: Vậy chúng tôi đã làm được gì ? Chúng tôi đang tiến hành nghiên cứu về những chú chim này . Chúng tôi đang gắn máy phát tín hiệu vào chúng\n",
            "Result: So what we did ? We &apos;re doing this project , we &apos;re going to be this machine . We &apos;re going to be going to be recing them .\n",
            "Inference finished! || Total inference time: 0:00:00.697988secs\n",
            "Preprocessing input sentence...\n",
            "Encoding input sentence...\n"
          ]
        },
        {
          "output_type": "stream",
          "name": "stderr",
          "text": [
            "\r 26%|██▌       | 328/1268 [02:38<09:19,  1.68it/s]"
          ]
        },
        {
          "output_type": "stream",
          "name": "stdout",
          "text": [
            "Input: Chúng tôi đang cố gắng xác định sinh thái học cơ bản của chúng , và theo dấu nơi chúng đến .\n",
            "Result: We &apos;re trying to try their own , and in the same place .\n",
            "Inference finished! || Total inference time: 0:00:00.317698secs\n",
            "Preprocessing input sentence...\n",
            "Encoding input sentence...\n"
          ]
        },
        {
          "output_type": "stream",
          "name": "stderr",
          "text": [
            "\r 26%|██▌       | 329/1268 [02:39<09:31,  1.64it/s]"
          ]
        },
        {
          "output_type": "stream",
          "name": "stdout",
          "text": [
            "Input: Chúng ta có thể thấy chúng di chuyển đến rất nhiều quốc gia khác nhau , vậy nên nếu bạn chỉ chú trọng đến những vấn đề trên quy mô khu vực , điều này sẽ chẳng giúp ích gì cho bạn cả .\n",
            "Result: We can see them , so we can move a lot of different countries , so if you just just just just just just just to the structure , this is not going to help you .\n",
            "Inference finished! || Total inference time: 0:00:00.632169secs\n",
            "Preprocessing input sentence...\n",
            "Encoding input sentence...\n"
          ]
        },
        {
          "output_type": "stream",
          "name": "stderr",
          "text": [
            " 26%|██▌       | 331/1268 [02:39<06:09,  2.54it/s]"
          ]
        },
        {
          "output_type": "stream",
          "name": "stdout",
          "text": [
            "Input: Chúng ta cần hợp tác với chính phủ trên mức độ vùng miền .\n",
            "Result: We need to work with the government in the middle of the area .\n",
            "Inference finished! || Total inference time: 0:00:00.243804secs\n",
            "Preprocessing input sentence...\n",
            "Encoding input sentence...\n",
            "Input: Chúng tôi đang hợp tác với những cộng đồng địa phương\n",
            "Result: We are working with the community .\n",
            "Inference finished! || Total inference time: 0:00:00.130574secs\n",
            "Preprocessing input sentence...\n",
            "Encoding input sentence...\n"
          ]
        },
        {
          "output_type": "stream",
          "name": "stderr",
          "text": [
            "\r 26%|██▌       | 332/1268 [02:40<07:46,  2.01it/s]"
          ]
        },
        {
          "output_type": "stream",
          "name": "stdout",
          "text": [
            "Input: Chúng tôi đang nói với họ về việc quý trọng những con kền kền sự cần thiết nội tại cho việc trân trọng những sinh vật tuyệt vời này và những lợi ích mà chúng mang lại .\n",
            "Result: We &apos;re talking about them , they &apos;re talking about the ststs of the ststy , the greatest things that are going to be going to be going to be very good for them .\n",
            "Inference finished! || Total inference time: 0:00:00.729824secs\n",
            "Preprocessing input sentence...\n",
            "Encoding input sentence...\n"
          ]
        },
        {
          "output_type": "stream",
          "name": "stderr",
          "text": [
            "\r 26%|██▋       | 333/1268 [02:41<07:59,  1.95it/s]"
          ]
        },
        {
          "output_type": "stream",
          "name": "stdout",
          "text": [
            "Input: Bạn làm thế nào để giúp ? bạn có thể trở thành một người năng động , tạo ra tiếng nói . Bạn có thể viết thư cho chính phủ của mình và nói với họ rằng chúng ta cần chú trọng vào những sinh vật bị hiểu lầm này . Tình nguyện bớt chút thời gian truyền đi thông điệp . Loan truyền thông điệp .\n",
            "Result: How do you help ? You can be a very , created a language , you can write our governments and say that they need to be aware of these things are going to be in the same time .\n",
            "Inference finished! || Total inference time: 0:00:00.540840secs\n",
            "Preprocessing input sentence...\n",
            "Encoding input sentence...\n"
          ]
        },
        {
          "output_type": "stream",
          "name": "stderr",
          "text": [
            "\r 26%|██▋       | 334/1268 [02:41<08:15,  1.88it/s]"
          ]
        },
        {
          "output_type": "stream",
          "name": "stdout",
          "text": [
            "Input: Khi bạn bước ra khỏi căn phòng này , bạn sẽ có được thông tin về những chú chim kền kền , nhưng hãy nói cho gia đình của bạn , con cái , hàng xóm về kền kền\n",
            "Result: When you go out of this room , you &apos;ll have information about the ststs , but let &apos;s say , your family , your family , the sts .\n",
            "Inference finished! || Total inference time: 0:00:00.565077secs\n",
            "Preprocessing input sentence...\n",
            "Encoding input sentence...\n"
          ]
        },
        {
          "output_type": "stream",
          "name": "stderr",
          "text": [
            "\r 26%|██▋       | 335/1268 [02:42<08:29,  1.83it/s]"
          ]
        },
        {
          "output_type": "stream",
          "name": "stdout",
          "text": [
            "Input: Chúng rất duyên dáng . Charles Darwin đã nói Ông đổi ý kiến vì ông đã nhìn thấy chúng bay thư thái như không cần đến chút sức lực trên bầu trời .\n",
            "Result: They &apos;re very , they &apos;ve gotten , and he said , because he &apos;d see the idea that they &apos;re not going to see the power of the planet .\n",
            "Inference finished! || Total inference time: 0:00:00.577152secs\n",
            "Preprocessing input sentence...\n",
            "Encoding input sentence...\n"
          ]
        },
        {
          "output_type": "stream",
          "name": "stderr",
          "text": [
            "\r 26%|██▋       | 336/1268 [02:42<07:17,  2.13it/s]"
          ]
        },
        {
          "output_type": "stream",
          "name": "stdout",
          "text": [
            "Input: Kenya , thế giới này , sẽ nghèo hơn rất nhiều nếu như không có những loài vật tuyệt vời này .\n",
            "Result: In Kenya , the world will be much more than they don &apos;t have these kinds of species .\n",
            "Inference finished! || Total inference time: 0:00:00.284562secs\n",
            "Preprocessing input sentence...\n",
            "Encoding input sentence...\n",
            "Input: Cám ơn rất nhiều .\n",
            "Result: Thank you very much .\n",
            "Inference finished! || Total inference time: 0:00:00.086196secs\n",
            "Preprocessing input sentence...\n",
            "Encoding input sentence...\n"
          ]
        },
        {
          "output_type": "stream",
          "name": "stderr",
          "text": [
            "\r 27%|██▋       | 338/1268 [02:43<05:36,  2.77it/s]"
          ]
        },
        {
          "output_type": "stream",
          "name": "stdout",
          "text": [
            "Input: Khi tôi 11 tuổi , Tôi nhớ một buổi sáng tôi thức dậy khi nghe tiếng hân hoan trong căn nhà của tôi .\n",
            "Result: When I was 18 years ago , I remember a very , I remembered my father &apos;s going to hear my home in my house .\n",
            "Inference finished! || Total inference time: 0:00:00.372623secs\n",
            "Preprocessing input sentence...\n",
            "Encoding input sentence...\n"
          ]
        },
        {
          "output_type": "stream",
          "name": "stderr",
          "text": [
            "\r 27%|██▋       | 339/1268 [02:43<05:41,  2.72it/s]"
          ]
        },
        {
          "output_type": "stream",
          "name": "stdout",
          "text": [
            "Input: Bố tôi lúc ấy đang nghe tin tức BBC trên chiếc radio màu xám nhỏ của ông ấy\n",
            "Result: My father was listening to the SS.S. , the small , his small , his small , his little seh .\n",
            "Inference finished! || Total inference time: 0:00:00.378245secs\n",
            "Preprocessing input sentence...\n",
            "Encoding input sentence...\n"
          ]
        },
        {
          "output_type": "stream",
          "name": "stderr",
          "text": [
            "\r 27%|██▋       | 340/1268 [02:43<06:04,  2.55it/s]"
          ]
        },
        {
          "output_type": "stream",
          "name": "stdout",
          "text": [
            "Input: Ông ấy nở một nụ cười rất lớn , điều này rất bất thường vì tin tức thường làm ông ấy buồn rầu hơn .\n",
            "Result: He was very very , very big , very much , very important , because he was very much more important than he was more than he was more than .\n",
            "Inference finished! || Total inference time: 0:00:00.459507secs\n",
            "Preprocessing input sentence...\n",
            "Encoding input sentence...\n"
          ]
        },
        {
          "output_type": "stream",
          "name": "stderr",
          "text": [
            "\r 27%|██▋       | 341/1268 [02:44<05:24,  2.86it/s]"
          ]
        },
        {
          "output_type": "stream",
          "name": "stdout",
          "text": [
            "Input: Ông ấy la lên : &quot; Bọn Taliban đã đi rồi ! &quot;\n",
            "Result: He went on , &quot; They &apos;ve got ! &quot;\n",
            "Inference finished! || Total inference time: 0:00:00.229292secs\n",
            "Preprocessing input sentence...\n",
            "Encoding input sentence...\n"
          ]
        },
        {
          "output_type": "stream",
          "name": "stderr",
          "text": [
            "\r 27%|██▋       | 342/1268 [02:44<05:06,  3.02it/s]"
          ]
        },
        {
          "output_type": "stream",
          "name": "stdout",
          "text": [
            "Input: Lúc đó tôi không hiểu rõ nhưng tôi có thể thấy rằng bố tôi rất , rất vui mừng\n",
            "Result: And I didn &apos;t understand , but I can see that I saw very , very happy .\n",
            "Inference finished! || Total inference time: 0:00:00.277667secs\n",
            "Preprocessing input sentence...\n",
            "Encoding input sentence...\n"
          ]
        },
        {
          "output_type": "stream",
          "name": "stderr",
          "text": [
            " 27%|██▋       | 344/1268 [02:44<04:03,  3.80it/s]"
          ]
        },
        {
          "output_type": "stream",
          "name": "stdout",
          "text": [
            "Input: &quot; Bây giờ con có thể thật sự đến trường rồi &quot; Ông nói .\n",
            "Result: &quot; Now , &quot; You can really really go back to the school . &quot;\n",
            "Inference finished! || Total inference time: 0:00:00.269195secs\n",
            "Preprocessing input sentence...\n",
            "Encoding input sentence...\n",
            "Input: Một buổi sáng mà tôi không thể nào quên được .\n",
            "Result: One morning I can &apos;t forget .\n",
            "Inference finished! || Total inference time: 0:00:00.129751secs\n",
            "Preprocessing input sentence...\n",
            "Encoding input sentence...\n"
          ]
        },
        {
          "output_type": "stream",
          "name": "stderr",
          "text": [
            "\r 27%|██▋       | 345/1268 [02:44<03:21,  4.58it/s]"
          ]
        },
        {
          "output_type": "stream",
          "name": "stdout",
          "text": [
            "Input: Một ngôi trường thật sự .\n",
            "Result: One of the school is really .\n",
            "Inference finished! || Total inference time: 0:00:00.101845secs\n",
            "Preprocessing input sentence...\n",
            "Encoding input sentence...\n"
          ]
        },
        {
          "output_type": "stream",
          "name": "stderr",
          "text": [
            "\r 27%|██▋       | 346/1268 [02:45<04:10,  3.68it/s]"
          ]
        },
        {
          "output_type": "stream",
          "name": "stdout",
          "text": [
            "Input: Bạn biết không , bọn Taliban đến xâm lấn Afghanistan từ khi tôi 6 tuổi và ngăn cấm các cô gái đi học .\n",
            "Result: You know , they didn &apos;t know , they had took the Internet from India , and they were six months of the girls .\n",
            "Inference finished! || Total inference time: 0:00:00.392688secs\n",
            "Preprocessing input sentence...\n",
            "Encoding input sentence...\n"
          ]
        },
        {
          "output_type": "stream",
          "name": "stderr",
          "text": [
            " 27%|██▋       | 348/1268 [02:45<04:10,  3.67it/s]"
          ]
        },
        {
          "output_type": "stream",
          "name": "stdout",
          "text": [
            "Input: Trong 5 năm sau đó , tôi đã ăn mặc như 1 thằng con trai để đi cùng với chị tôi tới một trường bí mật vì chị tôi bị cấm ra khỏi nhà môt mình .\n",
            "Result: In the last year , I was going to be a man , and I was going to go to the man with me to a school for me because I was born from my house .\n",
            "Inference finished! || Total inference time: 0:00:00.459994secs\n",
            "Preprocessing input sentence...\n",
            "Encoding input sentence...\n",
            "Input: Đó là cách duy nhất để chúng tôi có thể đi học .\n",
            "Result: It &apos;s the only way to learn .\n",
            "Inference finished! || Total inference time: 0:00:00.132436secs\n",
            "Preprocessing input sentence...\n",
            "Encoding input sentence...\n"
          ]
        },
        {
          "output_type": "stream",
          "name": "stderr",
          "text": [
            "\r 28%|██▊       | 349/1268 [02:46<05:15,  2.91it/s]"
          ]
        },
        {
          "output_type": "stream",
          "name": "stdout",
          "text": [
            "Input: Mỗi ngày , chúng tôi đi con đường khác nhau để không bị ai nghi ngờ về điểm đến của chúng tôi .\n",
            "Result: Every day , we go to different others to be able to get anyone who &apos;s going to be going to be going to be , to have our points of our points .\n",
            "Inference finished! || Total inference time: 0:00:00.504682secs\n",
            "Preprocessing input sentence...\n",
            "Encoding input sentence...\n"
          ]
        },
        {
          "output_type": "stream",
          "name": "stderr",
          "text": [
            "\r 28%|██▊       | 350/1268 [02:46<05:43,  2.67it/s]"
          ]
        },
        {
          "output_type": "stream",
          "name": "stdout",
          "text": [
            "Input: Chúng tôi giấu sách vở trong giỏ đi chợ như thế mọi người sẽ nghĩ chúng tôi chỉ đi mua sắm .\n",
            "Result: We were going to be in the styde , like everybody would think we just to buy the very , we &apos;re going to buy .\n",
            "Inference finished! || Total inference time: 0:00:00.439927secs\n",
            "Preprocessing input sentence...\n",
            "Encoding input sentence...\n"
          ]
        },
        {
          "output_type": "stream",
          "name": "stderr",
          "text": [
            "\r 28%|██▊       | 351/1268 [02:47<05:39,  2.70it/s]"
          ]
        },
        {
          "output_type": "stream",
          "name": "stdout",
          "text": [
            "Input: Cái trường ấy trong một căn nhà , hơn 100 đứa chúng tôi chen lấn trong một phòng khách nhỏ hẹp .\n",
            "Result: What in the school in a house , more than 100 children are going to be a little bit of a little little bit of a little little bit .\n",
            "Inference finished! || Total inference time: 0:00:00.353512secs\n",
            "Preprocessing input sentence...\n",
            "Encoding input sentence...\n"
          ]
        },
        {
          "output_type": "stream",
          "name": "stderr",
          "text": [
            "\r 28%|██▊       | 352/1268 [02:47<05:26,  2.81it/s]"
          ]
        },
        {
          "output_type": "stream",
          "name": "stdout",
          "text": [
            "Input: Khá là ấm áp trong mùa đông nhưng mùa hè thì cực kì nóng .\n",
            "Result: It &apos;s a very , in the middle of the water , but they &apos;re very low .\n",
            "Inference finished! || Total inference time: 0:00:00.318367secs\n",
            "Preprocessing input sentence...\n",
            "Encoding input sentence...\n"
          ]
        },
        {
          "output_type": "stream",
          "name": "stderr",
          "text": [
            "\r 28%|██▊       | 353/1268 [02:47<05:14,  2.91it/s]"
          ]
        },
        {
          "output_type": "stream",
          "name": "stdout",
          "text": [
            "Input: Tất cả chúng tôi đều biết đang mạo hiểm tính mạng của chính mình thầy cô , học sinh và cha mẹ chúng tôi .\n",
            "Result: We all know the sty &apos;re all going to know our own , the parents and the parents .\n",
            "Inference finished! || Total inference time: 0:00:00.309330secs\n",
            "Preprocessing input sentence...\n",
            "Encoding input sentence...\n"
          ]
        },
        {
          "output_type": "stream",
          "name": "stderr",
          "text": [
            " 28%|██▊       | 355/1268 [02:48<04:31,  3.36it/s]"
          ]
        },
        {
          "output_type": "stream",
          "name": "stdout",
          "text": [
            "Input: Có một vài lần , ngôi trường đột nhiên đóng cửa khoảng một tuần vì lũ Taliban nghi ngờ .\n",
            "Result: There &apos;s a few times , the school , they &apos;re going to be a week , because they &apos;re going to be a week .\n",
            "Inference finished! || Total inference time: 0:00:00.448677secs\n",
            "Preprocessing input sentence...\n",
            "Encoding input sentence...\n",
            "Input: Chúng tôi luôn tự hỏi họ biết gì về chúng tôi .\n",
            "Result: We always ask them what we know about .\n",
            "Inference finished! || Total inference time: 0:00:00.107327secs\n",
            "Preprocessing input sentence...\n",
            "Encoding input sentence...\n"
          ]
        },
        {
          "output_type": "stream",
          "name": "stderr",
          "text": [
            " 28%|██▊       | 357/1268 [02:48<03:21,  4.52it/s]"
          ]
        },
        {
          "output_type": "stream",
          "name": "stdout",
          "text": [
            "Input: Chúng tôi có bị theo dõi không ?\n",
            "Result: We have this been going to be looking at ?\n",
            "Inference finished! || Total inference time: 0:00:00.164137secs\n",
            "Preprocessing input sentence...\n",
            "Encoding input sentence...\n",
            "Input: Họ có biết chỗ chúng tôi ở không ?\n",
            "Result: They know what we &apos;re in ?\n",
            "Inference finished! || Total inference time: 0:00:00.122827secs\n",
            "Preprocessing input sentence...\n",
            "Encoding input sentence...\n"
          ]
        },
        {
          "output_type": "stream",
          "name": "stderr",
          "text": [
            "\r 28%|██▊       | 358/1268 [02:49<03:40,  4.13it/s]"
          ]
        },
        {
          "output_type": "stream",
          "name": "stdout",
          "text": [
            "Input: Chúng tôi đã rất sợ , nhưng dù vậy , chúng tôi vẫn muốn tới trường .\n",
            "Result: We &apos;ve been very excited , but we &apos;re still wanting to school .\n",
            "Inference finished! || Total inference time: 0:00:00.282059secs\n",
            "Preprocessing input sentence...\n",
            "Encoding input sentence...\n"
          ]
        },
        {
          "output_type": "stream",
          "name": "stderr",
          "text": [
            " 28%|██▊       | 360/1268 [02:49<03:17,  4.59it/s]"
          ]
        },
        {
          "output_type": "stream",
          "name": "stdout",
          "text": [
            "Input: Tôi rất may mắn được nuôi dạy trong một gia đình rất trân trọng việc học và con gái được quý trọng .\n",
            "Result: I was lucky told that a family was very important for the children and the children are important .\n",
            "Inference finished! || Total inference time: 0:00:00.269510secs\n",
            "Preprocessing input sentence...\n",
            "Encoding input sentence...\n",
            "Input: Ông ngoại của tôi là một người thật đáng khâm phục vào thời ấy\n",
            "Result: He was a very important person in the time .\n",
            "Inference finished! || Total inference time: 0:00:00.129883secs\n",
            "Preprocessing input sentence...\n",
            "Encoding input sentence...\n"
          ]
        },
        {
          "output_type": "stream",
          "name": "stderr",
          "text": [
            " 29%|██▊       | 362/1268 [02:50<03:30,  4.30it/s]"
          ]
        },
        {
          "output_type": "stream",
          "name": "stdout",
          "text": [
            "Input: Một người hoàn toàn bị ruồng bỏ từ một tỉnh xa ở Afghanistan , ông nài nỉ để con gái ông , mẹ của tôi được đến trường , và vì vậy nên ông bị cha của ông ấy từ bỏ .\n",
            "Result: One person was very , also , from the very , in Afghanistan , he was born to my mother , and so he was born from his father .\n",
            "Inference finished! || Total inference time: 0:00:00.423714secs\n",
            "Preprocessing input sentence...\n",
            "Encoding input sentence...\n",
            "Input: Nhưng người mẹ có giáo dục của tôi trở thành giáo viên .\n",
            "Result: But my parents have to be a teacher .\n",
            "Inference finished! || Total inference time: 0:00:00.110863secs\n",
            "Preprocessing input sentence...\n",
            "Encoding input sentence...\n"
          ]
        },
        {
          "output_type": "stream",
          "name": "stderr",
          "text": [
            "\r 29%|██▊       | 363/1268 [02:50<02:55,  5.16it/s]"
          ]
        },
        {
          "output_type": "stream",
          "name": "stdout",
          "text": [
            "Input: Bà ấy đây .\n",
            "Result: She was here .\n",
            "Inference finished! || Total inference time: 0:00:00.096813secs\n",
            "Preprocessing input sentence...\n",
            "Encoding input sentence...\n"
          ]
        },
        {
          "output_type": "stream",
          "name": "stderr",
          "text": [
            " 29%|██▉       | 365/1268 [02:50<03:26,  4.37it/s]"
          ]
        },
        {
          "output_type": "stream",
          "name": "stdout",
          "text": [
            "Input: Bà nghỉ hưu 2 năm về trước để dùng nhà của chúng tôi để mở trường cho bé gái và phụ nữ trong hàng xóm .\n",
            "Result: She was two years ago to use our house to build a school and helped her children .\n",
            "Inference finished! || Total inference time: 0:00:00.347378secs\n",
            "Preprocessing input sentence...\n",
            "Encoding input sentence...\n",
            "Input: Và đây là bố của tôi ông là người đầu tiên trong gia đình của ông ấy được giáo dục .\n",
            "Result: And this is my first man in his family .\n",
            "Inference finished! || Total inference time: 0:00:00.184743secs\n",
            "Preprocessing input sentence...\n",
            "Encoding input sentence...\n"
          ]
        },
        {
          "output_type": "stream",
          "name": "stderr",
          "text": [
            "\r 29%|██▉       | 366/1268 [02:51<06:10,  2.43it/s]"
          ]
        },
        {
          "output_type": "stream",
          "name": "stdout",
          "text": [
            "Input: Không nghi ngờ rằng con cái của ông ấy sẽ được giáo dục , bao gồm con gái của ông , bất chấp Taliban , và bất chấp những hiểm nguy .\n",
            "Result: It &apos;s not going to be , he &apos;s going to be going to be going to be , by his daughter , scted , and any of the styond the very dangerous .\n",
            "Inference finished! || Total inference time: 0:00:00.824975secs\n",
            "Preprocessing input sentence...\n",
            "Encoding input sentence...\n"
          ]
        },
        {
          "output_type": "stream",
          "name": "stderr",
          "text": [
            "\r 29%|██▉       | 367/1268 [02:51<06:09,  2.44it/s]"
          ]
        },
        {
          "output_type": "stream",
          "name": "stdout",
          "text": [
            "Input: Đối với ông , con cái không được học là mối nguy hiểm lớn hơn cả .\n",
            "Result: For him , they don &apos;t learn to learn a greater than they &apos;re more than .\n",
            "Inference finished! || Total inference time: 0:00:00.399501secs\n",
            "Preprocessing input sentence...\n",
            "Encoding input sentence...\n"
          ]
        },
        {
          "output_type": "stream",
          "name": "stderr",
          "text": [
            "\r 29%|██▉       | 368/1268 [02:52<06:43,  2.23it/s]"
          ]
        },
        {
          "output_type": "stream",
          "name": "stdout",
          "text": [
            "Input: Trong những năm Taliban , tôi nhớ rằng có những lúc tôi rất tức giận về cuộc sống của chúng tôi và luôn sợ hãi và không thấy được tương lai .\n",
            "Result: In the last year , I remember that I was very excited about our life , and it was always very happy and not seeing the future .\n",
            "Inference finished! || Total inference time: 0:00:00.527896secs\n",
            "Preprocessing input sentence...\n",
            "Encoding input sentence...\n"
          ]
        },
        {
          "output_type": "stream",
          "name": "stderr",
          "text": [
            "\r 29%|██▉       | 369/1268 [02:53<07:59,  1.87it/s]"
          ]
        },
        {
          "output_type": "stream",
          "name": "stdout",
          "text": [
            "Input: Tôi rất muốn từ bỏ chuyện học , nhưng bố tôi , ông sẽ nói rằng , &quot; Nghe này con gái , con có thể mất hết mọi thứ con có trên cuộc đời này\n",
            "Result: I &apos;m very , I want to go to the school , but he said , &quot; Well , this guy would say , &quot; I can get all the life of the life .\n",
            "Inference finished! || Total inference time: 0:00:00.723550secs\n",
            "Preprocessing input sentence...\n",
            "Encoding input sentence...\n"
          ]
        },
        {
          "output_type": "stream",
          "name": "stderr",
          "text": [
            "\r 29%|██▉       | 370/1268 [02:53<07:20,  2.04it/s]"
          ]
        },
        {
          "output_type": "stream",
          "name": "stdout",
          "text": [
            "Input: Tiền của con có thể bị cướp mất . Con có thể bị buộc phải rời khỏi nhà trong thời gian chiến tranh .\n",
            "Result: The humans can be sted . You can get to be stucked from the war in the war .\n",
            "Inference finished! || Total inference time: 0:00:00.382616secs\n",
            "Preprocessing input sentence...\n",
            "Encoding input sentence...\n"
          ]
        },
        {
          "output_type": "stream",
          "name": "stderr",
          "text": [
            "\r 29%|██▉       | 371/1268 [02:54<08:52,  1.69it/s]"
          ]
        },
        {
          "output_type": "stream",
          "name": "stdout",
          "text": [
            "Input: Nhưng một thứ sẽ mãi mãi tồn tại với con là thứ trong đây , và nếu chúng ta bị bắt buộc phải bán máu để trả tiền học phì , chúng ta sẽ làm thế .\n",
            "Result: But something that &apos;s going to be in this , and if we &apos;re going to be going to be the money to get to get to the money , we &apos;re going to be going to do .\n",
            "Inference finished! || Total inference time: 0:00:00.822784secs\n",
            "Preprocessing input sentence...\n",
            "Encoding input sentence...\n"
          ]
        },
        {
          "output_type": "stream",
          "name": "stderr",
          "text": [
            "\r 29%|██▉       | 372/1268 [02:54<07:13,  2.07it/s]"
          ]
        },
        {
          "output_type": "stream",
          "name": "stdout",
          "text": [
            "Input: Vậy thì con còn muốn tiếp tục nữa không ?\n",
            "Result: So what &apos;s going to go on ?\n",
            "Inference finished! || Total inference time: 0:00:00.214283secs\n",
            "Preprocessing input sentence...\n",
            "Encoding input sentence...\n"
          ]
        },
        {
          "output_type": "stream",
          "name": "stderr",
          "text": [
            "\r 29%|██▉       | 373/1268 [02:54<06:01,  2.48it/s]"
          ]
        },
        {
          "output_type": "stream",
          "name": "stdout",
          "text": [
            "Input: Hôm nay tôi 22 tuổi .\n",
            "Result: I &apos;m going today today .\n",
            "Inference finished! || Total inference time: 0:00:00.205785secs\n",
            "Preprocessing input sentence...\n",
            "Encoding input sentence...\n"
          ]
        },
        {
          "output_type": "stream",
          "name": "stderr",
          "text": [
            "\r 29%|██▉       | 374/1268 [02:55<05:29,  2.71it/s]"
          ]
        },
        {
          "output_type": "stream",
          "name": "stdout",
          "text": [
            "Input: Tôi đã được lớn lên ở một quốc gia đã bị tiêu huỷ bởi bao thập niên chiến tranh .\n",
            "Result: I was going to be on a country in a country by the war by the war .\n",
            "Inference finished! || Total inference time: 0:00:00.278468secs\n",
            "Preprocessing input sentence...\n",
            "Encoding input sentence...\n"
          ]
        },
        {
          "output_type": "stream",
          "name": "stderr",
          "text": [
            "\r 30%|██▉       | 375/1268 [02:55<06:04,  2.45it/s]"
          ]
        },
        {
          "output_type": "stream",
          "name": "stdout",
          "text": [
            "Input: Ít hơn 6 % phụ nữ tuổi tôi được học sau trung học phổ thông , và nếu gia đình tôi không cam kết về việc học của tôi , tôi cũng trở thành một trong số họ .\n",
            "Result: In six percent of the women I learned after the oldest , and if my family was not going to be the school of my family , I was also also also a few of them .\n",
            "Inference finished! || Total inference time: 0:00:00.492510secs\n",
            "Preprocessing input sentence...\n",
            "Encoding input sentence...\n"
          ]
        },
        {
          "output_type": "stream",
          "name": "stderr",
          "text": [
            "\r 30%|██▉       | 376/1268 [02:55<05:24,  2.75it/s]"
          ]
        },
        {
          "output_type": "stream",
          "name": "stdout",
          "text": [
            "Input: Nhưng mà , tôi hãnh diện đứng đây là một sinh viên tốt nghiệp trường Cao Đẳng Middlebury .\n",
            "Result: But I &apos;m going to be a good teacher in the University of the Sindy .\n",
            "Inference finished! || Total inference time: 0:00:00.254413secs\n",
            "Preprocessing input sentence...\n",
            "Encoding input sentence...\n"
          ]
        },
        {
          "output_type": "stream",
          "name": "stderr",
          "text": [
            "\r 30%|██▉       | 377/1268 [02:56<05:55,  2.51it/s]"
          ]
        },
        {
          "output_type": "stream",
          "name": "stdout",
          "text": [
            "Input: Khi tôi trở về Afghanistan , ông ngoại tôi , người bị ruồng bỏ bởi gia đình vì ông dám cho con gái của ông đi học , là một trong những người đầu tiên chúc mừng tôi .\n",
            "Result: When I was about Afghanistan , he was , my father , who was taken up by the family because he was a mother , one of the first person who was my first guy .\n",
            "Inference finished! || Total inference time: 0:00:00.473619secs\n",
            "Preprocessing input sentence...\n",
            "Encoding input sentence...\n"
          ]
        },
        {
          "output_type": "stream",
          "name": "stderr",
          "text": [
            "\r 30%|██▉       | 378/1268 [02:56<06:09,  2.41it/s]"
          ]
        },
        {
          "output_type": "stream",
          "name": "stdout",
          "text": [
            "Input: Ông ấy không những khoe về bằng cao đẳng của tôi , mà còn về tôi là người phụ nữ đầu tiên , và tôi là người phụ nữ đầu tiên có thể chở ông ấy trên những con đường ở Kabul .\n",
            "Result: He didn &apos;t have my stya , but I was the first woman , and I was the first woman who could be able to go on the street .\n",
            "Inference finished! || Total inference time: 0:00:00.443181secs\n",
            "Preprocessing input sentence...\n",
            "Encoding input sentence...\n",
            "Input: Gia đình tôi tin tưởng tôi .\n",
            "Result: My family believed me .\n",
            "Inference finished! || Total inference time: 0:00:00.088426secs\n",
            "Preprocessing input sentence...\n",
            "Encoding input sentence...\n"
          ]
        },
        {
          "output_type": "stream",
          "name": "stderr",
          "text": [
            "\r 30%|██▉       | 380/1268 [02:57<04:25,  3.34it/s]"
          ]
        },
        {
          "output_type": "stream",
          "name": "stdout",
          "text": [
            "Input: Tôi mơ ước lớn , nhưng gia đình tôi mong ước cho tôi còn lớn hơn .\n",
            "Result: I love the big dream , but my family was more than I was more than .\n",
            "Inference finished! || Total inference time: 0:00:00.227483secs\n",
            "Preprocessing input sentence...\n",
            "Encoding input sentence...\n"
          ]
        },
        {
          "output_type": "stream",
          "name": "stderr",
          "text": [
            "\r 30%|███       | 381/1268 [02:57<04:20,  3.41it/s]"
          ]
        },
        {
          "output_type": "stream",
          "name": "stdout",
          "text": [
            "Input: Vì thế tôi là đại sứ toàn cầu cho 10x10 , đây là cuộc vận động toàn cầu để giáo dục phụ nữ .\n",
            "Result: So I was the global global E. , this is the global global education to save women .\n",
            "Inference finished! || Total inference time: 0:00:00.266859secs\n",
            "Preprocessing input sentence...\n",
            "Encoding input sentence...\n"
          ]
        },
        {
          "output_type": "stream",
          "name": "stderr",
          "text": [
            "\r 30%|███       | 382/1268 [02:57<04:56,  2.99it/s]"
          ]
        },
        {
          "output_type": "stream",
          "name": "stdout",
          "text": [
            "Input: Vì vậy tôi giúp thành lập SOLA , ngôi trường đầu tiên và hẳn là duy nhất cho con gái ở Afghanistan , một đất nước mà vẫn còn nguy hiểm cho các cô gái đến trường học\n",
            "Result: So I helped the first , the first school , and it was the only one of the children in India , a country that was still still in the school of the school .\n",
            "Inference finished! || Total inference time: 0:00:00.441861secs\n",
            "Preprocessing input sentence...\n",
            "Encoding input sentence...\n"
          ]
        },
        {
          "output_type": "stream",
          "name": "stderr",
          "text": [
            "\r 30%|███       | 383/1268 [02:58<04:38,  3.18it/s]"
          ]
        },
        {
          "output_type": "stream",
          "name": "stdout",
          "text": [
            "Input: Tôi rất phấn khởi khi thấy học sinh đến trường của tôi với kì vọng để nắm lấy cơ hội này .\n",
            "Result: I was very excited when I was found my school to get this opportunity to get this opportunity .\n",
            "Inference finished! || Total inference time: 0:00:00.254275secs\n",
            "Preprocessing input sentence...\n",
            "Encoding input sentence...\n"
          ]
        },
        {
          "output_type": "stream",
          "name": "stderr",
          "text": [
            "\r 30%|███       | 384/1268 [02:58<05:08,  2.87it/s]"
          ]
        },
        {
          "output_type": "stream",
          "name": "stdout",
          "text": [
            "Input: Và tôi thấy cha mẹ họ và bố họ như cha của tôi , ủng hộ họ , bất chấp và ngay cả khi đang gặp nhiều đối lập khó khăn .\n",
            "Result: And I saw my parents and their parents like , they &apos;re going to be , even though they &apos;re going to be much more difficult .\n",
            "Inference finished! || Total inference time: 0:00:00.427267secs\n",
            "Preprocessing input sentence...\n",
            "Encoding input sentence...\n"
          ]
        },
        {
          "output_type": "stream",
          "name": "stderr",
          "text": [
            "\r 30%|███       | 385/1268 [02:59<05:43,  2.57it/s]"
          ]
        },
        {
          "output_type": "stream",
          "name": "stdout",
          "text": [
            "Input: Như Ahmed . Đó không phải là tên thật của ông ấy , và tôi không thể lộ mặt của ông ấy được , nhưng Ahmed là cha của một học sinh của tôi .\n",
            "Result: But they &apos;re not going to be the name of his name , and I can &apos;t take his face , but they &apos;re a student of my student .\n",
            "Inference finished! || Total inference time: 0:00:00.482763secs\n",
            "Preprocessing input sentence...\n",
            "Encoding input sentence...\n"
          ]
        },
        {
          "output_type": "stream",
          "name": "stderr",
          "text": [
            "\r 30%|███       | 386/1268 [02:59<06:14,  2.36it/s]"
          ]
        },
        {
          "output_type": "stream",
          "name": "stdout",
          "text": [
            "Input: Ít hơn một tháng rồi , ông và con gái ông đang trên đường tới SOLA từ làng của họ , và họ thật sự chỉ xém bị giết chết vì một quả bom bên đường chỉ trong vài phút .\n",
            "Result: In a month , he went back to the girl and his father was on the right , and they were just just just they were just just going to kill the water and only one of the next minute .\n",
            "Inference finished! || Total inference time: 0:00:00.504374secs\n",
            "Preprocessing input sentence...\n",
            "Encoding input sentence...\n"
          ]
        },
        {
          "output_type": "stream",
          "name": "stderr",
          "text": [
            "\r 31%|███       | 387/1268 [03:00<07:13,  2.03it/s]"
          ]
        },
        {
          "output_type": "stream",
          "name": "stdout",
          "text": [
            "Input: Khi ông vừa về tới nhà , điện thoại reng , một giọng nói đe doạ ông nếu ông tiếp tục đưa con gái ông tới trường , họ sẽ thử lần nữa .\n",
            "Result: When he was just about the home , the scted , a voice that he was going to go to the school , they would go back to the school , they would go back to the school , they would go back to the next time .\n",
            "Inference finished! || Total inference time: 0:00:00.648811secs\n",
            "Preprocessing input sentence...\n",
            "Encoding input sentence...\n"
          ]
        },
        {
          "output_type": "stream",
          "name": "stderr",
          "text": [
            "\r 31%|███       | 388/1268 [03:00<08:02,  1.82it/s]"
          ]
        },
        {
          "output_type": "stream",
          "name": "stdout",
          "text": [
            "Input: Ông ấy trả lời : &quot; Nếu ngươi muốn thì giết tôi đi , nhưng tôi sẽ không huỷ hoại tương lai của con gái tôi vì những tư tưởng lạc hậu và ngược đời của các người &quot;\n",
            "Result: He said , &quot; If you want to kill me , but I &apos;m not going to die , but I &apos;m not going to be the future of the life of the life and they &apos;re going to be the &quot;\n",
            "Inference finished! || Total inference time: 0:00:00.676310secs\n",
            "Preprocessing input sentence...\n",
            "Encoding input sentence...\n"
          ]
        },
        {
          "output_type": "stream",
          "name": "stderr",
          "text": [
            " 31%|███       | 390/1268 [03:01<06:18,  2.32it/s]"
          ]
        },
        {
          "output_type": "stream",
          "name": "stdout",
          "text": [
            "Input: Tôi bây giờ đã nhận thấy về Afghanistan , và đây là thứ thường bị bỏ qua ở Tây phương , là đằng sau hầu hết mỗi người thành công chúng ta là một người cha trân trọng giá trị của con gái họ và người thấy thành công của con gái mình như là thành công của chính họ .\n",
            "Result: I &apos;ve seen about India , and this is the most important thing that is , most of the people who are also a woman who saw their own , and they see their children are like their own .\n",
            "Inference finished! || Total inference time: 0:00:00.554662secs\n",
            "Preprocessing input sentence...\n",
            "Encoding input sentence...\n",
            "Input: Đây không phải nói người mẹ không quan trọng trong thành công của chúng ta .\n",
            "Result: This is not to say the mother of our parents .\n",
            "Inference finished! || Total inference time: 0:00:00.138645secs\n",
            "Preprocessing input sentence...\n",
            "Encoding input sentence...\n"
          ]
        },
        {
          "output_type": "stream",
          "name": "stderr",
          "text": [
            "\r 31%|███       | 391/1268 [03:02<06:59,  2.09it/s]"
          ]
        },
        {
          "output_type": "stream",
          "name": "stdout",
          "text": [
            "Input: Thật ra , họ là người đầu tiên và là người thương thuyết thuyết phục cho một tương lai sáng của con gái họ , nhưng trong hoàn cảnh xã hội như Afghanistan , chúng ta cần đến sự ủng hộ của những người đàn ông .\n",
            "Result: In fact , they &apos;re first , and they &apos;re the first person who &apos;s going to be a future of the future , but in the social society , we need to be in the men .\n",
            "Inference finished! || Total inference time: 0:00:00.582697secs\n",
            "Preprocessing input sentence...\n",
            "Encoding input sentence...\n"
          ]
        },
        {
          "output_type": "stream",
          "name": "stderr",
          "text": [
            " 31%|███       | 393/1268 [03:02<05:08,  2.84it/s]"
          ]
        },
        {
          "output_type": "stream",
          "name": "stdout",
          "text": [
            "Input: Dưới Taliban , những cô gái đến trường cả hàng trăm người nhớ rằng , đó là bất hợp pháp .\n",
            "Result: They were , they were going to the school of the school , they remember , that &apos;s anymore .\n",
            "Inference finished! || Total inference time: 0:00:00.337398secs\n",
            "Preprocessing input sentence...\n",
            "Encoding input sentence...\n",
            "Input: Nhưng ngày hôm nay , hơn 3 triệu nữ sinh đang theo học ở Afghanistan\n",
            "Result: But today , three million women are in India .\n",
            "Inference finished! || Total inference time: 0:00:00.141675secs\n",
            "Preprocessing input sentence...\n",
            "Encoding input sentence...\n"
          ]
        },
        {
          "output_type": "stream",
          "name": "stderr",
          "text": [
            "\r 31%|███       | 394/1268 [03:02<04:19,  3.37it/s]"
          ]
        },
        {
          "output_type": "stream",
          "name": "stdout",
          "text": [
            "Input: Afghanistan nhìn rất khác khi nhìn từ Mỹ .\n",
            "Result: In India , we look at the United States .\n",
            "Inference finished! || Total inference time: 0:00:00.161149secs\n",
            "Preprocessing input sentence...\n",
            "Encoding input sentence...\n"
          ]
        },
        {
          "output_type": "stream",
          "name": "stderr",
          "text": [
            "\r 31%|███       | 395/1268 [03:03<04:15,  3.42it/s]"
          ]
        },
        {
          "output_type": "stream",
          "name": "stdout",
          "text": [
            "Input: Tôi thấy rằng người Mỹ thấy sự yếu ớt , dễ vỡ trong những thay đổi .\n",
            "Result: I see that the United States is very powerful , very easy to change the changes .\n",
            "Inference finished! || Total inference time: 0:00:00.274927secs\n",
            "Preprocessing input sentence...\n",
            "Encoding input sentence...\n"
          ]
        },
        {
          "output_type": "stream",
          "name": "stderr",
          "text": [
            "\r 31%|███       | 396/1268 [03:03<04:26,  3.27it/s]"
          ]
        },
        {
          "output_type": "stream",
          "name": "stdout",
          "text": [
            "Input: Tôi sợ rằng tất cả những thay đổi đó sẽ không kéo dài hơn sau khi quân đội Mỹ rút đi .\n",
            "Result: I was sure that all of these changes will not be more than the United States , after the United States .\n",
            "Inference finished! || Total inference time: 0:00:00.331638secs\n",
            "Preprocessing input sentence...\n",
            "Encoding input sentence...\n"
          ]
        },
        {
          "output_type": "stream",
          "name": "stderr",
          "text": [
            "\r 31%|███▏      | 397/1268 [03:04<06:05,  2.38it/s]"
          ]
        },
        {
          "output_type": "stream",
          "name": "stdout",
          "text": [
            "Input: Nhưng khi tôi trở về Afghanistan , khi tôi thấy học sinh trong trường của tôi và cha mẹ họ ủng hộ họ , khuyến khích họ , tôi thấy một tương lai hứa hẹn và sự thay đổi sẽ tồn tại lâu dài .\n",
            "Result: But when I was going to be about India , when I saw my school and my parents , they were going to be , they found them , also I saw a long time , a long time , a long time , and I would change the way .\n",
            "Inference finished! || Total inference time: 0:00:00.676364secs\n",
            "Preprocessing input sentence...\n",
            "Encoding input sentence...\n"
          ]
        },
        {
          "output_type": "stream",
          "name": "stderr",
          "text": [
            " 31%|███▏      | 399/1268 [03:04<04:58,  2.91it/s]"
          ]
        },
        {
          "output_type": "stream",
          "name": "stdout",
          "text": [
            "Input: Đối với tôi , Afghanistan là một đất nước của hy vọng , khả năng không giới hạn , và mỗi ngày nữ sinh trường SOLA nhắc nhở tôi về điều đó .\n",
            "Result: For me , India is a country , the power of the world , and every day , and every day , the day I &apos;m talking about that .\n",
            "Inference finished! || Total inference time: 0:00:00.447179secs\n",
            "Preprocessing input sentence...\n",
            "Encoding input sentence...\n",
            "Input: Như tôi , họ có mơ ước lớn .\n",
            "Result: But I , they have a great dream .\n",
            "Inference finished! || Total inference time: 0:00:00.136332secs\n",
            "Preprocessing input sentence...\n",
            "Encoding input sentence...\n",
            "Input: Cám ơn .\n",
            "Result: Thank you .\n",
            "Inference finished! || Total inference time: 0:00:00.051771secs\n",
            "Preprocessing input sentence...\n",
            "Encoding input sentence...\n"
          ]
        },
        {
          "output_type": "stream",
          "name": "stderr",
          "text": [
            "\r 32%|███▏      | 401/1268 [03:05<03:34,  4.04it/s]"
          ]
        },
        {
          "output_type": "stream",
          "name": "stdout",
          "text": [
            "Input: Xin chào . Đây là chiếc điện thoại di động của tôi .\n",
            "Result: Here &apos;s the phone . This is my phone .\n",
            "Inference finished! || Total inference time: 0:00:00.205264secs\n",
            "Preprocessing input sentence...\n",
            "Encoding input sentence...\n"
          ]
        },
        {
          "output_type": "stream",
          "name": "stderr",
          "text": [
            "\r 32%|███▏      | 402/1268 [03:05<04:14,  3.40it/s]"
          ]
        },
        {
          "output_type": "stream",
          "name": "stdout",
          "text": [
            "Input: Một chiếc điện thoại di động có thể thay đổi cuộc sống của bạn , và một chiếc điện thoại cũng mang lại cho bạn tự do cá nhân .\n",
            "Result: A phone , a phone can change your life , and also also give you the same reason for the reason .\n",
            "Inference finished! || Total inference time: 0:00:00.425592secs\n",
            "Preprocessing input sentence...\n",
            "Encoding input sentence...\n"
          ]
        },
        {
          "output_type": "stream",
          "name": "stderr",
          "text": [
            "\r 32%|███▏      | 403/1268 [03:05<04:13,  3.41it/s]"
          ]
        },
        {
          "output_type": "stream",
          "name": "stdout",
          "text": [
            "Input: Với một chiếc điện thoại di động , bạn có thể ghi lại hình ảnh những hành động xâm phạm nhân quyền ở Syria .\n",
            "Result: For a phone , you can imagine the images of the governments in the Chinese .\n",
            "Inference finished! || Total inference time: 0:00:00.280266secs\n",
            "Preprocessing input sentence...\n",
            "Encoding input sentence...\n"
          ]
        },
        {
          "output_type": "stream",
          "name": "stderr",
          "text": [
            "\r 32%|███▏      | 404/1268 [03:06<05:31,  2.61it/s]"
          ]
        },
        {
          "output_type": "stream",
          "name": "stdout",
          "text": [
            "Input: Với một chiếc điện thoại di động , bạn cũng có thể đăng tải một thông điệp trên Tweeter và bắt đầu tham gia một cuộc biểu tình phản đối chính phủ ở Ai Cập .\n",
            "Result: For a phone , you can also be able to get a computer on the answer and started a very , and started a very famously in the United States .\n",
            "Inference finished! || Total inference time: 0:00:00.616533secs\n",
            "Preprocessing input sentence...\n",
            "Encoding input sentence...\n"
          ]
        },
        {
          "output_type": "stream",
          "name": "stderr",
          "text": [
            "\r 32%|███▏      | 405/1268 [03:07<06:21,  2.26it/s]"
          ]
        },
        {
          "output_type": "stream",
          "name": "stdout",
          "text": [
            "Input: Và cũng với một chiếc điện thoại bạn có thể ghi âm một bài hát , đăng tải nó lên SoundCloud và trở nên nổi tiếng .\n",
            "Result: And also with a phone you can play a book , they &apos;re going to be a styde and become a very famous .\n",
            "Inference finished! || Total inference time: 0:00:00.578066secs\n",
            "Preprocessing input sentence...\n",
            "Encoding input sentence...\n"
          ]
        },
        {
          "output_type": "stream",
          "name": "stderr",
          "text": [
            "\r 32%|███▏      | 406/1268 [03:07<05:26,  2.64it/s]"
          ]
        },
        {
          "output_type": "stream",
          "name": "stdout",
          "text": [
            "Input: Tất cả những điều đó hoàn toàn có thể chỉ với chiếc điện thoại di động của bạn .\n",
            "Result: All of these things can just be just with your phones .\n",
            "Inference finished! || Total inference time: 0:00:00.211911secs\n",
            "Preprocessing input sentence...\n",
            "Encoding input sentence...\n"
          ]
        },
        {
          "output_type": "stream",
          "name": "stderr",
          "text": [
            "\r 32%|███▏      | 407/1268 [03:07<05:06,  2.81it/s]"
          ]
        },
        {
          "output_type": "stream",
          "name": "stdout",
          "text": [
            "Input: Tôi là một đứa trẻ của năm 1984 , và tôi sống ở thành phố Berlin .\n",
            "Result: I was a child , and I lived in the city of the city .\n",
            "Inference finished! || Total inference time: 0:00:00.289780secs\n",
            "Preprocessing input sentence...\n",
            "Encoding input sentence...\n"
          ]
        },
        {
          "output_type": "stream",
          "name": "stderr",
          "text": [
            "\r 32%|███▏      | 408/1268 [03:07<04:47,  2.99it/s]"
          ]
        },
        {
          "output_type": "stream",
          "name": "stdout",
          "text": [
            "Input: Hãy cùng quay lại thời điểm đó , tại thành phố này .\n",
            "Result: Let &apos;s go back to that time , in this city .\n",
            "Inference finished! || Total inference time: 0:00:00.271235secs\n",
            "Preprocessing input sentence...\n",
            "Encoding input sentence...\n"
          ]
        },
        {
          "output_type": "stream",
          "name": "stderr",
          "text": [
            "\r 32%|███▏      | 409/1268 [03:08<05:11,  2.76it/s]"
          ]
        },
        {
          "output_type": "stream",
          "name": "stdout",
          "text": [
            "Input: Bạn có thể thấy ở đây cách mà hàng ngàn người dân đứng lên và biểu tình cho sự thay đổi .\n",
            "Result: You can see here how many people go and they &apos;re going to be going to change the power of the change .\n",
            "Inference finished! || Total inference time: 0:00:00.422004secs\n",
            "Preprocessing input sentence...\n",
            "Encoding input sentence...\n"
          ]
        },
        {
          "output_type": "stream",
          "name": "stderr",
          "text": [
            " 32%|███▏      | 411/1268 [03:09<05:11,  2.75it/s]"
          ]
        },
        {
          "output_type": "stream",
          "name": "stdout",
          "text": [
            "Input: Đó là vào mùa thu năm 1989 , và hãy tưởng tượng những con người đã đứng lên và biểu tình đòi sự thay đổi đó có một chiếc điện thoại di động trong túi .\n",
            "Result: It was in the last 20 years , and let &apos;s imagine the people who were going to be going to be going to be , and styd across the phone in the car .\n",
            "Inference finished! || Total inference time: 0:00:00.696158secs\n",
            "Preprocessing input sentence...\n",
            "Encoding input sentence...\n",
            "Input: Những ai trong khán phòng có điện thoại di động ?\n",
            "Result: What are you in the audience ?\n",
            "Inference finished! || Total inference time: 0:00:00.118493secs\n",
            "Preprocessing input sentence...\n",
            "Encoding input sentence...\n"
          ]
        },
        {
          "output_type": "stream",
          "name": "stderr",
          "text": [
            "\r 32%|███▏      | 412/1268 [03:09<04:16,  3.34it/s]"
          ]
        },
        {
          "output_type": "stream",
          "name": "stdout",
          "text": [
            "Input: Hãy giơ nó lên .\n",
            "Result: Let &apos;s take it out .\n",
            "Inference finished! || Total inference time: 0:00:00.142364secs\n",
            "Preprocessing input sentence...\n",
            "Encoding input sentence...\n"
          ]
        },
        {
          "output_type": "stream",
          "name": "stderr",
          "text": [
            "\r 33%|███▎      | 413/1268 [03:09<04:36,  3.09it/s]"
          ]
        },
        {
          "output_type": "stream",
          "name": "stdout",
          "text": [
            "Input: Hãy giơ chiếc điện thoại của bạn lên , hãy giơ cao chiếc điện thoại của bạn lên !\n",
            "Result: Let &apos;s take your phones , let &apos;s take your phones your phone !\n",
            "Inference finished! || Total inference time: 0:00:00.372790secs\n",
            "Preprocessing input sentence...\n",
            "Encoding input sentence...\n"
          ]
        },
        {
          "output_type": "stream",
          "name": "stderr",
          "text": [
            " 33%|███▎      | 415/1268 [03:10<04:44,  3.00it/s]"
          ]
        },
        {
          "output_type": "stream",
          "name": "stdout",
          "text": [
            "Input: Hãy giơ cao nó lên . Một chiếc điện thoại Android , Blackberry , wow .\n",
            "Result: Let &apos;s take it out of it . A , they &apos;re going to be , they &apos;re going to go .\n",
            "Inference finished! || Total inference time: 0:00:00.559244secs\n",
            "Preprocessing input sentence...\n",
            "Encoding input sentence...\n",
            "Input: Rất nhiều . Ngày nay , phần lớn chúng ta đều có một chiếc điện thoại di động .\n",
            "Result: There are lots of time . We have a very large phone phone .\n",
            "Inference finished! || Total inference time: 0:00:00.181177secs\n",
            "Preprocessing input sentence...\n",
            "Encoding input sentence...\n"
          ]
        },
        {
          "output_type": "stream",
          "name": "stderr",
          "text": [
            " 33%|███▎      | 417/1268 [03:10<03:59,  3.55it/s]"
          ]
        },
        {
          "output_type": "stream",
          "name": "stdout",
          "text": [
            "Input: Nhưng hôm nay tôi sẽ nói về bản thân và chiếc điện thoại của tôi , và về cách mà nó đã thay đổi cuộc đời mình .\n",
            "Result: But today I &apos;m going to talk about my phone and my phone , and about how it changed my life .\n",
            "Inference finished! || Total inference time: 0:00:00.330050secs\n",
            "Preprocessing input sentence...\n",
            "Encoding input sentence...\n",
            "Input: Tôi sẽ nói về điều đó .\n",
            "Result: I &apos;m going to talk about that .\n",
            "Inference finished! || Total inference time: 0:00:00.150211secs\n",
            "Preprocessing input sentence...\n",
            "Encoding input sentence...\n"
          ]
        },
        {
          "output_type": "stream",
          "name": "stderr",
          "text": [
            " 33%|███▎      | 419/1268 [03:11<02:58,  4.75it/s]"
          ]
        },
        {
          "output_type": "stream",
          "name": "stdout",
          "text": [
            "Input: Có khoảng 35830 dãy thông tin .\n",
            "Result: There are about three of the information .\n",
            "Inference finished! || Total inference time: 0:00:00.109943secs\n",
            "Preprocessing input sentence...\n",
            "Encoding input sentence...\n",
            "Input: Những thông tin thuần sơ cấp .\n",
            "Result: The information is , they are going to be .\n",
            "Inference finished! || Total inference time: 0:00:00.154775secs\n",
            "Preprocessing input sentence...\n",
            "Encoding input sentence...\n",
            "Input: Nhưng tại sao những thông tin đó lại ở đây ?\n",
            "Result: But why are the information ?\n",
            "Inference finished! || Total inference time: 0:00:00.091098secs\n",
            "Preprocessing input sentence...\n",
            "Encoding input sentence...\n"
          ]
        },
        {
          "output_type": "stream",
          "name": "stderr",
          "text": [
            "\r 33%|███▎      | 421/1268 [03:11<02:42,  5.22it/s]"
          ]
        },
        {
          "output_type": "stream",
          "name": "stdout",
          "text": [
            "Input: Nguyên nhân là do mùa hè năm 2006 , Uỷ ban châu Âu đã đề xuất một chỉ thị chính thức .\n",
            "Result: The reason is the last year , the U.S. government has only been a global power .\n",
            "Inference finished! || Total inference time: 0:00:00.236211secs\n",
            "Preprocessing input sentence...\n",
            "Encoding input sentence...\n"
          ]
        },
        {
          "output_type": "stream",
          "name": "stderr",
          "text": [
            "\r 33%|███▎      | 422/1268 [03:11<02:52,  4.89it/s]"
          ]
        },
        {
          "output_type": "stream",
          "name": "stdout",
          "text": [
            "Input: Nó được gọi là Chỉ thị bảo lưu dữ liệu .\n",
            "Result: It &apos;s called the very , which is called the data .\n",
            "Inference finished! || Total inference time: 0:00:00.235421secs\n",
            "Preprocessing input sentence...\n",
            "Encoding input sentence...\n"
          ]
        },
        {
          "output_type": "stream",
          "name": "stderr",
          "text": [
            "\r 33%|███▎      | 423/1268 [03:12<03:55,  3.58it/s]"
          ]
        },
        {
          "output_type": "stream",
          "name": "stdout",
          "text": [
            "Input: Chỉ thị này cho biết mỗi công ty viễn thông ở châu Âu , mỗi nhà cung cấp dịch vụ Internet trên toàn lãnh thổ châu Âu , đều phải lưu trữ một lượng lớn thông tin về những người sử dụng .\n",
            "Result: It &apos;s just about every single company in Europe , every country , every country , all of the Internet , all of the largest amount of information about the number of people .\n",
            "Inference finished! || Total inference time: 0:00:00.481495secs\n",
            "Preprocessing input sentence...\n",
            "Encoding input sentence...\n"
          ]
        },
        {
          "output_type": "stream",
          "name": "stderr",
          "text": [
            " 34%|███▎      | 425/1268 [03:12<03:22,  4.16it/s]"
          ]
        },
        {
          "output_type": "stream",
          "name": "stdout",
          "text": [
            "Input: Ai là người gọi cho những ai ? Ai là người đã gửi cho ai đó email ?\n",
            "Result: Who are the people who called who ? Who who &apos;s going to send you a minute ?\n",
            "Inference finished! || Total inference time: 0:00:00.262777secs\n",
            "Preprocessing input sentence...\n",
            "Encoding input sentence...\n",
            "Input: Ai đã gửi cho ai những tin nhắn di động ?\n",
            "Result: Who had told anyone who were going to do ?\n",
            "Inference finished! || Total inference time: 0:00:00.141058secs\n",
            "Preprocessing input sentence...\n",
            "Encoding input sentence...\n"
          ]
        },
        {
          "output_type": "stream",
          "name": "stderr",
          "text": [
            "\r 34%|███▎      | 426/1268 [03:12<03:14,  4.33it/s]"
          ]
        },
        {
          "output_type": "stream",
          "name": "stdout",
          "text": [
            "Input: Và nếu bạn sử dụng điện thoại di động , thì đây chính là nơi mà vấn đề tồn tại .\n",
            "Result: And if you use the phone , this is where the problem is .\n",
            "Inference finished! || Total inference time: 0:00:00.201982secs\n",
            "Preprocessing input sentence...\n",
            "Encoding input sentence...\n"
          ]
        },
        {
          "output_type": "stream",
          "name": "stderr",
          "text": [
            "\r 34%|███▎      | 427/1268 [03:13<03:36,  3.89it/s]"
          ]
        },
        {
          "output_type": "stream",
          "name": "stdout",
          "text": [
            "Input: Tất cả những thông tin này đều được lưu trữ ít nhất trong sáu tháng , cho tới hai năm bởi nhà mạng bạn đang sử dụng hoặc nhà cung cấp dịch vụ Internet .\n",
            "Result: All of these information are all over six months , for two years , for two years , for the Internet or the Internet .\n",
            "Inference finished! || Total inference time: 0:00:00.315671secs\n",
            "Preprocessing input sentence...\n",
            "Encoding input sentence...\n"
          ]
        },
        {
          "output_type": "stream",
          "name": "stderr",
          "text": [
            "\r 34%|███▍      | 428/1268 [03:13<04:02,  3.46it/s]"
          ]
        },
        {
          "output_type": "stream",
          "name": "stdout",
          "text": [
            "Input: Và ở khắp châu Âu , người dân đã đứng lên và nói , &quot; Chúng tôi không muốn như vậy &quot; .\n",
            "Result: And in Europe , people who are going to go and say , &quot; We don &apos;t want to do that . &quot;\n",
            "Inference finished! || Total inference time: 0:00:00.358640secs\n",
            "Preprocessing input sentence...\n",
            "Encoding input sentence...\n"
          ]
        },
        {
          "output_type": "stream",
          "name": "stderr",
          "text": [
            "\r 34%|███▍      | 429/1268 [03:13<03:46,  3.71it/s]"
          ]
        },
        {
          "output_type": "stream",
          "name": "stdout",
          "text": [
            "Input: Họ nói , chúng tôi không muốn sự lưu trữ thông tin cá nhân này .\n",
            "Result: They said , we don &apos;t want to get this information .\n",
            "Inference finished! || Total inference time: 0:00:00.218018secs\n",
            "Preprocessing input sentence...\n",
            "Encoding input sentence...\n"
          ]
        },
        {
          "output_type": "stream",
          "name": "stderr",
          "text": [
            "\r 34%|███▍      | 430/1268 [03:14<04:53,  2.85it/s]"
          ]
        },
        {
          "output_type": "stream",
          "name": "stdout",
          "text": [
            "Input: Chúng tôi muốn có được sự tự chủ trong thời đại công nghệ số , và chúng tôi không muốn rằng các công ty viễn thông và nhà cung cấp dịch vụ Internet lưu trữ lại tất cả các thông tin của mình .\n",
            "Result: We want to be able to be in the technology , and we don &apos;t want to want the companies to be the Internet and the Internet , all they &apos;re all going to be all of our information .\n",
            "Inference finished! || Total inference time: 0:00:00.536300secs\n",
            "Preprocessing input sentence...\n",
            "Encoding input sentence...\n"
          ]
        },
        {
          "output_type": "stream",
          "name": "stderr",
          "text": [
            "\r 34%|███▍      | 431/1268 [03:14<05:32,  2.51it/s]"
          ]
        },
        {
          "output_type": "stream",
          "name": "stdout",
          "text": [
            "Input: Họ là những luật sư , nhà báo và cả những cha xứ , tất cả đều nói rằng : &quot; Chúng tôi không muốn như vậy &quot;\n",
            "Result: They are they , they &apos;re they &apos;re all the sty , all they say , &quot; We don &apos;t want to want . &quot;\n",
            "Inference finished! || Total inference time: 0:00:00.501312secs\n",
            "Preprocessing input sentence...\n",
            "Encoding input sentence...\n"
          ]
        },
        {
          "output_type": "stream",
          "name": "stderr",
          "text": [
            " 34%|███▍      | 433/1268 [03:15<05:32,  2.51it/s]"
          ]
        },
        {
          "output_type": "stream",
          "name": "stdout",
          "text": [
            "Input: Và bạn có thể thấy trên đây , giống như 10000 người dân tham gia diễu hành trên đường phố Berlin và hô vang khẩu hiệu &quot; Tự do , không sợ hãi &quot;\n",
            "Result: And you can see here , like the people who have been , like the city in the city and they &apos;re going to be the &quot; , &quot; not , &quot; is , &quot; not , &quot; this isn &quot;\n",
            "Inference finished! || Total inference time: 0:00:00.696179secs\n",
            "Preprocessing input sentence...\n",
            "Encoding input sentence...\n",
            "Input: Và một vài người thậm chí đã nói , nó giống như Stasi 2.0 .\n",
            "Result: And some people say , it &apos;s like the SS .\n",
            "Inference finished! || Total inference time: 0:00:00.177186secs\n",
            "Preprocessing input sentence...\n",
            "Encoding input sentence...\n"
          ]
        },
        {
          "output_type": "stream",
          "name": "stderr",
          "text": [
            "\r 34%|███▍      | 434/1268 [03:15<04:47,  2.90it/s]"
          ]
        },
        {
          "output_type": "stream",
          "name": "stdout",
          "text": [
            "Input: Stasi là lực lượng cảnh sát mật hoạt động ở Đông Đức .\n",
            "Result: They are the power of the United States in the United States .\n",
            "Inference finished! || Total inference time: 0:00:00.212138secs\n",
            "Preprocessing input sentence...\n",
            "Encoding input sentence...\n"
          ]
        },
        {
          "output_type": "stream",
          "name": "stderr",
          "text": [
            " 34%|███▍      | 436/1268 [03:16<03:28,  3.99it/s]"
          ]
        },
        {
          "output_type": "stream",
          "name": "stdout",
          "text": [
            "Input: Tôi cũng đã từng tự hỏi , thực tế nó có hoạt động không ?\n",
            "Result: I also asked , actually , it doesn &apos;t work ?\n",
            "Inference finished! || Total inference time: 0:00:00.228371secs\n",
            "Preprocessing input sentence...\n",
            "Encoding input sentence...\n",
            "Input: Liệu họ có thể lưu lại toàn bộ thông tin của chúng ta không ?\n",
            "Result: Can they go back to our information ?\n",
            "Inference finished! || Total inference time: 0:00:00.101156secs\n",
            "Preprocessing input sentence...\n",
            "Encoding input sentence...\n"
          ]
        },
        {
          "output_type": "stream",
          "name": "stderr",
          "text": [
            "\r 34%|███▍      | 437/1268 [03:16<02:53,  4.79it/s]"
          ]
        },
        {
          "output_type": "stream",
          "name": "stdout",
          "text": [
            "Input: Mỗi khi chúng ta sử dụng điện thoại di động của mình ?\n",
            "Result: Everything we use our phones ?\n",
            "Inference finished! || Total inference time: 0:00:00.104543secs\n",
            "Preprocessing input sentence...\n",
            "Encoding input sentence...\n"
          ]
        },
        {
          "output_type": "stream",
          "name": "stderr",
          "text": [
            "\r 35%|███▍      | 438/1268 [03:16<04:29,  3.08it/s]"
          ]
        },
        {
          "output_type": "stream",
          "name": "stdout",
          "text": [
            "Input: Do đó tôi đã yêu cầu nhà mạng mình sử dụng , Deutsche Telekom , nhà cung cấp dịch vụ viễn thông lớn nhất của Đức tại thời điểm đó , và tôi đã yêu cầu họ , làm ơn , hãy gửi cho tôi toàn bộ thông tin của tôi mà họ đã lưu trữ .\n",
            "Result: So I asked my company , they use the U.S. , the most largest , the most bigest , and I asked them , and I &apos;ve got to try to make them all of them .\n",
            "Inference finished! || Total inference time: 0:00:00.588006secs\n",
            "Preprocessing input sentence...\n",
            "Encoding input sentence...\n"
          ]
        },
        {
          "output_type": "stream",
          "name": "stderr",
          "text": [
            "\r 35%|███▍      | 439/1268 [03:17<04:59,  2.77it/s]"
          ]
        },
        {
          "output_type": "stream",
          "name": "stdout",
          "text": [
            "Input: Tôi đã yêu cầu họ hãy gửi cho tôi chỉ một lần thôi , và tôi đã tiếp tục yêu cầu , nhưng cái mà tôi nhận được chỉ là một câu trả lời không rõ ràng . Blah blah blah .\n",
            "Result: I asked them to ask them to give me a time , and I &apos;ve got to try to make a good answer , but what I realized is not just a answer .\n",
            "Inference finished! || Total inference time: 0:00:00.441656secs\n",
            "Preprocessing input sentence...\n",
            "Encoding input sentence...\n"
          ]
        },
        {
          "output_type": "stream",
          "name": "stderr",
          "text": [
            "\r 35%|███▍      | 440/1268 [03:17<04:33,  3.03it/s]"
          ]
        },
        {
          "output_type": "stream",
          "name": "stdout",
          "text": [
            "Input: Nhưng sau đó tôi đã nói , tôi muốn có được những thông tin này , bởi vì họ đang lưu trữ cuộc sống của tôi .\n",
            "Result: But then I said , I wanted to have these information , because they were born .\n",
            "Inference finished! || Total inference time: 0:00:00.252037secs\n",
            "Preprocessing input sentence...\n",
            "Encoding input sentence...\n"
          ]
        },
        {
          "output_type": "stream",
          "name": "stderr",
          "text": [
            "\r 35%|███▍      | 441/1268 [03:17<04:09,  3.32it/s]"
          ]
        },
        {
          "output_type": "stream",
          "name": "stdout",
          "text": [
            "Input: Và tôi đã quyết định sẽ gửi đơn kiện tới toà án , bởi lẽ tôi muốn có được những thông tin này .\n",
            "Result: And I decided to go to the project , because I want to have these information .\n",
            "Inference finished! || Total inference time: 0:00:00.226711secs\n",
            "Preprocessing input sentence...\n",
            "Encoding input sentence...\n"
          ]
        },
        {
          "output_type": "stream",
          "name": "stderr",
          "text": [
            " 35%|███▍      | 443/1268 [03:18<03:48,  3.62it/s]"
          ]
        },
        {
          "output_type": "stream",
          "name": "stdout",
          "text": [
            "Input: Nhưng Deutsche Telekom đã nói , không , chúng tôi sẽ không cung cấp cho bạn những thông tin này .\n",
            "Result: But Sildy &apos;s Cense , not , we &apos;re not going to give you these information .\n",
            "Inference finished! || Total inference time: 0:00:00.368971secs\n",
            "Preprocessing input sentence...\n",
            "Encoding input sentence...\n",
            "Input: Và cuối cùng , tôi đã có một thoả thuận với họ .\n",
            "Result: And finally , I had a very hard to them .\n",
            "Inference finished! || Total inference time: 0:00:00.160018secs\n",
            "Preprocessing input sentence...\n",
            "Encoding input sentence...\n"
          ]
        },
        {
          "output_type": "stream",
          "name": "stderr",
          "text": [
            "\r 35%|███▌      | 444/1268 [03:18<03:56,  3.48it/s]"
          ]
        },
        {
          "output_type": "stream",
          "name": "stdout",
          "text": [
            "Input: Tôi sẽ huỷ đơn kiện , và họ sẽ cung cấp cho tôi những thông tin tôi yêu cầu .\n",
            "Result: I &apos;m going to be going to be , and they &apos;ll give me information for me .\n",
            "Inference finished! || Total inference time: 0:00:00.307469secs\n",
            "Preprocessing input sentence...\n",
            "Encoding input sentence...\n"
          ]
        },
        {
          "output_type": "stream",
          "name": "stderr",
          "text": [
            "\r 35%|███▌      | 445/1268 [03:19<04:39,  2.94it/s]"
          ]
        },
        {
          "output_type": "stream",
          "name": "stdout",
          "text": [
            "Input: Bởi vì tại thời điểm đó , toà án hiến pháp liên bang đã quy định rằng chỉ thị của Uỷ ban châu Âu này không có hiệu lực trong hệ thống hiến pháp của nước Đức\n",
            "Result: Because at that time , the building was only the government of the U.S. , they only only only this government has no , no this system in the country .\n",
            "Inference finished! || Total inference time: 0:00:00.456693secs\n",
            "Preprocessing input sentence...\n",
            "Encoding input sentence...\n"
          ]
        },
        {
          "output_type": "stream",
          "name": "stderr",
          "text": [
            " 35%|███▌      | 447/1268 [03:19<03:58,  3.44it/s]"
          ]
        },
        {
          "output_type": "stream",
          "name": "stdout",
          "text": [
            "Input: Do đó tôi đã nhận được chiếc phong bì màu nâu xấu xí này với một chiếc đĩa CD ở bên trong .\n",
            "Result: So I realized that the black hole was very bad , with a very , in the right side of the right side .\n",
            "Inference finished! || Total inference time: 0:00:00.316201secs\n",
            "Preprocessing input sentence...\n",
            "Encoding input sentence...\n",
            "Input: Và trên chiếc đĩa CD , cái tôi cần đã được ghi trên đó .\n",
            "Result: And on the very , what I needed to be on that .\n",
            "Inference finished! || Total inference time: 0:00:00.180610secs\n",
            "Preprocessing input sentence...\n",
            "Encoding input sentence...\n",
            "Input: 35830 dãy các thông tin .\n",
            "Result: The third is about information .\n",
            "Inference finished! || Total inference time: 0:00:00.087843secs\n",
            "Preprocessing input sentence...\n",
            "Encoding input sentence...\n"
          ]
        },
        {
          "output_type": "stream",
          "name": "stderr",
          "text": [
            "\r 35%|███▌      | 449/1268 [03:20<03:44,  3.65it/s]"
          ]
        },
        {
          "output_type": "stream",
          "name": "stdout",
          "text": [
            "Input: Đầu tiên tôi nhìn nó , và nói , được rồi . Nó là một file dữ liệu lớn . Tốt .\n",
            "Result: First of me , and said , it &apos;s a big data . It &apos;s a big data .\n",
            "Inference finished! || Total inference time: 0:00:00.407911secs\n",
            "Preprocessing input sentence...\n",
            "Encoding input sentence...\n"
          ]
        },
        {
          "output_type": "stream",
          "name": "stderr",
          "text": [
            "\r 35%|███▌      | 450/1268 [03:20<03:35,  3.80it/s]"
          ]
        },
        {
          "output_type": "stream",
          "name": "stdout",
          "text": [
            "Input: Nhưng sau đó tôi đã nhận ra , đây là toàn bộ cuộc sống của mình .\n",
            "Result: But then I realized , this is my life .\n",
            "Inference finished! || Total inference time: 0:00:00.219302secs\n",
            "Preprocessing input sentence...\n",
            "Encoding input sentence...\n"
          ]
        },
        {
          "output_type": "stream",
          "name": "stderr",
          "text": [
            "\r 36%|███▌      | 451/1268 [03:20<03:45,  3.62it/s]"
          ]
        },
        {
          "output_type": "stream",
          "name": "stdout",
          "text": [
            "Input: Đây là cuộc sống trong sáu tháng của tôi , đã được ghi lại toàn bộ trong tệp dữ liệu này .\n",
            "Result: This is my life in six months , this is taken up in the data .\n",
            "Inference finished! || Total inference time: 0:00:00.300736secs\n",
            "Preprocessing input sentence...\n",
            "Encoding input sentence...\n"
          ]
        },
        {
          "output_type": "stream",
          "name": "stderr",
          "text": [
            "\r 36%|███▌      | 452/1268 [03:21<03:32,  3.85it/s]"
          ]
        },
        {
          "output_type": "stream",
          "name": "stdout",
          "text": [
            "Input: Sau đó tôi có băn khoăn một chút , nên làm gì với nó đây ?\n",
            "Result: And then I asked something , so what do you do ?\n",
            "Inference finished! || Total inference time: 0:00:00.203679secs\n",
            "Preprocessing input sentence...\n",
            "Encoding input sentence...\n"
          ]
        },
        {
          "output_type": "stream",
          "name": "stderr",
          "text": [
            "\r 36%|███▌      | 453/1268 [03:21<04:21,  3.12it/s]"
          ]
        },
        {
          "output_type": "stream",
          "name": "stdout",
          "text": [
            "Input: Bởi vì tôi có thể thấy những nơi tôi đã đến đó , nơi tôi ngủ mỗi đêm , những việc tôi đã làm .\n",
            "Result: Because I can see where I &apos;ve got that , where I go to the night , every night I &apos;ve done .\n",
            "Inference finished! || Total inference time: 0:00:00.465410secs\n",
            "Preprocessing input sentence...\n",
            "Encoding input sentence...\n"
          ]
        },
        {
          "output_type": "stream",
          "name": "stderr",
          "text": [
            "\r 36%|███▌      | 454/1268 [03:21<03:56,  3.44it/s]"
          ]
        },
        {
          "output_type": "stream",
          "name": "stdout",
          "text": [
            "Input: Nhưng sau đó tôi đã nói , tôi muốn công khai những thông tin này .\n",
            "Result: But then I said , I want to make these information .\n",
            "Inference finished! || Total inference time: 0:00:00.209755secs\n",
            "Preprocessing input sentence...\n",
            "Encoding input sentence...\n"
          ]
        },
        {
          "output_type": "stream",
          "name": "stderr",
          "text": [
            "\r 36%|███▌      | 455/1268 [03:21<03:50,  3.53it/s]"
          ]
        },
        {
          "output_type": "stream",
          "name": "stdout",
          "text": [
            "Input: Tôi muốn nó được biết đến bởi công chúng .\n",
            "Result: I want to know it because they &apos;re going to know .\n",
            "Inference finished! || Total inference time: 0:00:00.256804secs\n",
            "Preprocessing input sentence...\n",
            "Encoding input sentence...\n"
          ]
        },
        {
          "output_type": "stream",
          "name": "stderr",
          "text": [
            "\r 36%|███▌      | 456/1268 [03:22<04:06,  3.30it/s]"
          ]
        },
        {
          "output_type": "stream",
          "name": "stdout",
          "text": [
            "Input: Bởi lẽ tôi muốn cho mọi người thấy sự bảo lưu dữ liệu thật sự là như thế nào .\n",
            "Result: Because I want to show people how to make data , what &apos;s really .\n",
            "Inference finished! || Total inference time: 0:00:00.342907secs\n",
            "Preprocessing input sentence...\n",
            "Encoding input sentence...\n"
          ]
        },
        {
          "output_type": "stream",
          "name": "stderr",
          "text": [
            "\r 36%|███▌      | 457/1268 [03:22<04:06,  3.29it/s]"
          ]
        },
        {
          "output_type": "stream",
          "name": "stdout",
          "text": [
            "Input: Do vậy đối với Zeit Online và Open Data City , tôi cũng làm điều tương tự .\n",
            "Result: So for the Sild and the S.S. , I also do something .\n",
            "Inference finished! || Total inference time: 0:00:00.298750secs\n",
            "Preprocessing input sentence...\n",
            "Encoding input sentence...\n"
          ]
        },
        {
          "output_type": "stream",
          "name": "stderr",
          "text": [
            "\r 36%|███▌      | 458/1268 [03:23<04:24,  3.06it/s]"
          ]
        },
        {
          "output_type": "stream",
          "name": "stdout",
          "text": [
            "Input: Đây là những hình ảnh trực quan về cuộc sống trong sáu tháng đã được ghi lại của tôi .\n",
            "Result: This is the images of the life in six months of my father &apos;s going to be born .\n",
            "Inference finished! || Total inference time: 0:00:00.372662secs\n",
            "Preprocessing input sentence...\n",
            "Encoding input sentence...\n"
          ]
        },
        {
          "output_type": "stream",
          "name": "stderr",
          "text": [
            " 36%|███▋      | 460/1268 [03:23<03:43,  3.61it/s]"
          ]
        },
        {
          "output_type": "stream",
          "name": "stdout",
          "text": [
            "Input: Bạn có thể phóng to hoặc thu nhỏ nó , bạn cũng có thể tua ngược trở lại hoặc nhanh hơn về phía trước .\n",
            "Result: You can get a little bit or , you can also be also , or more than before .\n",
            "Inference finished! || Total inference time: 0:00:00.360298secs\n",
            "Preprocessing input sentence...\n",
            "Encoding input sentence...\n",
            "Input: Bạn có thể thấy từng bước đi của tôi .\n",
            "Result: You can see my life .\n",
            "Inference finished! || Total inference time: 0:00:00.115767secs\n",
            "Preprocessing input sentence...\n",
            "Encoding input sentence...\n"
          ]
        },
        {
          "output_type": "stream",
          "name": "stderr",
          "text": [
            " 36%|███▋      | 462/1268 [03:24<04:01,  3.34it/s]"
          ]
        },
        {
          "output_type": "stream",
          "name": "stdout",
          "text": [
            "Input: Bạn thậm chí có thể biết được tôi tới Frankfurt bằng tàu hoả tới Cologne như thế nào , và cả tần suất tôi gọi điện liên lạc giữa hai địa điểm đó .\n",
            "Result: You can know how I &apos;ve got took the C.S. , how took the secty , and all the two of the two .\n",
            "Inference finished! || Total inference time: 0:00:00.556254secs\n",
            "Preprocessing input sentence...\n",
            "Encoding input sentence...\n",
            "Input: Tất cả đều có thể với những thông tin này .\n",
            "Result: All of these information can be information .\n",
            "Inference finished! || Total inference time: 0:00:00.135775secs\n",
            "Preprocessing input sentence...\n",
            "Encoding input sentence...\n"
          ]
        },
        {
          "output_type": "stream",
          "name": "stderr",
          "text": [
            " 37%|███▋      | 464/1268 [03:24<03:11,  4.19it/s]"
          ]
        },
        {
          "output_type": "stream",
          "name": "stdout",
          "text": [
            "Input: Tôi đã có một chút sợ hãi .\n",
            "Result: I had a little bit of sty .\n",
            "Inference finished! || Total inference time: 0:00:00.211174secs\n",
            "Preprocessing input sentence...\n",
            "Encoding input sentence...\n",
            "Input: Nhưng những thông tin đó không chỉ nói về tôi .\n",
            "Result: But the information is not just about me .\n",
            "Inference finished! || Total inference time: 0:00:00.145232secs\n",
            "Preprocessing input sentence...\n",
            "Encoding input sentence...\n"
          ]
        },
        {
          "output_type": "stream",
          "name": "stderr",
          "text": [
            "\r 37%|███▋      | 465/1268 [03:24<03:06,  4.30it/s]"
          ]
        },
        {
          "output_type": "stream",
          "name": "stdout",
          "text": [
            "Input: Nó là thông tin về tất cả chúng ta .\n",
            "Result: It &apos;s about information about all of us .\n",
            "Inference finished! || Total inference time: 0:00:00.209624secs\n",
            "Preprocessing input sentence...\n",
            "Encoding input sentence...\n"
          ]
        },
        {
          "output_type": "stream",
          "name": "stderr",
          "text": [
            "\r 37%|███▋      | 466/1268 [03:25<04:29,  2.98it/s]"
          ]
        },
        {
          "output_type": "stream",
          "name": "stdout",
          "text": [
            "Input: Đầu tiên , nó chỉ giống như thế này , tôi gọi cho vợ tôi và cô ấy cũng gọi cho tôi , chúng tôi nói chuyện với nhau vài ba lần .\n",
            "Result: First , it &apos;s just like this , I called my wife and she called us , and we &apos;ve talked to us and talking about three times .\n",
            "Inference finished! || Total inference time: 0:00:00.567323secs\n",
            "Preprocessing input sentence...\n",
            "Encoding input sentence...\n"
          ]
        },
        {
          "output_type": "stream",
          "name": "stderr",
          "text": [
            "\r 37%|███▋      | 467/1268 [03:25<03:59,  3.34it/s]"
          ]
        },
        {
          "output_type": "stream",
          "name": "stdout",
          "text": [
            "Input: Và sau đó là một vài người bạn gọi cho tôi , họ gọi cho nhau nữa .\n",
            "Result: And then , someone called me , they call them different .\n",
            "Inference finished! || Total inference time: 0:00:00.205995secs\n",
            "Preprocessing input sentence...\n",
            "Encoding input sentence...\n"
          ]
        },
        {
          "output_type": "stream",
          "name": "stderr",
          "text": [
            "\r 37%|███▋      | 468/1268 [03:26<05:19,  2.50it/s]"
          ]
        },
        {
          "output_type": "stream",
          "name": "stdout",
          "text": [
            "Input: Một lúc sau đó bạn gọi cho bạn , và bạn gọi cho bạn , và bạn sẽ có được mạng lưới giao tiếp rộng lớn này .\n",
            "Result: And then , after you call you , and you &apos;re going to call you , and you &apos;re going to be a big , and you &apos;re going to be going to be going to be this big network .\n",
            "Inference finished! || Total inference time: 0:00:00.627747secs\n",
            "Preprocessing input sentence...\n",
            "Encoding input sentence...\n"
          ]
        },
        {
          "output_type": "stream",
          "name": "stderr",
          "text": [
            "\r 37%|███▋      | 469/1268 [03:26<05:57,  2.24it/s]"
          ]
        },
        {
          "output_type": "stream",
          "name": "stdout",
          "text": [
            "Input: Nhưng bạn có thể thấy cách mà chúng ta giao tiếp với nhau , họ gọi cho nhau lúc nào , khi nào họ đi ngủ .\n",
            "Result: But you can see how we &apos;re going to make each other , they call them , when they &apos;re going to go back to the sty &apos;re going to go .\n",
            "Inference finished! || Total inference time: 0:00:00.551252secs\n",
            "Preprocessing input sentence...\n",
            "Encoding input sentence...\n",
            "Input: Bạn có thể thấy tất cả điều đó .\n",
            "Result: You can see that .\n",
            "Inference finished! || Total inference time: 0:00:00.069106secs\n",
            "Preprocessing input sentence...\n",
            "Encoding input sentence...\n"
          ]
        },
        {
          "output_type": "stream",
          "name": "stderr",
          "text": [
            "\r 37%|███▋      | 471/1268 [03:27<04:04,  3.25it/s]"
          ]
        },
        {
          "output_type": "stream",
          "name": "stdout",
          "text": [
            "Input: Bạn có thể thấy được những phần trọng yếu nhất , giống như là những người lãnh đạo trong một nhóm .\n",
            "Result: You can see the most important parts , like the people in a group .\n",
            "Inference finished! || Total inference time: 0:00:00.206785secs\n",
            "Preprocessing input sentence...\n",
            "Encoding input sentence...\n"
          ]
        },
        {
          "output_type": "stream",
          "name": "stderr",
          "text": [
            " 37%|███▋      | 473/1268 [03:27<03:31,  3.76it/s]"
          ]
        },
        {
          "output_type": "stream",
          "name": "stdout",
          "text": [
            "Input: Nếu bạn có được quyền truy cập những thông tin này , bạn có thể thấy được hoạt động của cả cộng đồng , xã hội .\n",
            "Result: If you have this information , you can see the social community , social society .\n",
            "Inference finished! || Total inference time: 0:00:00.240461secs\n",
            "Preprocessing input sentence...\n",
            "Encoding input sentence...\n",
            "Input: Nếu bạn có quyền truy cập những thông tin này , bạn có thể kiểm soát toàn bộ xã hội .\n",
            "Result: If you have this information , you can control our society .\n",
            "Inference finished! || Total inference time: 0:00:00.186078secs\n",
            "Preprocessing input sentence...\n",
            "Encoding input sentence...\n"
          ]
        },
        {
          "output_type": "stream",
          "name": "stderr",
          "text": [
            "\r 37%|███▋      | 474/1268 [03:27<03:20,  3.95it/s]"
          ]
        },
        {
          "output_type": "stream",
          "name": "stdout",
          "text": [
            "Input: Đây là một bản vẽ thiết kế cho những quốc gia như Trung Quốc hay Iran .\n",
            "Result: This is a design for the United States or the United States .\n",
            "Inference finished! || Total inference time: 0:00:00.211794secs\n",
            "Preprocessing input sentence...\n",
            "Encoding input sentence...\n"
          ]
        },
        {
          "output_type": "stream",
          "name": "stderr",
          "text": [
            "\r 37%|███▋      | 475/1268 [03:28<04:38,  2.85it/s]"
          ]
        },
        {
          "output_type": "stream",
          "name": "stdout",
          "text": [
            "Input: Đây là một bản vẽ cách để khảo sát toàn xã hội bởi lẽ bạn biết được người nào nói chuyện với người nào , người nào đã gửi đi những email , tất cả điều đó đều có thể nếu bạn có quyền truy cập những thông tin này .\n",
            "Result: This is a very , a very , to see how the social society is , what you know , who &apos;s going to go , all of these guys can be , if you can have information .\n",
            "Inference finished! || Total inference time: 0:00:00.598044secs\n",
            "Preprocessing input sentence...\n",
            "Encoding input sentence...\n"
          ]
        },
        {
          "output_type": "stream",
          "name": "stderr",
          "text": [
            "\r 38%|███▊      | 476/1268 [03:28<04:26,  2.98it/s]"
          ]
        },
        {
          "output_type": "stream",
          "name": "stdout",
          "text": [
            "Input: Và những thông tin này được lưu trữ trong ít nhất sáu tháng ở châu Âu , cho tới tận hai năm .\n",
            "Result: And these information are going to be in the United States in the United States , for two years .\n",
            "Inference finished! || Total inference time: 0:00:00.290783secs\n",
            "Preprocessing input sentence...\n",
            "Encoding input sentence...\n"
          ]
        },
        {
          "output_type": "stream",
          "name": "stderr",
          "text": [
            "\r 38%|███▊      | 477/1268 [03:29<05:20,  2.47it/s]"
          ]
        },
        {
          "output_type": "stream",
          "name": "stdout",
          "text": [
            "Input: Như tôi đã nói khi bắt đầu , hãy tưởng tượng nếu tất cả những người này trên đường phố Berlin mùa thu năm 1989 có một chiếc điện thoại di động trong túi .\n",
            "Result: But I said , let &apos;s start , let &apos;s imagine if all these people in the city of the United States , there &apos;s a series of the phones in the car .\n",
            "Inference finished! || Total inference time: 0:00:00.567969secs\n",
            "Preprocessing input sentence...\n",
            "Encoding input sentence...\n"
          ]
        },
        {
          "output_type": "stream",
          "name": "stderr",
          "text": [
            "\r 38%|███▊      | 478/1268 [03:29<05:54,  2.23it/s]"
          ]
        },
        {
          "output_type": "stream",
          "name": "stdout",
          "text": [
            "Input: Thì có lẽ Stasi sẽ biết những ai đã tham gia trong cuộc biểu tình này , và nếu Stasi biết được ai là người lãnh đạo đứng đằng sau nó , thì có lẽ nó sẽ không bao giờ có thể xảy ra được .\n",
            "Result: You can know what people who have been in this , and if they know who is the , it &apos;s going to be going to be , it &apos;s probably never happened .\n",
            "Inference finished! || Total inference time: 0:00:00.546077secs\n",
            "Preprocessing input sentence...\n",
            "Encoding input sentence...\n"
          ]
        },
        {
          "output_type": "stream",
          "name": "stderr",
          "text": [
            "\r 38%|███▊      | 479/1268 [03:30<05:20,  2.46it/s]"
          ]
        },
        {
          "output_type": "stream",
          "name": "stdout",
          "text": [
            "Input: Sự sụp đổ của bức tường Berlin có thể sẽ không tồn tại .\n",
            "Result: They &apos;re going to be the wall of the wall , they can &apos;t have .\n",
            "Inference finished! || Total inference time: 0:00:00.297614secs\n",
            "Preprocessing input sentence...\n",
            "Encoding input sentence...\n"
          ]
        },
        {
          "output_type": "stream",
          "name": "stderr",
          "text": [
            "\r 38%|███▊      | 480/1268 [03:30<05:37,  2.33it/s]"
          ]
        },
        {
          "output_type": "stream",
          "name": "stdout",
          "text": [
            "Input: Và nếu như vậy , thì có lẽ sự sụp đổ của Bức màn sắt trong Chiến tranh lạnh cũng sẽ không tồn tại .\n",
            "Result: And if , there are the very , there &apos;s the series of the sty &apos;re not going to be in the middle of the war .\n",
            "Inference finished! || Total inference time: 0:00:00.475894secs\n",
            "Preprocessing input sentence...\n",
            "Encoding input sentence...\n"
          ]
        },
        {
          "output_type": "stream",
          "name": "stderr",
          "text": [
            "\r 38%|███▊      | 481/1268 [03:31<05:43,  2.29it/s]"
          ]
        },
        {
          "output_type": "stream",
          "name": "stdout",
          "text": [
            "Input: Bởi lẽ ngày nay , các cơ quan chức năng và công ty muốn lưu lại những thông tin họ có được về chúng ta càng nhiều càng tốt , cả trực tuyến và ngoại tuyến .\n",
            "Result: Because now , the power of the companies and they want to be able to get more important than they have more than we are , and they are very good .\n",
            "Inference finished! || Total inference time: 0:00:00.447848secs\n",
            "Preprocessing input sentence...\n",
            "Encoding input sentence...\n"
          ]
        },
        {
          "output_type": "stream",
          "name": "stderr",
          "text": [
            " 38%|███▊      | 483/1268 [03:31<04:22,  2.99it/s]"
          ]
        },
        {
          "output_type": "stream",
          "name": "stdout",
          "text": [
            "Input: Họ muốn có được khả năng theo sát cuộc sống của chúng ta , và vì lẽ đó họ muốn lưu lại những thông tin này ở mọi thời điểm .\n",
            "Result: They want to be able to see our life , and because they want to go back to these things in the time .\n",
            "Inference finished! || Total inference time: 0:00:00.318528secs\n",
            "Preprocessing input sentence...\n",
            "Encoding input sentence...\n",
            "Input: Sự tự chủ và việc sống trong thời đại công nghệ số không hề mâu thuẫn .\n",
            "Result: The morality and life is not also a lot of technology .\n",
            "Inference finished! || Total inference time: 0:00:00.170629secs\n",
            "Preprocessing input sentence...\n",
            "Encoding input sentence...\n"
          ]
        },
        {
          "output_type": "stream",
          "name": "stderr",
          "text": [
            "\r 38%|███▊      | 484/1268 [03:31<04:08,  3.16it/s]"
          ]
        },
        {
          "output_type": "stream",
          "name": "stdout",
          "text": [
            "Input: Điều mà bạn nên làm là đấu tranh cho sự tự chủ của mình ngày hôm nay .\n",
            "Result: What you should do is the very , to the styts your job forday .\n",
            "Inference finished! || Total inference time: 0:00:00.261050secs\n",
            "Preprocessing input sentence...\n",
            "Encoding input sentence...\n"
          ]
        },
        {
          "output_type": "stream",
          "name": "stderr",
          "text": [
            "\r 38%|███▊      | 485/1268 [03:32<04:11,  3.12it/s]"
          ]
        },
        {
          "output_type": "stream",
          "name": "stdout",
          "text": [
            "Input: Và bạn phải đấu tranh không ngừng nghỉ cho nó mỗi ngày .\n",
            "Result: And you have to go to the ststy , it &apos;s not going to go to every day .\n",
            "Inference finished! || Total inference time: 0:00:00.324527secs\n",
            "Preprocessing input sentence...\n",
            "Encoding input sentence...\n"
          ]
        },
        {
          "output_type": "stream",
          "name": "stderr",
          "text": [
            "\r 38%|███▊      | 486/1268 [03:32<04:49,  2.70it/s]"
          ]
        },
        {
          "output_type": "stream",
          "name": "stdout",
          "text": [
            "Input: Sau đó , khi bạn trở về nhà , hãy nói với bạn bè của mình rằng quyền riêng tư là một giá trị của thế kỉ 21 , và điều đó không hề lỗi thời .\n",
            "Result: After , when you &apos;re going to be on the home , let &apos;s say that your friends are a global political , and that &apos;s not wrong .\n",
            "Inference finished! || Total inference time: 0:00:00.479559secs\n",
            "Preprocessing input sentence...\n",
            "Encoding input sentence...\n"
          ]
        },
        {
          "output_type": "stream",
          "name": "stderr",
          "text": [
            "\r 38%|███▊      | 487/1268 [03:33<05:54,  2.20it/s]"
          ]
        },
        {
          "output_type": "stream",
          "name": "stdout",
          "text": [
            "Input: Khi bạn trở về nhà , hãy nói với chỉ người đại diện của mình rằng bởi các công ty và cơ quan chức năng có thể lưu giữ lại những thông tin cụ thể , mặc dù họ không nhất thiết phải làm như thế\n",
            "Result: When you go back to the home , let &apos;s say that they &apos;re just going to be the company , they can &apos;t get the most important information , even though they don &apos;t have to do .\n",
            "Inference finished! || Total inference time: 0:00:00.642781secs\n",
            "Preprocessing input sentence...\n",
            "Encoding input sentence...\n"
          ]
        },
        {
          "output_type": "stream",
          "name": "stderr",
          "text": [
            "\r 38%|███▊      | 488/1268 [03:33<05:40,  2.29it/s]"
          ]
        },
        {
          "output_type": "stream",
          "name": "stdout",
          "text": [
            "Input: Và nếu bạn không tin tưởng tôi , hãy yêu cầu nhà mạng cung cấp những thông tin mà họ đã lưu trữ về mình .\n",
            "Result: And if you don &apos;t believe me , let me love the Internet they &apos;ve been going to be able to get up .\n",
            "Inference finished! || Total inference time: 0:00:00.389538secs\n",
            "Preprocessing input sentence...\n",
            "Encoding input sentence...\n"
          ]
        },
        {
          "output_type": "stream",
          "name": "stderr",
          "text": [
            "\r 39%|███▊      | 489/1268 [03:34<05:32,  2.34it/s]"
          ]
        },
        {
          "output_type": "stream",
          "name": "stdout",
          "text": [
            "Input: Như vậy , trong tương lai , mỗi khi bạn sử dụng chiếc điện thoại của mình hãy để nó nhắc nhở bạn rằng bạn phải đấu tranh cho sự tự chủ cá nhân trong thời đại số này .\n",
            "Result: So in the future , every single future you use your phone to say that you have to be the very powerful for the most of the most of the most of the time .\n",
            "Inference finished! || Total inference time: 0:00:00.399148secs\n",
            "Preprocessing input sentence...\n",
            "Encoding input sentence...\n",
            "Input: Cảm ơn .\n",
            "Result: Thank you .\n",
            "Inference finished! || Total inference time: 0:00:00.055264secs\n",
            "Preprocessing input sentence...\n",
            "Encoding input sentence...\n"
          ]
        },
        {
          "output_type": "stream",
          "name": "stderr",
          "text": [
            "\r 39%|███▊      | 491/1268 [03:34<05:21,  2.42it/s]"
          ]
        },
        {
          "output_type": "stream",
          "name": "stdout",
          "text": [
            "Input: Nhiếp ảnh là niềm đam mê của tôi kể từ khi tôi đủ lớn để cầm một chiếc máy ảnh , nhưng hôm nay tôi muốn chia sẻ với các bạn 15 bức ảnh mà tôi trân trọng nhất , và tôi không tự chụp cái nào trong số đó .\n",
            "Result: My colleagues are my passion to tell me that when I &apos;m going to take a big computer , but I want to share with you today that I &apos;m not going to share with the most important pictures of that I &apos;m not going to go in the same time .\n",
            "Inference finished! || Total inference time: 0:00:00.732390secs\n",
            "Preprocessing input sentence...\n",
            "Encoding input sentence...\n"
          ]
        },
        {
          "output_type": "stream",
          "name": "stderr",
          "text": [
            "\r 39%|███▉      | 492/1268 [03:35<05:36,  2.30it/s]"
          ]
        },
        {
          "output_type": "stream",
          "name": "stdout",
          "text": [
            "Input: Không có đạo diễn nghệ thuật , không có nhà tạo mẫu , không chụp lại , thậm chí không hề quan tâm tới ánh sáng .\n",
            "Result: There &apos;s no art , no , no , no , not even they don &apos;t have to be able to get the light .\n",
            "Inference finished! || Total inference time: 0:00:00.485766secs\n",
            "Preprocessing input sentence...\n",
            "Encoding input sentence...\n"
          ]
        },
        {
          "output_type": "stream",
          "name": "stderr",
          "text": [
            "\r 39%|███▉      | 493/1268 [03:35<05:51,  2.21it/s]"
          ]
        },
        {
          "output_type": "stream",
          "name": "stdout",
          "text": [
            "Input: Thực ra , hầu hết chúng đều được chụp bởi những du khách tình cờ đi ngang qua\n",
            "Result: In fact , most of them are going to be taken by the series of the stys of the stys .\n",
            "Inference finished! || Total inference time: 0:00:00.499258secs\n",
            "Preprocessing input sentence...\n",
            "Encoding input sentence...\n"
          ]
        },
        {
          "output_type": "stream",
          "name": "stderr",
          "text": [
            "\r 39%|███▉      | 494/1268 [03:36<06:45,  1.91it/s]"
          ]
        },
        {
          "output_type": "stream",
          "name": "stdout",
          "text": [
            "Input: Câu chuyện bắt đầu khi tôi đến thành phố New York để tham gia vào một bài phát biểu và vợ tôi chụp bức hình tôi đang ôm con gái trong ngày sinh nhật đầu tiên của bé . Chúng tôi đứng ở góc đường số 57 và 5 .\n",
            "Result: The story started to the New York City I was in New York to get a book and my wife was going to be a book of the first week of the first week . We were in the last four-year-old .\n",
            "Inference finished! || Total inference time: 0:00:00.700921secs\n",
            "Preprocessing input sentence...\n",
            "Encoding input sentence...\n"
          ]
        },
        {
          "output_type": "stream",
          "name": "stderr",
          "text": [
            " 39%|███▉      | 496/1268 [03:37<04:56,  2.61it/s]"
          ]
        },
        {
          "output_type": "stream",
          "name": "stdout",
          "text": [
            "Input: Chúng tôi tình cờ quay lại New York đúng một năm sau đó , vì thế chúng tôi quyết định chụp một bức nữa như vậy .\n",
            "Result: We were going to go back to New York , so we decided to build a picture of that .\n",
            "Inference finished! || Total inference time: 0:00:00.341779secs\n",
            "Preprocessing input sentence...\n",
            "Encoding input sentence...\n",
            "Input: Bạn có thể thấy câu chuyện đang dẫn đến đâu .\n",
            "Result: You can see the story is about .\n",
            "Inference finished! || Total inference time: 0:00:00.146355secs\n",
            "Preprocessing input sentence...\n",
            "Encoding input sentence...\n"
          ]
        },
        {
          "output_type": "stream",
          "name": "stderr",
          "text": [
            "\r 39%|███▉      | 497/1268 [03:38<07:08,  1.80it/s]"
          ]
        },
        {
          "output_type": "stream",
          "name": "stdout",
          "text": [
            "Input: Khi sắp tới sinh nhật lần thứ 3 của con gái tôi , vợ tôi nói , &quot; Sao anh không đưa Sabrina đến New York làm một chuyến du lịch chỉ có cha và con gái , rồi tiếp tục &quot; nghi thức &quot; cũ ?\n",
            "Result: When I &apos;m going to go to the third of my son , my wife said , &quot; Why don &apos;t you go to the New York City , and then there &apos;s a few months of my father and then goes ? &quot;\n",
            "Inference finished! || Total inference time: 0:00:00.970688secs\n",
            "Preprocessing input sentence...\n",
            "Encoding input sentence...\n"
          ]
        },
        {
          "output_type": "stream",
          "name": "stderr",
          "text": [
            "\r 39%|███▉      | 498/1268 [03:38<06:05,  2.11it/s]"
          ]
        },
        {
          "output_type": "stream",
          "name": "stdout",
          "text": [
            "Input: Từ đó chúng tôi bắt đầu nhờ khách du lịch qua đường chụp ảnh\n",
            "Result: We started to get the home of the very pictures of the picture .\n",
            "Inference finished! || Total inference time: 0:00:00.271500secs\n",
            "Preprocessing input sentence...\n",
            "Encoding input sentence...\n"
          ]
        },
        {
          "output_type": "stream",
          "name": "stderr",
          "text": [
            "\r 39%|███▉      | 499/1268 [03:38<06:03,  2.11it/s]"
          ]
        },
        {
          "output_type": "stream",
          "name": "stdout",
          "text": [
            "Input: Bạn biết đấy , động tác trao máy ảnh của mình cho một người hoàn toàn xa lạ phổ biến trên toàn thế giới một cách đáng chú ý .\n",
            "Result: You know , your computer works for a huge , a huge very powerful , a very powerful way of a very simple way .\n",
            "Inference finished! || Total inference time: 0:00:00.457929secs\n",
            "Preprocessing input sentence...\n",
            "Encoding input sentence...\n"
          ]
        },
        {
          "output_type": "stream",
          "name": "stderr",
          "text": [
            "\r 39%|███▉      | 500/1268 [03:39<06:02,  2.12it/s]"
          ]
        },
        {
          "output_type": "stream",
          "name": "stdout",
          "text": [
            "Input: Không có ai từ chối , và may mắn là chưa có ai bỏ chạy với camera của chúng tôi .\n",
            "Result: There &apos;s nobody else , and fortunately , nobody &apos;s not going to go with our camera .\n",
            "Inference finished! || Total inference time: 0:00:00.457646secs\n",
            "Preprocessing input sentence...\n",
            "Encoding input sentence...\n"
          ]
        },
        {
          "output_type": "stream",
          "name": "stderr",
          "text": [
            "\r 40%|███▉      | 501/1268 [03:39<05:21,  2.39it/s]"
          ]
        },
        {
          "output_type": "stream",
          "name": "stdout",
          "text": [
            "Input: Hồi đó , chúng tôi không hề biết chuyến đi ấy sẽ thay đổi cuộc sống của chúng tôi như thế nào .\n",
            "Result: And then , we didn &apos;t know how to change our life .\n",
            "Inference finished! || Total inference time: 0:00:00.287011secs\n",
            "Preprocessing input sentence...\n",
            "Encoding input sentence...\n"
          ]
        },
        {
          "output_type": "stream",
          "name": "stderr",
          "text": [
            "\r 40%|███▉      | 502/1268 [03:39<05:18,  2.40it/s]"
          ]
        },
        {
          "output_type": "stream",
          "name": "stdout",
          "text": [
            "Input: Nó trở nên thật thiêng liêng với chúng tôi .\n",
            "Result: It &apos;s so really , it &apos;s really going to be with us .\n",
            "Inference finished! || Total inference time: 0:00:00.399429secs\n",
            "Preprocessing input sentence...\n",
            "Encoding input sentence...\n"
          ]
        },
        {
          "output_type": "stream",
          "name": "stderr",
          "text": [
            "\r 40%|███▉      | 503/1268 [03:40<06:06,  2.08it/s]"
          ]
        },
        {
          "output_type": "stream",
          "name": "stdout",
          "text": [
            "Input: Bức này được chụp vài tuần sau sự kiện 11 / 9 , và tôi đã cố gắng giải thích những việc xảy ra hôm đó theo những cách mà một đứa trẻ 5 tuổi có thể hiểu được .\n",
            "Result: This is a couple of weeks later , and I try to explain what happens today , and I &apos;ve been going to understand that the children can understand that one of the children can understand .\n",
            "Inference finished! || Total inference time: 0:00:00.618843secs\n",
            "Preprocessing input sentence...\n",
            "Encoding input sentence...\n"
          ]
        },
        {
          "output_type": "stream",
          "name": "stderr",
          "text": [
            "\r 40%|███▉      | 504/1268 [03:40<05:33,  2.29it/s]"
          ]
        },
        {
          "output_type": "stream",
          "name": "stdout",
          "text": [
            "Input: Những bức ảnh này không chỉ là vật đại diện cho một khoảnh khắc , hay một chuyến đi đặc biệt nào đó .\n",
            "Result: These images are not just a very , or a very , a very , a very very complex .\n",
            "Inference finished! || Total inference time: 0:00:00.329715secs\n",
            "Preprocessing input sentence...\n",
            "Encoding input sentence...\n"
          ]
        },
        {
          "output_type": "stream",
          "name": "stderr",
          "text": [
            "\r 40%|███▉      | 505/1268 [03:41<06:00,  2.12it/s]"
          ]
        },
        {
          "output_type": "stream",
          "name": "stdout",
          "text": [
            "Input: Chúng là cách để chúng tôi dừng thời gian trong một tuần của tháng mười , suy nghĩ về thời gian của chúng tôi và cách chúng tôi thay đổi theo mỗi năm , không chỉ về mặt thể chất , mà là về mọi mặt .\n",
            "Result: They are going to stop using a week in a month , thinking about our time , and we changed every year , not only about every year , but it &apos;s about all of the same .\n",
            "Inference finished! || Total inference time: 0:00:00.549128secs\n",
            "Preprocessing input sentence...\n",
            "Encoding input sentence...\n"
          ]
        },
        {
          "output_type": "stream",
          "name": "stderr",
          "text": [
            "\r 40%|███▉      | 506/1268 [03:42<06:20,  2.00it/s]"
          ]
        },
        {
          "output_type": "stream",
          "name": "stdout",
          "text": [
            "Input: Bởi vì dù chúng tôi chụp cùng một bức ảnh , nhưng quan điểm của chúng tôi thay đổi , con gái tôi đạt được những dấu mốc mới , và tôi được nhìn cuộc đời qua đôi mắt con bé , cách nó quan sát và tương tác với mọi vật .\n",
            "Result: Because we went to a picture , but our , our children changed , and I looked at the new life , and I looked at the same time , and she looked at all .\n",
            "Inference finished! || Total inference time: 0:00:00.556093secs\n",
            "Preprocessing input sentence...\n",
            "Encoding input sentence...\n"
          ]
        },
        {
          "output_type": "stream",
          "name": "stderr",
          "text": [
            "\r 40%|███▉      | 507/1268 [03:42<06:02,  2.10it/s]"
          ]
        },
        {
          "output_type": "stream",
          "name": "stdout",
          "text": [
            "Input: Khoảng thời gian mà chúng tôi tập trung dành cho nhau này là một thứ chúng tôi trân trọng và mong đợi suốt cả năm .\n",
            "Result: The time we &apos;ve been focused on this one is a very important thing that we &apos;re going to be very important for the year .\n",
            "Inference finished! || Total inference time: 0:00:00.416413secs\n",
            "Preprocessing input sentence...\n",
            "Encoding input sentence...\n"
          ]
        },
        {
          "output_type": "stream",
          "name": "stderr",
          "text": [
            "\r 40%|████      | 508/1268 [03:43<06:54,  1.83it/s]"
          ]
        },
        {
          "output_type": "stream",
          "name": "stdout",
          "text": [
            "Input: Gần đây , trong một chuyến đi , chúng tôi đang đi bộ thì con gái tôi đột ngột dừng lại giữa đường , và nó chỉ đến mái hiên màu đỏ của cửa hàng búp bê mà nó rất thích khi còn nhỏ trong những chuyến đi trước đây của chúng tôi .\n",
            "Result: In this , in a very , we &apos;re going to go , and it &apos;s just also going to go back to the middle of the red , and it &apos;s just like this very little little little bits of the room .\n",
            "Inference finished! || Total inference time: 0:00:00.699158secs\n",
            "Preprocessing input sentence...\n",
            "Encoding input sentence...\n"
          ]
        },
        {
          "output_type": "stream",
          "name": "stderr",
          "text": [
            "\r 40%|████      | 509/1268 [03:43<05:50,  2.17it/s]"
          ]
        },
        {
          "output_type": "stream",
          "name": "stdout",
          "text": [
            "Input: Con bé mô tả cho tôi cảm giác của nó hồi 5 tuổi , khi đứng tại đúng vị trí đó .\n",
            "Result: She was going to show me that my mind , when the last year was right at that moment .\n",
            "Inference finished! || Total inference time: 0:00:00.255240secs\n",
            "Preprocessing input sentence...\n",
            "Encoding input sentence...\n"
          ]
        },
        {
          "output_type": "stream",
          "name": "stderr",
          "text": [
            "\r 40%|████      | 510/1268 [03:43<05:56,  2.13it/s]"
          ]
        },
        {
          "output_type": "stream",
          "name": "stdout",
          "text": [
            "Input: Nó nói rằng nó nhớ tim mình đã bật ra khỏi lồng ngực khi nó nhìn thấy cửa hàng ấy lần đầu tiên cách đó 9 năm .\n",
            "Result: It says that it says that my heart , when it &apos;s going to be able to see it , when it looks at the first time , the first year of the last year .\n",
            "Inference finished! || Total inference time: 0:00:00.483094secs\n",
            "Preprocessing input sentence...\n",
            "Encoding input sentence...\n"
          ]
        },
        {
          "output_type": "stream",
          "name": "stderr",
          "text": [
            "\r 40%|████      | 511/1268 [03:44<05:21,  2.35it/s]"
          ]
        },
        {
          "output_type": "stream",
          "name": "stdout",
          "text": [
            "Input: Và bây giờ những thứ nó thấy ở New York là các trường đại học , vì nó đã quyết định đi học ở New York .\n",
            "Result: And now it &apos;s here in New York , because it &apos;s going to be in New York .\n",
            "Inference finished! || Total inference time: 0:00:00.313902secs\n",
            "Preprocessing input sentence...\n",
            "Encoding input sentence...\n"
          ]
        },
        {
          "output_type": "stream",
          "name": "stderr",
          "text": [
            "\r 40%|████      | 512/1268 [03:44<04:54,  2.57it/s]"
          ]
        },
        {
          "output_type": "stream",
          "name": "stdout",
          "text": [
            "Input: Và tôi nhận ra : một trong những thứ quan trọng nhất mà chúng ta tạo ra là kí ức .\n",
            "Result: And I realized : one of the most important things that we create is the very , especially .\n",
            "Inference finished! || Total inference time: 0:00:00.298906secs\n",
            "Preprocessing input sentence...\n",
            "Encoding input sentence...\n"
          ]
        },
        {
          "output_type": "stream",
          "name": "stderr",
          "text": [
            "\r 40%|████      | 513/1268 [03:44<04:52,  2.58it/s]"
          ]
        },
        {
          "output_type": "stream",
          "name": "stdout",
          "text": [
            "Input: Vì vậy tôi muốn chia sẻ ý tưởng nắm vai trò chủ động trong việc tạo ra ký ức .\n",
            "Result: So I want to share the idea of the stse the sts of the stycing the ststy .\n",
            "Inference finished! || Total inference time: 0:00:00.376821secs\n",
            "Preprocessing input sentence...\n",
            "Encoding input sentence...\n"
          ]
        },
        {
          "output_type": "stream",
          "name": "stderr",
          "text": [
            "\r 41%|████      | 514/1268 [03:45<04:59,  2.52it/s]"
          ]
        },
        {
          "output_type": "stream",
          "name": "stdout",
          "text": [
            "Input: Tôi không biết các bạn thế nào , nhưng ngoài 15 bức hình này , tôi không xuất hiện nhiều lắm trong những bức ảnh gia đình .\n",
            "Result: I don &apos;t know how you know , but I don &apos;t have this picture , I don &apos;t have a lot of my family .\n",
            "Inference finished! || Total inference time: 0:00:00.415788secs\n",
            "Preprocessing input sentence...\n",
            "Encoding input sentence...\n",
            "Input: Tôi luôn là người chụp ảnh .\n",
            "Result: I always have a picture .\n",
            "Inference finished! || Total inference time: 0:00:00.080493secs\n",
            "Preprocessing input sentence...\n",
            "Encoding input sentence...\n"
          ]
        },
        {
          "output_type": "stream",
          "name": "stderr",
          "text": [
            "\r 41%|████      | 516/1268 [03:46<04:31,  2.77it/s]"
          ]
        },
        {
          "output_type": "stream",
          "name": "stdout",
          "text": [
            "Input: Vì vậy hôm nay tôi muốn động viên tất cả mọi người hãy có mặt trong bức ảnh , và đừng ngần ngại bước tới chỗ một ai đó , và hỏi , &quot; Bạn chụp ảnh giúp chúng tôi nhé ? &quot;\n",
            "Result: So today I want to do all the people who have , and don &apos;t go to the picture , and don &apos;t have a way to go to someone else , and ask us to make it ? &quot;\n",
            "Inference finished! || Total inference time: 0:00:00.544940secs\n",
            "Preprocessing input sentence...\n",
            "Encoding input sentence...\n",
            "Input: Cảm ơn .\n",
            "Result: Thank you .\n",
            "Inference finished! || Total inference time: 0:00:00.056891secs\n",
            "Preprocessing input sentence...\n",
            "Encoding input sentence...\n"
          ]
        },
        {
          "output_type": "stream",
          "name": "stderr",
          "text": [
            "\r 41%|████      | 518/1268 [03:46<03:55,  3.19it/s]"
          ]
        },
        {
          "output_type": "stream",
          "name": "stdout",
          "text": [
            "Input: Tôi chưa bao giờ quên những lời bà tôi dặn dò - bà đã qua đời trong cảnh tha hương : &quot; Này cháu , hãy chống lại Gaddafi . Hãy chiến đấu chống lại hắn .\n",
            "Result: I never heard the answers -- she was going through the life of the war : &quot; Hey , let &apos;s go back to the war .\n",
            "Inference finished! || Total inference time: 0:00:00.414700secs\n",
            "Preprocessing input sentence...\n",
            "Encoding input sentence...\n"
          ]
        },
        {
          "output_type": "stream",
          "name": "stderr",
          "text": [
            "\r 41%|████      | 519/1268 [03:46<04:12,  2.96it/s]"
          ]
        },
        {
          "output_type": "stream",
          "name": "stdout",
          "text": [
            "Input: Nhưng đừng bao giờ biến thành một dạng người cách mạng kiểu Gaddafi . &quot;\n",
            "Result: But don &apos;t even get a series of the stys , &quot; They &apos;re going to be . &quot;\n",
            "Inference finished! || Total inference time: 0:00:00.415777secs\n",
            "Preprocessing input sentence...\n",
            "Encoding input sentence...\n"
          ]
        },
        {
          "output_type": "stream",
          "name": "stderr",
          "text": [
            "\r 41%|████      | 520/1268 [03:47<05:14,  2.38it/s]"
          ]
        },
        {
          "output_type": "stream",
          "name": "stdout",
          "text": [
            "Input: Gần hai năm đã trôi qua từ khi cuộc Khởi Nghĩa ở Libya nổ ra , được tiếp thêm sinh lực bởi những làn sóng động viên trên diện rộng từ những cuộc khởi nghĩa ở Tunisia và Ai Cập .\n",
            "Result: The two years of they were going through the stya , they were going to be , they were going to be more than the sts of the stse , the stya and the U.S.\n",
            "Inference finished! || Total inference time: 0:00:00.678410secs\n",
            "Preprocessing input sentence...\n",
            "Encoding input sentence...\n"
          ]
        },
        {
          "output_type": "stream",
          "name": "stderr",
          "text": [
            " 41%|████      | 522/1268 [03:49<07:03,  1.76it/s]"
          ]
        },
        {
          "output_type": "stream",
          "name": "stdout",
          "text": [
            "Input: Tôi tham gia vào các lực lượng trong và ngoài Libya để kêu gọi cho ngày của thịnh nộ và để khởi đầu một cuộc khởi nghĩa chống lại chế độ chuyên chế Gaddafi .\n",
            "Result: I &apos;ve been in the energy and they &apos;re going to call the &quot; to call the &quot; and to start a new talking about a sty-sted , and the sty &apos;re going to be going to be very , especially , especially especially , the sty , the sty &apos;re going to be , and the , the sty &apos;re-sty , the sty &apos;re , the , the , the ,\n",
            "Inference finished! || Total inference time: 0:00:01.604488secs\n",
            "Preprocessing input sentence...\n",
            "Encoding input sentence...\n",
            "Input: Và đó là một cuộc cách mạng vĩ đại .\n",
            "Result: And that &apos;s a great way .\n",
            "Inference finished! || Total inference time: 0:00:00.130925secs\n",
            "Preprocessing input sentence...\n",
            "Encoding input sentence...\n"
          ]
        },
        {
          "output_type": "stream",
          "name": "stderr",
          "text": [
            "\r 41%|████      | 523/1268 [03:49<06:44,  1.84it/s]"
          ]
        },
        {
          "output_type": "stream",
          "name": "stdout",
          "text": [
            "Input: Nam nữ thanh niên đứng đầu chiến tuyến đòi lật đổ chính quyền , giơ cao những biểu ngữ về tự do , phẩm giá , công bằng xã hội .\n",
            "Result: The women were the first of the war , they were going to be , they , they , they were , they were the social , the society .\n",
            "Inference finished! || Total inference time: 0:00:00.466615secs\n",
            "Preprocessing input sentence...\n",
            "Encoding input sentence...\n"
          ]
        },
        {
          "output_type": "stream",
          "name": "stderr",
          "text": [
            "\r 41%|████▏     | 524/1268 [03:50<05:51,  2.12it/s]"
          ]
        },
        {
          "output_type": "stream",
          "name": "stdout",
          "text": [
            "Input: Họ đã tỏ rõ một tấm gương về lòng quả cảm trong việc đối đầu với chế độ độc tài tàn bạo của Gaddafi .\n",
            "Result: They were very excited about a very , in the first way of the war with the war of the war .\n",
            "Inference finished! || Total inference time: 0:00:00.288571secs\n",
            "Preprocessing input sentence...\n",
            "Encoding input sentence...\n"
          ]
        },
        {
          "output_type": "stream",
          "name": "stderr",
          "text": [
            "\r 41%|████▏     | 525/1268 [03:51<07:24,  1.67it/s]"
          ]
        },
        {
          "output_type": "stream",
          "name": "stdout",
          "text": [
            "Input: Họ đã cho thấy một tình đoàn kết keo sơn trải từ đông sang tây và kéo dài đến tận miền nam .\n",
            "Result: They showed a series of a series of scted , from the series of the sty and the very long-sa-sa-sa-sa-sa-sa-sa-da .\n",
            "Inference finished! || Total inference time: 0:00:00.904593secs\n",
            "Preprocessing input sentence...\n",
            "Encoding input sentence...\n"
          ]
        },
        {
          "output_type": "stream",
          "name": "stderr",
          "text": [
            "\r 41%|████▏     | 526/1268 [03:51<07:30,  1.65it/s]"
          ]
        },
        {
          "output_type": "stream",
          "name": "stdout",
          "text": [
            "Input: Cuối cùng thì , sau 6 tháng chiến tranh ác liệt với tổng thương vong lên đến 50,000 người chúng tôi đã xoay sở giải phóng đất nước mình và lật đổ tên bạo chúa .\n",
            "Result: And finally , after six months of the war with the war that we were going to be coming to the series of water , and they were stse .\n",
            "Inference finished! || Total inference time: 0:00:00.613273secs\n",
            "Preprocessing input sentence...\n",
            "Encoding input sentence...\n"
          ]
        },
        {
          "output_type": "stream",
          "name": "stderr",
          "text": [
            "\r 42%|████▏     | 527/1268 [03:52<08:29,  1.45it/s]"
          ]
        },
        {
          "output_type": "stream",
          "name": "stdout",
          "text": [
            "Input: Tuy nhiên , Gaddafi đã để lại một gánh nặng , một di sản của chính thể chuyên chế , tham nhũng và những mầm mống chia rẽ .\n",
            "Result: However , they did , they were going to go to a , a very , a series of the stys , a stycing the stycing and the stys .\n",
            "Inference finished! || Total inference time: 0:00:00.871159secs\n",
            "Preprocessing input sentence...\n",
            "Encoding input sentence...\n"
          ]
        },
        {
          "output_type": "stream",
          "name": "stderr",
          "text": [
            "\r 42%|████▏     | 528/1268 [03:53<08:38,  1.43it/s]"
          ]
        },
        {
          "output_type": "stream",
          "name": "stdout",
          "text": [
            "Input: Trong suốt bốn thập kỉ , nền chuyên chế tàn bạo của Gaddafi đã phá huỷ cơ sở hạ tầng cũng như nền văn hoá và nền tảng đạo đức của xã hội Libya .\n",
            "Result: In the last four years , the stse of the styen , they &apos;ve been taken the stys of the culture of the social culture and the social society .\n",
            "Inference finished! || Total inference time: 0:00:00.718358secs\n",
            "Preprocessing input sentence...\n",
            "Encoding input sentence...\n"
          ]
        },
        {
          "output_type": "stream",
          "name": "stderr",
          "text": [
            "\r 42%|████▏     | 529/1268 [03:54<08:48,  1.40it/s]"
          ]
        },
        {
          "output_type": "stream",
          "name": "stdout",
          "text": [
            "Input: Nhận thức được sự huỷ hoại và những thách thức , tôi cũng như bao nhiêu phụ nữ khác , hăm hở tái xây dựng xã hội dân sự của Libya , kêu gọi sự toàn diện và quá trình chuyển tiếp sang nền dân chủ và hoà giải quốc gia .\n",
            "Result: They are sted and the challenges , I also , many women , they have also , the social society of the global society , the global , the global government and the government .\n",
            "Inference finished! || Total inference time: 0:00:00.741879secs\n",
            "Preprocessing input sentence...\n",
            "Encoding input sentence...\n"
          ]
        },
        {
          "output_type": "stream",
          "name": "stderr",
          "text": [
            "\r 42%|████▏     | 530/1268 [03:54<08:20,  1.47it/s]"
          ]
        },
        {
          "output_type": "stream",
          "name": "stdout",
          "text": [
            "Input: Gần 200 tổ chức được thiết lập tại Benghazi trong suốt thời gian đó và ngay sau Gaddafi sụp đổ -- gần 300 tại Tripoli .\n",
            "Result: The 200 years of 2008 is built in the last year and after they were going to be in the middle of the D.S. -- in the U.S.\n",
            "Inference finished! || Total inference time: 0:00:00.578131secs\n",
            "Preprocessing input sentence...\n",
            "Encoding input sentence...\n"
          ]
        },
        {
          "output_type": "stream",
          "name": "stderr",
          "text": [
            "\r 42%|████▏     | 531/1268 [03:55<09:33,  1.28it/s]"
          ]
        },
        {
          "output_type": "stream",
          "name": "stdout",
          "text": [
            "Input: Sau 33 năm trời tha hương , tôi trở lại Libya , với một lòng nhiệt huyết độc nhất , tôi bắt đầu tổ chức các lớp huấn luyện nâng cao năng lực , phát triển con người về kỹ năng lãnh đạo .\n",
            "Result: After , they &apos;ve been going to be the last , I started a very most , with a most , I started to start the very high-stic , the series of the sty , the stying the power of the power of the power of the power .\n",
            "Inference finished! || Total inference time: 0:00:01.004135secs\n",
            "Preprocessing input sentence...\n",
            "Encoding input sentence...\n"
          ]
        },
        {
          "output_type": "stream",
          "name": "stderr",
          "text": [
            "\r 42%|████▏     | 532/1268 [03:56<09:16,  1.32it/s]"
          ]
        },
        {
          "output_type": "stream",
          "name": "stdout",
          "text": [
            "Input: Cùng một nhóm phụ nữ tuyệt vời , tôi đồng sáng lập Cương Lĩnh Phụ Nữ Libya vì Hoà Bình một phong trào của phụ nữ , các nhà lãnh đạo từ mọi thành phần khác nhau trong xã hội , để vận động hành lang cho sự trao quyền chính trị xã hội cho phụ nữ và để vận động cho quyền của chúng tôi được bình đẳng tham gia xây dựng nền dân chủ và hoà bình .\n",
            "Result: The group of women , I went to the SAAA , because the A.S. , the women of the women from different social , from the society to the society to help our society and to build the healthy and the government for our health and our health .\n",
            "Inference finished! || Total inference time: 0:00:00.693485secs\n",
            "Preprocessing input sentence...\n",
            "Encoding input sentence...\n"
          ]
        },
        {
          "output_type": "stream",
          "name": "stderr",
          "text": [
            "\r 42%|████▏     | 533/1268 [03:56<08:44,  1.40it/s]"
          ]
        },
        {
          "output_type": "stream",
          "name": "stdout",
          "text": [
            "Input: Tôi đã ở trong hoàn cảnh vô cùng khó khăn giai đoạn tiền bầu cử , một môi trường ngày càng phân cực , một môi trường được thành hình bởi quan điểm chính trị ích kỷ đầy tính thống trị và loại trừ .\n",
            "Result: I was in the same case , they were very hard to get the money , also a huge environment , a huge environment , also because the value of the political , and the value of the value of the value .\n",
            "Inference finished! || Total inference time: 0:00:00.610994secs\n",
            "Preprocessing input sentence...\n",
            "Encoding input sentence...\n"
          ]
        },
        {
          "output_type": "stream",
          "name": "stderr",
          "text": [
            "\r 42%|████▏     | 534/1268 [03:58<12:02,  1.02it/s]"
          ]
        },
        {
          "output_type": "stream",
          "name": "stdout",
          "text": [
            "Input: Tôi dẫn đầu một sáng kiến của Cương Lĩnh Phụ Nữ Libya vì Hoà Bình để vận động hành lang cho một luật bầu cử mang tính toàn diện hơn , luật mà có thể mang đến cho mọi công dân , dù họ xuất thân ra sao , quyền được bầu và tranh cử , và quan trọng nhất là đặt quy định cho những đảng chính trị phải đan xen các ứng cử viên nam và nữ theo cả chiều dọc và chiều ngang trong danh sách của họ tạo ra danh sách hình khoá kéo .\n",
            "Result: I was the first of the sty of the C.S. C. Because they were going to make a styond the sty , but they can make the power of the , they can make the , they were , they were going to make the best , and they were , they were , they were going to make the best , and they were they were they were , and they were they were they were they were retststs of they were , and they were to make they were they were ,\n",
            "Inference finished! || Total inference time: 0:00:01.609934secs\n",
            "Preprocessing input sentence...\n",
            "Encoding input sentence...\n"
          ]
        },
        {
          "output_type": "stream",
          "name": "stderr",
          "text": [
            "\r 42%|████▏     | 535/1268 [03:58<09:33,  1.28it/s]"
          ]
        },
        {
          "output_type": "stream",
          "name": "stdout",
          "text": [
            "Input: Cuối cùng thì sáng kiến của chúng tôi cũng đã được tiếp nhận và thành công .\n",
            "Result: And the final end of our own , we also have been , and we &apos;ve got to be done .\n",
            "Inference finished! || Total inference time: 0:00:00.303964secs\n",
            "Preprocessing input sentence...\n",
            "Encoding input sentence...\n"
          ]
        },
        {
          "output_type": "stream",
          "name": "stderr",
          "text": [
            "\r 42%|████▏     | 536/1268 [03:59<07:48,  1.56it/s]"
          ]
        },
        {
          "output_type": "stream",
          "name": "stdout",
          "text": [
            "Input: Phụ nữ thắng 17,5 phần trăm trong Quốc Hội Nhà Nước ở những cuộc bầu cử đầu tiên trong vòng 52 năm trở lại đây .\n",
            "Result: The women who were going to kill the United States in the first year of the first year in the last year .\n",
            "Inference finished! || Total inference time: 0:00:00.302476secs\n",
            "Preprocessing input sentence...\n",
            "Encoding input sentence...\n"
          ]
        },
        {
          "output_type": "stream",
          "name": "stderr",
          "text": [
            "\r 42%|████▏     | 537/1268 [03:59<08:04,  1.51it/s]"
          ]
        },
        {
          "output_type": "stream",
          "name": "stdout",
          "text": [
            "Input: Tuy nhiên , từng chút từng chút một , sự hưng phấn từ các cuộc bầu cử và của cuộc cách mạng nhìn chung biến mất dần -- khi từng ngày qua đi chúng tôi thức dậy với các tin tức về bạo lực .\n",
            "Result: However , a little bit a little bit of a little bit , a sty-sted from the sts of the revolution and looking at the planet -- when we &apos;re going to go through the power of the power of the power of the power .\n",
            "Inference finished! || Total inference time: 0:00:00.708675secs\n",
            "Preprocessing input sentence...\n",
            "Encoding input sentence...\n"
          ]
        },
        {
          "output_type": "stream",
          "name": "stderr",
          "text": [
            "\r 42%|████▏     | 538/1268 [04:00<07:03,  1.72it/s]"
          ]
        },
        {
          "output_type": "stream",
          "name": "stdout",
          "text": [
            "Input: Một ngày chúng tôi thức giấc với tin tức về sự báng bổ các đền thờ cổ và lăng mộ của người Sufi .\n",
            "Result: One day we &apos;ve got to believe the information about the sesty and they &apos;re going to the humans .\n",
            "Inference finished! || Total inference time: 0:00:00.381535secs\n",
            "Preprocessing input sentence...\n",
            "Encoding input sentence...\n"
          ]
        },
        {
          "output_type": "stream",
          "name": "stderr",
          "text": [
            "\r 43%|████▎     | 539/1268 [04:00<06:51,  1.77it/s]"
          ]
        },
        {
          "output_type": "stream",
          "name": "stdout",
          "text": [
            "Input: Ngày khác chúng tôi thức dậy với tin tức về vụ tàn sát đại sứ Mỹ và vụ tấn công vào lãnh sự quán .\n",
            "Result: We &apos;ve got to get the wrong , the United States of the United States and the government to the styted in the very , to the sty .\n",
            "Inference finished! || Total inference time: 0:00:00.523243secs\n",
            "Preprocessing input sentence...\n",
            "Encoding input sentence...\n"
          ]
        },
        {
          "output_type": "stream",
          "name": "stderr",
          "text": [
            "\r 43%|████▎     | 540/1268 [04:01<06:25,  1.89it/s]"
          ]
        },
        {
          "output_type": "stream",
          "name": "stdout",
          "text": [
            "Input: Ngày khác nữa chúng tôi thức dậy với tin về vụ ám sát các sỹ quan quân đội .\n",
            "Result: We &apos;re going to get the information about they &apos;re going to be talking about they &apos;re going to be the team of the team .\n",
            "Inference finished! || Total inference time: 0:00:00.442022secs\n",
            "Preprocessing input sentence...\n",
            "Encoding input sentence...\n"
          ]
        },
        {
          "output_type": "stream",
          "name": "stderr",
          "text": [
            "\r 43%|████▎     | 541/1268 [04:01<06:23,  1.89it/s]"
          ]
        },
        {
          "output_type": "stream",
          "name": "stdout",
          "text": [
            "Input: Và mỗi ngày , mỗi ngày chúng tôi thức dậy với luật lệ của lực lượng dân quân và những sự vi phạm liên tiếp của họ về quyền con người với tù nhân cũng như sự không tôn trọng các quy định trong luật pháp của họ .\n",
            "Result: And every day , every day we &apos;ve got to go to the power of the government and they &apos;re going to be the power of the people who are not like to the government of the government .\n",
            "Inference finished! || Total inference time: 0:00:00.518601secs\n",
            "Preprocessing input sentence...\n",
            "Encoding input sentence...\n"
          ]
        },
        {
          "output_type": "stream",
          "name": "stderr",
          "text": [
            "\r 43%|████▎     | 542/1268 [04:02<06:31,  1.86it/s]"
          ]
        },
        {
          "output_type": "stream",
          "name": "stdout",
          "text": [
            "Input: Xã hội của chúng tôi , thành hình bởi các tư duy cách mạng , trở nên phân cực hơn và đã rời xa các lý tưởng , các nguyên tắc về tự do , phẩm giá , bình đẳng xã hội mà chúng tôi theo đuổi lúc ban đầu .\n",
            "Result: Our society , because the system has been , because , more , more important , the reasons , the social , the social , the social society , they are at the end .\n",
            "Inference finished! || Total inference time: 0:00:00.558107secs\n",
            "Preprocessing input sentence...\n",
            "Encoding input sentence...\n"
          ]
        },
        {
          "output_type": "stream",
          "name": "stderr",
          "text": [
            "\r 43%|████▎     | 543/1268 [04:02<06:46,  1.78it/s]"
          ]
        },
        {
          "output_type": "stream",
          "name": "stdout",
          "text": [
            "Input: Tính không dung thứ , loại trừ và báo thù trở thành biểu tượng của thời khởi nghĩa .\n",
            "Result: They don &apos;t have , but they &apos;re going to be a styde , and they &apos;re going to be a sty-sted by the time .\n",
            "Inference finished! || Total inference time: 0:00:00.605249secs\n",
            "Preprocessing input sentence...\n",
            "Encoding input sentence...\n"
          ]
        },
        {
          "output_type": "stream",
          "name": "stderr",
          "text": [
            "\r 43%|████▎     | 544/1268 [04:03<07:06,  1.70it/s]"
          ]
        },
        {
          "output_type": "stream",
          "name": "stdout",
          "text": [
            "Input: Tôi tới đây không có ý định truyền cảm hứng cho bạn với câu chuyện thành công trong việc tạo ra danh sách hình khoá kéo và các cuộc bầu cử .\n",
            "Result: I &apos;m going to have here to be a very interested with you the story of the book that &apos;s created the book and they &apos;re going to be the sts of the ststic .\n",
            "Inference finished! || Total inference time: 0:00:00.647442secs\n",
            "Preprocessing input sentence...\n",
            "Encoding input sentence...\n"
          ]
        },
        {
          "output_type": "stream",
          "name": "stderr",
          "text": [
            " 43%|████▎     | 546/1268 [04:04<05:02,  2.39it/s]"
          ]
        },
        {
          "output_type": "stream",
          "name": "stdout",
          "text": [
            "Input: Mà tôi đến đây để thú nhận rằng chúng tôi - toàn bộ đất nước đã lựa chọn sai lầm , đã quyết định sai lầm .\n",
            "Result: And I &apos;m going to get here to realize that we &apos;ve got the country -- they &apos;ve got the wrong , the wrong choice .\n",
            "Inference finished! || Total inference time: 0:00:00.422251secs\n",
            "Preprocessing input sentence...\n",
            "Encoding input sentence...\n",
            "Input: Chúng tôi đã không ưu tiên quyền công dân .\n",
            "Result: We didn &apos;t have the Internet .\n",
            "Inference finished! || Total inference time: 0:00:00.126338secs\n",
            "Preprocessing input sentence...\n",
            "Encoding input sentence...\n"
          ]
        },
        {
          "output_type": "stream",
          "name": "stderr",
          "text": [
            "\r 43%|████▎     | 547/1268 [04:04<04:54,  2.45it/s]"
          ]
        },
        {
          "output_type": "stream",
          "name": "stdout",
          "text": [
            "Input: Vì những cuộc bầu cử không đem lại hoà bình , sự ổn định hay an ninh cho Libya .\n",
            "Result: Because the governments are not going to be , the sty or they &apos;re going to be the U.S.\n",
            "Inference finished! || Total inference time: 0:00:00.375808secs\n",
            "Preprocessing input sentence...\n",
            "Encoding input sentence...\n"
          ]
        },
        {
          "output_type": "stream",
          "name": "stderr",
          "text": [
            " 43%|████▎     | 549/1268 [04:05<03:46,  3.17it/s]"
          ]
        },
        {
          "output_type": "stream",
          "name": "stdout",
          "text": [
            "Input: Liệu danh sách hình khoá kéo và sự dan xen giữa các ứng cử viên nam và nữ đã đem lại hoà bình và hoà giải cho đất nước chăng ?\n",
            "Result: Can the book and the sts of the sts of the women and women who have been going to be the country ?\n",
            "Inference finished! || Total inference time: 0:00:00.373291secs\n",
            "Preprocessing input sentence...\n",
            "Encoding input sentence...\n",
            "Input: Không , không hề .\n",
            "Result: No , no , no .\n",
            "Inference finished! || Total inference time: 0:00:00.113446secs\n",
            "Preprocessing input sentence...\n",
            "Encoding input sentence...\n"
          ]
        },
        {
          "output_type": "stream",
          "name": "stderr",
          "text": [
            "\r 43%|████▎     | 550/1268 [04:05<03:23,  3.52it/s]"
          ]
        },
        {
          "output_type": "stream",
          "name": "stdout",
          "text": [
            "Input: Vậy cuối cùng nó đã giúp ích gì ?\n",
            "Result: So the last year , what does it help ?\n",
            "Inference finished! || Total inference time: 0:00:00.202288secs\n",
            "Preprocessing input sentence...\n",
            "Encoding input sentence...\n"
          ]
        },
        {
          "output_type": "stream",
          "name": "stderr",
          "text": [
            "\r 43%|████▎     | 551/1268 [04:05<04:27,  2.68it/s]"
          ]
        },
        {
          "output_type": "stream",
          "name": "stdout",
          "text": [
            "Input: Tại sao xã hội chúng tôi tiếp tục là một xã hội phân cực và thống trị bởi những nền chính trị ích kỷ của sự thống trị và loại trừ , bởi cả hai giới nam và nữ ?\n",
            "Result: Why is our social society is a social and the political governments , because of the two and they are , because they are two and women ?\n",
            "Inference finished! || Total inference time: 0:00:00.573195secs\n",
            "Preprocessing input sentence...\n",
            "Encoding input sentence...\n"
          ]
        },
        {
          "output_type": "stream",
          "name": "stderr",
          "text": [
            "\r 44%|████▎     | 552/1268 [04:06<05:35,  2.13it/s]"
          ]
        },
        {
          "output_type": "stream",
          "name": "stdout",
          "text": [
            "Input: Có thể sự thiếu sót không chỉ là về mặt bình quyền của phụ nữ mà còn là những giá trị tính nữ về lòng trắc ẩn , sự khoan dung , và tính toàn diện .\n",
            "Result: Maybe not only about the right of the poor women who are the political value of the , the sty , the sty , the sty , and the sty .\n",
            "Inference finished! || Total inference time: 0:00:00.685747secs\n",
            "Preprocessing input sentence...\n",
            "Encoding input sentence...\n"
          ]
        },
        {
          "output_type": "stream",
          "name": "stderr",
          "text": [
            "\r 44%|████▎     | 553/1268 [04:07<06:38,  1.79it/s]"
          ]
        },
        {
          "output_type": "stream",
          "name": "stdout",
          "text": [
            "Input: Xã hội của chúng tôi cần một cuộc đối thoại cấp quốc gia và sự đồng lòng xây dựng hơn là cần những cuộc bầu cử điều mà , chỉ làm tăng sự phân cực và chia rẽ hơn thôi .\n",
            "Result: Our society needed a global company and the government needs more than the sturing , which is just they &apos;re going to be , and they &apos;re going to be more expensive .\n",
            "Inference finished! || Total inference time: 0:00:00.750215secs\n",
            "Preprocessing input sentence...\n",
            "Encoding input sentence...\n"
          ]
        },
        {
          "output_type": "stream",
          "name": "stderr",
          "text": [
            "\r 44%|████▎     | 554/1268 [04:07<06:09,  1.93it/s]"
          ]
        },
        {
          "output_type": "stream",
          "name": "stdout",
          "text": [
            "Input: Xã hội của chúng tôi cần những sự đại diện có phẩm chất từ nữ giới hơn là cần những con số và số lượng về sự đại diện mang tính nữ giới .\n",
            "Result: Our society need to be more powerful than women , more than the number of people who need to be the number of women .\n",
            "Inference finished! || Total inference time: 0:00:00.412179secs\n",
            "Preprocessing input sentence...\n",
            "Encoding input sentence...\n"
          ]
        },
        {
          "output_type": "stream",
          "name": "stderr",
          "text": [
            "\r 44%|████▍     | 555/1268 [04:08<06:05,  1.95it/s]"
          ]
        },
        {
          "output_type": "stream",
          "name": "stdout",
          "text": [
            "Input: Chúng tôi cần dừng việc hành động như những sứ giả cuồng nộ , dừng việc ủng hộ những ngày cuồng nộ .\n",
            "Result: We need to stop the sts , trying to be , trying to be , to try to be the day of the day .\n",
            "Inference finished! || Total inference time: 0:00:00.492382secs\n",
            "Preprocessing input sentence...\n",
            "Encoding input sentence...\n"
          ]
        },
        {
          "output_type": "stream",
          "name": "stderr",
          "text": [
            "\r 44%|████▍     | 556/1268 [04:08<06:35,  1.80it/s]"
          ]
        },
        {
          "output_type": "stream",
          "name": "stdout",
          "text": [
            "Input: Chúng tôi cần bắt đầu hành động như những sứ giả của lòng trắc ẩn và khoan dung .\n",
            "Result: We need to start the sts of the stys of the stysests of the styse and the stys .\n",
            "Inference finished! || Total inference time: 0:00:00.644213secs\n",
            "Preprocessing input sentence...\n",
            "Encoding input sentence...\n"
          ]
        },
        {
          "output_type": "stream",
          "name": "stderr",
          "text": [
            "\r 44%|████▍     | 557/1268 [04:09<08:27,  1.40it/s]"
          ]
        },
        {
          "output_type": "stream",
          "name": "stdout",
          "text": [
            "Input: Chúng tôi cần phát triển một cuộc đàm luận mang tính nữ không chỉ vinh danh mà còn phải thực hành sự khoan dung thay vì thù hằn , cộng tác thay vì cạnh tranh , bao hàm thay vì loại trừ .\n",
            "Result: We need to develop a very , a woman who don &apos;t have to be also , but they have to be the very , because of the very , because of the very , because of the very , because of the very , instead of the same .\n",
            "Inference finished! || Total inference time: 0:00:01.073540secs\n",
            "Preprocessing input sentence...\n",
            "Encoding input sentence...\n"
          ]
        },
        {
          "output_type": "stream",
          "name": "stderr",
          "text": [
            "\r 44%|████▍     | 558/1268 [04:11<11:36,  1.02it/s]"
          ]
        },
        {
          "output_type": "stream",
          "name": "stdout",
          "text": [
            "Input: Đây là những ý tưởng cần thiết mà một đất nước đã bị chiến tranh tàn phá như Libya tuyệt đối cần để có thể gặt hái được hoà bình .\n",
            "Result: This is the idea that a country that has been , a war-sa-da-sa-da-da-sa-da-sted , which is , to have a very very , to be very very , to be very very , to be very , to be very very very , to they &apos;re very very , to be the very very , to be the very , to be the very very very very , to be the , to be the very very very very very \n",
            "Inference finished! || Total inference time: 0:00:01.592129secs\n",
            "Preprocessing input sentence...\n",
            "Encoding input sentence...\n"
          ]
        },
        {
          "output_type": "stream",
          "name": "stderr",
          "text": [
            " 44%|████▍     | 560/1268 [04:12<07:10,  1.64it/s]"
          ]
        },
        {
          "output_type": "stream",
          "name": "stdout",
          "text": [
            "Input: Bởi vì hoà bình như thuật giả kim , nó cần đến sự hoà quyện , sự đan xen giữa các quan điểm nam và nữ .\n",
            "Result: Because they &apos;re like , it needed to go to the very , the very , the styts between women and women .\n",
            "Inference finished! || Total inference time: 0:00:00.450236secs\n",
            "Preprocessing input sentence...\n",
            "Encoding input sentence...\n",
            "Input: Đó mới là cái khoá kéo thật sự .\n",
            "Result: It &apos;s new .\n",
            "Inference finished! || Total inference time: 0:00:00.102981secs\n",
            "Preprocessing input sentence...\n",
            "Encoding input sentence...\n"
          ]
        },
        {
          "output_type": "stream",
          "name": "stderr",
          "text": [
            "\r 44%|████▍     | 561/1268 [04:12<05:41,  2.07it/s]"
          ]
        },
        {
          "output_type": "stream",
          "name": "stdout",
          "text": [
            "Input: Và chúng tôi cần thiết lập yếu tố sống còn đó trước khi thực hiện mặt chính trị - xã hội .\n",
            "Result: And we need to create the very , before the social society .\n",
            "Inference finished! || Total inference time: 0:00:00.183188secs\n",
            "Preprocessing input sentence...\n",
            "Encoding input sentence...\n"
          ]
        },
        {
          "output_type": "stream",
          "name": "stderr",
          "text": [
            "\r 44%|████▍     | 562/1268 [04:12<06:00,  1.96it/s]"
          ]
        },
        {
          "output_type": "stream",
          "name": "stdout",
          "text": [
            "Input: Theo một đoạn thơ trong Kinh Koran &quot; Salam &quot; -- hoà bình -- &quot; là từ của Chúa Trời đầy lòng khoan dung , raheem . &quot;\n",
            "Result: In a very old word &quot; &quot; -- &quot; -- &quot; is &quot; from the God &apos;s &quot; , &quot; , &quot; , &quot; ! &quot;\n",
            "Inference finished! || Total inference time: 0:00:00.569642secs\n",
            "Preprocessing input sentence...\n",
            "Encoding input sentence...\n"
          ]
        },
        {
          "output_type": "stream",
          "name": "stderr",
          "text": [
            "\r 44%|████▍     | 563/1268 [04:13<07:59,  1.47it/s]"
          ]
        },
        {
          "output_type": "stream",
          "name": "stdout",
          "text": [
            "Input: Tiếp theo , từ &quot; raheem &quot; được biết đến trong các truyền thống của Abraham có chung nguồn gốc với tiếng Ả Rập là &quot; rahem &quot; -- tử cung-- biểu hiện cho tính nữ - tình mẹ bao bọc lấy nhân loại nơi mà đàn ông và đàn bà , từ mọi bộ lạc , mọi dân tộc , được sinh ra .\n",
            "Result: The next next , &quot; They &apos;ve got to know the World War &quot; is the &quot; is &quot; -- &quot; -- &quot; -- &quot; -- &quot; and the men &quot; and they &apos;re going to be in the , and everybody &quot; and everybody &apos;s going to be , and everybody &quot; and the st .\n",
            "Inference finished! || Total inference time: 0:00:01.067941secs\n",
            "Preprocessing input sentence...\n",
            "Encoding input sentence...\n"
          ]
        },
        {
          "output_type": "stream",
          "name": "stderr",
          "text": [
            "\r 44%|████▍     | 564/1268 [04:15<09:25,  1.25it/s]"
          ]
        },
        {
          "output_type": "stream",
          "name": "stdout",
          "text": [
            "Input: Và bởi vì tử cung bao bọc hoàn toàn phôi thai đang phát triển trong lòng nó , ma trận thiêng liêng của tình thương nuôi dưỡng toàn bộ sự sống đó .\n",
            "Result: And because the scause they &apos;re going to be , it &apos;s going to be going to be , it &apos;s going to be , and it &apos;s going to be , because it &apos;s very , because it &apos;s very , and because it &apos;s , and they &apos;s because of life .\n",
            "Inference finished! || Total inference time: 0:00:01.085390secs\n",
            "Preprocessing input sentence...\n",
            "Encoding input sentence...\n"
          ]
        },
        {
          "output_type": "stream",
          "name": "stderr",
          "text": [
            "\r 45%|████▍     | 565/1268 [04:15<07:55,  1.48it/s]"
          ]
        },
        {
          "output_type": "stream",
          "name": "stdout",
          "text": [
            "Input: Vì thế chúng ta được dạy rằng &quot; Sự khoan dung của ta bao trùm vạn vật &quot; .\n",
            "Result: So we &apos;re going to learn that &quot; our sty &quot; is , &quot; the number of species .\n",
            "Inference finished! || Total inference time: 0:00:00.372890secs\n",
            "Preprocessing input sentence...\n",
            "Encoding input sentence...\n"
          ]
        },
        {
          "output_type": "stream",
          "name": "stderr",
          "text": [
            "\r 45%|████▍     | 566/1268 [04:15<06:50,  1.71it/s]"
          ]
        },
        {
          "output_type": "stream",
          "name": "stdout",
          "text": [
            "Input: Vì thế chúng ta được dạy rằng &quot; Sự khoan dung của ta chiến thắng cơn phẫn nộ &quot; .\n",
            "Result: So we &apos;re going to learn that &quot; Our sty &apos;re going to win the war . &quot;\n",
            "Inference finished! || Total inference time: 0:00:00.362630secs\n",
            "Preprocessing input sentence...\n",
            "Encoding input sentence...\n"
          ]
        },
        {
          "output_type": "stream",
          "name": "stderr",
          "text": [
            "\r 45%|████▍     | 567/1268 [04:16<05:51,  1.99it/s]"
          ]
        },
        {
          "output_type": "stream",
          "name": "stdout",
          "text": [
            "Input: Cầu cho mỗi chúng ta được ân sủng của lòng khoan dung .\n",
            "Result: They &apos;re going to be the styde of the styst .\n",
            "Inference finished! || Total inference time: 0:00:00.302366secs\n",
            "Preprocessing input sentence...\n",
            "Encoding input sentence...\n",
            "Input: Vỗ tay Cám ơn\n",
            "Result: Thank you .\n",
            "Inference finished! || Total inference time: 0:00:00.053677secs\n",
            "Preprocessing input sentence...\n",
            "Encoding input sentence...\n"
          ]
        },
        {
          "output_type": "stream",
          "name": "stderr",
          "text": [
            "\r 45%|████▍     | 569/1268 [04:16<04:01,  2.89it/s]"
          ]
        },
        {
          "output_type": "stream",
          "name": "stdout",
          "text": [
            "Input: 5 năm trước , tôi đã trải qua 1 chuyện có chút giống như Alice ở Xứ thần tiên .\n",
            "Result: So , five years ago , I was a little bit like a little bit like the CS .\n",
            "Inference finished! || Total inference time: 0:00:00.262174secs\n",
            "Preprocessing input sentence...\n",
            "Encoding input sentence...\n"
          ]
        },
        {
          "output_type": "stream",
          "name": "stderr",
          "text": [
            "\r 45%|████▍     | 570/1268 [04:16<03:47,  3.07it/s]"
          ]
        },
        {
          "output_type": "stream",
          "name": "stdout",
          "text": [
            "Input: Trường Penn State yêu cầu tôi , một giáo viên dạy giao tiếp dạy một khoá giao tiếp cho sinh viên kỹ thuật .\n",
            "Result: The Sildy , a teacher , a teacher who was teaching a student for a student .\n",
            "Inference finished! || Total inference time: 0:00:00.259492secs\n",
            "Preprocessing input sentence...\n",
            "Encoding input sentence...\n",
            "Input: Tôi đã rất sợ .\n",
            "Result: I was very excited .\n",
            "Inference finished! || Total inference time: 0:00:00.082962secs\n",
            "Preprocessing input sentence...\n",
            "Encoding input sentence...\n"
          ]
        },
        {
          "output_type": "stream",
          "name": "stderr",
          "text": [
            "\r 45%|████▌     | 572/1268 [04:17<03:18,  3.51it/s]"
          ]
        },
        {
          "output_type": "stream",
          "name": "stdout",
          "text": [
            "Input: Thực sự sợ . Sợ những sinh viên to đầu , những quyển sách to đùng và cả những ngôn từ lạ lẫm .\n",
            "Result: In fact , they &apos;re very big . They are the big , they &apos;re all from the others .\n",
            "Inference finished! || Total inference time: 0:00:00.358698secs\n",
            "Preprocessing input sentence...\n",
            "Encoding input sentence...\n"
          ]
        },
        {
          "output_type": "stream",
          "name": "stderr",
          "text": [
            "\r 45%|████▌     | 573/1268 [04:17<03:54,  2.97it/s]"
          ]
        },
        {
          "output_type": "stream",
          "name": "stdout",
          "text": [
            "Input: Nhưng khi những cuộc trao đổi mở ra , Tôi đã trải nghiệm điều mà hẳn Alice cũng trải qua khi cô bé rơi xuống hang thỏ và phát hiện cánh cửa dẫn đến 1 thế giới mới .\n",
            "Result: But when they go , I was going to be able to create , I was going to experience that she was very long as she was going to be across the world and the new world .\n",
            "Inference finished! || Total inference time: 0:00:00.505308secs\n",
            "Preprocessing input sentence...\n",
            "Encoding input sentence...\n"
          ]
        },
        {
          "output_type": "stream",
          "name": "stderr",
          "text": [
            "\r 45%|████▌     | 574/1268 [04:18<04:32,  2.54it/s]"
          ]
        },
        {
          "output_type": "stream",
          "name": "stdout",
          "text": [
            "Input: Đó chỉ là những gì tôi cảm nhận khi trao đổi với sinh viên . Tôi kinh ngạc trước những ý tưởng của họ , và tôi muốn những người khác cũng được trải nghiệm xứ sở thần tiên này .\n",
            "Result: It &apos;s just what I feel when I felt , I &apos;m going to be a lot of the idea of their ideas , and I want to have other people who are going to be also experienced .\n",
            "Inference finished! || Total inference time: 0:00:00.559938secs\n",
            "Preprocessing input sentence...\n",
            "Encoding input sentence...\n"
          ]
        },
        {
          "output_type": "stream",
          "name": "stderr",
          "text": [
            "\r 45%|████▌     | 575/1268 [04:18<04:01,  2.87it/s]"
          ]
        },
        {
          "output_type": "stream",
          "name": "stdout",
          "text": [
            "Input: Tôi tin rằng chìa khoá mở cánh cửa đến thế giới đó chính là khả năng giao tiếp tốt .\n",
            "Result: I believe that they &apos;re the left to the world is the good .\n",
            "Inference finished! || Total inference time: 0:00:00.212415secs\n",
            "Preprocessing input sentence...\n",
            "Encoding input sentence...\n"
          ]
        },
        {
          "output_type": "stream",
          "name": "stderr",
          "text": [
            "\r 45%|████▌     | 576/1268 [04:18<03:43,  3.09it/s]"
          ]
        },
        {
          "output_type": "stream",
          "name": "stdout",
          "text": [
            "Input: Chúng ta vô cùng cần giao tiếp hiệu quả với những nhà khoa học và kỹ sư để có thể thay đổi thế giới .\n",
            "Result: We are very , we needed to make the scientists and learn to change the world .\n",
            "Inference finished! || Total inference time: 0:00:00.248764secs\n",
            "Preprocessing input sentence...\n",
            "Encoding input sentence...\n"
          ]
        },
        {
          "output_type": "stream",
          "name": "stderr",
          "text": [
            "\r 46%|████▌     | 577/1268 [04:19<05:35,  2.06it/s]"
          ]
        },
        {
          "output_type": "stream",
          "name": "stdout",
          "text": [
            "Input: Nhà khoa học và kỹ sư là những người đang đương đầu với các thách thức lớn nhất , từ năng lượng tới môi trường và y tế , và còn nhiều nữa , Nếu ta không biết và không hiểu điều đó , thì việc sẽ không xong , và tôi tin trách nhiệm của chúng ta , những người không chuyên , là tương tác với họ .\n",
            "Result: The science and they are the most important of the biggest challenges , from the environment , and many of the environment , and we don &apos;t know , and we don &apos;t know , and we don &apos;t know , and we don &apos;t know what they &apos;re not going to do with them .\n",
            "Inference finished! || Total inference time: 0:00:00.895415secs\n",
            "Preprocessing input sentence...\n",
            "Encoding input sentence...\n"
          ]
        },
        {
          "output_type": "stream",
          "name": "stderr",
          "text": [
            "\r 46%|████▌     | 578/1268 [04:19<05:02,  2.28it/s]"
          ]
        },
        {
          "output_type": "stream",
          "name": "stdout",
          "text": [
            "Input: Nhưng những cuộc trao đổi hiệu quả không thể diễn ra nếu các nhà khoa học và kỹ sư không mời ta vào xứ sở của họ .\n",
            "Result: But they &apos;re going to make the work if the scientists and the scientists don &apos;t buy their own .\n",
            "Inference finished! || Total inference time: 0:00:00.315919secs\n",
            "Preprocessing input sentence...\n",
            "Encoding input sentence...\n"
          ]
        },
        {
          "output_type": "stream",
          "name": "stderr",
          "text": [
            "\r 46%|████▌     | 579/1268 [04:20<04:26,  2.58it/s]"
          ]
        },
        {
          "output_type": "stream",
          "name": "stdout",
          "text": [
            "Input: Hỡi các nhà khoa học và kỹ sư , hãy tám chuyện phiếm với chúng tôi .\n",
            "Result: The science and they , let &apos;s been six , let us .\n",
            "Inference finished! || Total inference time: 0:00:00.250539secs\n",
            "Preprocessing input sentence...\n",
            "Encoding input sentence...\n"
          ]
        },
        {
          "output_type": "stream",
          "name": "stderr",
          "text": [
            " 46%|████▌     | 581/1268 [04:22<07:48,  1.47it/s]"
          ]
        },
        {
          "output_type": "stream",
          "name": "stdout",
          "text": [
            "Input: Tôi muốn chia sẻ vài bí quyết để làm được thế để chắc rằng chúng tôi nhận thấy khoa học của các anh thật quyến rũ , sexy kỹ thuật cũng rất hấp dẫn , nóng bỏng .\n",
            "Result: I want to share some of the answer to how we realize that the science is really , they really very , very very , very very , very very , very very , very , very very , very , very very , very , very very , very very , very very , very , very , very , very , very very , , , , , very very very very very very , very very very very very \n",
            "Inference finished! || Total inference time: 0:00:02.110785secs\n",
            "Preprocessing input sentence...\n",
            "Encoding input sentence...\n",
            "Input: Câu hỏi đầu tiên là : Gì cơ ?\n",
            "Result: The first question is : How ?\n",
            "Inference finished! || Total inference time: 0:00:00.166678secs\n",
            "Preprocessing input sentence...\n",
            "Encoding input sentence...\n"
          ]
        },
        {
          "output_type": "stream",
          "name": "stderr",
          "text": [
            "\r 46%|████▌     | 582/1268 [04:22<05:59,  1.91it/s]"
          ]
        },
        {
          "output_type": "stream",
          "name": "stdout",
          "text": [
            "Input: Tại sao khoa học liên quan đến chúng tôi .\n",
            "Result: Why is the science to us .\n",
            "Inference finished! || Total inference time: 0:00:00.141402secs\n",
            "Preprocessing input sentence...\n",
            "Encoding input sentence...\n"
          ]
        },
        {
          "output_type": "stream",
          "name": "stderr",
          "text": [
            "\r 46%|████▌     | 583/1268 [04:23<07:57,  1.43it/s]"
          ]
        },
        {
          "output_type": "stream",
          "name": "stdout",
          "text": [
            "Input: Đừng chỉ nói rằng anh nghiên cứu mô xương , mà hãy nói anh nghiên cứu mô xương , nó giống như những cái lưới làm nên xương chúng ta vì cần biết để hiểu về bệnh loãng xương và cách chữa trị .\n",
            "Result: Don &apos;t just say he said , &quot; Well , what you say , it &apos;s like , it &apos;s like , it &apos;s like the , it &apos;s like , because we need to know how to understand the , and the power of the ability to understand the disease .\n",
            "Inference finished! || Total inference time: 0:00:01.095046secs\n",
            "Preprocessing input sentence...\n",
            "Encoding input sentence...\n"
          ]
        },
        {
          "output_type": "stream",
          "name": "stderr",
          "text": [
            " 46%|████▌     | 585/1268 [04:24<05:00,  2.27it/s]"
          ]
        },
        {
          "output_type": "stream",
          "name": "stdout",
          "text": [
            "Input: Khi mô tả khoa học , hãy cẩn thận khi dùng thuật ngữ .\n",
            "Result: When science , let &apos;s call the language .\n",
            "Inference finished! || Total inference time: 0:00:00.193186secs\n",
            "Preprocessing input sentence...\n",
            "Encoding input sentence...\n",
            "Input: Thuật ngữ ngăn cản chúng tôi hiểu được ý tưởng của anh .\n",
            "Result: The language of our ideas are understanding your idea .\n",
            "Inference finished! || Total inference time: 0:00:00.172386secs\n",
            "Preprocessing input sentence...\n",
            "Encoding input sentence...\n"
          ]
        },
        {
          "output_type": "stream",
          "name": "stderr",
          "text": [
            "\r 46%|████▌     | 586/1268 [04:24<05:36,  2.02it/s]"
          ]
        },
        {
          "output_type": "stream",
          "name": "stdout",
          "text": [
            "Input: Chắc chắn có thể nói &quot; spatial and temporal &quot; nhưng sao không dùng &quot; space and time &quot;\n",
            "Result: It &apos;s sure , &quot; They &apos;re going to say , &quot; and why don &apos;t we use the heart and &quot;\n",
            "Inference finished! || Total inference time: 0:00:00.613530secs\n",
            "Preprocessing input sentence...\n",
            "Encoding input sentence...\n"
          ]
        },
        {
          "output_type": "stream",
          "name": "stderr",
          "text": [
            "\r 46%|████▋     | 587/1268 [04:25<05:15,  2.16it/s]"
          ]
        },
        {
          "output_type": "stream",
          "name": "stdout",
          "text": [
            "Input: Làm ý tưởng mình dễ hiểu không phải là hạ thấp chúng .\n",
            "Result: It &apos;s a very easy idea that it &apos;s not a very low-secing .\n",
            "Inference finished! || Total inference time: 0:00:00.386018secs\n",
            "Preprocessing input sentence...\n",
            "Encoding input sentence...\n"
          ]
        },
        {
          "output_type": "stream",
          "name": "stderr",
          "text": [
            "\r 46%|████▋     | 588/1268 [04:25<04:36,  2.46it/s]"
          ]
        },
        {
          "output_type": "stream",
          "name": "stdout",
          "text": [
            "Input: Thay vào đó , như Anh-xtanh đã nói : biến mọi thứ càng đơn giản càng tốt , nhưng đừng đơn giản hơn .\n",
            "Result: Instead , like this , they said , is more important , but not better .\n",
            "Inference finished! || Total inference time: 0:00:00.268231secs\n",
            "Preprocessing input sentence...\n",
            "Encoding input sentence...\n"
          ]
        },
        {
          "output_type": "stream",
          "name": "stderr",
          "text": [
            "\r 46%|████▋     | 589/1268 [04:25<04:13,  2.68it/s]"
          ]
        },
        {
          "output_type": "stream",
          "name": "stdout",
          "text": [
            "Input: Rõ ràng là anh có thể nói về những vấn đề khoa học mà không làm méo mó ý tưởng .\n",
            "Result: It &apos;s obviously , you can talk about the problems that they don &apos;t do .\n",
            "Inference finished! || Total inference time: 0:00:00.288960secs\n",
            "Preprocessing input sentence...\n",
            "Encoding input sentence...\n"
          ]
        },
        {
          "output_type": "stream",
          "name": "stderr",
          "text": [
            "\r 47%|████▋     | 590/1268 [04:26<04:40,  2.42it/s]"
          ]
        },
        {
          "output_type": "stream",
          "name": "stdout",
          "text": [
            "Input: Nên lưu tâm đến việc nêu ví dụ , kể chuyện , liên tưởng Đó là những cách để lôi cuốn và khiến chúng tôi thích thú những điều anh nói .\n",
            "Result: So they &apos;re going to be , for example , the idea is how to make the things that we &apos;re going to explain what we &apos;re going to say .\n",
            "Inference finished! || Total inference time: 0:00:00.500749secs\n",
            "Preprocessing input sentence...\n",
            "Encoding input sentence...\n"
          ]
        },
        {
          "output_type": "stream",
          "name": "stderr",
          "text": [
            "\r 47%|████▋     | 591/1268 [04:26<04:12,  2.68it/s]"
          ]
        },
        {
          "output_type": "stream",
          "name": "stdout",
          "text": [
            "Input: Và khi trình bày , đừng sử dụng những gạch đầu dòng .\n",
            "Result: And when you &apos;re going to show you , don &apos;t use the first line .\n",
            "Inference finished! || Total inference time: 0:00:00.272878secs\n",
            "Preprocessing input sentence...\n",
            "Encoding input sentence...\n"
          ]
        },
        {
          "output_type": "stream",
          "name": "stderr",
          "text": [
            "\r 47%|████▋     | 592/1268 [04:26<03:38,  3.09it/s]"
          ]
        },
        {
          "output_type": "stream",
          "name": "stdout",
          "text": [
            "Input: Đã bao giờ bạn tự hỏi tại sao lại gọi chúng là &quot; gạch đầu dòng &quot; chưa ?\n",
            "Result: However you ask why they call them &quot; ? &quot;\n",
            "Inference finished! || Total inference time: 0:00:00.200900secs\n",
            "Preprocessing input sentence...\n",
            "Encoding input sentence...\n"
          ]
        },
        {
          "output_type": "stream",
          "name": "stderr",
          "text": [
            "\r 47%|████▋     | 593/1268 [04:27<04:26,  2.54it/s]"
          ]
        },
        {
          "output_type": "stream",
          "name": "stdout",
          "text": [
            "Input: Khi gạch tên đi thì sao ? Gạch đi là xoá sổ , giết chết luôn ! và chúng cũng sẽ giết bài thuyết trình của anh .\n",
            "Result: When the name is called the Sind , they &apos;re going to go , they &apos;re going to kill him , and they &apos;re going to kill his talk .\n",
            "Inference finished! || Total inference time: 0:00:00.550879secs\n",
            "Preprocessing input sentence...\n",
            "Encoding input sentence...\n"
          ]
        },
        {
          "output_type": "stream",
          "name": "stderr",
          "text": [
            "\r 47%|████▋     | 594/1268 [04:27<05:08,  2.19it/s]"
          ]
        },
        {
          "output_type": "stream",
          "name": "stdout",
          "text": [
            "Input: Một slide như thế này , không những nhàm chán mà còn phụ thuộc quá nhiều vào khu vực ngôn ngữ của não bộ , khiến chúng tôi bị ngốt .\n",
            "Result: So , one of this , not very much of the humans that are very much of the brain , the brain , the brain is going to be , to be very , to be very , took us .\n",
            "Inference finished! || Total inference time: 0:00:00.599558secs\n",
            "Preprocessing input sentence...\n",
            "Encoding input sentence...\n"
          ]
        },
        {
          "output_type": "stream",
          "name": "stderr",
          "text": [
            "\r 47%|████▋     | 595/1268 [04:29<08:55,  1.26it/s]"
          ]
        },
        {
          "output_type": "stream",
          "name": "stdout",
          "text": [
            "Input: Thay vào đó , slide ví dụ này của Genevieve Brown thực sự hiểu quả hơn . Nó cho thấy cấu trúc đặc biệt của mô xương mạnh đến nỗi nó thực sự truyền cảm hứng cho thiết kế độc đáo của tháp Ép-phen .\n",
            "Result: Instead , this example of this example of the very important thing , it &apos;s really more important to see the very , this is really , the very , the stycing the sty &apos;re going to be a very , for the very , for the very very , for the very very , for the very very , for the very very , for the very , for the very very very very very , for the very , for the very very very very very \n",
            "Inference finished! || Total inference time: 0:00:01.578245secs\n",
            "Preprocessing input sentence...\n",
            "Encoding input sentence...\n"
          ]
        },
        {
          "output_type": "stream",
          "name": "stderr",
          "text": [
            "\r 47%|████▋     | 596/1268 [04:30<08:25,  1.33it/s]"
          ]
        },
        {
          "output_type": "stream",
          "name": "stdout",
          "text": [
            "Input: Và mẹo ở đây là sử dụng những câu đơn và dễ đọc khán giả có thể dựa vào đó nếu họ theo không kịp , và rồi sử dụng hình ảnh lôi cuốn các giác quan để giúp ta hiểu sâu sắc hơn những điều được trình bày .\n",
            "Result: And the mother here is this is a very simple and , and this is very simple , if they &apos;re not going to be able to get the images that are going to help us understand how much more than the process is .\n",
            "Inference finished! || Total inference time: 0:00:00.643600secs\n",
            "Preprocessing input sentence...\n",
            "Encoding input sentence...\n"
          ]
        },
        {
          "output_type": "stream",
          "name": "stderr",
          "text": [
            "\r 47%|████▋     | 597/1268 [04:30<06:58,  1.61it/s]"
          ]
        },
        {
          "output_type": "stream",
          "name": "stdout",
          "text": [
            "Input: Tôi nghĩ đây chỉ là vài bí quyết giúp chúng ta mở cánh cửa đó và thấy xứ sở thần tiên của khoa học và công nghệ .\n",
            "Result: I think this is just a few of us to help us to make that , and the first of the science and technology .\n",
            "Inference finished! || Total inference time: 0:00:00.310024secs\n",
            "Preprocessing input sentence...\n",
            "Encoding input sentence...\n"
          ]
        },
        {
          "output_type": "stream",
          "name": "stderr",
          "text": [
            "\r 47%|████▋     | 598/1268 [04:30<06:04,  1.84it/s]"
          ]
        },
        {
          "output_type": "stream",
          "name": "stdout",
          "text": [
            "Input: Những kỹ sư tôi làm việc cùng dạy tôi phải biết suồng sã hoá mọi thứ đi . Cho nên tôi muốn tóm tắt với 1 phương trình .\n",
            "Result: They were trying to learn what I had to learn , everything was going to go . So I wanted to go with a computer .\n",
            "Inference finished! || Total inference time: 0:00:00.352403secs\n",
            "Preprocessing input sentence...\n",
            "Encoding input sentence...\n"
          ]
        },
        {
          "output_type": "stream",
          "name": "stderr",
          "text": [
            "\r 47%|████▋     | 599/1268 [04:31<07:18,  1.53it/s]"
          ]
        },
        {
          "output_type": "stream",
          "name": "stdout",
          "text": [
            "Input: Lấy &quot; khoa học &quot; trừ đi &quot; gạch đầu dòng &quot; và &quot; thuật ngữ &quot; rồi chia cho &quot; sự xác đáng &quot; , tức là chia sẻ những giải thích xác đáng với khán giả , sau đó nhân với &quot; đam mê &quot; mà anh dành cho công việc anh đang làm , thì sẽ cho ra kết quả sẽ là Sự tương tác tuyệt vời mang lại Sự hiểu trọn vẹn .\n",
            "Result: They said , &quot; No , &quot; &quot; &quot; &quot; and &quot; and &quot; and &quot; and then you share the greatest audience , &quot; is the very good for the , and they &apos;re going to make the best , and they &apos;re going to make the best .\n",
            "Inference finished! || Total inference time: 0:00:00.907872secs\n",
            "Preprocessing input sentence...\n",
            "Encoding input sentence...\n"
          ]
        },
        {
          "output_type": "stream",
          "name": "stderr",
          "text": [
            "\r 47%|████▋     | 600/1268 [04:32<06:59,  1.59it/s]"
          ]
        },
        {
          "output_type": "stream",
          "name": "stdout",
          "text": [
            "Input: Và do đó , hỡi các nhà khoa học và kĩ sư , khi các anh giải phương trình này , bằng mọi giá , hãy nói tám chuyện phiếm với tôi .\n",
            "Result: And so , they were , the scientists and they were , when you &apos;re going to solve this , let &apos;s talk about four , let me talk about the very old .\n",
            "Inference finished! || Total inference time: 0:00:00.558084secs\n",
            "Preprocessing input sentence...\n",
            "Encoding input sentence...\n",
            "Input: Cảm ơn quý vị .\n",
            "Result: Thank you .\n",
            "Inference finished! || Total inference time: 0:00:00.050776secs\n",
            "Preprocessing input sentence...\n",
            "Encoding input sentence...\n"
          ]
        },
        {
          "output_type": "stream",
          "name": "stderr",
          "text": [
            " 48%|████▊     | 603/1268 [04:33<04:49,  2.30it/s]"
          ]
        },
        {
          "output_type": "stream",
          "name": "stdout",
          "text": [
            "Input: Xin chào . Tôi là Cameron Russell , và trong khoảng thời gian ngắn ngủi vừa qua , tôi là một người mẫu .\n",
            "Result: So I &apos;m going to be a , and in the time , in the time , I &apos;m a little bit of a , and I &apos;m a very , a very , a very , a very , a very , a very , a very , .\n",
            "Inference finished! || Total inference time: 0:00:00.826168secs\n",
            "Preprocessing input sentence...\n",
            "Encoding input sentence...\n",
            "Input: Thật ra , trong 10 năm .\n",
            "Result: In fact , in 10 years .\n",
            "Inference finished! || Total inference time: 0:00:00.103014secs\n",
            "Preprocessing input sentence...\n",
            "Encoding input sentence...\n"
          ]
        },
        {
          "output_type": "stream",
          "name": "stderr",
          "text": [
            " 48%|████▊     | 605/1268 [04:33<04:07,  2.68it/s]"
          ]
        },
        {
          "output_type": "stream",
          "name": "stdout",
          "text": [
            "Input: Và tôi cảm thấy có một áp lực không thoải mái trong phòng vào lúc này bởi vì đáng lẽ ra tôi không nên mặc cái đầm này .\n",
            "Result: And I feel that there was a very hard , in this room because I couldn &apos;t have this very , because I don &apos;t have this .\n",
            "Inference finished! || Total inference time: 0:00:00.472056secs\n",
            "Preprocessing input sentence...\n",
            "Encoding input sentence...\n",
            "Input: May mắn thay tôi có mang theo một bộ đồ khác .\n",
            "Result: Fortunately , I had a different piece of a different .\n",
            "Inference finished! || Total inference time: 0:00:00.170812secs\n",
            "Preprocessing input sentence...\n",
            "Encoding input sentence...\n"
          ]
        },
        {
          "output_type": "stream",
          "name": "stderr",
          "text": [
            "\r 48%|████▊     | 606/1268 [04:34<04:08,  2.67it/s]"
          ]
        },
        {
          "output_type": "stream",
          "name": "stdout",
          "text": [
            "Input: Đây là lần đầu tiên có người thay đồ trên sân khấu của TED vậy nên tôi nghĩ các bạn rất may mắn khi được chứng kiến cảnh này đấy .\n",
            "Result: This is the first time that they have this on the TED TED Talk , so I think , very lucky , very lucky .\n",
            "Inference finished! || Total inference time: 0:00:00.374616secs\n",
            "Preprocessing input sentence...\n",
            "Encoding input sentence...\n"
          ]
        },
        {
          "output_type": "stream",
          "name": "stderr",
          "text": [
            "\r 48%|████▊     | 607/1268 [04:34<04:23,  2.51it/s]"
          ]
        },
        {
          "output_type": "stream",
          "name": "stdout",
          "text": [
            "Input: Nếu như vài phụ nữ cảm thấy rất sợ hãi khi tôi xuất hiện , bạn không phải nói tôi nghe ngay bây giờ đâu , nhưng rồi tôi sẽ biết qua Twitter thôi .\n",
            "Result: If some women feel very excited when I was going to say , you don &apos;t hear me , but I would have to hear me , but I would know that I know .\n",
            "Inference finished! || Total inference time: 0:00:00.450266secs\n",
            "Preprocessing input sentence...\n",
            "Encoding input sentence...\n"
          ]
        },
        {
          "output_type": "stream",
          "name": "stderr",
          "text": [
            " 48%|████▊     | 609/1268 [04:35<03:05,  3.56it/s]"
          ]
        },
        {
          "output_type": "stream",
          "name": "stdout",
          "text": [
            "Input: Tôi nhận ra tôi rất là may mắn khi có thể thay đổi những gì bạn nghĩ về tôi trong 10 giây ngắn ngủi .\n",
            "Result: I realized I was lucky to change what you think about 10 seconds .\n",
            "Inference finished! || Total inference time: 0:00:00.205753secs\n",
            "Preprocessing input sentence...\n",
            "Encoding input sentence...\n",
            "Input: Không phải ai cũng có cơ hội để làm điều này .\n",
            "Result: Nobody had to do this .\n",
            "Inference finished! || Total inference time: 0:00:00.116153secs\n",
            "Preprocessing input sentence...\n",
            "Encoding input sentence...\n"
          ]
        },
        {
          "output_type": "stream",
          "name": "stderr",
          "text": [
            "\r 48%|████▊     | 610/1268 [04:35<03:38,  3.02it/s]"
          ]
        },
        {
          "output_type": "stream",
          "name": "stdout",
          "text": [
            "Input: Đôi giày cao gót này thật là không thoải mái tí nào cả , tôi không định sẽ mang chúng .\n",
            "Result: They &apos;re very high-sty , but I &apos;m not going to make them .\n",
            "Inference finished! || Total inference time: 0:00:00.445899secs\n",
            "Preprocessing input sentence...\n",
            "Encoding input sentence...\n"
          ]
        },
        {
          "output_type": "stream",
          "name": "stderr",
          "text": [
            " 48%|████▊     | 612/1268 [04:36<03:46,  2.90it/s]"
          ]
        },
        {
          "output_type": "stream",
          "name": "stdout",
          "text": [
            "Input: Phần tệ nhất là tròng cái áo dài tay này qua đầu bởi vì thể nào quí vị cũng cười tôi , vậy nên đừng làm gì hết khi nó ở trên đầu tôi .\n",
            "Result: The most important thing is this , because what &apos;s going through this , so you can &apos;t do , so what I do it in my first time .\n",
            "Inference finished! || Total inference time: 0:00:00.597021secs\n",
            "Preprocessing input sentence...\n",
            "Encoding input sentence...\n",
            "Input: Xong rồi .\n",
            "Result: They &apos;re going to be .\n",
            "Inference finished! || Total inference time: 0:00:00.174520secs\n",
            "Preprocessing input sentence...\n",
            "Encoding input sentence...\n"
          ]
        },
        {
          "output_type": "stream",
          "name": "stderr",
          "text": [
            "\r 48%|████▊     | 613/1268 [04:36<03:04,  3.55it/s]"
          ]
        },
        {
          "output_type": "stream",
          "name": "stdout",
          "text": [
            "Input: Tại sao tôi lại làm như vậy ?\n",
            "Result: Why do I do it ?\n",
            "Inference finished! || Total inference time: 0:00:00.124497secs\n",
            "Preprocessing input sentence...\n",
            "Encoding input sentence...\n"
          ]
        },
        {
          "output_type": "stream",
          "name": "stderr",
          "text": [
            "\r 48%|████▊     | 614/1268 [04:36<03:15,  3.35it/s]"
          ]
        },
        {
          "output_type": "stream",
          "name": "stdout",
          "text": [
            "Input: Nó thật là kì cục .\n",
            "Result: It &apos;s really also , it &apos;s a very simple .\n",
            "Inference finished! || Total inference time: 0:00:00.331839secs\n",
            "Preprocessing input sentence...\n",
            "Encoding input sentence...\n"
          ]
        },
        {
          "output_type": "stream",
          "name": "stderr",
          "text": [
            "\r 49%|████▊     | 615/1268 [04:37<03:46,  2.88it/s]"
          ]
        },
        {
          "output_type": "stream",
          "name": "stdout",
          "text": [
            "Input: Thật ra , hy vọng là nó không đến nỗi kì cục như tấm hình này .\n",
            "Result: In fact , hope it &apos;s not going to be this , it &apos;s not like this .\n",
            "Inference finished! || Total inference time: 0:00:00.452690secs\n",
            "Preprocessing input sentence...\n",
            "Encoding input sentence...\n"
          ]
        },
        {
          "output_type": "stream",
          "name": "stderr",
          "text": [
            "\r 49%|████▊     | 616/1268 [04:39<09:29,  1.15it/s]"
          ]
        },
        {
          "output_type": "stream",
          "name": "stdout",
          "text": [
            "Input: Hình ảnh có sức mạnh rất lớn , nhưng nó cũng rất là giả tạo .\n",
            "Result: This is a big , but it &apos;s also a very , it &apos;s also a very very , very very , very very , very very , very very , very very , very very , very , very , very very very , very very , very , very , very , very very , very very , , , , , very very very very very very , very very very very very \n",
            "Inference finished! || Total inference time: 0:00:02.098166secs\n",
            "Preprocessing input sentence...\n",
            "Encoding input sentence...\n"
          ]
        },
        {
          "output_type": "stream",
          "name": "stderr",
          "text": [
            "\r 49%|████▊     | 617/1268 [04:39<07:39,  1.42it/s]"
          ]
        },
        {
          "output_type": "stream",
          "name": "stdout",
          "text": [
            "Input: Tôi vừa mới thay đổi hoàn toàn những gì bạn nghĩ về tôi trong vòng 6 giây .\n",
            "Result: I just just went out of what you think about is about six seconds .\n",
            "Inference finished! || Total inference time: 0:00:00.306664secs\n",
            "Preprocessing input sentence...\n",
            "Encoding input sentence...\n"
          ]
        },
        {
          "output_type": "stream",
          "name": "stderr",
          "text": [
            "\r 49%|████▊     | 618/1268 [04:40<06:33,  1.65it/s]"
          ]
        },
        {
          "output_type": "stream",
          "name": "stdout",
          "text": [
            "Input: Và trong bức ảnh này , thực ra tôi chưa hề có bạn trai nào trong đời thực .\n",
            "Result: And in this picture , actually , I didn &apos;t have anyone in the life .\n",
            "Inference finished! || Total inference time: 0:00:00.360365secs\n",
            "Preprocessing input sentence...\n",
            "Encoding input sentence...\n"
          ]
        },
        {
          "output_type": "stream",
          "name": "stderr",
          "text": [
            "\r 49%|████▉     | 619/1268 [04:40<05:56,  1.82it/s]"
          ]
        },
        {
          "output_type": "stream",
          "name": "stdout",
          "text": [
            "Input: Tôi cảm thấy rất không thoải mái tại thời điểm đấy , và nhiếp ảnh gia bảo tôi phài ưỡn lưng và đặt tay lên tóc của anh ta .\n",
            "Result: I feel very very , very , very , and my colleagues , my father went to the door and put his hand on his hand .\n",
            "Inference finished! || Total inference time: 0:00:00.411491secs\n",
            "Preprocessing input sentence...\n",
            "Encoding input sentence...\n"
          ]
        },
        {
          "output_type": "stream",
          "name": "stderr",
          "text": [
            "\r 49%|████▉     | 620/1268 [04:42<09:12,  1.17it/s]"
          ]
        },
        {
          "output_type": "stream",
          "name": "stdout",
          "text": [
            "Input: Và tất nhiên , trừ việc phẫu thuật , hoặc là làn da rám nắng giả tạo mà tôi có hai ngày trước để chụp ảnh , có rất ít những việc mà chúng ta có thể làm để thay đổi vẻ bề ngoài của mình , và vẻ ngoài của mình , mặc dù nó giả tạo và khó thay đổi , nó lại có ảnh hưởng rất lớn đến đời sống của chúng ta .\n",
            "Result: And of course , of course , or the sty , or the series of the water that I have two days ago , there are a lot of things that we can change our body , and even in very , very much , very much , very much , very much , very much , very much very much , very much , very much , very much , very much , very much , , , , , very , very much very , very much , , very very very , , \n",
            "Inference finished! || Total inference time: 0:00:01.551143secs\n",
            "Preprocessing input sentence...\n",
            "Encoding input sentence...\n"
          ]
        },
        {
          "output_type": "stream",
          "name": "stderr",
          "text": [
            " 49%|████▉     | 622/1268 [04:42<05:46,  1.86it/s]"
          ]
        },
        {
          "output_type": "stream",
          "name": "stdout",
          "text": [
            "Input: Vì thế nên hôm nay , với tôi , không sợ gì hết đồng nghĩa với việc thành thật .\n",
            "Result: So today , with me , not what they &apos;re not really important to work .\n",
            "Inference finished! || Total inference time: 0:00:00.315717secs\n",
            "Preprocessing input sentence...\n",
            "Encoding input sentence...\n",
            "Input: Và tôi đứng trên sân khấu này bởi vì tôi là một người mẫu .\n",
            "Result: And I was on this stage because I was a computer .\n",
            "Inference finished! || Total inference time: 0:00:00.164646secs\n",
            "Preprocessing input sentence...\n",
            "Encoding input sentence...\n"
          ]
        },
        {
          "output_type": "stream",
          "name": "stderr",
          "text": [
            "\r 49%|████▉     | 623/1268 [04:42<05:22,  2.00it/s]"
          ]
        },
        {
          "output_type": "stream",
          "name": "stdout",
          "text": [
            "Input: Tôi đứng trên sân khấu này bởi vì tôi xinh đẹp , một phụ nữ da trắng , và trong ngành người mẫu , chúng tôi gọi đó là một cô gái quyến rũ .\n",
            "Result: I was on the next stage because I was very beautiful , a black woman , and in the group , we called a girl , and that was a girl .\n",
            "Inference finished! || Total inference time: 0:00:00.407160secs\n",
            "Preprocessing input sentence...\n",
            "Encoding input sentence...\n"
          ]
        },
        {
          "output_type": "stream",
          "name": "stderr",
          "text": [
            " 49%|████▉     | 625/1268 [04:43<03:54,  2.74it/s]"
          ]
        },
        {
          "output_type": "stream",
          "name": "stdout",
          "text": [
            "Input: Và tôi sẽ trả lời những câu hỏi mà mọi người vẫn luôn hỏi tôi , nhưng với sự thành thật .\n",
            "Result: And I &apos;m going to answer the questions that people always ask me , but I &apos;m really important .\n",
            "Inference finished! || Total inference time: 0:00:00.346179secs\n",
            "Preprocessing input sentence...\n",
            "Encoding input sentence...\n",
            "Input: Câu hỏi đầu tiên là , làm thế nào mà tôi trở thành người mẫu ?\n",
            "Result: The first question is , how do I become a model ?\n",
            "Inference finished! || Total inference time: 0:00:00.148741secs\n",
            "Preprocessing input sentence...\n",
            "Encoding input sentence...\n"
          ]
        },
        {
          "output_type": "stream",
          "name": "stderr",
          "text": [
            "\r 49%|████▉     | 626/1268 [04:43<03:59,  2.68it/s]"
          ]
        },
        {
          "output_type": "stream",
          "name": "stdout",
          "text": [
            "Input: Và tôi luôn luôn nói : &quot; Oh , tôi được phát hiện &quot; , nhưng nó chả có ý nghĩa gì cả .\n",
            "Result: And I always say , &quot; Oh , I &apos;ve been done , but it &apos;s not really what it means .\n",
            "Inference finished! || Total inference time: 0:00:00.385430secs\n",
            "Preprocessing input sentence...\n",
            "Encoding input sentence...\n"
          ]
        },
        {
          "output_type": "stream",
          "name": "stderr",
          "text": [
            "\r 49%|████▉     | 627/1268 [04:44<05:24,  1.98it/s]"
          ]
        },
        {
          "output_type": "stream",
          "name": "stdout",
          "text": [
            "Input: Thật ra tôi trở thành người mẫu bởi vì tôi thắng giải xổ số di truyền , và tôi là người được nhận tài sản thừa kế , và có thể các bạn đang thắc mắc tài sản thừa kế gì chứ .\n",
            "Result: I was very , because I was going to write the people because I would have told the , and I was the sty , and you can &apos;t have a very , and you can &apos;t have a very very , very , very very good .\n",
            "Inference finished! || Total inference time: 0:00:00.805235secs\n",
            "Preprocessing input sentence...\n",
            "Encoding input sentence...\n"
          ]
        },
        {
          "output_type": "stream",
          "name": "stderr",
          "text": [
            "\r 50%|████▉     | 628/1268 [04:45<06:54,  1.54it/s]"
          ]
        },
        {
          "output_type": "stream",
          "name": "stdout",
          "text": [
            "Input: Trong những thập kỉ vừa qua , chúng ta đã định nghĩa sắc đẹp không chỉ là khoẻ mạnh và trẻ trung và sự cân đối mà chúng ta được lập trình về mặt sinh học để khao khát mà còn là chiều cao , những đường nét thanh mảnh và nữ tính , và da trắng .\n",
            "Result: In the last decade , we &apos;ve got a great good , and the healthy are the healthy and they are very , but they &apos;re very small , and the sty , the sts , the sts and the sts and the black , and the black , and the black , and the sts .\n",
            "Inference finished! || Total inference time: 0:00:00.971188secs\n",
            "Preprocessing input sentence...\n",
            "Encoding input sentence...\n"
          ]
        },
        {
          "output_type": "stream",
          "name": "stderr",
          "text": [
            "\r 50%|████▉     | 629/1268 [04:46<06:11,  1.72it/s]"
          ]
        },
        {
          "output_type": "stream",
          "name": "stdout",
          "text": [
            "Input: Đây chính là cái di sản được dựng nên cho tôi và đó là di sản mà tôi kiếm tiền nhờ vào nó .\n",
            "Result: This is what they &apos;re going to be , and that &apos;s the way I &apos;m going to take money for it .\n",
            "Inference finished! || Total inference time: 0:00:00.420121secs\n",
            "Preprocessing input sentence...\n",
            "Encoding input sentence...\n"
          ]
        },
        {
          "output_type": "stream",
          "name": "stderr",
          "text": [
            "\r 50%|████▉     | 630/1268 [04:46<06:09,  1.73it/s]"
          ]
        },
        {
          "output_type": "stream",
          "name": "stdout",
          "text": [
            "Input: Tôi biết rằng có một vài người trong quý vị đang hoài nghi điểm này , và có thể có một vài người mẫu ăn mặc đẹp như là , &quot; Chờ đã . Naomi . Tyra . Joan Smalls . Liu Wen . &quot;\n",
            "Result: I know that there &apos;s some of you in this , and there &apos;s a little bit like a , and they &apos;re like , &quot; The Sins . &quot;\n",
            "Inference finished! || Total inference time: 0:00:00.565217secs\n",
            "Preprocessing input sentence...\n",
            "Encoding input sentence...\n"
          ]
        },
        {
          "output_type": "stream",
          "name": "stderr",
          "text": [
            "\r 50%|████▉     | 631/1268 [04:46<05:03,  2.10it/s]"
          ]
        },
        {
          "output_type": "stream",
          "name": "stdout",
          "text": [
            "Input: Tôi muốn khen ngợi sự am hiểu về người mẫu của các bạn . Rất là ấn tượng .\n",
            "Result: I want to get the interest of your data . It &apos;s a very interesting .\n",
            "Inference finished! || Total inference time: 0:00:00.234479secs\n",
            "Preprocessing input sentence...\n",
            "Encoding input sentence...\n"
          ]
        },
        {
          "output_type": "stream",
          "name": "stderr",
          "text": [
            "\r 50%|████▉     | 632/1268 [04:47<06:06,  1.73it/s]"
          ]
        },
        {
          "output_type": "stream",
          "name": "stdout",
          "text": [
            "Input: Nhưng thật không may tôi phải cho các bạn biết năm 2007 , một nghiên cứu sinh tiến sỹ ở đại học New York đã thống kê là tất cả những người mẫu trên sàn diễn , và trong 677 người mẫu được thuê đó chỉ có 27 người , ít hơn 4 % , là không phải da trắng .\n",
            "Result: But I &apos;m not lucky to tell you the year of the year , a study of the New York City in New York City , and in the two-year-old people are not only two percent , and in they are not only two , not only two , not only one of the old , not only .\n",
            "Inference finished! || Total inference time: 0:00:00.802190secs\n",
            "Preprocessing input sentence...\n",
            "Encoding input sentence...\n"
          ]
        },
        {
          "output_type": "stream",
          "name": "stderr",
          "text": [
            "\r 50%|████▉     | 633/1268 [04:48<05:28,  1.93it/s]"
          ]
        },
        {
          "output_type": "stream",
          "name": "stdout",
          "text": [
            "Input: Câu hỏi kế tiếp mà mọi người luôn hỏi tôi là : &quot; Em có thể trở thành người mẫu khi em lớn không ? &quot;\n",
            "Result: The question that people who ask me : &quot; I can be a big person when I &apos;m not a lot of people ? &quot;\n",
            "Inference finished! || Total inference time: 0:00:00.372580secs\n",
            "Preprocessing input sentence...\n",
            "Encoding input sentence...\n"
          ]
        },
        {
          "output_type": "stream",
          "name": "stderr",
          "text": [
            " 50%|█████     | 635/1268 [04:48<04:20,  2.43it/s]"
          ]
        },
        {
          "output_type": "stream",
          "name": "stdout",
          "text": [
            "Input: Và câu trả lời đầu tiên của tôi là : &quot; Chị không biết , chị không phụ trách việc tuyển dụng &quot; .\n",
            "Result: And my first answer is : &quot; You don &apos;t know , you don &apos;t know , you don &apos;t know how to do it . &quot;\n",
            "Inference finished! || Total inference time: 0:00:00.480017secs\n",
            "Preprocessing input sentence...\n",
            "Encoding input sentence...\n",
            "Input: Nhưng câu trả lời tiếp theo mà tôi thực sự muốn nói với những bé gái đó là : &quot; Tại sao chứ ? &quot;\n",
            "Result: But the answer that I want to talk to the girls : Why ?\n",
            "Inference finished! || Total inference time: 0:00:00.179926secs\n",
            "Preprocessing input sentence...\n",
            "Encoding input sentence...\n"
          ]
        },
        {
          "output_type": "stream",
          "name": "stderr",
          "text": [
            "\r 50%|█████     | 636/1268 [04:48<03:39,  2.88it/s]"
          ]
        },
        {
          "output_type": "stream",
          "name": "stdout",
          "text": [
            "Input: Em biết không ? Em có thể trở thành bất cứ ai .\n",
            "Result: You know ? You can &apos;t be able to be anyone .\n",
            "Inference finished! || Total inference time: 0:00:00.188484secs\n",
            "Preprocessing input sentence...\n",
            "Encoding input sentence...\n"
          ]
        },
        {
          "output_type": "stream",
          "name": "stderr",
          "text": [
            "\r 50%|█████     | 637/1268 [04:49<04:28,  2.35it/s]"
          ]
        },
        {
          "output_type": "stream",
          "name": "stdout",
          "text": [
            "Input: Bạn có thể trở thành Tổng thống nước Mỹ , hoặc người phát minh ra một Internet tiếp theo , hay là một nhà thơ bác sĩ phẩu thuật tim mạch ninja , sẽ rất tuyệt vời phải không , vì em sẽ là người đầu tiên làm chuyện đó &quot; .\n",
            "Result: You can be also been the United States , or the Internet , or a book , a great doctor , very great , because the first person will be the first person , because the first person would do it .\n",
            "Inference finished! || Total inference time: 0:00:00.600710secs\n",
            "Preprocessing input sentence...\n",
            "Encoding input sentence...\n"
          ]
        },
        {
          "output_type": "stream",
          "name": "stderr",
          "text": [
            "\r 50%|█████     | 638/1268 [04:50<06:06,  1.72it/s]"
          ]
        },
        {
          "output_type": "stream",
          "name": "stdout",
          "text": [
            "Input: Nếu , sau một danh sách thú vị đó , các em vẫn nói rằng : &quot; Không , không , Cameron , em muốn trở thành người mẫu à &quot; , lúc đó tôi sẽ nói : &quot; Làm sếp của chị đi &quot; .\n",
            "Result: If , after a book , they said , &quot; No , no , I want to be a very , I wanted to be a very , &quot; I &apos;m going to say , &quot; I &apos;m going to go . &quot;\n",
            "Inference finished! || Total inference time: 0:00:00.939015secs\n",
            "Preprocessing input sentence...\n",
            "Encoding input sentence...\n"
          ]
        },
        {
          "output_type": "stream",
          "name": "stderr",
          "text": [
            "\r 50%|█████     | 639/1268 [04:51<06:41,  1.57it/s]"
          ]
        },
        {
          "output_type": "stream",
          "name": "stdout",
          "text": [
            "Input: Vì chị không có quyền lực nào cả , còn em có thể là tổng biên tập của tạp chí Vogue ở Mỹ hoặc Tổng giám đốc của H &amp; amp ; M , hoặc Steven Meisel tương lai .\n",
            "Result: Because you don &apos;t have any power , they can be the series of the United States or the United States , or &quot; or &quot; or &quot; , or &quot;\n",
            "Inference finished! || Total inference time: 0:00:00.761996secs\n",
            "Preprocessing input sentence...\n",
            "Encoding input sentence...\n"
          ]
        },
        {
          "output_type": "stream",
          "name": "stderr",
          "text": [
            "\r 50%|█████     | 640/1268 [04:51<06:24,  1.63it/s]"
          ]
        },
        {
          "output_type": "stream",
          "name": "stdout",
          "text": [
            "Input: Nói rằng em muốn được là người mẫu khi em lớn lên giống như nói em muốn trúng vé số khi em trưởng thành vậy .\n",
            "Result: It &apos;s like that told you that they &apos;re a lot of people like , as they want to say the number of children .\n",
            "Inference finished! || Total inference time: 0:00:00.542406secs\n",
            "Preprocessing input sentence...\n",
            "Encoding input sentence...\n"
          ]
        },
        {
          "output_type": "stream",
          "name": "stderr",
          "text": [
            "\r 51%|█████     | 641/1268 [04:52<06:26,  1.62it/s]"
          ]
        },
        {
          "output_type": "stream",
          "name": "stdout",
          "text": [
            "Input: Nó ngoài tầm kiểm soát của em , và nó thật tuyệt , nhưng đó không phải là một con đường sự nghiệp .\n",
            "Result: It &apos;s out of your own control , and it &apos;s not a very , but it &apos;s not a very a community of the community .\n",
            "Inference finished! || Total inference time: 0:00:00.615704secs\n",
            "Preprocessing input sentence...\n",
            "Encoding input sentence...\n"
          ]
        },
        {
          "output_type": "stream",
          "name": "stderr",
          "text": [
            "\r 51%|█████     | 642/1268 [04:53<06:59,  1.49it/s]"
          ]
        },
        {
          "output_type": "stream",
          "name": "stdout",
          "text": [
            "Input: Tôi sẽ chứng minh cho các bạn -- với 10 năm kinh nghiệm tôi tích luỹ được khi làm người mẫu , vì nó không giống với bác sĩ phẫu thuật tim , nên chỉ cần một thời gian ngắn .\n",
            "Result: I &apos;m going to show you -- with 10 years ago , with the experiment that I &apos;m not like , because it &apos;s not like a , so it &apos;s just just just a long time .\n",
            "Inference finished! || Total inference time: 0:00:00.780005secs\n",
            "Preprocessing input sentence...\n",
            "Encoding input sentence...\n"
          ]
        },
        {
          "output_type": "stream",
          "name": "stderr",
          "text": [
            " 51%|█████     | 644/1268 [04:55<08:20,  1.25it/s]"
          ]
        },
        {
          "output_type": "stream",
          "name": "stdout",
          "text": [
            "Input: Nếu nhiếp ảnh gia đứng ở đây còn ánh sáng thì ở kia , giống như là một giao diện tương tác đẹp , và khi khách hàng bảo : &quot; Cameron chúng tôi muốn bức ảnh em đang bước đi &quot; , thế là cái chân này đi trước , đẹp và dài , cái tay này thì đánh về sau , còn cái này thì đưa ra trước , đầu thì ở vị trí ba phần tư , và bạn chỉ đơn giản là đi tới đi lui , chỉ cần làm điều đó , và sau đó bạn quay đầu nhìn phía sau , tưởng tượng đó là bạn bè của bạn , 300 , 400 , 500 lần .\n",
            "Result: If the pictures here is , there are the same , like a beautiful , and when they &apos;re a very beautiful , and they want to go , &quot; and &quot; and &quot; and this is a little bit of , and then , and then , you &apos;re going to go back to the next time , and then you &apos;re just going to go back to the next time , and then you &apos;re just go back to the next time , and then , and then , and then you &apos;re , and then , and then , and then \n",
            "Inference finished! || Total inference time: 0:00:02.076322secs\n",
            "Preprocessing input sentence...\n",
            "Encoding input sentence...\n",
            "Input: Giống như thế này đây .\n",
            "Result: It &apos;s like this .\n",
            "Inference finished! || Total inference time: 0:00:00.111833secs\n",
            "Preprocessing input sentence...\n",
            "Encoding input sentence...\n"
          ]
        },
        {
          "output_type": "stream",
          "name": "stderr",
          "text": [
            " 51%|█████     | 646/1268 [04:55<05:10,  2.00it/s]"
          ]
        },
        {
          "output_type": "stream",
          "name": "stdout",
          "text": [
            "Input: Hi vọng là nó ít kì cục hơn tấm hình ở giữa\n",
            "Result: It &apos;s hope that it &apos;s a little bit more than the picture .\n",
            "Inference finished! || Total inference time: 0:00:00.240340secs\n",
            "Preprocessing input sentence...\n",
            "Encoding input sentence...\n",
            "Input: Tôi không biết điều gì xảy ra trong lúc đó nữa .\n",
            "Result: I don &apos;t know what happens in that time .\n",
            "Inference finished! || Total inference time: 0:00:00.176439secs\n",
            "Preprocessing input sentence...\n",
            "Encoding input sentence...\n"
          ]
        },
        {
          "output_type": "stream",
          "name": "stderr",
          "text": [
            "\r 51%|█████     | 647/1268 [04:56<06:29,  1.59it/s]"
          ]
        },
        {
          "output_type": "stream",
          "name": "stdout",
          "text": [
            "Input: Thật đáng tiếc sau khi bạn học xong , bạn viết résumé và từng làm một vài việc , bạn không thể nói thêm điều gì nữa , vì nếu bạn nói muốn trở thành Tổng thống Hoa Kỳ nhưng résumé của bạn lại ghi : &quot; Người mẫu đồ lót : 10 năm &quot; , người ta sẽ nhìn bạn với ánh mắt khác lạ .\n",
            "Result: It &apos;s very important when you learned , you &apos;ve got to write , you &apos;ve got a few and a few things that you can &apos;t say , because if you want to say , &quot; The U.S. &quot; : &quot; you &apos;re going to look at the word &quot;\n",
            "Inference finished! || Total inference time: 0:00:00.916043secs\n",
            "Preprocessing input sentence...\n",
            "Encoding input sentence...\n"
          ]
        },
        {
          "output_type": "stream",
          "name": "stderr",
          "text": [
            "\r 51%|█████     | 648/1268 [04:57<05:29,  1.88it/s]"
          ]
        },
        {
          "output_type": "stream",
          "name": "stdout",
          "text": [
            "Input: Câu hỏi tiếp theo mà người ta luôn hỏi tôi : &quot; Có phải tất cả các tấm ảnh đều được chỉnh sửa đúng không ? &quot;\n",
            "Result: The question that people who ask me , &quot; I have all the pictures of the right ? &quot;\n",
            "Inference finished! || Total inference time: 0:00:00.296262secs\n",
            "Preprocessing input sentence...\n",
            "Encoding input sentence...\n"
          ]
        },
        {
          "output_type": "stream",
          "name": "stderr",
          "text": [
            "\r 51%|█████     | 649/1268 [04:57<05:12,  1.98it/s]"
          ]
        },
        {
          "output_type": "stream",
          "name": "stdout",
          "text": [
            "Input: Đúng vậy đấy , gần như là tất cả các tấm ảnh đều được chỉnh sửa , nhưng đó chỉ là một yếu tố nhỏ trong những việc đang diễn ra .\n",
            "Result: Well , it &apos;s very close to all the pictures , but it &apos;s just a little bit of the small things that are happening .\n",
            "Inference finished! || Total inference time: 0:00:00.436314secs\n",
            "Preprocessing input sentence...\n",
            "Encoding input sentence...\n"
          ]
        },
        {
          "output_type": "stream",
          "name": "stderr",
          "text": [
            "\r 51%|█████▏    | 650/1268 [04:58<05:19,  1.94it/s]"
          ]
        },
        {
          "output_type": "stream",
          "name": "stdout",
          "text": [
            "Input: Đây là một trong những tấm ảnh đầu tiên mà tôi từng chụp , cũng là lần đầu tiên tôi chụp ảnh đồ tắm , và lúc đó tôi thậm chí chưa có chu kỳ kinh nguyệt nữa .\n",
            "Result: This is one of the first images that I &apos;ve got took , and I &apos;ve got a picture , and I &apos;ve never never had no star .\n",
            "Inference finished! || Total inference time: 0:00:00.535667secs\n",
            "Preprocessing input sentence...\n",
            "Encoding input sentence...\n"
          ]
        },
        {
          "output_type": "stream",
          "name": "stderr",
          "text": [
            "\r 51%|█████▏    | 651/1268 [04:58<04:48,  2.14it/s]"
          ]
        },
        {
          "output_type": "stream",
          "name": "stdout",
          "text": [
            "Input: Tôi biết rằng ta đang đi sâu vào chuyện cá nhân nhưng lúc đó tôi đang là một cô bé .\n",
            "Result: I know that we &apos;re going to go on to the very little bits , but that &apos;s a little girl .\n",
            "Inference finished! || Total inference time: 0:00:00.346488secs\n",
            "Preprocessing input sentence...\n",
            "Encoding input sentence...\n"
          ]
        },
        {
          "output_type": "stream",
          "name": "stderr",
          "text": [
            " 51%|█████▏    | 653/1268 [04:58<03:23,  3.02it/s]"
          ]
        },
        {
          "output_type": "stream",
          "name": "stdout",
          "text": [
            "Input: Đây là vẻ ngoài của tôi , chụp cạnh bà của mình trước đó vài tháng .\n",
            "Result: This is my looking out , and I went to my home before .\n",
            "Inference finished! || Total inference time: 0:00:00.206768secs\n",
            "Preprocessing input sentence...\n",
            "Encoding input sentence...\n",
            "Input: Đây là tôi trong cùng một ngày khi chụp bức ảnh trên .\n",
            "Result: This is me in a day when I was a picture of the picture .\n",
            "Inference finished! || Total inference time: 0:00:00.184991secs\n",
            "Preprocessing input sentence...\n",
            "Encoding input sentence...\n"
          ]
        },
        {
          "output_type": "stream",
          "name": "stderr",
          "text": [
            "\r 52%|█████▏    | 654/1268 [04:58<02:43,  3.75it/s]"
          ]
        },
        {
          "output_type": "stream",
          "name": "stdout",
          "text": [
            "Input: Cô bạn của tôi đã đi cùng tôi .\n",
            "Result: My friends went back .\n",
            "Inference finished! || Total inference time: 0:00:00.108005secs\n",
            "Preprocessing input sentence...\n",
            "Encoding input sentence...\n"
          ]
        },
        {
          "output_type": "stream",
          "name": "stderr",
          "text": [
            " 52%|█████▏    | 656/1268 [04:59<02:23,  4.26it/s]"
          ]
        },
        {
          "output_type": "stream",
          "name": "stdout",
          "text": [
            "Input: Đây là tôi ở tiệc ngủ vài ngày trước khi chụp ảnh cho Vogue Pháp .\n",
            "Result: This is me in a car and a few days before the Sindy .\n",
            "Inference finished! || Total inference time: 0:00:00.216293secs\n",
            "Preprocessing input sentence...\n",
            "Encoding input sentence...\n",
            "Input: Đây là tôi với đội bóng đá trong tạp chí V.\n",
            "Result: This is me with the series of the Sindy .\n",
            "Inference finished! || Total inference time: 0:00:00.186643secs\n",
            "Preprocessing input sentence...\n",
            "Encoding input sentence...\n"
          ]
        },
        {
          "output_type": "stream",
          "name": "stderr",
          "text": [
            "\r 52%|█████▏    | 657/1268 [04:59<02:10,  4.68it/s]"
          ]
        },
        {
          "output_type": "stream",
          "name": "stdout",
          "text": [
            "Input: Và đây là tôi bây giờ .\n",
            "Result: And this is what I &apos;m here .\n",
            "Inference finished! || Total inference time: 0:00:00.157413secs\n",
            "Preprocessing input sentence...\n",
            "Encoding input sentence...\n"
          ]
        },
        {
          "output_type": "stream",
          "name": "stderr",
          "text": [
            "\r 52%|█████▏    | 658/1268 [04:59<02:14,  4.53it/s]"
          ]
        },
        {
          "output_type": "stream",
          "name": "stdout",
          "text": [
            "Input: Tôi mong rằng bạn nhìn ra được -- những bức ảnh trên không phải là hình ảnh của tôi .\n",
            "Result: I &apos;m going to look at you -- these are not my pictures .\n",
            "Inference finished! || Total inference time: 0:00:00.230442secs\n",
            "Preprocessing input sentence...\n",
            "Encoding input sentence...\n"
          ]
        },
        {
          "output_type": "stream",
          "name": "stderr",
          "text": [
            "\r 52%|█████▏    | 659/1268 [05:00<04:40,  2.17it/s]"
          ]
        },
        {
          "output_type": "stream",
          "name": "stdout",
          "text": [
            "Input: Đó là những hình ảnh được dựng lên , và nó được dựng nên bởi một nhóm các chuyên gia , những nhà tạo mẫu tóc , những chuyên gia trang điểm , nhiếp ảnh gia , và những nhà tạo phong cách và tất cả những người trợ lý của họ , khâu tiền sản xuất , và hậu sản xuất , và họ tạo nên cái này đây . Đó không phải là tôi .\n",
            "Result: It &apos;s the images , and it &apos;s been built by a group of groups , they &apos;re going to create a group of the sts , and they &apos;re all going to create this , and they &apos;re not going to be , and they &apos;re not going to do this .\n",
            "Inference finished! || Total inference time: 0:00:01.011161secs\n",
            "Preprocessing input sentence...\n",
            "Encoding input sentence...\n"
          ]
        },
        {
          "output_type": "stream",
          "name": "stderr",
          "text": [
            "\r 52%|█████▏    | 660/1268 [05:01<04:19,  2.34it/s]"
          ]
        },
        {
          "output_type": "stream",
          "name": "stdout",
          "text": [
            "Input: Câu hỏi kế tiếp mà tôi được nhiều người hỏi là : &quot; Bạn được cho miễn phí cái gì không ? &quot;\n",
            "Result: The question I &apos;ve been asked many people : &quot; What are you going to be ? &quot;\n",
            "Inference finished! || Total inference time: 0:00:00.344693secs\n",
            "Preprocessing input sentence...\n",
            "Encoding input sentence...\n"
          ]
        },
        {
          "output_type": "stream",
          "name": "stderr",
          "text": [
            "\r 52%|█████▏    | 661/1268 [05:01<04:52,  2.08it/s]"
          ]
        },
        {
          "output_type": "stream",
          "name": "stdout",
          "text": [
            "Input: Tôi có rất nhiều đôi giầy cao gót 20cm mà tôi không bao giờ mang , lúc nãy là ngoại lệ , nhưng những thứ miễn phí mà tôi nhận được là những thứ mà tôi có ở ngoài đời thực , và đó là những thứ mà chúng ta không muốn nhắc đến .\n",
            "Result: I have many very much of the 20,000 , I never have never been , but they were very , but the things that I realized that I was in the life , and that was not just in the rest of the life .\n",
            "Inference finished! || Total inference time: 0:00:00.601663secs\n",
            "Preprocessing input sentence...\n",
            "Encoding input sentence...\n"
          ]
        },
        {
          "output_type": "stream",
          "name": "stderr",
          "text": [
            "\r 52%|█████▏    | 662/1268 [05:02<05:12,  1.94it/s]"
          ]
        },
        {
          "output_type": "stream",
          "name": "stdout",
          "text": [
            "Input: Tôi lớn lên ở Cambridge , và lần nọ , tôi đến cửa hàng , và tôi đã quên đem theo tiền và họ đã cho tôi miễn phí một cái áo đầm .\n",
            "Result: I was largely on the United States , and I was going to go to the door , and I had told them , and they had gone a car for a very , for a sty .\n",
            "Inference finished! || Total inference time: 0:00:00.591603secs\n",
            "Preprocessing input sentence...\n",
            "Encoding input sentence...\n"
          ]
        },
        {
          "output_type": "stream",
          "name": "stderr",
          "text": [
            "\r 52%|█████▏    | 663/1268 [05:03<06:04,  1.66it/s]"
          ]
        },
        {
          "output_type": "stream",
          "name": "stdout",
          "text": [
            "Input: Khi còn là một thiếu nữ , tôi ngồi xe một người bạn cô ta là một người lái xe rất đáng sợ và cô đã vượt đèn đỏ , chúng tôi bị bắt dừng lại , và tất cả những gì tôi đã làm là nói rằng : &quot; Xin lỗi chú cảnh sát &quot; , và chúng tôi đã có thể đi tiếp .\n",
            "Result: When I was a woman , I was sitting a car , and she was a very very very , and she was very , and we were going to go back , and all of what I said , &quot; Well , we can &apos;t go , and we can go . &quot;\n",
            "Inference finished! || Total inference time: 0:00:00.798675secs\n",
            "Preprocessing input sentence...\n",
            "Encoding input sentence...\n"
          ]
        },
        {
          "output_type": "stream",
          "name": "stderr",
          "text": [
            "\r 52%|█████▏    | 664/1268 [05:03<05:46,  1.74it/s]"
          ]
        },
        {
          "output_type": "stream",
          "name": "stdout",
          "text": [
            "Input: Tôi có được những thứ miễn phí đó là nhờ vào vẻ ngoài của tôi , không phải vì tôi là ai và có những người sẵn sàng chi nhiều tiền cho vẻ bề ngoài của họ chứ không phải vì họ là ai .\n",
            "Result: I have these things that are going to be on my own , because I &apos;m not going to be , and who are someone who are going to be very much money for them .\n",
            "Inference finished! || Total inference time: 0:00:00.501910secs\n",
            "Preprocessing input sentence...\n",
            "Encoding input sentence...\n"
          ]
        },
        {
          "output_type": "stream",
          "name": "stderr",
          "text": [
            "\r 52%|█████▏    | 665/1268 [05:04<05:45,  1.74it/s]"
          ]
        },
        {
          "output_type": "stream",
          "name": "stdout",
          "text": [
            "Input: Tôi sống ở New York , và năm vừa rồi , trong 140 ngàn thiếu niên bị bắt và bị lục soát , có 86 % là người da đen và người La Tinh , phần lớn là những thiếu niên trẻ .\n",
            "Result: I lived in New York , and there was a few thousands of thousands of thousands of years , there were also been a hundred percent of the people , the most of the poor , the most of the young people .\n",
            "Inference finished! || Total inference time: 0:00:00.564776secs\n",
            "Preprocessing input sentence...\n",
            "Encoding input sentence...\n"
          ]
        },
        {
          "output_type": "stream",
          "name": "stderr",
          "text": [
            "\r 53%|█████▎    | 666/1268 [05:04<05:50,  1.72it/s]"
          ]
        },
        {
          "output_type": "stream",
          "name": "stdout",
          "text": [
            "Input: Ở New York , chỉ có 177 ngàn người da đen và người La Tinh , vì vậy đối với họ , câu hỏi không phải là &quot; Tôi có bị bắt không ? &quot;\n",
            "Result: So in New York , there &apos;s a thousand of people who have a black and they &apos;re not going to do , so the question is , &quot; I &apos;m not going to be ? &quot;\n",
            "Inference finished! || Total inference time: 0:00:00.595701secs\n",
            "Preprocessing input sentence...\n",
            "Encoding input sentence...\n"
          ]
        },
        {
          "output_type": "stream",
          "name": "stderr",
          "text": [
            "\r 53%|█████▎    | 667/1268 [05:05<05:54,  1.69it/s]"
          ]
        },
        {
          "output_type": "stream",
          "name": "stdout",
          "text": [
            "Input: mà là &quot; Tôi sẽ bị bắt bao nhiêu lần và khi nào ? &quot;\n",
            "Result: What is , &quot; I &apos;m going to be going to be going to be going to be going to be , and how do you get ? &quot;\n",
            "Inference finished! || Total inference time: 0:00:00.602172secs\n",
            "Preprocessing input sentence...\n",
            "Encoding input sentence...\n"
          ]
        },
        {
          "output_type": "stream",
          "name": "stderr",
          "text": [
            "\r 53%|█████▎    | 668/1268 [05:06<06:32,  1.53it/s]"
          ]
        },
        {
          "output_type": "stream",
          "name": "stdout",
          "text": [
            "Input: Khi tôi chuẩn bị cho buổi nói chuyện này , Tôi phát hiện rằng 53 % những cô bé 13 tuổi ở Mỹ không thích cơ thể của mình , và con số này lên đến 78 % khi họ 17 tuổi .\n",
            "Result: When I was going to talk to this talk , I found that they were born in the United States in the United States , and they weren &apos;t going to go to the United States .\n",
            "Inference finished! || Total inference time: 0:00:00.796597secs\n",
            "Preprocessing input sentence...\n",
            "Encoding input sentence...\n"
          ]
        },
        {
          "output_type": "stream",
          "name": "stderr",
          "text": [
            "\r 53%|█████▎    | 669/1268 [05:06<05:54,  1.69it/s]"
          ]
        },
        {
          "output_type": "stream",
          "name": "stdout",
          "text": [
            "Input: Câu hỏi cuối cùng mà người ta hỏi tôi là : &quot; Cảm giác thế nào khi được là người mẫu ? &quot;\n",
            "Result: The first question that I asked : &quot; How do you get the , &quot; What are the people ? &quot;\n",
            "Inference finished! || Total inference time: 0:00:00.437996secs\n",
            "Preprocessing input sentence...\n",
            "Encoding input sentence...\n"
          ]
        },
        {
          "output_type": "stream",
          "name": "stderr",
          "text": [
            "\r 53%|█████▎    | 670/1268 [05:07<06:30,  1.53it/s]"
          ]
        },
        {
          "output_type": "stream",
          "name": "stdout",
          "text": [
            "Input: Tôi nghĩ rằng cái họ muốn được nghe là &quot; Nếu bạn gầy hơn một chút , và tóc bạn óng ả hơn , bạn sẽ rất hạnh phúc và sung sướng &quot; .\n",
            "Result: I think they want to hear is a little bit more than you , and you &apos;re more than a very much more than a very much more than you &apos;re going to be happy and happy . &quot;\n",
            "Inference finished! || Total inference time: 0:00:00.780666secs\n",
            "Preprocessing input sentence...\n",
            "Encoding input sentence...\n"
          ]
        },
        {
          "output_type": "stream",
          "name": "stderr",
          "text": [
            "\r 53%|█████▎    | 671/1268 [05:07<05:35,  1.78it/s]"
          ]
        },
        {
          "output_type": "stream",
          "name": "stdout",
          "text": [
            "Input: Còn khi chúng tôi ở sau cánh gà , chúng tôi đưa ra câu trả lời đại loại như là :\n",
            "Result: And when we were in the series , we put the answer : this is the same .\n",
            "Inference finished! || Total inference time: 0:00:00.342628secs\n",
            "Preprocessing input sentence...\n",
            "Encoding input sentence...\n"
          ]
        },
        {
          "output_type": "stream",
          "name": "stderr",
          "text": [
            "\r 53%|█████▎    | 672/1268 [05:08<06:11,  1.61it/s]"
          ]
        },
        {
          "output_type": "stream",
          "name": "stdout",
          "text": [
            "Input: &quot; Thật là tuyệt vời khi đi du lịch , và làm việc với những người sáng tạo , đầy cảm hứng và nhiệt huyết &quot; .\n",
            "Result: &quot; It &apos;s great when I go , and doing the people who are , and they &apos;re going to be , and the sty and the stin . &quot;\n",
            "Inference finished! || Total inference time: 0:00:00.756482secs\n",
            "Preprocessing input sentence...\n",
            "Encoding input sentence...\n"
          ]
        },
        {
          "output_type": "stream",
          "name": "stderr",
          "text": [
            "\r 53%|█████▎    | 673/1268 [05:09<07:34,  1.31it/s]"
          ]
        },
        {
          "output_type": "stream",
          "name": "stdout",
          "text": [
            "Input: Và những điều đó là sự thật , nhưng đó chỉ là một nửa thôi , vì điều mà chúng tôi không bao giờ nói ra trước ống kính , điều mà tôi không bao giờ nói trước ống kính , là : &quot; Tôi bất an &quot; .\n",
            "Result: And that &apos;s what , but that &apos;s just a half-year-old , because we never say , what I &apos;ve never been before , I &apos;m not going to say , &quot; I &apos;m not going to be wrong . &quot;\n",
            "Inference finished! || Total inference time: 0:00:01.082414secs\n",
            "Preprocessing input sentence...\n",
            "Encoding input sentence...\n"
          ]
        },
        {
          "output_type": "stream",
          "name": "stderr",
          "text": [
            "\r 53%|█████▎    | 674/1268 [05:10<06:06,  1.62it/s]"
          ]
        },
        {
          "output_type": "stream",
          "name": "stdout",
          "text": [
            "Input: Tôi bất an vì tôi phải suy nghĩ về hình ảnh của tôi mỗi ngày .\n",
            "Result: I &apos;m sure I &apos;m not thinking about my images .\n",
            "Inference finished! || Total inference time: 0:00:00.264341secs\n",
            "Preprocessing input sentence...\n",
            "Encoding input sentence...\n"
          ]
        },
        {
          "output_type": "stream",
          "name": "stderr",
          "text": [
            "\r 53%|█████▎    | 675/1268 [05:10<05:44,  1.72it/s]"
          ]
        },
        {
          "output_type": "stream",
          "name": "stdout",
          "text": [
            "Input: Và các bạn có bao giờ tự hỏi chính mình &quot; Nếu đùi mình thon hơn và tóc mình óng ả hơn , vậy mình sẽ hạnh phúc hơn không ? &quot;\n",
            "Result: And you have the question of your own , &quot; If you get a little bit more than they &apos;re more than they &apos;re going to be better than ? &quot;\n",
            "Inference finished! || Total inference time: 0:00:00.490887secs\n",
            "Preprocessing input sentence...\n",
            "Encoding input sentence...\n"
          ]
        },
        {
          "output_type": "stream",
          "name": "stderr",
          "text": [
            "\r 53%|█████▎    | 676/1268 [05:11<05:49,  1.70it/s]"
          ]
        },
        {
          "output_type": "stream",
          "name": "stdout",
          "text": [
            "Input: Bạn chỉ cần gặp gỡ một nhóm người mẫu , vì họ có đôi chân thon nhất , bộ tóc óng ả nhất và mặc những bộ đồ đẹp nhất , và họ có thể là những người phụ nữ bất an nhất trên hành tinh này .\n",
            "Result: You just have to meet a group , because they have the most , they have the most ststed the most , and they can be the most of women , and they can be the most women in the planet .\n",
            "Inference finished! || Total inference time: 0:00:00.603353secs\n",
            "Preprocessing input sentence...\n",
            "Encoding input sentence...\n"
          ]
        },
        {
          "output_type": "stream",
          "name": "stderr",
          "text": [
            "\r 53%|█████▎    | 677/1268 [05:12<06:56,  1.42it/s]"
          ]
        },
        {
          "output_type": "stream",
          "name": "stdout",
          "text": [
            "Input: Khi tôi viết bài phát biểu này , tôi cảm thấy rất khó khăn để tìm ra sự cân bằng thật sự , vì một mặt , tôi cảm thấy rất không thoải mái khi đến đây để nói &quot; Tôi có được tất cả những thứ này vì tôi được thần may mắn phù hộ , &quot; và cũng cảm thấy thực sự khó chịu để tiếp theo với câu &quot; nhưng nó luôn không làm cho tôi hạnh phúc &quot; .\n",
            "Result: When I wrote this book , I felt very hard to find the very hard , because I felt , I felt very hard to say , &quot; I &apos;m not very happy to say , &quot; I &apos;m not going to be happy , but I &apos;m not going to do it with the same story . &quot;\n",
            "Inference finished! || Total inference time: 0:00:00.966802secs\n",
            "Preprocessing input sentence...\n",
            "Encoding input sentence...\n"
          ]
        },
        {
          "output_type": "stream",
          "name": "stderr",
          "text": [
            "\r 53%|█████▎    | 678/1268 [05:12<06:17,  1.56it/s]"
          ]
        },
        {
          "output_type": "stream",
          "name": "stdout",
          "text": [
            "Input: Nhưng chủ yếu là thật khó mà tháo tung một di sản về giới tính và vấn đề sắc tộc trong khi tôi là một trong những người hưởng lợi lớn nhất .\n",
            "Result: But the most important thing that they &apos;re going to be a very , very powerful and the problem in the most of the most importantest people in the most important people .\n",
            "Inference finished! || Total inference time: 0:00:00.480002secs\n",
            "Preprocessing input sentence...\n",
            "Encoding input sentence...\n"
          ]
        },
        {
          "output_type": "stream",
          "name": "stderr",
          "text": [
            "\r 54%|█████▎    | 679/1268 [05:13<07:35,  1.29it/s]"
          ]
        },
        {
          "output_type": "stream",
          "name": "stdout",
          "text": [
            "Input: Nhưng tôi cũng là vui mừng và vinh dự lên đây tôi nghĩ rằng nó là may mắn là tôi đã đến trước khi 10 , 20 hay 30 năm trôi qua và tôi đã từng làm việc với nhiều công ty trong sự nghiệp của mình , bởi vì khi đó tôi có thể sẽ không thể kể chuyện làm thế nào tôi có công việc đầu tiên , hay có lẽ tôi sẽ không nói ra chuyện về làm thế nào tôi có tiền đóng học phí , mà có vẻ quan trọng như vậy ngay lúc này .\n",
            "Result: But I &apos;m also happy and this is that I think it &apos;s lucky today , 10 years ago , or 30 years ago , and I &apos;ve got a lot of people who can &apos;t tell me how I can &apos;t have , or I can &apos;t know how I &apos;m going to do this , or I can &apos;t have to do this .\n",
            "Inference finished! || Total inference time: 0:00:01.075556secs\n",
            "Preprocessing input sentence...\n",
            "Encoding input sentence...\n"
          ]
        },
        {
          "output_type": "stream",
          "name": "stderr",
          "text": [
            " 54%|█████▍    | 682/1268 [05:14<04:08,  2.36it/s]"
          ]
        },
        {
          "output_type": "stream",
          "name": "stdout",
          "text": [
            "Input: Nếu có một điều gì đọng lại trong buổi trò chuyện này , tôi hy vọng nó là tất cả chúng ta đều cảm thấy thoải mái hơn khi thừa nhận sức mạnh của hình ảnh trong nhận thức về thành công và thất bại của chúng ta .\n",
            "Result: If there &apos;s something on this story , I hope it &apos;s all the more than the power of the stusing the stus of our own , our own sty and our own .\n",
            "Inference finished! || Total inference time: 0:00:00.541083secs\n",
            "Preprocessing input sentence...\n",
            "Encoding input sentence...\n",
            "Input: Cảm ơn các bạn .\n",
            "Result: Thank you .\n",
            "Inference finished! || Total inference time: 0:00:00.050364secs\n",
            "Preprocessing input sentence...\n",
            "Encoding input sentence...\n",
            "Input: Có rất nhiều cách mà những người ở xung quanh chúng ta có thể giúp cải thiện cuộc sống của chúng ta\n",
            "Result: There are many ways that we can help help our lives .\n",
            "Inference finished! || Total inference time: 0:00:00.132655secs\n",
            "Preprocessing input sentence...\n",
            "Encoding input sentence...\n"
          ]
        },
        {
          "output_type": "stream",
          "name": "stderr",
          "text": [
            "\r 54%|█████▍    | 683/1268 [05:14<04:18,  2.26it/s]"
          ]
        },
        {
          "output_type": "stream",
          "name": "stdout",
          "text": [
            "Input: Chúng ta không đụng vào mỗi người xung quanh , vì vậy có rất nhiều sự thông thái không bao giờ được biết tới , dù chúng ta cùng chia sẻ những không gian công cộng .\n",
            "Result: We don &apos;t have everyone around , so there &apos;s a lot of information that has never been , even though we &apos;re going to share with the community .\n",
            "Inference finished! || Total inference time: 0:00:00.490103secs\n",
            "Preprocessing input sentence...\n",
            "Encoding input sentence...\n"
          ]
        },
        {
          "output_type": "stream",
          "name": "stderr",
          "text": [
            "\r 54%|█████▍    | 684/1268 [05:15<05:03,  1.92it/s]"
          ]
        },
        {
          "output_type": "stream",
          "name": "stdout",
          "text": [
            "Input: Vì vậy vài năm qua , tôi đang cố gắng nhiều cách để chia sẻ nhiều hơn với các hàng xóm của tôi ở không gian công cộng , sử dụng các công cụ đơn giản như giấy dán , giấy đục lỗ và phấn .\n",
            "Result: So , I &apos;m trying to share more and more , and I &apos;m trying to share more than my friends in the environment , using , use a little bit like , especially , especially , especially , and especially .\n",
            "Inference finished! || Total inference time: 0:00:00.731910secs\n",
            "Preprocessing input sentence...\n",
            "Encoding input sentence...\n"
          ]
        },
        {
          "output_type": "stream",
          "name": "stderr",
          "text": [
            "\r 54%|█████▍    | 685/1268 [05:15<04:28,  2.17it/s]"
          ]
        },
        {
          "output_type": "stream",
          "name": "stdout",
          "text": [
            "Input: Và những dự án này đến từ những câu hỏi tôi đặt ra , như là , hàng xóm của tôi phải trả bao nhiêu tiền cho những căn hộ của họ ?\n",
            "Result: And these projects from the questions I asked , like my mother , they have to pay money for their money ?\n",
            "Inference finished! || Total inference time: 0:00:00.295167secs\n",
            "Preprocessing input sentence...\n",
            "Encoding input sentence...\n"
          ]
        },
        {
          "output_type": "stream",
          "name": "stderr",
          "text": [
            "\r 54%|█████▍    | 686/1268 [05:16<04:15,  2.27it/s]"
          ]
        },
        {
          "output_type": "stream",
          "name": "stdout",
          "text": [
            "Input: Làm thế nào chúng ta cho mượn và mượn nhiều thứ hơn mà không gõ cửa nhà của nhau vào thời điểm xấu ?\n",
            "Result: How do we take a very much more than the house that &apos;s not going to be also going to be a little bit of the same time ?\n",
            "Inference finished! || Total inference time: 0:00:00.379656secs\n",
            "Preprocessing input sentence...\n",
            "Encoding input sentence...\n"
          ]
        },
        {
          "output_type": "stream",
          "name": "stderr",
          "text": [
            "\r 54%|█████▍    | 687/1268 [05:16<04:02,  2.39it/s]"
          ]
        },
        {
          "output_type": "stream",
          "name": "stdout",
          "text": [
            "Input: Làm thế nào chúng ta chia sẻ nhiều hơn những kí ức của chúng ta về những toà nhà bị bỏ hoang , và thu nhận hiểu biết tốt hơn về cảnh quan của chúng ta ?\n",
            "Result: How do we share more of our own screcresing the buildings , and they understand how much more importantly ?\n",
            "Inference finished! || Total inference time: 0:00:00.356101secs\n",
            "Preprocessing input sentence...\n",
            "Encoding input sentence...\n"
          ]
        },
        {
          "output_type": "stream",
          "name": "stderr",
          "text": [
            "\r 54%|█████▍    | 688/1268 [05:17<03:48,  2.54it/s]"
          ]
        },
        {
          "output_type": "stream",
          "name": "stdout",
          "text": [
            "Input: Và làm thế nào chúng ta chia sẻ nhiều hơn những hy vọng của chúng ta cho các cửa hàng mặt tiền còn trống , như vậy các cộng đồng của chúng ta có thể phản ánh nhu cầu và mơ ước của chúng ta hiện nay ?\n",
            "Result: And how do we share more our hopes for our money , like our community can be , and our dreams can help us today ?\n",
            "Inference finished! || Total inference time: 0:00:00.326019secs\n",
            "Preprocessing input sentence...\n",
            "Encoding input sentence...\n"
          ]
        },
        {
          "output_type": "stream",
          "name": "stderr",
          "text": [
            "\r 54%|█████▍    | 689/1268 [05:17<03:24,  2.84it/s]"
          ]
        },
        {
          "output_type": "stream",
          "name": "stdout",
          "text": [
            "Input: Hiện tại , tôi sống ở New Orleans , và tôi đang yêu New Orleans ,\n",
            "Result: Now , I lived in New York , and I &apos;m in New York .\n",
            "Inference finished! || Total inference time: 0:00:00.248261secs\n",
            "Preprocessing input sentence...\n",
            "Encoding input sentence...\n"
          ]
        },
        {
          "output_type": "stream",
          "name": "stderr",
          "text": [
            "\r 54%|█████▍    | 690/1268 [05:17<04:15,  2.26it/s]"
          ]
        },
        {
          "output_type": "stream",
          "name": "stdout",
          "text": [
            "Input: Tâm hồn tôi luôn luôn được xoa dịu bởi những cây sồi còn sống khổng lồ , phủ bóng lên những kẻ đang yêu , những kẻ say và những kẻ mơ mộng hàng trăm năm , và tôi tin tưởng vào thành phố mà luôn tạo chỗ cho âm nhạc .\n",
            "Result: My own , I always always because the sts of the sts of the stse , they lived , they were going to be a lot of thousands of years , and I believed in the city for the city .\n",
            "Inference finished! || Total inference time: 0:00:00.649651secs\n",
            "Preprocessing input sentence...\n",
            "Encoding input sentence...\n"
          ]
        },
        {
          "output_type": "stream",
          "name": "stderr",
          "text": [
            "\r 54%|█████▍    | 691/1268 [05:18<04:18,  2.23it/s]"
          ]
        },
        {
          "output_type": "stream",
          "name": "stdout",
          "text": [
            "Input: Tôi cảm thấy giống mỗi lần ai đó hắt xì , New Orleans có cả một cuộc diễu hành .\n",
            "Result: I feel like everybody , New York , also there was a very , a very , a very , a very , a very very , .\n",
            "Inference finished! || Total inference time: 0:00:00.458573secs\n",
            "Preprocessing input sentence...\n",
            "Encoding input sentence...\n"
          ]
        },
        {
          "output_type": "stream",
          "name": "stderr",
          "text": [
            "\r 55%|█████▍    | 692/1268 [05:18<04:16,  2.24it/s]"
          ]
        },
        {
          "output_type": "stream",
          "name": "stdout",
          "text": [
            "Input: Thành phố có một số công trình kiến trúc đẹp nhất trên thế giới , nhưng nó cũng có một số lượng lớn nhất những giá trị bị bỏ phế ở Mỹ .\n",
            "Result: The city has a greatest , but it &apos;s also also a lot of the most of the most of the United States in the United States .\n",
            "Inference finished! || Total inference time: 0:00:00.432889secs\n",
            "Preprocessing input sentence...\n",
            "Encoding input sentence...\n"
          ]
        },
        {
          "output_type": "stream",
          "name": "stderr",
          "text": [
            " 55%|█████▍    | 694/1268 [05:19<03:24,  2.81it/s]"
          ]
        },
        {
          "output_type": "stream",
          "name": "stdout",
          "text": [
            "Input: Tôi sống gần căn nhà này , và tôi nghĩ làm sao tôi có thể làm nó trở thành nơi đẹp hơn cho khu dân cư của tôi , và tôi cũng nghĩ về một thứ gì đó có thể thay đổi cuộc đời tôi mãi mãi .\n",
            "Result: I lived this room , and I think how I could make it a better place for my country , and I think about something that I could change my life .\n",
            "Inference finished! || Total inference time: 0:00:00.380016secs\n",
            "Preprocessing input sentence...\n",
            "Encoding input sentence...\n",
            "Input: Vào năm 2009 , tôi mất đi một người tôi vô cùng yêu quý .\n",
            "Result: In 2009 , I was going to go to a love for me .\n",
            "Inference finished! || Total inference time: 0:00:00.177110secs\n",
            "Preprocessing input sentence...\n",
            "Encoding input sentence...\n"
          ]
        },
        {
          "output_type": "stream",
          "name": "stderr",
          "text": [
            "\r 55%|█████▍    | 695/1268 [05:19<03:48,  2.51it/s]"
          ]
        },
        {
          "output_type": "stream",
          "name": "stdout",
          "text": [
            "Input: Tên bà là Joan , và bà là một người mẹ đối với tôi , và cái chết của bà là sự bất ngờ và không lường được .\n",
            "Result: My mother was , and she was a mother with my mother , and the sts of her , and they weren &apos;t sted and not sty .\n",
            "Inference finished! || Total inference time: 0:00:00.490404secs\n",
            "Preprocessing input sentence...\n",
            "Encoding input sentence...\n"
          ]
        },
        {
          "output_type": "stream",
          "name": "stderr",
          "text": [
            "\r 55%|█████▍    | 696/1268 [05:20<04:45,  2.00it/s]"
          ]
        },
        {
          "output_type": "stream",
          "name": "stdout",
          "text": [
            "Input: Và tôi đã nghĩ về cái chết rất nhiều , và điều này làm tôi cảm giác biết ơn sâu đậm cho những thời gian tôi đã có , và mang lại sự rõ ràng cho những điều có ý nghĩa cho cuộc đời tôi bây giờ\n",
            "Result: And I thought about this , and this is very much , this is very much , and I have very much time to the life that has been , and the idea of my life .\n",
            "Inference finished! || Total inference time: 0:00:00.727409secs\n",
            "Preprocessing input sentence...\n",
            "Encoding input sentence...\n"
          ]
        },
        {
          "output_type": "stream",
          "name": "stderr",
          "text": [
            "\r 55%|█████▍    | 697/1268 [05:20<04:09,  2.29it/s]"
          ]
        },
        {
          "output_type": "stream",
          "name": "stdout",
          "text": [
            "Input: Nhưng tôi đấu tranh để duy trì góc nhìn này trong cuộc sống hàng ngày của mình .\n",
            "Result: But I &apos;m going to put this in my life in my life .\n",
            "Inference finished! || Total inference time: 0:00:00.280795secs\n",
            "Preprocessing input sentence...\n",
            "Encoding input sentence...\n"
          ]
        },
        {
          "output_type": "stream",
          "name": "stderr",
          "text": [
            "\r 55%|█████▌    | 698/1268 [05:21<04:33,  2.08it/s]"
          ]
        },
        {
          "output_type": "stream",
          "name": "stdout",
          "text": [
            "Input: Tôi cảm giác như thật dễ để nắm bắt được theo ngày qua ngày , và quên mất điều thực sự có ý nghĩa với bạn .\n",
            "Result: I feel like this , it &apos;s easy to get out of the day , and it &apos;s really sure that you have to be .\n",
            "Inference finished! || Total inference time: 0:00:00.569265secs\n",
            "Preprocessing input sentence...\n",
            "Encoding input sentence...\n"
          ]
        },
        {
          "output_type": "stream",
          "name": "stderr",
          "text": [
            "\r 55%|█████▌    | 699/1268 [05:22<06:46,  1.40it/s]"
          ]
        },
        {
          "output_type": "stream",
          "name": "stdout",
          "text": [
            "Input: Vì vậy với sự giúp đỡ của những người bạn cũ và mới , tôi chuyển một bên của toà nhà bỏ hoang này thành một bảng phấn khổng lồ và tô khuôn nó với một câu điền-vào-chỗ-trống : &quot; Trước khi tôi chết , tôi muốn ... &quot; để bất kì ai đi ngang qua có thể nhặt một mảnh phấn , phản ánh cuộc đời của họ , và chia sẻ khát vọng cá nhân của họ trong không gian công cộng .\n",
            "Result: So with the help of you and new people , I moved a building of this , and it was a very small , and it was a very very , when I wanted to go with a very , and , &quot; I want to share themselves , &quot; and I want to share their own life , and I want to share their own life .\n",
            "Inference finished! || Total inference time: 0:00:01.247679secs\n",
            "Preprocessing input sentence...\n",
            "Encoding input sentence...\n"
          ]
        },
        {
          "output_type": "stream",
          "name": "stderr",
          "text": [
            "\r 55%|█████▌    | 700/1268 [05:23<07:23,  1.28it/s]"
          ]
        },
        {
          "output_type": "stream",
          "name": "stdout",
          "text": [
            "Input: Tôi không biết phải trông đợi điều gì từ cuộc thử nghiệm này , nhưng vào ngày hôm sau , bức tường đã hoàn toàn được phủ kín , và nó cứ tiếp tục phát triển .\n",
            "Result: I don &apos;t know what I &apos;m not going to look at this experiment , but in the next day , it &apos;s also going to be going to be , and it &apos;s going to be going to be able to develop the government .\n",
            "Inference finished! || Total inference time: 0:00:00.926150secs\n",
            "Preprocessing input sentence...\n",
            "Encoding input sentence...\n"
          ]
        },
        {
          "output_type": "stream",
          "name": "stderr",
          "text": [
            "\r 55%|█████▌    | 701/1268 [05:23<05:50,  1.62it/s]"
          ]
        },
        {
          "output_type": "stream",
          "name": "stdout",
          "text": [
            "Input: Và tôi muốn chia sẻ một vài điều về cái mọi người viết trên bức tường đó .\n",
            "Result: And I want to share some of people who write on the wall .\n",
            "Inference finished! || Total inference time: 0:00:00.225830secs\n",
            "Preprocessing input sentence...\n",
            "Encoding input sentence...\n"
          ]
        },
        {
          "output_type": "stream",
          "name": "stderr",
          "text": [
            "\r 55%|█████▌    | 702/1268 [05:24<05:02,  1.87it/s]"
          ]
        },
        {
          "output_type": "stream",
          "name": "stdout",
          "text": [
            "Input: &quot; Trước khi tôi chết , tôi muốn thử ăn cướp . &quot;\n",
            "Result: &quot; Before I wanted to try to try to get they . &quot;\n",
            "Inference finished! || Total inference time: 0:00:00.330765secs\n",
            "Preprocessing input sentence...\n",
            "Encoding input sentence...\n"
          ]
        },
        {
          "output_type": "stream",
          "name": "stderr",
          "text": [
            "\r 55%|█████▌    | 703/1268 [05:24<05:01,  1.88it/s]"
          ]
        },
        {
          "output_type": "stream",
          "name": "stdout",
          "text": [
            "Input: &quot; Trước khi tôi chết , tôi muốn được dang chân trên Đường Đổi ngày Quốc tế . &quot;\n",
            "Result: &quot; Before I wanted to be , I wanted to be in the U.S. , &quot; the day . &quot;\n",
            "Inference finished! || Total inference time: 0:00:00.522216secs\n",
            "Preprocessing input sentence...\n",
            "Encoding input sentence...\n"
          ]
        },
        {
          "output_type": "stream",
          "name": "stderr",
          "text": [
            " 56%|█████▌    | 705/1268 [05:25<03:33,  2.64it/s]"
          ]
        },
        {
          "output_type": "stream",
          "name": "stdout",
          "text": [
            "Input: &quot; Trước khi tôi chết , tôi muốn được hát cho hàng triệu người . &quot;\n",
            "Result: &quot; Before I wanted to be , I wanted to be a million people . &quot;\n",
            "Inference finished! || Total inference time: 0:00:00.287296secs\n",
            "Preprocessing input sentence...\n",
            "Encoding input sentence...\n",
            "Input: &quot; Trước khi tôi chết , tôi muốn trồng một cái cây . &quot;\n",
            "Result: &quot; Before I wanted to get a tree . &quot;\n",
            "Inference finished! || Total inference time: 0:00:00.182673secs\n",
            "Preprocessing input sentence...\n",
            "Encoding input sentence...\n"
          ]
        },
        {
          "output_type": "stream",
          "name": "stderr",
          "text": [
            "\r 56%|█████▌    | 706/1268 [05:25<03:04,  3.04it/s]"
          ]
        },
        {
          "output_type": "stream",
          "name": "stdout",
          "text": [
            "Input: &quot; Trước khi tôi chết , tôi muốn sống ngoài khuôn phép . &quot;\n",
            "Result: &quot; Before I wanted to live on the face . &quot;\n",
            "Inference finished! || Total inference time: 0:00:00.205669secs\n",
            "Preprocessing input sentence...\n",
            "Encoding input sentence...\n"
          ]
        },
        {
          "output_type": "stream",
          "name": "stderr",
          "text": [
            "\r 56%|█████▌    | 707/1268 [05:25<02:58,  3.15it/s]"
          ]
        },
        {
          "output_type": "stream",
          "name": "stdout",
          "text": [
            "Input: &quot; Trước khi tôi chết , tôi muốn được ôm cô ấy một lần nữa . &quot;\n",
            "Result: &quot; Before I wanted to get her , I wanted to get a few times . &quot;\n",
            "Inference finished! || Total inference time: 0:00:00.284944secs\n",
            "Preprocessing input sentence...\n",
            "Encoding input sentence...\n"
          ]
        },
        {
          "output_type": "stream",
          "name": "stderr",
          "text": [
            " 56%|█████▌    | 709/1268 [05:26<02:38,  3.53it/s]"
          ]
        },
        {
          "output_type": "stream",
          "name": "stdout",
          "text": [
            "Input: &quot; Trước khi tôi chết , tôi muốn thành kị binh của ai đó &quot;\n",
            "Result: &quot; Before I wanted to be , I wanted to be going to be anyone else . &quot;\n",
            "Inference finished! || Total inference time: 0:00:00.321050secs\n",
            "Preprocessing input sentence...\n",
            "Encoding input sentence...\n",
            "Input: &quot; Trước khi tôi chết , tôi muốn hoàn toàn là chính mình . &quot;\n",
            "Result: &quot; Before I wanted to be a completely . &quot;\n",
            "Inference finished! || Total inference time: 0:00:00.192825secs\n",
            "Preprocessing input sentence...\n",
            "Encoding input sentence...\n"
          ]
        },
        {
          "output_type": "stream",
          "name": "stderr",
          "text": [
            "\r 56%|█████▌    | 710/1268 [05:27<04:01,  2.31it/s]"
          ]
        },
        {
          "output_type": "stream",
          "name": "stdout",
          "text": [
            "Input: Vậy không gian bị bỏ bê này đã trở thành một không gian kiến tạo , và những hy vọng và những ước mơ của mọi người khiến tôi cười phá lên , chảy nước mắt , và chúng an ủi tôi trong suốt những thời gian khó khăn của mình .\n",
            "Result: So , this space is not a very , and the hopes of people who are going to be , and they &apos;re going to get , and they &apos;re going to go back to the time , and they &apos;re going to be in my time .\n",
            "Inference finished! || Total inference time: 0:00:00.775055secs\n",
            "Preprocessing input sentence...\n",
            "Encoding input sentence...\n"
          ]
        },
        {
          "output_type": "stream",
          "name": "stderr",
          "text": [
            "\r 56%|█████▌    | 711/1268 [05:27<03:27,  2.69it/s]"
          ]
        },
        {
          "output_type": "stream",
          "name": "stdout",
          "text": [
            "Input: Đó là về biết rằng bạn không chỉ có một mình .\n",
            "Result: It &apos;s about known that you &apos;re not just a bit .\n",
            "Inference finished! || Total inference time: 0:00:00.224331secs\n",
            "Preprocessing input sentence...\n",
            "Encoding input sentence...\n"
          ]
        },
        {
          "output_type": "stream",
          "name": "stderr",
          "text": [
            "\r 56%|█████▌    | 712/1268 [05:27<03:04,  3.01it/s]"
          ]
        },
        {
          "output_type": "stream",
          "name": "stdout",
          "text": [
            "Input: Đó là về hiểu những người xung quanh chúng ta theo những cách mới và sáng sủa .\n",
            "Result: That &apos;s about trying to understand the people that are around and the light .\n",
            "Inference finished! || Total inference time: 0:00:00.233521secs\n",
            "Preprocessing input sentence...\n",
            "Encoding input sentence...\n"
          ]
        },
        {
          "output_type": "stream",
          "name": "stderr",
          "text": [
            "\r 56%|█████▌    | 713/1268 [05:27<03:03,  3.02it/s]"
          ]
        },
        {
          "output_type": "stream",
          "name": "stdout",
          "text": [
            "Input: Đó là về tạo ra không gian cho phản ánh và chiêm nghiệm , và nhớ rằng điều gì thực sự ý nghĩa nhất với chúng ta khi chúng ta trưởng thành và thay đổi .\n",
            "Result: It &apos;s about the space , and they remember what the most important thing is that the most important thing we change and change .\n",
            "Inference finished! || Total inference time: 0:00:00.321352secs\n",
            "Preprocessing input sentence...\n",
            "Encoding input sentence...\n"
          ]
        },
        {
          "output_type": "stream",
          "name": "stderr",
          "text": [
            "\r 56%|█████▋    | 714/1268 [05:28<04:23,  2.11it/s]"
          ]
        },
        {
          "output_type": "stream",
          "name": "stdout",
          "text": [
            "Input: Tôi làm dự án này năm ngoái , và bắt đầu nhận được hàng trăm lá thư từ những người nhiệt thành những người muốn làm một bức tường ở cộng đồng của họ , vì vậy các đồng nghiệp dân cư trung tâm và tôi làm một công cụ , và bây giờ những bức tường đã đang được làm ở các đất nước trên thế giới , bao gồm Kazakhstan , Nam Phi , Úc , Ác-hen-ti-na và nhiều hơn nữa .\n",
            "Result: I worked on this year , and started to realize hundreds of people who wanted to make a computer in the lab , so I &apos;ve done across the city , and now , also in the middle of the country , across the country , across the country , and a lot of the country .\n",
            "Inference finished! || Total inference time: 0:00:00.803048secs\n",
            "Preprocessing input sentence...\n",
            "Encoding input sentence...\n"
          ]
        },
        {
          "output_type": "stream",
          "name": "stderr",
          "text": [
            "\r 56%|█████▋    | 715/1268 [05:29<04:13,  2.18it/s]"
          ]
        },
        {
          "output_type": "stream",
          "name": "stdout",
          "text": [
            "Input: Cùng nhau , chúng ta đã chỉ ra những không gian công cộng của chúng ta có sức mạnh đến thế nào có thể nếu chúng ta được cho cơ hội để có một tiếng nói và chia sẻ nhiều hơn với một người khác .\n",
            "Result: We &apos;ve just just shown our community-term community , if we can be going to be able to give us a chance to share a lot of other people .\n",
            "Inference finished! || Total inference time: 0:00:00.414589secs\n",
            "Preprocessing input sentence...\n",
            "Encoding input sentence...\n"
          ]
        },
        {
          "output_type": "stream",
          "name": "stderr",
          "text": [
            "\r 56%|█████▋    | 716/1268 [05:29<03:32,  2.60it/s]"
          ]
        },
        {
          "output_type": "stream",
          "name": "stdout",
          "text": [
            "Input: Hai điều quan trọng nhất chúng ta có là thời gian và mối quan hệ với những người khác .\n",
            "Result: The second thing is that we have is that we have the relationships and others .\n",
            "Inference finished! || Total inference time: 0:00:00.204594secs\n",
            "Preprocessing input sentence...\n",
            "Encoding input sentence...\n"
          ]
        },
        {
          "output_type": "stream",
          "name": "stderr",
          "text": [
            "\r 57%|█████▋    | 717/1268 [05:29<03:57,  2.32it/s]"
          ]
        },
        {
          "output_type": "stream",
          "name": "stdout",
          "text": [
            "Input: Trong kỉ nguyên gia tăng sự phân tán của chúng ta , điều này còn quan trọng hơn bao giờ hết để tìm ra cách duy trì góc nhìn và nhớ rằng cuộc sống là ngắn ngủi và mềm mại .\n",
            "Result: In the last year , this is more important than now , they &apos;re more important to find the way to look at the way and look at the very short , and this is a very short .\n",
            "Inference finished! || Total inference time: 0:00:00.533120secs\n",
            "Preprocessing input sentence...\n",
            "Encoding input sentence...\n"
          ]
        },
        {
          "output_type": "stream",
          "name": "stderr",
          "text": [
            "\r 57%|█████▋    | 718/1268 [05:30<04:37,  1.98it/s]"
          ]
        },
        {
          "output_type": "stream",
          "name": "stdout",
          "text": [
            "Input: Cái chết là một cái gì đó chúng ta thường không được khuyến khích để nói đến hoặc thậm chí là nghĩ đến , nhưng tôi đã đang nhận ra rằng chuẩn bị cho cái chết là một trong những điều quyền lực nhất bạn có thể làm .\n",
            "Result: What is that , something that we &apos;re not going to be going to be , or even though , but I &apos;ve been thinking that the most of the most people are going to be in the most of the most most of you can do .\n",
            "Inference finished! || Total inference time: 0:00:00.667371secs\n",
            "Preprocessing input sentence...\n",
            "Encoding input sentence...\n",
            "Input: Suy nghĩ về cái chết làm cuộc sống của bạn rõ ràng .\n",
            "Result: Think about your life .\n",
            "Inference finished! || Total inference time: 0:00:00.070149secs\n",
            "Preprocessing input sentence...\n",
            "Encoding input sentence...\n"
          ]
        },
        {
          "output_type": "stream",
          "name": "stderr",
          "text": [
            " 57%|█████▋    | 722/1268 [05:31<02:46,  3.28it/s]"
          ]
        },
        {
          "output_type": "stream",
          "name": "stdout",
          "text": [
            "Input: Những không gian được chia sẻ của chúng ta có thể tốt hơn được phản ánh về những điều xảy ra cho chúng ta như là những cá thể và như là một cộng đồng , và với nhiều cách hơn để chia sẻ hy vọng , nỗi sợ hãi và những câu chuyện , những người xung quanh chúng ta không chỉ có thể giúp chúng ta làm những nơi tốt đẹp hơn , họ có thể giúp chúng ta dẫn dắt cuộc sống tốt hơn .\n",
            "Result: The space is , our series can be better than what happens to us as also be more like , and more likely , and more likely to share the stories , and more likely to share the stories , and more goods , and more goods , and help us help us help us help them help them .\n",
            "Inference finished! || Total inference time: 0:00:00.781843secs\n",
            "Preprocessing input sentence...\n",
            "Encoding input sentence...\n",
            "Input: Cảm ơn .\n",
            "Result: Thank you .\n",
            "Inference finished! || Total inference time: 0:00:00.053177secs\n",
            "Preprocessing input sentence...\n",
            "Encoding input sentence...\n",
            "Input: Cảm ơn\n",
            "Result: Thank you .\n",
            "Inference finished! || Total inference time: 0:00:00.043830secs\n",
            "Preprocessing input sentence...\n",
            "Encoding input sentence...\n"
          ]
        },
        {
          "output_type": "stream",
          "name": "stderr",
          "text": [
            " 57%|█████▋    | 724/1268 [05:32<02:26,  3.71it/s]"
          ]
        },
        {
          "output_type": "stream",
          "name": "stdout",
          "text": [
            "Input: Vâng , tôi làm toán học ứng dụng và đây là một vấn đề khác thường cho bất cứ ai làm toán học ứng dụng , chính là chúng tôi giống như các nhà tư vấn quản lý .\n",
            "Result: Well , I do this , and this is a different problem for anybody who do us , is the reason we like the government .\n",
            "Inference finished! || Total inference time: 0:00:00.365418secs\n",
            "Preprocessing input sentence...\n",
            "Encoding input sentence...\n",
            "Input: Không ai biết chúng tôi làm cái quái gì .\n",
            "Result: Nobody knows what we do .\n",
            "Inference finished! || Total inference time: 0:00:00.104938secs\n",
            "Preprocessing input sentence...\n",
            "Encoding input sentence...\n"
          ]
        },
        {
          "output_type": "stream",
          "name": "stderr",
          "text": [
            " 57%|█████▋    | 726/1268 [05:32<02:16,  3.98it/s]"
          ]
        },
        {
          "output_type": "stream",
          "name": "stdout",
          "text": [
            "Input: Vì vậy , hôm nay tôi sẽ thử cố gắng giải thích cho bạn việc tôi làm .\n",
            "Result: So , today I &apos;m going to try to try to try to explain what I do .\n",
            "Inference finished! || Total inference time: 0:00:00.272766secs\n",
            "Preprocessing input sentence...\n",
            "Encoding input sentence...\n",
            "Input: Vâng , nhảy múa là một trong những hoạt động mà con người thường làm\n",
            "Result: Well , the sts is one of the people who are doing .\n",
            "Inference finished! || Total inference time: 0:00:00.189128secs\n",
            "Preprocessing input sentence...\n",
            "Encoding input sentence...\n"
          ]
        },
        {
          "output_type": "stream",
          "name": "stderr",
          "text": [
            "\r 57%|█████▋    | 727/1268 [05:33<02:57,  3.05it/s]"
          ]
        },
        {
          "output_type": "stream",
          "name": "stdout",
          "text": [
            "Input: Chúng ta yêu thích những vũ công bậc thầy về Ba Lê và Nhảy gõ chân bạn sẽ thấy sau đây .\n",
            "Result: We love the students and they &apos;re going to see the sty and they &apos;re going to see you , and you &apos;re going to see here .\n",
            "Inference finished! || Total inference time: 0:00:00.524807secs\n",
            "Preprocessing input sentence...\n",
            "Encoding input sentence...\n"
          ]
        },
        {
          "output_type": "stream",
          "name": "stderr",
          "text": [
            "\r 57%|█████▋    | 728/1268 [05:33<04:00,  2.24it/s]"
          ]
        },
        {
          "output_type": "stream",
          "name": "stdout",
          "text": [
            "Input: Múa ba lê đòi hỏi một trình độ chuyên môn đặc biệt và trình độ kỹ thuật cao và có thể mức độ phù hợp với bộ môn này có liên quan đến yếu tố di truyền .\n",
            "Result: The third of the sty asked a very complex , and the very high-term , and the very high-term , is the very , to be the very , to the stycted to the stycing .\n",
            "Inference finished! || Total inference time: 0:00:00.737962secs\n",
            "Preprocessing input sentence...\n",
            "Encoding input sentence...\n"
          ]
        },
        {
          "output_type": "stream",
          "name": "stderr",
          "text": [
            "\r 57%|█████▋    | 729/1268 [05:34<04:44,  1.89it/s]"
          ]
        },
        {
          "output_type": "stream",
          "name": "stdout",
          "text": [
            "Input: Thật đáng buồn , rối loạn thần kinh như bệnh Parkinson dần dần phá huỷ khả năng đặc biệt này , như điều đang xảy đến cho bạn tôi Jan Stripling , người mà một thời , đã từng một nghệ sĩ ba lê bậc thầy .\n",
            "Result: It &apos;s amazing , the very , this is , the series of diseases are going to be this , like this , as a woman , a third-year-old , a three-old , a three-old boy .\n",
            "Inference finished! || Total inference time: 0:00:00.726872secs\n",
            "Preprocessing input sentence...\n",
            "Encoding input sentence...\n"
          ]
        },
        {
          "output_type": "stream",
          "name": "stderr",
          "text": [
            "\r 58%|█████▊    | 730/1268 [05:34<04:00,  2.24it/s]"
          ]
        },
        {
          "output_type": "stream",
          "name": "stdout",
          "text": [
            "Input: Trong suốt những năm qua đã có sự tiến bộ to lớn trong quá trình điều trị .\n",
            "Result: In the last years , there was a big big , they were the economics .\n",
            "Inference finished! || Total inference time: 0:00:00.241601secs\n",
            "Preprocessing input sentence...\n",
            "Encoding input sentence...\n"
          ]
        },
        {
          "output_type": "stream",
          "name": "stderr",
          "text": [
            "\r 58%|█████▊    | 731/1268 [05:35<05:34,  1.61it/s]"
          ]
        },
        {
          "output_type": "stream",
          "name": "stdout",
          "text": [
            "Input: Tuy nhiên , 6.3 triệu người trên toàn cầu mắc bệnh , và họ phải sống trong tình trạng suy nhược , run rẩy , xơ cứng vô phương chữa trị và các triệu chứng khác đi cùng với căn bệnh này . Những gì chúng ta cần là các công cụ cho mục tiêu rõ rệt để phát hiện ra bệnh trước khi quá muộn .\n",
            "Result: However , six million people in the world , and they have to live in the very , especially , they have to be able to get different and differently , and they need to be able to make this very much more than they need to be in the same time .\n",
            "Inference finished! || Total inference time: 0:00:01.036351secs\n",
            "Preprocessing input sentence...\n",
            "Encoding input sentence...\n"
          ]
        },
        {
          "output_type": "stream",
          "name": "stderr",
          "text": [
            "\r 58%|█████▊    | 732/1268 [05:36<05:36,  1.59it/s]"
          ]
        },
        {
          "output_type": "stream",
          "name": "stdout",
          "text": [
            "Input: Chúng ta cần đo lường sự tiến triển một cách khách quan , và cuối cùng , cách duy nhất mà chúng ta biết khi chúng ta thực sự có một cách điều trị , là khi chúng ta có một phương pháp chính xác để có thể trả lời chắc chắn .\n",
            "Result: We need to measure the very way of the way , and the only way we know , when we actually have a way , when we have a way to make a solution .\n",
            "Inference finished! || Total inference time: 0:00:00.629568secs\n",
            "Preprocessing input sentence...\n",
            "Encoding input sentence...\n"
          ]
        },
        {
          "output_type": "stream",
          "name": "stderr",
          "text": [
            "\r 58%|█████▊    | 733/1268 [05:37<06:10,  1.44it/s]"
          ]
        },
        {
          "output_type": "stream",
          "name": "stdout",
          "text": [
            "Input: Nhưng thật nản lòng là với bệnh Parkinson và các chứng rối loạn vận động khác , chúng không có dấu ấn sinh học , vì vậy không có phương pháp xét nghiệm máu đơn giản nào mà bạn có thể làm , và cái tốt nhất mà chúng ta có là bài kiểm tra thần kinh này .\n",
            "Result: But it &apos;s very hard to be with the patients and they &apos;re not different , so they don &apos;t have a very simple , so you can do this , and we can do this .\n",
            "Inference finished! || Total inference time: 0:00:00.836687secs\n",
            "Preprocessing input sentence...\n",
            "Encoding input sentence...\n"
          ]
        },
        {
          "output_type": "stream",
          "name": "stderr",
          "text": [
            "\r 58%|█████▊    | 734/1268 [05:37<06:05,  1.46it/s]"
          ]
        },
        {
          "output_type": "stream",
          "name": "stdout",
          "text": [
            "Input: Bạn cần phải đến bệnh viện để làm điều đó . Nó rất rất tốn kém , có nghĩa là cuộc xét nghiệm này nằm ngoài các thử nghiệm lâm sàng , Nó chưa bao giờ được thực hiện .\n",
            "Result: You need to get to the hospital to do that . It &apos;s very , very very , that means , this is very , this is never done .\n",
            "Inference finished! || Total inference time: 0:00:00.654578secs\n",
            "Preprocessing input sentence...\n",
            "Encoding input sentence...\n"
          ]
        },
        {
          "output_type": "stream",
          "name": "stderr",
          "text": [
            "\r 58%|█████▊    | 735/1268 [05:38<04:53,  1.82it/s]"
          ]
        },
        {
          "output_type": "stream",
          "name": "stdout",
          "text": [
            "Input: Nhưng nếu như nếu bệnh nhân có thể làm xét nghiệm này ở nhà thì sao ?\n",
            "Result: But if they could do this experiment in the home ?\n",
            "Inference finished! || Total inference time: 0:00:00.222737secs\n",
            "Preprocessing input sentence...\n",
            "Encoding input sentence...\n"
          ]
        },
        {
          "output_type": "stream",
          "name": "stderr",
          "text": [
            "\r 58%|█████▊    | 736/1268 [05:38<04:23,  2.02it/s]"
          ]
        },
        {
          "output_type": "stream",
          "name": "stdout",
          "text": [
            "Input: Điều đó sẽ thực sự miễn một chuyến đi đến phòng khám , và nếu bệnh nhân còn có thể tự làm xét nghiệm nữa , thì sao ?\n",
            "Result: What would they really go to the lab , and if the patients could make the experience ?\n",
            "Inference finished! || Total inference time: 0:00:00.354771secs\n",
            "Preprocessing input sentence...\n",
            "Encoding input sentence...\n"
          ]
        },
        {
          "output_type": "stream",
          "name": "stderr",
          "text": [
            "\r 58%|█████▊    | 737/1268 [05:38<03:47,  2.33it/s]"
          ]
        },
        {
          "output_type": "stream",
          "name": "stdout",
          "text": [
            "Input: Không tốn thời giờ vàng bạc của nhân viên .\n",
            "Result: It &apos;s not going to be a few of the teachers .\n",
            "Inference finished! || Total inference time: 0:00:00.264127secs\n",
            "Preprocessing input sentence...\n",
            "Encoding input sentence...\n"
          ]
        },
        {
          "output_type": "stream",
          "name": "stderr",
          "text": [
            "\r 58%|█████▊    | 738/1268 [05:39<03:54,  2.26it/s]"
          ]
        },
        {
          "output_type": "stream",
          "name": "stdout",
          "text": [
            "Input: Chỉ tất khoảng $ 300 mà thôi , Để làm xét nghiệm này tại phòng khám Bác Sỹ chuyên khoa thần kinh\n",
            "Result: It &apos;s about 10 dollars , let &apos;s do this in the lab in the science of the science of the science .\n",
            "Inference finished! || Total inference time: 0:00:00.462745secs\n",
            "Preprocessing input sentence...\n",
            "Encoding input sentence...\n"
          ]
        },
        {
          "output_type": "stream",
          "name": "stderr",
          "text": [
            "\r 58%|█████▊    | 739/1268 [05:40<05:23,  1.63it/s]"
          ]
        },
        {
          "output_type": "stream",
          "name": "stdout",
          "text": [
            "Input: Vì vậy , cái tôi muốn đề xuất cho bạn là một cách phi truyền thống qua đó ta có thể đạt được điều này , vì như bạn thấy , ít nhất theo một hướng nào đó , chúng ta đều là những bậc thầy như Jan Stripling bạn tôi .\n",
            "Result: So what I want to show you is a way that we can get this , because you see , at least in a few , we &apos;re all like , we &apos;re all like , we &apos;re all like , you &apos;re all like , you &apos;re all like you .\n",
            "Inference finished! || Total inference time: 0:00:01.001178secs\n",
            "Preprocessing input sentence...\n",
            "Encoding input sentence...\n"
          ]
        },
        {
          "output_type": "stream",
          "name": "stderr",
          "text": [
            "\r 58%|█████▊    | 740/1268 [05:40<04:25,  1.99it/s]"
          ]
        },
        {
          "output_type": "stream",
          "name": "stdout",
          "text": [
            "Input: Ở đây chúng ta có một đoạn phim của các giây thanh quản đang rung\n",
            "Result: Here we have a second video of the series of the sts .\n",
            "Inference finished! || Total inference time: 0:00:00.239411secs\n",
            "Preprocessing input sentence...\n",
            "Encoding input sentence...\n"
          ]
        },
        {
          "output_type": "stream",
          "name": "stderr",
          "text": [
            "\r 58%|█████▊    | 741/1268 [05:41<05:05,  1.73it/s]"
          ]
        },
        {
          "output_type": "stream",
          "name": "stdout",
          "text": [
            "Input: giây thanh quản này khoẻ mạnh và ai đó đang nói , và chúng ta có thể xem mình như những vũ công ba lê thanh nhạc , bởi vì chúng ta phải phối hợp tất cả các cơ quan phát âm khi tạo ra âm thanh , và tất cả chúng ta thực sự có các gen để phụ trách điều đó . Ví dụ như FoxP2 .\n",
            "Result: This is the simple and who says , and we can see if we see these three things , because we have to be the stys , and all of us are all the kind of , and all of the stins of the stin , and we have to do that .\n",
            "Inference finished! || Total inference time: 0:00:00.753708secs\n",
            "Preprocessing input sentence...\n",
            "Encoding input sentence...\n"
          ]
        },
        {
          "output_type": "stream",
          "name": "stderr",
          "text": [
            "\r 59%|█████▊    | 742/1268 [05:41<04:20,  2.02it/s]"
          ]
        },
        {
          "output_type": "stream",
          "name": "stdout",
          "text": [
            "Input: Giống như ba lê nó cần được đào tạo đặc biệt .\n",
            "Result: It &apos;s like three , it &apos;s going to need to be a very complex .\n",
            "Inference finished! || Total inference time: 0:00:00.291657secs\n",
            "Preprocessing input sentence...\n",
            "Encoding input sentence...\n"
          ]
        },
        {
          "output_type": "stream",
          "name": "stderr",
          "text": [
            "\r 59%|█████▊    | 743/1268 [05:41<03:42,  2.36it/s]"
          ]
        },
        {
          "output_type": "stream",
          "name": "stdout",
          "text": [
            "Input: Ý tôi là , thử nghĩ mất bao lâu để một đứa trẻ tập nói .\n",
            "Result: I mean , trying to think , to think , to get a little bit of children .\n",
            "Inference finished! || Total inference time: 0:00:00.253162secs\n",
            "Preprocessing input sentence...\n",
            "Encoding input sentence...\n"
          ]
        },
        {
          "output_type": "stream",
          "name": "stderr",
          "text": [
            "\r 59%|█████▊    | 744/1268 [05:43<05:52,  1.49it/s]"
          ]
        },
        {
          "output_type": "stream",
          "name": "stdout",
          "text": [
            "Input: Từ âm thanh , chúng ta thực sự có thể theo dấu vị trí dây thanh quản khi rung , Khi các chi bị ảnh hưởng bởi Parkinson , Các cơ quan âm thanh cũng bị thế\n",
            "Result: We &apos;re going to actually actually , when they &apos;re going to be able to put the sts , when they &apos;re all going to be , they &apos;re all going to be , they &apos;re going to be , they &apos;re all going to be , they &apos;re going to be going to be , and they &apos;re going to be , the same .\n",
            "Inference finished! || Total inference time: 0:00:01.247658secs\n",
            "Preprocessing input sentence...\n",
            "Encoding input sentence...\n"
          ]
        },
        {
          "output_type": "stream",
          "name": "stderr",
          "text": [
            " 59%|█████▉    | 746/1268 [05:43<03:46,  2.30it/s]"
          ]
        },
        {
          "output_type": "stream",
          "name": "stdout",
          "text": [
            "Input: Vậy nên ở đồ thị bên dưới , bạn có thể thấy một ví dụ về sự rung bất thường của dây thanh quản\n",
            "Result: So in the right side , you can see a example of the series of the styse .\n",
            "Inference finished! || Total inference time: 0:00:00.279925secs\n",
            "Preprocessing input sentence...\n",
            "Encoding input sentence...\n",
            "Input: Chúng ta thấy đều cùng triệu chứng .\n",
            "Result: We see they &apos;re all millions .\n",
            "Inference finished! || Total inference time: 0:00:00.141125secs\n",
            "Preprocessing input sentence...\n",
            "Encoding input sentence...\n"
          ]
        },
        {
          "output_type": "stream",
          "name": "stderr",
          "text": [
            "\r 59%|█████▉    | 747/1268 [05:43<03:28,  2.50it/s]"
          ]
        },
        {
          "output_type": "stream",
          "name": "stdout",
          "text": [
            "Input: Chúng ta thấy giọng run , sự suy nhược và xơ cứng .\n",
            "Result: We see the sound , the sty and they &apos;re very , either .\n",
            "Inference finished! || Total inference time: 0:00:00.314982secs\n",
            "Preprocessing input sentence...\n",
            "Encoding input sentence...\n"
          ]
        },
        {
          "output_type": "stream",
          "name": "stderr",
          "text": [
            "\r 59%|█████▉    | 748/1268 [05:44<03:33,  2.44it/s]"
          ]
        },
        {
          "output_type": "stream",
          "name": "stdout",
          "text": [
            "Input: Lời nói trở nên trầm lắng hơn và nhiều giọng gió hơn sau một thời gian , và đó là một trong các triệu chứng ví dụ về nó .\n",
            "Result: They say , to say more and more than a , and that &apos;s a few years ago , and that &apos;s a million examples of it .\n",
            "Inference finished! || Total inference time: 0:00:00.426514secs\n",
            "Preprocessing input sentence...\n",
            "Encoding input sentence...\n"
          ]
        },
        {
          "output_type": "stream",
          "name": "stderr",
          "text": [
            "\r 59%|█████▉    | 749/1268 [05:45<04:44,  1.82it/s]"
          ]
        },
        {
          "output_type": "stream",
          "name": "stdout",
          "text": [
            "Input: Những hiệu ứng âm thanh này có thể thực sự khó phát hiện , trong một số trường hợp , nhưng với bất kỳ Micro kỹ thuật số nào , và sử dụng phần mềm phân tích giọng nói chuẩn xác kết hợp với kiến thức máy móc mới nhất , rất tân tiến hiện nay chúng ta có thể định lượng chính xác người nào đó nói dối chỗ nào trong hệ miền liên tục giữa sức khoẻ và bệnh tật chỉ bằng cách sử dụng tín hiệu giọng nói .\n",
            "Result: They can actually make it really hard , in some cases , but with any , and we use the software , and use the simple very new , very simple , very largely , very simple , very largely , and we can talk about the power of the healthy and the healthy are very health .\n",
            "Inference finished! || Total inference time: 0:00:00.865668secs\n",
            "Preprocessing input sentence...\n",
            "Encoding input sentence...\n"
          ]
        },
        {
          "output_type": "stream",
          "name": "stderr",
          "text": [
            "\r 59%|█████▉    | 750/1268 [05:45<04:56,  1.75it/s]"
          ]
        },
        {
          "output_type": "stream",
          "name": "stdout",
          "text": [
            "Input: Vậy làm thế nào các bài thử nghiệm dựa trên giọng nói này so sánh ngang ngửa với thử nghiệm lâm sàng chuyên môn ? Cả hai đều không xâm hạm lẫn nhau .\n",
            "Result: So how do you try to work on this voice with the very , they &apos;re going to be in the very small , the two-stic , they &apos;re not going to be able to build together .\n",
            "Inference finished! || Total inference time: 0:00:00.618452secs\n",
            "Preprocessing input sentence...\n",
            "Encoding input sentence...\n"
          ]
        },
        {
          "output_type": "stream",
          "name": "stderr",
          "text": [
            "\r 59%|█████▉    | 751/1268 [05:46<04:06,  2.10it/s]"
          ]
        },
        {
          "output_type": "stream",
          "name": "stdout",
          "text": [
            "Input: Thử nghiệm của thần kinh học không có tính xâm phạm . Chúng đều sử dụng cơ sở hạ tầng hiện có .\n",
            "Result: The experience of the experience is not a very , they use the power of the environment .\n",
            "Inference finished! || Total inference time: 0:00:00.247121secs\n",
            "Preprocessing input sentence...\n",
            "Encoding input sentence...\n"
          ]
        },
        {
          "output_type": "stream",
          "name": "stderr",
          "text": [
            "\r 59%|█████▉    | 752/1268 [05:46<03:38,  2.36it/s]"
          ]
        },
        {
          "output_type": "stream",
          "name": "stdout",
          "text": [
            "Input: Bạn không cần phải thiết kế cả một hệ thống bệnh viện hoàn toàn mới để tiến hành thử nghiệm này\n",
            "Result: You don &apos;t need to be a new system for a new system to try to work this experiment .\n",
            "Inference finished! || Total inference time: 0:00:00.292871secs\n",
            "Preprocessing input sentence...\n",
            "Encoding input sentence...\n"
          ]
        },
        {
          "output_type": "stream",
          "name": "stderr",
          "text": [
            " 59%|█████▉    | 754/1268 [05:46<02:43,  3.15it/s]"
          ]
        },
        {
          "output_type": "stream",
          "name": "stdout",
          "text": [
            "Input: Và cả hai đều chuẩn xác . Nhưng thêm một điều , thử nghiệm dựa trên giọng nói không có tính chuyên môn .\n",
            "Result: And they are all , but a little bit more , they try to be a very good idea on the voice .\n",
            "Inference finished! || Total inference time: 0:00:00.325177secs\n",
            "Preprocessing input sentence...\n",
            "Encoding input sentence...\n",
            "Input: Đó có nghĩa là nó có thể tự thực hiện được .\n",
            "Result: It means that it can be done .\n",
            "Inference finished! || Total inference time: 0:00:00.122919secs\n",
            "Preprocessing input sentence...\n",
            "Encoding input sentence...\n"
          ]
        },
        {
          "output_type": "stream",
          "name": "stderr",
          "text": [
            " 60%|█████▉    | 756/1268 [05:47<02:02,  4.17it/s]"
          ]
        },
        {
          "output_type": "stream",
          "name": "stdout",
          "text": [
            "Input: Tốc độ nhanh , chỉ mất khoảng 30 giây tối đa .\n",
            "Result: The next , just about 30 seconds .\n",
            "Inference finished! || Total inference time: 0:00:00.140133secs\n",
            "Preprocessing input sentence...\n",
            "Encoding input sentence...\n",
            "Input: Chi phí cực thấp , và chúng ta đều biết điều gì sẽ xảy ra .\n",
            "Result: They are very low , and we all know what happens .\n",
            "Inference finished! || Total inference time: 0:00:00.173426secs\n",
            "Preprocessing input sentence...\n",
            "Encoding input sentence...\n"
          ]
        },
        {
          "output_type": "stream",
          "name": "stderr",
          "text": [
            "\r 60%|█████▉    | 757/1268 [05:47<02:17,  3.72it/s]"
          ]
        },
        {
          "output_type": "stream",
          "name": "stdout",
          "text": [
            "Input: Khi một cái gì đó trở nên cực rẻ , nó sẽ được phổ biến trên diện rộng\n",
            "Result: When something becomes very easy , it &apos;s going to be going to be a huge amount of series .\n",
            "Inference finished! || Total inference time: 0:00:00.330366secs\n",
            "Preprocessing input sentence...\n",
            "Encoding input sentence...\n"
          ]
        },
        {
          "output_type": "stream",
          "name": "stderr",
          "text": [
            " 60%|█████▉    | 759/1268 [05:47<01:52,  4.52it/s]"
          ]
        },
        {
          "output_type": "stream",
          "name": "stdout",
          "text": [
            "Input: Vì vậy , đây là một số mục tiêu tuyệt vời mà tôi nghĩ rằng chúng tôi có thể làm bây giờ .\n",
            "Result: So , this is a greatest goal that I think we can do now .\n",
            "Inference finished! || Total inference time: 0:00:00.199886secs\n",
            "Preprocessing input sentence...\n",
            "Encoding input sentence...\n",
            "Input: Chúng tôi có thể làm giảm khó khăn hậu cần cho bệnh nhân .\n",
            "Result: We can make a good way to make patients .\n",
            "Inference finished! || Total inference time: 0:00:00.147733secs\n",
            "Preprocessing input sentence...\n",
            "Encoding input sentence...\n"
          ]
        },
        {
          "output_type": "stream",
          "name": "stderr",
          "text": [
            " 60%|██████    | 761/1268 [05:48<01:49,  4.64it/s]"
          ]
        },
        {
          "output_type": "stream",
          "name": "stdout",
          "text": [
            "Input: Không cần phải đi đến phòng khám để kiểm tra định kì .\n",
            "Result: It &apos;s not not going to go to the room to get to test .\n",
            "Inference finished! || Total inference time: 0:00:00.227639secs\n",
            "Preprocessing input sentence...\n",
            "Encoding input sentence...\n",
            "Input: Chúng tôi có thể thực hiện sự quan sát với tần số cao để có được dữ liệu nhắm đến .\n",
            "Result: We can actually look at the very high-term data to get data .\n",
            "Inference finished! || Total inference time: 0:00:00.187848secs\n",
            "Preprocessing input sentence...\n",
            "Encoding input sentence...\n"
          ]
        },
        {
          "output_type": "stream",
          "name": "stderr",
          "text": [
            "\r 60%|██████    | 762/1268 [05:48<02:45,  3.05it/s]"
          ]
        },
        {
          "output_type": "stream",
          "name": "stdout",
          "text": [
            "Input: Chúng tôi có thể thực hiện tuyển dụng nhân sự hàng loạt với chi phí thấp để thực hiện thử nghiệm lâm sàng , Việc thẩm định trên quy mô dân số là khả thi ngay trong lần đầu tiên này .\n",
            "Result: We can actually make a very very low-s-scted , to try to make a very low-scing , the first-sty-scing , the first time in the first time .\n",
            "Inference finished! || Total inference time: 0:00:00.583534secs\n",
            "Preprocessing input sentence...\n",
            "Encoding input sentence...\n"
          ]
        },
        {
          "output_type": "stream",
          "name": "stderr",
          "text": [
            "\r 60%|██████    | 763/1268 [05:49<02:46,  3.03it/s]"
          ]
        },
        {
          "output_type": "stream",
          "name": "stdout",
          "text": [
            "Input: Chúng tôi có cơ hội để bắt đầu tìm kiếm những dấu ấn sinh học ban đầu của căn bệnh trước khi nó quá muộn .\n",
            "Result: We have the opportunity to start to find the first-scing the first of the first-term cancer , before it was too .\n",
            "Inference finished! || Total inference time: 0:00:00.329651secs\n",
            "Preprocessing input sentence...\n",
            "Encoding input sentence...\n"
          ]
        },
        {
          "output_type": "stream",
          "name": "stderr",
          "text": [
            "\r 60%|██████    | 764/1268 [05:49<02:45,  3.05it/s]"
          ]
        },
        {
          "output_type": "stream",
          "name": "stdout",
          "text": [
            "Input: Vì vậy , để thực hiện các bước đầu tiên hướng tới việc này , chúng tôi đang đưa ra trương trình Khởi Đầu giọng nói Parkinson .\n",
            "Result: So , to do this first time , we &apos;re going to go on the series of the voice .\n",
            "Inference finished! || Total inference time: 0:00:00.318019secs\n",
            "Preprocessing input sentence...\n",
            "Encoding input sentence...\n"
          ]
        },
        {
          "output_type": "stream",
          "name": "stderr",
          "text": [
            "\r 60%|██████    | 765/1268 [05:50<03:39,  2.29it/s]"
          ]
        },
        {
          "output_type": "stream",
          "name": "stdout",
          "text": [
            "Input: Với Aculab và PatientsLikeMe , chúng tôi nhắm đến việc ghi âm lại giọng nói với một số lượng rất lớn trên toàn cầu để thu thập đủ dữ liệu và bắt đầu xử trí bốn mục tiêu .\n",
            "Result: For the New York and the Sils , we put the , we &apos;ve got to go back to the same story with a lot of the big data to go to the end of the end of the end of the end of the end .\n",
            "Inference finished! || Total inference time: 0:00:00.675952secs\n",
            "Preprocessing input sentence...\n",
            "Encoding input sentence...\n"
          ]
        },
        {
          "output_type": "stream",
          "name": "stderr",
          "text": [
            "\r 60%|██████    | 766/1268 [05:50<03:19,  2.52it/s]"
          ]
        },
        {
          "output_type": "stream",
          "name": "stdout",
          "text": [
            "Input: Chúng tôi có những cư dân địa phương có thể tiếp cận được với ba phần tư của một tỷ người trên hành tinh .\n",
            "Result: We have the governments that can be used to be three billion people in the planet .\n",
            "Inference finished! || Total inference time: 0:00:00.296843secs\n",
            "Preprocessing input sentence...\n",
            "Encoding input sentence...\n"
          ]
        },
        {
          "output_type": "stream",
          "name": "stderr",
          "text": [
            "\r 60%|██████    | 767/1268 [05:51<04:53,  1.71it/s]"
          ]
        },
        {
          "output_type": "stream",
          "name": "stdout",
          "text": [
            "Input: Bất cứ ai khoẻ mạnh hoặc mắc bệnh Parkinson có thể gọi tới với giá rẻ , và để lại âm ghi , vài xu mỗi lần , và tôi thực sự vui mừng thông báo rằng chúng tôi đã đạt sáu phần trăm mục tiêu chỉ trong tám giờ .\n",
            "Result: Anyone who &apos;s health or healthy , or they can call the very , and they &apos;re going to be , and every time , and I &apos;ve really , and I &apos;ve gotten five percent of the only one of the next 10 percent .\n",
            "Inference finished! || Total inference time: 0:00:01.015429secs\n",
            "Preprocessing input sentence...\n",
            "Encoding input sentence...\n",
            "Input: Cảm ơn các bạn .\n",
            "Result: Thank you .\n",
            "Inference finished! || Total inference time: 0:00:00.065053secs\n",
            "Preprocessing input sentence...\n",
            "Encoding input sentence...\n"
          ]
        },
        {
          "output_type": "stream",
          "name": "stderr",
          "text": [
            "\r 61%|██████    | 769/1268 [05:52<03:41,  2.26it/s]"
          ]
        },
        {
          "output_type": "stream",
          "name": "stdout",
          "text": [
            "Input: Tom Rielly : Vậy Max , bằng cách lấy tất cả các mẫu cho là của 10.000 người đi , bạn có thể cho biết ai khoẻ mạnh và ai không ?\n",
            "Result: JM : So , how to take all of all of the data is a half of the people , you can tell anyone ?\n",
            "Inference finished! || Total inference time: 0:00:00.471212secs\n",
            "Preprocessing input sentence...\n",
            "Encoding input sentence...\n"
          ]
        },
        {
          "output_type": "stream",
          "name": "stderr",
          "text": [
            "\r 61%|██████    | 770/1268 [05:52<03:14,  2.57it/s]"
          ]
        },
        {
          "output_type": "stream",
          "name": "stdout",
          "text": [
            "Input: Bạn sẽ kết luận được gì từ những mẫu này ?\n",
            "Result: You &apos;ll be able to get these images ?\n",
            "Inference finished! || Total inference time: 0:00:00.216824secs\n",
            "Preprocessing input sentence...\n",
            "Encoding input sentence...\n"
          ]
        },
        {
          "output_type": "stream",
          "name": "stderr",
          "text": [
            "\r 61%|██████    | 771/1268 [05:52<03:40,  2.25it/s]"
          ]
        },
        {
          "output_type": "stream",
          "name": "stdout",
          "text": [
            "Input: Max Little : vâng . Vâng . Điều sẽ xảy ra là , khi gọi bạn phải chỉ rõ bạn có bệnh hay không. phải .\n",
            "Result: E : Yeah . Well , what happens is , when you &apos;re just called you a , you &apos;re not just a disease or not .\n",
            "Inference finished! || Total inference time: 0:00:00.585952secs\n",
            "Preprocessing input sentence...\n",
            "Encoding input sentence...\n"
          ]
        },
        {
          "output_type": "stream",
          "name": "stderr",
          "text": [
            "\r 61%|██████    | 772/1268 [05:53<03:31,  2.35it/s]"
          ]
        },
        {
          "output_type": "stream",
          "name": "stdout",
          "text": [
            "Input: Bạn thấy đó , một số người có thể không làm điều đó . Có thể họ không gọi tới được .\n",
            "Result: You see , someone can &apos;t do it . It can &apos;t call them .\n",
            "Inference finished! || Total inference time: 0:00:00.370164secs\n",
            "Preprocessing input sentence...\n",
            "Encoding input sentence...\n"
          ]
        },
        {
          "output_type": "stream",
          "name": "stderr",
          "text": [
            " 61%|██████    | 774/1268 [05:54<03:50,  2.14it/s]"
          ]
        },
        {
          "output_type": "stream",
          "name": "stdout",
          "text": [
            "Input: Nhưng chúng tôi sẽ lấy một lượng lớn mẫu dữ liệu thu thập được từ tất cả các trường hợp khác nhau , và kết quả có được trong trường hợp khác nhau mới là quan trọng bởi vì sau đó chúng tôi xem xét giải quyết các yếu tố trùng hợp , và tìm kiếm các dấu hiệu thực tế của căn bệnh này .\n",
            "Result: But we &apos;ll take a big data from all the different data , and they have the same different in the environment , because we look at the same time , and we look at the same case , and we look at the same case , and we look at this case .\n",
            "Inference finished! || Total inference time: 0:00:00.955622secs\n",
            "Preprocessing input sentence...\n",
            "Encoding input sentence...\n",
            "Input: Vậy hiện tại độ chính xác là 86 phần trăm ?\n",
            "Result: So what &apos;s happening in the fact ?\n",
            "Inference finished! || Total inference time: 0:00:00.182351secs\n",
            "Preprocessing input sentence...\n",
            "Encoding input sentence..."
          ]
        },
        {
          "output_type": "stream",
          "name": "stderr",
          "text": [
            "\r 61%|██████    | 775/1268 [05:54<03:08,  2.62it/s]"
          ]
        },
        {
          "output_type": "stream",
          "name": "stdout",
          "text": [
            "\n",
            "Input: Hơn mức đó nhiều chứ\n",
            "Result: It &apos;s more than that .\n",
            "Inference finished! || Total inference time: 0:00:00.164928secs\n",
            "Preprocessing input sentence...\n",
            "Encoding input sentence...\n"
          ]
        },
        {
          "output_type": "stream",
          "name": "stderr",
          "text": [
            "\r 61%|██████    | 776/1268 [05:56<06:14,  1.31it/s]"
          ]
        },
        {
          "output_type": "stream",
          "name": "stdout",
          "text": [
            "Input: Thực ra , sinh viên của tôi Thanasis , tôi phải khen ngợi anh ta , bởi vì anh ấy đã làm một số công việc tuyệt vời , anh ta đã chứng minh được rằng điều này còn có thể thực hiện được qua mạng điện thoại di động nữa , điều đó cho phép dự án này được thực hiện , và độ chính xác đang đạt đến 99 phần trăm .\n",
            "Result: In fact , my students , I had to be , because he had to be able to get some of the great jobs , because he had found that this is actually , and that &apos;s actually going to be going to be able to be this , and this is actually , and this is actually going to be a hundred percent of the , and they &apos;re going to be going to be in the , and the this , and the very very very , and the , and the , and the very very very very very \n",
            "Inference finished! || Total inference time: 0:00:01.669063secs\n",
            "Preprocessing input sentence...\n",
            "Encoding input sentence...\n"
          ]
        },
        {
          "output_type": "stream",
          "name": "stderr",
          "text": [
            "\r 61%|██████▏   | 777/1268 [05:56<05:04,  1.61it/s]"
          ]
        },
        {
          "output_type": "stream",
          "name": "stdout",
          "text": [
            "Input: Chín mươi chín . Vâng , một tiến bộ tớn .\n",
            "Result: Using . Yeah , a very , a very , a very , .\n",
            "Inference finished! || Total inference time: 0:00:00.276160secs\n",
            "Preprocessing input sentence...\n",
            "Encoding input sentence...\n"
          ]
        },
        {
          "output_type": "stream",
          "name": "stderr",
          "text": [
            " 61%|██████▏   | 779/1268 [05:57<04:09,  1.96it/s]"
          ]
        },
        {
          "output_type": "stream",
          "name": "stdout",
          "text": [
            "Input: Vậy , điều đó có nghĩa là mọi người sẽ có thể — Mọi người có thể gọi từ điện thoại di động của họ và làm bài kiểm tra này , và những người có bệnh Parkinson có thể gọi , ghi âm giọng nói của họ , và sau đó bác sĩ có thể kiểm tra sự tiến triển của họ , xem tình trạng sức khoẻ của họ khi mang bệnh\n",
            "Result: So , that means that people will have this : People can call their phones and make these questions , and they can call their own , and they can call their own , and then they can call their own health , when they can be able to make their healthy healthy healthy .\n",
            "Inference finished! || Total inference time: 0:00:00.828846secs\n",
            "Preprocessing input sentence...\n",
            "Encoding input sentence...\n",
            "Input: Chính xác .\n",
            "Result: It &apos;s wrong .\n",
            "Inference finished! || Total inference time: 0:00:00.096249secs\n",
            "Preprocessing input sentence...\n",
            "Encoding input sentence...\n"
          ]
        },
        {
          "output_type": "stream",
          "name": "stderr",
          "text": [
            " 62%|██████▏   | 782/1268 [05:57<02:11,  3.70it/s]"
          ]
        },
        {
          "output_type": "stream",
          "name": "stdout",
          "text": [
            "Input: Cảm ơn rất nhiều . Hoan Nghênh Max Little nào mọi người .\n",
            "Result: Thank you very much . The United States is very much .\n",
            "Inference finished! || Total inference time: 0:00:00.188075secs\n",
            "Preprocessing input sentence...\n",
            "Encoding input sentence...\n",
            "Input: Cảm ơn nhiều , Tom .\n",
            "Result: Thank you , thank you .\n",
            "Inference finished! || Total inference time: 0:00:00.090886secs\n",
            "Preprocessing input sentence...\n",
            "Encoding input sentence...\n",
            "Input: Tôi sống ở vùng Trung Nam .\n",
            "Result: I lived in the Middle East .\n",
            "Inference finished! || Total inference time: 0:00:00.094925secs\n",
            "Preprocessing input sentence...\n",
            "Encoding input sentence...\n"
          ]
        },
        {
          "output_type": "stream",
          "name": "stderr",
          "text": [
            "\r 62%|██████▏   | 783/1268 [05:58<02:20,  3.44it/s]"
          ]
        },
        {
          "output_type": "stream",
          "name": "stdout",
          "text": [
            "Input: Đây là vùng Trung Nam : cửa hàng rượu , đồ ăn nhanh , đất hoang .\n",
            "Result: This is the Middle East : the water , they recresing , the water , the water .\n",
            "Inference finished! || Total inference time: 0:00:00.344454secs\n",
            "Preprocessing input sentence...\n",
            "Encoding input sentence...\n"
          ]
        },
        {
          "output_type": "stream",
          "name": "stderr",
          "text": [
            "\r 62%|██████▏   | 784/1268 [05:58<03:11,  2.53it/s]"
          ]
        },
        {
          "output_type": "stream",
          "name": "stdout",
          "text": [
            "Input: Vì vậy các nhà hoạch định thành phố họp lại với nhau và họ định thay cái tên Nam Trung để nó mang ý nghĩa khác . Vậy nên họ đổi thành vùng Nam Los Langeles , như thể việc đó sẽ giải quyết được những rắc rối đang thực sự diễn ra trong thành phố .\n",
            "Result: So they &apos;re going to work together and they &apos;re going to make them also make it , so they can change the series of the city , like they &apos;re going to be able to make the city in the city .\n",
            "Inference finished! || Total inference time: 0:00:00.687347secs\n",
            "Preprocessing input sentence...\n",
            "Encoding input sentence...\n",
            "Input: Đây là vùng Nam Los Angeles .\n",
            "Result: This is the South Pole .\n",
            "Inference finished! || Total inference time: 0:00:00.093027secs\n",
            "Preprocessing input sentence...\n",
            "Encoding input sentence...\n"
          ]
        },
        {
          "output_type": "stream",
          "name": "stderr",
          "text": [
            "\r 62%|██████▏   | 786/1268 [06:00<04:38,  1.73it/s]"
          ]
        },
        {
          "output_type": "stream",
          "name": "stdout",
          "text": [
            "Input: Cửa hàng rượu , đồ ăn nhanh , đất hoang .\n",
            "Result: They &apos;re going to , they &apos;re going to very quickly , they &apos;re going to be very , very , very , very , very , very , very , very , very , very , very , very , very , very , very , very , , very , very , , very , , , , , , very , theysy , , very very very very very \n",
            "Inference finished! || Total inference time: 0:00:01.537451secs\n",
            "Preprocessing input sentence...\n",
            "Encoding input sentence...\n"
          ]
        },
        {
          "output_type": "stream",
          "name": "stderr",
          "text": [
            "\r 62%|██████▏   | 787/1268 [06:01<05:22,  1.49it/s]"
          ]
        },
        {
          "output_type": "stream",
          "name": "stdout",
          "text": [
            "Input: Cũng giống như 26.5 triệu người Mĩ khác , Tôi sống trong một sa mạc thức ăn. vùng Nam Trung Los Angeles , ngôi nhà của quầy phục vụ đồ ăn nhanh bên đường và gậy tai nạn rồi bỏ chạy .\n",
            "Result: And as also , they &apos;re going to be a million people in the United States , I lived in the middle of the South Pole , the North Pole , the sty were going to go back to the sty , and then they were going to go back to the back and then , and then they were going to go back .\n",
            "Inference finished! || Total inference time: 0:00:00.970475secs\n",
            "Preprocessing input sentence...\n",
            "Encoding input sentence...\n"
          ]
        },
        {
          "output_type": "stream",
          "name": "stderr",
          "text": [
            "\r 62%|██████▏   | 788/1268 [06:02<05:01,  1.59it/s]"
          ]
        },
        {
          "output_type": "stream",
          "name": "stdout",
          "text": [
            "Input: Điều thú vị là đồ ăn nhanh bên đường đang giết chết nhiều người hơn gây tai nạn rồi bỏ chạy .\n",
            "Result: What &apos;s interesting is the right side of the right side is going to kill more than they &apos;re going to be more than they &apos;re going to go .\n",
            "Inference finished! || Total inference time: 0:00:00.491604secs\n",
            "Preprocessing input sentence...\n",
            "Encoding input sentence...\n"
          ]
        },
        {
          "output_type": "stream",
          "name": "stderr",
          "text": [
            "\r 62%|██████▏   | 789/1268 [06:02<04:18,  1.85it/s]"
          ]
        },
        {
          "output_type": "stream",
          "name": "stdout",
          "text": [
            "Input: Ở Nam Trung Los Angeles , mọi người đang chết vì những căn bệnh có thể chữa được .\n",
            "Result: In the United States , people who are dying because the patients can be treated .\n",
            "Inference finished! || Total inference time: 0:00:00.287392secs\n",
            "Preprocessing input sentence...\n",
            "Encoding input sentence...\n"
          ]
        },
        {
          "output_type": "stream",
          "name": "stderr",
          "text": [
            "\r 62%|██████▏   | 790/1268 [06:02<04:08,  1.92it/s]"
          ]
        },
        {
          "output_type": "stream",
          "name": "stdout",
          "text": [
            "Input: Ví dụ , tỉ lệ béo phì ở vùng tôi ở cao gấp năm lần so với Beverly Hills chẳng hạn , nơi cách đó khoảng 16 km .\n",
            "Result: For example , the average of the average is in the last year I was in the last year , the way that wasn &apos;t about the last half of the very few months .\n",
            "Inference finished! || Total inference time: 0:00:00.463614secs\n",
            "Preprocessing input sentence...\n",
            "Encoding input sentence...\n"
          ]
        },
        {
          "output_type": "stream",
          "name": "stderr",
          "text": [
            "\r 62%|██████▏   | 791/1268 [06:03<03:27,  2.30it/s]"
          ]
        },
        {
          "output_type": "stream",
          "name": "stdout",
          "text": [
            "Input: Tôi phát chán khi phải chứng kiến điều này diễn ra .\n",
            "Result: I &apos;ve got to get this , to see what happens .\n",
            "Inference finished! || Total inference time: 0:00:00.207360secs\n",
            "Preprocessing input sentence...\n",
            "Encoding input sentence...\n"
          ]
        },
        {
          "output_type": "stream",
          "name": "stderr",
          "text": [
            "\r 62%|██████▏   | 792/1268 [06:03<03:39,  2.17it/s]"
          ]
        },
        {
          "output_type": "stream",
          "name": "stdout",
          "text": [
            "Input: Và tôi tự hỏi , bạn cảm thấy thế nào khi không có thực phẩm có lợi cho sức khoẻ , khi mỗi lần ra khỏi cửa bạn phải nhìn thấy những tác động xấu mà hệ thống thực phẩm hiện nay gây ra cho nơi mình sinh sống ?\n",
            "Result: And I asked , what you feel when there is not a healthy healthy , when every time you see they have to see the same system that &apos;s going to be in the way today ?\n",
            "Inference finished! || Total inference time: 0:00:00.518471secs\n",
            "Preprocessing input sentence...\n",
            "Encoding input sentence...\n",
            "Input: Tôi nhìn thấy xe lăn được mua bán giống như xe cũ vậy .\n",
            "Result: I see the caring , I see the car is like the oldest .\n",
            "Inference finished! || Total inference time: 0:00:00.192618secs\n"
          ]
        },
        {
          "output_type": "stream",
          "name": "stderr",
          "text": [
            "\r 63%|██████▎   | 793/1268 [06:03<03:03,  2.59it/s]"
          ]
        },
        {
          "output_type": "stream",
          "name": "stdout",
          "text": [
            "Preprocessing input sentence...\n",
            "Encoding input sentence...\n"
          ]
        },
        {
          "output_type": "stream",
          "name": "stderr",
          "text": [
            " 63%|██████▎   | 795/1268 [06:04<02:21,  3.33it/s]"
          ]
        },
        {
          "output_type": "stream",
          "name": "stdout",
          "text": [
            "Input: Tôi thấy các trung tâm lọc máu mọc lên nhiều như Starbucks .\n",
            "Result: I see the centers of the blood , they &apos;re going to be a lot like , like this .\n",
            "Inference finished! || Total inference time: 0:00:00.315679secs\n",
            "Preprocessing input sentence...\n",
            "Encoding input sentence...\n",
            "Input: Và tôi nhận ra rằng điều đó phải chấm dứt .\n",
            "Result: And I realized that this was to go .\n",
            "Inference finished! || Total inference time: 0:00:00.131221secs\n",
            "Preprocessing input sentence...\n",
            "Encoding input sentence...\n"
          ]
        },
        {
          "output_type": "stream",
          "name": "stderr",
          "text": [
            "\r 63%|██████▎   | 796/1268 [06:04<02:00,  3.92it/s]"
          ]
        },
        {
          "output_type": "stream",
          "name": "stdout",
          "text": [
            "Input: Tôi nhận ra rằng vấn đề chính là giải pháp .\n",
            "Result: I realized that the problem is the problem .\n",
            "Inference finished! || Total inference time: 0:00:00.140850secs\n",
            "Preprocessing input sentence...\n",
            "Encoding input sentence...\n"
          ]
        },
        {
          "output_type": "stream",
          "name": "stderr",
          "text": [
            "\r 63%|██████▎   | 797/1268 [06:04<02:06,  3.72it/s]"
          ]
        },
        {
          "output_type": "stream",
          "name": "stdout",
          "text": [
            "Input: Thực phẩm là vấn đề và thực phẩm cũng là giải pháp .\n",
            "Result: They &apos;re actually also a problem and they &apos;re also also a problem .\n",
            "Inference finished! || Total inference time: 0:00:00.295024secs\n",
            "Preprocessing input sentence...\n",
            "Encoding input sentence...\n"
          ]
        },
        {
          "output_type": "stream",
          "name": "stderr",
          "text": [
            " 63%|██████▎   | 799/1268 [06:05<02:22,  3.29it/s]"
          ]
        },
        {
          "output_type": "stream",
          "name": "stdout",
          "text": [
            "Input: Với lại tôi cũng cảm thấy mệt mỏi với việc phải lái xe 45 phút chỉ để mua một quả táo không nhiễm thuộc trừ sâu .\n",
            "Result: For me , I felt like to get the ststy for a minute to buy a very bad , not even a very low-scted .\n",
            "Inference finished! || Total inference time: 0:00:00.541356secs\n",
            "Preprocessing input sentence...\n",
            "Encoding input sentence...\n",
            "Input: Điều mà tôi đã làm là trồng một rừng thực phẩm ở trước nhà .\n",
            "Result: What I did is a plant in the house .\n",
            "Inference finished! || Total inference time: 0:00:00.181603secs\n",
            "Preprocessing input sentence...\n",
            "Encoding input sentence...\n"
          ]
        },
        {
          "output_type": "stream",
          "name": "stderr",
          "text": [
            " 63%|██████▎   | 801/1268 [06:05<02:10,  3.58it/s]"
          ]
        },
        {
          "output_type": "stream",
          "name": "stdout",
          "text": [
            "Input: Nó nằm trên một dải đất mà chúng tôi gọi là đường đi dạo .\n",
            "Result: It &apos;s on a planet that we called the very , and we called the top .\n",
            "Inference finished! || Total inference time: 0:00:00.355590secs\n",
            "Preprocessing input sentence...\n",
            "Encoding input sentence...\n",
            "Input: Nó rộng hơn 3m , dài 50m .\n",
            "Result: It &apos;s more than three , 50 .\n",
            "Inference finished! || Total inference time: 0:00:00.170655secs\n",
            "Preprocessing input sentence...\n",
            "Encoding input sentence...\n"
          ]
        },
        {
          "output_type": "stream",
          "name": "stderr",
          "text": [
            " 63%|██████▎   | 803/1268 [06:06<01:43,  4.50it/s]"
          ]
        },
        {
          "output_type": "stream",
          "name": "stdout",
          "text": [
            "Input: Vấn đề là , mảnh đất đó thuộc về thành phố .\n",
            "Result: The problem is , the planet is about the city .\n",
            "Inference finished! || Total inference time: 0:00:00.194632secs\n",
            "Preprocessing input sentence...\n",
            "Encoding input sentence...\n",
            "Input: Nhưng bạn phải trông giữ nó .\n",
            "Result: But you have to look at it .\n",
            "Inference finished! || Total inference time: 0:00:00.129833secs\n",
            "Preprocessing input sentence...\n",
            "Encoding input sentence...\n"
          ]
        },
        {
          "output_type": "stream",
          "name": "stderr",
          "text": [
            "\r 63%|██████▎   | 804/1268 [06:06<02:39,  2.91it/s]"
          ]
        },
        {
          "output_type": "stream",
          "name": "stdout",
          "text": [
            "Input: Nên tôi nghĩ : &quot; Tuyệt . Tôi có thể làm việc gì tôi muốn , bởi vì đó là trách nhiệm của tôi và tôi phải trông giữ nó . &quot;\n",
            "Result: So I think , &quot; Oh , I can do what I want to do , because it &apos;s my own , and I have to go . &quot;\n",
            "Inference finished! || Total inference time: 0:00:00.617640secs\n",
            "Preprocessing input sentence...\n",
            "Encoding input sentence...\n"
          ]
        },
        {
          "output_type": "stream",
          "name": "stderr",
          "text": [
            "\r 63%|██████▎   | 805/1268 [06:07<02:21,  3.27it/s]"
          ]
        },
        {
          "output_type": "stream",
          "name": "stdout",
          "text": [
            "Input: Và đây là cách mà tôi trông giữ mảnh đất đó .\n",
            "Result: And this is how I looked at that country .\n",
            "Inference finished! || Total inference time: 0:00:00.203754secs\n",
            "Preprocessing input sentence...\n",
            "Encoding input sentence...\n"
          ]
        },
        {
          "output_type": "stream",
          "name": "stderr",
          "text": [
            "\r 64%|██████▎   | 806/1268 [06:08<03:45,  2.05it/s]"
          ]
        },
        {
          "output_type": "stream",
          "name": "stdout",
          "text": [
            "Input: Tôi cùng với nhóm của tôi , Những mảnh đất xanh L.A. , chúng tôi tụ họp lại và bắt đầu trồng khu rừng thực phẩm : cây ăn quả , bạn biết đấy , cả chín loại rau quả .\n",
            "Result: I was with my group , the blues , they were , we were going to start , and we started to start the forest : they were very small , and you know , they know , they know , they were very small .\n",
            "Inference finished! || Total inference time: 0:00:00.906081secs\n",
            "Preprocessing input sentence...\n",
            "Encoding input sentence...\n"
          ]
        },
        {
          "output_type": "stream",
          "name": "stderr",
          "text": [
            "\r 64%|██████▎   | 807/1268 [06:09<04:55,  1.56it/s]"
          ]
        },
        {
          "output_type": "stream",
          "name": "stdout",
          "text": [
            "Input: Chúng tôi là một nhóm lấy chia sẻ làm thù lao , gồm những người làm vườn từ nhiều cuộc đời khác nhau , từ mọi nơi trong thành phố , và họ hoàn toàn tự nguyện , và mọi thứ chúng tôi làm đều miễn phí .\n",
            "Result: We &apos;re a group of a group of people who share from different people from different , from all the others , and they &apos;re all going to do , and they &apos;re all going to do , and we &apos;re all going to do .\n",
            "Inference finished! || Total inference time: 0:00:00.985513secs\n",
            "Preprocessing input sentence...\n",
            "Encoding input sentence...\n"
          ]
        },
        {
          "output_type": "stream",
          "name": "stderr",
          "text": [
            "\r 64%|██████▎   | 808/1268 [06:09<04:13,  1.82it/s]"
          ]
        },
        {
          "output_type": "stream",
          "name": "stdout",
          "text": [
            "Input: Và mảnh vườn , nó rất đẹp .\n",
            "Result: And it &apos;s very beautiful , it &apos;s very beautiful .\n",
            "Inference finished! || Total inference time: 0:00:00.320655secs\n",
            "Preprocessing input sentence...\n",
            "Encoding input sentence...\n"
          ]
        },
        {
          "output_type": "stream",
          "name": "stderr",
          "text": [
            "\r 64%|██████▍   | 809/1268 [06:09<03:32,  2.16it/s]"
          ]
        },
        {
          "output_type": "stream",
          "name": "stdout",
          "text": [
            "Input: Rồi sau đó có người than phiền .\n",
            "Result: And then there were no people who were going to be .\n",
            "Inference finished! || Total inference time: 0:00:00.244992secs\n",
            "Preprocessing input sentence...\n",
            "Encoding input sentence...\n"
          ]
        },
        {
          "output_type": "stream",
          "name": "stderr",
          "text": [
            "\r 64%|██████▍   | 810/1268 [06:10<03:51,  1.98it/s]"
          ]
        },
        {
          "output_type": "stream",
          "name": "stdout",
          "text": [
            "Input: Thành phố tới gặp tôi , và đại khái là đưa cho tôi một công văn , yêu cầu tôi phải phá bỏ mảnh vườn . Công văn đó sau này trở thành trát của toà .\n",
            "Result: The city took me to my city , and I was also a , they had to take a culture of the series of the series of the series of the building .\n",
            "Inference finished! || Total inference time: 0:00:00.599975secs\n",
            "Preprocessing input sentence...\n",
            "Encoding input sentence...\n"
          ]
        },
        {
          "output_type": "stream",
          "name": "stderr",
          "text": [
            "\r 64%|██████▍   | 811/1268 [06:10<03:12,  2.38it/s]"
          ]
        },
        {
          "output_type": "stream",
          "name": "stdout",
          "text": [
            "Input: Và tôi như thể : &quot; Thôi nào , thật à ? &quot;\n",
            "Result: And I like , &quot; What is , right ? &quot;\n",
            "Inference finished! || Total inference time: 0:00:00.212485secs\n",
            "Preprocessing input sentence...\n",
            "Encoding input sentence...\n"
          ]
        },
        {
          "output_type": "stream",
          "name": "stderr",
          "text": [
            " 64%|██████▍   | 813/1268 [06:10<02:23,  3.16it/s]"
          ]
        },
        {
          "output_type": "stream",
          "name": "stdout",
          "text": [
            "Input: Một trát hầu toà vì trồng cây trên mảnh đất mà các người không thèm quan tâm sao ? &quot;\n",
            "Result: Also most of the buildings in the country who don &apos;t know ? &quot;\n",
            "Inference finished! || Total inference time: 0:00:00.263240secs\n",
            "Preprocessing input sentence...\n",
            "Encoding input sentence...\n",
            "Input: Và tôi nói rằng : &quot; Được . Mang tới đây . &quot;\n",
            "Result: And I said , &quot; Okay . &quot;\n",
            "Inference finished! || Total inference time: 0:00:00.171685secs\n",
            "Preprocessing input sentence...\n",
            "Encoding input sentence...\n"
          ]
        },
        {
          "output_type": "stream",
          "name": "stderr",
          "text": [
            "\r 64%|██████▍   | 814/1268 [06:11<02:00,  3.77it/s]"
          ]
        },
        {
          "output_type": "stream",
          "name": "stdout",
          "text": [
            "Input: Vì lần này thì chuyện này không tới đâu .\n",
            "Result: Because this isn &apos;t .\n",
            "Inference finished! || Total inference time: 0:00:00.139825secs\n",
            "Preprocessing input sentence...\n",
            "Encoding input sentence...\n"
          ]
        },
        {
          "output_type": "stream",
          "name": "stderr",
          "text": [
            " 64%|██████▍   | 816/1268 [06:12<03:00,  2.50it/s]"
          ]
        },
        {
          "output_type": "stream",
          "name": "stdout",
          "text": [
            "Input: Rồi tờ L.A. Times nhận được tin , Steve Lopez viết một bài báo về nó , và bàn với uỷ viên hội đồng. rồi một trong các thành viên của Những mảnh đất xanh gửi một tờ đơn kiến nghị trên Change.org. và với 900 chữ ký , chúng tôi đã thành công .\n",
            "Result: Then the U.S. , they realized that they were , they were , and they said , and they were , and they were in a very small , and then in the blue , and we were going to be in the very , and we were going to be in the very , for using the , and we were very , for using our , for us .\n",
            "Inference finished! || Total inference time: 0:00:01.121302secs\n",
            "Preprocessing input sentence...\n",
            "Encoding input sentence...\n",
            "Input: Chúng tôi đã có được một chiến thắng trong tay .\n",
            "Result: We had a war in the hands .\n",
            "Inference finished! || Total inference time: 0:00:00.104262secs\n",
            "Preprocessing input sentence...\n",
            "Encoding input sentence...\n"
          ]
        },
        {
          "output_type": "stream",
          "name": "stderr",
          "text": [
            " 65%|██████▍   | 818/1268 [06:12<02:29,  3.01it/s]"
          ]
        },
        {
          "output_type": "stream",
          "name": "stdout",
          "text": [
            "Input: Uỷ viên hội đồng đó thậm chí còn gọi tới và nói rằng họ tán thành và thích việc mà chúng tôi đang làm .\n",
            "Result: The U.S.S. , even though , and they say , they like to get , and they &apos;re doing this .\n",
            "Inference finished! || Total inference time: 0:00:00.451940secs\n",
            "Preprocessing input sentence...\n",
            "Encoding input sentence...\n",
            "Input: Ý tôi là , thôi nào , tại sao lại không chứ ?\n",
            "Result: I mean , what is , why ?\n",
            "Inference finished! || Total inference time: 0:00:00.128282secs\n",
            "Preprocessing input sentence...\n",
            "Encoding input sentence...\n"
          ]
        },
        {
          "output_type": "stream",
          "name": "stderr",
          "text": [
            " 65%|██████▍   | 820/1268 [06:13<01:58,  3.80it/s]"
          ]
        },
        {
          "output_type": "stream",
          "name": "stdout",
          "text": [
            "Input: L.A. dẫn đầu nước Mỹ về diện tích đất hoang mà thành phố sở hữu .\n",
            "Result: The United States , the United States of the United States of the city of the city .\n",
            "Inference finished! || Total inference time: 0:00:00.288074secs\n",
            "Preprocessing input sentence...\n",
            "Encoding input sentence...\n",
            "Input: Họ sở hữu 42 kilomet vuông đất bỏ hoang .\n",
            "Result: They were series of waters .\n",
            "Inference finished! || Total inference time: 0:00:00.123213secs\n",
            "Preprocessing input sentence...\n",
            "Encoding input sentence...\n"
          ]
        },
        {
          "output_type": "stream",
          "name": "stderr",
          "text": [
            " 65%|██████▍   | 822/1268 [06:13<01:29,  4.96it/s]"
          ]
        },
        {
          "output_type": "stream",
          "name": "stdout",
          "text": [
            "Input: Tương đương với 20 lần Công viên trung tâm ,\n",
            "Result: They &apos;re 20 years ago .\n",
            "Inference finished! || Total inference time: 0:00:00.134787secs\n",
            "Preprocessing input sentence...\n",
            "Encoding input sentence...\n",
            "Input: đủ để trồng 725 triệu cây cà chua .\n",
            "Result: And took the very millions of dollars .\n",
            "Inference finished! || Total inference time: 0:00:00.137316secs\n",
            "Preprocessing input sentence...\n",
            "Encoding input sentence...\n"
          ]
        },
        {
          "output_type": "stream",
          "name": "stderr",
          "text": [
            " 65%|██████▍   | 824/1268 [06:13<01:23,  5.30it/s]"
          ]
        },
        {
          "output_type": "stream",
          "name": "stdout",
          "text": [
            "Input: Làm sao họ có thể không đồng tình chứ ?\n",
            "Result: How do they can &apos;t have any love ?\n",
            "Inference finished! || Total inference time: 0:00:00.173728secs\n",
            "Preprocessing input sentence...\n",
            "Encoding input sentence...\n",
            "Input: Trồng một cây sẽ cho bạn 1.000 , 10.000 hạt giống .\n",
            "Result: They &apos;ll give you a thousand , a thousand .\n",
            "Inference finished! || Total inference time: 0:00:00.167266secs\n",
            "Preprocessing input sentence...\n",
            "Encoding input sentence...\n"
          ]
        },
        {
          "output_type": "stream",
          "name": "stderr",
          "text": [
            "\r 65%|██████▌   | 825/1268 [06:14<01:42,  4.33it/s]"
          ]
        },
        {
          "output_type": "stream",
          "name": "stdout",
          "text": [
            "Input: Khi lượng đậu xanh có giá 1 đô la sẽ cho bạn lượng sản phẩm tương đương với 75 đô la .\n",
            "Result: When they &apos;re going to be a very large , you &apos;ll give you a billion dollars for dollars .\n",
            "Inference finished! || Total inference time: 0:00:00.323592secs\n",
            "Preprocessing input sentence...\n",
            "Encoding input sentence...\n"
          ]
        },
        {
          "output_type": "stream",
          "name": "stderr",
          "text": [
            "\r 65%|██████▌   | 826/1268 [06:14<01:48,  4.08it/s]"
          ]
        },
        {
          "output_type": "stream",
          "name": "stdout",
          "text": [
            "Input: Đó là Đức tin của tôi , khi tôi nói với mọi người , hãy tự trồng lấy thực phẩm cho mình .\n",
            "Result: That &apos;s my mother , when I said to people , let me take it into the food .\n",
            "Inference finished! || Total inference time: 0:00:00.271929secs\n",
            "Preprocessing input sentence...\n",
            "Encoding input sentence...\n"
          ]
        },
        {
          "output_type": "stream",
          "name": "stderr",
          "text": [
            " 65%|██████▌   | 828/1268 [06:14<01:34,  4.64it/s]"
          ]
        },
        {
          "output_type": "stream",
          "name": "stdout",
          "text": [
            "Input: Trồng thực phẩm cho mình cũng giống tự in tiền vậy .\n",
            "Result: They &apos;re really like to make it also been also money .\n",
            "Inference finished! || Total inference time: 0:00:00.242140secs\n",
            "Preprocessing input sentence...\n",
            "Encoding input sentence...\n",
            "Input: Tôi có di sản ở vùng Nam Trung .\n",
            "Result: I have the series of the South Africa .\n",
            "Inference finished! || Total inference time: 0:00:00.133434secs\n",
            "Preprocessing input sentence...\n",
            "Encoding input sentence...\n"
          ]
        },
        {
          "output_type": "stream",
          "name": "stderr",
          "text": [
            "\r 65%|██████▌   | 829/1268 [06:15<01:33,  4.68it/s]"
          ]
        },
        {
          "output_type": "stream",
          "name": "stdout",
          "text": [
            "Input: Tôi lớn lên ở đó . Tôi nuôi dạy các con trai mình ở đó .\n",
            "Result: I was on that . I was trying to teach my sons in that .\n",
            "Inference finished! || Total inference time: 0:00:00.203100secs\n",
            "Preprocessing input sentence...\n",
            "Encoding input sentence...\n"
          ]
        },
        {
          "output_type": "stream",
          "name": "stderr",
          "text": [
            " 66%|██████▌   | 831/1268 [06:15<01:56,  3.74it/s]"
          ]
        },
        {
          "output_type": "stream",
          "name": "stdout",
          "text": [
            "Input: Và tôi từ chối làm một phần của cái thực tại được tạo ra này , mà được tạo ra cho tôi bởi một số người khác . Và tôi đang tự tạo ra thực tại cho mình .\n",
            "Result: And I &apos;m going to do one of the part of this , which is made by some other people , and I &apos;m going to make me , and I &apos;m going to make me in my own .\n",
            "Inference finished! || Total inference time: 0:00:00.605987secs\n",
            "Preprocessing input sentence...\n",
            "Encoding input sentence...\n",
            "Input: Tôi là một nghệ sĩ .\n",
            "Result: I &apos;m a art .\n",
            "Inference finished! || Total inference time: 0:00:00.105848secs\n",
            "Preprocessing input sentence...\n",
            "Encoding input sentence...\n"
          ]
        },
        {
          "output_type": "stream",
          "name": "stderr",
          "text": [
            "\r 66%|██████▌   | 832/1268 [06:16<01:51,  3.90it/s]"
          ]
        },
        {
          "output_type": "stream",
          "name": "stdout",
          "text": [
            "Input: Làm vườn là nghệ thuật của tôi . Tôi trồng ra tác phẩm của mình .\n",
            "Result: And I &apos;m my art . I &apos;ve got my own work .\n",
            "Inference finished! || Total inference time: 0:00:00.224104secs\n",
            "Preprocessing input sentence...\n",
            "Encoding input sentence...\n"
          ]
        },
        {
          "output_type": "stream",
          "name": "stderr",
          "text": [
            "\r 66%|██████▌   | 833/1268 [06:16<02:37,  2.76it/s]"
          ]
        },
        {
          "output_type": "stream",
          "name": "stdout",
          "text": [
            "Input: Cũng giống như một hoạ sĩ , người tô điểm cho các bức tường , Tôi , tôi tô điểm cho những bãi cỏ , lối đi dạo .\n",
            "Result: And as a little like a , they &apos;re a picture of the wall , I &apos;m going to give the sts of the sts , the sts of the stst .\n",
            "Inference finished! || Total inference time: 0:00:00.604982secs\n",
            "Preprocessing input sentence...\n",
            "Encoding input sentence...\n"
          ]
        },
        {
          "output_type": "stream",
          "name": "stderr",
          "text": [
            "\r 66%|██████▌   | 834/1268 [06:17<03:22,  2.14it/s]"
          ]
        },
        {
          "output_type": "stream",
          "name": "stdout",
          "text": [
            "Input: Tôi sử dụng mảnh vườn , đất trồng như một tấm vải , và cây trồng và cây xanh là những gì tôi tô điểm cho tấm vải đó .\n",
            "Result: I use a , the water , they &apos;re going to be a series of water , and the blue and the blue is what I &apos;m going to give you a very , and what I &apos;m going to give you a picture .\n",
            "Inference finished! || Total inference time: 0:00:00.701976secs\n",
            "Preprocessing input sentence...\n",
            "Encoding input sentence...\n"
          ]
        },
        {
          "output_type": "stream",
          "name": "stderr",
          "text": [
            "\r 66%|██████▌   | 835/1268 [06:18<03:48,  1.90it/s]"
          ]
        },
        {
          "output_type": "stream",
          "name": "stdout",
          "text": [
            "Input: Bạn sẽ bất ngờ với những gì mà mảnh đất có thể làm nếu bạn biến chúng thành vải bố .\n",
            "Result: You &apos;re going to be going to be going to do the planet if you make them , they &apos;re going to make them , they &apos;re going to be very , very , going to do .\n",
            "Inference finished! || Total inference time: 0:00:00.663026secs\n",
            "Preprocessing input sentence...\n",
            "Encoding input sentence...\n"
          ]
        },
        {
          "output_type": "stream",
          "name": "stderr",
          "text": [
            "\r 66%|██████▌   | 836/1268 [06:18<03:17,  2.19it/s]"
          ]
        },
        {
          "output_type": "stream",
          "name": "stdout",
          "text": [
            "Input: Bạn không thể tưởng tượng được hoa hướng dương tuyệt vời như thế nào và chúng ảnh hưởng tới mọi người ra sao .\n",
            "Result: You can &apos;t imagine the stycted the ocean and they have to make people .\n",
            "Inference finished! || Total inference time: 0:00:00.284990secs\n",
            "Preprocessing input sentence...\n",
            "Encoding input sentence...\n",
            "Input: Vậy điều gì đã xảy ra ?\n",
            "Result: So what happened ?\n",
            "Inference finished! || Total inference time: 0:00:00.076929secs\n",
            "Preprocessing input sentence...\n",
            "Encoding input sentence...\n"
          ]
        },
        {
          "output_type": "stream",
          "name": "stderr",
          "text": [
            " 66%|██████▌   | 839/1268 [06:19<02:22,  3.02it/s]"
          ]
        },
        {
          "output_type": "stream",
          "name": "stdout",
          "text": [
            "Input: Tôi đã chứng kiến mảnh vườn của mình trở thành một công cụ giáo dục , một công cụ cho sự chuyển đổi của vùng đất tôi sống .\n",
            "Result: I &apos;ve seen my series of a very successful company , a very , a very , a very , a very , a very , in my country .\n",
            "Inference finished! || Total inference time: 0:00:00.514400secs\n",
            "Preprocessing input sentence...\n",
            "Encoding input sentence...\n",
            "Input: Để thay đổi cộng đồng , bạn phải thay đổi thành phần của đất .\n",
            "Result: In order to change the community , you have to change the Earth .\n",
            "Inference finished! || Total inference time: 0:00:00.164362secs\n",
            "Preprocessing input sentence...\n",
            "Encoding input sentence...\n",
            "Input: Chúng ta là đất .\n",
            "Result: We are the country .\n",
            "Inference finished! || Total inference time: 0:00:00.078847secs\n",
            "Preprocessing input sentence...\n",
            "Encoding input sentence...\n"
          ]
        },
        {
          "output_type": "stream",
          "name": "stderr",
          "text": [
            "\r 66%|██████▋   | 841/1268 [06:19<01:53,  3.77it/s]"
          ]
        },
        {
          "output_type": "stream",
          "name": "stdout",
          "text": [
            "Input: Bạn sẽ ngạc nhiên khi thấy cách mà những đứa trẻ bị ảnh hưởng .\n",
            "Result: You &apos;re going to see how the children are being being able to be able to be .\n",
            "Inference finished! || Total inference time: 0:00:00.252364secs\n",
            "Preprocessing input sentence...\n",
            "Encoding input sentence...\n"
          ]
        },
        {
          "output_type": "stream",
          "name": "stderr",
          "text": [
            "\r 66%|██████▋   | 842/1268 [06:19<02:05,  3.39it/s]"
          ]
        },
        {
          "output_type": "stream",
          "name": "stdout",
          "text": [
            "Input: Làm vườn là công việc có tính trị liệu nhất và thách thức nhất mà bạn có thể làm , đặc biệt là ở trong nội thành .\n",
            "Result: It &apos;s the most important , and the most important thing you can do , very , very , very important in the case .\n",
            "Inference finished! || Total inference time: 0:00:00.391281secs\n",
            "Preprocessing input sentence...\n",
            "Encoding input sentence...\n"
          ]
        },
        {
          "output_type": "stream",
          "name": "stderr",
          "text": [
            "\r 66%|██████▋   | 843/1268 [06:20<02:26,  2.89it/s]"
          ]
        },
        {
          "output_type": "stream",
          "name": "stdout",
          "text": [
            "Input: Với lại , bạn còn thu được dâu nữa .\n",
            "Result: For the next , you &apos;re going to be also , you &apos;re going to be a bit of .\n",
            "Inference finished! || Total inference time: 0:00:00.489101secs\n",
            "Preprocessing input sentence...\n",
            "Encoding input sentence...\n"
          ]
        },
        {
          "output_type": "stream",
          "name": "stderr",
          "text": [
            "\r 67%|██████▋   | 844/1268 [06:21<03:03,  2.32it/s]"
          ]
        },
        {
          "output_type": "stream",
          "name": "stdout",
          "text": [
            "Input: Tôi nhớ có một lần , có một người mẹ và con gái tới , lúc đó là khoảng 10 : 30 tối và họ ở trong vườn của tôi. rồi tôi đi ra ngoài và họ rất xấu hổ .\n",
            "Result: I remember , there was a few people and the mother , and that was about 10 : they were about the next 30 and they were very old , and they were very bad .\n",
            "Inference finished! || Total inference time: 0:00:00.663284secs\n",
            "Preprocessing input sentence...\n",
            "Encoding input sentence...\n"
          ]
        },
        {
          "output_type": "stream",
          "name": "stderr",
          "text": [
            "\r 67%|██████▋   | 845/1268 [06:21<03:36,  1.95it/s]"
          ]
        },
        {
          "output_type": "stream",
          "name": "stdout",
          "text": [
            "Input: Tôi nghĩ , trời ạ , tôi cảm thấy rất tệ vì họ ở đó. và tôi nói với họ rằng , hai người biết đấy , không cần phải làm như vậy .\n",
            "Result: I think , it &apos;s very excited , because I &apos;m sure that they say , and I &apos;ve got to say , the two people don &apos;t know that .\n",
            "Inference finished! || Total inference time: 0:00:00.721003secs\n",
            "Preprocessing input sentence...\n",
            "Encoding input sentence...\n"
          ]
        },
        {
          "output_type": "stream",
          "name": "stderr",
          "text": [
            "\r 67%|██████▋   | 846/1268 [06:22<03:10,  2.22it/s]"
          ]
        },
        {
          "output_type": "stream",
          "name": "stdout",
          "text": [
            "Input: Mảnh vườn này nằm trên đường là có lí do của nó .\n",
            "Result: This is the very , on the right side of it .\n",
            "Inference finished! || Total inference time: 0:00:00.283608secs\n",
            "Preprocessing input sentence...\n",
            "Encoding input sentence...\n"
          ]
        },
        {
          "output_type": "stream",
          "name": "stderr",
          "text": [
            "\r 67%|██████▋   | 847/1268 [06:23<04:16,  1.64it/s]"
          ]
        },
        {
          "output_type": "stream",
          "name": "stdout",
          "text": [
            "Input: Tôi cảm thấy xấu hổ khi nhìn thấy có người ở gần tôi đến vậy mà vẫn bị đói . Và việc đó chỉ càng củng cố thêm lý do để tôi làm việc này . Mọi người hỏi tôi : &quot; Fin , anh không sợ là người ta sẽ ăn trộm thực phẩm của anh sao ? &quot;\n",
            "Result: I feel like this when I saw that people who have been in the same time , and that &apos;s just more important than the reason to do this . What I asked me , &quot; What &apos;s the person &apos;s going to be going to be ? &quot;\n",
            "Inference finished! || Total inference time: 0:00:00.996650secs\n",
            "Preprocessing input sentence...\n",
            "Encoding input sentence...\n"
          ]
        },
        {
          "output_type": "stream",
          "name": "stderr",
          "text": [
            "\r 67%|██████▋   | 848/1268 [06:23<04:44,  1.48it/s]"
          ]
        },
        {
          "output_type": "stream",
          "name": "stdout",
          "text": [
            "Input: Tôi trả lời , &quot; Tất nhiên là không , tôi không sợ họ sẽ ăn trộm .\n",
            "Result: I said , &quot; Well , of course , I don &apos;t get them , they &apos;re not going to be going to be going to be going to be going to be going to be .\n",
            "Inference finished! || Total inference time: 0:00:00.825541secs\n",
            "Preprocessing input sentence...\n",
            "Encoding input sentence...\n"
          ]
        },
        {
          "output_type": "stream",
          "name": "stderr",
          "text": [
            " 67%|██████▋   | 850/1268 [06:24<03:01,  2.31it/s]"
          ]
        },
        {
          "output_type": "stream",
          "name": "stdout",
          "text": [
            "Input: Vì thế nên chúng mới ở trên đường .\n",
            "Result: So they &apos;re new on the top .\n",
            "Inference finished! || Total inference time: 0:00:00.200403secs\n",
            "Preprocessing input sentence...\n",
            "Encoding input sentence...\n",
            "Input: Toàn bộ ý tưởng là thế mà .\n",
            "Result: They &apos;re the idea .\n",
            "Inference finished! || Total inference time: 0:00:00.166460secs\n",
            "Preprocessing input sentence...\n",
            "Encoding input sentence...\n"
          ]
        },
        {
          "output_type": "stream",
          "name": "stderr",
          "text": [
            "\r 67%|██████▋   | 851/1268 [06:24<03:03,  2.28it/s]"
          ]
        },
        {
          "output_type": "stream",
          "name": "stdout",
          "text": [
            "Input: Tôi muốn họ lấy chúng , nhưng cùng lúc đó , Tôi muốn họ có lại được sức khoẻ của mình . &quot;\n",
            "Result: I want to take them , but at the same time , I wanted to get their healthy healthy . &quot;\n",
            "Inference finished! || Total inference time: 0:00:00.443051secs\n",
            "Preprocessing input sentence...\n",
            "Encoding input sentence...\n"
          ]
        },
        {
          "output_type": "stream",
          "name": "stderr",
          "text": [
            " 67%|██████▋   | 853/1268 [06:25<02:17,  3.01it/s]"
          ]
        },
        {
          "output_type": "stream",
          "name": "stdout",
          "text": [
            "Input: Có một lần khác khi tôi làm vườn tại một khu vô gia cư ở trung tâm Los Angeles .\n",
            "Result: There was a few times when I did a very high school in the United States .\n",
            "Inference finished! || Total inference time: 0:00:00.302334secs\n",
            "Preprocessing input sentence...\n",
            "Encoding input sentence...\n",
            "Input: Có mấy người đàn ông , họ giúp tôi dỡ đồ từ xe tải .\n",
            "Result: There are people who , they help me from the car .\n",
            "Inference finished! || Total inference time: 0:00:00.165058secs\n",
            "Preprocessing input sentence...\n",
            "Encoding input sentence...\n"
          ]
        },
        {
          "output_type": "stream",
          "name": "stderr",
          "text": [
            "\r 67%|██████▋   | 854/1268 [06:26<03:12,  2.16it/s]"
          ]
        },
        {
          "output_type": "stream",
          "name": "stdout",
          "text": [
            "Input: Không khí rất vui vẻ , và họ chia sẻ những câu chuyện về việc mảnh vườn đã ảnh hưởng tới họ và họ đã từng trồng rau với mẹ , với bà trước kia. và thật tuyệt khi thấy ý tưởng này đã thay đổi họ , dù chỉ là trong một giây phút đó .\n",
            "Result: No , they &apos;re not very happy , and they share the stories of they &apos;ve got to be able to get the sty.S. , and they &apos;ve seen this , and they &apos;re just just just just a second time .\n",
            "Inference finished! || Total inference time: 0:00:00.766514secs\n",
            "Preprocessing input sentence...\n",
            "Encoding input sentence...\n"
          ]
        },
        {
          "output_type": "stream",
          "name": "stderr",
          "text": [
            "\r 67%|██████▋   | 855/1268 [06:26<02:43,  2.52it/s]"
          ]
        },
        {
          "output_type": "stream",
          "name": "stdout",
          "text": [
            "Input: Vì vậy Những mảnh đất xanh đã tiếp tục trồng khoảng 20 mảnh vườn .\n",
            "Result: So the greens are going to be around 20,000 , 20 feet .\n",
            "Inference finished! || Total inference time: 0:00:00.230752secs\n",
            "Preprocessing input sentence...\n",
            "Encoding input sentence...\n"
          ]
        },
        {
          "output_type": "stream",
          "name": "stderr",
          "text": [
            "\r 68%|██████▊   | 856/1268 [06:26<02:30,  2.74it/s]"
          ]
        },
        {
          "output_type": "stream",
          "name": "stdout",
          "text": [
            "Input: Chúng tôi đã có khoảng 50 người tới tham gia đào bới , và tất cả đều là tự nguyện .\n",
            "Result: We have about 50 people who have been , all of the sty , all of the wrong .\n",
            "Inference finished! || Total inference time: 0:00:00.280712secs\n",
            "Preprocessing input sentence...\n",
            "Encoding input sentence...\n"
          ]
        },
        {
          "output_type": "stream",
          "name": "stderr",
          "text": [
            "\r 68%|██████▊   | 857/1268 [06:27<02:33,  2.69it/s]"
          ]
        },
        {
          "output_type": "stream",
          "name": "stdout",
          "text": [
            "Input: Nếu bọn trẻ trồng cải xoăn , chúng sẽ ăn cải xoăn .\n",
            "Result: If they &apos;re going to eat they &apos;re going to eat , they &apos;re going to eat .\n",
            "Inference finished! || Total inference time: 0:00:00.383617secs\n",
            "Preprocessing input sentence...\n",
            "Encoding input sentence...\n"
          ]
        },
        {
          "output_type": "stream",
          "name": "stderr",
          "text": [
            "\r 68%|██████▊   | 858/1268 [06:27<02:28,  2.77it/s]"
          ]
        },
        {
          "output_type": "stream",
          "name": "stdout",
          "text": [
            "Input: Nếu chúng trồng cà chua , chúng sẽ ăn cà chua .\n",
            "Result: If they &apos;re going to grow they &apos;re going to eat the sycts .\n",
            "Inference finished! || Total inference time: 0:00:00.327594secs\n",
            "Preprocessing input sentence...\n",
            "Encoding input sentence...\n"
          ]
        },
        {
          "output_type": "stream",
          "name": "stderr",
          "text": [
            "\r 68%|██████▊   | 859/1268 [06:27<02:51,  2.39it/s]"
          ]
        },
        {
          "output_type": "stream",
          "name": "stdout",
          "text": [
            "Input: Nhưng nếu không ai cho chúng thấy việc đó , nếu chúng không được thấy những ảnh hưởng của thực phẩm tới trí não và cơ thể , chúng mù quáng sẽ ăn bất cứ cái gì được đặt trước mặt .\n",
            "Result: But if nobody shows them , if they don &apos;t see the brains of the brain and they &apos;re going to be very , they &apos;re going to get anymore .\n",
            "Inference finished! || Total inference time: 0:00:00.546508secs\n",
            "Preprocessing input sentence...\n",
            "Encoding input sentence...\n"
          ]
        },
        {
          "output_type": "stream",
          "name": "stderr",
          "text": [
            "\r 68%|██████▊   | 860/1268 [06:28<03:11,  2.13it/s]"
          ]
        },
        {
          "output_type": "stream",
          "name": "stdout",
          "text": [
            "Input: Tôi thấy những người trẻ tuổi muốn được làm việc , nhưng họ lại bị vướng bận chuyện gì đó ... Tôi thấy những đứa trẻ đầy màu sắc và chúng chỉ đi theo con đường đã được định sẵn , mà không dẫn tới đâu .\n",
            "Result: I see the kids who wanted to do , but they &apos;re going to do something that I saw , and I see they &apos;re just going to go and go to the same time , not just to go .\n",
            "Inference finished! || Total inference time: 0:00:00.580194secs\n",
            "Preprocessing input sentence...\n",
            "Encoding input sentence...\n"
          ]
        },
        {
          "output_type": "stream",
          "name": "stderr",
          "text": [
            " 68%|██████▊   | 862/1268 [06:28<02:22,  2.85it/s]"
          ]
        },
        {
          "output_type": "stream",
          "name": "stdout",
          "text": [
            "Input: Với làm vườn , tôi nhìn thấy một cơ hội mà ta có thể hướng dẫn bọn trẻ gánh vác cộng đồng của chúng , và có một cuộc sống bền vững .\n",
            "Result: For with the very , I looked at a very opportunity that we can make their children , and there is a life-scing .\n",
            "Inference finished! || Total inference time: 0:00:00.378043secs\n",
            "Preprocessing input sentence...\n",
            "Encoding input sentence...\n",
            "Input: Và khi chúng ta làm việc đó , ai mà biết được ?\n",
            "Result: And when we do that , who know ?\n",
            "Inference finished! || Total inference time: 0:00:00.127831secs\n",
            "Preprocessing input sentence...\n",
            "Encoding input sentence...\n"
          ]
        },
        {
          "output_type": "stream",
          "name": "stderr",
          "text": [
            "\r 68%|██████▊   | 863/1268 [06:29<02:03,  3.28it/s]"
          ]
        },
        {
          "output_type": "stream",
          "name": "stdout",
          "text": [
            "Input: Có thể ta sẽ sản sinh ra George Washington Carver tiếp theo .\n",
            "Result: Maybe we &apos;re going to make the WS. C.\n",
            "Inference finished! || Total inference time: 0:00:00.191274secs\n",
            "Preprocessing input sentence...\n",
            "Encoding input sentence...\n"
          ]
        },
        {
          "output_type": "stream",
          "name": "stderr",
          "text": [
            "\r 68%|██████▊   | 864/1268 [06:29<01:58,  3.41it/s]"
          ]
        },
        {
          "output_type": "stream",
          "name": "stdout",
          "text": [
            "Input: nhưng nếu ta không thay đổi thành phần của đất , ta sẽ không bao giờ làm được việc đó .\n",
            "Result: But if we don &apos;t change our country , we &apos;ll never do that .\n",
            "Inference finished! || Total inference time: 0:00:00.261467secs\n",
            "Preprocessing input sentence...\n",
            "Encoding input sentence...\n"
          ]
        },
        {
          "output_type": "stream",
          "name": "stderr",
          "text": [
            "\r 68%|██████▊   | 865/1268 [06:29<01:47,  3.74it/s]"
          ]
        },
        {
          "output_type": "stream",
          "name": "stdout",
          "text": [
            "Input: Đây là một trong những kế hoạch của tôi . Đây là điều mà tôi muốn làm .\n",
            "Result: This is one of my designs . This is what I want to do .\n",
            "Inference finished! || Total inference time: 0:00:00.203609secs\n",
            "Preprocessing input sentence...\n",
            "Encoding input sentence...\n"
          ]
        },
        {
          "output_type": "stream",
          "name": "stderr",
          "text": [
            "\r 68%|██████▊   | 866/1268 [06:30<01:56,  3.45it/s]"
          ]
        },
        {
          "output_type": "stream",
          "name": "stdout",
          "text": [
            "Input: Tôi muốn trồng cả một mảnh vườn mà ở đó mọi người có thể chia sẻ đồ ăn .\n",
            "Result: I want to be across a series of a series that people can share they &apos;re going to share .\n",
            "Inference finished! || Total inference time: 0:00:00.333164secs\n",
            "Preprocessing input sentence...\n",
            "Encoding input sentence...\n"
          ]
        },
        {
          "output_type": "stream",
          "name": "stderr",
          "text": [
            " 68%|██████▊   | 868/1268 [06:30<01:40,  3.97it/s]"
          ]
        },
        {
          "output_type": "stream",
          "name": "stdout",
          "text": [
            "Input: Tôi muốn lấy đi các công-ten-nơ chở hàng và biến chúng thành quán cà phê có lợi cho sức khoẻ .\n",
            "Result: I want to go to the sts , either , and they get the money for the healthy healthy .\n",
            "Inference finished! || Total inference time: 0:00:00.354032secs\n",
            "Preprocessing input sentence...\n",
            "Encoding input sentence...\n",
            "Input: Đừng hiểu lầm tôi .\n",
            "Result: Don &apos;t understand me .\n",
            "Inference finished! || Total inference time: 0:00:00.107971secs\n",
            "Preprocessing input sentence...\n",
            "Encoding input sentence...\n"
          ]
        },
        {
          "output_type": "stream",
          "name": "stderr",
          "text": [
            "\r 69%|██████▊   | 869/1268 [06:30<01:51,  3.56it/s]"
          ]
        },
        {
          "output_type": "stream",
          "name": "stdout",
          "text": [
            "Input: Tôi không nói về những thứ miễn phí , bởi miễn phí thì không bền vững .\n",
            "Result: I don &apos;t talk about things , because they &apos;re not going to be a very low-term .\n",
            "Inference finished! || Total inference time: 0:00:00.342212secs\n",
            "Preprocessing input sentence...\n",
            "Encoding input sentence...\n"
          ]
        },
        {
          "output_type": "stream",
          "name": "stderr",
          "text": [
            "\r 69%|██████▊   | 870/1268 [06:31<01:55,  3.44it/s]"
          ]
        },
        {
          "output_type": "stream",
          "name": "stdout",
          "text": [
            "Input: Điều thú vị về sự bền vững , đó là bạn phải duy trì nó .\n",
            "Result: What &apos;s interesting about the , that &apos;s you have to be also to be going to be .\n",
            "Inference finished! || Total inference time: 0:00:00.308519secs\n",
            "Preprocessing input sentence...\n",
            "Encoding input sentence...\n"
          ]
        },
        {
          "output_type": "stream",
          "name": "stderr",
          "text": [
            "\r 69%|██████▊   | 871/1268 [06:31<02:44,  2.42it/s]"
          ]
        },
        {
          "output_type": "stream",
          "name": "stdout",
          "text": [
            "Input: Tôi đang nói về việc giao công việc cho mọi người , và kéo bọn trẻ ra khỏi phố , và cho chúng biết niềm vui , niềm tự hào và niềm vinh dự khi tự trồng thực phẩm cho mình , mở chợ cho nông dân .\n",
            "Result: I &apos;m talking about people , and they &apos;re going to go out of the city , and they know , for the very good , and the very powerful , for the very , for the very , for the government .\n",
            "Inference finished! || Total inference time: 0:00:00.695456secs\n",
            "Preprocessing input sentence...\n",
            "Encoding input sentence...\n"
          ]
        },
        {
          "output_type": "stream",
          "name": "stderr",
          "text": [
            "\r 69%|██████▉   | 872/1268 [06:32<02:21,  2.80it/s]"
          ]
        },
        {
          "output_type": "stream",
          "name": "stdout",
          "text": [
            "Input: Những gì mà tôi muốn làm ở đây , ta sẽ làm cho chuyện đó thật gợi cảm .\n",
            "Result: What I want to do here , we &apos;re going to do that .\n",
            "Inference finished! || Total inference time: 0:00:00.220904secs\n",
            "Preprocessing input sentence...\n",
            "Encoding input sentence...\n"
          ]
        },
        {
          "output_type": "stream",
          "name": "stderr",
          "text": [
            " 69%|██████▉   | 874/1268 [06:32<02:16,  2.88it/s]"
          ]
        },
        {
          "output_type": "stream",
          "name": "stdout",
          "text": [
            "Input: Tôi muốn tất cả chúng ta trở thành những kẻ nổi loạn xanh hoá , những thợ làm vườn găngxtơ .\n",
            "Result: I want to all the sts of the blue , they &apos;re going to be the ststy , they &apos;re going to be the styd .\n",
            "Inference finished! || Total inference time: 0:00:00.535527secs\n",
            "Preprocessing input sentence...\n",
            "Encoding input sentence...\n",
            "Input: Ta sẽ thay đổi khái niệm về găngxtơ .\n",
            "Result: We &apos;re going to change the idea of the series .\n",
            "Inference finished! || Total inference time: 0:00:00.188562secs\n",
            "Preprocessing input sentence...\n",
            "Encoding input sentence...\n"
          ]
        },
        {
          "output_type": "stream",
          "name": "stderr",
          "text": [
            " 69%|██████▉   | 876/1268 [06:33<01:55,  3.39it/s]"
          ]
        },
        {
          "output_type": "stream",
          "name": "stdout",
          "text": [
            "Input: Nếu bạn không phải là thợ làm vườn thì bạn không phải găngxtơ .\n",
            "Result: If you don &apos;t have to be a sty , you don &apos;t have to be the sty .\n",
            "Inference finished! || Total inference time: 0:00:00.347411secs\n",
            "Preprocessing input sentence...\n",
            "Encoding input sentence...\n",
            "Input: Làm găngxtơ cùng với cái xẻng của bạn , được chứ ?\n",
            "Result: How do you go to the sty , right ?\n",
            "Inference finished! || Total inference time: 0:00:00.158380secs\n",
            "Preprocessing input sentence...\n",
            "Encoding input sentence...\n"
          ]
        },
        {
          "output_type": "stream",
          "name": "stderr",
          "text": [
            "\r 69%|██████▉   | 877/1268 [06:33<01:51,  3.51it/s]"
          ]
        },
        {
          "output_type": "stream",
          "name": "stdout",
          "text": [
            "Input: Và hãy biến nó thành vũ khí bạn chọn .\n",
            "Result: And let &apos;s make it , you &apos;re going to get your own .\n",
            "Inference finished! || Total inference time: 0:00:00.250757secs\n",
            "Preprocessing input sentence...\n",
            "Encoding input sentence...\n"
          ]
        },
        {
          "output_type": "stream",
          "name": "stderr",
          "text": [
            "\r 69%|██████▉   | 878/1268 [06:34<02:49,  2.29it/s]"
          ]
        },
        {
          "output_type": "stream",
          "name": "stdout",
          "text": [
            "Input: Căn bản là , nếu bạn muốn gặp tôi , bạn biết đấy , nếu bạn muốn gặp , đừng gọi tôi nếu bạn muốn ngồi không trên những chiếc ghế êm ái và tham gia những cuộc họp nơi bạn nói về làm này làm nọ nơi bạn nói về làm này làm nọ vớ vẩn .\n",
            "Result: They &apos;re going to want , if you want to see , if you want to see if I want to go , if you want to go on the sty &apos;re not going to go on the , and they &apos;re going to talk about this place where you do this .\n",
            "Inference finished! || Total inference time: 0:00:00.781978secs\n",
            "Preprocessing input sentence...\n",
            "Encoding input sentence...\n"
          ]
        },
        {
          "output_type": "stream",
          "name": "stderr",
          "text": [
            " 69%|██████▉   | 881/1268 [06:34<01:35,  4.05it/s]"
          ]
        },
        {
          "output_type": "stream",
          "name": "stdout",
          "text": [
            "Input: Nếu bạn muốn gặp tôi , hãy ra vườn cùng với chiếc xẻng của bạn và ta sẽ trồng vài thứ .\n",
            "Result: If you want to meet me , let &apos;s go with your house and we &apos;re going to get some things .\n",
            "Inference finished! || Total inference time: 0:00:00.327832secs\n",
            "Preprocessing input sentence...\n",
            "Encoding input sentence...\n",
            "Input: Chào . Xin cảm ơn .\n",
            "Result: All . Thank you .\n",
            "Inference finished! || Total inference time: 0:00:00.069645secs\n",
            "Preprocessing input sentence...\n",
            "Encoding input sentence...\n",
            "Input: Cảm ơn .\n",
            "Result: Thank you .\n",
            "Inference finished! || Total inference time: 0:00:00.044364secs\n",
            "Preprocessing input sentence...\n",
            "Encoding input sentence...\n"
          ]
        },
        {
          "output_type": "stream",
          "name": "stderr",
          "text": [
            "\r 70%|██████▉   | 882/1268 [06:35<01:37,  3.94it/s]"
          ]
        },
        {
          "output_type": "stream",
          "name": "stdout",
          "text": [
            "Input: Đây là nơi tôi sống . Tôi sống ở Kenya phía nam Công viên Quốc gia Nairobi .\n",
            "Result: This is where I lived . I lived in the United States .\n",
            "Inference finished! || Total inference time: 0:00:00.267294secs\n",
            "Preprocessing input sentence...\n",
            "Encoding input sentence...\n"
          ]
        },
        {
          "output_type": "stream",
          "name": "stderr",
          "text": [
            "\r 70%|██████▉   | 883/1268 [06:35<02:14,  2.86it/s]"
          ]
        },
        {
          "output_type": "stream",
          "name": "stdout",
          "text": [
            "Input: Phía sau tôi là đàn bò của bố tôi , và phía sau đàn bò , là Công viên Quốc gia Nairobi .\n",
            "Result: And then I was my father , and then they were the , they were the stya , they were the Chinese , the Chinese sety .\n",
            "Inference finished! || Total inference time: 0:00:00.613019secs\n",
            "Preprocessing input sentence...\n",
            "Encoding input sentence...\n"
          ]
        },
        {
          "output_type": "stream",
          "name": "stderr",
          "text": [
            "\r 70%|██████▉   | 884/1268 [06:36<03:08,  2.04it/s]"
          ]
        },
        {
          "output_type": "stream",
          "name": "stdout",
          "text": [
            "Input: Công viên Quốc gia Nairobi không được rào chắn trên diện rộng ở khu vực phía Nam , điều đó có nghĩa là các động vật hoang dã như ngựa vằn thoát ra khỏi công viên một cách tự do .\n",
            "Result: The United States is not going to be in the middle of the middle of the middle of the middle , which means that they means like the stse , they &apos;re going to be also , like a way of a way .\n",
            "Inference finished! || Total inference time: 0:00:00.857413secs\n",
            "Preprocessing input sentence...\n",
            "Encoding input sentence...\n"
          ]
        },
        {
          "output_type": "stream",
          "name": "stderr",
          "text": [
            " 70%|██████▉   | 886/1268 [06:37<02:26,  2.62it/s]"
          ]
        },
        {
          "output_type": "stream",
          "name": "stdout",
          "text": [
            "Input: Và vì thế các động vật ăn thịt như sư tử theo sau chúng , và đây là điều những con sư tử đó làm\n",
            "Result: And so they &apos;re going to be like , and this is what these guys are doing .\n",
            "Inference finished! || Total inference time: 0:00:00.400121secs\n",
            "Preprocessing input sentence...\n",
            "Encoding input sentence...\n",
            "Input: Chúng giết gia súc của chúng tôi .\n",
            "Result: They killed our se .\n",
            "Inference finished! || Total inference time: 0:00:00.155078secs\n",
            "Preprocessing input sentence...\n",
            "Encoding input sentence...\n"
          ]
        },
        {
          "output_type": "stream",
          "name": "stderr",
          "text": [
            "\r 70%|██████▉   | 887/1268 [06:37<03:11,  1.99it/s]"
          ]
        },
        {
          "output_type": "stream",
          "name": "stdout",
          "text": [
            "Input: Đây là một trong số những con bò đã bị giết vào buổi tối , và khi thức dậy vào buổi sáng tôi tìm thấy nó đã chết , và tôi đã cảm thấy rất buồn , bởi vì đó là con bò đực duy nhất mà chúng tôi có .\n",
            "Result: This is one of the number of those sted in the morning , and when I found it , and I felt , because it was very , because it was also the only one that we had the only one .\n",
            "Inference finished! || Total inference time: 0:00:00.792914secs\n",
            "Preprocessing input sentence...\n",
            "Encoding input sentence...\n"
          ]
        },
        {
          "output_type": "stream",
          "name": "stderr",
          "text": [
            "\r 70%|███████   | 888/1268 [06:38<03:23,  1.87it/s]"
          ]
        },
        {
          "output_type": "stream",
          "name": "stdout",
          "text": [
            "Input: Cộng đồng của tôi , người Maasai , tin rằng chúng tôi đến từ thiên đường cùng với tất cả các con vật của mình và tất cả đất đai để chăn giữ chúng , đó là lý do vì sao chúng tôi rất coi trọng chúng\n",
            "Result: My own , they , they believed that we were from all the same with all the others and all the others to keep them , because we were very important .\n",
            "Inference finished! || Total inference time: 0:00:00.604818secs\n",
            "Preprocessing input sentence...\n",
            "Encoding input sentence...\n"
          ]
        },
        {
          "output_type": "stream",
          "name": "stderr",
          "text": [
            "\r 70%|███████   | 889/1268 [06:38<02:53,  2.18it/s]"
          ]
        },
        {
          "output_type": "stream",
          "name": "stdout",
          "text": [
            "Input: Vì thế tôi lớn lên với sự thù ghét sư tử .\n",
            "Result: So I &apos;m largested with the stys .\n",
            "Inference finished! || Total inference time: 0:00:00.266261secs\n",
            "Preprocessing input sentence...\n",
            "Encoding input sentence...\n"
          ]
        },
        {
          "output_type": "stream",
          "name": "stderr",
          "text": [
            " 70%|███████   | 891/1268 [06:39<02:19,  2.70it/s]"
          ]
        },
        {
          "output_type": "stream",
          "name": "stdout",
          "text": [
            "Input: Các chiến binh Masai người bảo vệ cộng đồng chúng tôi và gia súc , cũng rất lo ngại về vấn đề này\n",
            "Result: The Chinese governments who are very , and we are very , very , very very important about this problem .\n",
            "Inference finished! || Total inference time: 0:00:00.435036secs\n",
            "Preprocessing input sentence...\n",
            "Encoding input sentence...\n",
            "Input: Vì thế họ giết sư tử .\n",
            "Result: So they killed they .\n",
            "Inference finished! || Total inference time: 0:00:00.162713secs\n",
            "Preprocessing input sentence...\n",
            "Encoding input sentence...\n"
          ]
        },
        {
          "output_type": "stream",
          "name": "stderr",
          "text": [
            "\r 70%|███████   | 892/1268 [06:40<02:47,  2.24it/s]"
          ]
        },
        {
          "output_type": "stream",
          "name": "stdout",
          "text": [
            "Input: Đây là một trong sáu con sư tử đã bị giết ở Nairobi .\n",
            "Result: This is one of six-sa-sa-sa-sa-sa-sa-da-sa-sa-sa-da-sa .\n",
            "Inference finished! || Total inference time: 0:00:00.611934secs\n",
            "Preprocessing input sentence...\n",
            "Encoding input sentence...\n"
          ]
        },
        {
          "output_type": "stream",
          "name": "stderr",
          "text": [
            "\r 70%|███████   | 893/1268 [06:40<02:24,  2.60it/s]"
          ]
        },
        {
          "output_type": "stream",
          "name": "stdout",
          "text": [
            "Input: Và tôi nghĩ đây là lý do mà sư tử ở Công viên Quốc gia Nairobi còn rất ít .\n",
            "Result: And I think this is why the U.S.S. is a lot of a lot .\n",
            "Inference finished! || Total inference time: 0:00:00.234738secs\n",
            "Preprocessing input sentence...\n",
            "Encoding input sentence...\n"
          ]
        },
        {
          "output_type": "stream",
          "name": "stderr",
          "text": [
            " 71%|███████   | 895/1268 [06:40<02:00,  3.10it/s]"
          ]
        },
        {
          "output_type": "stream",
          "name": "stdout",
          "text": [
            "Input: Mỗi đứa con trai từ 6 đến 9 tuổi , trong cộng đồng của tôi , chịu trách nhiệm chăn giữ những con bò của bố mình , và tôi cũng phải làm điều tương tự .\n",
            "Result: Everybody &apos;s four-year-old boy from my family , in my community , my own stse , and I have to do something .\n",
            "Inference finished! || Total inference time: 0:00:00.418743secs\n",
            "Preprocessing input sentence...\n",
            "Encoding input sentence...\n",
            "Input: Vì thế tôi phải tìm ra cách để giải quyết vấn đề này .\n",
            "Result: So I have to find how to solve this problem .\n",
            "Inference finished! || Total inference time: 0:00:00.143255secs\n",
            "Preprocessing input sentence...\n",
            "Encoding input sentence...\n"
          ]
        },
        {
          "output_type": "stream",
          "name": "stderr",
          "text": [
            "\r 71%|███████   | 896/1268 [06:41<02:03,  3.01it/s]"
          ]
        },
        {
          "output_type": "stream",
          "name": "stdout",
          "text": [
            "Input: Ý tưởng đầu tiên mà tôi có được là sử dụng lửa , bởi vì tôi nghĩ sư tử sợ lửa .\n",
            "Result: The first idea that I had is , because I think I thought , because I think , the series of sts .\n",
            "Inference finished! || Total inference time: 0:00:00.346815secs\n",
            "Preprocessing input sentence...\n",
            "Encoding input sentence...\n"
          ]
        },
        {
          "output_type": "stream",
          "name": "stderr",
          "text": [
            " 71%|███████   | 898/1268 [06:42<02:02,  3.03it/s]"
          ]
        },
        {
          "output_type": "stream",
          "name": "stdout",
          "text": [
            "Input: Nhưng sau đó tôi nhận ra rằng lửa không thực sự có tác dụng , bởi vì nó thậm chí còn giúp cho sư tử nhìn thấy chuồng bò .\n",
            "Result: But then I realized that they &apos;re not really , because it &apos;s even even even the sty &apos;re looking at the series of the sty .\n",
            "Inference finished! || Total inference time: 0:00:00.547980secs\n",
            "Preprocessing input sentence...\n",
            "Encoding input sentence...\n",
            "Input: Nhưng tôi không từ bỏ . Tôi tiếp tục suy nghĩ .\n",
            "Result: But I don &apos;t go . I go back to thinking .\n",
            "Inference finished! || Total inference time: 0:00:00.162523secs\n",
            "Preprocessing input sentence...\n",
            "Encoding input sentence...\n"
          ]
        },
        {
          "output_type": "stream",
          "name": "stderr",
          "text": [
            "\r 71%|███████   | 899/1268 [06:42<01:42,  3.60it/s]"
          ]
        },
        {
          "output_type": "stream",
          "name": "stdout",
          "text": [
            "Input: Và ý tưởng thứ hai của tôi đó là sử dụng bù nhìn .\n",
            "Result: And my idea is that this is a looking at .\n",
            "Inference finished! || Total inference time: 0:00:00.149617secs\n",
            "Preprocessing input sentence...\n",
            "Encoding input sentence...\n"
          ]
        },
        {
          "output_type": "stream",
          "name": "stderr",
          "text": [
            " 71%|███████   | 901/1268 [06:42<01:41,  3.60it/s]"
          ]
        },
        {
          "output_type": "stream",
          "name": "stdout",
          "text": [
            "Input: Tôi đã cố gắng đánh lừa những con sư tử đó &#91; vào cái suy nghĩ &#93; là tôi đứng gần chuồng bò .\n",
            "Result: I &apos;ve trying to try to get these sts in the way I &apos;m going to be a very close to the sty .\n",
            "Inference finished! || Total inference time: 0:00:00.430092secs\n",
            "Preprocessing input sentence...\n",
            "Encoding input sentence...\n",
            "Input: Nhưng sư tử rất thông minh .\n",
            "Result: But very , very very quickly .\n",
            "Inference finished! || Total inference time: 0:00:00.155963secs\n",
            "Preprocessing input sentence...\n",
            "Encoding input sentence...\n"
          ]
        },
        {
          "output_type": "stream",
          "name": "stderr",
          "text": [
            "\r 71%|███████   | 902/1268 [06:43<02:13,  2.75it/s]"
          ]
        },
        {
          "output_type": "stream",
          "name": "stdout",
          "text": [
            "Input: Chúng tới ngày đầu tiên và nhìn thấy con bù nhìn , và rồi chúng quay về , nhưng ngày thứ 2 , chúng đến và nói rằng thứ này không hề chuyển động , nó luôn luôn chỉ ở đó .\n",
            "Result: They &apos;re going to go to the first day and see them , and they go back to the second , and they say , it &apos;s always always , it &apos;s always always .\n",
            "Inference finished! || Total inference time: 0:00:00.553643secs\n",
            "Preprocessing input sentence...\n",
            "Encoding input sentence...\n"
          ]
        },
        {
          "output_type": "stream",
          "name": "stderr",
          "text": [
            "\r 71%|███████   | 903/1268 [06:43<02:02,  2.99it/s]"
          ]
        },
        {
          "output_type": "stream",
          "name": "stdout",
          "text": [
            "Input: Và rồi sư tử nhảy vào và giết gia súc .\n",
            "Result: And then they &apos;re going to be in the sty and killed .\n",
            "Inference finished! || Total inference time: 0:00:00.260901secs\n",
            "Preprocessing input sentence...\n",
            "Encoding input sentence...\n"
          ]
        },
        {
          "output_type": "stream",
          "name": "stderr",
          "text": [
            "\r 71%|███████▏  | 904/1268 [06:44<02:16,  2.68it/s]"
          ]
        },
        {
          "output_type": "stream",
          "name": "stdout",
          "text": [
            "Input: Vì thế vào một đêm , tôi cầm một cây đuốc đi xung quanh chuồng bò , vào hôm đó , những con sư tử ấy không đến .\n",
            "Result: So in a night , I went a very around , around the sty around , in that , these guys are not going to be .\n",
            "Inference finished! || Total inference time: 0:00:00.458203secs\n",
            "Preprocessing input sentence...\n",
            "Encoding input sentence...\n"
          ]
        },
        {
          "output_type": "stream",
          "name": "stderr",
          "text": [
            "\r 71%|███████▏  | 905/1268 [06:44<02:00,  3.01it/s]"
          ]
        },
        {
          "output_type": "stream",
          "name": "stdout",
          "text": [
            "Input: Tôi khám phá ra rằng sư tử sợ ánh sáng chuyển động .\n",
            "Result: I found that they were going to be the stycing the light .\n",
            "Inference finished! || Total inference time: 0:00:00.228103secs\n",
            "Preprocessing input sentence...\n",
            "Encoding input sentence...\n",
            "Input: Vì thế tôi đã có một ý tưởng .\n",
            "Result: So I had a idea .\n",
            "Inference finished! || Total inference time: 0:00:00.083176secs\n",
            "Preprocessing input sentence...\n",
            "Encoding input sentence...\n"
          ]
        },
        {
          "output_type": "stream",
          "name": "stderr",
          "text": [
            "\r 72%|███████▏  | 907/1268 [06:45<02:05,  2.87it/s]"
          ]
        },
        {
          "output_type": "stream",
          "name": "stdout",
          "text": [
            "Input: Từ khi còn nhỏ , tôi đã từng làm việc ở trong phòng mình cả ngày , và tôi thậm chí đã mở tung chiếc radio mới mua của mẹ , vào hôm đó bà gần như giết tôi , nhưng tôi đã học được nhiều điều về điện .\n",
            "Result: And as I was , I was working in my room , and I was going to be also , and I was going to be a new , and I was going to be also , but I was born with a lot of about the data .\n",
            "Inference finished! || Total inference time: 0:00:00.641833secs\n",
            "Preprocessing input sentence...\n",
            "Encoding input sentence...\n"
          ]
        },
        {
          "output_type": "stream",
          "name": "stderr",
          "text": [
            "\r 72%|███████▏  | 908/1268 [06:46<03:12,  1.87it/s]"
          ]
        },
        {
          "output_type": "stream",
          "name": "stdout",
          "text": [
            "Input: Thế nên tôi đã lấy một bình ắc-quy xe ô tô cũ một hộp đồng hồ đo . Nó là một thiết bị nhỏ được tìm thấy ở xe mô tô và nó giúp người lái mô tô ra hiệu khi họ muốn rẽ trái hay rẽ phải . Nó chớp nháy .\n",
            "Result: So I took a very , a st-s-s---------------------------------------------------------s-s-s-s-s-s-s-st-st-st , which they want to be .\n",
            "Inference finished! || Total inference time: 0:00:01.092391secs\n",
            "Preprocessing input sentence...\n",
            "Encoding input sentence...\n"
          ]
        },
        {
          "output_type": "stream",
          "name": "stderr",
          "text": [
            " 72%|███████▏  | 910/1268 [06:46<02:15,  2.63it/s]"
          ]
        },
        {
          "output_type": "stream",
          "name": "stdout",
          "text": [
            "Input: Và tôi có được một công tắc để có thể tắt và mở đèn .\n",
            "Result: And I had a very , to get a very , and I can go to the light .\n",
            "Inference finished! || Total inference time: 0:00:00.247775secs\n",
            "Preprocessing input sentence...\n",
            "Encoding input sentence...\n",
            "Input: Và đó là một bóng đèn nhỏ từ cây đèn pin vỡ .\n",
            "Result: And that &apos;s a little light from the light .\n",
            "Inference finished! || Total inference time: 0:00:00.154129secs\n",
            "Preprocessing input sentence...\n",
            "Encoding input sentence...\n"
          ]
        },
        {
          "output_type": "stream",
          "name": "stderr",
          "text": [
            "\r 72%|███████▏  | 911/1268 [06:46<01:48,  3.29it/s]"
          ]
        },
        {
          "output_type": "stream",
          "name": "stdout",
          "text": [
            "Input: Và tôi lắp đặt mọi thứ .\n",
            "Result: And I put all of things .\n",
            "Inference finished! || Total inference time: 0:00:00.104278secs\n",
            "Preprocessing input sentence...\n",
            "Encoding input sentence...\n"
          ]
        },
        {
          "output_type": "stream",
          "name": "stderr",
          "text": [
            " 72%|███████▏  | 913/1268 [06:47<01:44,  3.38it/s]"
          ]
        },
        {
          "output_type": "stream",
          "name": "stdout",
          "text": [
            "Input: Như các bạn có thể thấy , tấm pin mặt trời dùng để xạc ắc-quy , và bình ắc-quy cung cấp năng lượng cho hộp đồng hồ đo . Tôi gọi nó là máy biến thế .\n",
            "Result: And you can see , the sun is going to use the surface of the stse , and the sts of the energy for the computer . I call it .\n",
            "Inference finished! || Total inference time: 0:00:00.448207secs\n",
            "Preprocessing input sentence...\n",
            "Encoding input sentence...\n",
            "Input: Và chiếc hộp đồng hồ đo làm cho đèn chớp tắt .\n",
            "Result: And they &apos;re going to make the lights .\n",
            "Inference finished! || Total inference time: 0:00:00.163036secs\n",
            "Preprocessing input sentence...\n",
            "Encoding input sentence...\n"
          ]
        },
        {
          "output_type": "stream",
          "name": "stderr",
          "text": [
            "\r 72%|███████▏  | 914/1268 [06:48<02:39,  2.21it/s]"
          ]
        },
        {
          "output_type": "stream",
          "name": "stdout",
          "text": [
            "Input: Như các bạn thấy đó , các bóng đèn hướng ra phía ngoài , bởi vì đó là hướng sư tử tiến vào .\n",
            "Result: And you see , the lights are going to go out , because it &apos;s a very , because it &apos;s a very very , in the very , because it &apos;s a very very , in the very very , in the very very , .\n",
            "Inference finished! || Total inference time: 0:00:00.823545secs\n",
            "Preprocessing input sentence...\n",
            "Encoding input sentence...\n"
          ]
        },
        {
          "output_type": "stream",
          "name": "stderr",
          "text": [
            "\r 72%|███████▏  | 915/1268 [06:48<02:22,  2.48it/s]"
          ]
        },
        {
          "output_type": "stream",
          "name": "stdout",
          "text": [
            "Input: Và đó là cách mà ánh sáng chiếu về phía sư tử khi chúng đến vào đêm khuya .\n",
            "Result: And that &apos;s how the lights are going to go to the night when they go back to the night .\n",
            "Inference finished! || Total inference time: 0:00:00.282045secs\n",
            "Preprocessing input sentence...\n",
            "Encoding input sentence...\n"
          ]
        },
        {
          "output_type": "stream",
          "name": "stderr",
          "text": [
            "\r 72%|███████▏  | 916/1268 [06:49<03:01,  1.94it/s]"
          ]
        },
        {
          "output_type": "stream",
          "name": "stdout",
          "text": [
            "Input: Các bóng đèn chớp tắt và đánh lừa sư tử làm cho chúng nghĩ rằng tôi đang đi xung quanh chuồng bò , nhưng thực ra là tôi đang ngủ trên giường của mình .\n",
            "Result: They &apos;re going to go and put the lights , and they &apos;re going to think that we &apos;re going to go around , but it &apos;s actually going to be the sty , but I &apos;m going to be on my hand .\n",
            "Inference finished! || Total inference time: 0:00:00.776806secs\n",
            "Preprocessing input sentence...\n",
            "Encoding input sentence...\n",
            "Input: Cảm ơn\n",
            "Result: Thank you .\n",
            "Inference finished! || Total inference time: 0:00:00.051030secs\n",
            "Preprocessing input sentence...\n",
            "Encoding input sentence...\n"
          ]
        },
        {
          "output_type": "stream",
          "name": "stderr",
          "text": [
            " 72%|███████▏  | 919/1268 [06:49<01:52,  3.11it/s]"
          ]
        },
        {
          "output_type": "stream",
          "name": "stdout",
          "text": [
            "Input: Tôi đã lắp đặt nó ở nhà mình 2 năm trước , kể từ đó , chúng tôi không hề gặp phải bất cứ vấn đề nào với sư tử cả .\n",
            "Result: I &apos;ve been around my home in the last two years ago , from that , we don &apos;t have any problem with the sty .\n",
            "Inference finished! || Total inference time: 0:00:00.404979secs\n",
            "Preprocessing input sentence...\n",
            "Encoding input sentence...\n",
            "Input: Các gia đình hàng xóm nghe kể về ý tưởng này .\n",
            "Result: The family listened to this idea .\n",
            "Inference finished! || Total inference time: 0:00:00.115785secs\n",
            "Preprocessing input sentence...\n",
            "Encoding input sentence...\n"
          ]
        },
        {
          "output_type": "stream",
          "name": "stderr",
          "text": [
            "\r 73%|███████▎  | 920/1268 [06:49<01:32,  3.76it/s]"
          ]
        },
        {
          "output_type": "stream",
          "name": "stdout",
          "text": [
            "Input: Một trong số đó là người bà này .\n",
            "Result: One of them is this .\n",
            "Inference finished! || Total inference time: 0:00:00.104234secs\n",
            "Preprocessing input sentence...\n",
            "Encoding input sentence...\n"
          ]
        },
        {
          "output_type": "stream",
          "name": "stderr",
          "text": [
            "\r 73%|███████▎  | 921/1268 [06:50<01:55,  3.00it/s]"
          ]
        },
        {
          "output_type": "stream",
          "name": "stdout",
          "text": [
            "Input: Bà có nhiều gia súc đã bị sư tử giết , và bà đã hỏi tôi liệu tôi có thể giúp bà lắp các bóng điện .\n",
            "Result: She had many sts , and she asked me , and she asked me to help me to help the sts .\n",
            "Inference finished! || Total inference time: 0:00:00.505807secs\n",
            "Preprocessing input sentence...\n",
            "Encoding input sentence...\n"
          ]
        },
        {
          "output_type": "stream",
          "name": "stderr",
          "text": [
            "\r 73%|███████▎  | 922/1268 [06:50<01:44,  3.32it/s]"
          ]
        },
        {
          "output_type": "stream",
          "name": "stdout",
          "text": [
            "Input: Tôi trả lời , &quot; Vâng &quot; .\n",
            "Result: I said , &quot; Yes . &quot;\n",
            "Inference finished! || Total inference time: 0:00:00.210569secs\n",
            "Preprocessing input sentence...\n",
            "Encoding input sentence...\n"
          ]
        },
        {
          "output_type": "stream",
          "name": "stderr",
          "text": [
            "\r 73%|███████▎  | 923/1268 [06:51<02:07,  2.71it/s]"
          ]
        },
        {
          "output_type": "stream",
          "name": "stdout",
          "text": [
            "Input: Thế là tôi lắp đặt các bóng đèn . Các bạn có thể nhìn thấy ở đằng sau , chúng là các bóng đèn sư tử .\n",
            "Result: So I put the lights . You can see they &apos;re going to see they &apos;re they &apos;re the lights .\n",
            "Inference finished! || Total inference time: 0:00:00.532272secs\n",
            "Preprocessing input sentence...\n",
            "Encoding input sentence...\n"
          ]
        },
        {
          "output_type": "stream",
          "name": "stderr",
          "text": [
            "\r 73%|███████▎  | 924/1268 [06:51<02:12,  2.60it/s]"
          ]
        },
        {
          "output_type": "stream",
          "name": "stdout",
          "text": [
            "Input: Cho đến nay , tôi đã giúp lắp đặt cho 7 hộ gia đình trong cộng đồng của mình , và chúng đều hoạt động hiệu quả .\n",
            "Result: So today , I &apos;ve helped took the 30 family in our family , and they all work .\n",
            "Inference finished! || Total inference time: 0:00:00.414112secs\n",
            "Preprocessing input sentence...\n",
            "Encoding input sentence...\n"
          ]
        },
        {
          "output_type": "stream",
          "name": "stderr",
          "text": [
            "\r 73%|███████▎  | 925/1268 [06:52<02:52,  1.99it/s]"
          ]
        },
        {
          "output_type": "stream",
          "name": "stdout",
          "text": [
            "Input: Hiện nay ý tưởng của tôi đã được sử dụng trên khắp Kenya để xua đuổi các động vật ăn thịt khác như linh cẩu , báo , và nó cũng được sử dụng để doạ đàn voi tránh xa nông trại của người dân .\n",
            "Result: Now , my idea of my idea is used to be used to build across the series of different animals , and it &apos;s also used to use the series of the people of the people .\n",
            "Inference finished! || Total inference time: 0:00:00.773520secs\n",
            "Preprocessing input sentence...\n",
            "Encoding input sentence...\n"
          ]
        },
        {
          "output_type": "stream",
          "name": "stderr",
          "text": [
            "\r 73%|███████▎  | 926/1268 [06:53<03:46,  1.51it/s]"
          ]
        },
        {
          "output_type": "stream",
          "name": "stdout",
          "text": [
            "Input: Nhờ phát minh này , tôi đã may mắn nhận được học bổng ở một trong những trường học tốt nhất ở Kenya , trường Quốc tế Brookhouse , và tôi thực sự rất phấn khởi về điều này .\n",
            "Result: And this is , I &apos;ve gotten lucky to be a greatest school in the United States , in the United States , and I &apos;m really very , very very , very very very very , very very very quickly .\n",
            "Inference finished! || Total inference time: 0:00:01.034583secs\n",
            "Preprocessing input sentence...\n",
            "Encoding input sentence...\n"
          ]
        },
        {
          "output_type": "stream",
          "name": "stderr",
          "text": [
            "\r 73%|███████▎  | 927/1268 [06:53<03:27,  1.64it/s]"
          ]
        },
        {
          "output_type": "stream",
          "name": "stdout",
          "text": [
            "Input: Ngôi trường mới của tôi hiện đang bắt đầu giúp đỡ bằng cách quyên góp và nâng cao nhận thức .\n",
            "Result: My new environment is starting with the way of trying to help and help they &apos;re going to be able to get the very high .\n",
            "Inference finished! || Total inference time: 0:00:00.475055secs\n",
            "Preprocessing input sentence...\n",
            "Encoding input sentence...\n"
          ]
        },
        {
          "output_type": "stream",
          "name": "stderr",
          "text": [
            "\r 73%|███████▎  | 928/1268 [06:54<03:52,  1.46it/s]"
          ]
        },
        {
          "output_type": "stream",
          "name": "stdout",
          "text": [
            "Input: Thậm chí tôi đã dẫn những người bạn của tôi về cộng đồng của mình , và chúng tôi lắp đặt bóng đèn cho các hộ gia đình chưa tiếp cận được nó và tôi dạy cho họ cách để lắp đặt chúng .\n",
            "Result: But I &apos;ve been going to show you my community , and we put the lights on the houses that are not going to be going to be , and we &apos;ve been trying to get them to get them to get them .\n",
            "Inference finished! || Total inference time: 0:00:00.853698secs\n",
            "Preprocessing input sentence...\n",
            "Encoding input sentence...\n"
          ]
        },
        {
          "output_type": "stream",
          "name": "stderr",
          "text": [
            " 73%|███████▎  | 930/1268 [06:55<02:54,  1.94it/s]"
          ]
        },
        {
          "output_type": "stream",
          "name": "stdout",
          "text": [
            "Input: Một năm trước đó , tôi chỉ là một cậu bé ở vùng thảo nguyên chăn bò cho bố mình , tôi đã từng nhìn thấy những chiếc máy bay bay lượn , và tôi đã nói với chính mình rằng một ngày nào đó , tôi sẽ được ngồi vào bên trong nó .\n",
            "Result: One year ago , I was a little bit in the middle of the series of the series of my sty , I saw the sty , and I said , I was sitting in the next day .\n",
            "Inference finished! || Total inference time: 0:00:00.667940secs\n",
            "Preprocessing input sentence...\n",
            "Encoding input sentence...\n",
            "Input: Và tôi ở đây ngày hôm nay .\n",
            "Result: And I &apos;m here today .\n",
            "Inference finished! || Total inference time: 0:00:00.121889secs\n",
            "Preprocessing input sentence...\n",
            "Encoding input sentence...\n"
          ]
        },
        {
          "output_type": "stream",
          "name": "stderr",
          "text": [
            "\r 73%|███████▎  | 931/1268 [06:55<02:21,  2.39it/s]"
          ]
        },
        {
          "output_type": "stream",
          "name": "stdout",
          "text": [
            "Input: Tôi đã có cơ hội đi đến đây bằng máy bay lần đầu tiên để tham gia TED .\n",
            "Result: I had the opportunity to go here to the first time to get TED .\n",
            "Inference finished! || Total inference time: 0:00:00.185120secs\n",
            "Preprocessing input sentence...\n",
            "Encoding input sentence...\n"
          ]
        },
        {
          "output_type": "stream",
          "name": "stderr",
          "text": [
            "\r 74%|███████▎  | 932/1268 [06:56<02:05,  2.67it/s]"
          ]
        },
        {
          "output_type": "stream",
          "name": "stdout",
          "text": [
            "Input: Ước mơ lớn nhất của tôi là trở thành một kỹ sư máy bay và phi công khi lớn lên .\n",
            "Result: My best dream is a big , a big series of series of series .\n",
            "Inference finished! || Total inference time: 0:00:00.265878secs\n",
            "Preprocessing input sentence...\n",
            "Encoding input sentence...\n"
          ]
        },
        {
          "output_type": "stream",
          "name": "stderr",
          "text": [
            "\r 74%|███████▎  | 933/1268 [06:56<02:40,  2.09it/s]"
          ]
        },
        {
          "output_type": "stream",
          "name": "stdout",
          "text": [
            "Input: Tôi đã từng ghét sư tử , nhưng bây giờ bởi vì phát minh của tôi đang cứu đàn bò của bố và sư tử , chúng tôi có thể sống chung với sư tử mà không có bất cứ xung đột nào .\n",
            "Result: I &apos;ve been going to read , but now my , because my stys are going to be a stycing my stys , we can live with any sty , even any of any sty .\n",
            "Inference finished! || Total inference time: 0:00:00.711732secs\n",
            "Preprocessing input sentence...\n",
            "Encoding input sentence...\n"
          ]
        },
        {
          "output_type": "stream",
          "name": "stderr",
          "text": [
            "\r 74%|███████▎  | 934/1268 [06:57<02:24,  2.31it/s]"
          ]
        },
        {
          "output_type": "stream",
          "name": "stdout",
          "text": [
            "Input: Ashê olên . Theo ngôn ngữ của tôi , nó có nghĩa là cảm ơn rất nhiều .\n",
            "Result: They &apos;re going to be , my language , it means , it means very much .\n",
            "Inference finished! || Total inference time: 0:00:00.319161secs\n",
            "Preprocessing input sentence...\n",
            "Encoding input sentence...\n"
          ]
        },
        {
          "output_type": "stream",
          "name": "stderr",
          "text": [
            "\r 74%|███████▎  | 935/1268 [06:57<02:09,  2.57it/s]"
          ]
        },
        {
          "output_type": "stream",
          "name": "stdout",
          "text": [
            "Input: Cháu không biết là thật là thú vị biết bao khi nghe câu chuyện của cháu .\n",
            "Result: You don &apos;t know what it &apos;s really interesting to hear the story of my story .\n",
            "Inference finished! || Total inference time: 0:00:00.283215secs\n",
            "Preprocessing input sentence...\n",
            "Encoding input sentence...\n"
          ]
        },
        {
          "output_type": "stream",
          "name": "stderr",
          "text": [
            " 74%|███████▍  | 937/1268 [06:57<01:33,  3.56it/s]"
          ]
        },
        {
          "output_type": "stream",
          "name": "stdout",
          "text": [
            "Input: Vậy là cháu đã có học bổng này . Vâng .\n",
            "Result: So , you have this , this is a very old .\n",
            "Inference finished! || Total inference time: 0:00:00.218980secs\n",
            "Preprocessing input sentence...\n",
            "Encoding input sentence...\n",
            "Input: Cháu đang làm những phát minh về điện khác .\n",
            "Result: You &apos;re doing different about different .\n",
            "Inference finished! || Total inference time: 0:00:00.135686secs\n",
            "Preprocessing input sentence...\n",
            "Encoding input sentence...\n"
          ]
        },
        {
          "output_type": "stream",
          "name": "stderr",
          "text": [
            "\r 74%|███████▍  | 938/1268 [06:57<01:22,  3.98it/s]"
          ]
        },
        {
          "output_type": "stream",
          "name": "stdout",
          "text": [
            "Input: Phát minh nào tiếp theo trong danh sách của cháu ?\n",
            "Result: What &apos;s the next next in your book ?\n",
            "Inference finished! || Total inference time: 0:00:00.174348secs\n",
            "Preprocessing input sentence...\n",
            "Encoding input sentence...\n"
          ]
        },
        {
          "output_type": "stream",
          "name": "stderr",
          "text": [
            "\r 74%|███████▍  | 939/1268 [06:58<01:33,  3.52it/s]"
          ]
        },
        {
          "output_type": "stream",
          "name": "stdout",
          "text": [
            "Input: Phát minh sắp tới của cháu , cháu muốn làm một hàng rào điện . Hàng rào điện sao ?\n",
            "Result: They &apos;re going to be going to go to your eyes , and you want to do a stys ?\n",
            "Inference finished! || Total inference time: 0:00:00.355911secs\n",
            "Preprocessing input sentence...\n",
            "Encoding input sentence...\n"
          ]
        },
        {
          "output_type": "stream",
          "name": "stderr",
          "text": [
            "\r 74%|███████▍  | 940/1268 [06:58<01:50,  2.98it/s]"
          ]
        },
        {
          "output_type": "stream",
          "name": "stdout",
          "text": [
            "Input: Cháu biết là hàng rào điện đã được phát minh rồi , nhưng cháu muốn làm cái của riêng mình .\n",
            "Result: You know , the sty &apos;ve gotten the sty &apos;ve gotten the , but you want to do my own own own .\n",
            "Inference finished! || Total inference time: 0:00:00.442151secs\n",
            "Preprocessing input sentence...\n",
            "Encoding input sentence...\n"
          ]
        },
        {
          "output_type": "stream",
          "name": "stderr",
          "text": [
            " 74%|███████▍  | 942/1268 [06:59<01:42,  3.18it/s]"
          ]
        },
        {
          "output_type": "stream",
          "name": "stdout",
          "text": [
            "Input: Cháu đã thử , đúng không , và cháu ... Cháu đó thử trước đây nhưng cháu đã dừng lại vì bị giật điện .\n",
            "Result: I &apos;m going to try , and you go , and I &apos;m going to go here , but I &apos;m going to go back to the sty .\n",
            "Inference finished! || Total inference time: 0:00:00.514569secs\n",
            "Preprocessing input sentence...\n",
            "Encoding input sentence...\n",
            "Input: Richard Turere , cháu thật khác biệt .\n",
            "Result: Silde , he was different .\n",
            "Inference finished! || Total inference time: 0:00:00.130671secs\n",
            "Preprocessing input sentence...\n",
            "Encoding input sentence...\n"
          ]
        },
        {
          "output_type": "stream",
          "name": "stderr",
          "text": [
            " 74%|███████▍  | 944/1268 [06:59<01:22,  3.91it/s]"
          ]
        },
        {
          "output_type": "stream",
          "name": "stdout",
          "text": [
            "Input: Chúng tôi sẽ cỗ vũ cháu trên con đường cháu đi , anh bạn nhỏ .\n",
            "Result: We &apos;re going to go on the street on the street , you &apos;re going to go .\n",
            "Inference finished! || Total inference time: 0:00:00.304377secs\n",
            "Preprocessing input sentence...\n",
            "Encoding input sentence...\n",
            "Input: Cảm ơn cháu rất nhiều . Cảm ơn .\n",
            "Result: Thank you very much . Thank you .\n",
            "Inference finished! || Total inference time: 0:00:00.114315secs\n",
            "Preprocessing input sentence...\n",
            "Encoding input sentence...\n"
          ]
        },
        {
          "output_type": "stream",
          "name": "stderr",
          "text": [
            "\r 75%|███████▍  | 945/1268 [07:00<01:33,  3.45it/s]"
          ]
        },
        {
          "output_type": "stream",
          "name": "stdout",
          "text": [
            "Input: Những gì tôi làm , và những gì tôi làm chuyên về-- cuộc đời tôi--đã được đinh hình trong bảy năm làm việc tại Châu Phi khi còn trẻ\n",
            "Result: What I do , and what I do -- I do -- I &apos;ve done in the life of the last year when I was in Africa .\n",
            "Inference finished! || Total inference time: 0:00:00.363032secs\n",
            "Preprocessing input sentence...\n",
            "Encoding input sentence...\n"
          ]
        },
        {
          "output_type": "stream",
          "name": "stderr",
          "text": [
            "\r 75%|███████▍  | 946/1268 [07:00<02:14,  2.40it/s]"
          ]
        },
        {
          "output_type": "stream",
          "name": "stdout",
          "text": [
            "Input: Từ năm 1971 đến 1977-- Trông tôi trẻ thế chứ không phải vậy đâu ---- Tôi đã làm việc tại Zambia , Kenya , Ivory Coast , Algeria , Somalia , trong những dự án hợp tác về kỹ thuật với những quốc gia Châu Phi\n",
            "Result: In the last year -- I looked like -- I didn &apos;t work -- I didn &apos;t work in the U.S. , the U.S. , the , the sty , in the West Africa , in the United States .\n",
            "Inference finished! || Total inference time: 0:00:00.706040secs\n",
            "Preprocessing input sentence...\n",
            "Encoding input sentence...\n"
          ]
        },
        {
          "output_type": "stream",
          "name": "stderr",
          "text": [
            "\r 75%|███████▍  | 947/1268 [07:01<01:55,  2.78it/s]"
          ]
        },
        {
          "output_type": "stream",
          "name": "stdout",
          "text": [
            "Input: Tôi đã làm việc cho tổ chức phi chính phủ của Ý và mỗi một dự án chúng tôi lập ra tại Châu Phi thất bại\n",
            "Result: I was working for the government of the government and every single project we found in Africa .\n",
            "Inference finished! || Total inference time: 0:00:00.219458secs\n",
            "Preprocessing input sentence...\n",
            "Encoding input sentence...\n"
          ]
        },
        {
          "output_type": "stream",
          "name": "stderr",
          "text": [
            "\r 75%|███████▍  | 948/1268 [07:02<02:50,  1.88it/s]"
          ]
        },
        {
          "output_type": "stream",
          "name": "stdout",
          "text": [
            "Input: Tôi đã rất sầu não .\n",
            "Result: I was very , very , very , very , very , very , very , very , very , very , I was very very , I was very very , I was very very , I was very very , I was very very very very , .\n",
            "Inference finished! || Total inference time: 0:00:00.927669secs\n",
            "Preprocessing input sentence...\n",
            "Encoding input sentence...\n"
          ]
        },
        {
          "output_type": "stream",
          "name": "stderr",
          "text": [
            "\r 75%|███████▍  | 949/1268 [07:02<02:25,  2.19it/s]"
          ]
        },
        {
          "output_type": "stream",
          "name": "stdout",
          "text": [
            "Input: Mới 21 tuổi đời , tôi nghĩ , người Ý là người tốt và chúng tôi đang làm việc tốt tại Châu Phi\n",
            "Result: The age of the age of age , I think , people are good and we are doing good at Africa .\n",
            "Inference finished! || Total inference time: 0:00:00.277929secs\n",
            "Preprocessing input sentence...\n",
            "Encoding input sentence...\n"
          ]
        },
        {
          "output_type": "stream",
          "name": "stderr",
          "text": [
            "\r 75%|███████▍  | 950/1268 [07:02<02:06,  2.52it/s]"
          ]
        },
        {
          "output_type": "stream",
          "name": "stdout",
          "text": [
            "Input: Nhưng thay vì thế , chúng tôi giết chết mọi thứ mà chúng tôi đụng vào .\n",
            "Result: But instead of , we killed everything we &apos;ve got to go on .\n",
            "Inference finished! || Total inference time: 0:00:00.249686secs\n",
            "Preprocessing input sentence...\n",
            "Encoding input sentence...\n"
          ]
        },
        {
          "output_type": "stream",
          "name": "stderr",
          "text": [
            "\r 75%|███████▌  | 951/1268 [07:03<02:44,  1.93it/s]"
          ]
        },
        {
          "output_type": "stream",
          "name": "stdout",
          "text": [
            "Input: Dự án đầu tiên , cái đã truyền cảm hứng cho cuốn sách đầu tiên của tôi , &quot; Những cơn sóng nhẹ từ Zambezi , &quot; là một dự án trong đó người Ý quyết định dạy cho người Zambia trồng thực phẩm .\n",
            "Result: The first project , the first of my first book , &quot; They &apos;re going to be the ststic , &quot; is a very , &quot; is a very , &quot; is a very very , in the very very , for the government .\n",
            "Inference finished! || Total inference time: 0:00:00.791756secs\n",
            "Preprocessing input sentence...\n",
            "Encoding input sentence...\n"
          ]
        },
        {
          "output_type": "stream",
          "name": "stderr",
          "text": [
            "\r 75%|███████▌  | 952/1268 [07:04<03:15,  1.62it/s]"
          ]
        },
        {
          "output_type": "stream",
          "name": "stdout",
          "text": [
            "Input: Thế nên chúng tôi miền nam Zambia với những hạt giống từ nước Ý tại một thung lũng tuyệt đẹp trải dài xuống sông Zambezi , và chúng tôi dạy cho người dân bản đại trồng cà chua Ý và bí ngòi Ý và ...\n",
            "Result: So we &apos;re going to be with the water from the water from a great , a great great , and we &apos;ve been going to teach people who are going to be the styond the sty and the sty and the sty and the sty and the sty .\n",
            "Inference finished! || Total inference time: 0:00:00.843302secs\n",
            "Preprocessing input sentence...\n",
            "Encoding input sentence...\n"
          ]
        },
        {
          "output_type": "stream",
          "name": "stderr",
          "text": [
            "\r 75%|███████▌  | 953/1268 [07:04<03:00,  1.75it/s]"
          ]
        },
        {
          "output_type": "stream",
          "name": "stdout",
          "text": [
            "Input: Tất nhiên những người dân bản địa chẳng mấy hứng thú làm công việc này , vậy nên chúng tôi trả công cho họ , và đôi lúc họ mới đến làm việc .\n",
            "Result: Of course , the people who are not interested in this work , so we &apos;re trying to make them , and they &apos;re going to do it .\n",
            "Inference finished! || Total inference time: 0:00:00.459892secs\n",
            "Preprocessing input sentence...\n",
            "Encoding input sentence...\n"
          ]
        },
        {
          "output_type": "stream",
          "name": "stderr",
          "text": [
            "\r 75%|███████▌  | 954/1268 [07:05<02:52,  1.82it/s]"
          ]
        },
        {
          "output_type": "stream",
          "name": "stdout",
          "text": [
            "Input: Chúng tôi thực sự ngạc nhiên về những người bản địa , tại thung lũng màu mỡ như thế này lại chẳng trồng trọt gì .\n",
            "Result: We really really really really about the people , in the ocean , like this , no , no screcing the sty .\n",
            "Inference finished! || Total inference time: 0:00:00.488101secs\n",
            "Preprocessing input sentence...\n",
            "Encoding input sentence...\n"
          ]
        },
        {
          "output_type": "stream",
          "name": "stderr",
          "text": [
            "\r 75%|███████▌  | 955/1268 [07:05<03:10,  1.64it/s]"
          ]
        },
        {
          "output_type": "stream",
          "name": "stdout",
          "text": [
            "Input: Nhưng thay vì hỏi sao họ lại chẳng trồng bất cứ thứ gì , chúng tôi đơn giản thốt lên rằng , &quot; Cám ơn Chúa chúng con đã ở đây . &quot;\n",
            "Result: But instead of thinking about how they didn &apos;t have any , we &apos;re going to be sure , &quot; Oh , &quot; Oh , you &apos;ve got here . &quot;\n",
            "Inference finished! || Total inference time: 0:00:00.736788secs\n",
            "Preprocessing input sentence...\n",
            "Encoding input sentence...\n"
          ]
        },
        {
          "output_type": "stream",
          "name": "stderr",
          "text": [
            " 75%|███████▌  | 957/1268 [07:06<02:16,  2.27it/s]"
          ]
        },
        {
          "output_type": "stream",
          "name": "stdout",
          "text": [
            "Input: &quot; Vừa kịp lúc để cứu người Zambia khỏi nạn đói . &quot;\n",
            "Result: &quot; The &quot; They &apos;re going to save the people of the war . &quot;\n",
            "Inference finished! || Total inference time: 0:00:00.401562secs\n",
            "Preprocessing input sentence...\n",
            "Encoding input sentence...\n",
            "Input: Và tất nhiên , mọi thứ tại Châu Phi đều phát triển tốt\n",
            "Result: And of course , everything is in Africa .\n",
            "Inference finished! || Total inference time: 0:00:00.171942secs\n",
            "Preprocessing input sentence...\n",
            "Encoding input sentence...\n"
          ]
        },
        {
          "output_type": "stream",
          "name": "stderr",
          "text": [
            "\r 76%|███████▌  | 958/1268 [07:07<02:44,  1.88it/s]"
          ]
        },
        {
          "output_type": "stream",
          "name": "stdout",
          "text": [
            "Input: Chúng tôi có những quả cà chua rất tuyệt vời . Tại Ý , một quả cà chua chỉ to khoảng bằng này . Tại Zambia , nó to tới cỡ này này .\n",
            "Result: We have very amazing , very great , a very big , a very big , which is about this , it &apos;s a big , it &apos;s going to be this .\n",
            "Inference finished! || Total inference time: 0:00:00.734195secs\n",
            "Preprocessing input sentence...\n",
            "Encoding input sentence...\n"
          ]
        },
        {
          "output_type": "stream",
          "name": "stderr",
          "text": [
            "\r 76%|███████▌  | 959/1268 [07:07<02:41,  1.91it/s]"
          ]
        },
        {
          "output_type": "stream",
          "name": "stdout",
          "text": [
            "Input: Thật khó tin , và chúng tôi nói với những người Zambia , &quot; Mọi người xem trồng trọt có đễ dàng không này . &quot;\n",
            "Result: It &apos;s hard , and we talk to the people who see the people who are not going to be able to be this . &quot;\n",
            "Inference finished! || Total inference time: 0:00:00.494192secs\n",
            "Preprocessing input sentence...\n",
            "Encoding input sentence...\n"
          ]
        },
        {
          "output_type": "stream",
          "name": "stderr",
          "text": [
            "\r 76%|███████▌  | 960/1268 [07:08<03:09,  1.62it/s]"
          ]
        },
        {
          "output_type": "stream",
          "name": "stdout",
          "text": [
            "Input: Khi mà những quả cà chua bắt đầu đạt , chín , và có màu đỏ , chỉ qua một đêm , chừng khoảng 200 con hà mã từ dưới sông trồi lên và ngốn sạch tất cả .\n",
            "Result: When they started , they were going to be , and there was a red , just a half of the night , the last four-year-old , they were going to go from the ocean and they were all .\n",
            "Inference finished! || Total inference time: 0:00:00.827422secs\n",
            "Preprocessing input sentence...\n",
            "Encoding input sentence...\n"
          ]
        },
        {
          "output_type": "stream",
          "name": "stderr",
          "text": [
            "\r 76%|███████▌  | 961/1268 [07:09<02:50,  1.80it/s]"
          ]
        },
        {
          "output_type": "stream",
          "name": "stdout",
          "text": [
            "Input: Chúng tôi nói với những người Zambia , &quot; Chúa ơi , những con hà mã kìa ! &quot;\n",
            "Result: We talked to the men , &quot; Oh , they &apos;re ! &quot;\n",
            "Inference finished! || Total inference time: 0:00:00.405315secs\n",
            "Preprocessing input sentence...\n",
            "Encoding input sentence...\n"
          ]
        },
        {
          "output_type": "stream",
          "name": "stderr",
          "text": [
            "\r 76%|███████▌  | 962/1268 [07:09<02:48,  1.82it/s]"
          ]
        },
        {
          "output_type": "stream",
          "name": "stdout",
          "text": [
            "Input: và người dân đáp rằng , &quot; Vâng , đó là lí do tại sao chúng tôi chẳng trồng thứ gì ở đây cả . &quot;\n",
            "Result: And they say , &quot; Well , that &apos;s why we don &apos;t have any kind of this . &quot;\n",
            "Inference finished! || Total inference time: 0:00:00.524584secs\n",
            "Preprocessing input sentence...\n",
            "Encoding input sentence...\n"
          ]
        },
        {
          "output_type": "stream",
          "name": "stderr",
          "text": [
            "\r 76%|███████▌  | 963/1268 [07:10<02:49,  1.80it/s]"
          ]
        },
        {
          "output_type": "stream",
          "name": "stdout",
          "text": [
            "Input: &quot; Thế tại sao mọi người không cho chúng tôi biết trước ? &quot; &quot; Anh có bao giờ hỏi đâu . &quot;\n",
            "Result: &quot; Why don &apos;t we know how to do we know ? &quot; You &apos;ve ever asked . &quot;\n",
            "Inference finished! || Total inference time: 0:00:00.555171secs\n",
            "Preprocessing input sentence...\n",
            "Encoding input sentence...\n"
          ]
        },
        {
          "output_type": "stream",
          "name": "stderr",
          "text": [
            " 76%|███████▌  | 965/1268 [07:11<02:35,  1.95it/s]"
          ]
        },
        {
          "output_type": "stream",
          "name": "stdout",
          "text": [
            "Input: Tôi đã nghĩ chỉ có mỗi người Ý là khờ khạo trên đất Châu Phi nhưng sau đó khi tôi nhìn những gì mà người Mỹ đang làm , những người Anh đang làm , những người Pháp đang làm , và sau khi chứng kiến những gì họ làm , Tôi cảm thấy có chút gì đó tự hào về dự án của mình tại Zambia\n",
            "Result: I think it &apos;s just just a person who &apos;s going to be , but after the United States , when I look at what the Americans are doing , and when they &apos;re doing something like , and they &apos;re going to see what I &apos;ve seen in the story of the book .\n",
            "Inference finished! || Total inference time: 0:00:00.867413secs\n",
            "Preprocessing input sentence...\n",
            "Encoding input sentence...\n",
            "Input: Bởi vì , bạn thấy đó , chỉ ít chúng tôi cũng nuôi ăn được mấy con hà mã\n",
            "Result: Because , you see , just a little bit of the light .\n",
            "Inference finished! || Total inference time: 0:00:00.187537secs\n",
            "Preprocessing input sentence...\n",
            "Encoding input sentence...\n"
          ]
        },
        {
          "output_type": "stream",
          "name": "stderr",
          "text": [
            "\r 76%|███████▌  | 966/1268 [07:11<02:22,  2.12it/s]"
          ]
        },
        {
          "output_type": "stream",
          "name": "stdout",
          "text": [
            "Input: Bạn nên nhìn vào cái thứ vớ vẩn---- Bạn nên nhìn vào cái thứ vớ vẩn mà chúng ta đã ban cho những người dân Châu Phi không mảy may nghi ngờ .\n",
            "Result: You should look at what -- you should look at something that we &apos;ve been going to be able to give the people of the Africans .\n",
            "Inference finished! || Total inference time: 0:00:00.366291secs\n",
            "Preprocessing input sentence...\n",
            "Encoding input sentence...\n"
          ]
        },
        {
          "output_type": "stream",
          "name": "stderr",
          "text": [
            " 76%|███████▋  | 968/1268 [07:12<01:51,  2.70it/s]"
          ]
        },
        {
          "output_type": "stream",
          "name": "stdout",
          "text": [
            "Input: Bạn muốn đọc cuốn sách nào đó , hãy đọc &quot; Sự Viện Trợ chết chóc , &quot; viết bởi Dambisa Moyo , một nhà nữ kinh tế người Zambia .\n",
            "Result: You want to read that book , let &apos;s read &quot; The Sindy &apos;s &quot; by the U.S. , a woman , a woman .\n",
            "Inference finished! || Total inference time: 0:00:00.487013secs\n",
            "Preprocessing input sentence...\n",
            "Encoding input sentence...\n",
            "Input: Cuốn sách được phát hành năm 2009 .\n",
            "Result: The first year was born in 2009 .\n",
            "Inference finished! || Total inference time: 0:00:00.111753secs\n",
            "Preprocessing input sentence...\n",
            "Encoding input sentence...\n"
          ]
        },
        {
          "output_type": "stream",
          "name": "stderr",
          "text": [
            "\r 76%|███████▋  | 969/1268 [07:12<01:58,  2.52it/s]"
          ]
        },
        {
          "output_type": "stream",
          "name": "stdout",
          "text": [
            "Input: Chúng ta , những quốc gia viện trợ Tây Phương đã mang đến lục địa Châu Phi 2 tỉ tỉ Mỹ Kim trong vòng 50 năm qua .\n",
            "Result: We , the United States , the United States , the United States has been taken to the United States , two billions of the next year .\n",
            "Inference finished! || Total inference time: 0:00:00.449943secs\n",
            "Preprocessing input sentence...\n",
            "Encoding input sentence...\n"
          ]
        },
        {
          "output_type": "stream",
          "name": "stderr",
          "text": [
            " 77%|███████▋  | 971/1268 [07:13<01:30,  3.28it/s]"
          ]
        },
        {
          "output_type": "stream",
          "name": "stdout",
          "text": [
            "Input: Tôi sẽ không nói với bạn những thiệt hại mà số tiền đó đã gây ra .\n",
            "Result: I &apos;m not going to tell you that they &apos;re going to be very much money .\n",
            "Inference finished! || Total inference time: 0:00:00.342045secs\n",
            "Preprocessing input sentence...\n",
            "Encoding input sentence...\n",
            "Input: hãy tìm đọc cuốn sách của bà ấy .\n",
            "Result: Let &apos;s read her book .\n",
            "Inference finished! || Total inference time: 0:00:00.117065secs\n",
            "Preprocessing input sentence...\n",
            "Encoding input sentence...\n"
          ]
        },
        {
          "output_type": "stream",
          "name": "stderr",
          "text": [
            "\r 77%|███████▋  | 972/1268 [07:13<01:27,  3.36it/s]"
          ]
        },
        {
          "output_type": "stream",
          "name": "stdout",
          "text": [
            "Input: Đọc nó từ một người phụ nữ Châu Phi , những thiệt hại mà chúng ta đã gây ra .\n",
            "Result: It &apos;s from a woman , they &apos;re going to be very useful .\n",
            "Inference finished! || Total inference time: 0:00:00.273473secs\n",
            "Preprocessing input sentence...\n",
            "Encoding input sentence...\n"
          ]
        },
        {
          "output_type": "stream",
          "name": "stderr",
          "text": [
            "\r 77%|███████▋  | 973/1268 [07:13<01:52,  2.63it/s]"
          ]
        },
        {
          "output_type": "stream",
          "name": "stdout",
          "text": [
            "Input: Những người Tây Phương như chúng ta là những người theo chủ nghĩa đế quốc , thực dân truyền giáo , và chúng ta chỉ có hai cách để đối xử với người khác : hoặc bảo trợ , hoặc bảo hộ\n",
            "Result: The United States like us , they are the people who are , they &apos;re going to be two , and we &apos;re just two ways to make other people : or either .\n",
            "Inference finished! || Total inference time: 0:00:00.566709secs\n",
            "Preprocessing input sentence...\n",
            "Encoding input sentence...\n"
          ]
        },
        {
          "output_type": "stream",
          "name": "stderr",
          "text": [
            " 77%|███████▋  | 975/1268 [07:14<01:29,  3.27it/s]"
          ]
        },
        {
          "output_type": "stream",
          "name": "stdout",
          "text": [
            "Input: Hai từ có nguồn gốc từ tiếng La Tinh &quot; pater , &quot; có nghĩa là &quot; làm cha . &quot;\n",
            "Result: Two words from &quot; from &quot; , &quot; means , &quot; means &quot; the mother &quot; . &quot;\n",
            "Inference finished! || Total inference time: 0:00:00.399279secs\n",
            "Preprocessing input sentence...\n",
            "Encoding input sentence...\n",
            "Input: Những chúng mang hai nghĩa khác biệt .\n",
            "Result: They &apos;re different .\n",
            "Inference finished! || Total inference time: 0:00:00.107098secs\n",
            "Preprocessing input sentence...\n",
            "Encoding input sentence...\n"
          ]
        },
        {
          "output_type": "stream",
          "name": "stderr",
          "text": [
            "\r 77%|███████▋  | 976/1268 [07:15<01:46,  2.73it/s]"
          ]
        },
        {
          "output_type": "stream",
          "name": "stdout",
          "text": [
            "Input: Bảo hộ , là tôi đối xử với bất cứ người nào đến từ nền văn hoá khác như thể họ là con tôi . &quot; Tôi yêu chúng quá . &quot;\n",
            "Result: They &apos;re going to be , I &apos;m going to make anyone from the culture , as they &apos;re like , &quot; I love . &quot;\n",
            "Inference finished! || Total inference time: 0:00:00.502029secs\n",
            "Preprocessing input sentence...\n",
            "Encoding input sentence...\n"
          ]
        },
        {
          "output_type": "stream",
          "name": "stderr",
          "text": [
            "\r 77%|███████▋  | 977/1268 [07:15<01:36,  3.01it/s]"
          ]
        },
        {
          "output_type": "stream",
          "name": "stdout",
          "text": [
            "Input: Bảo trợ , tôi đối xử với tất cả mọi người từ nền văn hoá khác như đầy tớ của mình .\n",
            "Result: They &apos;re going to work with all people from my own culture as my own .\n",
            "Inference finished! || Total inference time: 0:00:00.245981secs\n",
            "Preprocessing input sentence...\n",
            "Encoding input sentence...\n"
          ]
        },
        {
          "output_type": "stream",
          "name": "stderr",
          "text": [
            "\r 77%|███████▋  | 978/1268 [07:15<01:43,  2.80it/s]"
          ]
        },
        {
          "output_type": "stream",
          "name": "stdout",
          "text": [
            "Input: Đó là lí do tại sao người da trắng tại Châu Phi được gọi là &quot; bwana , &quot; ông chủ .\n",
            "Result: That &apos;s why they &apos;re in Africa called &quot; , &quot; he &apos;s going to be the sty .\n",
            "Inference finished! || Total inference time: 0:00:00.408953secs\n",
            "Preprocessing input sentence...\n",
            "Encoding input sentence...\n"
          ]
        },
        {
          "output_type": "stream",
          "name": "stderr",
          "text": [
            " 77%|███████▋  | 980/1268 [07:16<01:49,  2.64it/s]"
          ]
        },
        {
          "output_type": "stream",
          "name": "stdout",
          "text": [
            "Input: Tôi như bị tát vào mặt khi đọc cuốn sách , &quot; Nhỏ bé nhưng tuyệt đẹp , &quot; viết bởi Schumacher , nói rằng , trên hết tất cả , trong sự phát triển kinh tế , nếu người khác không cần giúp đỡ , hãy để mặc họ .\n",
            "Result: I was like to read when I read the book , &quot; but a great , &quot; but &quot; , &quot; because , in all of the economics , if they need to help them , let &apos;s need to help them .\n",
            "Inference finished! || Total inference time: 0:00:00.694699secs\n",
            "Preprocessing input sentence...\n",
            "Encoding input sentence...\n",
            "Input: Đây nên đáng là nguyên tắc đầu tiên về viện trợ .\n",
            "Result: This is a really the first thing about the U.S.\n",
            "Inference finished! || Total inference time: 0:00:00.181884secs\n",
            "Preprocessing input sentence...\n",
            "Encoding input sentence...\n"
          ]
        },
        {
          "output_type": "stream",
          "name": "stderr",
          "text": [
            "\r 77%|███████▋  | 981/1268 [07:16<01:32,  3.09it/s]"
          ]
        },
        {
          "output_type": "stream",
          "name": "stdout",
          "text": [
            "Input: Nguyên tắc đầu tiên về viện trợ là tôn trọng .\n",
            "Result: The first thing about the first , they &apos;re important .\n",
            "Inference finished! || Total inference time: 0:00:00.188195secs\n",
            "Preprocessing input sentence...\n",
            "Encoding input sentence...\n"
          ]
        },
        {
          "output_type": "stream",
          "name": "stderr",
          "text": [
            "\r 77%|███████▋  | 982/1268 [07:17<02:08,  2.23it/s]"
          ]
        },
        {
          "output_type": "stream",
          "name": "stdout",
          "text": [
            "Input: Sáng nay , người tổ chức buổi họp này đặt một cây gậy ra sàn nhà , và nói , &quot; Liệu chúng ta có thể--hình dung về một thành phố mà không phải là chủ nghĩa thực dân mới không ? &quot;\n",
            "Result: Now , they &apos;re going to put this , they put a sty , and say , &quot; Well , we can &apos;t have a city in the city that &apos;s not really not really not really good ? &quot;\n",
            "Inference finished! || Total inference time: 0:00:00.734663secs\n",
            "Preprocessing input sentence...\n",
            "Encoding input sentence...\n"
          ]
        },
        {
          "output_type": "stream",
          "name": "stderr",
          "text": [
            "\r 78%|███████▊  | 983/1268 [07:18<02:36,  1.82it/s]"
          ]
        },
        {
          "output_type": "stream",
          "name": "stdout",
          "text": [
            "Input: Khi 27 tuổi , tôi đã quyết định chỉ hưởng ứng với mọi người và tôi đã tạo ra một hệ thống gọi là Enterprise Facilitation , nơi mà bạn sẽ không khởi đầu bất cứ thứ gì bạn không bao giờ thúc đẩy ai , nhưng trở thành một người đầy tớ cho khát vọng bản địa , người đầy tớ của người bản địa những người có giấc mơ muốn trở thành một con người tốt hơn .\n",
            "Result: When I was 18-year-old , I decided to make people who create a system called the E.S. , where you wouldn &apos;t go to anyone who would never be a good person , but I wanted to be a good person for a good person who would have a good dream .\n",
            "Inference finished! || Total inference time: 0:00:00.775770secs\n",
            "Preprocessing input sentence...\n",
            "Encoding input sentence...\n"
          ]
        },
        {
          "output_type": "stream",
          "name": "stderr",
          "text": [
            "\r 78%|███████▊  | 984/1268 [07:18<02:14,  2.11it/s]"
          ]
        },
        {
          "output_type": "stream",
          "name": "stdout",
          "text": [
            "Input: Vậy bạn làm gì--bạn im miệng .\n",
            "Result: So what you do -- it &apos;s going to do -- it &apos;s going to be .\n",
            "Inference finished! || Total inference time: 0:00:00.291436secs\n",
            "Preprocessing input sentence...\n",
            "Encoding input sentence...\n"
          ]
        },
        {
          "output_type": "stream",
          "name": "stderr",
          "text": [
            " 78%|███████▊  | 986/1268 [07:19<01:35,  2.96it/s]"
          ]
        },
        {
          "output_type": "stream",
          "name": "stdout",
          "text": [
            "Input: Đừng bao giờ mang đến một cộng đồng với những ý tưởng , bạn ngồi với người bản địa .\n",
            "Result: Don &apos;t go to a community with the ideas , you &apos;re sitting with the people .\n",
            "Inference finished! || Total inference time: 0:00:00.280112secs\n",
            "Preprocessing input sentence...\n",
            "Encoding input sentence...\n",
            "Input: Chúng tôi không làm việc từ những văn phòng .\n",
            "Result: We don &apos;t work from the rooms .\n",
            "Inference finished! || Total inference time: 0:00:00.148344secs\n",
            "Preprocessing input sentence...\n",
            "Encoding input sentence...\n"
          ]
        },
        {
          "output_type": "stream",
          "name": "stderr",
          "text": [
            " 78%|███████▊  | 988/1268 [07:19<01:06,  4.24it/s]"
          ]
        },
        {
          "output_type": "stream",
          "name": "stdout",
          "text": [
            "Input: Chúng tôi gặp gỡ tại quán cà phê . Quán rượu .\n",
            "Result: We met in the sty .\n",
            "Inference finished! || Total inference time: 0:00:00.135316secs\n",
            "Preprocessing input sentence...\n",
            "Encoding input sentence...\n",
            "Input: Chúng tôi không có bất cứ cơ sở hạ tầng nào .\n",
            "Result: We don &apos;t have any power .\n",
            "Inference finished! || Total inference time: 0:00:00.127607secs\n",
            "Preprocessing input sentence...\n",
            "Encoding input sentence...\n"
          ]
        },
        {
          "output_type": "stream",
          "name": "stderr",
          "text": [
            " 78%|███████▊  | 990/1268 [07:19<01:00,  4.61it/s]"
          ]
        },
        {
          "output_type": "stream",
          "name": "stdout",
          "text": [
            "Input: và cái chúng tôi làm là trở thành bạn của nhau , và tìm ra cái mà người đó muốn làm .\n",
            "Result: And what we do is you get together , and we find that people want to do .\n",
            "Inference finished! || Total inference time: 0:00:00.222148secs\n",
            "Preprocessing input sentence...\n",
            "Encoding input sentence...\n",
            "Input: Cái quan trọng nhất là khát vọng .\n",
            "Result: The most important thing is that it &apos;s very hard .\n",
            "Inference finished! || Total inference time: 0:00:00.170690secs\n",
            "Preprocessing input sentence...\n",
            "Encoding input sentence...\n"
          ]
        },
        {
          "output_type": "stream",
          "name": "stderr",
          "text": [
            "\r 78%|███████▊  | 991/1268 [07:19<00:51,  5.39it/s]"
          ]
        },
        {
          "output_type": "stream",
          "name": "stdout",
          "text": [
            "Input: Bạn có thể cho ai đó một ý tưởng .\n",
            "Result: You can tell someone a idea .\n",
            "Inference finished! || Total inference time: 0:00:00.105796secs\n",
            "Preprocessing input sentence...\n",
            "Encoding input sentence...\n",
            "Input: Nếu người đó không muốn làm , vậy thì bạn phải làm sao ?\n",
            "Result: If you don &apos;t want to do , what do you do ?\n",
            "Inference finished! || Total inference time: 0:00:00.192567secs\n"
          ]
        },
        {
          "output_type": "stream",
          "name": "stderr",
          "text": [
            "\r 78%|███████▊  | 992/1268 [07:20<00:52,  5.26it/s]"
          ]
        },
        {
          "output_type": "stream",
          "name": "stdout",
          "text": [
            "Preprocessing input sentence...\n",
            "Encoding input sentence...\n"
          ]
        },
        {
          "output_type": "stream",
          "name": "stderr",
          "text": [
            "\r 78%|███████▊  | 993/1268 [07:20<00:58,  4.68it/s]"
          ]
        },
        {
          "output_type": "stream",
          "name": "stdout",
          "text": [
            "Input: Cái khát vọng của người phụ nữ có cho sự phát triển của bản thân là thứ quan trọng nhất .\n",
            "Result: The greatest man who has the most important of the most important thing .\n",
            "Inference finished! || Total inference time: 0:00:00.258653secs\n",
            "Preprocessing input sentence...\n",
            "Encoding input sentence...\n"
          ]
        },
        {
          "output_type": "stream",
          "name": "stderr",
          "text": [
            "\r 78%|███████▊  | 994/1268 [07:20<01:18,  3.49it/s]"
          ]
        },
        {
          "output_type": "stream",
          "name": "stdout",
          "text": [
            "Input: Cái khát vọng của nam giới có cho sự phát triển của cá nhân là thứ quan trọng nhất .\n",
            "Result: They &apos;re very , they &apos;re very important for the most important of the most important person .\n",
            "Inference finished! || Total inference time: 0:00:00.444509secs\n",
            "Preprocessing input sentence...\n",
            "Encoding input sentence...\n"
          ]
        },
        {
          "output_type": "stream",
          "name": "stderr",
          "text": [
            "\r 78%|███████▊  | 995/1268 [07:21<01:29,  3.04it/s]"
          ]
        },
        {
          "output_type": "stream",
          "name": "stdout",
          "text": [
            "Input: và chúng tôi giúp họ tiến hành tìm kiếm sự hiểu biết , vì chẳng ai trên thế giới có thể thành công một mình .\n",
            "Result: And we help them understand how to understand the world , because there &apos;s no one of us can be a job .\n",
            "Inference finished! || Total inference time: 0:00:00.421187secs\n",
            "Preprocessing input sentence...\n",
            "Encoding input sentence...\n"
          ]
        },
        {
          "output_type": "stream",
          "name": "stderr",
          "text": [
            "\r 79%|███████▊  | 996/1268 [07:21<01:30,  3.02it/s]"
          ]
        },
        {
          "output_type": "stream",
          "name": "stdout",
          "text": [
            "Input: Người có ý tưởng chưa chắc đã có sự hiểu biết , nhưng sự hiểu biết luôn hiện hữu .\n",
            "Result: They have a idea that hasn &apos;t know , but the truth is always .\n",
            "Inference finished! || Total inference time: 0:00:00.328945secs\n",
            "Preprocessing input sentence...\n",
            "Encoding input sentence...\n"
          ]
        },
        {
          "output_type": "stream",
          "name": "stderr",
          "text": [
            " 79%|███████▊  | 998/1268 [07:22<01:50,  2.44it/s]"
          ]
        },
        {
          "output_type": "stream",
          "name": "stdout",
          "text": [
            "Input: Vậy nên nhiều năm trước , tôi có ý tưởng thế này : Tại sao chúng ta không , chỉ một lần , thay vì , đến một cộng đồng , và nói với những người ở đó họ nên làm gì , sao chúng ta không , lắng nghe họ dù chỉ một lần ? Nhưng không phải trong những cuộc họp cộng đồng\n",
            "Result: So many years ago , I had this idea : Why don &apos;t we don &apos;t just , instead of a community , and say , why don &apos;t we hear them , but why don &apos;t we hear them ?\n",
            "Inference finished! || Total inference time: 0:00:00.924067secs\n",
            "Preprocessing input sentence...\n",
            "Encoding input sentence...\n",
            "Input: Để tôi nói bạn biết một bí mật .\n",
            "Result: Let me tell you a very bad idea .\n",
            "Inference finished! || Total inference time: 0:00:00.160657secs\n",
            "Preprocessing input sentence...\n",
            "Encoding input sentence...\n"
          ]
        },
        {
          "output_type": "stream",
          "name": "stderr",
          "text": [
            "\r 79%|███████▉  | 999/1268 [07:22<01:33,  2.86it/s]"
          ]
        },
        {
          "output_type": "stream",
          "name": "stdout",
          "text": [
            "Input: Có một vần đề trong những cuộc họp cộng đồng .\n",
            "Result: There &apos;s a problem in the community .\n",
            "Inference finished! || Total inference time: 0:00:00.200184secs\n",
            "Preprocessing input sentence...\n",
            "Encoding input sentence...\n"
          ]
        },
        {
          "output_type": "stream",
          "name": "stderr",
          "text": [
            "\r 79%|███████▉  | 1000/1268 [07:23<01:59,  2.25it/s]"
          ]
        },
        {
          "output_type": "stream",
          "name": "stdout",
          "text": [
            "Input: Những doanh nhân chẳng bao giờ đến dự , và họ chẳng đời nào cho bạn biết , trong buổi họp cộng đồng , cái họ muốn làm với tiền của mình , cái cơ hội mà họ mới tìm ra .\n",
            "Result: The business are not now , and they don &apos;t know how to know they want to know their community , they want to make their money , they want to find them .\n",
            "Inference finished! || Total inference time: 0:00:00.655455secs\n",
            "Preprocessing input sentence...\n",
            "Encoding input sentence...\n"
          ]
        },
        {
          "output_type": "stream",
          "name": "stderr",
          "text": [
            "\r 79%|███████▉  | 1001/1268 [07:23<01:48,  2.47it/s]"
          ]
        },
        {
          "output_type": "stream",
          "name": "stdout",
          "text": [
            "Input: Vậy nên hoạch định có một điểm mù này .\n",
            "Result: So , this is a very , there is a very this point .\n",
            "Inference finished! || Total inference time: 0:00:00.306852secs\n",
            "Preprocessing input sentence...\n",
            "Encoding input sentence...\n"
          ]
        },
        {
          "output_type": "stream",
          "name": "stderr",
          "text": [
            "\r 79%|███████▉  | 1002/1268 [07:24<01:59,  2.22it/s]"
          ]
        },
        {
          "output_type": "stream",
          "name": "stdout",
          "text": [
            "Input: những người thông thái nhất trong cộng đồng bạn chẳng bao giờ biết được vì họ chẳng đời nào đến dự những buổi họp công cộng .\n",
            "Result: The most people in the community you don &apos;t know how they don &apos;t know how they &apos;re not going to go to the community .\n",
            "Inference finished! || Total inference time: 0:00:00.549233secs\n",
            "Preprocessing input sentence...\n",
            "Encoding input sentence...\n"
          ]
        },
        {
          "output_type": "stream",
          "name": "stderr",
          "text": [
            " 79%|███████▉  | 1004/1268 [07:24<01:33,  2.84it/s]"
          ]
        },
        {
          "output_type": "stream",
          "name": "stdout",
          "text": [
            "Input: Cái chúng tôi làm là làm việc một-đối-một và để làm điều đó , bạn phải tạo ra một cấu trúc xã hội hiện không tồn tại .\n",
            "Result: What we do is a very , and we do , you have to create a social social social structure .\n",
            "Inference finished! || Total inference time: 0:00:00.406574secs\n",
            "Preprocessing input sentence...\n",
            "Encoding input sentence...\n",
            "Input: bạn phải tạo ra một chuyên ngành mới .\n",
            "Result: You have to create a new new .\n",
            "Inference finished! || Total inference time: 0:00:00.138629secs\n",
            "Preprocessing input sentence...\n",
            "Encoding input sentence...\n"
          ]
        },
        {
          "output_type": "stream",
          "name": "stderr",
          "text": [
            " 79%|███████▉  | 1006/1268 [07:25<01:41,  2.59it/s]"
          ]
        },
        {
          "output_type": "stream",
          "name": "stdout",
          "text": [
            "Input: Một chuyên ngành mới như một bác sỹ gia đình cho doanh nghiệp , bác sỹ gia đình cho công việc làm ăn , người ngồi với bạn trong nhà bạn , tại bàn cơm trong bếp , tại quán cà phê , và giúp bạn tìm ra những nguồn tài nguyên để biến khát vọng của bạn thành một phương cách kiếm sống .\n",
            "Result: A new , a new company like a family , the family for the family , who sits with you , with the house , in the house , and you help to find a very , and help you can find a very , to help your own life .\n",
            "Inference finished! || Total inference time: 0:00:00.748339secs\n",
            "Preprocessing input sentence...\n",
            "Encoding input sentence...\n",
            "Input: Tôi đã bắt đầu như một sự thử nghiệm tại Esperance , tây Úc .\n",
            "Result: I started a experiment like this , the Sindy .\n",
            "Inference finished! || Total inference time: 0:00:00.176447secs\n",
            "Preprocessing input sentence...\n",
            "Encoding input sentence...\n"
          ]
        },
        {
          "output_type": "stream",
          "name": "stderr",
          "text": [
            "\r 79%|███████▉  | 1007/1268 [07:26<01:48,  2.41it/s]"
          ]
        },
        {
          "output_type": "stream",
          "name": "stdout",
          "text": [
            "Input: Tôi đang theo học tiến sỹ triết học tại thời điểm đó , cố gắng tránh xa khỏi cái phương thức bảo hộ vớ vẩn đó là đến và bảo cho bạn biết phải làm gì .\n",
            "Result: I &apos;m working on the University of the time , trying to go from the way to the stysests of the way to know what you know .\n",
            "Inference finished! || Total inference time: 0:00:00.477290secs\n",
            "Preprocessing input sentence...\n",
            "Encoding input sentence...\n"
          ]
        },
        {
          "output_type": "stream",
          "name": "stderr",
          "text": [
            "\r 79%|███████▉  | 1008/1268 [07:27<02:21,  1.84it/s]"
          ]
        },
        {
          "output_type": "stream",
          "name": "stdout",
          "text": [
            "Input: Vậy nên cái mà tôi làm trong năm đầu tiên tại Esperance là chỉ bách bộ trên đường , và trong 3 ngày Tôi có khách hàng đầu tiên Một người làm nghề hun khói cá trong nhà xe , tên là Maori , và tôi giúp anh ta bán cá cho một nhà hàng tại Perth , và tổ chức lại công việc , sau đó thì một người đánh cá tìm đến tôi và nói Ông là người đã giúp Maori hả ? Ông có thể giúp tôi với không ?\n",
            "Result: So what I did in the first year in the first book is just a third of the next day , and I have a team of a stse , and I asked a , and I said , and I asked him , and he said , &quot; He &apos;s going to help me ? &quot;\n",
            "Inference finished! || Total inference time: 0:00:00.835400secs\n",
            "Preprocessing input sentence...\n",
            "Encoding input sentence...\n"
          ]
        },
        {
          "output_type": "stream",
          "name": "stderr",
          "text": [
            "\r 80%|███████▉  | 1009/1268 [07:28<03:09,  1.37it/s]"
          ]
        },
        {
          "output_type": "stream",
          "name": "stdout",
          "text": [
            "Input: và tôi giúp những người đánh cá này biết cách làm việc cùng nhau và bán những con cá ngừ hảo hạng này không phải cho nhà máy đồ hộp tại Albany với giá 60 đồng một kí , nhưng chúng tôi tìm cách bán chúng tới Nhật Bản để làm sushi với giá 15 đô la một kí , và rồi những người nông dân tìm đến , nói rằng , &quot; Này , ông đã giúp mấy người đó. ông có thể giúp chúng tôi không ? &quot;\n",
            "Result: And I helped these people know how to do this and they were not going to be this , without the series of they &apos;re not going to find across the , but we found a , and we can &apos;t find the , and then he said , &quot; You can &apos;t help him , &quot; and he said , &quot; How do you can &apos;t help him ? &quot;\n",
            "Inference finished! || Total inference time: 0:00:01.166347secs\n",
            "Preprocessing input sentence...\n",
            "Encoding input sentence...\n"
          ]
        },
        {
          "output_type": "stream",
          "name": "stderr",
          "text": [
            "\r 80%|███████▉  | 1010/1268 [07:28<02:35,  1.66it/s]"
          ]
        },
        {
          "output_type": "stream",
          "name": "stdout",
          "text": [
            "Input: Trong một năm , tôi có 27 dự án liên tiếp và người của chính phủ đến tìm hỏi tôi , &quot; Ông làm như thế nào vậy ?\n",
            "Result: In a year , I had a year and the government to ask me , &quot; What do you do ?\n",
            "Inference finished! || Total inference time: 0:00:00.287551secs\n",
            "Preprocessing input sentence...\n",
            "Encoding input sentence...\n"
          ]
        },
        {
          "output_type": "stream",
          "name": "stderr",
          "text": [
            " 80%|███████▉  | 1012/1268 [07:29<01:50,  2.32it/s]"
          ]
        },
        {
          "output_type": "stream",
          "name": "stdout",
          "text": [
            "Input: Ông làm thế nào-- ? &quot; Và tôi đáp , &quot; Tôi đã làm một việc rất ư là khó .\n",
            "Result: He did this ? &quot; And I &apos;m going to do , &quot; I &apos;ve done a very hard .\n",
            "Inference finished! || Total inference time: 0:00:00.365653secs\n",
            "Preprocessing input sentence...\n",
            "Encoding input sentence...\n",
            "Input: Tôi im miệng , và lắng nghe họ . &quot;\n",
            "Result: I was , and listening , and they heard . &quot;\n",
            "Inference finished! || Total inference time: 0:00:00.184086secs\n",
            "Preprocessing input sentence...\n",
            "Encoding input sentence...\n"
          ]
        },
        {
          "output_type": "stream",
          "name": "stderr",
          "text": [
            " 80%|███████▉  | 1014/1268 [07:29<01:16,  3.34it/s]"
          ]
        },
        {
          "output_type": "stream",
          "name": "stdout",
          "text": [
            "Input: Vậy nên---- Vậy nên chính phủ nói với tôi , &quot; Cứ làm tiếp nhé . &quot;\n",
            "Result: So -- so the government said to me , &quot; Okay . &quot;\n",
            "Inference finished! || Total inference time: 0:00:00.241001secs\n",
            "Preprocessing input sentence...\n",
            "Encoding input sentence...\n",
            "Input: Chúng tôi đã làm thế tại 300 cộng đồng trên khắp thế giới .\n",
            "Result: We did across the world in the world .\n",
            "Inference finished! || Total inference time: 0:00:00.113608secs\n",
            "Preprocessing input sentence...\n",
            "Encoding input sentence...\n"
          ]
        },
        {
          "output_type": "stream",
          "name": "stderr",
          "text": [
            "\r 80%|████████  | 1015/1268 [07:29<01:02,  4.03it/s]"
          ]
        },
        {
          "output_type": "stream",
          "name": "stdout",
          "text": [
            "Input: Chúng tôi đã giúp khởi động 40,000 công việc làm ăn .\n",
            "Result: We helped four millions of work .\n",
            "Inference finished! || Total inference time: 0:00:00.122729secs\n",
            "Preprocessing input sentence...\n",
            "Encoding input sentence...\n"
          ]
        },
        {
          "output_type": "stream",
          "name": "stderr",
          "text": [
            "\r 80%|████████  | 1016/1268 [07:30<01:11,  3.54it/s]"
          ]
        },
        {
          "output_type": "stream",
          "name": "stdout",
          "text": [
            "Input: Có một thế hệ doanh nhân mới những người đang kiệt quệ vì sự cô lập .\n",
            "Result: There &apos;s a new system that &apos;s going to be because she &apos;s going to be very excited .\n",
            "Inference finished! || Total inference time: 0:00:00.355642secs\n",
            "Preprocessing input sentence...\n",
            "Encoding input sentence...\n"
          ]
        },
        {
          "output_type": "stream",
          "name": "stderr",
          "text": [
            "\r 80%|████████  | 1017/1268 [07:30<01:18,  3.19it/s]"
          ]
        },
        {
          "output_type": "stream",
          "name": "stdout",
          "text": [
            "Input: Peter Drucker , một trong những cố vấn về quản lí vĩ đại nhất trong lịch sử , qua đời khi 96 tuổi , một vài năm trước .\n",
            "Result: JH , one of the most important issues in the history of the life , through the age of the age of life , a few years ago .\n",
            "Inference finished! || Total inference time: 0:00:00.380046secs\n",
            "Preprocessing input sentence...\n",
            "Encoding input sentence...\n"
          ]
        },
        {
          "output_type": "stream",
          "name": "stderr",
          "text": [
            "\r 80%|████████  | 1018/1268 [07:31<01:37,  2.58it/s]"
          ]
        },
        {
          "output_type": "stream",
          "name": "stdout",
          "text": [
            "Input: Peter Drucker là một giáo sư triết học trước khi làm công việc liên quan có đến kinh doanh , và đây là điều mà Peter Drucker nói : &quot; Hoạch định thực sự không tương thích với một xã hội và một nền kinh tế kinh doanh . &quot;\n",
            "Result: JH : The teacher is a scientist before the work , and this is what &apos;s the theory of the : &quot; The art &quot; is not really a society and a society . &quot;\n",
            "Inference finished! || Total inference time: 0:00:00.556245secs\n",
            "Preprocessing input sentence...\n",
            "Encoding input sentence...\n"
          ]
        },
        {
          "output_type": "stream",
          "name": "stderr",
          "text": [
            "\r 80%|████████  | 1019/1268 [07:31<01:24,  2.93it/s]"
          ]
        },
        {
          "output_type": "stream",
          "name": "stdout",
          "text": [
            "Input: Hoạch định là nụ hôn thần chết đối với doanh nhân .\n",
            "Result: They &apos;re a sty-scted to the business .\n",
            "Inference finished! || Total inference time: 0:00:00.224456secs\n",
            "Preprocessing input sentence...\n",
            "Encoding input sentence...\n"
          ]
        },
        {
          "output_type": "stream",
          "name": "stderr",
          "text": [
            " 81%|████████  | 1021/1268 [07:31<01:19,  3.13it/s]"
          ]
        },
        {
          "output_type": "stream",
          "name": "stdout",
          "text": [
            "Input: Thế nên ngay bây giờ bạn đang tái dựng lại Christchurch mà không biết rằng những người thông thái nhất tại Christchurch muốn làm gì với tiền của &amp; amp ; tiềm lực của họ .\n",
            "Result: So now you &apos;re going to build the TEDA , which is not know what the most people who want to do with their money ; they want to do with their own .\n",
            "Inference finished! || Total inference time: 0:00:00.462284secs\n",
            "Preprocessing input sentence...\n",
            "Encoding input sentence...\n",
            "Input: Bạn phải học cách khiến những người này tìm đến nói chuyện với bạn .\n",
            "Result: You have to learn how to find these people to talk to you .\n",
            "Inference finished! || Total inference time: 0:00:00.172537secs\n",
            "Preprocessing input sentence...\n",
            "Encoding input sentence...\n"
          ]
        },
        {
          "output_type": "stream",
          "name": "stderr",
          "text": [
            " 81%|████████  | 1023/1268 [07:32<01:27,  2.79it/s]"
          ]
        },
        {
          "output_type": "stream",
          "name": "stdout",
          "text": [
            "Input: Bạn phải đưa đến cho họ sự bảo mật , riêng tư , bạn phải thật sự hứng khởi khi giúp họ , và họ sẽ tới , theo đám đông lũ lượt kéo tới .\n",
            "Result: You have to give them their own , you have to be the very , you &apos;re going to help them , and they &apos;re going to help them , and they &apos;re going to go to the sty .\n",
            "Inference finished! || Total inference time: 0:00:00.696222secs\n",
            "Preprocessing input sentence...\n",
            "Encoding input sentence...\n",
            "Input: Với một cộng đồng 10,000 người , chúng ta có thể có khoảng 200 khách hàng .\n",
            "Result: For a community of a community , we can have about 200 people .\n",
            "Inference finished! || Total inference time: 0:00:00.175372secs\n",
            "Preprocessing input sentence...\n",
            "Encoding input sentence...\n"
          ]
        },
        {
          "output_type": "stream",
          "name": "stderr",
          "text": [
            " 81%|████████  | 1025/1268 [07:34<02:16,  1.79it/s]"
          ]
        },
        {
          "output_type": "stream",
          "name": "stdout",
          "text": [
            "Input: BẠn có thể tượng tưởng một cộng đồng 400,000 người , vối trí thông minh và khát vọng ?\n",
            "Result: Can you imagine a 40 million people , the very , very , very , very , very , very , very , very very , very , very , very , very , very , very , very , very , very , very very , very , very , very , very , very , very , very , , , , , , very very , very very , , , very very , , \n",
            "Inference finished! || Total inference time: 0:00:01.586760secs\n",
            "Preprocessing input sentence...\n",
            "Encoding input sentence...\n",
            "Input: Bài thuyết trình nào bạn vỗ tay nhiều nhất trong sáng nay ?\n",
            "Result: What &apos;s the most of you in the audience ?\n",
            "Inference finished! || Total inference time: 0:00:00.159643secs\n",
            "Preprocessing input sentence...\n",
            "Encoding input sentence...\n"
          ]
        },
        {
          "output_type": "stream",
          "name": "stderr",
          "text": [
            "\r 81%|████████  | 1026/1268 [07:35<02:08,  1.89it/s]"
          ]
        },
        {
          "output_type": "stream",
          "name": "stdout",
          "text": [
            "Input: Người bản địa , những con người khát khao . Đó là những người bạn đã vỗ tay tán thưởng .\n",
            "Result: They are very , people who are very , and that &apos;s the people who are going to be going to be styd .\n",
            "Inference finished! || Total inference time: 0:00:00.450414secs\n",
            "Preprocessing input sentence...\n",
            "Encoding input sentence...\n"
          ]
        },
        {
          "output_type": "stream",
          "name": "stderr",
          "text": [
            "\r 81%|████████  | 1027/1268 [07:35<01:46,  2.25it/s]"
          ]
        },
        {
          "output_type": "stream",
          "name": "stdout",
          "text": [
            "Input: Vậy nên cái mà tôi đang nói đến là Tinh Thần kinh doanh là nơi nó hiện hữu .\n",
            "Result: So what I &apos;m talking is the business is the place where it is .\n",
            "Inference finished! || Total inference time: 0:00:00.237852secs\n",
            "Preprocessing input sentence...\n",
            "Encoding input sentence...\n"
          ]
        },
        {
          "output_type": "stream",
          "name": "stderr",
          "text": [
            " 81%|████████  | 1029/1268 [07:36<01:40,  2.38it/s]"
          ]
        },
        {
          "output_type": "stream",
          "name": "stdout",
          "text": [
            "Input: Chúng ta đang ở giai đoạn cuối cùng của cuộc cách mạng công nghiệp đầu tiên-- với những nguồn nhiên liệu &amp; amp ; nền sản xuất không thể tái tạo , và đột nhiện , chúng ta có những hệ thống không bền vững .\n",
            "Result: We are at the end of the first time of the first study -- with the power of the power , the scing , the stse , the system , we have no system .\n",
            "Inference finished! || Total inference time: 0:00:00.697316secs\n",
            "Preprocessing input sentence...\n",
            "Encoding input sentence...\n",
            "Input: Động cơ đốt trong không bền vững .\n",
            "Result: They are in a very low-term .\n",
            "Inference finished! || Total inference time: 0:00:00.171973secs\n",
            "Preprocessing input sentence...\n",
            "Encoding input sentence...\n"
          ]
        },
        {
          "output_type": "stream",
          "name": "stderr",
          "text": [
            "\r 81%|████████  | 1030/1268 [07:36<01:37,  2.44it/s]"
          ]
        },
        {
          "output_type": "stream",
          "name": "stdout",
          "text": [
            "Input: Đường lối Freon để lưu trữ các thứ là không bền vững .\n",
            "Result: They &apos;re going to put the stys to take things out of the same thing .\n",
            "Inference finished! || Total inference time: 0:00:00.370380secs\n",
            "Preprocessing input sentence...\n",
            "Encoding input sentence...\n"
          ]
        },
        {
          "output_type": "stream",
          "name": "stderr",
          "text": [
            "\r 81%|████████▏ | 1031/1268 [07:37<01:42,  2.32it/s]"
          ]
        },
        {
          "output_type": "stream",
          "name": "stdout",
          "text": [
            "Input: Cái mà chúng ta phải nhìn đến đó là chúng ta làm thế nào để nuôi dưỡng , chữa trị , giáo dục , di chuyển và liên lạc cho 7 tỉ người theo hướng bền vững .\n",
            "Result: What we have to look at is how we can make , health , education , and recing to the billions of people .\n",
            "Inference finished! || Total inference time: 0:00:00.472393secs\n",
            "Preprocessing input sentence...\n",
            "Encoding input sentence...\n"
          ]
        },
        {
          "output_type": "stream",
          "name": "stderr",
          "text": [
            "\r 81%|████████▏ | 1032/1268 [07:37<01:28,  2.67it/s]"
          ]
        },
        {
          "output_type": "stream",
          "name": "stdout",
          "text": [
            "Input: Không có công nghệ nào làm được điều đó .\n",
            "Result: There &apos;s no technology that &apos;s not done .\n",
            "Inference finished! || Total inference time: 0:00:00.232154secs\n",
            "Preprocessing input sentence...\n",
            "Encoding input sentence...\n"
          ]
        },
        {
          "output_type": "stream",
          "name": "stderr",
          "text": [
            "\r 81%|████████▏ | 1033/1268 [07:37<01:33,  2.50it/s]"
          ]
        },
        {
          "output_type": "stream",
          "name": "stdout",
          "text": [
            "Input: NGười nào sẽ sáng chế ra cái công nghệ cho cuộc cách mạng xanh ? Các trường đại học ư ? quên đi !\n",
            "Result: Okay , how do you get the very , the world &apos;s going to be the New York ?\n",
            "Inference finished! || Total inference time: 0:00:00.451212secs\n",
            "Preprocessing input sentence...\n",
            "Encoding input sentence...\n",
            "Input: Chính phủ ư ? Quên đi !\n",
            "Result: The government ?\n",
            "Inference finished! || Total inference time: 0:00:00.077900secs\n",
            "Preprocessing input sentence...\n",
            "Encoding input sentence...\n"
          ]
        },
        {
          "output_type": "stream",
          "name": "stderr",
          "text": [
            "\r 82%|████████▏ | 1035/1268 [07:38<01:09,  3.34it/s]"
          ]
        },
        {
          "output_type": "stream",
          "name": "stdout",
          "text": [
            "Input: Đó sẽ là các danh nhân , và họ đang thực hiện điều đó ngay hiện nay\n",
            "Result: It &apos;s going to be they &apos;re doing that .\n",
            "Inference finished! || Total inference time: 0:00:00.271908secs\n",
            "Preprocessing input sentence...\n",
            "Encoding input sentence...\n"
          ]
        },
        {
          "output_type": "stream",
          "name": "stderr",
          "text": [
            "\r 82%|████████▏ | 1036/1268 [07:38<01:16,  3.03it/s]"
          ]
        },
        {
          "output_type": "stream",
          "name": "stdout",
          "text": [
            "Input: Có một câu chuyện rất vui mà tôi đọc được trên một tờ tạp chí vị lai nhiều năm về trước\n",
            "Result: There &apos;s a story that I read on a book that I &apos;ve read a lot of the future before .\n",
            "Inference finished! || Total inference time: 0:00:00.409581secs\n",
            "Preprocessing input sentence...\n",
            "Encoding input sentence...\n"
          ]
        },
        {
          "output_type": "stream",
          "name": "stderr",
          "text": [
            "\r 82%|████████▏ | 1037/1268 [07:38<01:24,  2.74it/s]"
          ]
        },
        {
          "output_type": "stream",
          "name": "stdout",
          "text": [
            "Input: Có một nhóm chuyên gia được mời đến để thảo luận về tương lai của thành phố New York năm 1860 .\n",
            "Result: There &apos;s a group of people who have told to go to the future of the United States in New York City .\n",
            "Inference finished! || Total inference time: 0:00:00.457523secs\n",
            "Preprocessing input sentence...\n",
            "Encoding input sentence...\n"
          ]
        },
        {
          "output_type": "stream",
          "name": "stderr",
          "text": [
            "\r 82%|████████▏ | 1038/1268 [07:39<02:02,  1.87it/s]"
          ]
        },
        {
          "output_type": "stream",
          "name": "stdout",
          "text": [
            "Input: Và trong năm 1860 , nhóm người ngày tụ họp lại , và phỏng đoán về điều sẻ xảy ra cho thành phố New York trong vòng 100 năm tới , và kết luận được nhất trí như sau : Thành phố New York sẽ không còn tồn tại trong vòng 100 năm tới .\n",
            "Result: And in the last 185 , they &apos;re going to learn the day , and they &apos;ve learned about the United States for the United States , and the most important for the United States : the United States in the next year .\n",
            "Inference finished! || Total inference time: 0:00:00.974699secs\n",
            "Preprocessing input sentence...\n",
            "Encoding input sentence...\n"
          ]
        },
        {
          "output_type": "stream",
          "name": "stderr",
          "text": [
            "\r 82%|████████▏ | 1039/1268 [07:41<02:36,  1.46it/s]"
          ]
        },
        {
          "output_type": "stream",
          "name": "stdout",
          "text": [
            "Input: Sao vậy ? Bởi vì họ nhìn vào đường cong trên phác đồ và nói , nếu dân số cứ phát triển theo tỉ lệ này , để di chuyển một lượng dân số của thành phố New York họ sẽ phải cần đến 6 triệu con ngựa , và chất thải từ 6 triệu con ngựa sẽ không có cách nào để xử lí .\n",
            "Result: Why ? Because they look at they look at they look at the , if they say , they &apos;re going to be going to move , to the United States , and they &apos;re going to have to have six million dollars , and they &apos;re not going to have to have a million dollars .\n",
            "Inference finished! || Total inference time: 0:00:01.066802secs\n",
            "Preprocessing input sentence...\n",
            "Encoding input sentence...\n"
          ]
        },
        {
          "output_type": "stream",
          "name": "stderr",
          "text": [
            "\r 82%|████████▏ | 1040/1268 [07:41<02:05,  1.82it/s]"
          ]
        },
        {
          "output_type": "stream",
          "name": "stdout",
          "text": [
            "Input: Họ sẽ bị ngập ngụa trong phân ngựa .\n",
            "Result: They &apos;re going to be going to be in the ocean .\n",
            "Inference finished! || Total inference time: 0:00:00.207472secs\n",
            "Preprocessing input sentence...\n",
            "Encoding input sentence...\n"
          ]
        },
        {
          "output_type": "stream",
          "name": "stderr",
          "text": [
            "\r 82%|████████▏ | 1041/1268 [07:41<01:55,  1.96it/s]"
          ]
        },
        {
          "output_type": "stream",
          "name": "stdout",
          "text": [
            "Input: Vậy nên vào năm 1860 , họ nhìn thấy cái công nghệ nhem nhuốc này cái mà làm cho cuộc sống ở thành phố New York ngộp thở .\n",
            "Result: So in the last 185 , they look at this technology that &apos;s going to make the city in the New York City in the New York City .\n",
            "Inference finished! || Total inference time: 0:00:00.403018secs\n",
            "Preprocessing input sentence...\n",
            "Encoding input sentence...\n"
          ]
        },
        {
          "output_type": "stream",
          "name": "stderr",
          "text": [
            "\r 82%|████████▏ | 1042/1268 [07:42<01:54,  1.97it/s]"
          ]
        },
        {
          "output_type": "stream",
          "name": "stdout",
          "text": [
            "Input: Vậy điều gì đã xảy ra ? Trong vòng 40 năm , tới thời điểm 1900 , tại Mỹ , có khoảng 1,001 công ty sản xuất xe hơi--1,001 .\n",
            "Result: So what happened ? In the next 40 years , there was about the United States , there was about the United States , a ster-ser-ser .\n",
            "Inference finished! || Total inference time: 0:00:00.491662secs\n",
            "Preprocessing input sentence...\n",
            "Encoding input sentence...\n"
          ]
        },
        {
          "output_type": "stream",
          "name": "stderr",
          "text": [
            "\r 82%|████████▏ | 1043/1268 [07:43<03:05,  1.21it/s]"
          ]
        },
        {
          "output_type": "stream",
          "name": "stdout",
          "text": [
            "Input: Cái ý tưởng tìm kiếm một công nghệ khác biệt đã hoàn toàn vượt lên trên tất cả và có những nhà máy rất nhỏ bé trong tình trạng trì trệ\n",
            "Result: The idea is to find a different technology that has been , and there are a little little little very small , very small , very small , very small , in the very very , very very , very very very very , in the very very very very , in the very very very very very very very very , very very , in the very very very very very , in the very very very very very very very very very very very very very very very\n",
            "Inference finished! || Total inference time: 0:00:01.582380secs\n",
            "Preprocessing input sentence...\n",
            "Encoding input sentence...\n"
          ]
        },
        {
          "output_type": "stream",
          "name": "stderr",
          "text": [
            "\r 82%|████████▏ | 1044/1268 [07:43<02:23,  1.56it/s]"
          ]
        },
        {
          "output_type": "stream",
          "name": "stdout",
          "text": [
            "Input: Dearborn , MIchigan . Henry Ford .\n",
            "Result: They &apos;re going to be the Senody .\n",
            "Inference finished! || Total inference time: 0:00:00.195128secs\n",
            "Preprocessing input sentence...\n",
            "Encoding input sentence...\n"
          ]
        },
        {
          "output_type": "stream",
          "name": "stderr",
          "text": [
            "\r 82%|████████▏ | 1045/1268 [07:44<01:57,  1.89it/s]"
          ]
        },
        {
          "output_type": "stream",
          "name": "stdout",
          "text": [
            "Input: Tuy nhiên , có một bí mật để làm việc với các doanh nhân .\n",
            "Result: However , there &apos;s a very good idea to work with business .\n",
            "Inference finished! || Total inference time: 0:00:00.254194secs\n",
            "Preprocessing input sentence...\n",
            "Encoding input sentence...\n"
          ]
        },
        {
          "output_type": "stream",
          "name": "stderr",
          "text": [
            "\r 82%|████████▏ | 1046/1268 [07:44<01:39,  2.23it/s]"
          ]
        },
        {
          "output_type": "stream",
          "name": "stdout",
          "text": [
            "Input: Trước tiên , bạn phải mang đến cho họ sự bảo mật\n",
            "Result: First , you have to get them to they &apos;re going to make them .\n",
            "Inference finished! || Total inference time: 0:00:00.250764secs\n",
            "Preprocessing input sentence...\n",
            "Encoding input sentence...\n"
          ]
        },
        {
          "output_type": "stream",
          "name": "stderr",
          "text": [
            "\r 83%|████████▎ | 1047/1268 [07:44<01:29,  2.46it/s]"
          ]
        },
        {
          "output_type": "stream",
          "name": "stdout",
          "text": [
            "Input: Không thì họ sẽ chẳng tìm đến mà nói chuyện với bạn .\n",
            "Result: No , they &apos;re not going to find they &apos;re going to talk to you .\n",
            "Inference finished! || Total inference time: 0:00:00.300669secs\n",
            "Preprocessing input sentence...\n",
            "Encoding input sentence...\n"
          ]
        },
        {
          "output_type": "stream",
          "name": "stderr",
          "text": [
            " 83%|████████▎ | 1049/1268 [07:45<01:41,  2.15it/s]"
          ]
        },
        {
          "output_type": "stream",
          "name": "stdout",
          "text": [
            "Input: Sau đó bạn phải mang đến cho họ một dịch vụ tuyệt đối , riêng biệt và say mê .\n",
            "Result: Then you have to give them a great , a very good , and very , and very , and very , very , very , and very very , and very , and very , and very very , and very very , and very , and very very , and very very , and very , .\n",
            "Inference finished! || Total inference time: 0:00:01.039123secs\n",
            "Preprocessing input sentence...\n",
            "Encoding input sentence...\n",
            "Input: Và sau đó bạn phải nói với họ sự thật về kinh doanh .\n",
            "Result: And then you have to talk to them about the business .\n",
            "Inference finished! || Total inference time: 0:00:00.149629secs\n",
            "Preprocessing input sentence...\n",
            "Encoding input sentence...\n"
          ]
        },
        {
          "output_type": "stream",
          "name": "stderr",
          "text": [
            "\r 83%|████████▎ | 1050/1268 [07:46<02:04,  1.75it/s]"
          ]
        },
        {
          "output_type": "stream",
          "name": "stdout",
          "text": [
            "Input: Công ty nhỏ nhất , công ty lớn nhất , phải có năng lực làm được 3 việc tuyệt vời sau : Cái sản phẩm bạn muốn bán phải hảo hạng , bạn phải có một chiến lược quảng bá hảo hạng , và bạn phải có một sự quản lí tài chính hảo hạng .\n",
            "Result: The biggestest , the most big company , is this greatest : They want to be the very great , you have to have a very , and you have a very , and you have a very great , and you have a very good for the power of the power of the government .\n",
            "Inference finished! || Total inference time: 0:00:00.811269secs\n",
            "Preprocessing input sentence...\n",
            "Encoding input sentence...\n",
            "Input: Nghĩ thử xem nhé ?\n",
            "Result: How do you look at ?\n",
            "Inference finished! || Total inference time: 0:00:00.087422secs\n",
            "Preprocessing input sentence...\n",
            "Encoding input sentence...\n"
          ]
        },
        {
          "output_type": "stream",
          "name": "stderr",
          "text": [
            " 83%|████████▎ | 1053/1268 [07:47<01:15,  2.86it/s]"
          ]
        },
        {
          "output_type": "stream",
          "name": "stdout",
          "text": [
            "Input: Chúng ta chưa bao giờ gặp một cá nhân nào trên thế giới , người mà vừa có thể làm ra , bán nó và quản lí tiền bạc cùng lúc .\n",
            "Result: We never met a human world , who can make it , and it &apos;s going to be going to be going to be in the same time .\n",
            "Inference finished! || Total inference time: 0:00:00.416032secs\n",
            "Preprocessing input sentence...\n",
            "Encoding input sentence...\n",
            "Input: Điều đó không tồn tại\n",
            "Result: That &apos;s not there .\n",
            "Inference finished! || Total inference time: 0:00:00.108640secs\n",
            "Preprocessing input sentence...\n",
            "Encoding input sentence...\n"
          ]
        },
        {
          "output_type": "stream",
          "name": "stderr",
          "text": [
            "\r 83%|████████▎ | 1054/1268 [07:47<01:04,  3.34it/s]"
          ]
        },
        {
          "output_type": "stream",
          "name": "stdout",
          "text": [
            "Input: Nhân vật này chưa bao giờ được sinh ra .\n",
            "Result: They &apos;ve never been born .\n",
            "Inference finished! || Total inference time: 0:00:00.151738secs\n",
            "Preprocessing input sentence...\n",
            "Encoding input sentence...\n"
          ]
        },
        {
          "output_type": "stream",
          "name": "stderr",
          "text": [
            "\r 83%|████████▎ | 1055/1268 [07:48<01:15,  2.84it/s]"
          ]
        },
        {
          "output_type": "stream",
          "name": "stdout",
          "text": [
            "Input: Chúng tôi đã làm một nghiên cứu , và xem xét 100 công ty tiêu biểu trên thế giới Carnegie , Westinghouse , Edison , Ford , tất cả công ty mới , Google , Yahoo .\n",
            "Result: We did a study , and looking for 100 companies on the world , the U.S. , the U.S. , all of the new company , all of the new company .\n",
            "Inference finished! || Total inference time: 0:00:00.488769secs\n",
            "Preprocessing input sentence...\n",
            "Encoding input sentence...\n"
          ]
        },
        {
          "output_type": "stream",
          "name": "stderr",
          "text": [
            "\r 83%|████████▎ | 1056/1268 [07:48<01:18,  2.71it/s]"
          ]
        },
        {
          "output_type": "stream",
          "name": "stdout",
          "text": [
            "Input: Chỉ có một điều mà tất cả mọi công ty thành công trên thế giới đều có , chỉ một mà thôi đó là : Không một công ty nào bắt đầu chỉ với một người\n",
            "Result: There &apos;s just one of all the worlds on the world , there &apos;s a company : No , no one to the people .\n",
            "Inference finished! || Total inference time: 0:00:00.405810secs\n",
            "Preprocessing input sentence...\n",
            "Encoding input sentence...\n"
          ]
        },
        {
          "output_type": "stream",
          "name": "stderr",
          "text": [
            "\r 83%|████████▎ | 1057/1268 [07:49<02:05,  1.68it/s]"
          ]
        },
        {
          "output_type": "stream",
          "name": "stdout",
          "text": [
            "Input: Hiện tại chúng tôi dạy về kinh doanh cho thiếu niên lứa tuổi 16 tại Northumberland , chúng tôi khởi đầu lớp học bằng cách đưa cho chúng hai tờ đầu tiên về tiểu sử của Richard Branson , và công việc cho những ở lứa tuổi 16 này là gạch dưới , trong 2 trang đầu tiên về tiểu sử của Richard Branson bao nhiêu lần Richard sử dụng từ &quot; Tôi &quot; và bao nhiêu lần ông sử dụng từ &quot; Chúng tôi . &quot;\n",
            "Result: Now we &apos;re trying to learn about the business for the age of the 18-year-old , we started to study the first two-year-old students in the first time , and the first-old boys in the first time , &quot; How did we &apos;re going to use this word &quot; and &quot; and &quot; We &quot; and &quot; and &quot; and &quot; and &quot; We &quot;\n",
            "Inference finished! || Total inference time: 0:00:01.156508secs\n",
            "Preprocessing input sentence...\n",
            "Encoding input sentence...\n"
          ]
        },
        {
          "output_type": "stream",
          "name": "stderr",
          "text": [
            " 84%|████████▎ | 1059/1268 [07:50<01:23,  2.51it/s]"
          ]
        },
        {
          "output_type": "stream",
          "name": "stdout",
          "text": [
            "Input: Không bao giờ có từ &quot; Tôi , và từ &quot; chúng ta &quot; có 32 lần\n",
            "Result: There &apos;s never from &quot; , and &quot; we have the last time .\n",
            "Inference finished! || Total inference time: 0:00:00.250765secs\n",
            "Preprocessing input sentence...\n",
            "Encoding input sentence...\n",
            "Input: Ông ấy không bắt đầu một mình .\n",
            "Result: He wasn &apos;t starting him .\n",
            "Inference finished! || Total inference time: 0:00:00.151459secs\n",
            "Preprocessing input sentence...\n",
            "Encoding input sentence...\n"
          ]
        },
        {
          "output_type": "stream",
          "name": "stderr",
          "text": [
            "\r 84%|████████▎ | 1060/1268 [07:50<01:08,  3.04it/s]"
          ]
        },
        {
          "output_type": "stream",
          "name": "stdout",
          "text": [
            "Input: KHông ai khởi đầu một công ty một mình . Không ai cả .\n",
            "Result: The first one looks at a company . No .\n",
            "Inference finished! || Total inference time: 0:00:00.154168secs\n",
            "Preprocessing input sentence...\n",
            "Encoding input sentence...\n"
          ]
        },
        {
          "output_type": "stream",
          "name": "stderr",
          "text": [
            " 84%|████████▍ | 1062/1268 [07:51<01:39,  2.06it/s]"
          ]
        },
        {
          "output_type": "stream",
          "name": "stdout",
          "text": [
            "Input: Vậy nên chúng ta có thể tạo ra một cộng đồng nơi có những người hỗ trợ có kinh nghiệm nền tảng về hình thức kinh doanh quy mô nhỏ ngồi trong quán cà phê , quán rượu , và những anh bạn tận tuỵ của bạn người mà sẽ làm cho bạn những điều mà ai đó đã làm cho họ người nói về thiên hùng ca này người nào đó sẽ hỏi bạn , &quot; bạn cần gì ? &quot;\n",
            "Result: So we can create a community where people have a very , very , especially , especially in the very small , and you &apos;re going to do what you &apos;re going to say , &quot; What &apos;s you &apos;re going to say , &quot; What &apos;s going to do you ? &quot;\n",
            "Inference finished! || Total inference time: 0:00:01.275040secs\n",
            "Preprocessing input sentence...\n",
            "Encoding input sentence...\n",
            "Input: Bạn có thể làm gì ? bạn làm được không ?\n",
            "Result: What can you do ? You do you do ?\n",
            "Inference finished! || Total inference time: 0:00:00.176763secs\n",
            "Preprocessing input sentence...\n",
            "Encoding input sentence...\n"
          ]
        },
        {
          "output_type": "stream",
          "name": "stderr",
          "text": [
            "\r 84%|████████▍ | 1063/1268 [07:52<01:31,  2.24it/s]"
          ]
        },
        {
          "output_type": "stream",
          "name": "stdout",
          "text": [
            "Input: okay , bạn có thể bán nó không ? Bạn có thể quản lí tiền bạc không ?\n",
            "Result: Okay , you can &apos;t get it ? You can &apos;t make money ?\n",
            "Inference finished! || Total inference time: 0:00:00.345803secs\n",
            "Preprocessing input sentence...\n",
            "Encoding input sentence...\n"
          ]
        },
        {
          "output_type": "stream",
          "name": "stderr",
          "text": [
            " 84%|████████▍ | 1065/1268 [07:52<01:18,  2.60it/s]"
          ]
        },
        {
          "output_type": "stream",
          "name": "stdout",
          "text": [
            "Input: &quot; Oh , không , tôi không thể làm được điều này . &quot; Bạn có muốn tôi tìm ai khác cho bạn không ? &quot;\n",
            "Result: &quot; Oh , no , I can &apos;t do this . &quot; You want to find you ? &quot;\n",
            "Inference finished! || Total inference time: 0:00:00.509556secs\n",
            "Preprocessing input sentence...\n",
            "Encoding input sentence...\n",
            "Input: Chúng tôi kích hoạt những cộng đồng .\n",
            "Result: We are going to work on the community .\n",
            "Inference finished! || Total inference time: 0:00:00.183896secs\n",
            "Preprocessing input sentence...\n",
            "Encoding input sentence...\n"
          ]
        },
        {
          "output_type": "stream",
          "name": "stderr",
          "text": [
            "\r 84%|████████▍ | 1066/1268 [07:54<02:26,  1.38it/s]"
          ]
        },
        {
          "output_type": "stream",
          "name": "stdout",
          "text": [
            "Input: Chúng tôi có những nhóm tình nguyện viên trợ giúp cho Enterprise Facilitator họ giúp tìm kiếm những nguồn tài nguyên và con người và chúng tôi khám phá ra rằng cái phép lạ từ trí thông minh của người bản địa như cái gì đó giống như là bạn có thể thách thức nền văn hoá và kinh tế của cộng đồng này chỉ bằng cách nắm được cái khát vọng , nguồn năng lượng và trí tưởng tượng như thể của người dân của bạn\n",
            "Result: We have groups of the teams for the sty , they help them helping them to help them to help them and help us find the power of the human , like this , and what you can actually be like this , and the very important part of the , and the power of the power of the power of the power of the power of the power of the power of the power , and your own , and your own , like this .\n",
            "Inference finished! || Total inference time: 0:00:01.514346secs\n",
            "Preprocessing input sentence...\n",
            "Encoding input sentence...\n",
            "Input: Cám ơn .\n",
            "Result: Thank you .\n",
            "Inference finished! || Total inference time: 0:00:00.063031secs\n",
            "Preprocessing input sentence...\n",
            "Encoding input sentence...\n"
          ]
        },
        {
          "output_type": "stream",
          "name": "stderr",
          "text": [
            " 84%|████████▍ | 1069/1268 [07:54<01:17,  2.57it/s]"
          ]
        },
        {
          "output_type": "stream",
          "name": "stdout",
          "text": [
            "Input: Cho đến tháng ba , 2011 , tôi làm thợ chỉnh sửa ảnh tại thành phố New York .\n",
            "Result: For the next year , they did the New York City in New York City .\n",
            "Inference finished! || Total inference time: 0:00:00.278543secs\n",
            "Preprocessing input sentence...\n",
            "Encoding input sentence...\n",
            "Input: Chúng tôi là những sinh vật xanh xao ,\n",
            "Result: We are the blues .\n",
            "Inference finished! || Total inference time: 0:00:00.122187secs\n",
            "Preprocessing input sentence...\n",
            "Encoding input sentence...\n"
          ]
        },
        {
          "output_type": "stream",
          "name": "stderr",
          "text": [
            "\r 84%|████████▍ | 1070/1268 [07:55<01:19,  2.49it/s]"
          ]
        },
        {
          "output_type": "stream",
          "name": "stdout",
          "text": [
            "Input: ẩn trong bóng tối căn phòng không cửa sổ , và nói chung là tránh ánh nắng mặt trời .\n",
            "Result: The bottom of the room is not the door , and they say , they &apos;re the lighting the sun .\n",
            "Inference finished! || Total inference time: 0:00:00.429609secs\n",
            "Preprocessing input sentence...\n",
            "Encoding input sentence...\n"
          ]
        },
        {
          "output_type": "stream",
          "name": "stderr",
          "text": [
            "\r 84%|████████▍ | 1071/1268 [07:56<01:45,  1.86it/s]"
          ]
        },
        {
          "output_type": "stream",
          "name": "stdout",
          "text": [
            "Input: Chúng tôi chỉnh cho người gầy gầy hơn , da đẹp càng đẹp hơn , biến điều không thể thành có thể , và luôn nhận được những chỉ trích trên báo chí , nhưng trong chúng tôi cũng có những nghệ sĩ tài năng với nhiều năm kinh nghiệm và hiểu biết thực thụ về hình ảnh và nhiếp ảnh .\n",
            "Result: We &apos;re going to get more , more like , more , more than , they can &apos;t be able to be able to be able to get the sts of the , but we &apos;ve got the very few years , but in the last few years , and we know they know .\n",
            "Inference finished! || Total inference time: 0:00:00.894578secs\n",
            "Preprocessing input sentence...\n",
            "Encoding input sentence...\n"
          ]
        },
        {
          "output_type": "stream",
          "name": "stderr",
          "text": [
            "\r 85%|████████▍ | 1072/1268 [07:56<01:42,  1.91it/s]"
          ]
        },
        {
          "output_type": "stream",
          "name": "stdout",
          "text": [
            "Input: Vào tháng 11 năm 2011 , đang theo dõi tình hình thế giới tại nhà , tôi nhìn thấy các sự kiện bi thảm xảy ra tại Nhật Bản .\n",
            "Result: In 1999 , they &apos;re looking at the world in the world , I look at the very largeststic , which happened in the United States .\n",
            "Inference finished! || Total inference time: 0:00:00.482673secs\n",
            "Preprocessing input sentence...\n",
            "Encoding input sentence...\n"
          ]
        },
        {
          "output_type": "stream",
          "name": "stderr",
          "text": [
            "\r 85%|████████▍ | 1073/1268 [07:57<02:00,  1.62it/s]"
          ]
        },
        {
          "output_type": "stream",
          "name": "stdout",
          "text": [
            "Input: Sau đó , tổ chức tình nguyện tôi tham gia All Hands Volunteers , trong vài ngày đã đến hiện trường góp phần nỗ lực ứng phó .\n",
            "Result: After , they were going to be the stse of the Sinsts of the Sinsts of the stse , in the last few days , and in the end of the very , they were going to be the very very , to the sty.\n",
            "Inference finished! || Total inference time: 0:00:00.850942secs\n",
            "Preprocessing input sentence...\n",
            "Encoding input sentence...\n"
          ]
        },
        {
          "output_type": "stream",
          "name": "stderr",
          "text": [
            "\r 85%|████████▍ | 1074/1268 [07:57<01:52,  1.73it/s]"
          ]
        },
        {
          "output_type": "stream",
          "name": "stdout",
          "text": [
            "Input: Tôi , cùng hàng trăm tình nguyện viên hiểu rằng không thể chỉ ngồi yên tại nhà , nên tôi quyết định gia nhập cùng với họ trong suốt ba tuần .\n",
            "Result: I went , with hundreds of thousands of people who can &apos;t see that I decided to go in the house , so I decided to build them with three weeks .\n",
            "Inference finished! || Total inference time: 0:00:00.472368secs\n",
            "Preprocessing input sentence...\n",
            "Encoding input sentence...\n"
          ]
        },
        {
          "output_type": "stream",
          "name": "stderr",
          "text": [
            "\r 85%|████████▍ | 1075/1268 [07:58<01:37,  1.98it/s]"
          ]
        },
        {
          "output_type": "stream",
          "name": "stdout",
          "text": [
            "Input: Vào ngày 13 tháng 5 , tôi tìm đường đến thị trấn Ōfunato .\n",
            "Result: In the last year , I found the very , I found the styde in the Sindy .\n",
            "Inference finished! || Total inference time: 0:00:00.322431secs\n",
            "Preprocessing input sentence...\n",
            "Encoding input sentence...\n"
          ]
        },
        {
          "output_type": "stream",
          "name": "stderr",
          "text": [
            "\r 85%|████████▍ | 1076/1268 [07:58<01:36,  1.99it/s]"
          ]
        },
        {
          "output_type": "stream",
          "name": "stdout",
          "text": [
            "Input: Đó là một làng chài nhỏ thuộc tỉnh Iwate , với dân số khoảng 50.000 người , một trong những nơi đầu tiên chịu ảnh hưởng bởi sóng thần .\n",
            "Result: It &apos;s a little little guy , with about 50 people , with across the first place , one of the first place is by the first of the series of the series .\n",
            "Inference finished! || Total inference time: 0:00:00.486689secs\n",
            "Preprocessing input sentence...\n",
            "Encoding input sentence...\n"
          ]
        },
        {
          "output_type": "stream",
          "name": "stderr",
          "text": [
            " 85%|████████▌ | 1078/1268 [07:59<01:09,  2.75it/s]"
          ]
        },
        {
          "output_type": "stream",
          "name": "stdout",
          "text": [
            "Input: Mực nước ở đây được ghi nhận lại đạt đến hơn 24 mét , và đi hơn 3 dặm sâu trong đất liền .\n",
            "Result: The water is , they &apos;re going to get more than 100 miles , and more than three miles of the country .\n",
            "Inference finished! || Total inference time: 0:00:00.329789secs\n",
            "Preprocessing input sentence...\n",
            "Encoding input sentence...\n",
            "Input: Có thể hình dung , thị trấn đã bị tàn phá .\n",
            "Result: You can imagine , the war has been taken .\n",
            "Inference finished! || Total inference time: 0:00:00.149638secs\n",
            "Preprocessing input sentence...\n",
            "Encoding input sentence...\n"
          ]
        },
        {
          "output_type": "stream",
          "name": "stderr",
          "text": [
            "\r 85%|████████▌ | 1079/1268 [07:59<01:03,  2.99it/s]"
          ]
        },
        {
          "output_type": "stream",
          "name": "stdout",
          "text": [
            "Input: Chúng tôi kéo các mảnh vỡ từ kênh rãnh , hầm hố\n",
            "Result: We &apos;ve got the sts from the sty , the black hole .\n",
            "Inference finished! || Total inference time: 0:00:00.257526secs\n",
            "Preprocessing input sentence...\n",
            "Encoding input sentence...\n"
          ]
        },
        {
          "output_type": "stream",
          "name": "stderr",
          "text": [
            "\r 85%|████████▌ | 1080/1268 [08:00<01:14,  2.53it/s]"
          ]
        },
        {
          "output_type": "stream",
          "name": "stdout",
          "text": [
            "Input: dọn dẹp trường học , vệ sinh nhà cửa , sẵn sàng cho việc đổi mới và phục hồi .\n",
            "Result: They go to school , the house , the house is going to be , in the house , to try and help they &apos;re going to be very , and to get out .\n",
            "Inference finished! || Total inference time: 0:00:00.533283secs\n",
            "Preprocessing input sentence...\n",
            "Encoding input sentence...\n"
          ]
        },
        {
          "output_type": "stream",
          "name": "stderr",
          "text": [
            "\r 85%|████████▌ | 1081/1268 [08:00<01:34,  1.99it/s]"
          ]
        },
        {
          "output_type": "stream",
          "name": "stdout",
          "text": [
            "Input: Chúng tôi dọn sạch hàng tấn xác cá mục nát và hôi thối từ nhà máy chế biến cá tại địa phương .\n",
            "Result: We &apos;re going to get the stys of the stys , the stse , they &apos;re going to be the stysted , and we &apos;re going to go to the styse .\n",
            "Inference finished! || Total inference time: 0:00:00.748040secs\n",
            "Preprocessing input sentence...\n",
            "Encoding input sentence...\n"
          ]
        },
        {
          "output_type": "stream",
          "name": "stderr",
          "text": [
            " 85%|████████▌ | 1083/1268 [08:01<01:07,  2.75it/s]"
          ]
        },
        {
          "output_type": "stream",
          "name": "stdout",
          "text": [
            "Input: Chúng tôi lem luốc , nhưng ai cũng vui .\n",
            "Result: We &apos;re going to be , but anyone else &apos;s going to be happy .\n",
            "Inference finished! || Total inference time: 0:00:00.277520secs\n",
            "Preprocessing input sentence...\n",
            "Encoding input sentence...\n",
            "Input: Trong nhiều tuần , các tình nguyện viên và người dân địa phương cùng tìm kiếm một thứ .\n",
            "Result: In many weeks , the teachers and they look at something .\n",
            "Inference finished! || Total inference time: 0:00:00.186300secs\n",
            "Preprocessing input sentence...\n",
            "Encoding input sentence...\n"
          ]
        },
        {
          "output_type": "stream",
          "name": "stderr",
          "text": [
            "\r 85%|████████▌ | 1084/1268 [08:01<01:04,  2.83it/s]"
          ]
        },
        {
          "output_type": "stream",
          "name": "stdout",
          "text": [
            "Input: Họ tìm kiếm các bức ảnh và album ảnh và máy ảnh và thẻ SD .\n",
            "Result: They looked at the pictures and they &apos;re going to look at the computer and the SDS .\n",
            "Inference finished! || Total inference time: 0:00:00.321413secs\n",
            "Preprocessing input sentence...\n",
            "Encoding input sentence...\n",
            "Input: Tất cả đều làm vậy .\n",
            "Result: All of all .\n",
            "Inference finished! || Total inference time: 0:00:00.075460secs\n",
            "Preprocessing input sentence...\n",
            "Encoding input sentence...\n"
          ]
        },
        {
          "output_type": "stream",
          "name": "stderr",
          "text": [
            "\r 86%|████████▌ | 1086/1268 [08:01<00:50,  3.62it/s]"
          ]
        },
        {
          "output_type": "stream",
          "name": "stdout",
          "text": [
            "Input: Họ đã thu thập và bàn giao chúng để bảo quản ở những nơi xung quanh các thị xã .\n",
            "Result: They were going to be , and they were going to put them in the world around the society .\n",
            "Inference finished! || Total inference time: 0:00:00.284138secs\n",
            "Preprocessing input sentence...\n",
            "Encoding input sentence...\n"
          ]
        },
        {
          "output_type": "stream",
          "name": "stderr",
          "text": [
            "\r 86%|████████▌ | 1087/1268 [08:02<00:55,  3.24it/s]"
          ]
        },
        {
          "output_type": "stream",
          "name": "stdout",
          "text": [
            "Input: Không phải đến thời điểm ấy mà tôi mới nhận ra những tấm hình này đúng là một phần mất mát cá nhân rất lớn ở những người này .\n",
            "Result: It &apos;s not about that time I realized this picture is a big , a big very large very large very large , very largely people .\n",
            "Inference finished! || Total inference time: 0:00:00.400691secs\n",
            "Preprocessing input sentence...\n",
            "Encoding input sentence...\n"
          ]
        },
        {
          "output_type": "stream",
          "name": "stderr",
          "text": [
            "\r 86%|████████▌ | 1088/1268 [08:03<01:11,  2.53it/s]"
          ]
        },
        {
          "output_type": "stream",
          "name": "stdout",
          "text": [
            "Input: Khi chạy trốn con sóng , để giữ lấy tính mạng , họ đã bỏ lại tất cả , Tất cả mọi thứ đều bị bỏ lại phía sau .\n",
            "Result: When they go , they go to the , they put all the , they &apos;ve got all all the things , all the things are going to be , and all they &apos;re going to go back to the back .\n",
            "Inference finished! || Total inference time: 0:00:00.634482secs\n",
            "Preprocessing input sentence...\n",
            "Encoding input sentence...\n"
          ]
        },
        {
          "output_type": "stream",
          "name": "stderr",
          "text": [
            "\r 86%|████████▌ | 1089/1268 [08:03<01:05,  2.74it/s]"
          ]
        },
        {
          "output_type": "stream",
          "name": "stdout",
          "text": [
            "Input: Vào cuối tuần đầu tiên ở đó , tôi đến giúp đỡ một trung tâm di tản ở thị trấn .\n",
            "Result: In the first week , I took a job to help a very high school in the middle of the war .\n",
            "Inference finished! || Total inference time: 0:00:00.274658secs\n",
            "Preprocessing input sentence...\n",
            "Encoding input sentence...\n"
          ]
        },
        {
          "output_type": "stream",
          "name": "stderr",
          "text": [
            "\r 86%|████████▌ | 1090/1268 [08:03<00:58,  3.06it/s]"
          ]
        },
        {
          "output_type": "stream",
          "name": "stdout",
          "text": [
            "Input: Tôi giúp dọn suối nước nóng suối nước nóng công cộng , chiếc bồn tắm khổng lồ .\n",
            "Result: I helped the water water water water , they &apos;re very big .\n",
            "Inference finished! || Total inference time: 0:00:00.222604secs\n",
            "Preprocessing input sentence...\n",
            "Encoding input sentence...\n"
          ]
        },
        {
          "output_type": "stream",
          "name": "stderr",
          "text": [
            "\r 86%|████████▌ | 1091/1268 [08:03<01:00,  2.94it/s]"
          ]
        },
        {
          "output_type": "stream",
          "name": "stdout",
          "text": [
            "Input: Nơi đây cũng là nơi mà trung tâm di tản đã thu thập các bức ảnh .\n",
            "Result: So this is also where they &apos;re going to be going to be going to be series of pictures .\n",
            "Inference finished! || Total inference time: 0:00:00.369825secs\n",
            "Preprocessing input sentence...\n",
            "Encoding input sentence...\n"
          ]
        },
        {
          "output_type": "stream",
          "name": "stderr",
          "text": [
            "\r 86%|████████▌ | 1092/1268 [08:04<01:11,  2.45it/s]"
          ]
        },
        {
          "output_type": "stream",
          "name": "stdout",
          "text": [
            "Input: Đây là nơi người dân bàn giao chúng , và hôm đó tôi lấy làm vinh dự , vì họ tin tưởng tôi cho phép tôi giúp họ lau sạch các bức ảnh .\n",
            "Result: This is where they &apos;re going to put them , and they &apos;ve got to make the , because they believed they &apos;re going to help me help them to help them .\n",
            "Inference finished! || Total inference time: 0:00:00.568924secs\n",
            "Preprocessing input sentence...\n",
            "Encoding input sentence...\n"
          ]
        },
        {
          "output_type": "stream",
          "name": "stderr",
          "text": [
            "\r 86%|████████▌ | 1093/1268 [08:05<01:26,  2.03it/s]"
          ]
        },
        {
          "output_type": "stream",
          "name": "stdout",
          "text": [
            "Input: Thật xúc động và háo hức . Trước đó , tôi từng nghe nói phải nghĩ thoáng ra ngoài khuôn khổ , nhưng chỉ khi tôi thực sự trải nghiệm điều đó điều ký diệu mới xảy ra .\n",
            "Result: It &apos;s very difficult and , I &apos;ve heard that , but I &apos;ve heard the , but just just just just I &apos;m just really , but I &apos;ve actually really really really really experienced that .\n",
            "Inference finished! || Total inference time: 0:00:00.687389secs\n",
            "Preprocessing input sentence...\n",
            "Encoding input sentence...\n"
          ]
        },
        {
          "output_type": "stream",
          "name": "stderr",
          "text": [
            "\r 86%|████████▋ | 1094/1268 [08:06<02:06,  1.38it/s]"
          ]
        },
        {
          "output_type": "stream",
          "name": "stdout",
          "text": [
            "Input: Khi tôi nhìn qua các bức ảnh , có một số bức đã hơn một trăm năm tuổi , một số vẫn còn trong phong bì từ các phòng rửa ảnh . Tôi nghĩ , là một người chỉnh sửa ảnh tôi có thể sửa vết rách và vết trầy đó , và tôi biết , hàng trăm người khác cũng có thể làm được như vậy .\n",
            "Result: When I looked at the pictures , there was a hundred years ago , some of the last year , I thought , is a very , a person can be , and I know , and I know , and I know , and I know , and I know , and I know , and I know , and I can do , and I know , that &apos;m going to do .\n",
            "Inference finished! || Total inference time: 0:00:01.271567secs\n",
            "Preprocessing input sentence...\n",
            "Encoding input sentence...\n"
          ]
        },
        {
          "output_type": "stream",
          "name": "stderr",
          "text": [
            " 86%|████████▋ | 1096/1268 [08:07<01:39,  1.73it/s]"
          ]
        },
        {
          "output_type": "stream",
          "name": "stdout",
          "text": [
            "Input: Nên tối đó , tôi truy cập Facebook và hỏi một vài người , và đến sáng , tôi nhận được rất nhiều phản hồi tích cực , tôi biết phải bắt tay vào việc .\n",
            "Result: So I went to Google and asked some people , and I realized , I realized , many of the very lots of very quickly , I know , I know , I know , I &apos;ve got to go .\n",
            "Inference finished! || Total inference time: 0:00:00.812336secs\n",
            "Preprocessing input sentence...\n",
            "Encoding input sentence...\n",
            "Input: Chúng tôi bắt đầu chỉnh sửa những tấm ảnh này .\n",
            "Result: We started to get these pictures .\n",
            "Inference finished! || Total inference time: 0:00:00.156360secs\n",
            "Preprocessing input sentence...\n",
            "Encoding input sentence...\n"
          ]
        },
        {
          "output_type": "stream",
          "name": "stderr",
          "text": [
            "\r 87%|████████▋ | 1097/1268 [08:07<01:17,  2.22it/s]"
          ]
        },
        {
          "output_type": "stream",
          "name": "stdout",
          "text": [
            "Input: Đây là tấm đầu tiên .\n",
            "Result: This is the first first .\n",
            "Inference finished! || Total inference time: 0:00:00.144173secs\n",
            "Preprocessing input sentence...\n",
            "Encoding input sentence...\n"
          ]
        },
        {
          "output_type": "stream",
          "name": "stderr",
          "text": [
            "\r 87%|████████▋ | 1098/1268 [08:08<01:54,  1.49it/s]"
          ]
        },
        {
          "output_type": "stream",
          "name": "stdout",
          "text": [
            "Input: Không bị hư hỏng trầm trọng , nhưng chỗ bị thấm nước khiến đổi màu khuôn mặt cô gái , phải được sửa chữa với độ chính xác và tinh vi cao .\n",
            "Result: No , no , but they &apos;re going to be , they &apos;re going to be the water that &apos;s going to be the same , and the sty are going to be very , very low-scted to the sty and the sty .\n",
            "Inference finished! || Total inference time: 0:00:01.181847secs\n",
            "Preprocessing input sentence...\n",
            "Encoding input sentence...\n"
          ]
        },
        {
          "output_type": "stream",
          "name": "stderr",
          "text": [
            "\r 87%|████████▋ | 1099/1268 [08:09<02:12,  1.28it/s]"
          ]
        },
        {
          "output_type": "stream",
          "name": "stdout",
          "text": [
            "Input: Nếu không , bé gái trong hình sẽ không còn trông giống em nữa , và chắc chắn điều đó cũng tồi tệ như việc tấm ảnh bị hư hại vậy .\n",
            "Result: If no , she wouldn &apos;t look at the pictures , and it &apos;s also , it &apos;s also also , and it &apos;s also also also , like this , it &apos;s also , like this .\n",
            "Inference finished! || Total inference time: 0:00:01.027889secs\n",
            "Preprocessing input sentence...\n",
            "Encoding input sentence...\n"
          ]
        },
        {
          "output_type": "stream",
          "name": "stderr",
          "text": [
            "\r 87%|████████▋ | 1100/1268 [08:10<02:21,  1.19it/s]"
          ]
        },
        {
          "output_type": "stream",
          "name": "stdout",
          "text": [
            "Input: Theo thời gian , rất may , nhiều hình ảnh được gừi về , , và cần thêm những người chỉnh sửa , do đó , một lần nữa , tôi đã lên Facebook và LinkedIn , trong vòng năm ngày , tôi tìm được 80 người muốn giúp từ 12 quốc gia khác nhau .\n",
            "Result: In fact , very much , many images are going to be , and more , and more people needed , and then , I was going to go in the last year , and I was going to go from the last year , and I was going to help the other people who wanted to help the other countries .\n",
            "Inference finished! || Total inference time: 0:00:00.974284secs\n",
            "Preprocessing input sentence...\n",
            "Encoding input sentence...\n"
          ]
        },
        {
          "output_type": "stream",
          "name": "stderr",
          "text": [
            "\r 87%|████████▋ | 1101/1268 [08:11<01:49,  1.53it/s]"
          ]
        },
        {
          "output_type": "stream",
          "name": "stdout",
          "text": [
            "Input: Trong vòng hai tuần , tôi đã có 150 người mong muốn tham gia .\n",
            "Result: In two weeks , I had a hundred people who wanted to be .\n",
            "Inference finished! || Total inference time: 0:00:00.209619secs\n",
            "Preprocessing input sentence...\n",
            "Encoding input sentence...\n"
          ]
        },
        {
          "output_type": "stream",
          "name": "stderr",
          "text": [
            "\r 87%|████████▋ | 1102/1268 [08:11<01:43,  1.61it/s]"
          ]
        },
        {
          "output_type": "stream",
          "name": "stdout",
          "text": [
            "Input: Tại Nhật , tới Tháng Bảy , chúng tôi đã mở rộng ra các thị trấn lân cận của Rikuzentakata , xa hơn về phía bắc đến thị trấn Yamada .\n",
            "Result: In the United States , we &apos;ve been going to be across the series of the stya , more than the U.S. , more than the U.S.\n",
            "Inference finished! || Total inference time: 0:00:00.541014secs\n",
            "Preprocessing input sentence...\n",
            "Encoding input sentence...\n"
          ]
        },
        {
          "output_type": "stream",
          "name": "stderr",
          "text": [
            "\r 87%|████████▋ | 1103/1268 [08:11<01:31,  1.80it/s]"
          ]
        },
        {
          "output_type": "stream",
          "name": "stdout",
          "text": [
            "Input: Mỗi tuần một lần , chúng tôi lắp đặt thiết bị scan của mình trong thư viện ảnh tạm thời đã thiết lập trước đó , để mọi người đến nhận lại những bức ảnh của mình .\n",
            "Result: Every week , we put our series of our series of paper in the very , to get everyone to get the picture of our pictures .\n",
            "Inference finished! || Total inference time: 0:00:00.394551secs\n",
            "Preprocessing input sentence...\n",
            "Encoding input sentence...\n"
          ]
        },
        {
          "output_type": "stream",
          "name": "stderr",
          "text": [
            "\r 87%|████████▋ | 1104/1268 [08:12<01:45,  1.55it/s]"
          ]
        },
        {
          "output_type": "stream",
          "name": "stdout",
          "text": [
            "Input: Những phụ nữ lớn tuổi đôi khi chưa từng nhìn thấy máy scan , nhưng sau 10 phút , tìm bức ảnh bị mất của mình , đưa lại cho chúng tôi để scan , tải lên một máy chủ đám mây , để tải xuống bởi một gaijin , một người lạ , ở một nơi nào đó trên thế giới , và bắt đầu được chỉnh sửa .\n",
            "Result: The big women who are never seen , but after 10 minutes , we found our pictures of our pictures , to put our , to take a series of , to go down , because a very , a very , very , going to be , and then , and then , in the world .\n",
            "Inference finished! || Total inference time: 0:00:00.840353secs\n",
            "Preprocessing input sentence...\n",
            "Encoding input sentence...\n"
          ]
        },
        {
          "output_type": "stream",
          "name": "stderr",
          "text": [
            " 87%|████████▋ | 1106/1268 [08:13<01:18,  2.08it/s]"
          ]
        },
        {
          "output_type": "stream",
          "name": "stdout",
          "text": [
            "Input: Thời gian dành ra để khôi phục nguyên trạng là một câu chuyện hoàn toàn khác , và rõ ràng là phụ thuộc vào mức hư hại của bức ảnh .\n",
            "Result: The time is going to get the very big , also a different story , and it &apos;s also , and it &apos;s a very , very important for the picture of the picture .\n",
            "Inference finished! || Total inference time: 0:00:00.562049secs\n",
            "Preprocessing input sentence...\n",
            "Encoding input sentence...\n",
            "Input: Có thể mất một giờ . Có thể mất cả tuần .\n",
            "Result: Maybe a little bit . There &apos;s a week .\n",
            "Inference finished! || Total inference time: 0:00:00.152107secs\n",
            "Preprocessing input sentence...\n",
            "Encoding input sentence...\n"
          ]
        },
        {
          "output_type": "stream",
          "name": "stderr",
          "text": [
            "\r 87%|████████▋ | 1107/1268 [08:13<01:03,  2.55it/s]"
          ]
        },
        {
          "output_type": "stream",
          "name": "stdout",
          "text": [
            "Input: Có thể mất đến hàng tháng .\n",
            "Result: Maybe it &apos;s going to go to the month .\n",
            "Inference finished! || Total inference time: 0:00:00.176668secs\n",
            "Preprocessing input sentence...\n",
            "Encoding input sentence...\n"
          ]
        },
        {
          "output_type": "stream",
          "name": "stderr",
          "text": [
            " 87%|████████▋ | 1109/1268 [08:14<00:53,  2.99it/s]"
          ]
        },
        {
          "output_type": "stream",
          "name": "stdout",
          "text": [
            "Input: Chiếc kimono trong bức ảnh này gần như phải được vẽ lại bằng tay , hoặc chắp ghép , từ các phần màu sắc và chi tiết còn lại chưa bị nước làm hư hại .\n",
            "Result: They &apos;re in this picture of this picture is , or , or from the series , from the sts and the sty are not very expensive .\n",
            "Inference finished! || Total inference time: 0:00:00.492326secs\n",
            "Preprocessing input sentence...\n",
            "Encoding input sentence...\n",
            "Input: Nó rất tốn thời gian .\n",
            "Result: It &apos;s very long time .\n",
            "Inference finished! || Total inference time: 0:00:00.121762secs\n",
            "Preprocessing input sentence...\n",
            "Encoding input sentence...\n"
          ]
        },
        {
          "output_type": "stream",
          "name": "stderr",
          "text": [
            "\r 88%|████████▊ | 1110/1268 [08:15<01:17,  2.04it/s]"
          ]
        },
        {
          "output_type": "stream",
          "name": "stdout",
          "text": [
            "Input: Bấy giờ , tất cả những hình ảnh này đã bị nước làm hư hại , bị nhấn chìm trong nước muối , bị bao phủ bởi vi khuẩn , trong nước thải , đôi khi cả trong dầu , suốt một quãng thời gian nên chúng sẽ tiếp tục thêm hư hại . Thế nên lau sạch chúng là một phần rất lớn của dự án .\n",
            "Result: Now , all these images are going to be , especially , especially in the water , because the water , in the water , in the water , they will go , in a very big , very big , very largely , very largely , very largely .\n",
            "Inference finished! || Total inference time: 0:00:00.844170secs\n",
            "Preprocessing input sentence...\n",
            "Encoding input sentence...\n"
          ]
        },
        {
          "output_type": "stream",
          "name": "stderr",
          "text": [
            " 88%|████████▊ | 1112/1268 [08:15<00:57,  2.71it/s]"
          ]
        },
        {
          "output_type": "stream",
          "name": "stdout",
          "text": [
            "Input: Chúng tôi không thể chỉnh sửa nếu ảnh không được làm sạch , phơi khô và cải tạo .\n",
            "Result: We can &apos;t get going to be able to make it , scted , scted , scse and scing .\n",
            "Inference finished! || Total inference time: 0:00:00.430793secs\n",
            "Preprocessing input sentence...\n",
            "Encoding input sentence...\n",
            "Input: Chúng tôi đã gặp may với việc lau ảnh bằng tay .\n",
            "Result: We met with the very lucky .\n",
            "Inference finished! || Total inference time: 0:00:00.120815secs\n",
            "Preprocessing input sentence...\n",
            "Encoding input sentence...\n"
          ]
        },
        {
          "output_type": "stream",
          "name": "stderr",
          "text": [
            " 88%|████████▊ | 1114/1268 [08:16<00:42,  3.60it/s]"
          ]
        },
        {
          "output_type": "stream",
          "name": "stdout",
          "text": [
            "Input: Có một người phụ nữ địa phương tuyệt vời đã hướng dẫn chúng tôi .\n",
            "Result: There &apos;s a great woman who has been very great .\n",
            "Inference finished! || Total inference time: 0:00:00.206041secs\n",
            "Preprocessing input sentence...\n",
            "Encoding input sentence...\n",
            "Input: Rất dễ gây thêm hư hại cho những hình ảnh đã hư hại này .\n",
            "Result: It &apos;s easy to get this picture of this .\n",
            "Inference finished! || Total inference time: 0:00:00.167987secs\n",
            "Preprocessing input sentence...\n",
            "Encoding input sentence...\n"
          ]
        },
        {
          "output_type": "stream",
          "name": "stderr",
          "text": [
            " 88%|████████▊ | 1116/1268 [08:16<00:36,  4.15it/s]"
          ]
        },
        {
          "output_type": "stream",
          "name": "stdout",
          "text": [
            "Input: Trưởng nhóm Wynne của tôi từng nói : Nó cũng giống như xăm cho ai đó .\n",
            "Result: My team of the groups of the group : It &apos;s like that told anyone .\n",
            "Inference finished! || Total inference time: 0:00:00.271245secs\n",
            "Preprocessing input sentence...\n",
            "Encoding input sentence...\n",
            "Input: Bạn không có cơ hội phạm sai lầm .\n",
            "Result: You don &apos;t have the power of the wrong .\n",
            "Inference finished! || Total inference time: 0:00:00.150532secs\n",
            "Preprocessing input sentence...\n",
            "Encoding input sentence...\n"
          ]
        },
        {
          "output_type": "stream",
          "name": "stderr",
          "text": [
            "\r 88%|████████▊ | 1117/1268 [08:16<00:37,  4.03it/s]"
          ]
        },
        {
          "output_type": "stream",
          "name": "stdout",
          "text": [
            "Input: Người phụ nữ mang cho chúng tôi những tấm ảnh này đã gặp may , khi chúng có thể được phục hồi đến vậy .\n",
            "Result: The women who give us these pictures , when they were able to get very much to get .\n",
            "Inference finished! || Total inference time: 0:00:00.258773secs\n",
            "Preprocessing input sentence...\n",
            "Encoding input sentence...\n"
          ]
        },
        {
          "output_type": "stream",
          "name": "stderr",
          "text": [
            " 88%|████████▊ | 1119/1268 [08:17<00:35,  4.16it/s]"
          ]
        },
        {
          "output_type": "stream",
          "name": "stdout",
          "text": [
            "Input: Cô ấy đã tự lau sạch chúng và dừng lại khi nhận ra mình đang làm nó bị hư hại nhiều hơn .\n",
            "Result: She was going to go and stop when they were going to realize that she was going to be more than much more than they were very much more than .\n",
            "Inference finished! || Total inference time: 0:00:00.411303secs\n",
            "Preprocessing input sentence...\n",
            "Encoding input sentence...\n",
            "Input: Cô cũng đã có bản sao của bức ảnh .\n",
            "Result: She had a picture of the picture .\n",
            "Inference finished! || Total inference time: 0:00:00.097319secs\n",
            "Preprocessing input sentence...\n",
            "Encoding input sentence...\n"
          ]
        },
        {
          "output_type": "stream",
          "name": "stderr",
          "text": [
            "\r 88%|████████▊ | 1120/1268 [08:18<00:55,  2.69it/s]"
          ]
        },
        {
          "output_type": "stream",
          "name": "stdout",
          "text": [
            "Input: Nếu không , những chỗ như chồng và khuôn mặt cô , sẽ không bao giờ có thể được khắc phục , chỉ có thể đặt họ gần nhau trong một bức ảnh lành khác , và làm lại toàn bộ bức hình .\n",
            "Result: If you don &apos;t , the same and the faces , you &apos;ll never get , just they can &apos;t put them in a different picture , and they &apos;re going to be a little bit of a little bit of a little bit .\n",
            "Inference finished! || Total inference time: 0:00:00.674166secs\n",
            "Preprocessing input sentence...\n",
            "Encoding input sentence...\n"
          ]
        },
        {
          "output_type": "stream",
          "name": "stderr",
          "text": [
            "\r 88%|████████▊ | 1121/1268 [08:18<00:49,  2.98it/s]"
          ]
        },
        {
          "output_type": "stream",
          "name": "stdout",
          "text": [
            "Input: Khi nhận lại các bức ảnh từ chúng tôi , cô ấy đã chia sẻ một chút câu chuyện của mình .\n",
            "Result: When we realized from our pictures , she shares a little bit of our story .\n",
            "Inference finished! || Total inference time: 0:00:00.242904secs\n",
            "Preprocessing input sentence...\n",
            "Encoding input sentence...\n"
          ]
        },
        {
          "output_type": "stream",
          "name": "stderr",
          "text": [
            "\r 88%|████████▊ | 1122/1268 [08:18<00:59,  2.45it/s]"
          ]
        },
        {
          "output_type": "stream",
          "name": "stdout",
          "text": [
            "Input: Những bức ảnh này được đồng nghiệp của chồng cô tìm thấy tại một sở cứu hoả , giữa các mảnh vỡ trên quãng đường dài kể từ nơi có căn nhà bị tàn phá , và họ đã nhận ra anh ta .\n",
            "Result: These images are founded in a very , in a series of a long-scing , they were going to be a long-year-old , and they had been , and they were born .\n",
            "Inference finished! || Total inference time: 0:00:00.573269secs\n",
            "Preprocessing input sentence...\n",
            "Encoding input sentence...\n"
          ]
        },
        {
          "output_type": "stream",
          "name": "stderr",
          "text": [
            "\r 89%|████████▊ | 1123/1268 [08:19<00:57,  2.51it/s]"
          ]
        },
        {
          "output_type": "stream",
          "name": "stdout",
          "text": [
            "Input: Ngày xảy ra sóng thần , anh chịu trách nhiệm đóng chặt cửa chắn sóng thần .\n",
            "Result: They &apos;re going to be a , he &apos;s screed to the stysty .\n",
            "Inference finished! || Total inference time: 0:00:00.369914secs\n",
            "Preprocessing input sentence...\n",
            "Encoding input sentence...\n"
          ]
        },
        {
          "output_type": "stream",
          "name": "stderr",
          "text": [
            "\r 89%|████████▊ | 1124/1268 [08:19<00:51,  2.78it/s]"
          ]
        },
        {
          "output_type": "stream",
          "name": "stdout",
          "text": [
            "Input: Anh ấy phải đi về hướng dòng nước khi còi báo động vang lên .\n",
            "Result: He had to go back to the water when they were going to go back to the series .\n",
            "Inference finished! || Total inference time: 0:00:00.263022secs\n",
            "Preprocessing input sentence...\n",
            "Encoding input sentence...\n"
          ]
        },
        {
          "output_type": "stream",
          "name": "stderr",
          "text": [
            " 89%|████████▉ | 1126/1268 [08:19<00:39,  3.57it/s]"
          ]
        },
        {
          "output_type": "stream",
          "name": "stdout",
          "text": [
            "Input: Hai đứa con trai nhỏ , giờ không còn nhỏ nữa , hai đứa con trai của cô đều đang ở trường , hai trường khác nhau .\n",
            "Result: Two children , now , two children are not two children , two children are in the school , two different schools .\n",
            "Inference finished! || Total inference time: 0:00:00.340459secs\n",
            "Preprocessing input sentence...\n",
            "Encoding input sentence...\n",
            "Input: Một đứa bị kẹt trong dòng nước .\n",
            "Result: A little bit of the water .\n",
            "Inference finished! || Total inference time: 0:00:00.098145secs\n",
            "Preprocessing input sentence...\n",
            "Encoding input sentence...\n"
          ]
        },
        {
          "output_type": "stream",
          "name": "stderr",
          "text": [
            "\r 89%|████████▉ | 1127/1268 [08:20<00:38,  3.63it/s]"
          ]
        },
        {
          "output_type": "stream",
          "name": "stdout",
          "text": [
            "Input: Mất một tuần , cô mới tìm ra họ và biết được rằng tất cả họ đều đã sống sót .\n",
            "Result: And a week , she found them and they know that they &apos;ve got all .\n",
            "Inference finished! || Total inference time: 0:00:00.257879secs\n",
            "Preprocessing input sentence...\n",
            "Encoding input sentence...\n"
          ]
        },
        {
          "output_type": "stream",
          "name": "stderr",
          "text": [
            "\r 89%|████████▉ | 1128/1268 [08:20<00:45,  3.08it/s]"
          ]
        },
        {
          "output_type": "stream",
          "name": "stdout",
          "text": [
            "Input: Ngày tôi trả lại hình cho cô ấy cũng là ngày của đứa con trai út của cô tròn 14 tuổi .\n",
            "Result: And I &apos;m going to give her a little bit of her children &apos;s children &apos;s book .\n",
            "Inference finished! || Total inference time: 0:00:00.432260secs\n",
            "Preprocessing input sentence...\n",
            "Encoding input sentence...\n"
          ]
        },
        {
          "output_type": "stream",
          "name": "stderr",
          "text": [
            "\r 89%|████████▉ | 1129/1268 [08:21<01:19,  1.75it/s]"
          ]
        },
        {
          "output_type": "stream",
          "name": "stdout",
          "text": [
            "Input: Đối với cô , sau hết mọi sự , những bức ảnh này là món quà hoàn hảo cho thằng bé , một cái gì đó nó có thể xem lại , để nhớ về quá khứ trước đây chưa bị nhuốm màu sợ hãi kể từ cái ngày Tháng Ba đó , khi toàn bộ cuộc sống bị đảo lộn hay bị phá huỷ .\n",
            "Result: For her , after all , these pictures are a very beautiful , something that can be seen before , to remember before the last year , to be able to get the last day of the age of the age of the age of the age of the age of the age of the age of the age of the age of the , or the stus .\n",
            "Inference finished! || Total inference time: 0:00:01.131465secs\n",
            "Preprocessing input sentence...\n",
            "Encoding input sentence...\n"
          ]
        },
        {
          "output_type": "stream",
          "name": "stderr",
          "text": [
            "\r 89%|████████▉ | 1130/1268 [08:22<01:39,  1.39it/s]"
          ]
        },
        {
          "output_type": "stream",
          "name": "stdout",
          "text": [
            "Input: Sau sáu tháng tại Nhật bản , 1.100 tình nguyện viên đã tham gia tổ chức All Hands , trong đó , hàng trăm người đã tỉ mẩn lau sạch hơn 135.000 bức ảnh , phần lớn — — phần lớn số ảnh đã về lại với chủ nhân của mình , đây là điều hết sức quan trọng .\n",
            "Result: After six months of the United States , they &apos;ve been born in the , they &apos;ve been going to be , in the number of hundreds of thousands of thousands of , the largest , the most of the most important thing , is the most important thing .\n",
            "Inference finished! || Total inference time: 0:00:01.047407secs\n",
            "Preprocessing input sentence...\n",
            "Encoding input sentence...\n"
          ]
        },
        {
          "output_type": "stream",
          "name": "stderr",
          "text": [
            "\r 89%|████████▉ | 1131/1268 [08:23<01:41,  1.35it/s]"
          ]
        },
        {
          "output_type": "stream",
          "name": "stdout",
          "text": [
            "Input: Hơn năm trăm tình nguyện viên toàn cầu đã giúp trao trả cho hơn 90 gia đình , hàng trăm bức ảnh đã được hoàn toàn phục hồi và chỉnh sửa .\n",
            "Result: Then of years of the global companies helping the family , hundreds of thousands of years , hundreds of thousands of , they were completely very , and they were very , and recing .\n",
            "Inference finished! || Total inference time: 0:00:00.779833secs\n",
            "Preprocessing input sentence...\n",
            "Encoding input sentence...\n"
          ]
        },
        {
          "output_type": "stream",
          "name": "stderr",
          "text": [
            " 89%|████████▉ | 1133/1268 [08:24<01:14,  1.82it/s]"
          ]
        },
        {
          "output_type": "stream",
          "name": "stdout",
          "text": [
            "Input: Trong thời gian này , chúng tôi đã không chi quá một ngàn đô la cho thiết bị và vật liệu , Hầu hết chi phí là cho mực máy in .\n",
            "Result: In this time , we didn &apos;t have a thousand dollars a thousand dollars for a lot of , and they were going to be the series of the computer .\n",
            "Inference finished! || Total inference time: 0:00:00.624916secs\n",
            "Preprocessing input sentence...\n",
            "Encoding input sentence...\n",
            "Input: Chúng tôi chụp ảnh liên tục .\n",
            "Result: We &apos;ve got to this picture .\n",
            "Inference finished! || Total inference time: 0:00:00.172313secs\n",
            "Preprocessing input sentence...\n",
            "Encoding input sentence...\n"
          ]
        },
        {
          "output_type": "stream",
          "name": "stderr",
          "text": [
            "\r 89%|████████▉ | 1134/1268 [08:24<01:06,  2.02it/s]"
          ]
        },
        {
          "output_type": "stream",
          "name": "stdout",
          "text": [
            "Input: Mỗi bức ảnh gợi nhắc về ai đó hoặc một cái gì đó , một nơi , một mối quan hệ , một người thân yêu .\n",
            "Result: Every picture of something about something , a place , a human relationship , a human love .\n",
            "Inference finished! || Total inference time: 0:00:00.357108secs\n",
            "Preprocessing input sentence...\n",
            "Encoding input sentence...\n"
          ]
        },
        {
          "output_type": "stream",
          "name": "stderr",
          "text": [
            "\r 90%|████████▉ | 1135/1268 [08:25<01:14,  1.79it/s]"
          ]
        },
        {
          "output_type": "stream",
          "name": "stdout",
          "text": [
            "Input: Chúng là những vật lưu giữ kỉ niệm và câu chuyện của chúng ta , là điều cuối cùng chúng ta còn bám víu lấy và cũng là thứ đầu tiên ta quay lại kiếm tìm .\n",
            "Result: They are they of our ideas and our story , they &apos;re the final thing that we &apos;re also , and the first thing is we &apos;re looking at the first time .\n",
            "Inference finished! || Total inference time: 0:00:00.698401secs\n",
            "Preprocessing input sentence...\n",
            "Encoding input sentence...\n"
          ]
        },
        {
          "output_type": "stream",
          "name": "stderr",
          "text": [
            "\r 90%|████████▉ | 1136/1268 [08:26<01:12,  1.83it/s]"
          ]
        },
        {
          "output_type": "stream",
          "name": "stdout",
          "text": [
            "Input: Đó là ý nghĩa của toàn bộ dự án này , phục hồi những mảnh nhỏ của nhân loại , đem những kết nối trở lại cho ai đó .\n",
            "Result: It &apos;s the idea of this project , this little bits of a little bit of the humans , which is going to be , to get someone to someone .\n",
            "Inference finished! || Total inference time: 0:00:00.513450secs\n",
            "Preprocessing input sentence...\n",
            "Encoding input sentence...\n"
          ]
        },
        {
          "output_type": "stream",
          "name": "stderr",
          "text": [
            "\r 90%|████████▉ | 1137/1268 [08:26<01:09,  1.88it/s]"
          ]
        },
        {
          "output_type": "stream",
          "name": "stdout",
          "text": [
            "Input: Khi một bức ảnh như thế này được đem trả lại , nó sẽ tạo nên một biến đổi lớn lao trong cuộc sống của người nhận .\n",
            "Result: When a picture like this , it &apos;s going to be going to make a big big , it &apos;s going to create a great life in the life of life .\n",
            "Inference finished! || Total inference time: 0:00:00.492933secs\n",
            "Preprocessing input sentence...\n",
            "Encoding input sentence...\n"
          ]
        },
        {
          "output_type": "stream",
          "name": "stderr",
          "text": [
            "\r 90%|████████▉ | 1138/1268 [08:26<01:02,  2.07it/s]"
          ]
        },
        {
          "output_type": "stream",
          "name": "stdout",
          "text": [
            "Input: Dự án cũng tạo nên sự khác biệt lớn trong cuộc sống của những người sửa ảnh .\n",
            "Result: The projects are also different in the life of the people who are going to be going to be going to be the images .\n",
            "Inference finished! || Total inference time: 0:00:00.359136secs\n",
            "Preprocessing input sentence...\n",
            "Encoding input sentence...\n"
          ]
        },
        {
          "output_type": "stream",
          "name": "stderr",
          "text": [
            "\r 90%|████████▉ | 1139/1268 [08:27<01:16,  1.68it/s]"
          ]
        },
        {
          "output_type": "stream",
          "name": "stdout",
          "text": [
            "Input: Đối với một số người , họ đã được kết nối với một điều gì đó lớn lao , cho đi một cái gì đó , dùng tài của mình cho một điều gì đó khác hơn là những người mẫu gầy gò và làn da mịn màng .\n",
            "Result: For some people , they were going to be able to get something with something , for something , for a different , which is more than something that is a very different , and they are very , and they are very , and they are very , and they &apos;re going to be .\n",
            "Inference finished! || Total inference time: 0:00:00.849607secs\n",
            "Preprocessing input sentence...\n",
            "Encoding input sentence...\n"
          ]
        },
        {
          "output_type": "stream",
          "name": "stderr",
          "text": [
            "\r 90%|████████▉ | 1140/1268 [08:28<01:14,  1.73it/s]"
          ]
        },
        {
          "output_type": "stream",
          "name": "stdout",
          "text": [
            "Input: Tôi muốn đọc một email để kết thúc bài nói chuyện này . Email này từ Cindy , một người giúp sửa ảnh , gửi tôi ngày tôi trở về từ Nhật bản sau sáu tháng .\n",
            "Result: I want to read a book to say this , &quot; E , a book from the E.S. , a person , a day I &apos;ve got to go back to the five months later .\n",
            "Inference finished! || Total inference time: 0:00:00.536742secs\n",
            "Preprocessing input sentence...\n",
            "Encoding input sentence...\n"
          ]
        },
        {
          "output_type": "stream",
          "name": "stderr",
          "text": [
            "\r 90%|████████▉ | 1141/1268 [08:28<01:06,  1.90it/s]"
          ]
        },
        {
          "output_type": "stream",
          "name": "stdout",
          "text": [
            "Input: &quot; Khi làm việc , tôi không thể không nghĩ đến mỗi thân phận và những câu chuyện chứa đựng trong các bức ảnh .\n",
            "Result: &quot; When I can &apos;t think , I can &apos;t think every single one of the stories and the pictures of the pictures .\n",
            "Inference finished! || Total inference time: 0:00:00.392419secs\n",
            "Preprocessing input sentence...\n",
            "Encoding input sentence...\n"
          ]
        },
        {
          "output_type": "stream",
          "name": "stderr",
          "text": [
            "\r 90%|█████████ | 1142/1268 [08:29<01:17,  1.62it/s]"
          ]
        },
        {
          "output_type": "stream",
          "name": "stdout",
          "text": [
            "Input: Có một bức ảnh nọ , chụp nhiều thế hệ phụ nữ trong nhà , từ già đến trẻ , quây quần xung quanh một em bé , đã đánh động lòng tôi vì nhà tôi cũng có một bức ảnh tương tự , bà ngoại , mẹ tôi , tôi , và đứa con gái mới sinh , tấm ảnh treo trên tường nhà .\n",
            "Result: There was a picture of a couple of women in the house , from the children , from a child , a child , very young , because I had a little bit of my father , and my mother , and my mother , and my mother , and I was a little bit of a little bit of a little bit of the book .\n",
            "Inference finished! || Total inference time: 0:00:00.829607secs\n",
            "Preprocessing input sentence...\n",
            "Encoding input sentence...\n"
          ]
        },
        {
          "output_type": "stream",
          "name": "stderr",
          "text": [
            "\r 90%|█████████ | 1143/1268 [08:29<01:03,  1.97it/s]"
          ]
        },
        {
          "output_type": "stream",
          "name": "stdout",
          "text": [
            "Input: Bên kia địa cầu , cho dù ở thời đại nào , nhu cầu cơ bản của chúng ta là như nhau , đúng không ? &quot;\n",
            "Result: The other side , for the next time , why are our power , right ?\n",
            "Inference finished! || Total inference time: 0:00:00.239795secs\n",
            "Preprocessing input sentence...\n",
            "Encoding input sentence...\n",
            "Input: Cảm ơn các bạn .\n",
            "Result: Thank you .\n",
            "Inference finished! || Total inference time: 0:00:00.058833secs\n",
            "Preprocessing input sentence...\n",
            "Encoding input sentence...\n"
          ]
        },
        {
          "output_type": "stream",
          "name": "stderr",
          "text": [
            "\r 90%|█████████ | 1145/1268 [08:30<00:42,  2.89it/s]"
          ]
        },
        {
          "output_type": "stream",
          "name": "stdout",
          "text": [
            "Input: Tôi ở độ sâu gần 50m dưới 1 hầm mỏ bất hợp pháp tại Ghana .\n",
            "Result: I was in the past 50 miles of a very , a very , in India .\n",
            "Inference finished! || Total inference time: 0:00:00.248365secs\n",
            "Preprocessing input sentence...\n",
            "Encoding input sentence...\n"
          ]
        },
        {
          "output_type": "stream",
          "name": "stderr",
          "text": [
            "\r 90%|█████████ | 1146/1268 [08:30<00:41,  2.94it/s]"
          ]
        },
        {
          "output_type": "stream",
          "name": "stdout",
          "text": [
            "Input: Không khí đặc quánh bụi và hơi nóng , và rất khó thở .\n",
            "Result: There &apos;s no very low-screcing , and very hard , very hard .\n",
            "Inference finished! || Total inference time: 0:00:00.314377secs\n",
            "Preprocessing input sentence...\n",
            "Encoding input sentence...\n"
          ]
        },
        {
          "output_type": "stream",
          "name": "stderr",
          "text": [
            "\r 90%|█████████ | 1147/1268 [08:30<00:42,  2.82it/s]"
          ]
        },
        {
          "output_type": "stream",
          "name": "stdout",
          "text": [
            "Input: Tôi có thể cảm nhận sự va chạm từ những thân thể bóng nhẫy mồ hôi lướt qua trong bóng tối , nhưng chẳng thể thấy gì hơn .\n",
            "Result: I can feel the stses from the series of the lights of the lights , but not even more than anymore .\n",
            "Inference finished! || Total inference time: 0:00:00.388390secs\n",
            "Preprocessing input sentence...\n",
            "Encoding input sentence...\n"
          ]
        },
        {
          "output_type": "stream",
          "name": "stderr",
          "text": [
            "\r 91%|█████████ | 1148/1268 [08:31<00:53,  2.24it/s]"
          ]
        },
        {
          "output_type": "stream",
          "name": "stdout",
          "text": [
            "Input: Tôi nghe tiếng nói , nhưng gần như cả hầm là sự pha trộn của tiếng ho và tiếng đá bị đập vỡ bằng những công cụ thô sơ .\n",
            "Result: I hear , but in the same , they are , they are the ststed , the stys of the stst , the stse and the ststs of the stys .\n",
            "Inference finished! || Total inference time: 0:00:00.682503secs\n",
            "Preprocessing input sentence...\n",
            "Encoding input sentence...\n"
          ]
        },
        {
          "output_type": "stream",
          "name": "stderr",
          "text": [
            "\r 91%|█████████ | 1149/1268 [08:32<01:17,  1.54it/s]"
          ]
        },
        {
          "output_type": "stream",
          "name": "stdout",
          "text": [
            "Input: Như mọi người , tôi đeo 1 chiếc đèn pin lập loè rẻ tiền trên đầu , nó được gắn vào chiếc vòng cao su cũ kỹ , tôi hầu như không thể nhìn ra những thân cây bóng nhẫy đang chống đỡ những bức tường của cái hố rộng 0.28 m2 sâu hàng trăm feet xuống lòng đất .\n",
            "Result: But everyone , I went a very , a very , this is very low-dimensional , which is going to be , as I can &apos;t look at the very old , like , as I can &apos;t see the series of the series of the ocean , the sty &apos;re going to be going to be , the , the sty &apos;re going to be across the ocean .\n",
            "Inference finished! || Total inference time: 0:00:01.172424secs\n",
            "Preprocessing input sentence...\n",
            "Encoding input sentence...\n"
          ]
        },
        {
          "output_type": "stream",
          "name": "stderr",
          "text": [
            "\r 91%|█████████ | 1150/1268 [08:33<01:10,  1.69it/s]"
          ]
        },
        {
          "output_type": "stream",
          "name": "stdout",
          "text": [
            "Input: Khi trượt tay , tôi bất thần nhớ lại người thợ mỏ mới gặp vài ngày trước đã bị trượt tay ngã rơi mất hút xuống cái hầm đó .\n",
            "Result: When I remember , I remember , I remember the people who have a new , and a few days ago , they were going to be sted down .\n",
            "Inference finished! || Total inference time: 0:00:00.444609secs\n",
            "Preprocessing input sentence...\n",
            "Encoding input sentence...\n"
          ]
        },
        {
          "output_type": "stream",
          "name": "stderr",
          "text": [
            "\r 91%|█████████ | 1151/1268 [08:33<01:06,  1.76it/s]"
          ]
        },
        {
          "output_type": "stream",
          "name": "stdout",
          "text": [
            "Input: Khi tôi nói chuyện với bạn hôm nay , những người này vẫn đang ở sâu trong cái hố đó , liều mạng sống mà không có lương hay thù lao , và thường là sẽ chết .\n",
            "Result: When I talk to you today , these people are still in the same , the series of life , the stins of the stst , and the scing .\n",
            "Inference finished! || Total inference time: 0:00:00.497732secs\n",
            "Preprocessing input sentence...\n",
            "Encoding input sentence...\n"
          ]
        },
        {
          "output_type": "stream",
          "name": "stderr",
          "text": [
            "\r 91%|█████████ | 1152/1268 [08:34<01:11,  1.63it/s]"
          ]
        },
        {
          "output_type": "stream",
          "name": "stdout",
          "text": [
            "Input: Tôi được leo ra khỏi cái hố đó , và được về nhà , nhưng họ có lẽ sẽ chẳng bao giờ được về nhà , vì đã mắc vào bẫy nô lệ .\n",
            "Result: I was born from that , and they were going to be , but they could never be , because of the house , because there was no , because there was a very , because there was a very , because there was no sus .\n",
            "Inference finished! || Total inference time: 0:00:00.713644secs\n",
            "Preprocessing input sentence...\n",
            "Encoding input sentence...\n"
          ]
        },
        {
          "output_type": "stream",
          "name": "stderr",
          "text": [
            "\r 91%|█████████ | 1153/1268 [08:35<01:13,  1.56it/s]"
          ]
        },
        {
          "output_type": "stream",
          "name": "stdout",
          "text": [
            "Input: Trong 28 năm qua , tôi thu thập tài liệu về văn hoá địa phương ở hơn 70 quốc gia trên 6 lục địa , và năm 2009 tôi đã có vinh dự trở thành người triển lãm duy nhất tại Hội nghị thượng đỉnh về hoà bình tại Vancouver .\n",
            "Result: In the last year , I &apos;ve been going to be able to take the culture of the United States in the United States , and 20 years , I had a very large , and I had the only been the onlyestestest of the United States .\n",
            "Inference finished! || Total inference time: 0:00:00.703374secs\n",
            "Preprocessing input sentence...\n",
            "Encoding input sentence...\n"
          ]
        },
        {
          "output_type": "stream",
          "name": "stderr",
          "text": [
            "\r 91%|█████████ | 1154/1268 [08:35<01:18,  1.45it/s]"
          ]
        },
        {
          "output_type": "stream",
          "name": "stdout",
          "text": [
            "Input: Trong số những người tài năng đáng kinh ngạc tôi gặp ở đó , Tôi gặp 1 người ủng hộ cho chiến dịch Giải phóng Nô lệ , một thành viên của NGO tận tâm tiêu diệt tận gốc nạn nô lệ hiện đại .\n",
            "Result: In the most powerful people I met there , I met a person who had a very , a very , a very , a sty-sted , a sty-sted secing the war .\n",
            "Inference finished! || Total inference time: 0:00:00.800525secs\n",
            "Preprocessing input sentence...\n",
            "Encoding input sentence...\n"
          ]
        },
        {
          "output_type": "stream",
          "name": "stderr",
          "text": [
            "\r 91%|█████████ | 1155/1268 [08:36<01:16,  1.47it/s]"
          ]
        },
        {
          "output_type": "stream",
          "name": "stdout",
          "text": [
            "Input: Chúng tôi bắt đầu nói về nô lệ , và thực sự , tôi bắt đầu tìm hiểu về nô lệ vì tôi đã biết chắc rằng nó tồn tại trên thế giới , nhưng không đến mức đó .\n",
            "Result: We started talking about the , and I started to find the , because I know that it was sure that it was in the world , but not that there wasn &apos;t .\n",
            "Inference finished! || Total inference time: 0:00:00.646095secs\n",
            "Preprocessing input sentence...\n",
            "Encoding input sentence...\n"
          ]
        },
        {
          "output_type": "stream",
          "name": "stderr",
          "text": [
            "\r 91%|█████████ | 1156/1268 [08:37<01:18,  1.42it/s]"
          ]
        },
        {
          "output_type": "stream",
          "name": "stdout",
          "text": [
            "Input: Sau cuộc nói chuyện , tôi thấy thật kinh khủng và thực sự xấu hổ vì thiếu hiểu biết về sự tàn ác này trong đời mình , và tôi nghĩ , nếu cả tôi cũng không biết , thì bao nhiêu người sẽ không biết ?\n",
            "Result: After talking about , I saw the really really really really really know , because I think , if I think , if I don &apos;t know , how many people don &apos;t know ?\n",
            "Inference finished! || Total inference time: 0:00:00.752454secs\n",
            "Preprocessing input sentence...\n",
            "Encoding input sentence...\n"
          ]
        },
        {
          "output_type": "stream",
          "name": "stderr",
          "text": [
            "\r 91%|█████████ | 1157/1268 [08:38<01:22,  1.35it/s]"
          ]
        },
        {
          "output_type": "stream",
          "name": "stdout",
          "text": [
            "Input: Nó bắt đầu đục khoét tâm can , nên vài tuần sau , Tôi bay tới Los Angles để gặp giám đốc chương trình Giải phóng Nô lệ và đề nghị giúp họ .\n",
            "Result: It started , and then , so I went back to the week , I went to the SDA , I took the series of the styse they &apos;re going to help them .\n",
            "Inference finished! || Total inference time: 0:00:00.813661secs\n",
            "Preprocessing input sentence...\n",
            "Encoding input sentence...\n"
          ]
        },
        {
          "output_type": "stream",
          "name": "stderr",
          "text": [
            "\r 91%|█████████▏| 1158/1268 [08:38<01:09,  1.58it/s]"
          ]
        },
        {
          "output_type": "stream",
          "name": "stdout",
          "text": [
            "Input: Và từ đó bắt đầu cuộc hành trình tiến vào thế giới nô lệ hiện đại\n",
            "Result: And then , from the process of the world &apos;s going to be the global state of the war .\n",
            "Inference finished! || Total inference time: 0:00:00.372425secs\n",
            "Preprocessing input sentence...\n",
            "Encoding input sentence...\n"
          ]
        },
        {
          "output_type": "stream",
          "name": "stderr",
          "text": [
            " 91%|█████████▏| 1160/1268 [08:39<00:45,  2.38it/s]"
          ]
        },
        {
          "output_type": "stream",
          "name": "stdout",
          "text": [
            "Input: Kì lạ là trước đây tôi đã đến phần lớn những nơi này .\n",
            "Result: The great thing is I &apos;ve got to be the largest places .\n",
            "Inference finished! || Total inference time: 0:00:00.300475secs\n",
            "Preprocessing input sentence...\n",
            "Encoding input sentence...\n",
            "Input: Một số nơi tôi coi như nhà mình .\n",
            "Result: Some of me look like my home .\n",
            "Inference finished! || Total inference time: 0:00:00.140880secs\n",
            "Preprocessing input sentence...\n",
            "Encoding input sentence...\n"
          ]
        },
        {
          "output_type": "stream",
          "name": "stderr",
          "text": [
            "\r 92%|█████████▏| 1161/1268 [08:39<00:56,  1.91it/s]"
          ]
        },
        {
          "output_type": "stream",
          "name": "stdout",
          "text": [
            "Input: Nhưng lần này , tôi muốn thấy sự thật đang được che đậy\n",
            "Result: But this time , I want to see the really are going to be also , I wanted to be also very , very , very , very , but I wanted to see .\n",
            "Inference finished! || Total inference time: 0:00:00.753449secs\n",
            "Preprocessing input sentence...\n",
            "Encoding input sentence...\n"
          ]
        },
        {
          "output_type": "stream",
          "name": "stderr",
          "text": [
            "\r 92%|█████████▏| 1162/1268 [08:40<00:58,  1.82it/s]"
          ]
        },
        {
          "output_type": "stream",
          "name": "stdout",
          "text": [
            "Input: Một sự ước lượng dè dặt cho chúng tôi biết có hơn 27 triệu người bị biến thành nô lệ trên thế giới ngày nay .\n",
            "Result: A very , a very , for example , we know , more than the million people who are going to be going to be very , today .\n",
            "Inference finished! || Total inference time: 0:00:00.602379secs\n",
            "Preprocessing input sentence...\n",
            "Encoding input sentence...\n"
          ]
        },
        {
          "output_type": "stream",
          "name": "stderr",
          "text": [
            "\r 92%|█████████▏| 1163/1268 [08:40<00:47,  2.20it/s]"
          ]
        },
        {
          "output_type": "stream",
          "name": "stdout",
          "text": [
            "Input: Gấp đôi số người bị đưa khỏi Châu Phi trong suốt thời kì mua bán nô lệ xuyên Đại Tây Dương .\n",
            "Result: They are going to take the number of Africa in Africa to buy the U.S.\n",
            "Inference finished! || Total inference time: 0:00:00.228680secs\n",
            "Preprocessing input sentence...\n",
            "Encoding input sentence...\n"
          ]
        },
        {
          "output_type": "stream",
          "name": "stderr",
          "text": [
            " 92%|█████████▏| 1165/1268 [08:41<00:34,  2.99it/s]"
          ]
        },
        {
          "output_type": "stream",
          "name": "stdout",
          "text": [
            "Input: 150 năm trước , 1 nông nô có giá gấp 3 lần thu nhập cả năm của 1 công nhân Mỹ .\n",
            "Result: For years ago , a half-year-old , a three-year-old , a year-old year-old year .\n",
            "Inference finished! || Total inference time: 0:00:00.329745secs\n",
            "Preprocessing input sentence...\n",
            "Encoding input sentence...\n",
            "Input: Tương đương với 50.000 đô-la Mỹ ngày nay .\n",
            "Result: They &apos;re 50 dollars today .\n",
            "Inference finished! || Total inference time: 0:00:00.131059secs\n",
            "Preprocessing input sentence...\n",
            "Encoding input sentence...\n"
          ]
        },
        {
          "output_type": "stream",
          "name": "stderr",
          "text": [
            "\r 92%|█████████▏| 1166/1268 [08:41<00:38,  2.68it/s]"
          ]
        },
        {
          "output_type": "stream",
          "name": "stdout",
          "text": [
            "Input: Nhưng ngày nay , nhiều thế hệ gia đình bị bắt làm nô lệ qua nhiều thế hệ chỉ với món nợ 18 đô-la .\n",
            "Result: But now , many of the family has been going to be , and a lot of across the U.S. , a half-year-old , a half-old .\n",
            "Inference finished! || Total inference time: 0:00:00.458011secs\n",
            "Preprocessing input sentence...\n",
            "Encoding input sentence...\n"
          ]
        },
        {
          "output_type": "stream",
          "name": "stderr",
          "text": [
            "\r 92%|█████████▏| 1167/1268 [08:41<00:35,  2.83it/s]"
          ]
        },
        {
          "output_type": "stream",
          "name": "stdout",
          "text": [
            "Input: Thật kinh ngạc , chế độ nô lệ tạo ra lợi nhuận hơn 13 tỉ đô-la mỗi năm trên toàn thế giới .\n",
            "Result: It &apos;s amazing , the very great , the stying a billion dollars of dollars a year .\n",
            "Inference finished! || Total inference time: 0:00:00.301887secs\n",
            "Preprocessing input sentence...\n",
            "Encoding input sentence...\n"
          ]
        },
        {
          "output_type": "stream",
          "name": "stderr",
          "text": [
            "\r 92%|█████████▏| 1168/1268 [08:43<01:10,  1.42it/s]"
          ]
        },
        {
          "output_type": "stream",
          "name": "stdout",
          "text": [
            "Input: Rất nhiều người bị lừa bởi những lời hứa điêu ngoa về giáo dục tốt , công việc tốt hơn , chỉ để thấy mình bị bắt làm việc không công dưới ách bạo lực , và không thoát ra được .\n",
            "Result: Many people are going to be , because they &apos;re going to be going to be good for good , better , they &apos;re just going to see that the sty were not going to be , and not very , and not very , and not very , and not very , and very , and very very , very , very , very , very , very , , , , , this is not very , going to because it &apos;recing .\n",
            "Inference finished! || Total inference time: 0:00:01.510721secs\n",
            "Preprocessing input sentence...\n",
            "Encoding input sentence...\n"
          ]
        },
        {
          "output_type": "stream",
          "name": "stderr",
          "text": [
            "\r 92%|█████████▏| 1169/1268 [08:44<01:12,  1.36it/s]"
          ]
        },
        {
          "output_type": "stream",
          "name": "stdout",
          "text": [
            "Input: Nô lệ ngày nay phục vụ cho thương mại , hàng hoá mà người nô lệ tạo ra có giá trị , nhưng người tạo ra chúng bị coi như phế thải .\n",
            "Result: They &apos;re going to be today today , the stys , the people who create the value , but they &apos;re going to be able to be able to be able to be able to be able to be a bit of a very , like a recing .\n",
            "Inference finished! || Total inference time: 0:00:00.798286secs\n",
            "Preprocessing input sentence...\n",
            "Encoding input sentence...\n"
          ]
        },
        {
          "output_type": "stream",
          "name": "stderr",
          "text": [
            "\r 92%|█████████▏| 1170/1268 [08:44<01:00,  1.61it/s]"
          ]
        },
        {
          "output_type": "stream",
          "name": "stdout",
          "text": [
            "Input: Nạn nô lệ hiện hữu gần như mọi nơi trên thế giới , dù nó là bất hợp pháp ở mọi nơi .\n",
            "Result: The sty are going to be very close to the world , even though it &apos;s all of the place .\n",
            "Inference finished! || Total inference time: 0:00:00.352927secs\n",
            "Preprocessing input sentence...\n",
            "Encoding input sentence...\n"
          ]
        },
        {
          "output_type": "stream",
          "name": "stderr",
          "text": [
            "\r 92%|█████████▏| 1171/1268 [08:44<00:50,  1.94it/s]"
          ]
        },
        {
          "output_type": "stream",
          "name": "stdout",
          "text": [
            "Input: Ở Ấn Độ và Nepal , tôi được đưa tới 1 lò gạch .\n",
            "Result: In India and India , I was going to put a series of a series .\n",
            "Inference finished! || Total inference time: 0:00:00.264212secs\n",
            "Preprocessing input sentence...\n",
            "Encoding input sentence...\n"
          ]
        },
        {
          "output_type": "stream",
          "name": "stderr",
          "text": [
            "\r 92%|█████████▏| 1172/1268 [08:45<00:50,  1.90it/s]"
          ]
        },
        {
          "output_type": "stream",
          "name": "stdout",
          "text": [
            "Input: Khung cảnh lạ lẫm đẹp mắt này giống như đi vào thế giới Ai Cập cổ hoặc Hầm ngục của Dante .\n",
            "Result: The very beautiful , this is like , like , the world &apos;s like the world &apos;s world or they &apos;re going to be the &apos;s C.\n",
            "Inference finished! || Total inference time: 0:00:00.539842secs\n",
            "Preprocessing input sentence...\n",
            "Encoding input sentence...\n"
          ]
        },
        {
          "output_type": "stream",
          "name": "stderr",
          "text": [
            "\r 93%|█████████▎| 1173/1268 [08:46<01:19,  1.20it/s]"
          ]
        },
        {
          "output_type": "stream",
          "name": "stdout",
          "text": [
            "Input: Bị bao bọc trong nhiệt độ hơn 54 độ C , đàn ông , phụ nữ , trẻ em , toàn bộ các gia đình , bị trùm trong màn bụi mịt mù , làm như máy , xếp gạch lên đầu , tới 18 viên mỗi lần , và mang chúng từ những lò nung bỏng rát tới những chiếc xe tải ở cách đó hàng trăm mét .\n",
            "Result: They &apos;re going to be more than the average of the , the women , women , the children , the children are all the family , they &apos;re going to go in the , and they &apos;re going to go back to the next two , and then they &apos;re going to go back to the , and they &apos;re going to the next 40 miles from the next to the next to the , and the next two , and the next two s of they &apos;re-s of they &apos;re-old , and the next 40 miles\n",
            "Inference finished! || Total inference time: 0:00:01.543631secs\n",
            "Preprocessing input sentence...\n",
            "Encoding input sentence...\n"
          ]
        },
        {
          "output_type": "stream",
          "name": "stderr",
          "text": [
            "\r 93%|█████████▎| 1174/1268 [08:47<01:06,  1.40it/s]"
          ]
        },
        {
          "output_type": "stream",
          "name": "stdout",
          "text": [
            "Input: Đờ đẫn bởi sự đơn điệu và kiệt sức , họ câm lặng làm việc , lặp đi lặp lại tới 16 hay 17 giờ mỗi ngày .\n",
            "Result: They were very , by they , they were very , they were going to work , and they were at the last six or six days .\n",
            "Inference finished! || Total inference time: 0:00:00.419667secs\n",
            "Preprocessing input sentence...\n",
            "Encoding input sentence...\n"
          ]
        },
        {
          "output_type": "stream",
          "name": "stderr",
          "text": [
            "\r 93%|█████████▎| 1175/1268 [08:48<01:06,  1.40it/s]"
          ]
        },
        {
          "output_type": "stream",
          "name": "stdout",
          "text": [
            "Input: Không có đồ ăn , giờ nghỉ để ăn uống , do bị mất nước nghiêm trọng nên việc đi tiểu trở nên tầm thường\n",
            "Result: There &apos;s no , there &apos;s no , to get the money , because they &apos;re going to get , because the water is going to be very , so it &apos;s going to be going to be very hard .\n",
            "Inference finished! || Total inference time: 0:00:00.718163secs\n",
            "Preprocessing input sentence...\n",
            "Encoding input sentence...\n"
          ]
        },
        {
          "output_type": "stream",
          "name": "stderr",
          "text": [
            "\r 93%|█████████▎| 1176/1268 [08:48<01:03,  1.45it/s]"
          ]
        },
        {
          "output_type": "stream",
          "name": "stdout",
          "text": [
            "Input: Nóng và bụi lan toả khắp nơi đến nỗi camera của tôi bị nóng đến mức không thể chạm vào nút ngừng quay .\n",
            "Result: It &apos;s going to be around the place where my series is going to be a very , very , especially , to go to the series of the stycing the sty .\n",
            "Inference finished! || Total inference time: 0:00:00.628584secs\n",
            "Preprocessing input sentence...\n",
            "Encoding input sentence...\n"
          ]
        },
        {
          "output_type": "stream",
          "name": "stderr",
          "text": [
            "\r 93%|█████████▎| 1177/1268 [08:49<01:01,  1.48it/s]"
          ]
        },
        {
          "output_type": "stream",
          "name": "stdout",
          "text": [
            "Input: Cứ 20 phút , tôi phải chạy trở lại xe dã chiến để lau thiết bị và để chúng hoạt động dưới điều hoà nhiệt độ phục hồi chúng , và khi ngồi đó , Tôi nghĩ , cái camera của mình còn được đối xử tốt hơn nhiều những người kia .\n",
            "Result: So , 20 minutes , I have to go back to the war and they were going to be able to get them into the sty , and when they were sitting in the same time , I thought , I was more good for the other people .\n",
            "Inference finished! || Total inference time: 0:00:00.637154secs\n",
            "Preprocessing input sentence...\n",
            "Encoding input sentence...\n"
          ]
        },
        {
          "output_type": "stream",
          "name": "stderr",
          "text": [
            "\r 93%|█████████▎| 1178/1268 [08:49<00:57,  1.56it/s]"
          ]
        },
        {
          "output_type": "stream",
          "name": "stdout",
          "text": [
            "Input: Quay lại lò gạch , tôi chỉ muốn khóc , nhưng người bản theo chủ nghĩa bãi nô bên cạnh nhanh chóng nắm lấy tôi và nói , &quot; Lisa , đừng làm thế . Đừng làm thế ở đây . &quot;\n",
            "Result: So , I wanted to go , but I wanted to go , but they want to go on the very , and say , &quot; No , don &apos;t do this . &quot;\n",
            "Inference finished! || Total inference time: 0:00:00.547842secs\n",
            "Preprocessing input sentence...\n",
            "Encoding input sentence...\n"
          ]
        },
        {
          "output_type": "stream",
          "name": "stderr",
          "text": [
            " 93%|█████████▎| 1180/1268 [08:50<00:39,  2.20it/s]"
          ]
        },
        {
          "output_type": "stream",
          "name": "stdout",
          "text": [
            "Input: Ông giải thích rất rõ rằng thể hiện cảm xúc là rất nguy hiểm ở nơi như thế này , không phải với tôi , mà với họ .\n",
            "Result: He explained that very very , very very difficult to be very , like this , not with me , not with them .\n",
            "Inference finished! || Total inference time: 0:00:00.398222secs\n",
            "Preprocessing input sentence...\n",
            "Encoding input sentence...\n",
            "Input: Tôi đã không thể trực tiếp giúp gì cho họ .\n",
            "Result: I couldn &apos;t help them .\n",
            "Inference finished! || Total inference time: 0:00:00.178109secs\n",
            "Preprocessing input sentence...\n",
            "Encoding input sentence...\n"
          ]
        },
        {
          "output_type": "stream",
          "name": "stderr",
          "text": [
            "\r 93%|█████████▎| 1181/1268 [08:50<00:34,  2.50it/s]"
          ]
        },
        {
          "output_type": "stream",
          "name": "stdout",
          "text": [
            "Input: Tôi chẳng cho họ tiền được , không gì cả .\n",
            "Result: I don &apos;t have them to pay them , not all .\n",
            "Inference finished! || Total inference time: 0:00:00.264781secs\n",
            "Preprocessing input sentence...\n",
            "Encoding input sentence...\n"
          ]
        },
        {
          "output_type": "stream",
          "name": "stderr",
          "text": [
            "\r 93%|█████████▎| 1182/1268 [08:50<00:29,  2.92it/s]"
          ]
        },
        {
          "output_type": "stream",
          "name": "stdout",
          "text": [
            "Input: Tôi không phải công dân nước đó .\n",
            "Result: I don &apos;t have to be the country .\n",
            "Inference finished! || Total inference time: 0:00:00.196177secs\n",
            "Preprocessing input sentence...\n",
            "Encoding input sentence...\n"
          ]
        },
        {
          "output_type": "stream",
          "name": "stderr",
          "text": [
            "\r 93%|█████████▎| 1183/1268 [08:51<00:26,  3.23it/s]"
          ]
        },
        {
          "output_type": "stream",
          "name": "stdout",
          "text": [
            "Input: Tôi có thể đưa họ vào tình cảnh tệ hơn hiện tại của họ .\n",
            "Result: I can put them in their own , more than their own .\n",
            "Inference finished! || Total inference time: 0:00:00.225069secs\n",
            "Preprocessing input sentence...\n",
            "Encoding input sentence...\n"
          ]
        },
        {
          "output_type": "stream",
          "name": "stderr",
          "text": [
            "\r 93%|█████████▎| 1184/1268 [08:51<00:28,  2.96it/s]"
          ]
        },
        {
          "output_type": "stream",
          "name": "stdout",
          "text": [
            "Input: Tôi phải dựa vào tổ chức Giải phóng Nô lệ để hoạt động trong hệ thống để giải phóng họ , và tôi tin họ có thể .\n",
            "Result: I have to be on the series of the system to make the system in the system , and I believe them .\n",
            "Inference finished! || Total inference time: 0:00:00.392454secs\n",
            "Preprocessing input sentence...\n",
            "Encoding input sentence...\n"
          ]
        },
        {
          "output_type": "stream",
          "name": "stderr",
          "text": [
            "\r 93%|█████████▎| 1185/1268 [08:51<00:27,  3.00it/s]"
          ]
        },
        {
          "output_type": "stream",
          "name": "stdout",
          "text": [
            "Input: Với tôi , phải đợi về đến tận nhà để thật sự cảm nhận nỗi đau .\n",
            "Result: For me , to go back to the home to understand the truth of the feelings of fear .\n",
            "Inference finished! || Total inference time: 0:00:00.311183secs\n",
            "Preprocessing input sentence...\n",
            "Encoding input sentence...\n"
          ]
        },
        {
          "output_type": "stream",
          "name": "stderr",
          "text": [
            "\r 94%|█████████▎| 1186/1268 [08:52<00:33,  2.45it/s]"
          ]
        },
        {
          "output_type": "stream",
          "name": "stdout",
          "text": [
            "Input: Ở dãy Himalayas , tôi thấy trẻ em vác đá qua nhiều dặm địa hình núi xuống xe tải đang chờ ở con đường phía dưới .\n",
            "Result: In the Sun , I saw the children of a lot of thousands of thousands of miles , and I &apos;m going to be sitting on the top .\n",
            "Inference finished! || Total inference time: 0:00:00.572124secs\n",
            "Preprocessing input sentence...\n",
            "Encoding input sentence...\n"
          ]
        },
        {
          "output_type": "stream",
          "name": "stderr",
          "text": [
            "\r 94%|█████████▎| 1187/1268 [08:53<00:55,  1.45it/s]"
          ]
        },
        {
          "output_type": "stream",
          "name": "stdout",
          "text": [
            "Input: Những tấm đá phiến to còn nặng hơn những đứa trẻ mang chúng , đám trẻ nhấc bổng chúng lên bằng đầu sử dụng bộ khung từ que gỗ , dây thừng và vải rách .\n",
            "Result: They are more more than children , they &apos;re going to be using their children , they &apos;re using they &apos;re using the sty &apos;re going to use the sty , and they &apos;re going to be , and they &apos;re going to the sty .\n",
            "Inference finished! || Total inference time: 0:00:01.344067secs\n",
            "Preprocessing input sentence...\n",
            "Encoding input sentence...\n"
          ]
        },
        {
          "output_type": "stream",
          "name": "stderr",
          "text": [
            "\r 94%|█████████▎| 1188/1268 [08:54<00:48,  1.65it/s]"
          ]
        },
        {
          "output_type": "stream",
          "name": "stdout",
          "text": [
            "Input: Chứng kiến những chuyện quá sức như thế thật nặng nề .\n",
            "Result: They &apos;re really really really , really , really , really .\n",
            "Inference finished! || Total inference time: 0:00:00.397677secs\n",
            "Preprocessing input sentence...\n",
            "Encoding input sentence...\n"
          ]
        },
        {
          "output_type": "stream",
          "name": "stderr",
          "text": [
            "\r 94%|█████████▍| 1189/1268 [08:54<00:38,  2.03it/s]"
          ]
        },
        {
          "output_type": "stream",
          "name": "stdout",
          "text": [
            "Input: Làm sao chúng ta có thể tạo ra điều quỷ quyệt này , lại còn xảy tràn làn như thế ?\n",
            "Result: How do we create this , how are they happening ?\n",
            "Inference finished! || Total inference time: 0:00:00.216806secs\n",
            "Preprocessing input sentence...\n",
            "Encoding input sentence...\n"
          ]
        },
        {
          "output_type": "stream",
          "name": "stderr",
          "text": [
            " 94%|█████████▍| 1191/1268 [08:55<00:38,  2.00it/s]"
          ]
        },
        {
          "output_type": "stream",
          "name": "stdout",
          "text": [
            "Input: Một số người thậm chí không biết mình bị biến thành nô lệ , họ làm việc không công 16 , 17 giờ mỗi ngày , vì suốt đời họ chỉ biết thế .\n",
            "Result: Some people don &apos;t know what they &apos;re not going to be , they &apos;re not going to do , they &apos;re going to know , because every day they &apos;re just just just known .\n",
            "Inference finished! || Total inference time: 0:00:00.941173secs\n",
            "Preprocessing input sentence...\n",
            "Encoding input sentence...\n",
            "Input: Họ không có gì để so sánh .\n",
            "Result: They don &apos;t have any way to get .\n",
            "Inference finished! || Total inference time: 0:00:00.187721secs\n"
          ]
        },
        {
          "output_type": "stream",
          "name": "stderr",
          "text": [
            "\r 94%|█████████▍| 1192/1268 [08:56<00:35,  2.12it/s]"
          ]
        },
        {
          "output_type": "stream",
          "name": "stdout",
          "text": [
            "Preprocessing input sentence...\n",
            "Encoding input sentence...\n",
            "Input: Khi người dân làng này đòi tự do , những chủ nô đốt sạch nhà của họ .\n",
            "Result: When people are this , they &apos;re going to make their own , they &apos;re going to be their house .\n",
            "Inference finished! || Total inference time: 0:00:00.395841secs\n",
            "Preprocessing input sentence...\n",
            "Encoding input sentence...\n"
          ]
        },
        {
          "output_type": "stream",
          "name": "stderr",
          "text": [
            "\r 94%|█████████▍| 1193/1268 [08:57<00:50,  1.50it/s]"
          ]
        },
        {
          "output_type": "stream",
          "name": "stdout",
          "text": [
            "Input: Những người này không có gì , họ chết điếng , họ muốn đầu hàng , nhưng người phụ nữ ở giữa trấn tĩnh và kêu gọi mọi người kiên trì , và những người theo chủ nghĩa bãi nô tại hiện trường giúp họ lấy được hợp đồng cho thuê mỏ đá của chính mình , để giờ đây họ vẫn làm công việc gãy lưng ấy , nhưng làm cho chính họ , và được trả công , và họ làm trong tự do .\n",
            "Result: These people are not , they want to be the first , but they wanted to be the first woman , they wanted to call the Arab and they &apos;re going to help them , and they &apos;re trying to make them , but they &apos;re doing , and they &apos;re trying to do , and they &apos;re trying to do them .\n",
            "Inference finished! || Total inference time: 0:00:01.116551secs\n",
            "Preprocessing input sentence...\n",
            "Encoding input sentence...\n"
          ]
        },
        {
          "output_type": "stream",
          "name": "stderr",
          "text": [
            "\r 94%|█████████▍| 1194/1268 [08:57<00:51,  1.45it/s]"
          ]
        },
        {
          "output_type": "stream",
          "name": "stdout",
          "text": [
            "Input: Ta thường nghĩ về buôn bán nô lệ tình dục khi nghe thấy từ &quot; nô lệ &quot; , và do sự nhận thức chung này , tôi được cảnh báo sẽ rất khó để làm việc an toàn trong ngành công nghiệp đặc thù này .\n",
            "Result: We are thinking about the stys of the styst , when you hear this , and the reason , I &apos;m going to be very difficult to do this in the very very , very difficult for this very high school .\n",
            "Inference finished! || Total inference time: 0:00:00.736930secs\n",
            "Preprocessing input sentence...\n",
            "Encoding input sentence...\n"
          ]
        },
        {
          "output_type": "stream",
          "name": "stderr",
          "text": [
            "\r 94%|█████████▍| 1195/1268 [08:58<00:40,  1.81it/s]"
          ]
        },
        {
          "output_type": "stream",
          "name": "stdout",
          "text": [
            "Input: Ở Kathmandu , tôi được hộ tống bởi những người phụ nữ đã từng là nô lệ tình dục .\n",
            "Result: In the U.S. , I was born by women who were also women .\n",
            "Inference finished! || Total inference time: 0:00:00.230270secs\n",
            "Preprocessing input sentence...\n",
            "Encoding input sentence...\n"
          ]
        },
        {
          "output_type": "stream",
          "name": "stderr",
          "text": [
            "\r 94%|█████████▍| 1196/1268 [08:58<00:38,  1.85it/s]"
          ]
        },
        {
          "output_type": "stream",
          "name": "stdout",
          "text": [
            "Input: Họ dẫn tôi xuống những bậc cầu thang hẹp xuống tầng hầm bẩn thỉu , trong ánh sáng lờ mờ .\n",
            "Result: They were going to go down to the stse , they &apos;re going to go down the styse , in the light , in the light .\n",
            "Inference finished! || Total inference time: 0:00:00.505328secs\n",
            "Preprocessing input sentence...\n",
            "Encoding input sentence...\n"
          ]
        },
        {
          "output_type": "stream",
          "name": "stderr",
          "text": [
            " 94%|█████████▍| 1198/1268 [08:59<00:24,  2.83it/s]"
          ]
        },
        {
          "output_type": "stream",
          "name": "stdout",
          "text": [
            "Input: Nơi đây thực chất không phải nhà thổ .\n",
            "Result: This is actually not also they &apos;re not a house .\n",
            "Inference finished! || Total inference time: 0:00:00.225614secs\n",
            "Preprocessing input sentence...\n",
            "Encoding input sentence...\n",
            "Input: Nó giống 1 nhà hàng hơn .\n",
            "Result: It &apos;s like a house .\n",
            "Inference finished! || Total inference time: 0:00:00.126066secs\n",
            "Preprocessing input sentence...\n",
            "Encoding input sentence...\n"
          ]
        },
        {
          "output_type": "stream",
          "name": "stderr",
          "text": [
            "\r 95%|█████████▍| 1199/1268 [08:59<00:27,  2.54it/s]"
          ]
        },
        {
          "output_type": "stream",
          "name": "stdout",
          "text": [
            "Input: Những nhà hàng phân buồng , như được biết đến trong ngành , là những địa điểm của nạn mại dâm cưỡng ép .\n",
            "Result: They are , like , as they know , is the sts of the stse of the stys of the styse .\n",
            "Inference finished! || Total inference time: 0:00:00.481669secs\n",
            "Preprocessing input sentence...\n",
            "Encoding input sentence...\n"
          ]
        },
        {
          "output_type": "stream",
          "name": "stderr",
          "text": [
            "\r 95%|█████████▍| 1200/1268 [09:00<00:31,  2.19it/s]"
          ]
        },
        {
          "output_type": "stream",
          "name": "stdout",
          "text": [
            "Input: Mỗi nơi có phòng riêng nhỏ , nơi các nô lệ , phụ nữ , cùng trẻ em trai và gái , một số mới 7 tuổi , bị buộc giải khuây cho khách hàng , dụ họ mua thêm rượu và đồ ăn .\n",
            "Result: Everywhere in the room , where women , women , women and a few years old , a half-year-old , they were going to buy the sty , for they buy and they buy .\n",
            "Inference finished! || Total inference time: 0:00:00.596901secs\n",
            "Preprocessing input sentence...\n",
            "Encoding input sentence...\n"
          ]
        },
        {
          "output_type": "stream",
          "name": "stderr",
          "text": [
            "\r 95%|█████████▍| 1201/1268 [09:01<00:53,  1.25it/s]"
          ]
        },
        {
          "output_type": "stream",
          "name": "stdout",
          "text": [
            "Input: phòng ngủ nào cũng bẩn thỉu và tối om , được nhận ra bởi con số sơn trên tường phân cách bởi miếng ván ép và rèm che .\n",
            "Result: You &apos;re going to go and they &apos;re going to be , and they &apos;re going to be able to get the same , because they &apos;re going to be , they &apos;re going to get the walls of the walls and they &apos;re going to be going to be , and they &apos;re going to be , and they &apos;re st going to go to they &apos;retyty &apos;re , and they &apos;re , and they &apos;ret\n",
            "Inference finished! || Total inference time: 0:00:01.596639secs\n",
            "Preprocessing input sentence...\n",
            "Encoding input sentence...\n"
          ]
        },
        {
          "output_type": "stream",
          "name": "stderr",
          "text": [
            "\r 95%|█████████▍| 1202/1268 [09:02<00:44,  1.48it/s]"
          ]
        },
        {
          "output_type": "stream",
          "name": "stdout",
          "text": [
            "Input: Người làm ở đây thường phải chịu lạm dụng tình dục thê thảm dưới bàn tay khách hàng .\n",
            "Result: They &apos;re going to be very often , to have a very powerful , in the hand-stins .\n",
            "Inference finished! || Total inference time: 0:00:00.376074secs\n",
            "Preprocessing input sentence...\n",
            "Encoding input sentence...\n"
          ]
        },
        {
          "output_type": "stream",
          "name": "stderr",
          "text": [
            "\r 95%|█████████▍| 1203/1268 [09:02<00:42,  1.53it/s]"
          ]
        },
        {
          "output_type": "stream",
          "name": "stdout",
          "text": [
            "Input: Đứng trong góc tối gần đó , tôi nhớ cảm giác nỗi sợ bùng lên , và giây phút đó , tôi mới hiểu được bị giam trong địa ngục đó là như thế nào .\n",
            "Result: In the end of the last time , I remember , I remember , and that was new , and I was actually trying to understand that in the very , and that was they were in the very , and that was like that .\n",
            "Inference finished! || Total inference time: 0:00:00.600783secs\n",
            "Preprocessing input sentence...\n",
            "Encoding input sentence...\n"
          ]
        },
        {
          "output_type": "stream",
          "name": "stderr",
          "text": [
            " 95%|█████████▌| 1205/1268 [09:03<00:25,  2.43it/s]"
          ]
        },
        {
          "output_type": "stream",
          "name": "stdout",
          "text": [
            "Input: Chỉ có 1 lối ra : cầu thang mà từ đó tôi đi vào .\n",
            "Result: There &apos;s just a : the next : I go to the next .\n",
            "Inference finished! || Total inference time: 0:00:00.236219secs\n",
            "Preprocessing input sentence...\n",
            "Encoding input sentence...\n",
            "Input: Không có cửa hậu .\n",
            "Result: There &apos;s no door .\n",
            "Inference finished! || Total inference time: 0:00:00.122276secs\n",
            "Preprocessing input sentence...\n",
            "Encoding input sentence...\n"
          ]
        },
        {
          "output_type": "stream",
          "name": "stderr",
          "text": [
            "\r 95%|█████████▌| 1206/1268 [09:03<00:22,  2.74it/s]"
          ]
        },
        {
          "output_type": "stream",
          "name": "stdout",
          "text": [
            "Input: Chẳng có cửa sổ đủ lớn mà chui lọt .\n",
            "Result: There &apos;s no big , there &apos;s a big sty .\n",
            "Inference finished! || Total inference time: 0:00:00.247753secs\n",
            "Preprocessing input sentence...\n",
            "Encoding input sentence...\n"
          ]
        },
        {
          "output_type": "stream",
          "name": "stderr",
          "text": [
            "\r 95%|█████████▌| 1207/1268 [09:04<00:28,  2.16it/s]"
          ]
        },
        {
          "output_type": "stream",
          "name": "stdout",
          "text": [
            "Input: Những người này không có lối thoát nào , khi ta đề cập về chủ đề khó khăn như thế , cần nhớ rằng nô lệ , bao gồm nô lệ của nạn mua bán tình dục , cũng xảy ra tại nơi chúng ta đang sống .\n",
            "Result: These people are not going to be able to be aware of the wrong , when we need to remember , the stse , they &apos;re going to be in the middle of the war , and they &apos;re living in the place .\n",
            "Inference finished! || Total inference time: 0:00:00.688135secs\n",
            "Preprocessing input sentence...\n",
            "Encoding input sentence...\n"
          ]
        },
        {
          "output_type": "stream",
          "name": "stderr",
          "text": [
            "\r 95%|█████████▌| 1208/1268 [09:04<00:28,  2.14it/s]"
          ]
        },
        {
          "output_type": "stream",
          "name": "stdout",
          "text": [
            "Input: Hàng chục ngàn người bị bắt làm nô lệ trong nông nghiệp , trong nhà hàng , đầy tớ khổ sai trong nhà , và danh sách còn dài .\n",
            "Result: The thousands of people are going to be , in the house , in the house , the greatest , the greatest , the greatest , and the greatest .\n",
            "Inference finished! || Total inference time: 0:00:00.471741secs\n",
            "Preprocessing input sentence...\n",
            "Encoding input sentence...\n"
          ]
        },
        {
          "output_type": "stream",
          "name": "stderr",
          "text": [
            "\r 95%|█████████▌| 1209/1268 [09:04<00:25,  2.32it/s]"
          ]
        },
        {
          "output_type": "stream",
          "name": "stdout",
          "text": [
            "Input: Gần đây , tờ New York Times báo cáo rằng từ 100.000 đến 300.000 trẻ em Mỹ bị bán làm nô lệ tình dục mỗi năm .\n",
            "Result: They were , New York City , the New York Times from 30 million people who were born in the United States .\n",
            "Inference finished! || Total inference time: 0:00:00.337407secs\n",
            "Preprocessing input sentence...\n",
            "Encoding input sentence...\n"
          ]
        },
        {
          "output_type": "stream",
          "name": "stderr",
          "text": [
            " 96%|█████████▌| 1211/1268 [09:05<00:18,  3.09it/s]"
          ]
        },
        {
          "output_type": "stream",
          "name": "stdout",
          "text": [
            "Input: Nó ở quanh ta . Ta chỉ không thấy thôi .\n",
            "Result: It &apos;s around . We &apos;re not just seeing .\n",
            "Inference finished! || Total inference time: 0:00:00.250114secs\n",
            "Preprocessing input sentence...\n",
            "Encoding input sentence...\n",
            "Input: Công nghiệp dệt may cũng thường được nghĩ đến khi nghe nói về nhân công nô lệ .\n",
            "Result: They &apos;re very lucky to think about the war .\n",
            "Inference finished! || Total inference time: 0:00:00.188966secs\n",
            "Preprocessing input sentence...\n",
            "Encoding input sentence...\n"
          ]
        },
        {
          "output_type": "stream",
          "name": "stderr",
          "text": [
            " 96%|█████████▌| 1213/1268 [09:05<00:14,  3.79it/s]"
          ]
        },
        {
          "output_type": "stream",
          "name": "stdout",
          "text": [
            "Input: Tôi đã đến nhiều làng ở Ấn Độ , nơi nhiều gia đình bị làm nô lệ trong buôn bán lụa .\n",
            "Result: I was a lot of India , where many family family was born in the very high-sus .\n",
            "Inference finished! || Total inference time: 0:00:00.288064secs\n",
            "Preprocessing input sentence...\n",
            "Encoding input sentence...\n",
            "Input: Đây là chân dung gia đình .\n",
            "Result: This is the family .\n",
            "Inference finished! || Total inference time: 0:00:00.129960secs\n",
            "Preprocessing input sentence...\n",
            "Encoding input sentence...\n"
          ]
        },
        {
          "output_type": "stream",
          "name": "stderr",
          "text": [
            "\r 96%|█████████▌| 1214/1268 [09:06<00:15,  3.39it/s]"
          ]
        },
        {
          "output_type": "stream",
          "name": "stdout",
          "text": [
            "Input: Đôi tay nhuộm đen là người cha , những bàn tay xanh và đỏ là con trai ông ấy .\n",
            "Result: Sometimes the black hand is the black , the blue and the blue is his son .\n",
            "Inference finished! || Total inference time: 0:00:00.354489secs\n",
            "Preprocessing input sentence...\n",
            "Encoding input sentence...\n"
          ]
        },
        {
          "output_type": "stream",
          "name": "stderr",
          "text": [
            "\r 96%|█████████▌| 1215/1268 [09:08<00:44,  1.18it/s]"
          ]
        },
        {
          "output_type": "stream",
          "name": "stdout",
          "text": [
            "Input: Họ trộn thuốc nhuộm trong những thùng lớn , và nhúng lụa vào dung dịch đó ngập đến khuỷ tay , dù thuốc nhuộm rất độc .\n",
            "Result: They &apos;re going to put the largests of the largests , and they &apos;re very , very , very very , very very , very very , very very very , very very very very , very very very very very , very very very very , very very very , very very very very very , , very , very very very very very very very very very very very very very \n",
            "Inference finished! || Total inference time: 0:00:02.119059secs\n",
            "Preprocessing input sentence...\n",
            "Encoding input sentence...\n",
            "Input: Người phiên dịch của tôi kể chuyện của họ .\n",
            "Result: My name is they talked about their own .\n",
            "Inference finished! || Total inference time: 0:00:00.186851secs\n"
          ]
        },
        {
          "output_type": "stream",
          "name": "stderr",
          "text": [
            "\r 96%|█████████▌| 1216/1268 [09:08<00:33,  1.53it/s]"
          ]
        },
        {
          "output_type": "stream",
          "name": "stdout",
          "text": [
            "Preprocessing input sentence...\n",
            "Encoding input sentence...\n"
          ]
        },
        {
          "output_type": "stream",
          "name": "stderr",
          "text": [
            "\r 96%|█████████▌| 1217/1268 [09:08<00:28,  1.81it/s]"
          ]
        },
        {
          "output_type": "stream",
          "name": "stdout",
          "text": [
            "Input: Họ nói , &quot; Chúng tôi không có tự do ,\n",
            "Result: They said , &quot; We don &apos;t have any reason .\n",
            "Inference finished! || Total inference time: 0:00:00.305172secs\n",
            "Preprocessing input sentence...\n",
            "Encoding input sentence...\n"
          ]
        },
        {
          "output_type": "stream",
          "name": "stderr",
          "text": [
            "\r 96%|█████████▌| 1218/1268 [09:09<00:29,  1.72it/s]"
          ]
        },
        {
          "output_type": "stream",
          "name": "stdout",
          "text": [
            "Input: nhưng vẫn hi vọng ngày nào đó có thể rời khỏi căn nhà này và đi nơi khác nơi chúng tôi được trả công nhuộm vải . &quot;\n",
            "Result: But still , there &apos;s a day that can go out of this room and where we &apos;re going to be going to be sted . &quot;\n",
            "Inference finished! || Total inference time: 0:00:00.635400secs\n",
            "Preprocessing input sentence...\n",
            "Encoding input sentence...\n"
          ]
        },
        {
          "output_type": "stream",
          "name": "stderr",
          "text": [
            "\r 96%|█████████▌| 1219/1268 [09:09<00:26,  1.86it/s]"
          ]
        },
        {
          "output_type": "stream",
          "name": "stdout",
          "text": [
            "Input: Ước lượng rằng có hơn 4.000 trẻ em đang làm nô lệ ở hồ Volta , chiếc hồ nhân tạo lớn nhất thế giới .\n",
            "Result: They &apos;re going to be more than the children are doing in the most big , the largest world .\n",
            "Inference finished! || Total inference time: 0:00:00.423973secs\n",
            "Preprocessing input sentence...\n",
            "Encoding input sentence...\n"
          ]
        },
        {
          "output_type": "stream",
          "name": "stderr",
          "text": [
            "\r 96%|█████████▌| 1220/1268 [09:10<00:25,  1.86it/s]"
          ]
        },
        {
          "output_type": "stream",
          "name": "stdout",
          "text": [
            "Input: Lần đầu đến đó , tôi đi xem qua 1 lượt .\n",
            "Result: And I was going to go to the same , I looked at a very , and I looked at a very , .\n",
            "Inference finished! || Total inference time: 0:00:00.524153secs\n",
            "Preprocessing input sentence...\n",
            "Encoding input sentence...\n"
          ]
        },
        {
          "output_type": "stream",
          "name": "stderr",
          "text": [
            "\r 96%|█████████▋| 1221/1268 [09:10<00:24,  1.94it/s]"
          ]
        },
        {
          "output_type": "stream",
          "name": "stdout",
          "text": [
            "Input: Tôi thấy cảnh giống như 1 gia đình đang đánh cá trên thuyền , 2 anh trai , vài đứa nhỏ hơn , có vẻ hợp lí nhỉ ?\n",
            "Result: I see the same as a family , two , two , and a little bit more than , there are a little bit of this ?\n",
            "Inference finished! || Total inference time: 0:00:00.456986secs\n",
            "Preprocessing input sentence...\n",
            "Encoding input sentence...\n"
          ]
        },
        {
          "output_type": "stream",
          "name": "stderr",
          "text": [
            "\r 96%|█████████▋| 1222/1268 [09:11<00:19,  2.35it/s]"
          ]
        },
        {
          "output_type": "stream",
          "name": "stdout",
          "text": [
            "Input: Sai . Họ đều bị nô lệ .\n",
            "Result: They are all , they are going to be stuck .\n",
            "Inference finished! || Total inference time: 0:00:00.211988secs\n",
            "Preprocessing input sentence...\n",
            "Encoding input sentence...\n"
          ]
        },
        {
          "output_type": "stream",
          "name": "stderr",
          "text": [
            " 97%|█████████▋| 1224/1268 [09:11<00:16,  2.63it/s]"
          ]
        },
        {
          "output_type": "stream",
          "name": "stdout",
          "text": [
            "Input: Trẻ em bị đưa khỏi gia đình , buôn bán và mất tích , và bị bắt làm việc không ngừng nghỉ trên những con thuyền này ở hồ này , dù chúng không biết bơi .\n",
            "Result: They were going to be out of the family , they were , they were going to be , and they were going to be , and they were not going to know , even though they don &apos;t know .\n",
            "Inference finished! || Total inference time: 0:00:00.633059secs\n",
            "Preprocessing input sentence...\n",
            "Encoding input sentence...\n",
            "Input: Đứa trẻ này 8 tuổi .\n",
            "Result: This children are four years old .\n",
            "Inference finished! || Total inference time: 0:00:00.114825secs\n",
            "Preprocessing input sentence...\n",
            "Encoding input sentence...\n"
          ]
        },
        {
          "output_type": "stream",
          "name": "stderr",
          "text": [
            " 97%|█████████▋| 1226/1268 [09:12<00:13,  3.10it/s]"
          ]
        },
        {
          "output_type": "stream",
          "name": "stdout",
          "text": [
            "Input: Em run rẩy khi thuyền của chúng tôi đến gần , cứ sợ thuyền đè qua cái canoe bé xíu của em .\n",
            "Result: And he was , when our stucked to the , they were going to be , they were very close to the stya .\n",
            "Inference finished! || Total inference time: 0:00:00.425328secs\n",
            "Preprocessing input sentence...\n",
            "Encoding input sentence...\n",
            "Input: Cậu bé khiếp đảm vì sợ rơi xuống nước .\n",
            "Result: He was very happy because the water was down .\n",
            "Inference finished! || Total inference time: 0:00:00.148592secs\n",
            "Preprocessing input sentence...\n",
            "Encoding input sentence...\n"
          ]
        },
        {
          "output_type": "stream",
          "name": "stderr",
          "text": [
            " 97%|█████████▋| 1228/1268 [09:13<00:14,  2.81it/s]"
          ]
        },
        {
          "output_type": "stream",
          "name": "stdout",
          "text": [
            "Input: Những cành cây gãy tụ vào hồ Volta thường vướng vào lưới đánh cá , và những đứa trẻ vừa mệt lử vừa sợ hãi bị đẩy xuống nước để gỡ lưỡi câu .\n",
            "Result: They &apos;re going to be in the series of the stse , and the children are just also sted by the styse , and they &apos;re going to go down to the sty .\n",
            "Inference finished! || Total inference time: 0:00:00.717481secs\n",
            "Preprocessing input sentence...\n",
            "Encoding input sentence...\n",
            "Input: Nhiều em chết đuối .\n",
            "Result: They &apos;re going to die .\n",
            "Inference finished! || Total inference time: 0:00:00.145887secs\n",
            "Preprocessing input sentence...\n",
            "Encoding input sentence...\n"
          ]
        },
        {
          "output_type": "stream",
          "name": "stderr",
          "text": [
            "\r 97%|█████████▋| 1229/1268 [09:13<00:13,  2.93it/s]"
          ]
        },
        {
          "output_type": "stream",
          "name": "stdout",
          "text": [
            "Input: Những gì cậu bé nhớ được , là em bị bắt làm việc ở hồ .\n",
            "Result: What he remembers , is , they &apos;re going to be doing in the same time .\n",
            "Inference finished! || Total inference time: 0:00:00.298316secs\n",
            "Preprocessing input sentence...\n",
            "Encoding input sentence...\n"
          ]
        },
        {
          "output_type": "stream",
          "name": "stderr",
          "text": [
            "\r 97%|█████████▋| 1230/1268 [09:14<00:19,  1.94it/s]"
          ]
        },
        {
          "output_type": "stream",
          "name": "stdout",
          "text": [
            "Input: Quá sợ người chủ , em không dám chạy trốn , và vì bị đối xử tàn tệ từ nhỏ , em tiếp diễn điều đó xuống những nô lệ nhỏ hơn mà em quản lý .\n",
            "Result: They &apos;re not going to be , and they &apos;re not going to go , because they &apos;re going to be , and they &apos;re going to be going to be , and the little little little bits of , and they &apos;re going to be going to be very small .\n",
            "Inference finished! || Total inference time: 0:00:00.915658secs\n",
            "Preprocessing input sentence...\n",
            "Encoding input sentence...\n"
          ]
        },
        {
          "output_type": "stream",
          "name": "stderr",
          "text": [
            " 97%|█████████▋| 1232/1268 [09:15<00:14,  2.45it/s]"
          ]
        },
        {
          "output_type": "stream",
          "name": "stdout",
          "text": [
            "Input: Tôi gặp những bé trai này lúc 5 giờ sáng , khi chúng đang kéo những mẻ lưới cuối cùng , nhưng chúng đã làm việc từ 1 giờ sáng\n",
            "Result: I met these young men , when they were going to be , they were going to be the end of the Internet , but they were doing a half-dimensional .\n",
            "Inference finished! || Total inference time: 0:00:00.460695secs\n",
            "Preprocessing input sentence...\n",
            "Encoding input sentence...\n",
            "Input: trong đêm tối lạnh lẽo gió sương .\n",
            "Result: In the night , the water is going to be the water .\n",
            "Inference finished! || Total inference time: 0:00:00.182388secs\n",
            "Preprocessing input sentence...\n",
            "Encoding input sentence...\n"
          ]
        },
        {
          "output_type": "stream",
          "name": "stderr",
          "text": [
            " 97%|█████████▋| 1234/1268 [09:15<00:11,  3.09it/s]"
          ]
        },
        {
          "output_type": "stream",
          "name": "stdout",
          "text": [
            "Input: Cần lưu ý rằng những chiếc lưới này nặng gần 500kgs khi chúng đầy cá .\n",
            "Result: They &apos;re going to be this , these are very low-scresing , when they &apos;re very much .\n",
            "Inference finished! || Total inference time: 0:00:00.430522secs\n",
            "Preprocessing input sentence...\n",
            "Encoding input sentence...\n",
            "Input: Tôi muốn giới thiệu Kofi với bạn .\n",
            "Result: I want to show you with you .\n",
            "Inference finished! || Total inference time: 0:00:00.102499secs\n",
            "Preprocessing input sentence...\n",
            "Encoding input sentence...\n"
          ]
        },
        {
          "output_type": "stream",
          "name": "stderr",
          "text": [
            "\r 97%|█████████▋| 1235/1268 [09:15<00:08,  3.77it/s]"
          ]
        },
        {
          "output_type": "stream",
          "name": "stdout",
          "text": [
            "Input: Kofi được cứu từ 1 làng chài .\n",
            "Result: They were born from one guy .\n",
            "Inference finished! || Total inference time: 0:00:00.121458secs\n",
            "Preprocessing input sentence...\n",
            "Encoding input sentence...\n"
          ]
        },
        {
          "output_type": "stream",
          "name": "stderr",
          "text": [
            "\r 97%|█████████▋| 1236/1268 [09:16<00:09,  3.44it/s]"
          ]
        },
        {
          "output_type": "stream",
          "name": "stdout",
          "text": [
            "Input: Tôi gặp cậu bé ở khu cứu trợ mà tổ chức Giải phóng Nô lệ phục hồi các nạn nhân bị nô lệ .\n",
            "Result: I met him in the middle of the series of the war that they &apos;re going to be the war of the war .\n",
            "Inference finished! || Total inference time: 0:00:00.344163secs\n",
            "Preprocessing input sentence...\n",
            "Encoding input sentence...\n"
          ]
        },
        {
          "output_type": "stream",
          "name": "stderr",
          "text": [
            " 98%|█████████▊| 1238/1268 [09:17<00:10,  2.79it/s]"
          ]
        },
        {
          "output_type": "stream",
          "name": "stdout",
          "text": [
            "Input: Nơi đây em đang tắm ở giếng , dội những gáo nước to lên đầu , và tin tuyệt vời là , khi bạn và tôi ngồi nói chuyện hôm nay , Kofi đã được đoàn tụ với gia đình , và hay hơn nữa , gia đình em được phát công cụ để kiếm sống và giữ đám trẻ an toàn .\n",
            "Result: So this is going to be in the middle of the water , the first , and the greatest , and the greatest thing is , when you &apos;re sitting at the family , and the family , and more than the children are going to be , and more and more than the children &apos;s family .\n",
            "Inference finished! || Total inference time: 0:00:00.843092secs\n",
            "Preprocessing input sentence...\n",
            "Encoding input sentence...\n",
            "Input: Kofi là hiện thân của khả năng\n",
            "Result: They are the way of the power .\n",
            "Inference finished! || Total inference time: 0:00:00.120001secs\n",
            "Preprocessing input sentence...\n",
            "Encoding input sentence...\n"
          ]
        },
        {
          "output_type": "stream",
          "name": "stderr",
          "text": [
            "\r 98%|█████████▊| 1239/1268 [09:17<00:10,  2.75it/s]"
          ]
        },
        {
          "output_type": "stream",
          "name": "stdout",
          "text": [
            "Input: Em sẽ trở thành người thế nào nếu có ai đó đứng lên và thay đổi cuộc đời em ?\n",
            "Result: What would you be going to be going to be , if you have anyone who would have going to go and go and changed the life ?\n",
            "Inference finished! || Total inference time: 0:00:00.367903secs\n",
            "Preprocessing input sentence...\n",
            "Encoding input sentence...\n"
          ]
        },
        {
          "output_type": "stream",
          "name": "stderr",
          "text": [
            "\r 98%|█████████▊| 1240/1268 [09:18<00:14,  1.92it/s]"
          ]
        },
        {
          "output_type": "stream",
          "name": "stdout",
          "text": [
            "Input: Lái xe trên đường ở Ghana , cũng những đồng nghiệp trong tổ chức Giải phóng Nô lệ , 1 anh bạn thuộc những người theo chủ nghĩa bãi nô đi xe gắn máy bất ngờ tăng tốc lên ngang xe chúng tôi và gõ vào cửa kính .\n",
            "Result: In the street on the street , they also , also in the community of the Indians , a man , a stys that are going to go into the sty , and we &apos;re going to go into the caring , and we &apos;re going to go back to the light .\n",
            "Inference finished! || Total inference time: 0:00:00.879420secs\n",
            "Preprocessing input sentence...\n",
            "Encoding input sentence...\n"
          ]
        },
        {
          "output_type": "stream",
          "name": "stderr",
          "text": [
            "\r 98%|█████████▊| 1241/1268 [09:18<00:12,  2.24it/s]"
          ]
        },
        {
          "output_type": "stream",
          "name": "stdout",
          "text": [
            "Input: Anh ta bảo chúng tôi đi theo trên con đường lầy lội vào rừng ,\n",
            "Result: He said , we &apos;ve got to go on the street , in the forest .\n",
            "Inference finished! || Total inference time: 0:00:00.268947secs\n",
            "Preprocessing input sentence...\n",
            "Encoding input sentence...\n"
          ]
        },
        {
          "output_type": "stream",
          "name": "stderr",
          "text": [
            "\r 98%|█████████▊| 1242/1268 [09:19<00:11,  2.34it/s]"
          ]
        },
        {
          "output_type": "stream",
          "name": "stdout",
          "text": [
            "Input: Ở cuối đường , anh ta giục chúng tôi rời xe , và bảo lái xe đi ngay .\n",
            "Result: In the end , he &apos;s going to go , and they &apos;re going to go back to the car .\n",
            "Inference finished! || Total inference time: 0:00:00.375023secs\n",
            "Preprocessing input sentence...\n",
            "Encoding input sentence...\n"
          ]
        },
        {
          "output_type": "stream",
          "name": "stderr",
          "text": [
            "\r 98%|█████████▊| 1243/1268 [09:19<00:11,  2.12it/s]"
          ]
        },
        {
          "output_type": "stream",
          "name": "stdout",
          "text": [
            "Input: Rồi chỉ vào dấu chân mờ mờ này và nói , &quot; Đây là lối đi , đây là lối đi . Đi đi . &quot;\n",
            "Result: And then just in this , and said , &quot; This is the very , this is the very , this is the very , very , this is the way . &quot;\n",
            "Inference finished! || Total inference time: 0:00:00.572016secs\n",
            "Preprocessing input sentence...\n",
            "Encoding input sentence...\n"
          ]
        },
        {
          "output_type": "stream",
          "name": "stderr",
          "text": [
            "\r 98%|█████████▊| 1244/1268 [09:20<00:14,  1.70it/s]"
          ]
        },
        {
          "output_type": "stream",
          "name": "stdout",
          "text": [
            "Input: Đi theo lối đó , chúng tôi vạch những dây leo chắn lối , và sau khoảng 1 giờ đi bộ trong rừng , dấu vết đã chìm trong nước sau những trận mưa , nên tôi đội dụng cụ chụp hình lên đầu khi chúng tôi đi xuống dòng nước sâu đến ngực .\n",
            "Result: In that case , we put the sts , and after a few weeks , they &apos;ve got across the forest , and then went back in the water , and so I &apos;m going to go back to the water , and then we &apos;re going to go back to the water .\n",
            "Inference finished! || Total inference time: 0:00:00.853936secs\n",
            "Preprocessing input sentence...\n",
            "Encoding input sentence...\n"
          ]
        },
        {
          "output_type": "stream",
          "name": "stderr",
          "text": [
            "\r 98%|█████████▊| 1245/1268 [09:22<00:23,  1.04s/it]"
          ]
        },
        {
          "output_type": "stream",
          "name": "stdout",
          "text": [
            "Input: Sau 2 giờ cuốc bộ nữa , dấu vết quanh co bất ngờ kết thúc tại khu đất trống , và trước mắt chúng tôi là một vùng la liệt những cái hố rộng bằng cả sân bóng đá , chúng chứa đầy những nhân công nô lệ .\n",
            "Result: After two , they &apos;re going to go around , the very around the Earth , and before we &apos;re a very , a very very small , especially , they &apos;re going to be , they &apos;re going to be very , very , especially , they &apos;re very , very , very , , sty , they &apos;re-stycre-sty &apos;re-sty &apos;re-sty &apos\n",
            "Inference finished! || Total inference time: 0:00:02.077503secs\n",
            "Preprocessing input sentence...\n",
            "Encoding input sentence...\n"
          ]
        },
        {
          "output_type": "stream",
          "name": "stderr",
          "text": [
            "\r 98%|█████████▊| 1246/1268 [09:23<00:19,  1.15it/s]"
          ]
        },
        {
          "output_type": "stream",
          "name": "stdout",
          "text": [
            "Input: Nhiều phụ nữ địu con trên lưng trong khi đãi vàng , và lội qua dòng nước nhiễm độc thuỷ ngân .\n",
            "Result: Many women in the back of the back , and through the water , they &apos;re going to be in the water .\n",
            "Inference finished! || Total inference time: 0:00:00.458871secs\n",
            "Preprocessing input sentence...\n",
            "Encoding input sentence...\n",
            "Input: Thuỷ ngân được dùng trong quá trình chiết xuất ."
          ]
        },
        {
          "output_type": "stream",
          "name": "stderr",
          "text": [
            "\r 98%|█████████▊| 1247/1268 [09:23<00:14,  1.50it/s]"
          ]
        },
        {
          "output_type": "stream",
          "name": "stdout",
          "text": [
            "\n",
            "Result: They &apos;re used in the process .\n",
            "Inference finished! || Total inference time: 0:00:00.192740secs\n",
            "Preprocessing input sentence...\n",
            "Encoding input sentence...\n"
          ]
        },
        {
          "output_type": "stream",
          "name": "stderr",
          "text": [
            "\r 98%|█████████▊| 1248/1268 [09:23<00:11,  1.78it/s]"
          ]
        },
        {
          "output_type": "stream",
          "name": "stdout",
          "text": [
            "Input: Những người thợ mỏ này bị bắt làm nô lệ trong hầm mỏ ở 1 khu vực khác của Ghana .\n",
            "Result: These are going to be able to do in a different area of the United States .\n",
            "Inference finished! || Total inference time: 0:00:00.304359secs\n",
            "Preprocessing input sentence...\n",
            "Encoding input sentence...\n"
          ]
        },
        {
          "output_type": "stream",
          "name": "stderr",
          "text": [
            "\r 99%|█████████▊| 1249/1268 [09:24<00:09,  1.94it/s]"
          ]
        },
        {
          "output_type": "stream",
          "name": "stdout",
          "text": [
            "Input: Khi ra khỏi hầm , người họ ướt sũng bởi mồ hôi của chính mình .\n",
            "Result: When they were out of the , they were sted by their own seither .\n",
            "Inference finished! || Total inference time: 0:00:00.395345secs\n",
            "Preprocessing input sentence...\n",
            "Encoding input sentence...\n"
          ]
        },
        {
          "output_type": "stream",
          "name": "stderr",
          "text": [
            "\r 99%|█████████▊| 1250/1268 [09:24<00:09,  1.97it/s]"
          ]
        },
        {
          "output_type": "stream",
          "name": "stdout",
          "text": [
            "Input: Tôi vẫn nhớ khi nhìn vào đôi mắt đỏ quạch , mệt mỏi của họ vì nhiều người đã ở dưới lòng đất tới 72 giờ .\n",
            "Result: I still remember when the red , they &apos;re going to look at their eyes , because many people who are in the Earth .\n",
            "Inference finished! || Total inference time: 0:00:00.479980secs\n",
            "Preprocessing input sentence...\n",
            "Encoding input sentence...\n"
          ]
        },
        {
          "output_type": "stream",
          "name": "stderr",
          "text": [
            "\r 99%|█████████▊| 1251/1268 [09:25<00:11,  1.46it/s]"
          ]
        },
        {
          "output_type": "stream",
          "name": "stdout",
          "text": [
            "Input: Những cái hầm sâu tới cả trăm mét , họ vác lên những chiếc túi đá nặng trĩu để chuyển chúng tới khu vực khác , nơi đá được nghiền ra để đãi lấy vàng .\n",
            "Result: They &apos;re going to be a hundred percent of they &apos;re going to go to the ststs of the ststy , where they &apos;re going to go to the same place , where they &apos;re going to go to the same .\n",
            "Inference finished! || Total inference time: 0:00:01.081701secs\n",
            "Preprocessing input sentence...\n",
            "Encoding input sentence...\n"
          ]
        },
        {
          "output_type": "stream",
          "name": "stderr",
          "text": [
            "\r 99%|█████████▊| 1252/1268 [09:26<00:10,  1.58it/s]"
          ]
        },
        {
          "output_type": "stream",
          "name": "stdout",
          "text": [
            "Input: Nhìn qua , công trường đập đá có vẻ đầy những người khoẻ mạnh , nhưng khi nhìn lại gần , có những nhiều kém may mắn hơn làm việc trong tình trạng khắc nghiệt , có cả trẻ em .\n",
            "Result: Look at the school , the school is very health , but when they look at more than more than the very much more than the age of the age of the age of children .\n",
            "Inference finished! || Total inference time: 0:00:00.501691secs\n",
            "Preprocessing input sentence...\n",
            "Encoding input sentence...\n"
          ]
        },
        {
          "output_type": "stream",
          "name": "stderr",
          "text": [
            "\r 99%|█████████▉| 1253/1268 [09:26<00:09,  1.65it/s]"
          ]
        },
        {
          "output_type": "stream",
          "name": "stdout",
          "text": [
            "Input: Họ đều là nạn nhân của tổn thương , bệnh tật và bạo lực .\n",
            "Result: They &apos;re all they &apos;re they &apos;re all the disease , they &apos;re going to be the disease and they &apos;re going to be the disease .\n",
            "Inference finished! || Total inference time: 0:00:00.537701secs\n",
            "Preprocessing input sentence...\n",
            "Encoding input sentence...\n"
          ]
        },
        {
          "output_type": "stream",
          "name": "stderr",
          "text": [
            "\r 99%|█████████▉| 1254/1268 [09:27<00:09,  1.53it/s]"
          ]
        },
        {
          "output_type": "stream",
          "name": "stdout",
          "text": [
            "Input: Thực tế , nhiều khả năng người cơ bắp này cuối cùng sẽ giống người này , bị bệnh lao hành hạ và nhiễm độc thuỷ ngân trong vài năm nữa .\n",
            "Result: In fact , many of the this , they &apos;re going to be like this , they &apos;re going to be like this , they &apos;re going to be able to be able to be very much more likely to be in the last year .\n",
            "Inference finished! || Total inference time: 0:00:00.756674secs\n",
            "Preprocessing input sentence...\n",
            "Encoding input sentence...\n"
          ]
        },
        {
          "output_type": "stream",
          "name": "stderr",
          "text": [
            "\r 99%|█████████▉| 1255/1268 [09:27<00:07,  1.81it/s]"
          ]
        },
        {
          "output_type": "stream",
          "name": "stdout",
          "text": [
            "Input: Đây là Manuru . Khi cha mất , anh ta được người chú đưa đến khu mỏ làm việc cùng .\n",
            "Result: This is the Osts . When he was going to be the people who were going to put the same .\n",
            "Inference finished! || Total inference time: 0:00:00.308235secs\n",
            "Preprocessing input sentence...\n",
            "Encoding input sentence...\n"
          ]
        },
        {
          "output_type": "stream",
          "name": "stderr",
          "text": [
            "\r 99%|█████████▉| 1256/1268 [09:29<00:10,  1.16it/s]"
          ]
        },
        {
          "output_type": "stream",
          "name": "stdout",
          "text": [
            "Input: Khi người chú mất , Manuru kế thừa món nợ của chú , và bị buộc làm nô lệ trong khu mỏ này lâu hơn nữa .\n",
            "Result: When they &apos;re going to kill , the sts of the stse , they &apos;re going to be , and they &apos;re going to be , and they &apos;re going to be going to be , and they &apos;re going to be going to be , and they &apos;re going to be more like , and they &apos;re , and they &apos;re , and they &apos;re , and they &apos;re , and they &apos;re , and they\n",
            "Inference finished! || Total inference time: 0:00:01.580202secs\n",
            "Preprocessing input sentence...\n",
            "Encoding input sentence...\n"
          ]
        },
        {
          "output_type": "stream",
          "name": "stderr",
          "text": [
            "\r 99%|█████████▉| 1257/1268 [09:30<00:09,  1.22it/s]"
          ]
        },
        {
          "output_type": "stream",
          "name": "stdout",
          "text": [
            "Input: Khi tôi gặp , anh ta đã làm việc 14 năm ở khu mỏ , và vết thương ở chân mà bạn thấy đây là từ 1 tai nạn ở mỏ , một chân bị thương nặng đến nỗi bác sĩ nói phải cưa đi .\n",
            "Result: When I met , he was working in the last year , and the stin , the stse in the middle of the , which is a very , a very famous , a stya , a sty stse .\n",
            "Inference finished! || Total inference time: 0:00:00.710869secs\n",
            "Preprocessing input sentence...\n",
            "Encoding input sentence...\n"
          ]
        },
        {
          "output_type": "stream",
          "name": "stderr",
          "text": [
            "\r 99%|█████████▉| 1258/1268 [09:30<00:06,  1.44it/s]"
          ]
        },
        {
          "output_type": "stream",
          "name": "stdout",
          "text": [
            "Input: Trên hết , Manuru bị bệnh lao , nhưng vẫn bị bắt làm việc ngày qua ngày tại hầm mỏ đó .\n",
            "Result: In all , the stse , they were still , but still , there was still going to be the day at the day .\n",
            "Inference finished! || Total inference time: 0:00:00.396793secs\n",
            "Preprocessing input sentence...\n",
            "Encoding input sentence...\n"
          ]
        },
        {
          "output_type": "stream",
          "name": "stderr",
          "text": [
            " 99%|█████████▉| 1260/1268 [09:31<00:04,  1.88it/s]"
          ]
        },
        {
          "output_type": "stream",
          "name": "stdout",
          "text": [
            "Input: Dù vậy , anh ta vẫn mơ ước được tự do được đi học với sự giúp đỡ của những nhà hoạt động địa phương như tổ chức Giải phóng Nô lệ , và quyết tâm như thế này , hiện lên trên khuôn mặt của những người lạ thường , khiến tôi ngập tràn sự nể phục .\n",
            "Result: And so he was still , he was going to learn to learn the reason of the community of the governments like the recing the stya , and they decided to go on this , the sty were going to be , and they were very bad .\n",
            "Inference finished! || Total inference time: 0:00:00.717955secs\n",
            "Preprocessing input sentence...\n",
            "Encoding input sentence...\n",
            "Input: Tôi muốn đưa nô lệ ra ánh sáng .\n",
            "Result: I want to take the lights of light .\n",
            "Inference finished! || Total inference time: 0:00:00.128927secs\n",
            "Preprocessing input sentence...\n",
            "Encoding input sentence...\n"
          ]
        },
        {
          "output_type": "stream",
          "name": "stderr",
          "text": [
            "\r 99%|█████████▉| 1261/1268 [09:32<00:04,  1.69it/s]"
          ]
        },
        {
          "output_type": "stream",
          "name": "stdout",
          "text": [
            "Input: Khi làm việc trong lãnh vực này , tôi mang theo rất nhiều nến , với sự giúp đỡ của người phiên dịch , tôi truyền đạt với những người mà mình chụp hình rằng tôi muốn soi sáng câu chuyện và hoàn cảnh của họ , rồi khi họ và tôi được an toàn tôi chụp những tấm hình này .\n",
            "Result: When I worked in this case , I was very much , with a lot of people , they were going to help the people who wanted to be also like the story that they wanted to be , and when they were very , and when they were very small .\n",
            "Inference finished! || Total inference time: 0:00:00.718775secs\n",
            "Preprocessing input sentence...\n",
            "Encoding input sentence...\n"
          ]
        },
        {
          "output_type": "stream",
          "name": "stderr",
          "text": [
            "\r100%|█████████▉| 1262/1268 [09:32<00:02,  2.05it/s]"
          ]
        },
        {
          "output_type": "stream",
          "name": "stdout",
          "text": [
            "Input: Họ biết hình của họ sẽ được xem bởi những người ở ngoài kia , như bạn\n",
            "Result: They know their images will be seeed by the other people , like you .\n",
            "Inference finished! || Total inference time: 0:00:00.244898secs\n",
            "Preprocessing input sentence...\n",
            "Encoding input sentence...\n"
          ]
        },
        {
          "output_type": "stream",
          "name": "stderr",
          "text": [
            "\r100%|█████████▉| 1263/1268 [09:32<00:02,  2.17it/s]"
          ]
        },
        {
          "output_type": "stream",
          "name": "stdout",
          "text": [
            "Input: Tôi muốn họ biết rằng chúng ta sẽ làm chứng cho họ , và ta sẽ làm bất cứ gì có thể để giúp họ thay đổi cuộc đời .\n",
            "Result: I want to know that we &apos;re going to make them , and we &apos;re going to make anything to help them change the life .\n",
            "Inference finished! || Total inference time: 0:00:00.386507secs\n",
            "Preprocessing input sentence...\n",
            "Encoding input sentence...\n"
          ]
        },
        {
          "output_type": "stream",
          "name": "stderr",
          "text": [
            "\r100%|█████████▉| 1264/1268 [09:33<00:02,  1.51it/s]"
          ]
        },
        {
          "output_type": "stream",
          "name": "stdout",
          "text": [
            "Input: Tôi thực sự tin , nếu ta coi người khác như những người đồng loại , thì sẽ rất khó để khoan hồng những tội ác như nạn nô lệ .\n",
            "Result: I really believe , if people look like people , it &apos;s very difficult to get the very difficulty to get the very , like the very , like they &apos;re very , like they &apos;re very very , like they &apos;re very very , like they &apos;re very very , like they &apos;re very very very , as well .\n",
            "Inference finished! || Total inference time: 0:00:01.124431secs\n",
            "Preprocessing input sentence...\n",
            "Encoding input sentence...\n"
          ]
        },
        {
          "output_type": "stream",
          "name": "stderr",
          "text": [
            "\r100%|█████████▉| 1265/1268 [09:34<00:01,  1.61it/s]"
          ]
        },
        {
          "output_type": "stream",
          "name": "stdout",
          "text": [
            "Input: Những tấm hình không phải là về bản thân vấnđề . Chúng là về con người , người thật , như bạn và tôi , tất cả đều xứng đáng hưởng quyền bằng nhau , danh dự và tôn trọng như nhau trong đời .\n",
            "Result: They are not about the problem . They are , and as you &apos;re all , and I all , all of the most important , and all of the sty are in the life .\n",
            "Inference finished! || Total inference time: 0:00:00.526217secs\n",
            "Preprocessing input sentence...\n",
            "Encoding input sentence...\n"
          ]
        },
        {
          "output_type": "stream",
          "name": "stderr",
          "text": [
            "\r100%|█████████▉| 1266/1268 [09:34<00:01,  1.73it/s]"
          ]
        },
        {
          "output_type": "stream",
          "name": "stdout",
          "text": [
            "Input: Không có ngày nào mà tôi không nghĩ về những người tuyệt vời bị vùi dập này . Tôi có vinh dự to lớn được gặp gỡ họ .\n",
            "Result: There &apos;s no day I don &apos;t think about the great people who are going to be a big , I have a big big big , and I have a lot of them .\n",
            "Inference finished! || Total inference time: 0:00:00.463473secs\n",
            "Preprocessing input sentence...\n",
            "Encoding input sentence...\n"
          ]
        },
        {
          "output_type": "stream",
          "name": "stderr",
          "text": [
            "100%|██████████| 1268/1268 [09:36<00:00,  2.20it/s]"
          ]
        },
        {
          "output_type": "stream",
          "name": "stdout",
          "text": [
            "Input: Tôi hi vọng những tấm hình sẽ đánh thức một nguồn sức mạnh trong người xem , những người như bạn , và hi vọng sức mạnh đó sẽ châm ngọn lửa , ngọn lửa đó sẽ chiếu rọi vào nạn nô lệ , vì không có ánh sáng đó , con quái vật của ngục tù sẽ có thể tiếp tục sống trong bóng tối .\n",
            "Result: I hope to get the sts of the power of people , and you &apos;re going to be , and you &apos;re going to be going to be , and going to be going to be , because there &apos;s no , because there &apos;s no going to live in the middle of the , the very , in the very , in the middle of the , the very , in the , the , the , the very very very very , the , the sty &apos;lled , in the , in the\n",
            "Inference finished! || Total inference time: 0:00:01.812759secs\n",
            "Preprocessing input sentence...\n",
            "Encoding input sentence...\n",
            "Input: Cảm ơn rất nhiều .\n",
            "Result: Thank you very much .\n",
            "Inference finished! || Total inference time: 0:00:00.118956secs\n"
          ]
        },
        {
          "output_type": "stream",
          "name": "stderr",
          "text": [
            "\n"
          ]
        }
      ]
    },
    {
      "cell_type": "code",
      "source": [
        "bleu_score"
      ],
      "metadata": {
        "colab": {
          "base_uri": "https://localhost:8080/"
        },
        "id": "q_Tp22HEcCDt",
        "outputId": "9dca057c-dfc0-4aa4-9e79-1c53d59f8683"
      },
      "execution_count": null,
      "outputs": [
        {
          "output_type": "execute_result",
          "data": {
            "text/plain": [
              "BLEU = 11.17 36.2/14.9/7.4/3.9 (BP = 1.000 ratio = 1.266 hyp_len = 35811 ref_len = 28297)"
            ]
          },
          "metadata": {},
          "execution_count": 18
        }
      ]
    }
  ],
  "metadata": {
    "colab": {
      "provenance": [],
      "collapsed_sections": [
        "xz6JwxbK0mo1"
      ],
      "gpuClass": "premium",
      "include_colab_link": true
    },
    "kernelspec": {
      "display_name": "Python 3",
      "name": "python3"
    },
    "language_info": {
      "name": "python"
    }
  },
  "nbformat": 4,
  "nbformat_minor": 0
}